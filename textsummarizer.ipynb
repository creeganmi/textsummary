{
 "cells": [
  {
   "cell_type": "markdown",
   "metadata": {},
   "source": [
    "# Text Summary & Scoring Project\n",
    "##### Michael Creegan, Yungfeng Dai, Hong Gyu Ji, Ziling Zeng\n",
    "##### Python for Data Analysis\n",
    "##### Columbia University"
   ]
  },
  {
   "cell_type": "markdown",
   "metadata": {},
   "source": [
    "# Abstract\n",
    "\n",
    "Summarization is a common problem as we all have mountains of data in datalakes and on the web. Summarization of data can be very useful to see whether or not something is what you are loooking for or whether it's worth reading. Another use case could could be to store summaries of articles and store it in the backend and run downstream tasks on that data. It could also be useful to understand whether or not that summary is \"good\" or not that indicates the quality of the summary. \n",
    "\n",
    "To explore this topic, we will leverage the extreme summarization dataset from which consists of BBC articles accompanying single sentence summaries. Each article is prefaced with an introductory sentence (which is a summary) that is professionally written, typically by the author of the article.\n",
    "\n",
    "To summarize articles, we will use an encoder-decoder transformer (sequence-to-sequence) which combines  decodes and encoders because we need to perform both input and output tasks (taking in text and then generating a summary). We selected this type of transformer because the encoder accepts inputs (text) and computes a high level representation of those inputs  which are then passed to the decoder to generate a prediction output (summary). This has advantages over using a standalone encoder like BERT/ALBERT/ELECTRA/RoBERTA/DistilBERT to name a few because  encoders are pre-trained by filling randomly masked words in sentences and therefore are better suited for output tasks. Using a standalone decoder like gpt2 would also not be optimal because decoders are trained to guess the next word in a sequence (left or right context aka does not have context on one side of the sequence) and therefore are better suited at generating text but not necessarily taking in text because of the hidden context limitations. \n",
    "\n",
    "Our scoring will compare the output of the BART encoder-decoder model to the professionally written summaries in the XSUM dataset to see how similar a machine generated summary is to a professional one."
   ]
  },
  {
   "cell_type": "markdown",
   "metadata": {},
   "source": [
    "# Importing Transformers & Dependencies"
   ]
  },
  {
   "cell_type": "code",
   "execution_count": 1,
   "metadata": {},
   "outputs": [],
   "source": [
    "import pandas as pd\n",
    "import numpy as np\n",
    "from transformers import BartTokenizer, BartForConditionalGeneration, BartConfig\n",
    "from datasets import load_dataset, load_metric\n",
    "from sentence_transformers import SentenceTransformer, util\n",
    "import random\n",
    "from IPython.display import display, HTML"
   ]
  },
  {
   "cell_type": "markdown",
   "metadata": {},
   "source": [
    "# Load XSUM Dataset"
   ]
  },
  {
   "cell_type": "code",
   "execution_count": 2,
   "metadata": {},
   "outputs": [
    {
     "name": "stderr",
     "output_type": "stream",
     "text": [
      "Using custom data configuration default\n",
      "Reusing dataset xsum (C:\\Users\\creeg\\.cache\\huggingface\\datasets\\xsum\\default\\1.2.0\\32c23220eadddb1149b16ed2e9430a05293768cfffbdfd151058697d4c11f934)\n",
      "100%|██████████| 3/3 [00:00<00:00, 48.35it/s]\n"
     ]
    }
   ],
   "source": [
    "xsum = load_dataset('xsum')"
   ]
  },
  {
   "cell_type": "markdown",
   "metadata": {},
   "source": [
    "### We can see that the dataset is a \"DatasetDict\" where the keys are strings that correspond to the split and the values are the dataset object. In the XSUM dataset, the the keys are \"training\", \"validation\", and \"test\" with values corresponding to \"document\", \"summary\", and \"id\" (columns)"
   ]
  },
  {
   "cell_type": "code",
   "execution_count": 3,
   "metadata": {},
   "outputs": [
    {
     "data": {
      "text/plain": [
       "DatasetDict({\n",
       "    train: Dataset({\n",
       "        features: ['document', 'summary', 'id'],\n",
       "        num_rows: 204045\n",
       "    })\n",
       "    validation: Dataset({\n",
       "        features: ['document', 'summary', 'id'],\n",
       "        num_rows: 11332\n",
       "    })\n",
       "    test: Dataset({\n",
       "        features: ['document', 'summary', 'id'],\n",
       "        num_rows: 11334\n",
       "    })\n",
       "})"
      ]
     },
     "execution_count": 3,
     "metadata": {},
     "output_type": "execute_result"
    }
   ],
   "source": [
    "xsum"
   ]
  },
  {
   "cell_type": "markdown",
   "metadata": {},
   "source": [
    "### View a record of the underlying data"
   ]
  },
  {
   "cell_type": "code",
   "execution_count": 4,
   "metadata": {},
   "outputs": [
    {
     "data": {
      "text/plain": [
       "{'document': 'Prison Link Cymru had 1,099 referrals in 2015-16 and said some ex-offenders were living rough for up to a year before finding suitable accommodation.\\nWorkers at the charity claim investment in housing would be cheaper than jailing homeless repeat offenders.\\nThe Welsh Government said more people than ever were getting help to address housing problems.\\nChanges to the Housing Act in Wales, introduced in 2015, removed the right for prison leavers to be given priority for accommodation.\\nPrison Link Cymru, which helps people find accommodation after their release, said things were generally good for women because issues such as children or domestic violence were now considered.\\nHowever, the same could not be said for men, the charity said, because issues which often affect them, such as post traumatic stress disorder or drug dependency, were often viewed as less of a priority.\\nAndrew Stevens, who works in Welsh prisons trying to secure housing for prison leavers, said the need for accommodation was \"chronic\".\\n\"There\\'s a desperate need for it, finding suitable accommodation for those leaving prison there is just a lack of it everywhere,\" he said.\\n\"It could take six months to a year, without a lot of help they could be on the streets for six months.\\n\"When you think of the consequences of either being on the street, especially with the cold weather at the moment or you may have a roof over your head, sometimes there is only one choice.\"\\nMr Stevens believes building more one-bedroom flats could help ease the problem.\\n\"The average price is a hundred pounds a week to keep someone in a rented flat, prison is a lot more than that so I would imagine it would save the public purse quite a few pounds,\" he said.\\nOfficial figures show 830 one-bedroom properties were built in the year to March 2016, of an overall total of 6,900 new properties in Wales.\\nMarc, 50, who has been in and out of prison for the past 20 years for burglary offences, said he struggled to find accommodation each time he was released.\\nHe said he would ask himself: \"Where am I going to stay? Where am I going to live? Have I got somewhere where I can see my daughter.\"\\n\"You\\'re put out among the same sort of people doing the same sort of thing, and it\\'s difficult, it\\'s difficult to get away from it. It\\'s like every man for himself, there\\'s nothing.\"\\nMarc has now found stable accommodation with homeless charity Emmaus and said it had been life changing.\\n\"You feel safe, you got hot food, you\\'ve got company of people in similar situations to yourself but all dealing with different issues. It\\'s a constructive, helpful atmosphere,\" he said.\\nTom Clarke, chief executive of Emmaus South Wales, agreed there was not enough support available.\\n\"We do still see [people] homeless on the streets, so clearly they haven\\'t got accommodation and haven\\'t got provision,\" he said.\\n\"I think the key is connecting people with the services they need. I don\\'t delude myself that Emmaus can offer a one size fits all for everyone, we can\\'t.\\n\"But there must be other opportunities and given suitable encouragement I believe that can and should happen.\"\\nA Welsh Government spokesman said the national pathway for homeless services to children, young people and adults in the secure estate had prevented many people from losing their home whilst serving their prison sentence.\\nIt added there were already significant demands for one-bedroom flats across the public and private sector and it was providing 20,000 new affordable homes in the next five years.',\n",
       " 'summary': 'There is a \"chronic\" need for more housing for prison leavers in Wales, according to a charity.',\n",
       " 'id': '38264402'}"
      ]
     },
     "execution_count": 4,
     "metadata": {},
     "output_type": "execute_result"
    }
   ],
   "source": [
    "xsum['test'][0]"
   ]
  },
  {
   "cell_type": "markdown",
   "metadata": {},
   "source": [
    "### We can use a function to view a random selection of articles and summaries in the training section (largest section) to get a more accurate depiction of what the data looks like in an easier to read format"
   ]
  },
  {
   "cell_type": "code",
   "execution_count": 5,
   "metadata": {},
   "outputs": [],
   "source": [
    "def display_function(xsum, num_examples=5):\n",
    "    assert num_examples <= len(xsum)                # limit to number of records in the xsum\n",
    "    \n",
    "    selections = []                                 # create empty list to put the records into \n",
    "    \n",
    "    for _ in range(num_examples):                   # we can use _ here in place of a variable name because we don't care how many time sthe loop is run\n",
    "        selection = random.randint(0, len(xsum) - 1)\n",
    "        while selection in selections:\n",
    "            selection = random.randint(0, len(xsum) - 1)\n",
    "        selections.append(selection)\n",
    "\n",
    "    xsumPd = pd.DataFrame(xsum[selections])\n",
    "    for column, typ in xsum.features.items():\n",
    "        display(HTML(xsumPd.to_html()))"
   ]
  },
  {
   "cell_type": "markdown",
   "metadata": {},
   "source": [
    "### Our end goal is to create accurate summaries using this model so we need to remove the text characters that do not provide any contextual value. We can also see that there are characters in the document that are not present in the summary which could cause discrepencies between our machine generated summary vs the professional human generated one. We need to remove new line characters that are present in the document column but not the summary column"
   ]
  },
  {
   "cell_type": "code",
   "execution_count": 6,
   "metadata": {},
   "outputs": [
    {
     "data": {
      "text/html": [
       "<table border=\"1\" class=\"dataframe\">\n",
       "  <thead>\n",
       "    <tr style=\"text-align: right;\">\n",
       "      <th></th>\n",
       "      <th>document</th>\n",
       "      <th>summary</th>\n",
       "      <th>id</th>\n",
       "    </tr>\n",
       "  </thead>\n",
       "  <tbody>\n",
       "    <tr>\n",
       "      <th>0</th>\n",
       "      <td>Shorter NHS waiting times, free care for the elderly and improved school standards were among the policies unveiled by leader Leanne Wood.\\nShe said 17 years of \"unbroken Labour rule\" had brought \"economic stagnation\" and declining public services.\\n\"People in Wales are crying out for competent leadership,\" Ms Wood added.\\nPlaid Cymru had ministers in a coalition government led by Labour from 2007 to 2011, but lost seats and power at the election which ended that four-year term.\\nThe party unveiled nine key policies to support its ambitions to boost the nation's health, education and economy, including:\\nMs Wood said Plaid Cymru had been \"listening to what the people of Wales want\" over the last five years.\\n\"Their hopes and frustrations have informed our most ambitious programme for government to date,\" she said.\\n\"At the heart of this programme lies our three ambitions - to create a well, well-educated and wealthier Wales.\"\\nPlaid Cymru wanted \"a fairer, more prosperous nation which can stand on its own two feet\", she added.\\nMs Wood denied the party was making unfunded spending announcements, saying its tuition fee and health merger policies would save money, while a tax on sugary drinks would raise extra cash.\\nPlaid Cymru has mastered the art of the smooth campaign launch - the challenge for the party now is to make sure that professionalism turns into actual votes come polling day.\\nThe party is not short of policies, and thanks to the TV debates in last year's general election its leader Leanne Wood has a higher media profile than some of her predecessors.\\nBut the question is - how to get her and her colleagues into power?\\nPlaid dreams of following the SNP route: largest party and minority government in 2007, then a majority in the Scottish parliament in 2011.\\nIs that a feasible outcome for Plaid? Leaping from third place to first in terms of assembly seats may be asking too much - hence the talk of coalitions or deals with other parties.\\nTalks with the Lib Dems and Greens have already fizzled out - and the Tories are making hay with the idea Plaid will simply team up with Labour after polling day.\\nHence an increased emphasis on Labour's perceived failings in office at today's Plaid launch.\\nBut there is another problem - the rise of UKIP means Plaid is no longer the default option for disgruntled supporters of other parties.\\nAll of which means Plaid needs to work harder than ever to achieve the sorts of success it enjoyed in the first assembly elections way back in 1999.</td>\n",
       "      <td>Plaid Cymru has pledged to create a \"well, well-educated, wealthier Wales\" as the party launches its assembly election campaign.</td>\n",
       "      <td>35586807</td>\n",
       "    </tr>\n",
       "    <tr>\n",
       "      <th>1</th>\n",
       "      <td>The Blues, who sacked Mourinho for a second time last year, led after just 30 seconds when Pedro capitalised on slack defending to roll in.\\nGary Cahill smashed in the second after United allowed Eden Hazard's corner to bounce in their box.\\nUnited offered little sign of making a comeback, falling further behind when Hazard drilled in a precise 15-yard strike.\\nN'Golo Kante skipped around a static defence to slot in and seal victory as Chelsea moved within a point of Premier League leaders Manchester City.\\nThe comprehensive win lifted the Blues above Tottenham into fourth, with just one point separating the top five.\\nUnited stay seventh as the gap between them and the early pacesetters widens to six points, with almost a quarter of the season gone.\\nAnalysis: Why it is too early to write Man Utd off\\nRelive how Chelsea ruined Mourinho's return\\nMourinho was making his first return to Stamford Bridge since he was sacked in December 2015, leaving when the defending champions were 16th in the Premier League.\\nThe Portuguese boss said before the match he was unsure - and also unconcerned - about the reception he would be given by the home fans.\\nUnsurprisingly, for a man who delivered seven trophies in his two spells at the club, it turned out to be largely positive.\\nHundreds gathered to greet Mourinho as he walked off the United team bus, while he received a warm embrace from former skipper John Terry before kick-off.\\nThat is where the Blues' hospitality ended. Instead, it was his United team who provided the generosity.\\nAnd the home fans could not resist a cheeky dig at their former boss - chanting \"you're not special anymore\" to the self-proclaimed Special One.\\nMourinho said before the game he would not \"celebrate like a crazy kid\" if his new team scored at Stamford Bridge.\\nUnfortunately for him, there was little sign of that resolve being put to the test as Chelsea capitalised on his side's defensive deficiencies.\\nUnited were ragged at the back, ripped open by Pedro's opener without even having a touch and left flapping from then on.\\nAnd the severity of the scoreline was emphasised by some startling statistics:\\nThe tone was set when Chris Smalling hesitated in dealing with a long ball, allowing Pedro to nip in and round David de Gea - and United never recovered.\\nThe basic ability to defend a set-piece eluded them for Chelsea's second, two deflected touches helping the ball on to the unmarked Cahill, who lashed in.\\nUnited, without the injured Wayne Rooney, looked unrecognisable from the side that dug in to keep a clean sheet at Anfield on Monday. They looked unrecognisable from any Mourinho side, always expected to be well organised and difficult to break down.\\nA stony-faced Mourinho watched his static defenders allow Hazard and then Kante to skip into space and score after the break, leaving new Chelsea manager Antonio Conte lapping up the acclaim of a home crowd revelling in their former boss's misfortune.\\n\"We made incredible defensive mistakes,\" said Mourinho. \"And then you pay for that.\"\\nFormer Italy manager Antonio Conte was tasked with restoring Chelsea's fortunes after a chastening season, which started under Mourinho's leadership and ended in the defending champions finishing 10th.\\nConte's start has not been smooth, however.\\nBack-to-back league defeats against Liverpool and Arsenal last month led to some criticism, forcing him to laugh off rumours of his imminent sacking.\\nBut, after making a tactical switch to a 3-5-2 formation following those defeats, Conte has seen his team flourish.\\nThree successive victories have pushed the Blues back among the frontrunners, with the Stamford Bridge crowd showing their appreciation for the new manager as he urged them to make more noise during the second half.\\n\"It is important for the manager to find the right solution for your team,\" said Conte on his team's recent revival.\\n\"It was not a good situation when Chelsea conceded in every game - we change and now we are playing good football.\"\\nChelsea manager Antonio Conte:\\n\"We made a fantastic start. We scored the early goal but we continued to play good football, intensity and possession, create many chances. Today we didn't concede, which was important. It was a type of win that increases the confidence.\\n\"We wanted to show our ambition and give the satisfaction to our fans and show last season was very bad.\"\\nManchester United manager Jose Mourinho:\\n\"You come with a strategy, you cannot concede a goal in the way we did.\\n\"We were coming to have an offensive approach. We wanted to create chances; we showed that after the 1-0. The second and the third were counter-attack goals.\\n\"It is one of those days when you give the advantage to opponents by doing nothing.\\n\"In terms of points, we got zero points, we lose three points. We are six points from the top, three from the top four, we now need to win matches. We need to win our matches now, which are not easy.\\n\"We need to win to close that gap - after these last three matches, we made two out of nine. We now need points.\"\\nNext comes the not-so-small matter of midweek derby matches for both teams.\\nChelsea travel across London to face West Ham in the EFL Cup fourth round on Wednesday (19:45 BST), while Manchester United host neighbours City at Old Trafford in the same competition on the same day (20:00 BST).\\nMatch ends, Chelsea 4, Manchester United 0.\\nSecond Half ends, Chelsea 4, Manchester United 0.\\nFoul by Ander Herrera (Manchester United).\\nNemanja Matic (Chelsea) wins a free kick in the defensive half.\\nCorner,  Manchester United. Conceded by Thibaut Courtois.\\nAttempt saved. Marcos Rojo (Manchester United) left footed shot from outside the box is saved in the top right corner. Assisted by Ander Herrera.\\nAttempt blocked. Zlatan Ibrahimovic (Manchester United) left footed shot from the centre of the box is blocked. Assisted by Marcos Rojo.\\nAttempt saved. Nathaniel Chalobah (Chelsea) right footed shot from outside the box is saved in the bottom left corner. Assisted by N'Golo Kanté.\\nOffside, Chelsea. Marcos Alonso tries a through ball, but Michy Batshuayi is caught offside.\\nAttempt blocked. Victor Moses (Chelsea) left footed shot from the right side of the box is blocked. Assisted by Willian.\\nFoul by Antonio Valencia (Manchester United).\\nMarcos Alonso (Chelsea) wins a free kick on the left wing.\\nFoul by Ander Herrera (Manchester United).\\nNathaniel Chalobah (Chelsea) wins a free kick in the defensive half.\\nFoul by Anthony Martial (Manchester United).\\nCésar Azpilicueta (Chelsea) wins a free kick in the defensive half.\\nAttempt blocked. Paul Pogba (Manchester United) right footed shot from outside the box is blocked. Assisted by Anthony Martial.\\nFoul by Marcos Rojo (Manchester United).\\nCésar Azpilicueta (Chelsea) wins a free kick in the defensive half.\\nAntonio Valencia (Manchester United) wins a free kick in the defensive half.\\nFoul by Michy Batshuayi (Chelsea).\\nCorner,  Manchester United. Conceded by Thibaut Courtois.\\nAttempt saved. Zlatan Ibrahimovic (Manchester United) right footed shot from the centre of the box is saved in the bottom right corner. Assisted by Juan Mata.\\nFoul by Zlatan Ibrahimovic (Manchester United).\\nDavid Luiz (Chelsea) wins a free kick in the defensive half.\\nSubstitution, Chelsea. Michy Batshuayi replaces Diego Costa.\\nSubstitution, Chelsea. Willian replaces Eden Hazard.\\nFoul by Anthony Martial (Manchester United).\\nNemanja Matic (Chelsea) wins a free kick in the defensive half.\\nPaul Pogba (Manchester United) is shown the yellow card for a bad foul.\\nFoul by Paul Pogba (Manchester United).\\nNemanja Matic (Chelsea) wins a free kick in the defensive half.\\nAttempt saved. Diego Costa (Chelsea) left footed shot from the left side of the box is saved in the centre of the goal. Assisted by N'Golo Kanté.\\nAttempt missed. Zlatan Ibrahimovic (Manchester United) right footed shot from the centre of the box is too high. Assisted by Daley Blind with a cross following a set piece situation.\\nAnthony Martial (Manchester United) wins a free kick on the left wing.\\nFoul by Victor Moses (Chelsea).\\nAttempt missed. Paul Pogba (Manchester United) right footed shot from outside the box misses to the right. Assisted by Anthony Martial.\\nSubstitution, Chelsea. Nathaniel Chalobah replaces Pedro.\\nGoal!  Chelsea 4, Manchester United 0. N'Golo Kanté (Chelsea) right footed shot from the centre of the box to the bottom left corner. Assisted by Pedro.\\nAttempt missed. Ander Herrera (Manchester United) left footed shot from outside the box is high and wide to the left.</td>\n",
       "      <td>Jose Mourinho was humiliated on his return to Chelsea as his former club blew away his Manchester United side at Stamford Bridge.</td>\n",
       "      <td>37670362</td>\n",
       "    </tr>\n",
       "    <tr>\n",
       "      <th>2</th>\n",
       "      <td>It is their first competitive action since the ICC World Twenty20 in March, when they beat Hong Kong to record a first win at a major tournament.\\n\"Winning that last game against Hong Kong was pretty crucial for us,\" batsman Coetzer told BBC Scotland.\\n\"Coming away with that against our name was hugely important.\"\\nThat eight-wicket triumph took its time too - 21 attempts over 18 years - and the 32-year-old thinks more fixtures against higher-ranking teams like Afghanistan are vital if they are to continue building on that hard-fought success.\\n\"The schedule is very bare at the moment and, if you are trying to produce players to compete against the top 12 nations in the world, that's going to be very hard to do if you're not playing any cricket,\" said Coetzer.\\nScotland and Afghanistan met during the World T20 in Nagpur in March, when this week's visitors secured a 14-run victory along with qualification from the group stages, where they also beat the eventual winners West Indies.\\nBut Coetzer believes the Scots are coming at this series, being played at The Grange in Edinburgh on Monday and Wednesday, with the strongest squad they have probably ever had.\\n\"We've got some options with the bat and some more options with the ball now, so it's really given us a more rounded squad,\" said the vice-captain.\\nAnd, after that win over Hong Kong the team, led by Preston Mommsen, will be \"quietly confident\" they can put pressure on the visitors in what he thinks will be a \"tightly contested\" series.\\nWith the temperature in Afghanistan hitting the mid-30s, Coetzer believes there could be an advantage against the team ranked 10th in the world.\\n\"At training, they all turned up well wrapped up as it's only 13 degrees and I guess that's not what they're used to,\" he said.\\n\"The pitch conditions too, the wicket may well suit our players and hopefully things like that will go in our favour - you've got to make your home ground a fortress wherever that is and that's The Grange at the minute.\"\\nSomeone who has a heads-up on the disappointment of a Scottish summer is Lalchand Rajput - the former India and Scotland international who has taken charge of Afghanistan for their tour of Scotland, Ireland and the Netherlands.\\nThe 54-year-old from Mumbai spent 10 seasons with Perthshire and another five with Strathmore and may know a thing or two about July temperatures here.\\nWhile Rajput has been quoted as calling Scotland his second home, that fondness will be swept aside as he takes the reins for the first time against the Scots, although Coetzer claims they are not expecting any massive surprises.\\nHaving tasted success on the world stage this year, Scotland are hoping to use that to build excitement around the sport nationally.\\nThat is perhaps hindered somewhat by the fact they do not play again until 14 and 16 August against the United Arab Emirates in Aberdeen.\\n\"We are in a little tricky stage at the moment as our fixtures are few and far between,\" Coetzer told BBC Scotland. \"That's the challenge we face with reducing funding from the International Cricket Council (ICC).\\n\"It's challenging when players are trying to be professional, but you can only be together for one day leading into this series.\\n\"That's no preparation for a one-day series, so we do have a lot of work to do in this country.\"</td>\n",
       "      <td>Scotland vice-captain Kyle Coetzer believes the \"monkey is off their backs\" when they host Afghanistan in two one-day internationals this week.</td>\n",
       "      <td>36699668</td>\n",
       "    </tr>\n",
       "    <tr>\n",
       "      <th>3</th>\n",
       "      <td>The party secured about 19% of the vote, unofficial tallies show.\\nBut it is not clear if it will meet the 25% voting threshold to enter Jakarta Governor Joko Widodo in the 9 July presidential election by itself.\\nThe official election results will be announced in May.\\nSome 19,000 seats were contested across Indonesia in Wednesday's polls, including the 560 seats in the national parliament.\\nA poll by Jakarta think tank, the Centre for Strategic and International Studies (CSIS), put the opposition Golkar party in second place with 14% of the vote, followed by the Great Indonesia Movement Party with 12%.\\nIslamic parties also appeared to have performed better than expected, together grabbing about a third of the national vote.\\nSupport for the ruling Democratic Party of Indonesian President Susilo Bambang Yudhoyono - who cannot serve a third term as president - fell by half. His party came in fourth with 10% of the vote.\\nMr Yudhoyono told reporters that he respected the early results.\\n\"Let's honour the result of this election and be ready to accept new national leadership that will lead the nation to be better,\" the Associated Press news agency quoted him as saying.\\nCSIS political analyst Philips Vermonte told Reuters news agency: \"Parliament is likely to be very fragmented because many parties have gotten a relatively big share of votes.\"\\nThe parliamentary polls are key to deciding which parties can field presidential candidates. Parties must either secure 25% of the total vote or 20% of the seats in parliament.\\nCandidates whose parties fail to meet these thresholds must form or enter a coalition before they can run for president.\\nIndonesian stocks fell over 3% on Thursday, after expectations PDI-P would secure enough votes to put Mr Widodo, the Jakarta governor, straight through to presidential polls were dashed.\\n\"We see the possible formation of a weak government with limited ability to push through necessary reforms and policies ahead,\" Bahana Securities research head Harry Su told Reuters news agency.\\nMr Widodo is seen by many as Indonesia's next president. He told reporters on Wednesday that his party was \"widely open\" to a coalition.\\n\"It is not possible for PDI-P to work alone. We have to co-operate with those having the same platform,\" he said.</td>\n",
       "      <td>Indonesia's opposition Democratic Party of Struggle (PDI-P) leads parliamentary polls but its star candidate may face a tougher path to the presidency, early election results indicate.</td>\n",
       "      <td>26966663</td>\n",
       "    </tr>\n",
       "    <tr>\n",
       "      <th>4</th>\n",
       "      <td>They also rejected a plan to introduce free parking for the first 30 minutes.\\nThe changes were proposed by four DUP MLAs, but Infrastructure Minister Chris Hazzard said their motion was based on \"seriously misguided logic\".\\nHe added that enforcing the 30-minute free parking system would be \"extremely resource intensive\".\\nHowever, the assembly did pass a Sinn Féin amendment calling for a review of on-street parking arrangements which Mr Hazzard said he was \"minded\" to implement.\\n\"I'm certainly not opposed to a review of sorts - a strategic review of on-street car parking policy and the direction of travel,\" the minister told BBC News NI.\\n\"What I was opposed to, with the DUP motion, was their pre-determined outcome of any such review, that we would set in stone before we began a massive reduction in penalty fines, I don't think that would be appropriate.\"\\nThe rejected DUP motion was signed by ex-minister Edwin  Poots, and his party colleagues William Humphrey, George Robinson and Alex Easton.\\nThey said \"greater flexibility\" was needed in parking policy to encourage more trade in town and villages.\\nParking enforcement in Northern Ireland was privatised in 2006.\\nInitially, fines were levied at £60, with the option of a 50% reduction if the bill was paid within a fortnight.\\nHowever, in 2012, Stormont MLAs voted for the penalty to be increased to its current level of £90 - or £45 if it is settled within 14 days.\\nThe then Roads Minister Danny Kennedy said at the time that bigger fines would \"act as a greater deterrent to those who choose not to park properly\".\\nThe current minister said \"at least two thirds\" of people who receive parking tickets pay within two weeks, and therefore pay at the lower rate of £45.\\n\"I think, when we look across many states, this is an appropriate amount, \"Mr Hazzard added.\\nLast month, a Belfast City Council committee voted to end the council's annual policy of offering free car parking in the city centre in the run-up to Christmas.</td>\n",
       "      <td>MLAs have voted against DUP calls for a significant reduction in the £90 mandatory parking fine during a debate in the Northern Ireland Assembly.</td>\n",
       "      <td>37890334</td>\n",
       "    </tr>\n",
       "  </tbody>\n",
       "</table>"
      ],
      "text/plain": [
       "<IPython.core.display.HTML object>"
      ]
     },
     "metadata": {},
     "output_type": "display_data"
    },
    {
     "data": {
      "text/html": [
       "<table border=\"1\" class=\"dataframe\">\n",
       "  <thead>\n",
       "    <tr style=\"text-align: right;\">\n",
       "      <th></th>\n",
       "      <th>document</th>\n",
       "      <th>summary</th>\n",
       "      <th>id</th>\n",
       "    </tr>\n",
       "  </thead>\n",
       "  <tbody>\n",
       "    <tr>\n",
       "      <th>0</th>\n",
       "      <td>Shorter NHS waiting times, free care for the elderly and improved school standards were among the policies unveiled by leader Leanne Wood.\\nShe said 17 years of \"unbroken Labour rule\" had brought \"economic stagnation\" and declining public services.\\n\"People in Wales are crying out for competent leadership,\" Ms Wood added.\\nPlaid Cymru had ministers in a coalition government led by Labour from 2007 to 2011, but lost seats and power at the election which ended that four-year term.\\nThe party unveiled nine key policies to support its ambitions to boost the nation's health, education and economy, including:\\nMs Wood said Plaid Cymru had been \"listening to what the people of Wales want\" over the last five years.\\n\"Their hopes and frustrations have informed our most ambitious programme for government to date,\" she said.\\n\"At the heart of this programme lies our three ambitions - to create a well, well-educated and wealthier Wales.\"\\nPlaid Cymru wanted \"a fairer, more prosperous nation which can stand on its own two feet\", she added.\\nMs Wood denied the party was making unfunded spending announcements, saying its tuition fee and health merger policies would save money, while a tax on sugary drinks would raise extra cash.\\nPlaid Cymru has mastered the art of the smooth campaign launch - the challenge for the party now is to make sure that professionalism turns into actual votes come polling day.\\nThe party is not short of policies, and thanks to the TV debates in last year's general election its leader Leanne Wood has a higher media profile than some of her predecessors.\\nBut the question is - how to get her and her colleagues into power?\\nPlaid dreams of following the SNP route: largest party and minority government in 2007, then a majority in the Scottish parliament in 2011.\\nIs that a feasible outcome for Plaid? Leaping from third place to first in terms of assembly seats may be asking too much - hence the talk of coalitions or deals with other parties.\\nTalks with the Lib Dems and Greens have already fizzled out - and the Tories are making hay with the idea Plaid will simply team up with Labour after polling day.\\nHence an increased emphasis on Labour's perceived failings in office at today's Plaid launch.\\nBut there is another problem - the rise of UKIP means Plaid is no longer the default option for disgruntled supporters of other parties.\\nAll of which means Plaid needs to work harder than ever to achieve the sorts of success it enjoyed in the first assembly elections way back in 1999.</td>\n",
       "      <td>Plaid Cymru has pledged to create a \"well, well-educated, wealthier Wales\" as the party launches its assembly election campaign.</td>\n",
       "      <td>35586807</td>\n",
       "    </tr>\n",
       "    <tr>\n",
       "      <th>1</th>\n",
       "      <td>The Blues, who sacked Mourinho for a second time last year, led after just 30 seconds when Pedro capitalised on slack defending to roll in.\\nGary Cahill smashed in the second after United allowed Eden Hazard's corner to bounce in their box.\\nUnited offered little sign of making a comeback, falling further behind when Hazard drilled in a precise 15-yard strike.\\nN'Golo Kante skipped around a static defence to slot in and seal victory as Chelsea moved within a point of Premier League leaders Manchester City.\\nThe comprehensive win lifted the Blues above Tottenham into fourth, with just one point separating the top five.\\nUnited stay seventh as the gap between them and the early pacesetters widens to six points, with almost a quarter of the season gone.\\nAnalysis: Why it is too early to write Man Utd off\\nRelive how Chelsea ruined Mourinho's return\\nMourinho was making his first return to Stamford Bridge since he was sacked in December 2015, leaving when the defending champions were 16th in the Premier League.\\nThe Portuguese boss said before the match he was unsure - and also unconcerned - about the reception he would be given by the home fans.\\nUnsurprisingly, for a man who delivered seven trophies in his two spells at the club, it turned out to be largely positive.\\nHundreds gathered to greet Mourinho as he walked off the United team bus, while he received a warm embrace from former skipper John Terry before kick-off.\\nThat is where the Blues' hospitality ended. Instead, it was his United team who provided the generosity.\\nAnd the home fans could not resist a cheeky dig at their former boss - chanting \"you're not special anymore\" to the self-proclaimed Special One.\\nMourinho said before the game he would not \"celebrate like a crazy kid\" if his new team scored at Stamford Bridge.\\nUnfortunately for him, there was little sign of that resolve being put to the test as Chelsea capitalised on his side's defensive deficiencies.\\nUnited were ragged at the back, ripped open by Pedro's opener without even having a touch and left flapping from then on.\\nAnd the severity of the scoreline was emphasised by some startling statistics:\\nThe tone was set when Chris Smalling hesitated in dealing with a long ball, allowing Pedro to nip in and round David de Gea - and United never recovered.\\nThe basic ability to defend a set-piece eluded them for Chelsea's second, two deflected touches helping the ball on to the unmarked Cahill, who lashed in.\\nUnited, without the injured Wayne Rooney, looked unrecognisable from the side that dug in to keep a clean sheet at Anfield on Monday. They looked unrecognisable from any Mourinho side, always expected to be well organised and difficult to break down.\\nA stony-faced Mourinho watched his static defenders allow Hazard and then Kante to skip into space and score after the break, leaving new Chelsea manager Antonio Conte lapping up the acclaim of a home crowd revelling in their former boss's misfortune.\\n\"We made incredible defensive mistakes,\" said Mourinho. \"And then you pay for that.\"\\nFormer Italy manager Antonio Conte was tasked with restoring Chelsea's fortunes after a chastening season, which started under Mourinho's leadership and ended in the defending champions finishing 10th.\\nConte's start has not been smooth, however.\\nBack-to-back league defeats against Liverpool and Arsenal last month led to some criticism, forcing him to laugh off rumours of his imminent sacking.\\nBut, after making a tactical switch to a 3-5-2 formation following those defeats, Conte has seen his team flourish.\\nThree successive victories have pushed the Blues back among the frontrunners, with the Stamford Bridge crowd showing their appreciation for the new manager as he urged them to make more noise during the second half.\\n\"It is important for the manager to find the right solution for your team,\" said Conte on his team's recent revival.\\n\"It was not a good situation when Chelsea conceded in every game - we change and now we are playing good football.\"\\nChelsea manager Antonio Conte:\\n\"We made a fantastic start. We scored the early goal but we continued to play good football, intensity and possession, create many chances. Today we didn't concede, which was important. It was a type of win that increases the confidence.\\n\"We wanted to show our ambition and give the satisfaction to our fans and show last season was very bad.\"\\nManchester United manager Jose Mourinho:\\n\"You come with a strategy, you cannot concede a goal in the way we did.\\n\"We were coming to have an offensive approach. We wanted to create chances; we showed that after the 1-0. The second and the third were counter-attack goals.\\n\"It is one of those days when you give the advantage to opponents by doing nothing.\\n\"In terms of points, we got zero points, we lose three points. We are six points from the top, three from the top four, we now need to win matches. We need to win our matches now, which are not easy.\\n\"We need to win to close that gap - after these last three matches, we made two out of nine. We now need points.\"\\nNext comes the not-so-small matter of midweek derby matches for both teams.\\nChelsea travel across London to face West Ham in the EFL Cup fourth round on Wednesday (19:45 BST), while Manchester United host neighbours City at Old Trafford in the same competition on the same day (20:00 BST).\\nMatch ends, Chelsea 4, Manchester United 0.\\nSecond Half ends, Chelsea 4, Manchester United 0.\\nFoul by Ander Herrera (Manchester United).\\nNemanja Matic (Chelsea) wins a free kick in the defensive half.\\nCorner,  Manchester United. Conceded by Thibaut Courtois.\\nAttempt saved. Marcos Rojo (Manchester United) left footed shot from outside the box is saved in the top right corner. Assisted by Ander Herrera.\\nAttempt blocked. Zlatan Ibrahimovic (Manchester United) left footed shot from the centre of the box is blocked. Assisted by Marcos Rojo.\\nAttempt saved. Nathaniel Chalobah (Chelsea) right footed shot from outside the box is saved in the bottom left corner. Assisted by N'Golo Kanté.\\nOffside, Chelsea. Marcos Alonso tries a through ball, but Michy Batshuayi is caught offside.\\nAttempt blocked. Victor Moses (Chelsea) left footed shot from the right side of the box is blocked. Assisted by Willian.\\nFoul by Antonio Valencia (Manchester United).\\nMarcos Alonso (Chelsea) wins a free kick on the left wing.\\nFoul by Ander Herrera (Manchester United).\\nNathaniel Chalobah (Chelsea) wins a free kick in the defensive half.\\nFoul by Anthony Martial (Manchester United).\\nCésar Azpilicueta (Chelsea) wins a free kick in the defensive half.\\nAttempt blocked. Paul Pogba (Manchester United) right footed shot from outside the box is blocked. Assisted by Anthony Martial.\\nFoul by Marcos Rojo (Manchester United).\\nCésar Azpilicueta (Chelsea) wins a free kick in the defensive half.\\nAntonio Valencia (Manchester United) wins a free kick in the defensive half.\\nFoul by Michy Batshuayi (Chelsea).\\nCorner,  Manchester United. Conceded by Thibaut Courtois.\\nAttempt saved. Zlatan Ibrahimovic (Manchester United) right footed shot from the centre of the box is saved in the bottom right corner. Assisted by Juan Mata.\\nFoul by Zlatan Ibrahimovic (Manchester United).\\nDavid Luiz (Chelsea) wins a free kick in the defensive half.\\nSubstitution, Chelsea. Michy Batshuayi replaces Diego Costa.\\nSubstitution, Chelsea. Willian replaces Eden Hazard.\\nFoul by Anthony Martial (Manchester United).\\nNemanja Matic (Chelsea) wins a free kick in the defensive half.\\nPaul Pogba (Manchester United) is shown the yellow card for a bad foul.\\nFoul by Paul Pogba (Manchester United).\\nNemanja Matic (Chelsea) wins a free kick in the defensive half.\\nAttempt saved. Diego Costa (Chelsea) left footed shot from the left side of the box is saved in the centre of the goal. Assisted by N'Golo Kanté.\\nAttempt missed. Zlatan Ibrahimovic (Manchester United) right footed shot from the centre of the box is too high. Assisted by Daley Blind with a cross following a set piece situation.\\nAnthony Martial (Manchester United) wins a free kick on the left wing.\\nFoul by Victor Moses (Chelsea).\\nAttempt missed. Paul Pogba (Manchester United) right footed shot from outside the box misses to the right. Assisted by Anthony Martial.\\nSubstitution, Chelsea. Nathaniel Chalobah replaces Pedro.\\nGoal!  Chelsea 4, Manchester United 0. N'Golo Kanté (Chelsea) right footed shot from the centre of the box to the bottom left corner. Assisted by Pedro.\\nAttempt missed. Ander Herrera (Manchester United) left footed shot from outside the box is high and wide to the left.</td>\n",
       "      <td>Jose Mourinho was humiliated on his return to Chelsea as his former club blew away his Manchester United side at Stamford Bridge.</td>\n",
       "      <td>37670362</td>\n",
       "    </tr>\n",
       "    <tr>\n",
       "      <th>2</th>\n",
       "      <td>It is their first competitive action since the ICC World Twenty20 in March, when they beat Hong Kong to record a first win at a major tournament.\\n\"Winning that last game against Hong Kong was pretty crucial for us,\" batsman Coetzer told BBC Scotland.\\n\"Coming away with that against our name was hugely important.\"\\nThat eight-wicket triumph took its time too - 21 attempts over 18 years - and the 32-year-old thinks more fixtures against higher-ranking teams like Afghanistan are vital if they are to continue building on that hard-fought success.\\n\"The schedule is very bare at the moment and, if you are trying to produce players to compete against the top 12 nations in the world, that's going to be very hard to do if you're not playing any cricket,\" said Coetzer.\\nScotland and Afghanistan met during the World T20 in Nagpur in March, when this week's visitors secured a 14-run victory along with qualification from the group stages, where they also beat the eventual winners West Indies.\\nBut Coetzer believes the Scots are coming at this series, being played at The Grange in Edinburgh on Monday and Wednesday, with the strongest squad they have probably ever had.\\n\"We've got some options with the bat and some more options with the ball now, so it's really given us a more rounded squad,\" said the vice-captain.\\nAnd, after that win over Hong Kong the team, led by Preston Mommsen, will be \"quietly confident\" they can put pressure on the visitors in what he thinks will be a \"tightly contested\" series.\\nWith the temperature in Afghanistan hitting the mid-30s, Coetzer believes there could be an advantage against the team ranked 10th in the world.\\n\"At training, they all turned up well wrapped up as it's only 13 degrees and I guess that's not what they're used to,\" he said.\\n\"The pitch conditions too, the wicket may well suit our players and hopefully things like that will go in our favour - you've got to make your home ground a fortress wherever that is and that's The Grange at the minute.\"\\nSomeone who has a heads-up on the disappointment of a Scottish summer is Lalchand Rajput - the former India and Scotland international who has taken charge of Afghanistan for their tour of Scotland, Ireland and the Netherlands.\\nThe 54-year-old from Mumbai spent 10 seasons with Perthshire and another five with Strathmore and may know a thing or two about July temperatures here.\\nWhile Rajput has been quoted as calling Scotland his second home, that fondness will be swept aside as he takes the reins for the first time against the Scots, although Coetzer claims they are not expecting any massive surprises.\\nHaving tasted success on the world stage this year, Scotland are hoping to use that to build excitement around the sport nationally.\\nThat is perhaps hindered somewhat by the fact they do not play again until 14 and 16 August against the United Arab Emirates in Aberdeen.\\n\"We are in a little tricky stage at the moment as our fixtures are few and far between,\" Coetzer told BBC Scotland. \"That's the challenge we face with reducing funding from the International Cricket Council (ICC).\\n\"It's challenging when players are trying to be professional, but you can only be together for one day leading into this series.\\n\"That's no preparation for a one-day series, so we do have a lot of work to do in this country.\"</td>\n",
       "      <td>Scotland vice-captain Kyle Coetzer believes the \"monkey is off their backs\" when they host Afghanistan in two one-day internationals this week.</td>\n",
       "      <td>36699668</td>\n",
       "    </tr>\n",
       "    <tr>\n",
       "      <th>3</th>\n",
       "      <td>The party secured about 19% of the vote, unofficial tallies show.\\nBut it is not clear if it will meet the 25% voting threshold to enter Jakarta Governor Joko Widodo in the 9 July presidential election by itself.\\nThe official election results will be announced in May.\\nSome 19,000 seats were contested across Indonesia in Wednesday's polls, including the 560 seats in the national parliament.\\nA poll by Jakarta think tank, the Centre for Strategic and International Studies (CSIS), put the opposition Golkar party in second place with 14% of the vote, followed by the Great Indonesia Movement Party with 12%.\\nIslamic parties also appeared to have performed better than expected, together grabbing about a third of the national vote.\\nSupport for the ruling Democratic Party of Indonesian President Susilo Bambang Yudhoyono - who cannot serve a third term as president - fell by half. His party came in fourth with 10% of the vote.\\nMr Yudhoyono told reporters that he respected the early results.\\n\"Let's honour the result of this election and be ready to accept new national leadership that will lead the nation to be better,\" the Associated Press news agency quoted him as saying.\\nCSIS political analyst Philips Vermonte told Reuters news agency: \"Parliament is likely to be very fragmented because many parties have gotten a relatively big share of votes.\"\\nThe parliamentary polls are key to deciding which parties can field presidential candidates. Parties must either secure 25% of the total vote or 20% of the seats in parliament.\\nCandidates whose parties fail to meet these thresholds must form or enter a coalition before they can run for president.\\nIndonesian stocks fell over 3% on Thursday, after expectations PDI-P would secure enough votes to put Mr Widodo, the Jakarta governor, straight through to presidential polls were dashed.\\n\"We see the possible formation of a weak government with limited ability to push through necessary reforms and policies ahead,\" Bahana Securities research head Harry Su told Reuters news agency.\\nMr Widodo is seen by many as Indonesia's next president. He told reporters on Wednesday that his party was \"widely open\" to a coalition.\\n\"It is not possible for PDI-P to work alone. We have to co-operate with those having the same platform,\" he said.</td>\n",
       "      <td>Indonesia's opposition Democratic Party of Struggle (PDI-P) leads parliamentary polls but its star candidate may face a tougher path to the presidency, early election results indicate.</td>\n",
       "      <td>26966663</td>\n",
       "    </tr>\n",
       "    <tr>\n",
       "      <th>4</th>\n",
       "      <td>They also rejected a plan to introduce free parking for the first 30 minutes.\\nThe changes were proposed by four DUP MLAs, but Infrastructure Minister Chris Hazzard said their motion was based on \"seriously misguided logic\".\\nHe added that enforcing the 30-minute free parking system would be \"extremely resource intensive\".\\nHowever, the assembly did pass a Sinn Féin amendment calling for a review of on-street parking arrangements which Mr Hazzard said he was \"minded\" to implement.\\n\"I'm certainly not opposed to a review of sorts - a strategic review of on-street car parking policy and the direction of travel,\" the minister told BBC News NI.\\n\"What I was opposed to, with the DUP motion, was their pre-determined outcome of any such review, that we would set in stone before we began a massive reduction in penalty fines, I don't think that would be appropriate.\"\\nThe rejected DUP motion was signed by ex-minister Edwin  Poots, and his party colleagues William Humphrey, George Robinson and Alex Easton.\\nThey said \"greater flexibility\" was needed in parking policy to encourage more trade in town and villages.\\nParking enforcement in Northern Ireland was privatised in 2006.\\nInitially, fines were levied at £60, with the option of a 50% reduction if the bill was paid within a fortnight.\\nHowever, in 2012, Stormont MLAs voted for the penalty to be increased to its current level of £90 - or £45 if it is settled within 14 days.\\nThe then Roads Minister Danny Kennedy said at the time that bigger fines would \"act as a greater deterrent to those who choose not to park properly\".\\nThe current minister said \"at least two thirds\" of people who receive parking tickets pay within two weeks, and therefore pay at the lower rate of £45.\\n\"I think, when we look across many states, this is an appropriate amount, \"Mr Hazzard added.\\nLast month, a Belfast City Council committee voted to end the council's annual policy of offering free car parking in the city centre in the run-up to Christmas.</td>\n",
       "      <td>MLAs have voted against DUP calls for a significant reduction in the £90 mandatory parking fine during a debate in the Northern Ireland Assembly.</td>\n",
       "      <td>37890334</td>\n",
       "    </tr>\n",
       "  </tbody>\n",
       "</table>"
      ],
      "text/plain": [
       "<IPython.core.display.HTML object>"
      ]
     },
     "metadata": {},
     "output_type": "display_data"
    },
    {
     "data": {
      "text/html": [
       "<table border=\"1\" class=\"dataframe\">\n",
       "  <thead>\n",
       "    <tr style=\"text-align: right;\">\n",
       "      <th></th>\n",
       "      <th>document</th>\n",
       "      <th>summary</th>\n",
       "      <th>id</th>\n",
       "    </tr>\n",
       "  </thead>\n",
       "  <tbody>\n",
       "    <tr>\n",
       "      <th>0</th>\n",
       "      <td>Shorter NHS waiting times, free care for the elderly and improved school standards were among the policies unveiled by leader Leanne Wood.\\nShe said 17 years of \"unbroken Labour rule\" had brought \"economic stagnation\" and declining public services.\\n\"People in Wales are crying out for competent leadership,\" Ms Wood added.\\nPlaid Cymru had ministers in a coalition government led by Labour from 2007 to 2011, but lost seats and power at the election which ended that four-year term.\\nThe party unveiled nine key policies to support its ambitions to boost the nation's health, education and economy, including:\\nMs Wood said Plaid Cymru had been \"listening to what the people of Wales want\" over the last five years.\\n\"Their hopes and frustrations have informed our most ambitious programme for government to date,\" she said.\\n\"At the heart of this programme lies our three ambitions - to create a well, well-educated and wealthier Wales.\"\\nPlaid Cymru wanted \"a fairer, more prosperous nation which can stand on its own two feet\", she added.\\nMs Wood denied the party was making unfunded spending announcements, saying its tuition fee and health merger policies would save money, while a tax on sugary drinks would raise extra cash.\\nPlaid Cymru has mastered the art of the smooth campaign launch - the challenge for the party now is to make sure that professionalism turns into actual votes come polling day.\\nThe party is not short of policies, and thanks to the TV debates in last year's general election its leader Leanne Wood has a higher media profile than some of her predecessors.\\nBut the question is - how to get her and her colleagues into power?\\nPlaid dreams of following the SNP route: largest party and minority government in 2007, then a majority in the Scottish parliament in 2011.\\nIs that a feasible outcome for Plaid? Leaping from third place to first in terms of assembly seats may be asking too much - hence the talk of coalitions or deals with other parties.\\nTalks with the Lib Dems and Greens have already fizzled out - and the Tories are making hay with the idea Plaid will simply team up with Labour after polling day.\\nHence an increased emphasis on Labour's perceived failings in office at today's Plaid launch.\\nBut there is another problem - the rise of UKIP means Plaid is no longer the default option for disgruntled supporters of other parties.\\nAll of which means Plaid needs to work harder than ever to achieve the sorts of success it enjoyed in the first assembly elections way back in 1999.</td>\n",
       "      <td>Plaid Cymru has pledged to create a \"well, well-educated, wealthier Wales\" as the party launches its assembly election campaign.</td>\n",
       "      <td>35586807</td>\n",
       "    </tr>\n",
       "    <tr>\n",
       "      <th>1</th>\n",
       "      <td>The Blues, who sacked Mourinho for a second time last year, led after just 30 seconds when Pedro capitalised on slack defending to roll in.\\nGary Cahill smashed in the second after United allowed Eden Hazard's corner to bounce in their box.\\nUnited offered little sign of making a comeback, falling further behind when Hazard drilled in a precise 15-yard strike.\\nN'Golo Kante skipped around a static defence to slot in and seal victory as Chelsea moved within a point of Premier League leaders Manchester City.\\nThe comprehensive win lifted the Blues above Tottenham into fourth, with just one point separating the top five.\\nUnited stay seventh as the gap between them and the early pacesetters widens to six points, with almost a quarter of the season gone.\\nAnalysis: Why it is too early to write Man Utd off\\nRelive how Chelsea ruined Mourinho's return\\nMourinho was making his first return to Stamford Bridge since he was sacked in December 2015, leaving when the defending champions were 16th in the Premier League.\\nThe Portuguese boss said before the match he was unsure - and also unconcerned - about the reception he would be given by the home fans.\\nUnsurprisingly, for a man who delivered seven trophies in his two spells at the club, it turned out to be largely positive.\\nHundreds gathered to greet Mourinho as he walked off the United team bus, while he received a warm embrace from former skipper John Terry before kick-off.\\nThat is where the Blues' hospitality ended. Instead, it was his United team who provided the generosity.\\nAnd the home fans could not resist a cheeky dig at their former boss - chanting \"you're not special anymore\" to the self-proclaimed Special One.\\nMourinho said before the game he would not \"celebrate like a crazy kid\" if his new team scored at Stamford Bridge.\\nUnfortunately for him, there was little sign of that resolve being put to the test as Chelsea capitalised on his side's defensive deficiencies.\\nUnited were ragged at the back, ripped open by Pedro's opener without even having a touch and left flapping from then on.\\nAnd the severity of the scoreline was emphasised by some startling statistics:\\nThe tone was set when Chris Smalling hesitated in dealing with a long ball, allowing Pedro to nip in and round David de Gea - and United never recovered.\\nThe basic ability to defend a set-piece eluded them for Chelsea's second, two deflected touches helping the ball on to the unmarked Cahill, who lashed in.\\nUnited, without the injured Wayne Rooney, looked unrecognisable from the side that dug in to keep a clean sheet at Anfield on Monday. They looked unrecognisable from any Mourinho side, always expected to be well organised and difficult to break down.\\nA stony-faced Mourinho watched his static defenders allow Hazard and then Kante to skip into space and score after the break, leaving new Chelsea manager Antonio Conte lapping up the acclaim of a home crowd revelling in their former boss's misfortune.\\n\"We made incredible defensive mistakes,\" said Mourinho. \"And then you pay for that.\"\\nFormer Italy manager Antonio Conte was tasked with restoring Chelsea's fortunes after a chastening season, which started under Mourinho's leadership and ended in the defending champions finishing 10th.\\nConte's start has not been smooth, however.\\nBack-to-back league defeats against Liverpool and Arsenal last month led to some criticism, forcing him to laugh off rumours of his imminent sacking.\\nBut, after making a tactical switch to a 3-5-2 formation following those defeats, Conte has seen his team flourish.\\nThree successive victories have pushed the Blues back among the frontrunners, with the Stamford Bridge crowd showing their appreciation for the new manager as he urged them to make more noise during the second half.\\n\"It is important for the manager to find the right solution for your team,\" said Conte on his team's recent revival.\\n\"It was not a good situation when Chelsea conceded in every game - we change and now we are playing good football.\"\\nChelsea manager Antonio Conte:\\n\"We made a fantastic start. We scored the early goal but we continued to play good football, intensity and possession, create many chances. Today we didn't concede, which was important. It was a type of win that increases the confidence.\\n\"We wanted to show our ambition and give the satisfaction to our fans and show last season was very bad.\"\\nManchester United manager Jose Mourinho:\\n\"You come with a strategy, you cannot concede a goal in the way we did.\\n\"We were coming to have an offensive approach. We wanted to create chances; we showed that after the 1-0. The second and the third were counter-attack goals.\\n\"It is one of those days when you give the advantage to opponents by doing nothing.\\n\"In terms of points, we got zero points, we lose three points. We are six points from the top, three from the top four, we now need to win matches. We need to win our matches now, which are not easy.\\n\"We need to win to close that gap - after these last three matches, we made two out of nine. We now need points.\"\\nNext comes the not-so-small matter of midweek derby matches for both teams.\\nChelsea travel across London to face West Ham in the EFL Cup fourth round on Wednesday (19:45 BST), while Manchester United host neighbours City at Old Trafford in the same competition on the same day (20:00 BST).\\nMatch ends, Chelsea 4, Manchester United 0.\\nSecond Half ends, Chelsea 4, Manchester United 0.\\nFoul by Ander Herrera (Manchester United).\\nNemanja Matic (Chelsea) wins a free kick in the defensive half.\\nCorner,  Manchester United. Conceded by Thibaut Courtois.\\nAttempt saved. Marcos Rojo (Manchester United) left footed shot from outside the box is saved in the top right corner. Assisted by Ander Herrera.\\nAttempt blocked. Zlatan Ibrahimovic (Manchester United) left footed shot from the centre of the box is blocked. Assisted by Marcos Rojo.\\nAttempt saved. Nathaniel Chalobah (Chelsea) right footed shot from outside the box is saved in the bottom left corner. Assisted by N'Golo Kanté.\\nOffside, Chelsea. Marcos Alonso tries a through ball, but Michy Batshuayi is caught offside.\\nAttempt blocked. Victor Moses (Chelsea) left footed shot from the right side of the box is blocked. Assisted by Willian.\\nFoul by Antonio Valencia (Manchester United).\\nMarcos Alonso (Chelsea) wins a free kick on the left wing.\\nFoul by Ander Herrera (Manchester United).\\nNathaniel Chalobah (Chelsea) wins a free kick in the defensive half.\\nFoul by Anthony Martial (Manchester United).\\nCésar Azpilicueta (Chelsea) wins a free kick in the defensive half.\\nAttempt blocked. Paul Pogba (Manchester United) right footed shot from outside the box is blocked. Assisted by Anthony Martial.\\nFoul by Marcos Rojo (Manchester United).\\nCésar Azpilicueta (Chelsea) wins a free kick in the defensive half.\\nAntonio Valencia (Manchester United) wins a free kick in the defensive half.\\nFoul by Michy Batshuayi (Chelsea).\\nCorner,  Manchester United. Conceded by Thibaut Courtois.\\nAttempt saved. Zlatan Ibrahimovic (Manchester United) right footed shot from the centre of the box is saved in the bottom right corner. Assisted by Juan Mata.\\nFoul by Zlatan Ibrahimovic (Manchester United).\\nDavid Luiz (Chelsea) wins a free kick in the defensive half.\\nSubstitution, Chelsea. Michy Batshuayi replaces Diego Costa.\\nSubstitution, Chelsea. Willian replaces Eden Hazard.\\nFoul by Anthony Martial (Manchester United).\\nNemanja Matic (Chelsea) wins a free kick in the defensive half.\\nPaul Pogba (Manchester United) is shown the yellow card for a bad foul.\\nFoul by Paul Pogba (Manchester United).\\nNemanja Matic (Chelsea) wins a free kick in the defensive half.\\nAttempt saved. Diego Costa (Chelsea) left footed shot from the left side of the box is saved in the centre of the goal. Assisted by N'Golo Kanté.\\nAttempt missed. Zlatan Ibrahimovic (Manchester United) right footed shot from the centre of the box is too high. Assisted by Daley Blind with a cross following a set piece situation.\\nAnthony Martial (Manchester United) wins a free kick on the left wing.\\nFoul by Victor Moses (Chelsea).\\nAttempt missed. Paul Pogba (Manchester United) right footed shot from outside the box misses to the right. Assisted by Anthony Martial.\\nSubstitution, Chelsea. Nathaniel Chalobah replaces Pedro.\\nGoal!  Chelsea 4, Manchester United 0. N'Golo Kanté (Chelsea) right footed shot from the centre of the box to the bottom left corner. Assisted by Pedro.\\nAttempt missed. Ander Herrera (Manchester United) left footed shot from outside the box is high and wide to the left.</td>\n",
       "      <td>Jose Mourinho was humiliated on his return to Chelsea as his former club blew away his Manchester United side at Stamford Bridge.</td>\n",
       "      <td>37670362</td>\n",
       "    </tr>\n",
       "    <tr>\n",
       "      <th>2</th>\n",
       "      <td>It is their first competitive action since the ICC World Twenty20 in March, when they beat Hong Kong to record a first win at a major tournament.\\n\"Winning that last game against Hong Kong was pretty crucial for us,\" batsman Coetzer told BBC Scotland.\\n\"Coming away with that against our name was hugely important.\"\\nThat eight-wicket triumph took its time too - 21 attempts over 18 years - and the 32-year-old thinks more fixtures against higher-ranking teams like Afghanistan are vital if they are to continue building on that hard-fought success.\\n\"The schedule is very bare at the moment and, if you are trying to produce players to compete against the top 12 nations in the world, that's going to be very hard to do if you're not playing any cricket,\" said Coetzer.\\nScotland and Afghanistan met during the World T20 in Nagpur in March, when this week's visitors secured a 14-run victory along with qualification from the group stages, where they also beat the eventual winners West Indies.\\nBut Coetzer believes the Scots are coming at this series, being played at The Grange in Edinburgh on Monday and Wednesday, with the strongest squad they have probably ever had.\\n\"We've got some options with the bat and some more options with the ball now, so it's really given us a more rounded squad,\" said the vice-captain.\\nAnd, after that win over Hong Kong the team, led by Preston Mommsen, will be \"quietly confident\" they can put pressure on the visitors in what he thinks will be a \"tightly contested\" series.\\nWith the temperature in Afghanistan hitting the mid-30s, Coetzer believes there could be an advantage against the team ranked 10th in the world.\\n\"At training, they all turned up well wrapped up as it's only 13 degrees and I guess that's not what they're used to,\" he said.\\n\"The pitch conditions too, the wicket may well suit our players and hopefully things like that will go in our favour - you've got to make your home ground a fortress wherever that is and that's The Grange at the minute.\"\\nSomeone who has a heads-up on the disappointment of a Scottish summer is Lalchand Rajput - the former India and Scotland international who has taken charge of Afghanistan for their tour of Scotland, Ireland and the Netherlands.\\nThe 54-year-old from Mumbai spent 10 seasons with Perthshire and another five with Strathmore and may know a thing or two about July temperatures here.\\nWhile Rajput has been quoted as calling Scotland his second home, that fondness will be swept aside as he takes the reins for the first time against the Scots, although Coetzer claims they are not expecting any massive surprises.\\nHaving tasted success on the world stage this year, Scotland are hoping to use that to build excitement around the sport nationally.\\nThat is perhaps hindered somewhat by the fact they do not play again until 14 and 16 August against the United Arab Emirates in Aberdeen.\\n\"We are in a little tricky stage at the moment as our fixtures are few and far between,\" Coetzer told BBC Scotland. \"That's the challenge we face with reducing funding from the International Cricket Council (ICC).\\n\"It's challenging when players are trying to be professional, but you can only be together for one day leading into this series.\\n\"That's no preparation for a one-day series, so we do have a lot of work to do in this country.\"</td>\n",
       "      <td>Scotland vice-captain Kyle Coetzer believes the \"monkey is off their backs\" when they host Afghanistan in two one-day internationals this week.</td>\n",
       "      <td>36699668</td>\n",
       "    </tr>\n",
       "    <tr>\n",
       "      <th>3</th>\n",
       "      <td>The party secured about 19% of the vote, unofficial tallies show.\\nBut it is not clear if it will meet the 25% voting threshold to enter Jakarta Governor Joko Widodo in the 9 July presidential election by itself.\\nThe official election results will be announced in May.\\nSome 19,000 seats were contested across Indonesia in Wednesday's polls, including the 560 seats in the national parliament.\\nA poll by Jakarta think tank, the Centre for Strategic and International Studies (CSIS), put the opposition Golkar party in second place with 14% of the vote, followed by the Great Indonesia Movement Party with 12%.\\nIslamic parties also appeared to have performed better than expected, together grabbing about a third of the national vote.\\nSupport for the ruling Democratic Party of Indonesian President Susilo Bambang Yudhoyono - who cannot serve a third term as president - fell by half. His party came in fourth with 10% of the vote.\\nMr Yudhoyono told reporters that he respected the early results.\\n\"Let's honour the result of this election and be ready to accept new national leadership that will lead the nation to be better,\" the Associated Press news agency quoted him as saying.\\nCSIS political analyst Philips Vermonte told Reuters news agency: \"Parliament is likely to be very fragmented because many parties have gotten a relatively big share of votes.\"\\nThe parliamentary polls are key to deciding which parties can field presidential candidates. Parties must either secure 25% of the total vote or 20% of the seats in parliament.\\nCandidates whose parties fail to meet these thresholds must form or enter a coalition before they can run for president.\\nIndonesian stocks fell over 3% on Thursday, after expectations PDI-P would secure enough votes to put Mr Widodo, the Jakarta governor, straight through to presidential polls were dashed.\\n\"We see the possible formation of a weak government with limited ability to push through necessary reforms and policies ahead,\" Bahana Securities research head Harry Su told Reuters news agency.\\nMr Widodo is seen by many as Indonesia's next president. He told reporters on Wednesday that his party was \"widely open\" to a coalition.\\n\"It is not possible for PDI-P to work alone. We have to co-operate with those having the same platform,\" he said.</td>\n",
       "      <td>Indonesia's opposition Democratic Party of Struggle (PDI-P) leads parliamentary polls but its star candidate may face a tougher path to the presidency, early election results indicate.</td>\n",
       "      <td>26966663</td>\n",
       "    </tr>\n",
       "    <tr>\n",
       "      <th>4</th>\n",
       "      <td>They also rejected a plan to introduce free parking for the first 30 minutes.\\nThe changes were proposed by four DUP MLAs, but Infrastructure Minister Chris Hazzard said their motion was based on \"seriously misguided logic\".\\nHe added that enforcing the 30-minute free parking system would be \"extremely resource intensive\".\\nHowever, the assembly did pass a Sinn Féin amendment calling for a review of on-street parking arrangements which Mr Hazzard said he was \"minded\" to implement.\\n\"I'm certainly not opposed to a review of sorts - a strategic review of on-street car parking policy and the direction of travel,\" the minister told BBC News NI.\\n\"What I was opposed to, with the DUP motion, was their pre-determined outcome of any such review, that we would set in stone before we began a massive reduction in penalty fines, I don't think that would be appropriate.\"\\nThe rejected DUP motion was signed by ex-minister Edwin  Poots, and his party colleagues William Humphrey, George Robinson and Alex Easton.\\nThey said \"greater flexibility\" was needed in parking policy to encourage more trade in town and villages.\\nParking enforcement in Northern Ireland was privatised in 2006.\\nInitially, fines were levied at £60, with the option of a 50% reduction if the bill was paid within a fortnight.\\nHowever, in 2012, Stormont MLAs voted for the penalty to be increased to its current level of £90 - or £45 if it is settled within 14 days.\\nThe then Roads Minister Danny Kennedy said at the time that bigger fines would \"act as a greater deterrent to those who choose not to park properly\".\\nThe current minister said \"at least two thirds\" of people who receive parking tickets pay within two weeks, and therefore pay at the lower rate of £45.\\n\"I think, when we look across many states, this is an appropriate amount, \"Mr Hazzard added.\\nLast month, a Belfast City Council committee voted to end the council's annual policy of offering free car parking in the city centre in the run-up to Christmas.</td>\n",
       "      <td>MLAs have voted against DUP calls for a significant reduction in the £90 mandatory parking fine during a debate in the Northern Ireland Assembly.</td>\n",
       "      <td>37890334</td>\n",
       "    </tr>\n",
       "  </tbody>\n",
       "</table>"
      ],
      "text/plain": [
       "<IPython.core.display.HTML object>"
      ]
     },
     "metadata": {},
     "output_type": "display_data"
    }
   ],
   "source": [
    "display_function(xsum[\"test\"])"
   ]
  },
  {
   "cell_type": "markdown",
   "metadata": {},
   "source": [
    "### We can address the problem we mentioned above by define a cleaning function that replaces new lines with white space."
   ]
  },
  {
   "cell_type": "code",
   "execution_count": 7,
   "metadata": {},
   "outputs": [],
   "source": [
    "def clean(row):\n",
    "    row['document'] = row['document'].replace('\\n', ' ')\n",
    "    return row"
   ]
  },
  {
   "cell_type": "markdown",
   "metadata": {},
   "source": [
    "### We can now apply the cleaning function we created and map it onto our data (it loads for train, test, and validation)"
   ]
  },
  {
   "cell_type": "code",
   "execution_count": 8,
   "metadata": {},
   "outputs": [
    {
     "name": "stderr",
     "output_type": "stream",
     "text": [
      "Loading cached processed dataset at C:\\Users\\creeg\\.cache\\huggingface\\datasets\\xsum\\default\\1.2.0\\32c23220eadddb1149b16ed2e9430a05293768cfffbdfd151058697d4c11f934\\cache-ec5b3ab440c9df82.arrow\n",
      "Loading cached processed dataset at C:\\Users\\creeg\\.cache\\huggingface\\datasets\\xsum\\default\\1.2.0\\32c23220eadddb1149b16ed2e9430a05293768cfffbdfd151058697d4c11f934\\cache-a176a692461cda61.arrow\n",
      "Loading cached processed dataset at C:\\Users\\creeg\\.cache\\huggingface\\datasets\\xsum\\default\\1.2.0\\32c23220eadddb1149b16ed2e9430a05293768cfffbdfd151058697d4c11f934\\cache-bc530be4c3ab51ba.arrow\n"
     ]
    }
   ],
   "source": [
    "xsum = xsum.map(clean)"
   ]
  },
  {
   "cell_type": "markdown",
   "metadata": {},
   "source": [
    "### Voila!"
   ]
  },
  {
   "cell_type": "code",
   "execution_count": 9,
   "metadata": {},
   "outputs": [
    {
     "data": {
      "text/html": [
       "<table border=\"1\" class=\"dataframe\">\n",
       "  <thead>\n",
       "    <tr style=\"text-align: right;\">\n",
       "      <th></th>\n",
       "      <th>document</th>\n",
       "      <th>summary</th>\n",
       "      <th>id</th>\n",
       "    </tr>\n",
       "  </thead>\n",
       "  <tbody>\n",
       "    <tr>\n",
       "      <th>0</th>\n",
       "      <td>Division One leaders Middlesex, who were bowled out for 381 at Taunton to lead by 145, looked in charge when they reduced Somerset to 59-3 and 126-4. But Trescothick, who made 124, and Trego, still there on 115, shared 181 to leave the contest in the balance. Somerset closed on 348-6, an advantage of 203 runs. On a surface that has become easier for batting as the game has progressed, the outcome seems likely to rest on the length of time Trego spends at the crease on the final day. Somerset would perhaps want to post a target in excess of 250, while anything less would probably leave Middlesex as favourites. That the home side, who at one stage looked set to be defeated inside three days, are still in with a shout is down entirely to Trescothick and Trego. Opener Trescothick had seen Johann Myburgh bowled offering no shot to Harry Podmore and captain Chris Rogers shovel the same bowler to point for a duck. After James Hildreth was caught at slip from the off-spin of Ollie Rayner, Trescothick found some support from James Allenby, but when he mistimed a pull to mid-on, Somerset were still 19 behind. But Trescothick, playing characteristically powerful cover drives, and Trego, who capitalised as the Middlesex bowlers often dropped short, compiled their huge fifth-wicket stand to drag the hosts back into it. Trescothick's 48th Somerset hundred took him past Sir Viv Richards to second on the all-time list, while Trego completed his 14th first-class ton. Only when James Harris found some late energy did he have both Trescothick and Craig Overton caught behind, leaving Alex Barrow to accompany Trego to the close. Harris was earlier the last Middlesex wicket to fall, caught at slip off Tim Groenewald for 78, missing a maiden first-class hundred, just like James Fuller, who fell to the same combination for 93.</td>\n",
       "      <td>Marcus Trescothick and Peter Trego both made centuries to drag Somerset back into contention with Middlesex on day three of the County Championship match.</td>\n",
       "      <td>36769812</td>\n",
       "    </tr>\n",
       "    <tr>\n",
       "      <th>1</th>\n",
       "      <td>The former Doctor Who actress, from Inverness, joins US stars Kevin Hart, Jack Black and Dwayne Johnson, aka The Rock, in the new production. Her casting follows her securing a bigger role in Guardians of the Galaxy. Starring the late Robin Williams, Jumanji involves a magical board game and is regarded by fans as a classic. In posts on Instagram, Hart and Johnson welcomed Gillan, who studied drama at Eden Court in Inverness, to \"the Jumanji family\". Johnson wrote:  \"I'm proud to announce a girl who's playing the most important role in our movie - the talented, beautiful and down for a Scottish fight at any time, Karen Gillan. \"And yes, this is the girl who is so bad ass she shaved her freaking head for Guardians Of The Galaxy. \"We start production next month in Hawaii and as many of you already know, this isn't a remake or reboot, but a continuation of the awesome Jumanji story we love.\" Gillan shaved her head to play blue-skinned space pirate Nebula in 2014's Guardians of the Galaxy. She has returned to the role for next year's Guardians of the Galaxy, Volume Two. Its director James Gunn said Gillan will have more screen time in the sequel.</td>\n",
       "      <td>Scottish actress Karen Gillan has been cast in a new film that has been described as a follow up story to the 1990s box office hit, Jumanji.</td>\n",
       "      <td>37229831</td>\n",
       "    </tr>\n",
       "    <tr>\n",
       "      <th>2</th>\n",
       "      <td>Twenty-one animals had first beached at Staffin on Monday afternoon. Most of the whales were saved but 10 then went on to strand themselves on rocks on nearby Staffin Island. Eight whales died including a female and her new born calf. The stranding is thought to have been triggered by the female having problems while calving.</td>\n",
       "      <td>A group of long-finned pilot whales that became stranded on rocks off Skye were able to return to open water with help from rescuers on Tuesday evening.</td>\n",
       "      <td>32989434</td>\n",
       "    </tr>\n",
       "    <tr>\n",
       "      <th>3</th>\n",
       "      <td>Sea Watch said men from the speedboat boarded the dinghy and beat migrants with sticks, causing a \"mass panic\". At least four of the 150 people on board the dinghy fell into the water and drowned, Sea Watch said. A spokesman for Libya's naval forces in Tripoli said he had not heard about the incident. The motive for the attack was not clear, but Ruben Neugebauer, a spokesman for Sea Watch, said the attackers were attempting to steal the dinghy's engine. Mr Neugebauer said that 25 people remained missing. Sea Watch, a German organisation, said in a statement: \"The violent intervention of the Libyan Coast Guard caused a situation of mass panic on board the rubber boat in distress. \"One tube of the rubber boat collapsed, causing the majority of the 150 people to slip into the water.\" About 120 people were rescued and brought aboard the Sea Watch 2 ship. Four were unconscious and receiving treatment. Italy's coast guard confirmed that Sea Watch had been involved in some of the nine rescue operations taking place on Friday. Both the Libyan and Italian coast guards said they had received no information about the attack yet. Italy has taken in more than 146,000 boat migrants so far this year and is on track to see more arrivals than last year, when 153,000 arrived. In August, the Doctors Without Borders humanitarian group, which operates rescue ships off the coast of Libya, said it was attacked by armed men on a Libyan navy boat. The Libyan navy said it thought the vessel was involved in people smuggling.</td>\n",
       "      <td>At least four migrants have died after a speedboat labelled \"Libyan Coast Guard\" attacked a dinghy, according to a migrant rescue organisation.</td>\n",
       "      <td>37731094</td>\n",
       "    </tr>\n",
       "    <tr>\n",
       "      <th>4</th>\n",
       "      <td>Attention is focusing on how Khalid Masood was able to enter the Carriage Gates entrance of Parliament before he was confronted and subsequently shot. One security expert said the breach may have been a product of complacency. Ministers insist the police did their job and Parliament can't be sealed off - and a security review is under way. A Parliamentary spokesman said security was always under \"constant review\" but the building had to remain \"open and accessible\" for it to function. The review follows the fatal stabbing of PC Keith Palmer in the grounds of the Palace of Westminster. Ministers have declined to comment on unconfirmed reports that his alleged assailant was shot dead by a member of Defence Secretary Sir Michael Fallon's close protection team, who happened to be at the scene, rather than a uniformed officer stationed at the gate. Some MPs regard the carriage gates entrance, which is used by government cars to drop off and pick up ministers, as a weak point in the security perimeter. It is manned by two police officers but they are not always armed and the gate is often open, unlike other entrances to the Palace of Westminster. The Times reported that a 2005 review had found the entrance to be a weak point, primarily due to the number of delivery vans using it. The paper quoted parliamentary sources as saying any changes at the time had been regarded as \"too cumbersome\". The Met Police said the current security arrangements had been in place for many years and were \"designed to provide access to the seat of our government balanced carefully with security that is proportionate but not overly intrusive\". \"Of course, after an incident like this, as would be expected, my team will work with parliamentary authorities to assess whether a different tone or a different balance is necessary,\" Assistant Deputy Commissioner Mark Rowley said on Friday. Parliament, which oversees its own security, said the arrangements should reflect the level of risk it faced. \"As is good practice following any significant incident, the Houses in conjunction with the police and other bodies will also be carrying out a review of security around this specific incident,\" a spokesman said. Former Northern Ireland Secretary Theresa Villiers has said there is now a case for all police officers guarding Parliament and other \"sensitive sites\" to be routinely armed. There are two Metropolitan Police officers manning Carriage Gates at all times. Behind the gates there is a hut staffed by a third officer, whose job is to monitor pedestrians exiting the estate. All three officers are issued with stab vests. They check to ensure the driver of a vehicle or bicycle has the correct parliamentary pass. Cars are security vetted beyond the gates. They all have two way radios so can call for help in emergencies. Armed police are on patrol throughout the Parliamentary estate at all times but they are more visible at times of heightened security. Security expert Professor Anthony Glees said the attack had demonstrated a \"lack of protection\" within Parliament. \"I am very disturbed by the complacent attitude,\" Prof Glees, who heads the Centre for Security and Intelligence Studies programme at the University of Buckingham told the BBC's Victoria Derbyshire programme. \"The fact is in immediate terms and wider terms, this was a failure of security policy. \"This is someone who got within 100 metres of where the prime minister was. If he had an explosive vest, we would be having a very different conversation.\" Tony Long, a former armed police officer, said those stationed at College Gates were effectively \"meeters and greeters and pass checkers\" who were well known to MPs. He told Victoria Derbyshire there had been a huge reluctance within Parliament, which oversees its own security, to have armed officers on patrol. \"There is a huge amount of tradition about that building,\" he said. \"I guarantee if those gates were shut, the first person to complain about it would be an MP or a cabinet minister.\" Several MPs have warned Westminster should not be turned into a fortress. \"The idea that arming all police will be a panacea and a solution to this problem may well be mistaken,\" said Conservative MP Dominic Grieve. \"It is worth bearing in mind that in fact security wasn't breached. There was a tragic loss of life but in trying to breach security, he was stopped.\" Kim Howells, a former chair of the Intelligence and Security Committee, said one must remember Parliament is a \"working building with people moving in and out\". Asked why Masood had not been stopped from entering the parliamentary estate, he said: \"This guy ran in through the gates. As a former rugby man, I know it is not easy to bring down a man in such a situation.\" There was a major review of security at the Palace of Westminster in 2014 which was supposed to \"assess the strengths and weaknesses of the current arrangements and to make recommendations\". Its findings have not been published.</td>\n",
       "      <td>Questions continue to be asked about whether Wednesday's fatal terror attack in Parliament could have been prevented if more officers had been armed.</td>\n",
       "      <td>39378806</td>\n",
       "    </tr>\n",
       "  </tbody>\n",
       "</table>"
      ],
      "text/plain": [
       "<IPython.core.display.HTML object>"
      ]
     },
     "metadata": {},
     "output_type": "display_data"
    },
    {
     "data": {
      "text/html": [
       "<table border=\"1\" class=\"dataframe\">\n",
       "  <thead>\n",
       "    <tr style=\"text-align: right;\">\n",
       "      <th></th>\n",
       "      <th>document</th>\n",
       "      <th>summary</th>\n",
       "      <th>id</th>\n",
       "    </tr>\n",
       "  </thead>\n",
       "  <tbody>\n",
       "    <tr>\n",
       "      <th>0</th>\n",
       "      <td>Division One leaders Middlesex, who were bowled out for 381 at Taunton to lead by 145, looked in charge when they reduced Somerset to 59-3 and 126-4. But Trescothick, who made 124, and Trego, still there on 115, shared 181 to leave the contest in the balance. Somerset closed on 348-6, an advantage of 203 runs. On a surface that has become easier for batting as the game has progressed, the outcome seems likely to rest on the length of time Trego spends at the crease on the final day. Somerset would perhaps want to post a target in excess of 250, while anything less would probably leave Middlesex as favourites. That the home side, who at one stage looked set to be defeated inside three days, are still in with a shout is down entirely to Trescothick and Trego. Opener Trescothick had seen Johann Myburgh bowled offering no shot to Harry Podmore and captain Chris Rogers shovel the same bowler to point for a duck. After James Hildreth was caught at slip from the off-spin of Ollie Rayner, Trescothick found some support from James Allenby, but when he mistimed a pull to mid-on, Somerset were still 19 behind. But Trescothick, playing characteristically powerful cover drives, and Trego, who capitalised as the Middlesex bowlers often dropped short, compiled their huge fifth-wicket stand to drag the hosts back into it. Trescothick's 48th Somerset hundred took him past Sir Viv Richards to second on the all-time list, while Trego completed his 14th first-class ton. Only when James Harris found some late energy did he have both Trescothick and Craig Overton caught behind, leaving Alex Barrow to accompany Trego to the close. Harris was earlier the last Middlesex wicket to fall, caught at slip off Tim Groenewald for 78, missing a maiden first-class hundred, just like James Fuller, who fell to the same combination for 93.</td>\n",
       "      <td>Marcus Trescothick and Peter Trego both made centuries to drag Somerset back into contention with Middlesex on day three of the County Championship match.</td>\n",
       "      <td>36769812</td>\n",
       "    </tr>\n",
       "    <tr>\n",
       "      <th>1</th>\n",
       "      <td>The former Doctor Who actress, from Inverness, joins US stars Kevin Hart, Jack Black and Dwayne Johnson, aka The Rock, in the new production. Her casting follows her securing a bigger role in Guardians of the Galaxy. Starring the late Robin Williams, Jumanji involves a magical board game and is regarded by fans as a classic. In posts on Instagram, Hart and Johnson welcomed Gillan, who studied drama at Eden Court in Inverness, to \"the Jumanji family\". Johnson wrote:  \"I'm proud to announce a girl who's playing the most important role in our movie - the talented, beautiful and down for a Scottish fight at any time, Karen Gillan. \"And yes, this is the girl who is so bad ass she shaved her freaking head for Guardians Of The Galaxy. \"We start production next month in Hawaii and as many of you already know, this isn't a remake or reboot, but a continuation of the awesome Jumanji story we love.\" Gillan shaved her head to play blue-skinned space pirate Nebula in 2014's Guardians of the Galaxy. She has returned to the role for next year's Guardians of the Galaxy, Volume Two. Its director James Gunn said Gillan will have more screen time in the sequel.</td>\n",
       "      <td>Scottish actress Karen Gillan has been cast in a new film that has been described as a follow up story to the 1990s box office hit, Jumanji.</td>\n",
       "      <td>37229831</td>\n",
       "    </tr>\n",
       "    <tr>\n",
       "      <th>2</th>\n",
       "      <td>Twenty-one animals had first beached at Staffin on Monday afternoon. Most of the whales were saved but 10 then went on to strand themselves on rocks on nearby Staffin Island. Eight whales died including a female and her new born calf. The stranding is thought to have been triggered by the female having problems while calving.</td>\n",
       "      <td>A group of long-finned pilot whales that became stranded on rocks off Skye were able to return to open water with help from rescuers on Tuesday evening.</td>\n",
       "      <td>32989434</td>\n",
       "    </tr>\n",
       "    <tr>\n",
       "      <th>3</th>\n",
       "      <td>Sea Watch said men from the speedboat boarded the dinghy and beat migrants with sticks, causing a \"mass panic\". At least four of the 150 people on board the dinghy fell into the water and drowned, Sea Watch said. A spokesman for Libya's naval forces in Tripoli said he had not heard about the incident. The motive for the attack was not clear, but Ruben Neugebauer, a spokesman for Sea Watch, said the attackers were attempting to steal the dinghy's engine. Mr Neugebauer said that 25 people remained missing. Sea Watch, a German organisation, said in a statement: \"The violent intervention of the Libyan Coast Guard caused a situation of mass panic on board the rubber boat in distress. \"One tube of the rubber boat collapsed, causing the majority of the 150 people to slip into the water.\" About 120 people were rescued and brought aboard the Sea Watch 2 ship. Four were unconscious and receiving treatment. Italy's coast guard confirmed that Sea Watch had been involved in some of the nine rescue operations taking place on Friday. Both the Libyan and Italian coast guards said they had received no information about the attack yet. Italy has taken in more than 146,000 boat migrants so far this year and is on track to see more arrivals than last year, when 153,000 arrived. In August, the Doctors Without Borders humanitarian group, which operates rescue ships off the coast of Libya, said it was attacked by armed men on a Libyan navy boat. The Libyan navy said it thought the vessel was involved in people smuggling.</td>\n",
       "      <td>At least four migrants have died after a speedboat labelled \"Libyan Coast Guard\" attacked a dinghy, according to a migrant rescue organisation.</td>\n",
       "      <td>37731094</td>\n",
       "    </tr>\n",
       "    <tr>\n",
       "      <th>4</th>\n",
       "      <td>Attention is focusing on how Khalid Masood was able to enter the Carriage Gates entrance of Parliament before he was confronted and subsequently shot. One security expert said the breach may have been a product of complacency. Ministers insist the police did their job and Parliament can't be sealed off - and a security review is under way. A Parliamentary spokesman said security was always under \"constant review\" but the building had to remain \"open and accessible\" for it to function. The review follows the fatal stabbing of PC Keith Palmer in the grounds of the Palace of Westminster. Ministers have declined to comment on unconfirmed reports that his alleged assailant was shot dead by a member of Defence Secretary Sir Michael Fallon's close protection team, who happened to be at the scene, rather than a uniformed officer stationed at the gate. Some MPs regard the carriage gates entrance, which is used by government cars to drop off and pick up ministers, as a weak point in the security perimeter. It is manned by two police officers but they are not always armed and the gate is often open, unlike other entrances to the Palace of Westminster. The Times reported that a 2005 review had found the entrance to be a weak point, primarily due to the number of delivery vans using it. The paper quoted parliamentary sources as saying any changes at the time had been regarded as \"too cumbersome\". The Met Police said the current security arrangements had been in place for many years and were \"designed to provide access to the seat of our government balanced carefully with security that is proportionate but not overly intrusive\". \"Of course, after an incident like this, as would be expected, my team will work with parliamentary authorities to assess whether a different tone or a different balance is necessary,\" Assistant Deputy Commissioner Mark Rowley said on Friday. Parliament, which oversees its own security, said the arrangements should reflect the level of risk it faced. \"As is good practice following any significant incident, the Houses in conjunction with the police and other bodies will also be carrying out a review of security around this specific incident,\" a spokesman said. Former Northern Ireland Secretary Theresa Villiers has said there is now a case for all police officers guarding Parliament and other \"sensitive sites\" to be routinely armed. There are two Metropolitan Police officers manning Carriage Gates at all times. Behind the gates there is a hut staffed by a third officer, whose job is to monitor pedestrians exiting the estate. All three officers are issued with stab vests. They check to ensure the driver of a vehicle or bicycle has the correct parliamentary pass. Cars are security vetted beyond the gates. They all have two way radios so can call for help in emergencies. Armed police are on patrol throughout the Parliamentary estate at all times but they are more visible at times of heightened security. Security expert Professor Anthony Glees said the attack had demonstrated a \"lack of protection\" within Parliament. \"I am very disturbed by the complacent attitude,\" Prof Glees, who heads the Centre for Security and Intelligence Studies programme at the University of Buckingham told the BBC's Victoria Derbyshire programme. \"The fact is in immediate terms and wider terms, this was a failure of security policy. \"This is someone who got within 100 metres of where the prime minister was. If he had an explosive vest, we would be having a very different conversation.\" Tony Long, a former armed police officer, said those stationed at College Gates were effectively \"meeters and greeters and pass checkers\" who were well known to MPs. He told Victoria Derbyshire there had been a huge reluctance within Parliament, which oversees its own security, to have armed officers on patrol. \"There is a huge amount of tradition about that building,\" he said. \"I guarantee if those gates were shut, the first person to complain about it would be an MP or a cabinet minister.\" Several MPs have warned Westminster should not be turned into a fortress. \"The idea that arming all police will be a panacea and a solution to this problem may well be mistaken,\" said Conservative MP Dominic Grieve. \"It is worth bearing in mind that in fact security wasn't breached. There was a tragic loss of life but in trying to breach security, he was stopped.\" Kim Howells, a former chair of the Intelligence and Security Committee, said one must remember Parliament is a \"working building with people moving in and out\". Asked why Masood had not been stopped from entering the parliamentary estate, he said: \"This guy ran in through the gates. As a former rugby man, I know it is not easy to bring down a man in such a situation.\" There was a major review of security at the Palace of Westminster in 2014 which was supposed to \"assess the strengths and weaknesses of the current arrangements and to make recommendations\". Its findings have not been published.</td>\n",
       "      <td>Questions continue to be asked about whether Wednesday's fatal terror attack in Parliament could have been prevented if more officers had been armed.</td>\n",
       "      <td>39378806</td>\n",
       "    </tr>\n",
       "  </tbody>\n",
       "</table>"
      ],
      "text/plain": [
       "<IPython.core.display.HTML object>"
      ]
     },
     "metadata": {},
     "output_type": "display_data"
    },
    {
     "data": {
      "text/html": [
       "<table border=\"1\" class=\"dataframe\">\n",
       "  <thead>\n",
       "    <tr style=\"text-align: right;\">\n",
       "      <th></th>\n",
       "      <th>document</th>\n",
       "      <th>summary</th>\n",
       "      <th>id</th>\n",
       "    </tr>\n",
       "  </thead>\n",
       "  <tbody>\n",
       "    <tr>\n",
       "      <th>0</th>\n",
       "      <td>Division One leaders Middlesex, who were bowled out for 381 at Taunton to lead by 145, looked in charge when they reduced Somerset to 59-3 and 126-4. But Trescothick, who made 124, and Trego, still there on 115, shared 181 to leave the contest in the balance. Somerset closed on 348-6, an advantage of 203 runs. On a surface that has become easier for batting as the game has progressed, the outcome seems likely to rest on the length of time Trego spends at the crease on the final day. Somerset would perhaps want to post a target in excess of 250, while anything less would probably leave Middlesex as favourites. That the home side, who at one stage looked set to be defeated inside three days, are still in with a shout is down entirely to Trescothick and Trego. Opener Trescothick had seen Johann Myburgh bowled offering no shot to Harry Podmore and captain Chris Rogers shovel the same bowler to point for a duck. After James Hildreth was caught at slip from the off-spin of Ollie Rayner, Trescothick found some support from James Allenby, but when he mistimed a pull to mid-on, Somerset were still 19 behind. But Trescothick, playing characteristically powerful cover drives, and Trego, who capitalised as the Middlesex bowlers often dropped short, compiled their huge fifth-wicket stand to drag the hosts back into it. Trescothick's 48th Somerset hundred took him past Sir Viv Richards to second on the all-time list, while Trego completed his 14th first-class ton. Only when James Harris found some late energy did he have both Trescothick and Craig Overton caught behind, leaving Alex Barrow to accompany Trego to the close. Harris was earlier the last Middlesex wicket to fall, caught at slip off Tim Groenewald for 78, missing a maiden first-class hundred, just like James Fuller, who fell to the same combination for 93.</td>\n",
       "      <td>Marcus Trescothick and Peter Trego both made centuries to drag Somerset back into contention with Middlesex on day three of the County Championship match.</td>\n",
       "      <td>36769812</td>\n",
       "    </tr>\n",
       "    <tr>\n",
       "      <th>1</th>\n",
       "      <td>The former Doctor Who actress, from Inverness, joins US stars Kevin Hart, Jack Black and Dwayne Johnson, aka The Rock, in the new production. Her casting follows her securing a bigger role in Guardians of the Galaxy. Starring the late Robin Williams, Jumanji involves a magical board game and is regarded by fans as a classic. In posts on Instagram, Hart and Johnson welcomed Gillan, who studied drama at Eden Court in Inverness, to \"the Jumanji family\". Johnson wrote:  \"I'm proud to announce a girl who's playing the most important role in our movie - the talented, beautiful and down for a Scottish fight at any time, Karen Gillan. \"And yes, this is the girl who is so bad ass she shaved her freaking head for Guardians Of The Galaxy. \"We start production next month in Hawaii and as many of you already know, this isn't a remake or reboot, but a continuation of the awesome Jumanji story we love.\" Gillan shaved her head to play blue-skinned space pirate Nebula in 2014's Guardians of the Galaxy. She has returned to the role for next year's Guardians of the Galaxy, Volume Two. Its director James Gunn said Gillan will have more screen time in the sequel.</td>\n",
       "      <td>Scottish actress Karen Gillan has been cast in a new film that has been described as a follow up story to the 1990s box office hit, Jumanji.</td>\n",
       "      <td>37229831</td>\n",
       "    </tr>\n",
       "    <tr>\n",
       "      <th>2</th>\n",
       "      <td>Twenty-one animals had first beached at Staffin on Monday afternoon. Most of the whales were saved but 10 then went on to strand themselves on rocks on nearby Staffin Island. Eight whales died including a female and her new born calf. The stranding is thought to have been triggered by the female having problems while calving.</td>\n",
       "      <td>A group of long-finned pilot whales that became stranded on rocks off Skye were able to return to open water with help from rescuers on Tuesday evening.</td>\n",
       "      <td>32989434</td>\n",
       "    </tr>\n",
       "    <tr>\n",
       "      <th>3</th>\n",
       "      <td>Sea Watch said men from the speedboat boarded the dinghy and beat migrants with sticks, causing a \"mass panic\". At least four of the 150 people on board the dinghy fell into the water and drowned, Sea Watch said. A spokesman for Libya's naval forces in Tripoli said he had not heard about the incident. The motive for the attack was not clear, but Ruben Neugebauer, a spokesman for Sea Watch, said the attackers were attempting to steal the dinghy's engine. Mr Neugebauer said that 25 people remained missing. Sea Watch, a German organisation, said in a statement: \"The violent intervention of the Libyan Coast Guard caused a situation of mass panic on board the rubber boat in distress. \"One tube of the rubber boat collapsed, causing the majority of the 150 people to slip into the water.\" About 120 people were rescued and brought aboard the Sea Watch 2 ship. Four were unconscious and receiving treatment. Italy's coast guard confirmed that Sea Watch had been involved in some of the nine rescue operations taking place on Friday. Both the Libyan and Italian coast guards said they had received no information about the attack yet. Italy has taken in more than 146,000 boat migrants so far this year and is on track to see more arrivals than last year, when 153,000 arrived. In August, the Doctors Without Borders humanitarian group, which operates rescue ships off the coast of Libya, said it was attacked by armed men on a Libyan navy boat. The Libyan navy said it thought the vessel was involved in people smuggling.</td>\n",
       "      <td>At least four migrants have died after a speedboat labelled \"Libyan Coast Guard\" attacked a dinghy, according to a migrant rescue organisation.</td>\n",
       "      <td>37731094</td>\n",
       "    </tr>\n",
       "    <tr>\n",
       "      <th>4</th>\n",
       "      <td>Attention is focusing on how Khalid Masood was able to enter the Carriage Gates entrance of Parliament before he was confronted and subsequently shot. One security expert said the breach may have been a product of complacency. Ministers insist the police did their job and Parliament can't be sealed off - and a security review is under way. A Parliamentary spokesman said security was always under \"constant review\" but the building had to remain \"open and accessible\" for it to function. The review follows the fatal stabbing of PC Keith Palmer in the grounds of the Palace of Westminster. Ministers have declined to comment on unconfirmed reports that his alleged assailant was shot dead by a member of Defence Secretary Sir Michael Fallon's close protection team, who happened to be at the scene, rather than a uniformed officer stationed at the gate. Some MPs regard the carriage gates entrance, which is used by government cars to drop off and pick up ministers, as a weak point in the security perimeter. It is manned by two police officers but they are not always armed and the gate is often open, unlike other entrances to the Palace of Westminster. The Times reported that a 2005 review had found the entrance to be a weak point, primarily due to the number of delivery vans using it. The paper quoted parliamentary sources as saying any changes at the time had been regarded as \"too cumbersome\". The Met Police said the current security arrangements had been in place for many years and were \"designed to provide access to the seat of our government balanced carefully with security that is proportionate but not overly intrusive\". \"Of course, after an incident like this, as would be expected, my team will work with parliamentary authorities to assess whether a different tone or a different balance is necessary,\" Assistant Deputy Commissioner Mark Rowley said on Friday. Parliament, which oversees its own security, said the arrangements should reflect the level of risk it faced. \"As is good practice following any significant incident, the Houses in conjunction with the police and other bodies will also be carrying out a review of security around this specific incident,\" a spokesman said. Former Northern Ireland Secretary Theresa Villiers has said there is now a case for all police officers guarding Parliament and other \"sensitive sites\" to be routinely armed. There are two Metropolitan Police officers manning Carriage Gates at all times. Behind the gates there is a hut staffed by a third officer, whose job is to monitor pedestrians exiting the estate. All three officers are issued with stab vests. They check to ensure the driver of a vehicle or bicycle has the correct parliamentary pass. Cars are security vetted beyond the gates. They all have two way radios so can call for help in emergencies. Armed police are on patrol throughout the Parliamentary estate at all times but they are more visible at times of heightened security. Security expert Professor Anthony Glees said the attack had demonstrated a \"lack of protection\" within Parliament. \"I am very disturbed by the complacent attitude,\" Prof Glees, who heads the Centre for Security and Intelligence Studies programme at the University of Buckingham told the BBC's Victoria Derbyshire programme. \"The fact is in immediate terms and wider terms, this was a failure of security policy. \"This is someone who got within 100 metres of where the prime minister was. If he had an explosive vest, we would be having a very different conversation.\" Tony Long, a former armed police officer, said those stationed at College Gates were effectively \"meeters and greeters and pass checkers\" who were well known to MPs. He told Victoria Derbyshire there had been a huge reluctance within Parliament, which oversees its own security, to have armed officers on patrol. \"There is a huge amount of tradition about that building,\" he said. \"I guarantee if those gates were shut, the first person to complain about it would be an MP or a cabinet minister.\" Several MPs have warned Westminster should not be turned into a fortress. \"The idea that arming all police will be a panacea and a solution to this problem may well be mistaken,\" said Conservative MP Dominic Grieve. \"It is worth bearing in mind that in fact security wasn't breached. There was a tragic loss of life but in trying to breach security, he was stopped.\" Kim Howells, a former chair of the Intelligence and Security Committee, said one must remember Parliament is a \"working building with people moving in and out\". Asked why Masood had not been stopped from entering the parliamentary estate, he said: \"This guy ran in through the gates. As a former rugby man, I know it is not easy to bring down a man in such a situation.\" There was a major review of security at the Palace of Westminster in 2014 which was supposed to \"assess the strengths and weaknesses of the current arrangements and to make recommendations\". Its findings have not been published.</td>\n",
       "      <td>Questions continue to be asked about whether Wednesday's fatal terror attack in Parliament could have been prevented if more officers had been armed.</td>\n",
       "      <td>39378806</td>\n",
       "    </tr>\n",
       "  </tbody>\n",
       "</table>"
      ],
      "text/plain": [
       "<IPython.core.display.HTML object>"
      ]
     },
     "metadata": {},
     "output_type": "display_data"
    }
   ],
   "source": [
    "display_function(xsum[\"test\"])"
   ]
  },
  {
   "cell_type": "markdown",
   "metadata": {},
   "source": [
    "### We can view the column names and data types without our dataset using .features"
   ]
  },
  {
   "cell_type": "code",
   "execution_count": 10,
   "metadata": {},
   "outputs": [
    {
     "data": {
      "text/plain": [
       "{'document': Value(dtype='string', id=None),\n",
       " 'summary': Value(dtype='string', id=None),\n",
       " 'id': Value(dtype='string', id=None)}"
      ]
     },
     "execution_count": 10,
     "metadata": {},
     "output_type": "execute_result"
    }
   ],
   "source": [
    "xsum['test'].features"
   ]
  },
  {
   "cell_type": "code",
   "execution_count": 11,
   "metadata": {},
   "outputs": [
    {
     "name": "stdout",
     "output_type": "stream",
     "text": [
      "DatasetInfo(description='\\nExtreme Summarization (XSum) Dataset.\\n\\nThere are three features:\\n  - document: Input news article.\\n  - summary: One sentence summary of the article.\\n  - id: BBC ID of the article.\\n\\n', citation=\"\\n@article{Narayan2018DontGM,\\n  title={Don't Give Me the Details, Just the Summary! Topic-Aware Convolutional Neural Networks for Extreme Summarization},\\n  author={Shashi Narayan and Shay B. Cohen and Mirella Lapata},\\n  journal={ArXiv},\\n  year={2018},\\n  volume={abs/1808.08745}\\n}\\n\", homepage='https://github.com/EdinburghNLP/XSum/tree/master/XSum-Dataset', license='', features={'document': Value(dtype='string', id=None), 'summary': Value(dtype='string', id=None), 'id': Value(dtype='string', id=None)}, post_processed=None, supervised_keys=SupervisedKeysData(input='document', output='summary'), task_templates=None, builder_name='xsum', config_name='default', version=1.2.0, splits={'train': SplitInfo(name='train', num_bytes=479206615, num_examples=204045, dataset_name='xsum'), 'validation': SplitInfo(name='validation', num_bytes=26292901, num_examples=11332, dataset_name='xsum'), 'test': SplitInfo(name='test', num_bytes=26756165, num_examples=11334, dataset_name='xsum')}, download_checksums={'http://bollin.inf.ed.ac.uk/public/direct/XSUM-EMNLP18-Summary-Data-Original.tar.gz': {'num_bytes': 254582292, 'checksum': '10b48aa187fc9c904b30f76ca97e2da0de8d3a1238acc26acadef93e2001af90'}, 'https://raw.githubusercontent.com/EdinburghNLP/XSum/master/XSum-Dataset/XSum-TRAINING-DEV-TEST-SPLIT-90-5-5.json': {'num_bytes': 2720574, 'checksum': '9c0c5d8f048a90bd68b19a34e4c30577ed270d3247b2119fa06a04ef46292068'}}, download_size=257302866, post_processing_size=None, dataset_size=532255681, size_in_bytes=789558547)\n"
     ]
    }
   ],
   "source": [
    "print(xsum['test'].info)"
   ]
  },
  {
   "cell_type": "markdown",
   "metadata": {},
   "source": [
    "# Preparing XSUM Data\n",
    "Before we can put the text into a model need to transform the text into a format that the transformer can understand. Encoders and decoders understand numerical values not strings so we need to tokenize each of the words and then convert them into numerical values the model can understand. The tokenization transformer splits text into tokens and then adds special tokens if it expects them to classify. The tokenizer then matches each token to unique id in vocabulary of tokenizer which has a corresponding vector of numerical values. These vectors contain the value of a word but contextualized. For example, the vector representation of the word \"to\" isnt just \"to\", it also takes iinto account the words around it which are called context (right and left context). To continue this example, \"Welcome to NYC\" is a sentence that has the word \"to\". For the word \"to\" the left context is \"Welcome\" and the right context is \"NYC\". The output is based on these contexts; this is how the value is a contextualized vector thanks to self-attention mechanism. We can do all of this using the AutoTokenizer.from_pretarined method to ensure that we get a tokenizer that corresponds to the model architecture we want to use (facebook/bart-large-cnn); however, we will specifically reference the BartTokenizer in our checkpoint, tokenizer, and model to ensure all aspects of our model were trained using the same methodologies so we can avoid unexpected summaries"
   ]
  },
  {
   "cell_type": "code",
   "execution_count": 12,
   "metadata": {},
   "outputs": [],
   "source": [
    "checkpoint = \"facebook/bart-large-cnn\"\n",
    "tokenizer = BartTokenizer.from_pretrained(checkpoint)\n",
    "model = BartForConditionalGeneration.from_pretrained(checkpoint)"
   ]
  },
  {
   "cell_type": "markdown",
   "metadata": {},
   "source": [
    "### We now write a function that preprocesses the test data by passing it to the tokenizer. We need to use the argument truncation=True to ensure that any input longer than the model can handle will be truncated to the maximum length alowed. We can view this information in the model config. BART has a maximum length of 1024 which we can see in max_position_embeddings"
   ]
  },
  {
   "cell_type": "code",
   "execution_count": 13,
   "metadata": {},
   "outputs": [
    {
     "data": {
      "text/plain": [
       "BartConfig {\n",
       "  \"_name_or_path\": \"facebook/bart-large-cnn\",\n",
       "  \"_num_labels\": 3,\n",
       "  \"activation_dropout\": 0.0,\n",
       "  \"activation_function\": \"gelu\",\n",
       "  \"add_final_layer_norm\": false,\n",
       "  \"architectures\": [\n",
       "    \"BartForConditionalGeneration\"\n",
       "  ],\n",
       "  \"attention_dropout\": 0.0,\n",
       "  \"bos_token_id\": 0,\n",
       "  \"classif_dropout\": 0.0,\n",
       "  \"classifier_dropout\": 0.0,\n",
       "  \"d_model\": 1024,\n",
       "  \"decoder_attention_heads\": 16,\n",
       "  \"decoder_ffn_dim\": 4096,\n",
       "  \"decoder_layerdrop\": 0.0,\n",
       "  \"decoder_layers\": 12,\n",
       "  \"decoder_start_token_id\": 2,\n",
       "  \"dropout\": 0.1,\n",
       "  \"early_stopping\": true,\n",
       "  \"encoder_attention_heads\": 16,\n",
       "  \"encoder_ffn_dim\": 4096,\n",
       "  \"encoder_layerdrop\": 0.0,\n",
       "  \"encoder_layers\": 12,\n",
       "  \"eos_token_id\": 2,\n",
       "  \"force_bos_token_to_be_generated\": true,\n",
       "  \"forced_bos_token_id\": 0,\n",
       "  \"forced_eos_token_id\": 2,\n",
       "  \"gradient_checkpointing\": false,\n",
       "  \"id2label\": {\n",
       "    \"0\": \"LABEL_0\",\n",
       "    \"1\": \"LABEL_1\",\n",
       "    \"2\": \"LABEL_2\"\n",
       "  },\n",
       "  \"init_std\": 0.02,\n",
       "  \"is_encoder_decoder\": true,\n",
       "  \"label2id\": {\n",
       "    \"LABEL_0\": 0,\n",
       "    \"LABEL_1\": 1,\n",
       "    \"LABEL_2\": 2\n",
       "  },\n",
       "  \"length_penalty\": 2.0,\n",
       "  \"max_length\": 142,\n",
       "  \"max_position_embeddings\": 1024,\n",
       "  \"min_length\": 56,\n",
       "  \"model_type\": \"bart\",\n",
       "  \"no_repeat_ngram_size\": 3,\n",
       "  \"normalize_before\": false,\n",
       "  \"num_beams\": 4,\n",
       "  \"num_hidden_layers\": 12,\n",
       "  \"output_past\": true,\n",
       "  \"pad_token_id\": 1,\n",
       "  \"prefix\": \" \",\n",
       "  \"scale_embedding\": false,\n",
       "  \"task_specific_params\": {\n",
       "    \"summarization\": {\n",
       "      \"early_stopping\": true,\n",
       "      \"length_penalty\": 2.0,\n",
       "      \"max_length\": 142,\n",
       "      \"min_length\": 56,\n",
       "      \"no_repeat_ngram_size\": 3,\n",
       "      \"num_beams\": 4\n",
       "    }\n",
       "  },\n",
       "  \"transformers_version\": \"4.12.5\",\n",
       "  \"use_cache\": true,\n",
       "  \"vocab_size\": 50264\n",
       "}"
      ]
     },
     "execution_count": 13,
     "metadata": {},
     "output_type": "execute_result"
    }
   ],
   "source": [
    "model.config"
   ]
  },
  {
   "cell_type": "markdown",
   "metadata": {},
   "source": [
    "### We can now create the function with the maximum length allowed as per the config and an arbitrary minimum length. "
   ]
  },
  {
   "cell_type": "code",
   "execution_count": 14,
   "metadata": {},
   "outputs": [],
   "source": [
    "max_input_length = 1024\n",
    "max_target_length = 100\n",
    "\n",
    "\n",
    "def preperation_function(examples):\n",
    "    inputs = [doc for doc in examples[\"document\"]]\n",
    "    model_inputs = tokenizer(inputs, max_length=max_input_length, truncation=True, padding=True)\n",
    "\n",
    "    \n",
    "    with tokenizer.as_target_tokenizer(): # Setup the tokenizer for summaries where \"as_target_tokenizer\" is what provides passes along the context for each vector\n",
    "        labels = tokenizer(\n",
    "            examples[\"summary\"], max_length=max_target_length, truncation=True\n",
    "        )\n",
    "\n",
    "    model_inputs[\"labels\"] = labels[\"input_ids\"]\n",
    "    return model_inputs"
   ]
  },
  {
   "cell_type": "markdown",
   "metadata": {},
   "source": [
    "### We can apply this function to our dataset using map"
   ]
  },
  {
   "cell_type": "code",
   "execution_count": 15,
   "metadata": {},
   "outputs": [
    {
     "name": "stderr",
     "output_type": "stream",
     "text": [
      "Loading cached processed dataset at C:\\Users\\creeg\\.cache\\huggingface\\datasets\\xsum\\default\\1.2.0\\32c23220eadddb1149b16ed2e9430a05293768cfffbdfd151058697d4c11f934\\cache-2b651f21d6ec073a.arrow\n",
      "Loading cached processed dataset at C:\\Users\\creeg\\.cache\\huggingface\\datasets\\xsum\\default\\1.2.0\\32c23220eadddb1149b16ed2e9430a05293768cfffbdfd151058697d4c11f934\\cache-35f38c35a797b587.arrow\n",
      "Loading cached processed dataset at C:\\Users\\creeg\\.cache\\huggingface\\datasets\\xsum\\default\\1.2.0\\32c23220eadddb1149b16ed2e9430a05293768cfffbdfd151058697d4c11f934\\cache-c6fb5876cc0b65d3.arrow\n"
     ]
    }
   ],
   "source": [
    "tokenized_xsum = xsum.map(preperation_function, batched=True)"
   ]
  },
  {
   "cell_type": "code",
   "execution_count": 16,
   "metadata": {},
   "outputs": [
    {
     "data": {
      "text/plain": [
       "DatasetDict({\n",
       "    train: Dataset({\n",
       "        features: ['attention_mask', 'document', 'id', 'input_ids', 'labels', 'summary'],\n",
       "        num_rows: 204045\n",
       "    })\n",
       "    validation: Dataset({\n",
       "        features: ['attention_mask', 'document', 'id', 'input_ids', 'labels', 'summary'],\n",
       "        num_rows: 11332\n",
       "    })\n",
       "    test: Dataset({\n",
       "        features: ['attention_mask', 'document', 'id', 'input_ids', 'labels', 'summary'],\n",
       "        num_rows: 11334\n",
       "    })\n",
       "})"
      ]
     },
     "execution_count": 16,
     "metadata": {},
     "output_type": "execute_result"
    }
   ],
   "source": [
    "tokenized_xsum"
   ]
  },
  {
   "cell_type": "code",
   "execution_count": 17,
   "metadata": {},
   "outputs": [
    {
     "data": {
      "text/plain": [
       "{'attention_mask': Sequence(feature=Value(dtype='int8', id=None), length=-1, id=None),\n",
       " 'document': Value(dtype='string', id=None),\n",
       " 'id': Value(dtype='string', id=None),\n",
       " 'input_ids': Sequence(feature=Value(dtype='int32', id=None), length=-1, id=None),\n",
       " 'labels': Sequence(feature=Value(dtype='int64', id=None), length=-1, id=None),\n",
       " 'summary': Value(dtype='string', id=None)}"
      ]
     },
     "execution_count": 17,
     "metadata": {},
     "output_type": "execute_result"
    }
   ],
   "source": [
    "tokenized_xsum['test'].features"
   ]
  },
  {
   "cell_type": "markdown",
   "metadata": {},
   "source": [
    "### The attention mask tells the model what to pay attention to by passing values of 1 for tokens to consider and values of 0 for tokens to ignore. The input ids are the numerical mapping of tokens to BART's vocabulary; each word in BART's vocabulary is assigned a numerical value."
   ]
  },
  {
   "cell_type": "code",
   "execution_count": 18,
   "metadata": {},
   "outputs": [
    {
     "data": {
      "text/html": [
       "<table border=\"1\" class=\"dataframe\">\n",
       "  <thead>\n",
       "    <tr style=\"text-align: right;\">\n",
       "      <th></th>\n",
       "      <th>attention_mask</th>\n",
       "      <th>document</th>\n",
       "      <th>id</th>\n",
       "      <th>input_ids</th>\n",
       "      <th>labels</th>\n",
       "      <th>summary</th>\n",
       "    </tr>\n",
       "  </thead>\n",
       "  <tbody>\n",
       "    <tr>\n",
       "      <th>0</th>\n",
       "      <td>[1, 1, 1, 1, 1, 1, 1, 1, 1, 1, 1, 1, 1, 1, 1, 1, 1, 1, 1, 1, 1, 1, 1, 1, 1, 1, 1, 1, 1, 1, 1, 1, 1, 1, 1, 1, 1, 1, 1, 1, 1, 1, 1, 1, 1, 1, 1, 1, 1, 1, 1, 1, 1, 1, 1, 1, 1, 1, 1, 1, 1, 1, 1, 1, 1, 1, 1, 1, 1, 1, 1, 1, 1, 1, 1, 1, 1, 1, 1, 1, 1, 1, 1, 1, 1, 1, 1, 1, 1, 1, 1, 1, 1, 1, 1, 1, 1, 1, 1, 1, ...]</td>\n",
       "      <td>Alexander Wotherspoon, 83, appeared at Paisley Sheriff Court charged with causing the death of Eilish Herron by driving without due care and attention. The 17-year-old was struck by Mr Wotherspoon's car at an Asda petrol station in Linwood in September 2014. The charge says he had failed to keep control of the car while reversing. Mr Wotherspoon, from Houston in Renfrewshire, uses a zimmer frame to help him walk. He denied starting the engine of his car and reversing while the driver's door was still open, failing to keep control of the car and, while it was reversing, causing it to hit the Renault Clio Eilish was filling up with petrol. The charge states that his actions knocked her to the ground, moved her car out of the way and caused his car to reverse over her, dragging her underneath the car, \"causing her to be so severely injured that she died.\" The incident happened at the Asda petrol station at the Phoenix Retail Park in Linwood on 10 September 2014. Sheriff Susan Sinclair adjourned the case for a trial to take place in August and continued Wotherspoon's bail. Speaking previously, Eilish's mother Shanneal, 47, said: \"Eilish was a really good girl, a normal teenager who loved her life, loved her family and loved her sport. \"She was my best friend, we had such a good laugh. \"I can't put into words how much she's missed in our family. We are all very close.\" Eilish was a keen netball player and played for Paisley Juniors as well as volunteering as a junior coach. After her death, Netball Scotland created the The Eilish Herron Young Coach of the Year Award, which will continue as a yearly recognition award for young coaches.</td>\n",
       "      <td>36438823</td>\n",
       "      <td>[0, 33409, 305, 7443, 4182, 3863, 6, 8101, 6, 1382, 23, 5476, 354, 607, 2795, 837, 1340, 19, 3735, 5, 744, 9, 381, 718, 1173, 1405, 2839, 30, 1428, 396, 528, 575, 8, 1503, 4, 20, 601, 12, 180, 12, 279, 21, 2322, 30, 427, 305, 7443, 4182, 3863, 18, 512, 23, 41, 287, 6106, 12309, 1992, 11, 9252, 1845, 11, 772, 777, 4, 20, 1427, 161, 37, 56, 1447, 7, 489, 797, 9, 5, 512, 150, 22254, 4, 427, 305, 7443, 4182, 3863, 6, 31, 2499, 11, 6340, 506, 10461, 9959, 6, 2939, 10, 992, 15912, 5120, 7, 244, ...]</td>\n",
       "      <td>[0, 250, 4931, 254, 34, 2296, 3735, 5, 744, 9, 10, 9231, 1816, 30, 30, 22254, 81, 69, 25, 79, 21, 8794, 69, 512, 62, 19, 12309, 11, 6340, 506, 10461, 9959, 4, 2]</td>\n",
       "      <td>A pensioner has denied causing the death of a teenage girl by by reversing over her as she was filling her car up with petrol in Renfrewshire.</td>\n",
       "    </tr>\n",
       "    <tr>\n",
       "      <th>1</th>\n",
       "      <td>[1, 1, 1, 1, 1, 1, 1, 1, 1, 1, 1, 1, 1, 1, 1, 1, 1, 1, 1, 1, 1, 1, 1, 1, 1, 1, 1, 1, 1, 1, 1, 1, 1, 1, 1, 1, 1, 1, 1, 1, 1, 1, 1, 1, 1, 1, 1, 1, 1, 1, 1, 1, 1, 1, 1, 1, 1, 1, 1, 1, 1, 1, 1, 1, 1, 1, 1, 1, 1, 1, 1, 1, 1, 1, 1, 1, 1, 1, 1, 1, 1, 1, 1, 1, 1, 1, 1, 1, 1, 1, 1, 1, 1, 1, 1, 1, 1, 1, 1, 1, ...]</td>\n",
       "      <td>Tourism NI said it expects a strategy to be in place by early next year. Janice Gault from the Hotels Federation told the BBC's Inside Business programme it was crucial for the industry. She said a \"partnership\" approach was essential. \"I mean we've really urged people to get a strategy at sort of quite a high level so that everybody can buy into that,\" she said. \"Hotels have probably spent about a billion pounds in the last decade and are set to spend more.\" Ms Gault said another big boom was expected in the hotel market which would probably generate another half a billion pounds. \"The funny thing about the strategy is we still have the target, but we don't have the strategy. We only have one way to go and that's growth and the way for us to get that is to partnership,\" she added.</td>\n",
       "      <td>33951665</td>\n",
       "      <td>[0, 31814, 1809, 17378, 26, 24, 3352, 10, 1860, 7, 28, 11, 317, 30, 419, 220, 76, 4, 1133, 2463, 272, 8839, 31, 5, 6003, 2507, 6692, 174, 5, 3295, 18, 10277, 2090, 3020, 24, 21, 4096, 13, 5, 539, 4, 264, 26, 10, 22, 7755, 7130, 4128, 113, 1548, 21, 4499, 4, 22, 100, 1266, 52, 348, 269, 2966, 82, 7, 120, 10, 1860, 23, 2345, 9, 1341, 10, 239, 672, 98, 14, 3370, 64, 907, 88, 14, 60, 79, 26, 4, 22, 27735, 2507, 33, 1153, 1240, 59, 10, 325, 2697, 11, 5, 94, 2202, 8, 32, 278, ...]</td>\n",
       "      <td>[0, 133, 6003, 2507, 6692, 34, 373, 13, 10, 4692, 5724, 1860, 13, 2874, 2487, 7, 244, 2501, 434, 11, 5, 1293, 4, 2]</td>\n",
       "      <td>The Hotels Federation has called for a proper tourism strategy for Northern Ireland to help boost growth in the sector.</td>\n",
       "    </tr>\n",
       "    <tr>\n",
       "      <th>2</th>\n",
       "      <td>[1, 1, 1, 1, 1, 1, 1, 1, 1, 1, 1, 1, 1, 1, 1, 1, 1, 1, 1, 1, 1, 1, 1, 1, 1, 1, 1, 1, 1, 1, 1, 1, 1, 1, 1, 1, 1, 1, 1, 1, 1, 1, 1, 1, 1, 1, 1, 1, 1, 1, 1, 1, 1, 1, 1, 1, 1, 1, 1, 1, 1, 1, 1, 1, 1, 1, 1, 1, 1, 1, 1, 1, 1, 1, 1, 1, 1, 1, 1, 1, 1, 1, 1, 1, 1, 1, 1, 1, 1, 1, 1, 1, 1, 1, 1, 1, 1, 1, 1, 1, ...]</td>\n",
       "      <td>The pop singer from Ely, Cardiff, topped the list following an online vote from a shortlist of 30 greats. In second place was Blackwood-born James Dean Bradfield of Manic Street Preachers, with musical theatre performer John Owen Jones coming in third. Sir Tom Jones and Dame Shirley Bassey, finished fourth and fifth respectively. Picking up his award, Mr Stevens said: \"The fact that it's a public vote means a lot to me, so a big thank you to the people who voted.\" Twelve judges from a range of musical disciplines selected a shortlist of 30 for the listeners' poll. Radio Wales editor Steve Austins said: \"While I'm a little surprised at the outcome, the people of Wales have spoken and there is no doubting Shaky's contribution to British music history. \"In fact his was the very first record I bought. \"Any winner from such a formidable shortlist is bound to create heated debate but the poll reminds us just how blessed with talent we are here in Wales.\" Shakin' Stevens shot to fame in 1981 with the number one hit single This Ole House. His platinum-selling career spans more than four decades and he is still recording and touring across the world. Wynne Evans' countdown show on Radio Wales can be heard here.</td>\n",
       "      <td>33116823</td>\n",
       "      <td>[0, 133, 3495, 3250, 31, 21294, 6, 12426, 6, 8319, 5, 889, 511, 41, 804, 900, 31, 10, 765, 8458, 9, 389, 372, 29, 4, 96, 200, 317, 21, 1378, 1845, 12, 5400, 957, 6450, 4770, 1399, 9, 1554, 636, 852, 5048, 19040, 6, 19, 4388, 8870, 12576, 610, 12212, 1454, 567, 11, 371, 4, 5348, 1560, 1454, 8, 9038, 18623, 7093, 4169, 6, 1550, 887, 8, 1998, 4067, 4, 221, 10176, 62, 39, 2354, 6, 427, 10283, 26, 35, 22, 133, 754, 14, 24, 18, 10, 285, 900, 839, 10, 319, 7, 162, 6, 98, 10, 380, 3392, 47, ...]</td>\n",
       "      <td>[0, 3609, 22576, 108, 10283, 34, 57, 2763, 5295, 108, 25854, 10427, 10880, 30, 18151, 9, 3295, 4611, 5295, 4, 2]</td>\n",
       "      <td>Shakin' Stevens has been voted Wales' Greatest Living Voice by listeners of BBC Radio Wales.</td>\n",
       "    </tr>\n",
       "    <tr>\n",
       "      <th>3</th>\n",
       "      <td>[1, 1, 1, 1, 1, 1, 1, 1, 1, 1, 1, 1, 1, 1, 1, 1, 1, 1, 1, 1, 1, 1, 1, 1, 1, 1, 1, 1, 1, 1, 1, 1, 1, 1, 1, 1, 1, 1, 1, 1, 1, 1, 1, 1, 1, 1, 1, 1, 1, 1, 1, 1, 1, 1, 1, 1, 1, 1, 1, 1, 1, 1, 1, 1, 1, 1, 1, 1, 1, 1, 1, 1, 1, 1, 1, 1, 1, 1, 1, 1, 1, 1, 1, 1, 1, 1, 1, 1, 1, 1, 1, 1, 1, 1, 1, 0, 0, 0, 0, 0, ...]</td>\n",
       "      <td>Robert Amoroso, 64, now from Hampshire, lived in Clifton from 1979 to 2013, the period of the alleged offences. Mr Amoroso was found not-guilty of two counts of sexual activity in the presence of a child. On Wednesday he was cleared of 14 other charges, including indecent assaults, sexual assaults and sexual activity in the presence of a child. Nottingham Crown Court heard the charges related to seven boys aged between 12 and 16.</td>\n",
       "      <td>33653495</td>\n",
       "      <td>[0, 25244, 1918, 368, 18865, 6, 4430, 6, 122, 31, 10372, 6, 3033, 11, 2893, 1594, 1054, 31, 12330, 7, 1014, 6, 5, 675, 9, 5, 1697, 9971, 4, 427, 1918, 368, 18865, 21, 303, 45, 12, 5521, 33576, 9, 80, 3948, 9, 1363, 1940, 11, 5, 2621, 9, 10, 920, 4, 374, 307, 37, 21, 6049, 9, 501, 97, 1103, 6, 217, 24502, 15624, 6, 1363, 15624, 8, 1363, 1940, 11, 5, 2621, 9, 10, 920, 4, 17142, 5748, 837, 1317, 5, 1103, 1330, 7, 707, 2786, 5180, 227, 316, 8, 545, 4, 2, 1, 1, 1, 1, 1, ...]</td>\n",
       "      <td>[0, 250, 320, 3254, 1238, 9, 5912, 16754, 2786, 11, 17142, 34, 57, 6049, 15, 70, 3948, 4, 2]</td>\n",
       "      <td>A former teacher accused of sexually abusing boys in Nottingham has been cleared on all counts.</td>\n",
       "    </tr>\n",
       "    <tr>\n",
       "      <th>4</th>\n",
       "      <td>[1, 1, 1, 1, 1, 1, 1, 1, 1, 1, 1, 1, 1, 1, 1, 1, 1, 1, 1, 1, 1, 1, 1, 1, 1, 1, 1, 1, 1, 1, 1, 1, 1, 1, 1, 1, 1, 1, 1, 1, 1, 1, 1, 1, 1, 1, 1, 1, 1, 1, 1, 1, 1, 1, 1, 1, 1, 1, 1, 1, 1, 1, 1, 1, 1, 1, 1, 1, 1, 1, 1, 1, 1, 1, 1, 1, 1, 1, 1, 1, 1, 1, 1, 1, 1, 1, 1, 1, 1, 1, 1, 1, 1, 1, 1, 1, 1, 1, 1, 1, ...]</td>\n",
       "      <td>Simon Cope delivered the package on the last day of the 2011 Criterium du Dauphine, which Wiggins went on to win. The Culture, Media and Sport select committee has been by told by Team Sky chief Sir Dave Brailsford the package contained a legal decongestant. But MPs say they are \"concerned\" by some of the evidence they have heard. The doctor who received the package on behalf of Wiggins' Team Sky, Dr Richard Freeman, and head of UK Anti-Doping (Ukad) Nicole Sapstead have also been invited to give evidence on 22 February. Culture, Media and Sport select committee chairman Damian Collins MP said: \"There is a considerable public interest in Ukad's investigation and it is also important to our inquiry into doping in sport to understand what they have been able to determine from their investigation. \"The committee has been told by both British Cycling and Team Sky that they have supplied all the information they have relating to this investigation to Ukad. \"However, we need to know if they have received documentary evidence which confirms what was in the package that was delivered by Simon Cope to Team Sky. \"Without this evidence, I am concerned about how it is possible for the anti-doping rules to be policed in an appropriate manner, if it is not possible to review the records of medicines prescribed to riders by the team doctors.\" Team Sky have been under pressure to reveal the contents of the package following a Daily Mail allegation in October 2016. Cope, who was a women's coach for British Cycling, travelled from Manchester to Geneva on 12 June 2011 to hand a parcel to the Team Sky doctor Freeman on the final day of the Criterium. Cope claimed he did not know what it contained. In an interview with Cycling News, he said: \"It was just an envelope, a Jiffy bag, a small Jiffy bag,\" he said. \"As far as I know I could have been pedals in there.\" Brailsford gave evidence in December and stated the package contained Fluimucil, which is legal in sport and \"administered on a regular basis\".</td>\n",
       "      <td>38795413</td>\n",
       "      <td>[0, 37422, 230, 9877, 2781, 5, 3737, 15, 5, 94, 183, 9, 5, 1466, 15143, 254, 4031, 4279, 211, 1180, 3792, 833, 6, 61, 25243, 439, 15, 7, 339, 4, 20, 11886, 6, 2454, 8, 5413, 5163, 1540, 34, 57, 30, 174, 30, 2711, 3601, 834, 5348, 4475, 9076, 5290, 1891, 5, 3737, 5558, 10, 1030, 5044, 1657, 990, 927, 4, 125, 6714, 224, 51, 32, 22, 3865, 37701, 113, 30, 103, 9, 5, 1283, 51, 33, 1317, 4, 20, 3299, 54, 829, 5, 3737, 15, 4137, 9, 25243, 108, 2711, 3601, 6, 925, 2431, 11460, 6, 8, 471, 9, ...]</td>\n",
       "      <td>[0, 133, 1089, 28544, 704, 54, 15763, 1069, 3215, 10, 128, 4783, 34821, 108, 3737, 13, 5348, 7112, 25243, 34, 57, 4036, 30, 6714, 7, 492, 1283, 23, 10, 16485, 6422, 4, 2]</td>\n",
       "      <td>The British Cycling coach who couriered a 'mystery' package for Sir Bradley Wiggins has been invited by MPs to give evidence at a doping inquiry.</td>\n",
       "    </tr>\n",
       "  </tbody>\n",
       "</table>"
      ],
      "text/plain": [
       "<IPython.core.display.HTML object>"
      ]
     },
     "metadata": {},
     "output_type": "display_data"
    },
    {
     "data": {
      "text/html": [
       "<table border=\"1\" class=\"dataframe\">\n",
       "  <thead>\n",
       "    <tr style=\"text-align: right;\">\n",
       "      <th></th>\n",
       "      <th>attention_mask</th>\n",
       "      <th>document</th>\n",
       "      <th>id</th>\n",
       "      <th>input_ids</th>\n",
       "      <th>labels</th>\n",
       "      <th>summary</th>\n",
       "    </tr>\n",
       "  </thead>\n",
       "  <tbody>\n",
       "    <tr>\n",
       "      <th>0</th>\n",
       "      <td>[1, 1, 1, 1, 1, 1, 1, 1, 1, 1, 1, 1, 1, 1, 1, 1, 1, 1, 1, 1, 1, 1, 1, 1, 1, 1, 1, 1, 1, 1, 1, 1, 1, 1, 1, 1, 1, 1, 1, 1, 1, 1, 1, 1, 1, 1, 1, 1, 1, 1, 1, 1, 1, 1, 1, 1, 1, 1, 1, 1, 1, 1, 1, 1, 1, 1, 1, 1, 1, 1, 1, 1, 1, 1, 1, 1, 1, 1, 1, 1, 1, 1, 1, 1, 1, 1, 1, 1, 1, 1, 1, 1, 1, 1, 1, 1, 1, 1, 1, 1, ...]</td>\n",
       "      <td>Alexander Wotherspoon, 83, appeared at Paisley Sheriff Court charged with causing the death of Eilish Herron by driving without due care and attention. The 17-year-old was struck by Mr Wotherspoon's car at an Asda petrol station in Linwood in September 2014. The charge says he had failed to keep control of the car while reversing. Mr Wotherspoon, from Houston in Renfrewshire, uses a zimmer frame to help him walk. He denied starting the engine of his car and reversing while the driver's door was still open, failing to keep control of the car and, while it was reversing, causing it to hit the Renault Clio Eilish was filling up with petrol. The charge states that his actions knocked her to the ground, moved her car out of the way and caused his car to reverse over her, dragging her underneath the car, \"causing her to be so severely injured that she died.\" The incident happened at the Asda petrol station at the Phoenix Retail Park in Linwood on 10 September 2014. Sheriff Susan Sinclair adjourned the case for a trial to take place in August and continued Wotherspoon's bail. Speaking previously, Eilish's mother Shanneal, 47, said: \"Eilish was a really good girl, a normal teenager who loved her life, loved her family and loved her sport. \"She was my best friend, we had such a good laugh. \"I can't put into words how much she's missed in our family. We are all very close.\" Eilish was a keen netball player and played for Paisley Juniors as well as volunteering as a junior coach. After her death, Netball Scotland created the The Eilish Herron Young Coach of the Year Award, which will continue as a yearly recognition award for young coaches.</td>\n",
       "      <td>36438823</td>\n",
       "      <td>[0, 33409, 305, 7443, 4182, 3863, 6, 8101, 6, 1382, 23, 5476, 354, 607, 2795, 837, 1340, 19, 3735, 5, 744, 9, 381, 718, 1173, 1405, 2839, 30, 1428, 396, 528, 575, 8, 1503, 4, 20, 601, 12, 180, 12, 279, 21, 2322, 30, 427, 305, 7443, 4182, 3863, 18, 512, 23, 41, 287, 6106, 12309, 1992, 11, 9252, 1845, 11, 772, 777, 4, 20, 1427, 161, 37, 56, 1447, 7, 489, 797, 9, 5, 512, 150, 22254, 4, 427, 305, 7443, 4182, 3863, 6, 31, 2499, 11, 6340, 506, 10461, 9959, 6, 2939, 10, 992, 15912, 5120, 7, 244, ...]</td>\n",
       "      <td>[0, 250, 4931, 254, 34, 2296, 3735, 5, 744, 9, 10, 9231, 1816, 30, 30, 22254, 81, 69, 25, 79, 21, 8794, 69, 512, 62, 19, 12309, 11, 6340, 506, 10461, 9959, 4, 2]</td>\n",
       "      <td>A pensioner has denied causing the death of a teenage girl by by reversing over her as she was filling her car up with petrol in Renfrewshire.</td>\n",
       "    </tr>\n",
       "    <tr>\n",
       "      <th>1</th>\n",
       "      <td>[1, 1, 1, 1, 1, 1, 1, 1, 1, 1, 1, 1, 1, 1, 1, 1, 1, 1, 1, 1, 1, 1, 1, 1, 1, 1, 1, 1, 1, 1, 1, 1, 1, 1, 1, 1, 1, 1, 1, 1, 1, 1, 1, 1, 1, 1, 1, 1, 1, 1, 1, 1, 1, 1, 1, 1, 1, 1, 1, 1, 1, 1, 1, 1, 1, 1, 1, 1, 1, 1, 1, 1, 1, 1, 1, 1, 1, 1, 1, 1, 1, 1, 1, 1, 1, 1, 1, 1, 1, 1, 1, 1, 1, 1, 1, 1, 1, 1, 1, 1, ...]</td>\n",
       "      <td>Tourism NI said it expects a strategy to be in place by early next year. Janice Gault from the Hotels Federation told the BBC's Inside Business programme it was crucial for the industry. She said a \"partnership\" approach was essential. \"I mean we've really urged people to get a strategy at sort of quite a high level so that everybody can buy into that,\" she said. \"Hotels have probably spent about a billion pounds in the last decade and are set to spend more.\" Ms Gault said another big boom was expected in the hotel market which would probably generate another half a billion pounds. \"The funny thing about the strategy is we still have the target, but we don't have the strategy. We only have one way to go and that's growth and the way for us to get that is to partnership,\" she added.</td>\n",
       "      <td>33951665</td>\n",
       "      <td>[0, 31814, 1809, 17378, 26, 24, 3352, 10, 1860, 7, 28, 11, 317, 30, 419, 220, 76, 4, 1133, 2463, 272, 8839, 31, 5, 6003, 2507, 6692, 174, 5, 3295, 18, 10277, 2090, 3020, 24, 21, 4096, 13, 5, 539, 4, 264, 26, 10, 22, 7755, 7130, 4128, 113, 1548, 21, 4499, 4, 22, 100, 1266, 52, 348, 269, 2966, 82, 7, 120, 10, 1860, 23, 2345, 9, 1341, 10, 239, 672, 98, 14, 3370, 64, 907, 88, 14, 60, 79, 26, 4, 22, 27735, 2507, 33, 1153, 1240, 59, 10, 325, 2697, 11, 5, 94, 2202, 8, 32, 278, ...]</td>\n",
       "      <td>[0, 133, 6003, 2507, 6692, 34, 373, 13, 10, 4692, 5724, 1860, 13, 2874, 2487, 7, 244, 2501, 434, 11, 5, 1293, 4, 2]</td>\n",
       "      <td>The Hotels Federation has called for a proper tourism strategy for Northern Ireland to help boost growth in the sector.</td>\n",
       "    </tr>\n",
       "    <tr>\n",
       "      <th>2</th>\n",
       "      <td>[1, 1, 1, 1, 1, 1, 1, 1, 1, 1, 1, 1, 1, 1, 1, 1, 1, 1, 1, 1, 1, 1, 1, 1, 1, 1, 1, 1, 1, 1, 1, 1, 1, 1, 1, 1, 1, 1, 1, 1, 1, 1, 1, 1, 1, 1, 1, 1, 1, 1, 1, 1, 1, 1, 1, 1, 1, 1, 1, 1, 1, 1, 1, 1, 1, 1, 1, 1, 1, 1, 1, 1, 1, 1, 1, 1, 1, 1, 1, 1, 1, 1, 1, 1, 1, 1, 1, 1, 1, 1, 1, 1, 1, 1, 1, 1, 1, 1, 1, 1, ...]</td>\n",
       "      <td>The pop singer from Ely, Cardiff, topped the list following an online vote from a shortlist of 30 greats. In second place was Blackwood-born James Dean Bradfield of Manic Street Preachers, with musical theatre performer John Owen Jones coming in third. Sir Tom Jones and Dame Shirley Bassey, finished fourth and fifth respectively. Picking up his award, Mr Stevens said: \"The fact that it's a public vote means a lot to me, so a big thank you to the people who voted.\" Twelve judges from a range of musical disciplines selected a shortlist of 30 for the listeners' poll. Radio Wales editor Steve Austins said: \"While I'm a little surprised at the outcome, the people of Wales have spoken and there is no doubting Shaky's contribution to British music history. \"In fact his was the very first record I bought. \"Any winner from such a formidable shortlist is bound to create heated debate but the poll reminds us just how blessed with talent we are here in Wales.\" Shakin' Stevens shot to fame in 1981 with the number one hit single This Ole House. His platinum-selling career spans more than four decades and he is still recording and touring across the world. Wynne Evans' countdown show on Radio Wales can be heard here.</td>\n",
       "      <td>33116823</td>\n",
       "      <td>[0, 133, 3495, 3250, 31, 21294, 6, 12426, 6, 8319, 5, 889, 511, 41, 804, 900, 31, 10, 765, 8458, 9, 389, 372, 29, 4, 96, 200, 317, 21, 1378, 1845, 12, 5400, 957, 6450, 4770, 1399, 9, 1554, 636, 852, 5048, 19040, 6, 19, 4388, 8870, 12576, 610, 12212, 1454, 567, 11, 371, 4, 5348, 1560, 1454, 8, 9038, 18623, 7093, 4169, 6, 1550, 887, 8, 1998, 4067, 4, 221, 10176, 62, 39, 2354, 6, 427, 10283, 26, 35, 22, 133, 754, 14, 24, 18, 10, 285, 900, 839, 10, 319, 7, 162, 6, 98, 10, 380, 3392, 47, ...]</td>\n",
       "      <td>[0, 3609, 22576, 108, 10283, 34, 57, 2763, 5295, 108, 25854, 10427, 10880, 30, 18151, 9, 3295, 4611, 5295, 4, 2]</td>\n",
       "      <td>Shakin' Stevens has been voted Wales' Greatest Living Voice by listeners of BBC Radio Wales.</td>\n",
       "    </tr>\n",
       "    <tr>\n",
       "      <th>3</th>\n",
       "      <td>[1, 1, 1, 1, 1, 1, 1, 1, 1, 1, 1, 1, 1, 1, 1, 1, 1, 1, 1, 1, 1, 1, 1, 1, 1, 1, 1, 1, 1, 1, 1, 1, 1, 1, 1, 1, 1, 1, 1, 1, 1, 1, 1, 1, 1, 1, 1, 1, 1, 1, 1, 1, 1, 1, 1, 1, 1, 1, 1, 1, 1, 1, 1, 1, 1, 1, 1, 1, 1, 1, 1, 1, 1, 1, 1, 1, 1, 1, 1, 1, 1, 1, 1, 1, 1, 1, 1, 1, 1, 1, 1, 1, 1, 1, 1, 0, 0, 0, 0, 0, ...]</td>\n",
       "      <td>Robert Amoroso, 64, now from Hampshire, lived in Clifton from 1979 to 2013, the period of the alleged offences. Mr Amoroso was found not-guilty of two counts of sexual activity in the presence of a child. On Wednesday he was cleared of 14 other charges, including indecent assaults, sexual assaults and sexual activity in the presence of a child. Nottingham Crown Court heard the charges related to seven boys aged between 12 and 16.</td>\n",
       "      <td>33653495</td>\n",
       "      <td>[0, 25244, 1918, 368, 18865, 6, 4430, 6, 122, 31, 10372, 6, 3033, 11, 2893, 1594, 1054, 31, 12330, 7, 1014, 6, 5, 675, 9, 5, 1697, 9971, 4, 427, 1918, 368, 18865, 21, 303, 45, 12, 5521, 33576, 9, 80, 3948, 9, 1363, 1940, 11, 5, 2621, 9, 10, 920, 4, 374, 307, 37, 21, 6049, 9, 501, 97, 1103, 6, 217, 24502, 15624, 6, 1363, 15624, 8, 1363, 1940, 11, 5, 2621, 9, 10, 920, 4, 17142, 5748, 837, 1317, 5, 1103, 1330, 7, 707, 2786, 5180, 227, 316, 8, 545, 4, 2, 1, 1, 1, 1, 1, ...]</td>\n",
       "      <td>[0, 250, 320, 3254, 1238, 9, 5912, 16754, 2786, 11, 17142, 34, 57, 6049, 15, 70, 3948, 4, 2]</td>\n",
       "      <td>A former teacher accused of sexually abusing boys in Nottingham has been cleared on all counts.</td>\n",
       "    </tr>\n",
       "    <tr>\n",
       "      <th>4</th>\n",
       "      <td>[1, 1, 1, 1, 1, 1, 1, 1, 1, 1, 1, 1, 1, 1, 1, 1, 1, 1, 1, 1, 1, 1, 1, 1, 1, 1, 1, 1, 1, 1, 1, 1, 1, 1, 1, 1, 1, 1, 1, 1, 1, 1, 1, 1, 1, 1, 1, 1, 1, 1, 1, 1, 1, 1, 1, 1, 1, 1, 1, 1, 1, 1, 1, 1, 1, 1, 1, 1, 1, 1, 1, 1, 1, 1, 1, 1, 1, 1, 1, 1, 1, 1, 1, 1, 1, 1, 1, 1, 1, 1, 1, 1, 1, 1, 1, 1, 1, 1, 1, 1, ...]</td>\n",
       "      <td>Simon Cope delivered the package on the last day of the 2011 Criterium du Dauphine, which Wiggins went on to win. The Culture, Media and Sport select committee has been by told by Team Sky chief Sir Dave Brailsford the package contained a legal decongestant. But MPs say they are \"concerned\" by some of the evidence they have heard. The doctor who received the package on behalf of Wiggins' Team Sky, Dr Richard Freeman, and head of UK Anti-Doping (Ukad) Nicole Sapstead have also been invited to give evidence on 22 February. Culture, Media and Sport select committee chairman Damian Collins MP said: \"There is a considerable public interest in Ukad's investigation and it is also important to our inquiry into doping in sport to understand what they have been able to determine from their investigation. \"The committee has been told by both British Cycling and Team Sky that they have supplied all the information they have relating to this investigation to Ukad. \"However, we need to know if they have received documentary evidence which confirms what was in the package that was delivered by Simon Cope to Team Sky. \"Without this evidence, I am concerned about how it is possible for the anti-doping rules to be policed in an appropriate manner, if it is not possible to review the records of medicines prescribed to riders by the team doctors.\" Team Sky have been under pressure to reveal the contents of the package following a Daily Mail allegation in October 2016. Cope, who was a women's coach for British Cycling, travelled from Manchester to Geneva on 12 June 2011 to hand a parcel to the Team Sky doctor Freeman on the final day of the Criterium. Cope claimed he did not know what it contained. In an interview with Cycling News, he said: \"It was just an envelope, a Jiffy bag, a small Jiffy bag,\" he said. \"As far as I know I could have been pedals in there.\" Brailsford gave evidence in December and stated the package contained Fluimucil, which is legal in sport and \"administered on a regular basis\".</td>\n",
       "      <td>38795413</td>\n",
       "      <td>[0, 37422, 230, 9877, 2781, 5, 3737, 15, 5, 94, 183, 9, 5, 1466, 15143, 254, 4031, 4279, 211, 1180, 3792, 833, 6, 61, 25243, 439, 15, 7, 339, 4, 20, 11886, 6, 2454, 8, 5413, 5163, 1540, 34, 57, 30, 174, 30, 2711, 3601, 834, 5348, 4475, 9076, 5290, 1891, 5, 3737, 5558, 10, 1030, 5044, 1657, 990, 927, 4, 125, 6714, 224, 51, 32, 22, 3865, 37701, 113, 30, 103, 9, 5, 1283, 51, 33, 1317, 4, 20, 3299, 54, 829, 5, 3737, 15, 4137, 9, 25243, 108, 2711, 3601, 6, 925, 2431, 11460, 6, 8, 471, 9, ...]</td>\n",
       "      <td>[0, 133, 1089, 28544, 704, 54, 15763, 1069, 3215, 10, 128, 4783, 34821, 108, 3737, 13, 5348, 7112, 25243, 34, 57, 4036, 30, 6714, 7, 492, 1283, 23, 10, 16485, 6422, 4, 2]</td>\n",
       "      <td>The British Cycling coach who couriered a 'mystery' package for Sir Bradley Wiggins has been invited by MPs to give evidence at a doping inquiry.</td>\n",
       "    </tr>\n",
       "  </tbody>\n",
       "</table>"
      ],
      "text/plain": [
       "<IPython.core.display.HTML object>"
      ]
     },
     "metadata": {},
     "output_type": "display_data"
    },
    {
     "data": {
      "text/html": [
       "<table border=\"1\" class=\"dataframe\">\n",
       "  <thead>\n",
       "    <tr style=\"text-align: right;\">\n",
       "      <th></th>\n",
       "      <th>attention_mask</th>\n",
       "      <th>document</th>\n",
       "      <th>id</th>\n",
       "      <th>input_ids</th>\n",
       "      <th>labels</th>\n",
       "      <th>summary</th>\n",
       "    </tr>\n",
       "  </thead>\n",
       "  <tbody>\n",
       "    <tr>\n",
       "      <th>0</th>\n",
       "      <td>[1, 1, 1, 1, 1, 1, 1, 1, 1, 1, 1, 1, 1, 1, 1, 1, 1, 1, 1, 1, 1, 1, 1, 1, 1, 1, 1, 1, 1, 1, 1, 1, 1, 1, 1, 1, 1, 1, 1, 1, 1, 1, 1, 1, 1, 1, 1, 1, 1, 1, 1, 1, 1, 1, 1, 1, 1, 1, 1, 1, 1, 1, 1, 1, 1, 1, 1, 1, 1, 1, 1, 1, 1, 1, 1, 1, 1, 1, 1, 1, 1, 1, 1, 1, 1, 1, 1, 1, 1, 1, 1, 1, 1, 1, 1, 1, 1, 1, 1, 1, ...]</td>\n",
       "      <td>Alexander Wotherspoon, 83, appeared at Paisley Sheriff Court charged with causing the death of Eilish Herron by driving without due care and attention. The 17-year-old was struck by Mr Wotherspoon's car at an Asda petrol station in Linwood in September 2014. The charge says he had failed to keep control of the car while reversing. Mr Wotherspoon, from Houston in Renfrewshire, uses a zimmer frame to help him walk. He denied starting the engine of his car and reversing while the driver's door was still open, failing to keep control of the car and, while it was reversing, causing it to hit the Renault Clio Eilish was filling up with petrol. The charge states that his actions knocked her to the ground, moved her car out of the way and caused his car to reverse over her, dragging her underneath the car, \"causing her to be so severely injured that she died.\" The incident happened at the Asda petrol station at the Phoenix Retail Park in Linwood on 10 September 2014. Sheriff Susan Sinclair adjourned the case for a trial to take place in August and continued Wotherspoon's bail. Speaking previously, Eilish's mother Shanneal, 47, said: \"Eilish was a really good girl, a normal teenager who loved her life, loved her family and loved her sport. \"She was my best friend, we had such a good laugh. \"I can't put into words how much she's missed in our family. We are all very close.\" Eilish was a keen netball player and played for Paisley Juniors as well as volunteering as a junior coach. After her death, Netball Scotland created the The Eilish Herron Young Coach of the Year Award, which will continue as a yearly recognition award for young coaches.</td>\n",
       "      <td>36438823</td>\n",
       "      <td>[0, 33409, 305, 7443, 4182, 3863, 6, 8101, 6, 1382, 23, 5476, 354, 607, 2795, 837, 1340, 19, 3735, 5, 744, 9, 381, 718, 1173, 1405, 2839, 30, 1428, 396, 528, 575, 8, 1503, 4, 20, 601, 12, 180, 12, 279, 21, 2322, 30, 427, 305, 7443, 4182, 3863, 18, 512, 23, 41, 287, 6106, 12309, 1992, 11, 9252, 1845, 11, 772, 777, 4, 20, 1427, 161, 37, 56, 1447, 7, 489, 797, 9, 5, 512, 150, 22254, 4, 427, 305, 7443, 4182, 3863, 6, 31, 2499, 11, 6340, 506, 10461, 9959, 6, 2939, 10, 992, 15912, 5120, 7, 244, ...]</td>\n",
       "      <td>[0, 250, 4931, 254, 34, 2296, 3735, 5, 744, 9, 10, 9231, 1816, 30, 30, 22254, 81, 69, 25, 79, 21, 8794, 69, 512, 62, 19, 12309, 11, 6340, 506, 10461, 9959, 4, 2]</td>\n",
       "      <td>A pensioner has denied causing the death of a teenage girl by by reversing over her as she was filling her car up with petrol in Renfrewshire.</td>\n",
       "    </tr>\n",
       "    <tr>\n",
       "      <th>1</th>\n",
       "      <td>[1, 1, 1, 1, 1, 1, 1, 1, 1, 1, 1, 1, 1, 1, 1, 1, 1, 1, 1, 1, 1, 1, 1, 1, 1, 1, 1, 1, 1, 1, 1, 1, 1, 1, 1, 1, 1, 1, 1, 1, 1, 1, 1, 1, 1, 1, 1, 1, 1, 1, 1, 1, 1, 1, 1, 1, 1, 1, 1, 1, 1, 1, 1, 1, 1, 1, 1, 1, 1, 1, 1, 1, 1, 1, 1, 1, 1, 1, 1, 1, 1, 1, 1, 1, 1, 1, 1, 1, 1, 1, 1, 1, 1, 1, 1, 1, 1, 1, 1, 1, ...]</td>\n",
       "      <td>Tourism NI said it expects a strategy to be in place by early next year. Janice Gault from the Hotels Federation told the BBC's Inside Business programme it was crucial for the industry. She said a \"partnership\" approach was essential. \"I mean we've really urged people to get a strategy at sort of quite a high level so that everybody can buy into that,\" she said. \"Hotels have probably spent about a billion pounds in the last decade and are set to spend more.\" Ms Gault said another big boom was expected in the hotel market which would probably generate another half a billion pounds. \"The funny thing about the strategy is we still have the target, but we don't have the strategy. We only have one way to go and that's growth and the way for us to get that is to partnership,\" she added.</td>\n",
       "      <td>33951665</td>\n",
       "      <td>[0, 31814, 1809, 17378, 26, 24, 3352, 10, 1860, 7, 28, 11, 317, 30, 419, 220, 76, 4, 1133, 2463, 272, 8839, 31, 5, 6003, 2507, 6692, 174, 5, 3295, 18, 10277, 2090, 3020, 24, 21, 4096, 13, 5, 539, 4, 264, 26, 10, 22, 7755, 7130, 4128, 113, 1548, 21, 4499, 4, 22, 100, 1266, 52, 348, 269, 2966, 82, 7, 120, 10, 1860, 23, 2345, 9, 1341, 10, 239, 672, 98, 14, 3370, 64, 907, 88, 14, 60, 79, 26, 4, 22, 27735, 2507, 33, 1153, 1240, 59, 10, 325, 2697, 11, 5, 94, 2202, 8, 32, 278, ...]</td>\n",
       "      <td>[0, 133, 6003, 2507, 6692, 34, 373, 13, 10, 4692, 5724, 1860, 13, 2874, 2487, 7, 244, 2501, 434, 11, 5, 1293, 4, 2]</td>\n",
       "      <td>The Hotels Federation has called for a proper tourism strategy for Northern Ireland to help boost growth in the sector.</td>\n",
       "    </tr>\n",
       "    <tr>\n",
       "      <th>2</th>\n",
       "      <td>[1, 1, 1, 1, 1, 1, 1, 1, 1, 1, 1, 1, 1, 1, 1, 1, 1, 1, 1, 1, 1, 1, 1, 1, 1, 1, 1, 1, 1, 1, 1, 1, 1, 1, 1, 1, 1, 1, 1, 1, 1, 1, 1, 1, 1, 1, 1, 1, 1, 1, 1, 1, 1, 1, 1, 1, 1, 1, 1, 1, 1, 1, 1, 1, 1, 1, 1, 1, 1, 1, 1, 1, 1, 1, 1, 1, 1, 1, 1, 1, 1, 1, 1, 1, 1, 1, 1, 1, 1, 1, 1, 1, 1, 1, 1, 1, 1, 1, 1, 1, ...]</td>\n",
       "      <td>The pop singer from Ely, Cardiff, topped the list following an online vote from a shortlist of 30 greats. In second place was Blackwood-born James Dean Bradfield of Manic Street Preachers, with musical theatre performer John Owen Jones coming in third. Sir Tom Jones and Dame Shirley Bassey, finished fourth and fifth respectively. Picking up his award, Mr Stevens said: \"The fact that it's a public vote means a lot to me, so a big thank you to the people who voted.\" Twelve judges from a range of musical disciplines selected a shortlist of 30 for the listeners' poll. Radio Wales editor Steve Austins said: \"While I'm a little surprised at the outcome, the people of Wales have spoken and there is no doubting Shaky's contribution to British music history. \"In fact his was the very first record I bought. \"Any winner from such a formidable shortlist is bound to create heated debate but the poll reminds us just how blessed with talent we are here in Wales.\" Shakin' Stevens shot to fame in 1981 with the number one hit single This Ole House. His platinum-selling career spans more than four decades and he is still recording and touring across the world. Wynne Evans' countdown show on Radio Wales can be heard here.</td>\n",
       "      <td>33116823</td>\n",
       "      <td>[0, 133, 3495, 3250, 31, 21294, 6, 12426, 6, 8319, 5, 889, 511, 41, 804, 900, 31, 10, 765, 8458, 9, 389, 372, 29, 4, 96, 200, 317, 21, 1378, 1845, 12, 5400, 957, 6450, 4770, 1399, 9, 1554, 636, 852, 5048, 19040, 6, 19, 4388, 8870, 12576, 610, 12212, 1454, 567, 11, 371, 4, 5348, 1560, 1454, 8, 9038, 18623, 7093, 4169, 6, 1550, 887, 8, 1998, 4067, 4, 221, 10176, 62, 39, 2354, 6, 427, 10283, 26, 35, 22, 133, 754, 14, 24, 18, 10, 285, 900, 839, 10, 319, 7, 162, 6, 98, 10, 380, 3392, 47, ...]</td>\n",
       "      <td>[0, 3609, 22576, 108, 10283, 34, 57, 2763, 5295, 108, 25854, 10427, 10880, 30, 18151, 9, 3295, 4611, 5295, 4, 2]</td>\n",
       "      <td>Shakin' Stevens has been voted Wales' Greatest Living Voice by listeners of BBC Radio Wales.</td>\n",
       "    </tr>\n",
       "    <tr>\n",
       "      <th>3</th>\n",
       "      <td>[1, 1, 1, 1, 1, 1, 1, 1, 1, 1, 1, 1, 1, 1, 1, 1, 1, 1, 1, 1, 1, 1, 1, 1, 1, 1, 1, 1, 1, 1, 1, 1, 1, 1, 1, 1, 1, 1, 1, 1, 1, 1, 1, 1, 1, 1, 1, 1, 1, 1, 1, 1, 1, 1, 1, 1, 1, 1, 1, 1, 1, 1, 1, 1, 1, 1, 1, 1, 1, 1, 1, 1, 1, 1, 1, 1, 1, 1, 1, 1, 1, 1, 1, 1, 1, 1, 1, 1, 1, 1, 1, 1, 1, 1, 1, 0, 0, 0, 0, 0, ...]</td>\n",
       "      <td>Robert Amoroso, 64, now from Hampshire, lived in Clifton from 1979 to 2013, the period of the alleged offences. Mr Amoroso was found not-guilty of two counts of sexual activity in the presence of a child. On Wednesday he was cleared of 14 other charges, including indecent assaults, sexual assaults and sexual activity in the presence of a child. Nottingham Crown Court heard the charges related to seven boys aged between 12 and 16.</td>\n",
       "      <td>33653495</td>\n",
       "      <td>[0, 25244, 1918, 368, 18865, 6, 4430, 6, 122, 31, 10372, 6, 3033, 11, 2893, 1594, 1054, 31, 12330, 7, 1014, 6, 5, 675, 9, 5, 1697, 9971, 4, 427, 1918, 368, 18865, 21, 303, 45, 12, 5521, 33576, 9, 80, 3948, 9, 1363, 1940, 11, 5, 2621, 9, 10, 920, 4, 374, 307, 37, 21, 6049, 9, 501, 97, 1103, 6, 217, 24502, 15624, 6, 1363, 15624, 8, 1363, 1940, 11, 5, 2621, 9, 10, 920, 4, 17142, 5748, 837, 1317, 5, 1103, 1330, 7, 707, 2786, 5180, 227, 316, 8, 545, 4, 2, 1, 1, 1, 1, 1, ...]</td>\n",
       "      <td>[0, 250, 320, 3254, 1238, 9, 5912, 16754, 2786, 11, 17142, 34, 57, 6049, 15, 70, 3948, 4, 2]</td>\n",
       "      <td>A former teacher accused of sexually abusing boys in Nottingham has been cleared on all counts.</td>\n",
       "    </tr>\n",
       "    <tr>\n",
       "      <th>4</th>\n",
       "      <td>[1, 1, 1, 1, 1, 1, 1, 1, 1, 1, 1, 1, 1, 1, 1, 1, 1, 1, 1, 1, 1, 1, 1, 1, 1, 1, 1, 1, 1, 1, 1, 1, 1, 1, 1, 1, 1, 1, 1, 1, 1, 1, 1, 1, 1, 1, 1, 1, 1, 1, 1, 1, 1, 1, 1, 1, 1, 1, 1, 1, 1, 1, 1, 1, 1, 1, 1, 1, 1, 1, 1, 1, 1, 1, 1, 1, 1, 1, 1, 1, 1, 1, 1, 1, 1, 1, 1, 1, 1, 1, 1, 1, 1, 1, 1, 1, 1, 1, 1, 1, ...]</td>\n",
       "      <td>Simon Cope delivered the package on the last day of the 2011 Criterium du Dauphine, which Wiggins went on to win. The Culture, Media and Sport select committee has been by told by Team Sky chief Sir Dave Brailsford the package contained a legal decongestant. But MPs say they are \"concerned\" by some of the evidence they have heard. The doctor who received the package on behalf of Wiggins' Team Sky, Dr Richard Freeman, and head of UK Anti-Doping (Ukad) Nicole Sapstead have also been invited to give evidence on 22 February. Culture, Media and Sport select committee chairman Damian Collins MP said: \"There is a considerable public interest in Ukad's investigation and it is also important to our inquiry into doping in sport to understand what they have been able to determine from their investigation. \"The committee has been told by both British Cycling and Team Sky that they have supplied all the information they have relating to this investigation to Ukad. \"However, we need to know if they have received documentary evidence which confirms what was in the package that was delivered by Simon Cope to Team Sky. \"Without this evidence, I am concerned about how it is possible for the anti-doping rules to be policed in an appropriate manner, if it is not possible to review the records of medicines prescribed to riders by the team doctors.\" Team Sky have been under pressure to reveal the contents of the package following a Daily Mail allegation in October 2016. Cope, who was a women's coach for British Cycling, travelled from Manchester to Geneva on 12 June 2011 to hand a parcel to the Team Sky doctor Freeman on the final day of the Criterium. Cope claimed he did not know what it contained. In an interview with Cycling News, he said: \"It was just an envelope, a Jiffy bag, a small Jiffy bag,\" he said. \"As far as I know I could have been pedals in there.\" Brailsford gave evidence in December and stated the package contained Fluimucil, which is legal in sport and \"administered on a regular basis\".</td>\n",
       "      <td>38795413</td>\n",
       "      <td>[0, 37422, 230, 9877, 2781, 5, 3737, 15, 5, 94, 183, 9, 5, 1466, 15143, 254, 4031, 4279, 211, 1180, 3792, 833, 6, 61, 25243, 439, 15, 7, 339, 4, 20, 11886, 6, 2454, 8, 5413, 5163, 1540, 34, 57, 30, 174, 30, 2711, 3601, 834, 5348, 4475, 9076, 5290, 1891, 5, 3737, 5558, 10, 1030, 5044, 1657, 990, 927, 4, 125, 6714, 224, 51, 32, 22, 3865, 37701, 113, 30, 103, 9, 5, 1283, 51, 33, 1317, 4, 20, 3299, 54, 829, 5, 3737, 15, 4137, 9, 25243, 108, 2711, 3601, 6, 925, 2431, 11460, 6, 8, 471, 9, ...]</td>\n",
       "      <td>[0, 133, 1089, 28544, 704, 54, 15763, 1069, 3215, 10, 128, 4783, 34821, 108, 3737, 13, 5348, 7112, 25243, 34, 57, 4036, 30, 6714, 7, 492, 1283, 23, 10, 16485, 6422, 4, 2]</td>\n",
       "      <td>The British Cycling coach who couriered a 'mystery' package for Sir Bradley Wiggins has been invited by MPs to give evidence at a doping inquiry.</td>\n",
       "    </tr>\n",
       "  </tbody>\n",
       "</table>"
      ],
      "text/plain": [
       "<IPython.core.display.HTML object>"
      ]
     },
     "metadata": {},
     "output_type": "display_data"
    },
    {
     "data": {
      "text/html": [
       "<table border=\"1\" class=\"dataframe\">\n",
       "  <thead>\n",
       "    <tr style=\"text-align: right;\">\n",
       "      <th></th>\n",
       "      <th>attention_mask</th>\n",
       "      <th>document</th>\n",
       "      <th>id</th>\n",
       "      <th>input_ids</th>\n",
       "      <th>labels</th>\n",
       "      <th>summary</th>\n",
       "    </tr>\n",
       "  </thead>\n",
       "  <tbody>\n",
       "    <tr>\n",
       "      <th>0</th>\n",
       "      <td>[1, 1, 1, 1, 1, 1, 1, 1, 1, 1, 1, 1, 1, 1, 1, 1, 1, 1, 1, 1, 1, 1, 1, 1, 1, 1, 1, 1, 1, 1, 1, 1, 1, 1, 1, 1, 1, 1, 1, 1, 1, 1, 1, 1, 1, 1, 1, 1, 1, 1, 1, 1, 1, 1, 1, 1, 1, 1, 1, 1, 1, 1, 1, 1, 1, 1, 1, 1, 1, 1, 1, 1, 1, 1, 1, 1, 1, 1, 1, 1, 1, 1, 1, 1, 1, 1, 1, 1, 1, 1, 1, 1, 1, 1, 1, 1, 1, 1, 1, 1, ...]</td>\n",
       "      <td>Alexander Wotherspoon, 83, appeared at Paisley Sheriff Court charged with causing the death of Eilish Herron by driving without due care and attention. The 17-year-old was struck by Mr Wotherspoon's car at an Asda petrol station in Linwood in September 2014. The charge says he had failed to keep control of the car while reversing. Mr Wotherspoon, from Houston in Renfrewshire, uses a zimmer frame to help him walk. He denied starting the engine of his car and reversing while the driver's door was still open, failing to keep control of the car and, while it was reversing, causing it to hit the Renault Clio Eilish was filling up with petrol. The charge states that his actions knocked her to the ground, moved her car out of the way and caused his car to reverse over her, dragging her underneath the car, \"causing her to be so severely injured that she died.\" The incident happened at the Asda petrol station at the Phoenix Retail Park in Linwood on 10 September 2014. Sheriff Susan Sinclair adjourned the case for a trial to take place in August and continued Wotherspoon's bail. Speaking previously, Eilish's mother Shanneal, 47, said: \"Eilish was a really good girl, a normal teenager who loved her life, loved her family and loved her sport. \"She was my best friend, we had such a good laugh. \"I can't put into words how much she's missed in our family. We are all very close.\" Eilish was a keen netball player and played for Paisley Juniors as well as volunteering as a junior coach. After her death, Netball Scotland created the The Eilish Herron Young Coach of the Year Award, which will continue as a yearly recognition award for young coaches.</td>\n",
       "      <td>36438823</td>\n",
       "      <td>[0, 33409, 305, 7443, 4182, 3863, 6, 8101, 6, 1382, 23, 5476, 354, 607, 2795, 837, 1340, 19, 3735, 5, 744, 9, 381, 718, 1173, 1405, 2839, 30, 1428, 396, 528, 575, 8, 1503, 4, 20, 601, 12, 180, 12, 279, 21, 2322, 30, 427, 305, 7443, 4182, 3863, 18, 512, 23, 41, 287, 6106, 12309, 1992, 11, 9252, 1845, 11, 772, 777, 4, 20, 1427, 161, 37, 56, 1447, 7, 489, 797, 9, 5, 512, 150, 22254, 4, 427, 305, 7443, 4182, 3863, 6, 31, 2499, 11, 6340, 506, 10461, 9959, 6, 2939, 10, 992, 15912, 5120, 7, 244, ...]</td>\n",
       "      <td>[0, 250, 4931, 254, 34, 2296, 3735, 5, 744, 9, 10, 9231, 1816, 30, 30, 22254, 81, 69, 25, 79, 21, 8794, 69, 512, 62, 19, 12309, 11, 6340, 506, 10461, 9959, 4, 2]</td>\n",
       "      <td>A pensioner has denied causing the death of a teenage girl by by reversing over her as she was filling her car up with petrol in Renfrewshire.</td>\n",
       "    </tr>\n",
       "    <tr>\n",
       "      <th>1</th>\n",
       "      <td>[1, 1, 1, 1, 1, 1, 1, 1, 1, 1, 1, 1, 1, 1, 1, 1, 1, 1, 1, 1, 1, 1, 1, 1, 1, 1, 1, 1, 1, 1, 1, 1, 1, 1, 1, 1, 1, 1, 1, 1, 1, 1, 1, 1, 1, 1, 1, 1, 1, 1, 1, 1, 1, 1, 1, 1, 1, 1, 1, 1, 1, 1, 1, 1, 1, 1, 1, 1, 1, 1, 1, 1, 1, 1, 1, 1, 1, 1, 1, 1, 1, 1, 1, 1, 1, 1, 1, 1, 1, 1, 1, 1, 1, 1, 1, 1, 1, 1, 1, 1, ...]</td>\n",
       "      <td>Tourism NI said it expects a strategy to be in place by early next year. Janice Gault from the Hotels Federation told the BBC's Inside Business programme it was crucial for the industry. She said a \"partnership\" approach was essential. \"I mean we've really urged people to get a strategy at sort of quite a high level so that everybody can buy into that,\" she said. \"Hotels have probably spent about a billion pounds in the last decade and are set to spend more.\" Ms Gault said another big boom was expected in the hotel market which would probably generate another half a billion pounds. \"The funny thing about the strategy is we still have the target, but we don't have the strategy. We only have one way to go and that's growth and the way for us to get that is to partnership,\" she added.</td>\n",
       "      <td>33951665</td>\n",
       "      <td>[0, 31814, 1809, 17378, 26, 24, 3352, 10, 1860, 7, 28, 11, 317, 30, 419, 220, 76, 4, 1133, 2463, 272, 8839, 31, 5, 6003, 2507, 6692, 174, 5, 3295, 18, 10277, 2090, 3020, 24, 21, 4096, 13, 5, 539, 4, 264, 26, 10, 22, 7755, 7130, 4128, 113, 1548, 21, 4499, 4, 22, 100, 1266, 52, 348, 269, 2966, 82, 7, 120, 10, 1860, 23, 2345, 9, 1341, 10, 239, 672, 98, 14, 3370, 64, 907, 88, 14, 60, 79, 26, 4, 22, 27735, 2507, 33, 1153, 1240, 59, 10, 325, 2697, 11, 5, 94, 2202, 8, 32, 278, ...]</td>\n",
       "      <td>[0, 133, 6003, 2507, 6692, 34, 373, 13, 10, 4692, 5724, 1860, 13, 2874, 2487, 7, 244, 2501, 434, 11, 5, 1293, 4, 2]</td>\n",
       "      <td>The Hotels Federation has called for a proper tourism strategy for Northern Ireland to help boost growth in the sector.</td>\n",
       "    </tr>\n",
       "    <tr>\n",
       "      <th>2</th>\n",
       "      <td>[1, 1, 1, 1, 1, 1, 1, 1, 1, 1, 1, 1, 1, 1, 1, 1, 1, 1, 1, 1, 1, 1, 1, 1, 1, 1, 1, 1, 1, 1, 1, 1, 1, 1, 1, 1, 1, 1, 1, 1, 1, 1, 1, 1, 1, 1, 1, 1, 1, 1, 1, 1, 1, 1, 1, 1, 1, 1, 1, 1, 1, 1, 1, 1, 1, 1, 1, 1, 1, 1, 1, 1, 1, 1, 1, 1, 1, 1, 1, 1, 1, 1, 1, 1, 1, 1, 1, 1, 1, 1, 1, 1, 1, 1, 1, 1, 1, 1, 1, 1, ...]</td>\n",
       "      <td>The pop singer from Ely, Cardiff, topped the list following an online vote from a shortlist of 30 greats. In second place was Blackwood-born James Dean Bradfield of Manic Street Preachers, with musical theatre performer John Owen Jones coming in third. Sir Tom Jones and Dame Shirley Bassey, finished fourth and fifth respectively. Picking up his award, Mr Stevens said: \"The fact that it's a public vote means a lot to me, so a big thank you to the people who voted.\" Twelve judges from a range of musical disciplines selected a shortlist of 30 for the listeners' poll. Radio Wales editor Steve Austins said: \"While I'm a little surprised at the outcome, the people of Wales have spoken and there is no doubting Shaky's contribution to British music history. \"In fact his was the very first record I bought. \"Any winner from such a formidable shortlist is bound to create heated debate but the poll reminds us just how blessed with talent we are here in Wales.\" Shakin' Stevens shot to fame in 1981 with the number one hit single This Ole House. His platinum-selling career spans more than four decades and he is still recording and touring across the world. Wynne Evans' countdown show on Radio Wales can be heard here.</td>\n",
       "      <td>33116823</td>\n",
       "      <td>[0, 133, 3495, 3250, 31, 21294, 6, 12426, 6, 8319, 5, 889, 511, 41, 804, 900, 31, 10, 765, 8458, 9, 389, 372, 29, 4, 96, 200, 317, 21, 1378, 1845, 12, 5400, 957, 6450, 4770, 1399, 9, 1554, 636, 852, 5048, 19040, 6, 19, 4388, 8870, 12576, 610, 12212, 1454, 567, 11, 371, 4, 5348, 1560, 1454, 8, 9038, 18623, 7093, 4169, 6, 1550, 887, 8, 1998, 4067, 4, 221, 10176, 62, 39, 2354, 6, 427, 10283, 26, 35, 22, 133, 754, 14, 24, 18, 10, 285, 900, 839, 10, 319, 7, 162, 6, 98, 10, 380, 3392, 47, ...]</td>\n",
       "      <td>[0, 3609, 22576, 108, 10283, 34, 57, 2763, 5295, 108, 25854, 10427, 10880, 30, 18151, 9, 3295, 4611, 5295, 4, 2]</td>\n",
       "      <td>Shakin' Stevens has been voted Wales' Greatest Living Voice by listeners of BBC Radio Wales.</td>\n",
       "    </tr>\n",
       "    <tr>\n",
       "      <th>3</th>\n",
       "      <td>[1, 1, 1, 1, 1, 1, 1, 1, 1, 1, 1, 1, 1, 1, 1, 1, 1, 1, 1, 1, 1, 1, 1, 1, 1, 1, 1, 1, 1, 1, 1, 1, 1, 1, 1, 1, 1, 1, 1, 1, 1, 1, 1, 1, 1, 1, 1, 1, 1, 1, 1, 1, 1, 1, 1, 1, 1, 1, 1, 1, 1, 1, 1, 1, 1, 1, 1, 1, 1, 1, 1, 1, 1, 1, 1, 1, 1, 1, 1, 1, 1, 1, 1, 1, 1, 1, 1, 1, 1, 1, 1, 1, 1, 1, 1, 0, 0, 0, 0, 0, ...]</td>\n",
       "      <td>Robert Amoroso, 64, now from Hampshire, lived in Clifton from 1979 to 2013, the period of the alleged offences. Mr Amoroso was found not-guilty of two counts of sexual activity in the presence of a child. On Wednesday he was cleared of 14 other charges, including indecent assaults, sexual assaults and sexual activity in the presence of a child. Nottingham Crown Court heard the charges related to seven boys aged between 12 and 16.</td>\n",
       "      <td>33653495</td>\n",
       "      <td>[0, 25244, 1918, 368, 18865, 6, 4430, 6, 122, 31, 10372, 6, 3033, 11, 2893, 1594, 1054, 31, 12330, 7, 1014, 6, 5, 675, 9, 5, 1697, 9971, 4, 427, 1918, 368, 18865, 21, 303, 45, 12, 5521, 33576, 9, 80, 3948, 9, 1363, 1940, 11, 5, 2621, 9, 10, 920, 4, 374, 307, 37, 21, 6049, 9, 501, 97, 1103, 6, 217, 24502, 15624, 6, 1363, 15624, 8, 1363, 1940, 11, 5, 2621, 9, 10, 920, 4, 17142, 5748, 837, 1317, 5, 1103, 1330, 7, 707, 2786, 5180, 227, 316, 8, 545, 4, 2, 1, 1, 1, 1, 1, ...]</td>\n",
       "      <td>[0, 250, 320, 3254, 1238, 9, 5912, 16754, 2786, 11, 17142, 34, 57, 6049, 15, 70, 3948, 4, 2]</td>\n",
       "      <td>A former teacher accused of sexually abusing boys in Nottingham has been cleared on all counts.</td>\n",
       "    </tr>\n",
       "    <tr>\n",
       "      <th>4</th>\n",
       "      <td>[1, 1, 1, 1, 1, 1, 1, 1, 1, 1, 1, 1, 1, 1, 1, 1, 1, 1, 1, 1, 1, 1, 1, 1, 1, 1, 1, 1, 1, 1, 1, 1, 1, 1, 1, 1, 1, 1, 1, 1, 1, 1, 1, 1, 1, 1, 1, 1, 1, 1, 1, 1, 1, 1, 1, 1, 1, 1, 1, 1, 1, 1, 1, 1, 1, 1, 1, 1, 1, 1, 1, 1, 1, 1, 1, 1, 1, 1, 1, 1, 1, 1, 1, 1, 1, 1, 1, 1, 1, 1, 1, 1, 1, 1, 1, 1, 1, 1, 1, 1, ...]</td>\n",
       "      <td>Simon Cope delivered the package on the last day of the 2011 Criterium du Dauphine, which Wiggins went on to win. The Culture, Media and Sport select committee has been by told by Team Sky chief Sir Dave Brailsford the package contained a legal decongestant. But MPs say they are \"concerned\" by some of the evidence they have heard. The doctor who received the package on behalf of Wiggins' Team Sky, Dr Richard Freeman, and head of UK Anti-Doping (Ukad) Nicole Sapstead have also been invited to give evidence on 22 February. Culture, Media and Sport select committee chairman Damian Collins MP said: \"There is a considerable public interest in Ukad's investigation and it is also important to our inquiry into doping in sport to understand what they have been able to determine from their investigation. \"The committee has been told by both British Cycling and Team Sky that they have supplied all the information they have relating to this investigation to Ukad. \"However, we need to know if they have received documentary evidence which confirms what was in the package that was delivered by Simon Cope to Team Sky. \"Without this evidence, I am concerned about how it is possible for the anti-doping rules to be policed in an appropriate manner, if it is not possible to review the records of medicines prescribed to riders by the team doctors.\" Team Sky have been under pressure to reveal the contents of the package following a Daily Mail allegation in October 2016. Cope, who was a women's coach for British Cycling, travelled from Manchester to Geneva on 12 June 2011 to hand a parcel to the Team Sky doctor Freeman on the final day of the Criterium. Cope claimed he did not know what it contained. In an interview with Cycling News, he said: \"It was just an envelope, a Jiffy bag, a small Jiffy bag,\" he said. \"As far as I know I could have been pedals in there.\" Brailsford gave evidence in December and stated the package contained Fluimucil, which is legal in sport and \"administered on a regular basis\".</td>\n",
       "      <td>38795413</td>\n",
       "      <td>[0, 37422, 230, 9877, 2781, 5, 3737, 15, 5, 94, 183, 9, 5, 1466, 15143, 254, 4031, 4279, 211, 1180, 3792, 833, 6, 61, 25243, 439, 15, 7, 339, 4, 20, 11886, 6, 2454, 8, 5413, 5163, 1540, 34, 57, 30, 174, 30, 2711, 3601, 834, 5348, 4475, 9076, 5290, 1891, 5, 3737, 5558, 10, 1030, 5044, 1657, 990, 927, 4, 125, 6714, 224, 51, 32, 22, 3865, 37701, 113, 30, 103, 9, 5, 1283, 51, 33, 1317, 4, 20, 3299, 54, 829, 5, 3737, 15, 4137, 9, 25243, 108, 2711, 3601, 6, 925, 2431, 11460, 6, 8, 471, 9, ...]</td>\n",
       "      <td>[0, 133, 1089, 28544, 704, 54, 15763, 1069, 3215, 10, 128, 4783, 34821, 108, 3737, 13, 5348, 7112, 25243, 34, 57, 4036, 30, 6714, 7, 492, 1283, 23, 10, 16485, 6422, 4, 2]</td>\n",
       "      <td>The British Cycling coach who couriered a 'mystery' package for Sir Bradley Wiggins has been invited by MPs to give evidence at a doping inquiry.</td>\n",
       "    </tr>\n",
       "  </tbody>\n",
       "</table>"
      ],
      "text/plain": [
       "<IPython.core.display.HTML object>"
      ]
     },
     "metadata": {},
     "output_type": "display_data"
    },
    {
     "data": {
      "text/html": [
       "<table border=\"1\" class=\"dataframe\">\n",
       "  <thead>\n",
       "    <tr style=\"text-align: right;\">\n",
       "      <th></th>\n",
       "      <th>attention_mask</th>\n",
       "      <th>document</th>\n",
       "      <th>id</th>\n",
       "      <th>input_ids</th>\n",
       "      <th>labels</th>\n",
       "      <th>summary</th>\n",
       "    </tr>\n",
       "  </thead>\n",
       "  <tbody>\n",
       "    <tr>\n",
       "      <th>0</th>\n",
       "      <td>[1, 1, 1, 1, 1, 1, 1, 1, 1, 1, 1, 1, 1, 1, 1, 1, 1, 1, 1, 1, 1, 1, 1, 1, 1, 1, 1, 1, 1, 1, 1, 1, 1, 1, 1, 1, 1, 1, 1, 1, 1, 1, 1, 1, 1, 1, 1, 1, 1, 1, 1, 1, 1, 1, 1, 1, 1, 1, 1, 1, 1, 1, 1, 1, 1, 1, 1, 1, 1, 1, 1, 1, 1, 1, 1, 1, 1, 1, 1, 1, 1, 1, 1, 1, 1, 1, 1, 1, 1, 1, 1, 1, 1, 1, 1, 1, 1, 1, 1, 1, ...]</td>\n",
       "      <td>Alexander Wotherspoon, 83, appeared at Paisley Sheriff Court charged with causing the death of Eilish Herron by driving without due care and attention. The 17-year-old was struck by Mr Wotherspoon's car at an Asda petrol station in Linwood in September 2014. The charge says he had failed to keep control of the car while reversing. Mr Wotherspoon, from Houston in Renfrewshire, uses a zimmer frame to help him walk. He denied starting the engine of his car and reversing while the driver's door was still open, failing to keep control of the car and, while it was reversing, causing it to hit the Renault Clio Eilish was filling up with petrol. The charge states that his actions knocked her to the ground, moved her car out of the way and caused his car to reverse over her, dragging her underneath the car, \"causing her to be so severely injured that she died.\" The incident happened at the Asda petrol station at the Phoenix Retail Park in Linwood on 10 September 2014. Sheriff Susan Sinclair adjourned the case for a trial to take place in August and continued Wotherspoon's bail. Speaking previously, Eilish's mother Shanneal, 47, said: \"Eilish was a really good girl, a normal teenager who loved her life, loved her family and loved her sport. \"She was my best friend, we had such a good laugh. \"I can't put into words how much she's missed in our family. We are all very close.\" Eilish was a keen netball player and played for Paisley Juniors as well as volunteering as a junior coach. After her death, Netball Scotland created the The Eilish Herron Young Coach of the Year Award, which will continue as a yearly recognition award for young coaches.</td>\n",
       "      <td>36438823</td>\n",
       "      <td>[0, 33409, 305, 7443, 4182, 3863, 6, 8101, 6, 1382, 23, 5476, 354, 607, 2795, 837, 1340, 19, 3735, 5, 744, 9, 381, 718, 1173, 1405, 2839, 30, 1428, 396, 528, 575, 8, 1503, 4, 20, 601, 12, 180, 12, 279, 21, 2322, 30, 427, 305, 7443, 4182, 3863, 18, 512, 23, 41, 287, 6106, 12309, 1992, 11, 9252, 1845, 11, 772, 777, 4, 20, 1427, 161, 37, 56, 1447, 7, 489, 797, 9, 5, 512, 150, 22254, 4, 427, 305, 7443, 4182, 3863, 6, 31, 2499, 11, 6340, 506, 10461, 9959, 6, 2939, 10, 992, 15912, 5120, 7, 244, ...]</td>\n",
       "      <td>[0, 250, 4931, 254, 34, 2296, 3735, 5, 744, 9, 10, 9231, 1816, 30, 30, 22254, 81, 69, 25, 79, 21, 8794, 69, 512, 62, 19, 12309, 11, 6340, 506, 10461, 9959, 4, 2]</td>\n",
       "      <td>A pensioner has denied causing the death of a teenage girl by by reversing over her as she was filling her car up with petrol in Renfrewshire.</td>\n",
       "    </tr>\n",
       "    <tr>\n",
       "      <th>1</th>\n",
       "      <td>[1, 1, 1, 1, 1, 1, 1, 1, 1, 1, 1, 1, 1, 1, 1, 1, 1, 1, 1, 1, 1, 1, 1, 1, 1, 1, 1, 1, 1, 1, 1, 1, 1, 1, 1, 1, 1, 1, 1, 1, 1, 1, 1, 1, 1, 1, 1, 1, 1, 1, 1, 1, 1, 1, 1, 1, 1, 1, 1, 1, 1, 1, 1, 1, 1, 1, 1, 1, 1, 1, 1, 1, 1, 1, 1, 1, 1, 1, 1, 1, 1, 1, 1, 1, 1, 1, 1, 1, 1, 1, 1, 1, 1, 1, 1, 1, 1, 1, 1, 1, ...]</td>\n",
       "      <td>Tourism NI said it expects a strategy to be in place by early next year. Janice Gault from the Hotels Federation told the BBC's Inside Business programme it was crucial for the industry. She said a \"partnership\" approach was essential. \"I mean we've really urged people to get a strategy at sort of quite a high level so that everybody can buy into that,\" she said. \"Hotels have probably spent about a billion pounds in the last decade and are set to spend more.\" Ms Gault said another big boom was expected in the hotel market which would probably generate another half a billion pounds. \"The funny thing about the strategy is we still have the target, but we don't have the strategy. We only have one way to go and that's growth and the way for us to get that is to partnership,\" she added.</td>\n",
       "      <td>33951665</td>\n",
       "      <td>[0, 31814, 1809, 17378, 26, 24, 3352, 10, 1860, 7, 28, 11, 317, 30, 419, 220, 76, 4, 1133, 2463, 272, 8839, 31, 5, 6003, 2507, 6692, 174, 5, 3295, 18, 10277, 2090, 3020, 24, 21, 4096, 13, 5, 539, 4, 264, 26, 10, 22, 7755, 7130, 4128, 113, 1548, 21, 4499, 4, 22, 100, 1266, 52, 348, 269, 2966, 82, 7, 120, 10, 1860, 23, 2345, 9, 1341, 10, 239, 672, 98, 14, 3370, 64, 907, 88, 14, 60, 79, 26, 4, 22, 27735, 2507, 33, 1153, 1240, 59, 10, 325, 2697, 11, 5, 94, 2202, 8, 32, 278, ...]</td>\n",
       "      <td>[0, 133, 6003, 2507, 6692, 34, 373, 13, 10, 4692, 5724, 1860, 13, 2874, 2487, 7, 244, 2501, 434, 11, 5, 1293, 4, 2]</td>\n",
       "      <td>The Hotels Federation has called for a proper tourism strategy for Northern Ireland to help boost growth in the sector.</td>\n",
       "    </tr>\n",
       "    <tr>\n",
       "      <th>2</th>\n",
       "      <td>[1, 1, 1, 1, 1, 1, 1, 1, 1, 1, 1, 1, 1, 1, 1, 1, 1, 1, 1, 1, 1, 1, 1, 1, 1, 1, 1, 1, 1, 1, 1, 1, 1, 1, 1, 1, 1, 1, 1, 1, 1, 1, 1, 1, 1, 1, 1, 1, 1, 1, 1, 1, 1, 1, 1, 1, 1, 1, 1, 1, 1, 1, 1, 1, 1, 1, 1, 1, 1, 1, 1, 1, 1, 1, 1, 1, 1, 1, 1, 1, 1, 1, 1, 1, 1, 1, 1, 1, 1, 1, 1, 1, 1, 1, 1, 1, 1, 1, 1, 1, ...]</td>\n",
       "      <td>The pop singer from Ely, Cardiff, topped the list following an online vote from a shortlist of 30 greats. In second place was Blackwood-born James Dean Bradfield of Manic Street Preachers, with musical theatre performer John Owen Jones coming in third. Sir Tom Jones and Dame Shirley Bassey, finished fourth and fifth respectively. Picking up his award, Mr Stevens said: \"The fact that it's a public vote means a lot to me, so a big thank you to the people who voted.\" Twelve judges from a range of musical disciplines selected a shortlist of 30 for the listeners' poll. Radio Wales editor Steve Austins said: \"While I'm a little surprised at the outcome, the people of Wales have spoken and there is no doubting Shaky's contribution to British music history. \"In fact his was the very first record I bought. \"Any winner from such a formidable shortlist is bound to create heated debate but the poll reminds us just how blessed with talent we are here in Wales.\" Shakin' Stevens shot to fame in 1981 with the number one hit single This Ole House. His platinum-selling career spans more than four decades and he is still recording and touring across the world. Wynne Evans' countdown show on Radio Wales can be heard here.</td>\n",
       "      <td>33116823</td>\n",
       "      <td>[0, 133, 3495, 3250, 31, 21294, 6, 12426, 6, 8319, 5, 889, 511, 41, 804, 900, 31, 10, 765, 8458, 9, 389, 372, 29, 4, 96, 200, 317, 21, 1378, 1845, 12, 5400, 957, 6450, 4770, 1399, 9, 1554, 636, 852, 5048, 19040, 6, 19, 4388, 8870, 12576, 610, 12212, 1454, 567, 11, 371, 4, 5348, 1560, 1454, 8, 9038, 18623, 7093, 4169, 6, 1550, 887, 8, 1998, 4067, 4, 221, 10176, 62, 39, 2354, 6, 427, 10283, 26, 35, 22, 133, 754, 14, 24, 18, 10, 285, 900, 839, 10, 319, 7, 162, 6, 98, 10, 380, 3392, 47, ...]</td>\n",
       "      <td>[0, 3609, 22576, 108, 10283, 34, 57, 2763, 5295, 108, 25854, 10427, 10880, 30, 18151, 9, 3295, 4611, 5295, 4, 2]</td>\n",
       "      <td>Shakin' Stevens has been voted Wales' Greatest Living Voice by listeners of BBC Radio Wales.</td>\n",
       "    </tr>\n",
       "    <tr>\n",
       "      <th>3</th>\n",
       "      <td>[1, 1, 1, 1, 1, 1, 1, 1, 1, 1, 1, 1, 1, 1, 1, 1, 1, 1, 1, 1, 1, 1, 1, 1, 1, 1, 1, 1, 1, 1, 1, 1, 1, 1, 1, 1, 1, 1, 1, 1, 1, 1, 1, 1, 1, 1, 1, 1, 1, 1, 1, 1, 1, 1, 1, 1, 1, 1, 1, 1, 1, 1, 1, 1, 1, 1, 1, 1, 1, 1, 1, 1, 1, 1, 1, 1, 1, 1, 1, 1, 1, 1, 1, 1, 1, 1, 1, 1, 1, 1, 1, 1, 1, 1, 1, 0, 0, 0, 0, 0, ...]</td>\n",
       "      <td>Robert Amoroso, 64, now from Hampshire, lived in Clifton from 1979 to 2013, the period of the alleged offences. Mr Amoroso was found not-guilty of two counts of sexual activity in the presence of a child. On Wednesday he was cleared of 14 other charges, including indecent assaults, sexual assaults and sexual activity in the presence of a child. Nottingham Crown Court heard the charges related to seven boys aged between 12 and 16.</td>\n",
       "      <td>33653495</td>\n",
       "      <td>[0, 25244, 1918, 368, 18865, 6, 4430, 6, 122, 31, 10372, 6, 3033, 11, 2893, 1594, 1054, 31, 12330, 7, 1014, 6, 5, 675, 9, 5, 1697, 9971, 4, 427, 1918, 368, 18865, 21, 303, 45, 12, 5521, 33576, 9, 80, 3948, 9, 1363, 1940, 11, 5, 2621, 9, 10, 920, 4, 374, 307, 37, 21, 6049, 9, 501, 97, 1103, 6, 217, 24502, 15624, 6, 1363, 15624, 8, 1363, 1940, 11, 5, 2621, 9, 10, 920, 4, 17142, 5748, 837, 1317, 5, 1103, 1330, 7, 707, 2786, 5180, 227, 316, 8, 545, 4, 2, 1, 1, 1, 1, 1, ...]</td>\n",
       "      <td>[0, 250, 320, 3254, 1238, 9, 5912, 16754, 2786, 11, 17142, 34, 57, 6049, 15, 70, 3948, 4, 2]</td>\n",
       "      <td>A former teacher accused of sexually abusing boys in Nottingham has been cleared on all counts.</td>\n",
       "    </tr>\n",
       "    <tr>\n",
       "      <th>4</th>\n",
       "      <td>[1, 1, 1, 1, 1, 1, 1, 1, 1, 1, 1, 1, 1, 1, 1, 1, 1, 1, 1, 1, 1, 1, 1, 1, 1, 1, 1, 1, 1, 1, 1, 1, 1, 1, 1, 1, 1, 1, 1, 1, 1, 1, 1, 1, 1, 1, 1, 1, 1, 1, 1, 1, 1, 1, 1, 1, 1, 1, 1, 1, 1, 1, 1, 1, 1, 1, 1, 1, 1, 1, 1, 1, 1, 1, 1, 1, 1, 1, 1, 1, 1, 1, 1, 1, 1, 1, 1, 1, 1, 1, 1, 1, 1, 1, 1, 1, 1, 1, 1, 1, ...]</td>\n",
       "      <td>Simon Cope delivered the package on the last day of the 2011 Criterium du Dauphine, which Wiggins went on to win. The Culture, Media and Sport select committee has been by told by Team Sky chief Sir Dave Brailsford the package contained a legal decongestant. But MPs say they are \"concerned\" by some of the evidence they have heard. The doctor who received the package on behalf of Wiggins' Team Sky, Dr Richard Freeman, and head of UK Anti-Doping (Ukad) Nicole Sapstead have also been invited to give evidence on 22 February. Culture, Media and Sport select committee chairman Damian Collins MP said: \"There is a considerable public interest in Ukad's investigation and it is also important to our inquiry into doping in sport to understand what they have been able to determine from their investigation. \"The committee has been told by both British Cycling and Team Sky that they have supplied all the information they have relating to this investigation to Ukad. \"However, we need to know if they have received documentary evidence which confirms what was in the package that was delivered by Simon Cope to Team Sky. \"Without this evidence, I am concerned about how it is possible for the anti-doping rules to be policed in an appropriate manner, if it is not possible to review the records of medicines prescribed to riders by the team doctors.\" Team Sky have been under pressure to reveal the contents of the package following a Daily Mail allegation in October 2016. Cope, who was a women's coach for British Cycling, travelled from Manchester to Geneva on 12 June 2011 to hand a parcel to the Team Sky doctor Freeman on the final day of the Criterium. Cope claimed he did not know what it contained. In an interview with Cycling News, he said: \"It was just an envelope, a Jiffy bag, a small Jiffy bag,\" he said. \"As far as I know I could have been pedals in there.\" Brailsford gave evidence in December and stated the package contained Fluimucil, which is legal in sport and \"administered on a regular basis\".</td>\n",
       "      <td>38795413</td>\n",
       "      <td>[0, 37422, 230, 9877, 2781, 5, 3737, 15, 5, 94, 183, 9, 5, 1466, 15143, 254, 4031, 4279, 211, 1180, 3792, 833, 6, 61, 25243, 439, 15, 7, 339, 4, 20, 11886, 6, 2454, 8, 5413, 5163, 1540, 34, 57, 30, 174, 30, 2711, 3601, 834, 5348, 4475, 9076, 5290, 1891, 5, 3737, 5558, 10, 1030, 5044, 1657, 990, 927, 4, 125, 6714, 224, 51, 32, 22, 3865, 37701, 113, 30, 103, 9, 5, 1283, 51, 33, 1317, 4, 20, 3299, 54, 829, 5, 3737, 15, 4137, 9, 25243, 108, 2711, 3601, 6, 925, 2431, 11460, 6, 8, 471, 9, ...]</td>\n",
       "      <td>[0, 133, 1089, 28544, 704, 54, 15763, 1069, 3215, 10, 128, 4783, 34821, 108, 3737, 13, 5348, 7112, 25243, 34, 57, 4036, 30, 6714, 7, 492, 1283, 23, 10, 16485, 6422, 4, 2]</td>\n",
       "      <td>The British Cycling coach who couriered a 'mystery' package for Sir Bradley Wiggins has been invited by MPs to give evidence at a doping inquiry.</td>\n",
       "    </tr>\n",
       "  </tbody>\n",
       "</table>"
      ],
      "text/plain": [
       "<IPython.core.display.HTML object>"
      ]
     },
     "metadata": {},
     "output_type": "display_data"
    },
    {
     "data": {
      "text/html": [
       "<table border=\"1\" class=\"dataframe\">\n",
       "  <thead>\n",
       "    <tr style=\"text-align: right;\">\n",
       "      <th></th>\n",
       "      <th>attention_mask</th>\n",
       "      <th>document</th>\n",
       "      <th>id</th>\n",
       "      <th>input_ids</th>\n",
       "      <th>labels</th>\n",
       "      <th>summary</th>\n",
       "    </tr>\n",
       "  </thead>\n",
       "  <tbody>\n",
       "    <tr>\n",
       "      <th>0</th>\n",
       "      <td>[1, 1, 1, 1, 1, 1, 1, 1, 1, 1, 1, 1, 1, 1, 1, 1, 1, 1, 1, 1, 1, 1, 1, 1, 1, 1, 1, 1, 1, 1, 1, 1, 1, 1, 1, 1, 1, 1, 1, 1, 1, 1, 1, 1, 1, 1, 1, 1, 1, 1, 1, 1, 1, 1, 1, 1, 1, 1, 1, 1, 1, 1, 1, 1, 1, 1, 1, 1, 1, 1, 1, 1, 1, 1, 1, 1, 1, 1, 1, 1, 1, 1, 1, 1, 1, 1, 1, 1, 1, 1, 1, 1, 1, 1, 1, 1, 1, 1, 1, 1, ...]</td>\n",
       "      <td>Alexander Wotherspoon, 83, appeared at Paisley Sheriff Court charged with causing the death of Eilish Herron by driving without due care and attention. The 17-year-old was struck by Mr Wotherspoon's car at an Asda petrol station in Linwood in September 2014. The charge says he had failed to keep control of the car while reversing. Mr Wotherspoon, from Houston in Renfrewshire, uses a zimmer frame to help him walk. He denied starting the engine of his car and reversing while the driver's door was still open, failing to keep control of the car and, while it was reversing, causing it to hit the Renault Clio Eilish was filling up with petrol. The charge states that his actions knocked her to the ground, moved her car out of the way and caused his car to reverse over her, dragging her underneath the car, \"causing her to be so severely injured that she died.\" The incident happened at the Asda petrol station at the Phoenix Retail Park in Linwood on 10 September 2014. Sheriff Susan Sinclair adjourned the case for a trial to take place in August and continued Wotherspoon's bail. Speaking previously, Eilish's mother Shanneal, 47, said: \"Eilish was a really good girl, a normal teenager who loved her life, loved her family and loved her sport. \"She was my best friend, we had such a good laugh. \"I can't put into words how much she's missed in our family. We are all very close.\" Eilish was a keen netball player and played for Paisley Juniors as well as volunteering as a junior coach. After her death, Netball Scotland created the The Eilish Herron Young Coach of the Year Award, which will continue as a yearly recognition award for young coaches.</td>\n",
       "      <td>36438823</td>\n",
       "      <td>[0, 33409, 305, 7443, 4182, 3863, 6, 8101, 6, 1382, 23, 5476, 354, 607, 2795, 837, 1340, 19, 3735, 5, 744, 9, 381, 718, 1173, 1405, 2839, 30, 1428, 396, 528, 575, 8, 1503, 4, 20, 601, 12, 180, 12, 279, 21, 2322, 30, 427, 305, 7443, 4182, 3863, 18, 512, 23, 41, 287, 6106, 12309, 1992, 11, 9252, 1845, 11, 772, 777, 4, 20, 1427, 161, 37, 56, 1447, 7, 489, 797, 9, 5, 512, 150, 22254, 4, 427, 305, 7443, 4182, 3863, 6, 31, 2499, 11, 6340, 506, 10461, 9959, 6, 2939, 10, 992, 15912, 5120, 7, 244, ...]</td>\n",
       "      <td>[0, 250, 4931, 254, 34, 2296, 3735, 5, 744, 9, 10, 9231, 1816, 30, 30, 22254, 81, 69, 25, 79, 21, 8794, 69, 512, 62, 19, 12309, 11, 6340, 506, 10461, 9959, 4, 2]</td>\n",
       "      <td>A pensioner has denied causing the death of a teenage girl by by reversing over her as she was filling her car up with petrol in Renfrewshire.</td>\n",
       "    </tr>\n",
       "    <tr>\n",
       "      <th>1</th>\n",
       "      <td>[1, 1, 1, 1, 1, 1, 1, 1, 1, 1, 1, 1, 1, 1, 1, 1, 1, 1, 1, 1, 1, 1, 1, 1, 1, 1, 1, 1, 1, 1, 1, 1, 1, 1, 1, 1, 1, 1, 1, 1, 1, 1, 1, 1, 1, 1, 1, 1, 1, 1, 1, 1, 1, 1, 1, 1, 1, 1, 1, 1, 1, 1, 1, 1, 1, 1, 1, 1, 1, 1, 1, 1, 1, 1, 1, 1, 1, 1, 1, 1, 1, 1, 1, 1, 1, 1, 1, 1, 1, 1, 1, 1, 1, 1, 1, 1, 1, 1, 1, 1, ...]</td>\n",
       "      <td>Tourism NI said it expects a strategy to be in place by early next year. Janice Gault from the Hotels Federation told the BBC's Inside Business programme it was crucial for the industry. She said a \"partnership\" approach was essential. \"I mean we've really urged people to get a strategy at sort of quite a high level so that everybody can buy into that,\" she said. \"Hotels have probably spent about a billion pounds in the last decade and are set to spend more.\" Ms Gault said another big boom was expected in the hotel market which would probably generate another half a billion pounds. \"The funny thing about the strategy is we still have the target, but we don't have the strategy. We only have one way to go and that's growth and the way for us to get that is to partnership,\" she added.</td>\n",
       "      <td>33951665</td>\n",
       "      <td>[0, 31814, 1809, 17378, 26, 24, 3352, 10, 1860, 7, 28, 11, 317, 30, 419, 220, 76, 4, 1133, 2463, 272, 8839, 31, 5, 6003, 2507, 6692, 174, 5, 3295, 18, 10277, 2090, 3020, 24, 21, 4096, 13, 5, 539, 4, 264, 26, 10, 22, 7755, 7130, 4128, 113, 1548, 21, 4499, 4, 22, 100, 1266, 52, 348, 269, 2966, 82, 7, 120, 10, 1860, 23, 2345, 9, 1341, 10, 239, 672, 98, 14, 3370, 64, 907, 88, 14, 60, 79, 26, 4, 22, 27735, 2507, 33, 1153, 1240, 59, 10, 325, 2697, 11, 5, 94, 2202, 8, 32, 278, ...]</td>\n",
       "      <td>[0, 133, 6003, 2507, 6692, 34, 373, 13, 10, 4692, 5724, 1860, 13, 2874, 2487, 7, 244, 2501, 434, 11, 5, 1293, 4, 2]</td>\n",
       "      <td>The Hotels Federation has called for a proper tourism strategy for Northern Ireland to help boost growth in the sector.</td>\n",
       "    </tr>\n",
       "    <tr>\n",
       "      <th>2</th>\n",
       "      <td>[1, 1, 1, 1, 1, 1, 1, 1, 1, 1, 1, 1, 1, 1, 1, 1, 1, 1, 1, 1, 1, 1, 1, 1, 1, 1, 1, 1, 1, 1, 1, 1, 1, 1, 1, 1, 1, 1, 1, 1, 1, 1, 1, 1, 1, 1, 1, 1, 1, 1, 1, 1, 1, 1, 1, 1, 1, 1, 1, 1, 1, 1, 1, 1, 1, 1, 1, 1, 1, 1, 1, 1, 1, 1, 1, 1, 1, 1, 1, 1, 1, 1, 1, 1, 1, 1, 1, 1, 1, 1, 1, 1, 1, 1, 1, 1, 1, 1, 1, 1, ...]</td>\n",
       "      <td>The pop singer from Ely, Cardiff, topped the list following an online vote from a shortlist of 30 greats. In second place was Blackwood-born James Dean Bradfield of Manic Street Preachers, with musical theatre performer John Owen Jones coming in third. Sir Tom Jones and Dame Shirley Bassey, finished fourth and fifth respectively. Picking up his award, Mr Stevens said: \"The fact that it's a public vote means a lot to me, so a big thank you to the people who voted.\" Twelve judges from a range of musical disciplines selected a shortlist of 30 for the listeners' poll. Radio Wales editor Steve Austins said: \"While I'm a little surprised at the outcome, the people of Wales have spoken and there is no doubting Shaky's contribution to British music history. \"In fact his was the very first record I bought. \"Any winner from such a formidable shortlist is bound to create heated debate but the poll reminds us just how blessed with talent we are here in Wales.\" Shakin' Stevens shot to fame in 1981 with the number one hit single This Ole House. His platinum-selling career spans more than four decades and he is still recording and touring across the world. Wynne Evans' countdown show on Radio Wales can be heard here.</td>\n",
       "      <td>33116823</td>\n",
       "      <td>[0, 133, 3495, 3250, 31, 21294, 6, 12426, 6, 8319, 5, 889, 511, 41, 804, 900, 31, 10, 765, 8458, 9, 389, 372, 29, 4, 96, 200, 317, 21, 1378, 1845, 12, 5400, 957, 6450, 4770, 1399, 9, 1554, 636, 852, 5048, 19040, 6, 19, 4388, 8870, 12576, 610, 12212, 1454, 567, 11, 371, 4, 5348, 1560, 1454, 8, 9038, 18623, 7093, 4169, 6, 1550, 887, 8, 1998, 4067, 4, 221, 10176, 62, 39, 2354, 6, 427, 10283, 26, 35, 22, 133, 754, 14, 24, 18, 10, 285, 900, 839, 10, 319, 7, 162, 6, 98, 10, 380, 3392, 47, ...]</td>\n",
       "      <td>[0, 3609, 22576, 108, 10283, 34, 57, 2763, 5295, 108, 25854, 10427, 10880, 30, 18151, 9, 3295, 4611, 5295, 4, 2]</td>\n",
       "      <td>Shakin' Stevens has been voted Wales' Greatest Living Voice by listeners of BBC Radio Wales.</td>\n",
       "    </tr>\n",
       "    <tr>\n",
       "      <th>3</th>\n",
       "      <td>[1, 1, 1, 1, 1, 1, 1, 1, 1, 1, 1, 1, 1, 1, 1, 1, 1, 1, 1, 1, 1, 1, 1, 1, 1, 1, 1, 1, 1, 1, 1, 1, 1, 1, 1, 1, 1, 1, 1, 1, 1, 1, 1, 1, 1, 1, 1, 1, 1, 1, 1, 1, 1, 1, 1, 1, 1, 1, 1, 1, 1, 1, 1, 1, 1, 1, 1, 1, 1, 1, 1, 1, 1, 1, 1, 1, 1, 1, 1, 1, 1, 1, 1, 1, 1, 1, 1, 1, 1, 1, 1, 1, 1, 1, 1, 0, 0, 0, 0, 0, ...]</td>\n",
       "      <td>Robert Amoroso, 64, now from Hampshire, lived in Clifton from 1979 to 2013, the period of the alleged offences. Mr Amoroso was found not-guilty of two counts of sexual activity in the presence of a child. On Wednesday he was cleared of 14 other charges, including indecent assaults, sexual assaults and sexual activity in the presence of a child. Nottingham Crown Court heard the charges related to seven boys aged between 12 and 16.</td>\n",
       "      <td>33653495</td>\n",
       "      <td>[0, 25244, 1918, 368, 18865, 6, 4430, 6, 122, 31, 10372, 6, 3033, 11, 2893, 1594, 1054, 31, 12330, 7, 1014, 6, 5, 675, 9, 5, 1697, 9971, 4, 427, 1918, 368, 18865, 21, 303, 45, 12, 5521, 33576, 9, 80, 3948, 9, 1363, 1940, 11, 5, 2621, 9, 10, 920, 4, 374, 307, 37, 21, 6049, 9, 501, 97, 1103, 6, 217, 24502, 15624, 6, 1363, 15624, 8, 1363, 1940, 11, 5, 2621, 9, 10, 920, 4, 17142, 5748, 837, 1317, 5, 1103, 1330, 7, 707, 2786, 5180, 227, 316, 8, 545, 4, 2, 1, 1, 1, 1, 1, ...]</td>\n",
       "      <td>[0, 250, 320, 3254, 1238, 9, 5912, 16754, 2786, 11, 17142, 34, 57, 6049, 15, 70, 3948, 4, 2]</td>\n",
       "      <td>A former teacher accused of sexually abusing boys in Nottingham has been cleared on all counts.</td>\n",
       "    </tr>\n",
       "    <tr>\n",
       "      <th>4</th>\n",
       "      <td>[1, 1, 1, 1, 1, 1, 1, 1, 1, 1, 1, 1, 1, 1, 1, 1, 1, 1, 1, 1, 1, 1, 1, 1, 1, 1, 1, 1, 1, 1, 1, 1, 1, 1, 1, 1, 1, 1, 1, 1, 1, 1, 1, 1, 1, 1, 1, 1, 1, 1, 1, 1, 1, 1, 1, 1, 1, 1, 1, 1, 1, 1, 1, 1, 1, 1, 1, 1, 1, 1, 1, 1, 1, 1, 1, 1, 1, 1, 1, 1, 1, 1, 1, 1, 1, 1, 1, 1, 1, 1, 1, 1, 1, 1, 1, 1, 1, 1, 1, 1, ...]</td>\n",
       "      <td>Simon Cope delivered the package on the last day of the 2011 Criterium du Dauphine, which Wiggins went on to win. The Culture, Media and Sport select committee has been by told by Team Sky chief Sir Dave Brailsford the package contained a legal decongestant. But MPs say they are \"concerned\" by some of the evidence they have heard. The doctor who received the package on behalf of Wiggins' Team Sky, Dr Richard Freeman, and head of UK Anti-Doping (Ukad) Nicole Sapstead have also been invited to give evidence on 22 February. Culture, Media and Sport select committee chairman Damian Collins MP said: \"There is a considerable public interest in Ukad's investigation and it is also important to our inquiry into doping in sport to understand what they have been able to determine from their investigation. \"The committee has been told by both British Cycling and Team Sky that they have supplied all the information they have relating to this investigation to Ukad. \"However, we need to know if they have received documentary evidence which confirms what was in the package that was delivered by Simon Cope to Team Sky. \"Without this evidence, I am concerned about how it is possible for the anti-doping rules to be policed in an appropriate manner, if it is not possible to review the records of medicines prescribed to riders by the team doctors.\" Team Sky have been under pressure to reveal the contents of the package following a Daily Mail allegation in October 2016. Cope, who was a women's coach for British Cycling, travelled from Manchester to Geneva on 12 June 2011 to hand a parcel to the Team Sky doctor Freeman on the final day of the Criterium. Cope claimed he did not know what it contained. In an interview with Cycling News, he said: \"It was just an envelope, a Jiffy bag, a small Jiffy bag,\" he said. \"As far as I know I could have been pedals in there.\" Brailsford gave evidence in December and stated the package contained Fluimucil, which is legal in sport and \"administered on a regular basis\".</td>\n",
       "      <td>38795413</td>\n",
       "      <td>[0, 37422, 230, 9877, 2781, 5, 3737, 15, 5, 94, 183, 9, 5, 1466, 15143, 254, 4031, 4279, 211, 1180, 3792, 833, 6, 61, 25243, 439, 15, 7, 339, 4, 20, 11886, 6, 2454, 8, 5413, 5163, 1540, 34, 57, 30, 174, 30, 2711, 3601, 834, 5348, 4475, 9076, 5290, 1891, 5, 3737, 5558, 10, 1030, 5044, 1657, 990, 927, 4, 125, 6714, 224, 51, 32, 22, 3865, 37701, 113, 30, 103, 9, 5, 1283, 51, 33, 1317, 4, 20, 3299, 54, 829, 5, 3737, 15, 4137, 9, 25243, 108, 2711, 3601, 6, 925, 2431, 11460, 6, 8, 471, 9, ...]</td>\n",
       "      <td>[0, 133, 1089, 28544, 704, 54, 15763, 1069, 3215, 10, 128, 4783, 34821, 108, 3737, 13, 5348, 7112, 25243, 34, 57, 4036, 30, 6714, 7, 492, 1283, 23, 10, 16485, 6422, 4, 2]</td>\n",
       "      <td>The British Cycling coach who couriered a 'mystery' package for Sir Bradley Wiggins has been invited by MPs to give evidence at a doping inquiry.</td>\n",
       "    </tr>\n",
       "  </tbody>\n",
       "</table>"
      ],
      "text/plain": [
       "<IPython.core.display.HTML object>"
      ]
     },
     "metadata": {},
     "output_type": "display_data"
    }
   ],
   "source": [
    "display_function(tokenized_xsum['test'])"
   ]
  },
  {
   "cell_type": "markdown",
   "metadata": {},
   "source": [
    "# "
   ]
  },
  {
   "cell_type": "code",
   "execution_count": 19,
   "metadata": {},
   "outputs": [
    {
     "data": {
      "text/plain": [
       "{'attention_mask': Sequence(feature=Value(dtype='int8', id=None), length=-1, id=None),\n",
       " 'document': Value(dtype='string', id=None),\n",
       " 'id': Value(dtype='string', id=None),\n",
       " 'input_ids': Sequence(feature=Value(dtype='int32', id=None), length=-1, id=None),\n",
       " 'labels': Sequence(feature=Value(dtype='int64', id=None), length=-1, id=None),\n",
       " 'summary': Value(dtype='string', id=None)}"
      ]
     },
     "execution_count": 19,
     "metadata": {},
     "output_type": "execute_result"
    }
   ],
   "source": [
    "tokenized_xsum['test'].features"
   ]
  },
  {
   "cell_type": "markdown",
   "metadata": {},
   "source": [
    "### We are going to focus on 10 articles to compare against the professional summary"
   ]
  },
  {
   "cell_type": "code",
   "execution_count": 20,
   "metadata": {},
   "outputs": [],
   "source": [
    "article1 = tokenized_xsum['test']['document'][0]\n",
    "article2 = tokenized_xsum['test']['document'][1]\n",
    "article3 = tokenized_xsum['test']['document'][2]\n",
    "article4 = tokenized_xsum['test']['document'][3]\n",
    "article5 = tokenized_xsum['test']['document'][4]\n",
    "article6 = tokenized_xsum['test']['document'][5]\n",
    "article7 = tokenized_xsum['test']['document'][7]\n",
    "article8 = tokenized_xsum['test']['document'][8]\n",
    "article9 = tokenized_xsum['test']['document'][9]\n",
    "article10 = tokenized_xsum['test']['document'][10]\n",
    "\n",
    "summary1 = tokenized_xsum['test']['summary'][0]\n",
    "summary2 = tokenized_xsum['test']['summary'][1]\n",
    "summary3 = tokenized_xsum['test']['summary'][2]\n",
    "summary4 = tokenized_xsum['test']['summary'][3]\n",
    "summary5 = tokenized_xsum['test']['summary'][4]\n",
    "summary6 = tokenized_xsum['test']['summary'][5]\n",
    "summary7 = tokenized_xsum['test']['summary'][7]\n",
    "summary8 = tokenized_xsum['test']['summary'][8]\n",
    "summary9 = tokenized_xsum['test']['summary'][9]\n",
    "summary10 = tokenized_xsum['test']['summary'][10]\n"
   ]
  },
  {
   "cell_type": "code",
   "execution_count": 21,
   "metadata": {},
   "outputs": [],
   "source": [
    "input1 = tokenizer(article1, return_tensors='pt', truncation=True)\n",
    "summary_ids1 = model.generate(input1['input_ids'], max_length=500, early_stopping=False)\n",
    "machineSummary1 = ([tokenizer.decode(g, skip_special_tokens=True) for g in summary_ids1])"
   ]
  },
  {
   "cell_type": "markdown",
   "metadata": {},
   "source": [
    "## Compare Machine Summaries to Professional Human Written Summaries\n",
    "To score our machine generated summaries against professiona human written ones, we compute the cosuiine similarities between embeddings to measure the semantic similaritiy between two texts"
   ]
  },
  {
   "cell_type": "code",
   "execution_count": 28,
   "metadata": {},
   "outputs": [],
   "source": [
    "def listToString(s): \n",
    "    str1 = \"\" \n",
    "    \n",
    "    for ele in s: \n",
    "        str1 += ele  \n",
    " \n",
    "    return str1 "
   ]
  },
  {
   "cell_type": "code",
   "execution_count": 29,
   "metadata": {},
   "outputs": [],
   "source": [
    "machineSummary1 = listToString(machineSummary1)\n",
    "summary1 = listToString(summary1)"
   ]
  },
  {
   "cell_type": "code",
   "execution_count": 34,
   "metadata": {},
   "outputs": [
    {
     "name": "stdout",
     "output_type": "stream",
     "text": [
      "tensor([[0.7415]])\n"
     ]
    }
   ],
   "source": [
    "comparison1 = [summary1, machineSummary1]\n",
    "model = SentenceTransformer('distilbert-base-nli-mean-tokens')\n",
    "comparison_embeddings1 = model.encode(comparison1)\n",
    "print(util.pytorch_cos_sim(comparison_embeddings1[0], comparison_embeddings1[1]))"
   ]
  },
  {
   "cell_type": "code",
   "execution_count": 35,
   "metadata": {},
   "outputs": [
    {
     "data": {
      "text/plain": [
       "['There is a \"chronic\" need for more housing for prison leavers in Wales, according to a charity.',\n",
       " 'Prison Link Cymru had 1,099 referrals in 2015-16 and said some ex-offenders were living rough for up to a year before finding suitable accommodation. Workers at the charity claim investment in housing would be cheaper than jailing homeless repeat offenders. Welsh Government said more people than ever were getting help to address housing problems. Changes to the Housing Act in Wales, introduced in 2015, removed the right for prison leavers to be given priority for accommodation.']"
      ]
     },
     "execution_count": 35,
     "metadata": {},
     "output_type": "execute_result"
    }
   ],
   "source": [
    "comparison1"
   ]
  },
  {
   "cell_type": "code",
   "execution_count": null,
   "metadata": {},
   "outputs": [],
   "source": []
  }
 ],
 "metadata": {
  "interpreter": {
   "hash": "0eebd8ec8ee1e3b0ea056353a4df6208bb651af5156ee9734311d083be2b2cbb"
  },
  "kernelspec": {
   "display_name": "Python 3.9.9 64-bit (windows store)",
   "language": "python",
   "name": "python3"
  },
  "language_info": {
   "codemirror_mode": {
    "name": "ipython",
    "version": 3
   },
   "file_extension": ".py",
   "mimetype": "text/x-python",
   "name": "python",
   "nbconvert_exporter": "python",
   "pygments_lexer": "ipython3",
   "version": "3.9.9"
  },
  "orig_nbformat": 4
 },
 "nbformat": 4,
 "nbformat_minor": 2
}
