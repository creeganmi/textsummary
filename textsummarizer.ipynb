{
 "cells": [
  {
   "cell_type": "markdown",
   "metadata": {},
   "source": [
    "# Text Summary & Scoring Project\n",
    "##### Michael Creegan, Yungfeng Dai, Hong Gyu Ji, Ziling Zeng\n",
    "##### Python for Data Analysis\n",
    "##### Columbia University"
   ]
  },
  {
   "cell_type": "markdown",
   "metadata": {},
   "source": [
    "# Abstract\n",
    "\n",
    "Summarization is a common problem in the 21st century as the world has become increasingly driven by data. Summarization of data can be very useful to  quickly determine if something is relevant or whether it's worth reading. Another use case could could be to store summaries of articles it in the backend to run downstream taks on. It could also be useful to understand the semantic integrity to indicate quality.\n",
    "\n",
    "To explore this topic, we will leverage the extreme summarization dataset (XSUM) which consists of BBC articles accompanying single sentence summaries. Each article is prefaced with an introductory sentence (which is a summary) that is professionally written, typically by the author of the article.\n",
    "\n",
    "To summarize articles, we will use an encoder-decoder transformer (sequence-to-sequence) which combines  decoders and encoders because we need to perform both input and output tasks: taking in text and then generating a summary. We selected this type of transformer because the encoder accepts inputs (text) and computes a high level representation of those inputs  which are then passed to the decoder to generate a prediction output (summary). This has advantages over using a standalone encoder like BERT/ALBERT/ELECTRA/RoBERTA/DistilBERT to name a few because  encoders are pre-trained by filling randomly masked words in sentences and therefore are better suited for output tasks. Using a standalone decoder like gpt2 would also not be optimal because decoders are trained to guess the next word in a sequence (left or right context aka does not have context on one side of the sequence) and therefore are better suited at generating text but not necessarily taking in text because of the hidden context limitations. \n",
    "\n",
    "Our scoring will compare the output of the BART encoder-decoder model to the professionally written summaries in the XSUM dataset to see how semantically similar a machine generated summary is to a professional one as well as to their source articles. Our scoring methodology will be focused on semantic textual similarity and computed using the cosine similarity between the professional human written summary and the machine generated one. "
   ]
  },
  {
   "cell_type": "markdown",
   "metadata": {},
   "source": [
    "# Importing Transformers & Dependencies"
   ]
  },
  {
   "cell_type": "code",
   "execution_count": 53,
   "metadata": {},
   "outputs": [],
   "source": [
    "import pandas as pd\n",
    "import numpy as np\n",
    "from transformers import BartTokenizer, BartForConditionalGeneration, BartConfig\n",
    "from datasets import load_dataset, load_metric\n",
    "from sentence_transformers import SentenceTransformer, util\n",
    "import random\n",
    "from IPython.display import display, HTML"
   ]
  },
  {
   "cell_type": "markdown",
   "metadata": {},
   "source": [
    "# Load XSUM Dataset"
   ]
  },
  {
   "cell_type": "code",
   "execution_count": 54,
   "metadata": {},
   "outputs": [
    {
     "name": "stderr",
     "output_type": "stream",
     "text": [
      "Using custom data configuration default\n",
      "Reusing dataset xsum (C:\\Users\\creeg\\.cache\\huggingface\\datasets\\xsum\\default\\1.2.0\\32c23220eadddb1149b16ed2e9430a05293768cfffbdfd151058697d4c11f934)\n",
      "100%|██████████| 3/3 [00:00<00:00, 93.78it/s]\n"
     ]
    }
   ],
   "source": [
    "xsum = load_dataset('xsum')"
   ]
  },
  {
   "cell_type": "markdown",
   "metadata": {},
   "source": [
    "### We can see that the dataset is a \"DatasetDict\" where the keys are strings that correspond to the split and the values are the dataset object. In the XSUM dataset, the the keys are \"training\", \"validation\", and \"test\" with values corresponding to \"document\", \"summary\", and \"id\" (columns)"
   ]
  },
  {
   "cell_type": "code",
   "execution_count": 55,
   "metadata": {},
   "outputs": [
    {
     "data": {
      "text/plain": [
       "DatasetDict({\n",
       "    train: Dataset({\n",
       "        features: ['document', 'summary', 'id'],\n",
       "        num_rows: 204045\n",
       "    })\n",
       "    validation: Dataset({\n",
       "        features: ['document', 'summary', 'id'],\n",
       "        num_rows: 11332\n",
       "    })\n",
       "    test: Dataset({\n",
       "        features: ['document', 'summary', 'id'],\n",
       "        num_rows: 11334\n",
       "    })\n",
       "})"
      ]
     },
     "execution_count": 55,
     "metadata": {},
     "output_type": "execute_result"
    }
   ],
   "source": [
    "xsum"
   ]
  },
  {
   "cell_type": "markdown",
   "metadata": {},
   "source": [
    "# View Underlying Data"
   ]
  },
  {
   "cell_type": "code",
   "execution_count": 56,
   "metadata": {},
   "outputs": [
    {
     "data": {
      "text/plain": [
       "{'document': 'Prison Link Cymru had 1,099 referrals in 2015-16 and said some ex-offenders were living rough for up to a year before finding suitable accommodation.\\nWorkers at the charity claim investment in housing would be cheaper than jailing homeless repeat offenders.\\nThe Welsh Government said more people than ever were getting help to address housing problems.\\nChanges to the Housing Act in Wales, introduced in 2015, removed the right for prison leavers to be given priority for accommodation.\\nPrison Link Cymru, which helps people find accommodation after their release, said things were generally good for women because issues such as children or domestic violence were now considered.\\nHowever, the same could not be said for men, the charity said, because issues which often affect them, such as post traumatic stress disorder or drug dependency, were often viewed as less of a priority.\\nAndrew Stevens, who works in Welsh prisons trying to secure housing for prison leavers, said the need for accommodation was \"chronic\".\\n\"There\\'s a desperate need for it, finding suitable accommodation for those leaving prison there is just a lack of it everywhere,\" he said.\\n\"It could take six months to a year, without a lot of help they could be on the streets for six months.\\n\"When you think of the consequences of either being on the street, especially with the cold weather at the moment or you may have a roof over your head, sometimes there is only one choice.\"\\nMr Stevens believes building more one-bedroom flats could help ease the problem.\\n\"The average price is a hundred pounds a week to keep someone in a rented flat, prison is a lot more than that so I would imagine it would save the public purse quite a few pounds,\" he said.\\nOfficial figures show 830 one-bedroom properties were built in the year to March 2016, of an overall total of 6,900 new properties in Wales.\\nMarc, 50, who has been in and out of prison for the past 20 years for burglary offences, said he struggled to find accommodation each time he was released.\\nHe said he would ask himself: \"Where am I going to stay? Where am I going to live? Have I got somewhere where I can see my daughter.\"\\n\"You\\'re put out among the same sort of people doing the same sort of thing, and it\\'s difficult, it\\'s difficult to get away from it. It\\'s like every man for himself, there\\'s nothing.\"\\nMarc has now found stable accommodation with homeless charity Emmaus and said it had been life changing.\\n\"You feel safe, you got hot food, you\\'ve got company of people in similar situations to yourself but all dealing with different issues. It\\'s a constructive, helpful atmosphere,\" he said.\\nTom Clarke, chief executive of Emmaus South Wales, agreed there was not enough support available.\\n\"We do still see [people] homeless on the streets, so clearly they haven\\'t got accommodation and haven\\'t got provision,\" he said.\\n\"I think the key is connecting people with the services they need. I don\\'t delude myself that Emmaus can offer a one size fits all for everyone, we can\\'t.\\n\"But there must be other opportunities and given suitable encouragement I believe that can and should happen.\"\\nA Welsh Government spokesman said the national pathway for homeless services to children, young people and adults in the secure estate had prevented many people from losing their home whilst serving their prison sentence.\\nIt added there were already significant demands for one-bedroom flats across the public and private sector and it was providing 20,000 new affordable homes in the next five years.',\n",
       " 'summary': 'There is a \"chronic\" need for more housing for prison leavers in Wales, according to a charity.',\n",
       " 'id': '38264402'}"
      ]
     },
     "execution_count": 56,
     "metadata": {},
     "output_type": "execute_result"
    }
   ],
   "source": [
    "xsum['test'][0]"
   ]
  },
  {
   "cell_type": "markdown",
   "metadata": {},
   "source": [
    "## We can use a function to view a random selection of articles and summaries in the training section (largest section) to get a more accurate depiction of what the data looks like in a synthesized format"
   ]
  },
  {
   "cell_type": "code",
   "execution_count": 57,
   "metadata": {},
   "outputs": [],
   "source": [
    "def display_function(xsum, num_examples=3):\n",
    "    assert num_examples <= len(xsum)                # limit to number of records in the xsum\n",
    "    \n",
    "    selections = []                                 # create empty list to put the records into \n",
    "    \n",
    "    for _ in range(num_examples):                   # we can use _ here in place of a variable name because we don't care how many time sthe loop is run\n",
    "        selection = random.randint(0, len(xsum) - 1)\n",
    "        while selection in selections:\n",
    "            selection = random.randint(0, len(xsum) - 1)\n",
    "        selections.append(selection)\n",
    "\n",
    "    xsumPd = pd.DataFrame(xsum[selections])\n",
    "    for column, typ in xsum.features.items():\n",
    "        display(HTML(xsumPd.to_html()))"
   ]
  },
  {
   "cell_type": "markdown",
   "metadata": {},
   "source": [
    "# Cleaning\n",
    "Our end goal is to create accurate summaries using this model so we need to remove the text characters that do not provide any contextual value. We can also see that there are characters in the document that are not present in the summary which could cause discrepencies between our machine generated summary vs the professional human generated one. We need to remove new line characters and backslashes that are present in the document column but not the summary column"
   ]
  },
  {
   "cell_type": "code",
   "execution_count": 58,
   "metadata": {},
   "outputs": [
    {
     "data": {
      "text/html": [
       "<table border=\"1\" class=\"dataframe\">\n",
       "  <thead>\n",
       "    <tr style=\"text-align: right;\">\n",
       "      <th></th>\n",
       "      <th>document</th>\n",
       "      <th>summary</th>\n",
       "      <th>id</th>\n",
       "    </tr>\n",
       "  </thead>\n",
       "  <tbody>\n",
       "    <tr>\n",
       "      <th>0</th>\n",
       "      <td>Mr Tucker will take over on 1 October, succeeding Douglas Flint who has been in the role since 2010.\\nThe appointment breaks an HSBC tradition of appointing insiders to the chairmanship.\\nOne of his first jobs will be to find a replacement for Stuart Gulliver, the chief executive of HSBC, who plans to step down next year.\\nWhile HSBC is Europe's biggest bank, the bulk of its profits are generated in Asia.\\nMr Tucker has been chief executive of AIA for seven years, during which he oversaw the insurer's expansion in Asia.\\nBefore AIA, he was the chief executive of insurance giant Prudential, and brings to HSBC his experience at the top of a UK financial giant as well as his Asian exposure.\\nRichard Dunbar of Aberdeen Asset Management, told the BBC the bank has \"obviously decided\" that an external perspective would be useful to HSBC at this time.\\nHe added that while chief executive of Prudential, Mr Tucker did a good job of expanding its Asian assets, which are seen as the firm's \"jewel in the crown\".\\nHSBC has been through an overhaul in recent years in an attempt to reverse declining profits.\\nOver the past six years it has cut more than 40,000 jobs and sold off businesses.\\nDespite those efforts, profits tumbled more than 60% last year.\\nThe banking industry has been hampered by the extended period of very low interest rates, which makes lending money less profitable.\\nFor HSBC, that problem has been compounded by its move into less risky areas of banking since the financial crisis which started in 2007.\\nThose challenges make the appointment of a new chief executive even more crucial for investors, a search which will now be led by Mr Tucker.\\nHSBC has also been attempting to repair its image after a series of scandals.\\nEarlier this year it reached a $470m (Â£325m) settlement with the US government and states related to dubious mortgage lending and foreclosure practices during the financial crisis.\\nIn 2015 Mr Gulliver and Mr Flint apologised for \"unacceptable\" practices at its Swiss private bank which helped clients to avoid tax.\\nIn late 2012 HSBC paid US authorities $1.9bn in a settlement over money laundering.\\nAIA said that Ng Keng Hooi, would take over as chief executive from 1 September.</td>\n",
       "      <td>HSBC has appointed Mark Tucker, the chief executive of Asian insurer AIA, as group chairman.</td>\n",
       "      <td>39251348</td>\n",
       "    </tr>\n",
       "    <tr>\n",
       "      <th>1</th>\n",
       "      <td>In dollar terms, imports dropped 20.4% from a year earlier to $145.2bn, a steeper fall than had been expected.\\nThe drop was due to lower commodity prices and weaker domestic demand.\\nNext week, China is due to report its third-quarter growth rate, which is expected to be lower than the 7% annual pace seen in the second quarter.\\nChina recently revised down its growth rate for 2014 from 7.4% to 7.3%, the weakest pace for almost 25 years.\\nChina has been attempting to shift from an export-led economy to a consumer-led one, although the steep fall in imports suggests domestic demand is not as strong as the government would have hoped.\\nIn dollar terms, China's exports fell by 3.7% from a year earlier to $205.6bn - although analysts had forecast a steeper fall.\\nThe country's trade surplus nearly doubled to $60.34bn.\\nIn yuan-denominated terms, imports fell by 17.7% while exports were down 1.1%.\\nIn a research note, economists at ANZ said: \"September's import figure does not bode well for industrial production and fixed-asset investment.\\n\"Overall growth momentum last month remained weak and third-quarter GDP growth to be released next Monday will likely have edged down to 6.4% in the third quarter, compared with 7% in the first half.\"</td>\n",
       "      <td>China saw a sharp fall in the value of its imports last month, figures show, raising further questions over the strength of its economy.</td>\n",
       "      <td>34513044</td>\n",
       "    </tr>\n",
       "    <tr>\n",
       "      <th>2</th>\n",
       "      <td>The interim review of Liverpool's green and open spaces, commissioned by Mayor Joe Anderson, suggests an extra Â£4.50 contribution is needed per person.\\nThe proposal to increase council tax is one of 31 recommendations made in green activist Simon O'Brien's report.\\nHe warned that Liverpool was \"heading to a brick wall\" when it comes to maintaining open spaces in the city.\\nMr Anderson explained: \"Sadly, the 58% cut to our budget by central government has left us grappling with the challenge of finding new ways to fund non-essential services, including maintenance of and investment in our green and open spaces.\"\\nFormer Brookside actor Mr O'Brien said: \"As central government is cutting money left, right and centre, non-statutory provision is the first thing that goes.\\n\"I've suggested other things like tourist levies, which you can only set up nationally unfortunately. I think if we charge everyone who comes to stay in the city Â£1 a head, this problem goes away but we're not allowed to do that yet.\\n\"If I can see a way that maybe you could commercialise a park - perhaps you could put a cafÃ© or a health centre in and bring in revenue - that's good.\"\\nHe called for residents to give their feedback before a final report is produced.</td>\n",
       "      <td>A city's parks could be funded by an increase in council tax, a report has recommended.</td>\n",
       "      <td>35040063</td>\n",
       "    </tr>\n",
       "  </tbody>\n",
       "</table>"
      ],
      "text/plain": [
       "<IPython.core.display.HTML object>"
      ]
     },
     "metadata": {},
     "output_type": "display_data"
    },
    {
     "data": {
      "text/html": [
       "<table border=\"1\" class=\"dataframe\">\n",
       "  <thead>\n",
       "    <tr style=\"text-align: right;\">\n",
       "      <th></th>\n",
       "      <th>document</th>\n",
       "      <th>summary</th>\n",
       "      <th>id</th>\n",
       "    </tr>\n",
       "  </thead>\n",
       "  <tbody>\n",
       "    <tr>\n",
       "      <th>0</th>\n",
       "      <td>Mr Tucker will take over on 1 October, succeeding Douglas Flint who has been in the role since 2010.\\nThe appointment breaks an HSBC tradition of appointing insiders to the chairmanship.\\nOne of his first jobs will be to find a replacement for Stuart Gulliver, the chief executive of HSBC, who plans to step down next year.\\nWhile HSBC is Europe's biggest bank, the bulk of its profits are generated in Asia.\\nMr Tucker has been chief executive of AIA for seven years, during which he oversaw the insurer's expansion in Asia.\\nBefore AIA, he was the chief executive of insurance giant Prudential, and brings to HSBC his experience at the top of a UK financial giant as well as his Asian exposure.\\nRichard Dunbar of Aberdeen Asset Management, told the BBC the bank has \"obviously decided\" that an external perspective would be useful to HSBC at this time.\\nHe added that while chief executive of Prudential, Mr Tucker did a good job of expanding its Asian assets, which are seen as the firm's \"jewel in the crown\".\\nHSBC has been through an overhaul in recent years in an attempt to reverse declining profits.\\nOver the past six years it has cut more than 40,000 jobs and sold off businesses.\\nDespite those efforts, profits tumbled more than 60% last year.\\nThe banking industry has been hampered by the extended period of very low interest rates, which makes lending money less profitable.\\nFor HSBC, that problem has been compounded by its move into less risky areas of banking since the financial crisis which started in 2007.\\nThose challenges make the appointment of a new chief executive even more crucial for investors, a search which will now be led by Mr Tucker.\\nHSBC has also been attempting to repair its image after a series of scandals.\\nEarlier this year it reached a $470m (Â£325m) settlement with the US government and states related to dubious mortgage lending and foreclosure practices during the financial crisis.\\nIn 2015 Mr Gulliver and Mr Flint apologised for \"unacceptable\" practices at its Swiss private bank which helped clients to avoid tax.\\nIn late 2012 HSBC paid US authorities $1.9bn in a settlement over money laundering.\\nAIA said that Ng Keng Hooi, would take over as chief executive from 1 September.</td>\n",
       "      <td>HSBC has appointed Mark Tucker, the chief executive of Asian insurer AIA, as group chairman.</td>\n",
       "      <td>39251348</td>\n",
       "    </tr>\n",
       "    <tr>\n",
       "      <th>1</th>\n",
       "      <td>In dollar terms, imports dropped 20.4% from a year earlier to $145.2bn, a steeper fall than had been expected.\\nThe drop was due to lower commodity prices and weaker domestic demand.\\nNext week, China is due to report its third-quarter growth rate, which is expected to be lower than the 7% annual pace seen in the second quarter.\\nChina recently revised down its growth rate for 2014 from 7.4% to 7.3%, the weakest pace for almost 25 years.\\nChina has been attempting to shift from an export-led economy to a consumer-led one, although the steep fall in imports suggests domestic demand is not as strong as the government would have hoped.\\nIn dollar terms, China's exports fell by 3.7% from a year earlier to $205.6bn - although analysts had forecast a steeper fall.\\nThe country's trade surplus nearly doubled to $60.34bn.\\nIn yuan-denominated terms, imports fell by 17.7% while exports were down 1.1%.\\nIn a research note, economists at ANZ said: \"September's import figure does not bode well for industrial production and fixed-asset investment.\\n\"Overall growth momentum last month remained weak and third-quarter GDP growth to be released next Monday will likely have edged down to 6.4% in the third quarter, compared with 7% in the first half.\"</td>\n",
       "      <td>China saw a sharp fall in the value of its imports last month, figures show, raising further questions over the strength of its economy.</td>\n",
       "      <td>34513044</td>\n",
       "    </tr>\n",
       "    <tr>\n",
       "      <th>2</th>\n",
       "      <td>The interim review of Liverpool's green and open spaces, commissioned by Mayor Joe Anderson, suggests an extra Â£4.50 contribution is needed per person.\\nThe proposal to increase council tax is one of 31 recommendations made in green activist Simon O'Brien's report.\\nHe warned that Liverpool was \"heading to a brick wall\" when it comes to maintaining open spaces in the city.\\nMr Anderson explained: \"Sadly, the 58% cut to our budget by central government has left us grappling with the challenge of finding new ways to fund non-essential services, including maintenance of and investment in our green and open spaces.\"\\nFormer Brookside actor Mr O'Brien said: \"As central government is cutting money left, right and centre, non-statutory provision is the first thing that goes.\\n\"I've suggested other things like tourist levies, which you can only set up nationally unfortunately. I think if we charge everyone who comes to stay in the city Â£1 a head, this problem goes away but we're not allowed to do that yet.\\n\"If I can see a way that maybe you could commercialise a park - perhaps you could put a cafÃ© or a health centre in and bring in revenue - that's good.\"\\nHe called for residents to give their feedback before a final report is produced.</td>\n",
       "      <td>A city's parks could be funded by an increase in council tax, a report has recommended.</td>\n",
       "      <td>35040063</td>\n",
       "    </tr>\n",
       "  </tbody>\n",
       "</table>"
      ],
      "text/plain": [
       "<IPython.core.display.HTML object>"
      ]
     },
     "metadata": {},
     "output_type": "display_data"
    },
    {
     "data": {
      "text/html": [
       "<table border=\"1\" class=\"dataframe\">\n",
       "  <thead>\n",
       "    <tr style=\"text-align: right;\">\n",
       "      <th></th>\n",
       "      <th>document</th>\n",
       "      <th>summary</th>\n",
       "      <th>id</th>\n",
       "    </tr>\n",
       "  </thead>\n",
       "  <tbody>\n",
       "    <tr>\n",
       "      <th>0</th>\n",
       "      <td>Mr Tucker will take over on 1 October, succeeding Douglas Flint who has been in the role since 2010.\\nThe appointment breaks an HSBC tradition of appointing insiders to the chairmanship.\\nOne of his first jobs will be to find a replacement for Stuart Gulliver, the chief executive of HSBC, who plans to step down next year.\\nWhile HSBC is Europe's biggest bank, the bulk of its profits are generated in Asia.\\nMr Tucker has been chief executive of AIA for seven years, during which he oversaw the insurer's expansion in Asia.\\nBefore AIA, he was the chief executive of insurance giant Prudential, and brings to HSBC his experience at the top of a UK financial giant as well as his Asian exposure.\\nRichard Dunbar of Aberdeen Asset Management, told the BBC the bank has \"obviously decided\" that an external perspective would be useful to HSBC at this time.\\nHe added that while chief executive of Prudential, Mr Tucker did a good job of expanding its Asian assets, which are seen as the firm's \"jewel in the crown\".\\nHSBC has been through an overhaul in recent years in an attempt to reverse declining profits.\\nOver the past six years it has cut more than 40,000 jobs and sold off businesses.\\nDespite those efforts, profits tumbled more than 60% last year.\\nThe banking industry has been hampered by the extended period of very low interest rates, which makes lending money less profitable.\\nFor HSBC, that problem has been compounded by its move into less risky areas of banking since the financial crisis which started in 2007.\\nThose challenges make the appointment of a new chief executive even more crucial for investors, a search which will now be led by Mr Tucker.\\nHSBC has also been attempting to repair its image after a series of scandals.\\nEarlier this year it reached a $470m (Â£325m) settlement with the US government and states related to dubious mortgage lending and foreclosure practices during the financial crisis.\\nIn 2015 Mr Gulliver and Mr Flint apologised for \"unacceptable\" practices at its Swiss private bank which helped clients to avoid tax.\\nIn late 2012 HSBC paid US authorities $1.9bn in a settlement over money laundering.\\nAIA said that Ng Keng Hooi, would take over as chief executive from 1 September.</td>\n",
       "      <td>HSBC has appointed Mark Tucker, the chief executive of Asian insurer AIA, as group chairman.</td>\n",
       "      <td>39251348</td>\n",
       "    </tr>\n",
       "    <tr>\n",
       "      <th>1</th>\n",
       "      <td>In dollar terms, imports dropped 20.4% from a year earlier to $145.2bn, a steeper fall than had been expected.\\nThe drop was due to lower commodity prices and weaker domestic demand.\\nNext week, China is due to report its third-quarter growth rate, which is expected to be lower than the 7% annual pace seen in the second quarter.\\nChina recently revised down its growth rate for 2014 from 7.4% to 7.3%, the weakest pace for almost 25 years.\\nChina has been attempting to shift from an export-led economy to a consumer-led one, although the steep fall in imports suggests domestic demand is not as strong as the government would have hoped.\\nIn dollar terms, China's exports fell by 3.7% from a year earlier to $205.6bn - although analysts had forecast a steeper fall.\\nThe country's trade surplus nearly doubled to $60.34bn.\\nIn yuan-denominated terms, imports fell by 17.7% while exports were down 1.1%.\\nIn a research note, economists at ANZ said: \"September's import figure does not bode well for industrial production and fixed-asset investment.\\n\"Overall growth momentum last month remained weak and third-quarter GDP growth to be released next Monday will likely have edged down to 6.4% in the third quarter, compared with 7% in the first half.\"</td>\n",
       "      <td>China saw a sharp fall in the value of its imports last month, figures show, raising further questions over the strength of its economy.</td>\n",
       "      <td>34513044</td>\n",
       "    </tr>\n",
       "    <tr>\n",
       "      <th>2</th>\n",
       "      <td>The interim review of Liverpool's green and open spaces, commissioned by Mayor Joe Anderson, suggests an extra Â£4.50 contribution is needed per person.\\nThe proposal to increase council tax is one of 31 recommendations made in green activist Simon O'Brien's report.\\nHe warned that Liverpool was \"heading to a brick wall\" when it comes to maintaining open spaces in the city.\\nMr Anderson explained: \"Sadly, the 58% cut to our budget by central government has left us grappling with the challenge of finding new ways to fund non-essential services, including maintenance of and investment in our green and open spaces.\"\\nFormer Brookside actor Mr O'Brien said: \"As central government is cutting money left, right and centre, non-statutory provision is the first thing that goes.\\n\"I've suggested other things like tourist levies, which you can only set up nationally unfortunately. I think if we charge everyone who comes to stay in the city Â£1 a head, this problem goes away but we're not allowed to do that yet.\\n\"If I can see a way that maybe you could commercialise a park - perhaps you could put a cafÃ© or a health centre in and bring in revenue - that's good.\"\\nHe called for residents to give their feedback before a final report is produced.</td>\n",
       "      <td>A city's parks could be funded by an increase in council tax, a report has recommended.</td>\n",
       "      <td>35040063</td>\n",
       "    </tr>\n",
       "  </tbody>\n",
       "</table>"
      ],
      "text/plain": [
       "<IPython.core.display.HTML object>"
      ]
     },
     "metadata": {},
     "output_type": "display_data"
    }
   ],
   "source": [
    "display_function(xsum[\"test\"])"
   ]
  },
  {
   "cell_type": "markdown",
   "metadata": {},
   "source": [
    "## We can address the problem we mentioned above by define a cleaning function that replaces new lines and backslashes with white space."
   ]
  },
  {
   "cell_type": "code",
   "execution_count": 59,
   "metadata": {},
   "outputs": [],
   "source": [
    "def clean(row):\n",
    "    row['document'] = row['document'].replace('\\n', ' ')\\\n",
    "                                     .replace('\\'', '').replace('\\\"','')\n",
    "    return row"
   ]
  },
  {
   "cell_type": "markdown",
   "metadata": {},
   "source": [
    "## We can now apply the cleaning function we created and map it onto our data (it loads for train, test, and validation)"
   ]
  },
  {
   "cell_type": "code",
   "execution_count": 60,
   "metadata": {},
   "outputs": [
    {
     "name": "stderr",
     "output_type": "stream",
     "text": [
      "Loading cached processed dataset at C:\\Users\\creeg\\.cache\\huggingface\\datasets\\xsum\\default\\1.2.0\\32c23220eadddb1149b16ed2e9430a05293768cfffbdfd151058697d4c11f934\\cache-fd36b556705cbe4d.arrow\n",
      "Loading cached processed dataset at C:\\Users\\creeg\\.cache\\huggingface\\datasets\\xsum\\default\\1.2.0\\32c23220eadddb1149b16ed2e9430a05293768cfffbdfd151058697d4c11f934\\cache-edb3a2dc2f06b92c.arrow\n",
      "Loading cached processed dataset at C:\\Users\\creeg\\.cache\\huggingface\\datasets\\xsum\\default\\1.2.0\\32c23220eadddb1149b16ed2e9430a05293768cfffbdfd151058697d4c11f934\\cache-a4042da98a2992a2.arrow\n"
     ]
    }
   ],
   "source": [
    "xsum = xsum.map(clean)"
   ]
  },
  {
   "cell_type": "markdown",
   "metadata": {},
   "source": [
    "### Voila!"
   ]
  },
  {
   "cell_type": "code",
   "execution_count": 61,
   "metadata": {},
   "outputs": [
    {
     "data": {
      "text/html": [
       "<table border=\"1\" class=\"dataframe\">\n",
       "  <thead>\n",
       "    <tr style=\"text-align: right;\">\n",
       "      <th></th>\n",
       "      <th>document</th>\n",
       "      <th>summary</th>\n",
       "      <th>id</th>\n",
       "    </tr>\n",
       "  </thead>\n",
       "  <tbody>\n",
       "    <tr>\n",
       "      <th>0</th>\n",
       "      <td>10 February 2017 Last updated at 09:27 GMT Some people are worried hospitals are now getting too busy and overcrowded, meaning patients are having to wait a long time to be seen by a doctor. How is this affecting children who get injured and need to go to hospital? Jenny went to a childrens hospital in Sheffield to speak to a doctor and find out. She also meets Lilly and Jake, who have come to hospital needing treatment, to see how their experience went.</td>\n",
       "      <td>Winter is a very busy time of year for hospitals, with more people needing to see a doctor.</td>\n",
       "      <td>38928746</td>\n",
       "    </tr>\n",
       "    <tr>\n",
       "      <th>1</th>\n",
       "      <td>The Stanford University team said the findings were incredibly exciting and would now be tested in clinics. Eventually, they believe using AI could revolutionise healthcare by turning anyones smartphone into a cancer scanner. Cancer Research UK said it could become a useful tool for doctors. The AI was repurposed from software developed by Google that had learned to spot the difference between images of cats and dogs. It was shown 129,450 photographs and told what type of skin condition it was looking at in each one. It then learned to spot the hallmarks of the most common type of skin cancer: carcinoma, and the most deadly: melanoma. Only one in 20 skin cancers are melanoma, yet the tumour accounts for three-quarters of skin cancer deaths. The experiment, detailed in the journal Nature, then tested the AI against 21 trained skin cancer doctors. One of the researchers, Dr Andre Esteva, told the BBC News website: We find, in general, that we are on par with board-certified dermatologists. However, the computer software cannot make a full diagnosis, as this is normally confirmed with a tissue biopsy. Dr Esteva said the system now needed to be tested alongside doctors in the clinic. The application of AI to healthcare is, we believe, an incredibly exciting area of research that can be leveraged to achieve a great deal of societal good, he said. One particular route that we find exciting is the use of this algorithm on a mobile device, but to achieve this we would have to build an app and test its accuracy directly from a mobile device. Incredible advances in machine-learning have already led to AI beating one of humanitys best Go players. And a team of doctors in London have trained AI to predict when the heart will fail. Dr Jana Witt, from the charity Cancer Research UK, said:  Using artificial intelligence to help diagnose skin cancer is very interesting, as it could support assessments by GPs and dermatologists. Its unlikely that AI will replace all of the other information your clinician would consider when making a diagnosis, but AI could help guide GP referrals to specialists in the future. Follow James on Twitter.</td>\n",
       "      <td>Artificial intelligence can identify skin cancer in photographs with the same accuracy as trained doctors, say scientists.</td>\n",
       "      <td>38717928</td>\n",
       "    </tr>\n",
       "    <tr>\n",
       "      <th>2</th>\n",
       "      <td>Bernard Mensah struck a post for Aldershot after 11 minutes, but the visitors were a man down midway through the first half when Jim Kellerman saw red for a foul on Ross Stearn. The Shots regrouped and took a deserved lead in the 42nd minute when Idris Kanu latched on to a through pass and poked the ball under Ryan Clarke. But in the second half Eastleighs extra man began to tell as they pushed forward and, with 10 minutes left, McAllister fired home from close range after getting on to the end of a flick-on. That was enough to earn Eastleigh their first point in five outings, while Aldershot extended their unbeaten run to 10 games. Report supplied by the Press Association. Match ends, Eastleigh 1, Aldershot Town 1. Second Half ends, Eastleigh 1, Aldershot Town 1. Sam Matthews (Eastleigh) is shown the yellow card for a bad foul. Sam Muggleton (Eastleigh) is shown the yellow card for a bad foul. Substitution, Aldershot Town. Nick Arnold replaces Cheye Alexander. Goal!  Eastleigh 1, Aldershot Town 1. Craig McAllister (Eastleigh). Ayo Obileye (Eastleigh) is shown the yellow card for a bad foul. Substitution, Eastleigh. Sam Matthews replaces Tyler Garrett. James Constable (Eastleigh) is shown the yellow card for a bad foul. Substitution, Eastleigh. James Constable replaces Ross Stearn. Substitution, Aldershot Town. Shamir Fenelon replaces Bernard Mensah. Second Half begins Eastleigh 0, Aldershot Town 1. First Half ends, Eastleigh 0, Aldershot Town 1. Goal!  Eastleigh 0, Aldershot Town 1. Idris Kanu (Aldershot Town). Jim Kellerman (Aldershot Town) is shown the red card. First Half begins. Lineups are announced and players are warming up.</td>\n",
       "      <td>Craig McAllister's late goal saw Eastleigh end a run of four straight defeats as they held the 10 men of high-flying Aldershot in a 1-1 draw.</td>\n",
       "      <td>39035546</td>\n",
       "    </tr>\n",
       "  </tbody>\n",
       "</table>"
      ],
      "text/plain": [
       "<IPython.core.display.HTML object>"
      ]
     },
     "metadata": {},
     "output_type": "display_data"
    },
    {
     "data": {
      "text/html": [
       "<table border=\"1\" class=\"dataframe\">\n",
       "  <thead>\n",
       "    <tr style=\"text-align: right;\">\n",
       "      <th></th>\n",
       "      <th>document</th>\n",
       "      <th>summary</th>\n",
       "      <th>id</th>\n",
       "    </tr>\n",
       "  </thead>\n",
       "  <tbody>\n",
       "    <tr>\n",
       "      <th>0</th>\n",
       "      <td>10 February 2017 Last updated at 09:27 GMT Some people are worried hospitals are now getting too busy and overcrowded, meaning patients are having to wait a long time to be seen by a doctor. How is this affecting children who get injured and need to go to hospital? Jenny went to a childrens hospital in Sheffield to speak to a doctor and find out. She also meets Lilly and Jake, who have come to hospital needing treatment, to see how their experience went.</td>\n",
       "      <td>Winter is a very busy time of year for hospitals, with more people needing to see a doctor.</td>\n",
       "      <td>38928746</td>\n",
       "    </tr>\n",
       "    <tr>\n",
       "      <th>1</th>\n",
       "      <td>The Stanford University team said the findings were incredibly exciting and would now be tested in clinics. Eventually, they believe using AI could revolutionise healthcare by turning anyones smartphone into a cancer scanner. Cancer Research UK said it could become a useful tool for doctors. The AI was repurposed from software developed by Google that had learned to spot the difference between images of cats and dogs. It was shown 129,450 photographs and told what type of skin condition it was looking at in each one. It then learned to spot the hallmarks of the most common type of skin cancer: carcinoma, and the most deadly: melanoma. Only one in 20 skin cancers are melanoma, yet the tumour accounts for three-quarters of skin cancer deaths. The experiment, detailed in the journal Nature, then tested the AI against 21 trained skin cancer doctors. One of the researchers, Dr Andre Esteva, told the BBC News website: We find, in general, that we are on par with board-certified dermatologists. However, the computer software cannot make a full diagnosis, as this is normally confirmed with a tissue biopsy. Dr Esteva said the system now needed to be tested alongside doctors in the clinic. The application of AI to healthcare is, we believe, an incredibly exciting area of research that can be leveraged to achieve a great deal of societal good, he said. One particular route that we find exciting is the use of this algorithm on a mobile device, but to achieve this we would have to build an app and test its accuracy directly from a mobile device. Incredible advances in machine-learning have already led to AI beating one of humanitys best Go players. And a team of doctors in London have trained AI to predict when the heart will fail. Dr Jana Witt, from the charity Cancer Research UK, said:  Using artificial intelligence to help diagnose skin cancer is very interesting, as it could support assessments by GPs and dermatologists. Its unlikely that AI will replace all of the other information your clinician would consider when making a diagnosis, but AI could help guide GP referrals to specialists in the future. Follow James on Twitter.</td>\n",
       "      <td>Artificial intelligence can identify skin cancer in photographs with the same accuracy as trained doctors, say scientists.</td>\n",
       "      <td>38717928</td>\n",
       "    </tr>\n",
       "    <tr>\n",
       "      <th>2</th>\n",
       "      <td>Bernard Mensah struck a post for Aldershot after 11 minutes, but the visitors were a man down midway through the first half when Jim Kellerman saw red for a foul on Ross Stearn. The Shots regrouped and took a deserved lead in the 42nd minute when Idris Kanu latched on to a through pass and poked the ball under Ryan Clarke. But in the second half Eastleighs extra man began to tell as they pushed forward and, with 10 minutes left, McAllister fired home from close range after getting on to the end of a flick-on. That was enough to earn Eastleigh their first point in five outings, while Aldershot extended their unbeaten run to 10 games. Report supplied by the Press Association. Match ends, Eastleigh 1, Aldershot Town 1. Second Half ends, Eastleigh 1, Aldershot Town 1. Sam Matthews (Eastleigh) is shown the yellow card for a bad foul. Sam Muggleton (Eastleigh) is shown the yellow card for a bad foul. Substitution, Aldershot Town. Nick Arnold replaces Cheye Alexander. Goal!  Eastleigh 1, Aldershot Town 1. Craig McAllister (Eastleigh). Ayo Obileye (Eastleigh) is shown the yellow card for a bad foul. Substitution, Eastleigh. Sam Matthews replaces Tyler Garrett. James Constable (Eastleigh) is shown the yellow card for a bad foul. Substitution, Eastleigh. James Constable replaces Ross Stearn. Substitution, Aldershot Town. Shamir Fenelon replaces Bernard Mensah. Second Half begins Eastleigh 0, Aldershot Town 1. First Half ends, Eastleigh 0, Aldershot Town 1. Goal!  Eastleigh 0, Aldershot Town 1. Idris Kanu (Aldershot Town). Jim Kellerman (Aldershot Town) is shown the red card. First Half begins. Lineups are announced and players are warming up.</td>\n",
       "      <td>Craig McAllister's late goal saw Eastleigh end a run of four straight defeats as they held the 10 men of high-flying Aldershot in a 1-1 draw.</td>\n",
       "      <td>39035546</td>\n",
       "    </tr>\n",
       "  </tbody>\n",
       "</table>"
      ],
      "text/plain": [
       "<IPython.core.display.HTML object>"
      ]
     },
     "metadata": {},
     "output_type": "display_data"
    },
    {
     "data": {
      "text/html": [
       "<table border=\"1\" class=\"dataframe\">\n",
       "  <thead>\n",
       "    <tr style=\"text-align: right;\">\n",
       "      <th></th>\n",
       "      <th>document</th>\n",
       "      <th>summary</th>\n",
       "      <th>id</th>\n",
       "    </tr>\n",
       "  </thead>\n",
       "  <tbody>\n",
       "    <tr>\n",
       "      <th>0</th>\n",
       "      <td>10 February 2017 Last updated at 09:27 GMT Some people are worried hospitals are now getting too busy and overcrowded, meaning patients are having to wait a long time to be seen by a doctor. How is this affecting children who get injured and need to go to hospital? Jenny went to a childrens hospital in Sheffield to speak to a doctor and find out. She also meets Lilly and Jake, who have come to hospital needing treatment, to see how their experience went.</td>\n",
       "      <td>Winter is a very busy time of year for hospitals, with more people needing to see a doctor.</td>\n",
       "      <td>38928746</td>\n",
       "    </tr>\n",
       "    <tr>\n",
       "      <th>1</th>\n",
       "      <td>The Stanford University team said the findings were incredibly exciting and would now be tested in clinics. Eventually, they believe using AI could revolutionise healthcare by turning anyones smartphone into a cancer scanner. Cancer Research UK said it could become a useful tool for doctors. The AI was repurposed from software developed by Google that had learned to spot the difference between images of cats and dogs. It was shown 129,450 photographs and told what type of skin condition it was looking at in each one. It then learned to spot the hallmarks of the most common type of skin cancer: carcinoma, and the most deadly: melanoma. Only one in 20 skin cancers are melanoma, yet the tumour accounts for three-quarters of skin cancer deaths. The experiment, detailed in the journal Nature, then tested the AI against 21 trained skin cancer doctors. One of the researchers, Dr Andre Esteva, told the BBC News website: We find, in general, that we are on par with board-certified dermatologists. However, the computer software cannot make a full diagnosis, as this is normally confirmed with a tissue biopsy. Dr Esteva said the system now needed to be tested alongside doctors in the clinic. The application of AI to healthcare is, we believe, an incredibly exciting area of research that can be leveraged to achieve a great deal of societal good, he said. One particular route that we find exciting is the use of this algorithm on a mobile device, but to achieve this we would have to build an app and test its accuracy directly from a mobile device. Incredible advances in machine-learning have already led to AI beating one of humanitys best Go players. And a team of doctors in London have trained AI to predict when the heart will fail. Dr Jana Witt, from the charity Cancer Research UK, said:  Using artificial intelligence to help diagnose skin cancer is very interesting, as it could support assessments by GPs and dermatologists. Its unlikely that AI will replace all of the other information your clinician would consider when making a diagnosis, but AI could help guide GP referrals to specialists in the future. Follow James on Twitter.</td>\n",
       "      <td>Artificial intelligence can identify skin cancer in photographs with the same accuracy as trained doctors, say scientists.</td>\n",
       "      <td>38717928</td>\n",
       "    </tr>\n",
       "    <tr>\n",
       "      <th>2</th>\n",
       "      <td>Bernard Mensah struck a post for Aldershot after 11 minutes, but the visitors were a man down midway through the first half when Jim Kellerman saw red for a foul on Ross Stearn. The Shots regrouped and took a deserved lead in the 42nd minute when Idris Kanu latched on to a through pass and poked the ball under Ryan Clarke. But in the second half Eastleighs extra man began to tell as they pushed forward and, with 10 minutes left, McAllister fired home from close range after getting on to the end of a flick-on. That was enough to earn Eastleigh their first point in five outings, while Aldershot extended their unbeaten run to 10 games. Report supplied by the Press Association. Match ends, Eastleigh 1, Aldershot Town 1. Second Half ends, Eastleigh 1, Aldershot Town 1. Sam Matthews (Eastleigh) is shown the yellow card for a bad foul. Sam Muggleton (Eastleigh) is shown the yellow card for a bad foul. Substitution, Aldershot Town. Nick Arnold replaces Cheye Alexander. Goal!  Eastleigh 1, Aldershot Town 1. Craig McAllister (Eastleigh). Ayo Obileye (Eastleigh) is shown the yellow card for a bad foul. Substitution, Eastleigh. Sam Matthews replaces Tyler Garrett. James Constable (Eastleigh) is shown the yellow card for a bad foul. Substitution, Eastleigh. James Constable replaces Ross Stearn. Substitution, Aldershot Town. Shamir Fenelon replaces Bernard Mensah. Second Half begins Eastleigh 0, Aldershot Town 1. First Half ends, Eastleigh 0, Aldershot Town 1. Goal!  Eastleigh 0, Aldershot Town 1. Idris Kanu (Aldershot Town). Jim Kellerman (Aldershot Town) is shown the red card. First Half begins. Lineups are announced and players are warming up.</td>\n",
       "      <td>Craig McAllister's late goal saw Eastleigh end a run of four straight defeats as they held the 10 men of high-flying Aldershot in a 1-1 draw.</td>\n",
       "      <td>39035546</td>\n",
       "    </tr>\n",
       "  </tbody>\n",
       "</table>"
      ],
      "text/plain": [
       "<IPython.core.display.HTML object>"
      ]
     },
     "metadata": {},
     "output_type": "display_data"
    }
   ],
   "source": [
    "display_function(xsum[\"test\"])"
   ]
  },
  {
   "cell_type": "markdown",
   "metadata": {},
   "source": [
    "## We can view the column names and data types without our dataset using .features"
   ]
  },
  {
   "cell_type": "code",
   "execution_count": 62,
   "metadata": {},
   "outputs": [
    {
     "data": {
      "text/plain": [
       "{'document': Value(dtype='string', id=None),\n",
       " 'summary': Value(dtype='string', id=None),\n",
       " 'id': Value(dtype='string', id=None)}"
      ]
     },
     "execution_count": 62,
     "metadata": {},
     "output_type": "execute_result"
    }
   ],
   "source": [
    "xsum['test'].features"
   ]
  },
  {
   "cell_type": "code",
   "execution_count": 63,
   "metadata": {},
   "outputs": [
    {
     "name": "stdout",
     "output_type": "stream",
     "text": [
      "DatasetInfo(description='\\nExtreme Summarization (XSum) Dataset.\\n\\nThere are three features:\\n  - document: Input news article.\\n  - summary: One sentence summary of the article.\\n  - id: BBC ID of the article.\\n\\n', citation=\"\\n@article{Narayan2018DontGM,\\n  title={Don't Give Me the Details, Just the Summary! Topic-Aware Convolutional Neural Networks for Extreme Summarization},\\n  author={Shashi Narayan and Shay B. Cohen and Mirella Lapata},\\n  journal={ArXiv},\\n  year={2018},\\n  volume={abs/1808.08745}\\n}\\n\", homepage='https://github.com/EdinburghNLP/XSum/tree/master/XSum-Dataset', license='', features={'document': Value(dtype='string', id=None), 'summary': Value(dtype='string', id=None), 'id': Value(dtype='string', id=None)}, post_processed=None, supervised_keys=SupervisedKeysData(input='document', output='summary'), task_templates=None, builder_name='xsum', config_name='default', version=1.2.0, splits={'train': SplitInfo(name='train', num_bytes=479206615, num_examples=204045, dataset_name='xsum'), 'validation': SplitInfo(name='validation', num_bytes=26292901, num_examples=11332, dataset_name='xsum'), 'test': SplitInfo(name='test', num_bytes=26756165, num_examples=11334, dataset_name='xsum')}, download_checksums={'http://bollin.inf.ed.ac.uk/public/direct/XSUM-EMNLP18-Summary-Data-Original.tar.gz': {'num_bytes': 254582292, 'checksum': '10b48aa187fc9c904b30f76ca97e2da0de8d3a1238acc26acadef93e2001af90'}, 'https://raw.githubusercontent.com/EdinburghNLP/XSum/master/XSum-Dataset/XSum-TRAINING-DEV-TEST-SPLIT-90-5-5.json': {'num_bytes': 2720574, 'checksum': '9c0c5d8f048a90bd68b19a34e4c30577ed270d3247b2119fa06a04ef46292068'}}, download_size=257302866, post_processing_size=None, dataset_size=532255681, size_in_bytes=789558547)\n"
     ]
    }
   ],
   "source": [
    "print(xsum['test'].info)"
   ]
  },
  {
   "cell_type": "markdown",
   "metadata": {},
   "source": [
    "# Preparing XSUM Data\n",
    "Before we can put the text into a model we need to convert it into a format that the transformer can understand. Encoders and decoders only understand numerical values; we need to tokenize each word and then convert the tokens into numerical values. The tokenization transformer splits text into tokens and then adds special tokens if expected based on pretraining. The tokenizer then matches each token to unique id in vocabulary of tokenizer which has a corresponding vector of numerical values. These vectors contain the contextualized value of a word. For example, the vector representation of the word \"to\" isnt just \"to\", it also takes into account the words around it which are called context (right and left context). To continue this example, \"Welcome to NYC\" is a sentence that has the word \"to\". For the word \"to\" the left context is \"Welcome\" and the right context is \"NYC\". The output is based on these contexts; this is how the value is a contextualized vector thanks to self-attention mechanism. We can do all of this using the AutoTokenizer.from_pretarined method to ensure that we get a tokenizer that corresponds to the model architecture we want to use (facebook/bart-large-cnn); however, we will specifically reference the BartTokenizer in our checkpoint, tokenizer, and model to ensure all aspects of our model were trained using the same methodologies so we can avoid unexpected summaries"
   ]
  },
  {
   "cell_type": "code",
   "execution_count": 64,
   "metadata": {},
   "outputs": [],
   "source": [
    "checkpoint = \"facebook/bart-large-cnn\"\n",
    "tokenizer = BartTokenizer.from_pretrained(checkpoint)\n",
    "model = BartForConditionalGeneration.from_pretrained(checkpoint)"
   ]
  },
  {
   "cell_type": "markdown",
   "metadata": {},
   "source": [
    "## We now write a function that preprocesses the test data by passing it to the tokenizer. We need to use the argument truncation=True to ensure that any input longer than the model can handle will be truncated to the maximum length alowed. We can view this information in the model config. BART has a maximum length (can take in 1024 tokens in a sequence) of 1024 which we can see in max_position_embeddings"
   ]
  },
  {
   "cell_type": "code",
   "execution_count": 65,
   "metadata": {},
   "outputs": [
    {
     "data": {
      "text/plain": [
       "BartConfig {\n",
       "  \"_name_or_path\": \"facebook/bart-large-cnn\",\n",
       "  \"_num_labels\": 3,\n",
       "  \"activation_dropout\": 0.0,\n",
       "  \"activation_function\": \"gelu\",\n",
       "  \"add_final_layer_norm\": false,\n",
       "  \"architectures\": [\n",
       "    \"BartForConditionalGeneration\"\n",
       "  ],\n",
       "  \"attention_dropout\": 0.0,\n",
       "  \"bos_token_id\": 0,\n",
       "  \"classif_dropout\": 0.0,\n",
       "  \"classifier_dropout\": 0.0,\n",
       "  \"d_model\": 1024,\n",
       "  \"decoder_attention_heads\": 16,\n",
       "  \"decoder_ffn_dim\": 4096,\n",
       "  \"decoder_layerdrop\": 0.0,\n",
       "  \"decoder_layers\": 12,\n",
       "  \"decoder_start_token_id\": 2,\n",
       "  \"dropout\": 0.1,\n",
       "  \"early_stopping\": true,\n",
       "  \"encoder_attention_heads\": 16,\n",
       "  \"encoder_ffn_dim\": 4096,\n",
       "  \"encoder_layerdrop\": 0.0,\n",
       "  \"encoder_layers\": 12,\n",
       "  \"eos_token_id\": 2,\n",
       "  \"force_bos_token_to_be_generated\": true,\n",
       "  \"forced_bos_token_id\": 0,\n",
       "  \"forced_eos_token_id\": 2,\n",
       "  \"gradient_checkpointing\": false,\n",
       "  \"id2label\": {\n",
       "    \"0\": \"LABEL_0\",\n",
       "    \"1\": \"LABEL_1\",\n",
       "    \"2\": \"LABEL_2\"\n",
       "  },\n",
       "  \"init_std\": 0.02,\n",
       "  \"is_encoder_decoder\": true,\n",
       "  \"label2id\": {\n",
       "    \"LABEL_0\": 0,\n",
       "    \"LABEL_1\": 1,\n",
       "    \"LABEL_2\": 2\n",
       "  },\n",
       "  \"length_penalty\": 2.0,\n",
       "  \"max_length\": 142,\n",
       "  \"max_position_embeddings\": 1024,\n",
       "  \"min_length\": 56,\n",
       "  \"model_type\": \"bart\",\n",
       "  \"no_repeat_ngram_size\": 3,\n",
       "  \"normalize_before\": false,\n",
       "  \"num_beams\": 4,\n",
       "  \"num_hidden_layers\": 12,\n",
       "  \"output_past\": true,\n",
       "  \"pad_token_id\": 1,\n",
       "  \"prefix\": \" \",\n",
       "  \"scale_embedding\": false,\n",
       "  \"task_specific_params\": {\n",
       "    \"summarization\": {\n",
       "      \"early_stopping\": true,\n",
       "      \"length_penalty\": 2.0,\n",
       "      \"max_length\": 142,\n",
       "      \"min_length\": 56,\n",
       "      \"no_repeat_ngram_size\": 3,\n",
       "      \"num_beams\": 4\n",
       "    }\n",
       "  },\n",
       "  \"transformers_version\": \"4.12.5\",\n",
       "  \"use_cache\": true,\n",
       "  \"vocab_size\": 50264\n",
       "}"
      ]
     },
     "execution_count": 65,
     "metadata": {},
     "output_type": "execute_result"
    }
   ],
   "source": [
    "model.config"
   ]
  },
  {
   "cell_type": "markdown",
   "metadata": {},
   "source": [
    "## We can now create the function with the maximum length allowed as per the config and a minimum length of 60 which is explained in the section where we compare human summaries and machine summaries to each other and the original articles"
   ]
  },
  {
   "cell_type": "code",
   "execution_count": 66,
   "metadata": {},
   "outputs": [],
   "source": [
    "max_input_length = 1024\n",
    "max_target_length = 60\n",
    "\n",
    "\n",
    "def preperation_function(examples):\n",
    "    inputs = [doc for doc in examples[\"document\"]]\n",
    "    model_inputs = tokenizer(inputs, max_length=max_input_length, truncation=True, padding=True)\n",
    "\n",
    "    \n",
    "    with tokenizer.as_target_tokenizer(): # Setup the tokenizer for summaries where \"as_target_tokenizer\" is what provides passes along the context for each vector\n",
    "        labels = tokenizer(\n",
    "            examples[\"summary\"], max_length=max_target_length, truncation=True\n",
    "        )\n",
    "\n",
    "    model_inputs[\"labels\"] = labels[\"input_ids\"]\n",
    "    return model_inputs"
   ]
  },
  {
   "cell_type": "markdown",
   "metadata": {},
   "source": [
    "## We can apply this function to our dataset using map"
   ]
  },
  {
   "cell_type": "code",
   "execution_count": 67,
   "metadata": {},
   "outputs": [
    {
     "name": "stderr",
     "output_type": "stream",
     "text": [
      "Loading cached processed dataset at C:\\Users\\creeg\\.cache\\huggingface\\datasets\\xsum\\default\\1.2.0\\32c23220eadddb1149b16ed2e9430a05293768cfffbdfd151058697d4c11f934\\cache-4b553bd8e5c78318.arrow\n",
      "Loading cached processed dataset at C:\\Users\\creeg\\.cache\\huggingface\\datasets\\xsum\\default\\1.2.0\\32c23220eadddb1149b16ed2e9430a05293768cfffbdfd151058697d4c11f934\\cache-4d942dda870775b4.arrow\n",
      "Loading cached processed dataset at C:\\Users\\creeg\\.cache\\huggingface\\datasets\\xsum\\default\\1.2.0\\32c23220eadddb1149b16ed2e9430a05293768cfffbdfd151058697d4c11f934\\cache-3189c97aecc791f8.arrow\n"
     ]
    }
   ],
   "source": [
    "tokenized_xsum = xsum.map(preperation_function, batched=True)"
   ]
  },
  {
   "cell_type": "code",
   "execution_count": 68,
   "metadata": {},
   "outputs": [
    {
     "data": {
      "text/plain": [
       "DatasetDict({\n",
       "    train: Dataset({\n",
       "        features: ['attention_mask', 'document', 'id', 'input_ids', 'labels', 'summary'],\n",
       "        num_rows: 204045\n",
       "    })\n",
       "    validation: Dataset({\n",
       "        features: ['attention_mask', 'document', 'id', 'input_ids', 'labels', 'summary'],\n",
       "        num_rows: 11332\n",
       "    })\n",
       "    test: Dataset({\n",
       "        features: ['attention_mask', 'document', 'id', 'input_ids', 'labels', 'summary'],\n",
       "        num_rows: 11334\n",
       "    })\n",
       "})"
      ]
     },
     "execution_count": 68,
     "metadata": {},
     "output_type": "execute_result"
    }
   ],
   "source": [
    "tokenized_xsum"
   ]
  },
  {
   "cell_type": "code",
   "execution_count": 69,
   "metadata": {},
   "outputs": [
    {
     "data": {
      "text/plain": [
       "{'attention_mask': Sequence(feature=Value(dtype='int8', id=None), length=-1, id=None),\n",
       " 'document': Value(dtype='string', id=None),\n",
       " 'id': Value(dtype='string', id=None),\n",
       " 'input_ids': Sequence(feature=Value(dtype='int32', id=None), length=-1, id=None),\n",
       " 'labels': Sequence(feature=Value(dtype='int64', id=None), length=-1, id=None),\n",
       " 'summary': Value(dtype='string', id=None)}"
      ]
     },
     "execution_count": 69,
     "metadata": {},
     "output_type": "execute_result"
    }
   ],
   "source": [
    "tokenized_xsum['test'].features"
   ]
  },
  {
   "cell_type": "markdown",
   "metadata": {},
   "source": [
    "## The attention mask tells the model what to pay attention to by passing values of 1 for tokens to consider and values of 0 for tokens to ignore. The input ids are the numerical mapping of tokens to BART's vocabulary; each word in BART's vocabulary is assigned a numerical value."
   ]
  },
  {
   "cell_type": "code",
   "execution_count": 70,
   "metadata": {},
   "outputs": [
    {
     "data": {
      "text/html": [
       "<table border=\"1\" class=\"dataframe\">\n",
       "  <thead>\n",
       "    <tr style=\"text-align: right;\">\n",
       "      <th></th>\n",
       "      <th>attention_mask</th>\n",
       "      <th>document</th>\n",
       "      <th>id</th>\n",
       "      <th>input_ids</th>\n",
       "      <th>labels</th>\n",
       "      <th>summary</th>\n",
       "    </tr>\n",
       "  </thead>\n",
       "  <tbody>\n",
       "    <tr>\n",
       "      <th>0</th>\n",
       "      <td>[1, 1, 1, 1, 1, 1, 1, 1, 1, 1, 1, 1, 1, 1, 1, 1, 1, 1, 1, 1, 1, 1, 1, 1, 1, 1, 1, 1, 1, 1, 1, 1, 1, 1, 1, 1, 1, 1, 1, 1, 1, 1, 1, 1, 1, 1, 1, 1, 1, 1, 1, 1, 1, 1, 1, 1, 1, 1, 1, 1, 1, 1, 1, 1, 1, 1, 1, 1, 1, 1, 1, 1, 1, 1, 1, 1, 1, 1, 1, 1, 1, 1, 1, 1, 1, 1, 1, 1, 1, 1, 1, 1, 1, 1, 1, 1, 1, 1, 1, 1, ...]</td>\n",
       "      <td>Phoenix, 37, told Interview Magazine: I dont want to be a part of it. I dont believe in it. The actor has been tipped for awards success The Master, in which he plays a war veteran. He was nominated for an Oscar for his role as music legend Johnny Cash in Walk The Line in 2005. Phoenix said he was dreading the upcoming Hollywood awards season which culminates with the Oscars in February 2013. Its a carrot, but its the worst-tasting carrot Ive ever tasted in my whole life. I dont want this carrot, he said. Its totally subjective. Pitting people against each other....Its the stupidest thing in the whole world. Phoenix described the period when Walk The Line was up for multiple awards seven years ago as one of the most uncomfortable periods of my life. I never want to have that experience again, he revealed in the interview. I dont know how to explain it - and its not like Im in this place where I think Im just above it - but I just dont ever want to get comfortable with that part of things. The Master, which also stars Philip Seymour Hoffman, is Phoenixs first feature film since Im Still Here, Casey Afflecks spoof 2010 documentary which chronicled Phoenixs supposed retirement from acting to launch a career as a rapper. Phoenix called that experience unbelievably liberating and said it was hard subsequently to find projects that interested and excited him. I mean, everything that they teach you when youre a kid about acting is completely...wrong. They tell you to memorise your lines, follow your light, and hit your marks. Those are the three things that you shouldnt do. You should not learn your lines, you should not hit your mark, and you should never follow your light. Find your light - thats my opinion, he said.</td>\n",
       "      <td>20004220</td>\n",
       "      <td>[0, 41932, 6, 2908, 6, 174, 21902, 10202, 35, 38, 33976, 236, 7, 28, 10, 233, 9, 24, 4, 38, 33976, 679, 11, 24, 4, 20, 2701, 34, 57, 13402, 13, 4188, 1282, 20, 6935, 6, 11, 61, 37, 1974, 10, 997, 3142, 4, 91, 21, 7076, 13, 41, 5887, 13, 39, 774, 25, 930, 7875, 8781, 7871, 11, 9693, 20, 5562, 11, 4013, 4, 5524, 26, 37, 21, 24506, 154, 5, 2568, 3049, 4188, 191, 61, 32887, 1626, 19, 5, 15300, 11, 902, 1014, 4, 3139, 10, 33129, 6, 53, 63, 5, 2373, 12, 90, 15374, 33129, 38, 548, ...]</td>\n",
       "      <td>[0, 19842, 23186, 5524, 34, 26, 37, 1072, 117, 233, 11, 5, 1569, 539, 4188, 191, 6, 1765, 5, 4188, 22, 620, 35820, 113, 8, 22, 40747, 2088, 845, 2]</td>\n",
       "      <td>Joaquin Phoenix has said he wants no part in the movie industry awards season, calling the awards \"stupid\" and \"subjective\".</td>\n",
       "    </tr>\n",
       "    <tr>\n",
       "      <th>1</th>\n",
       "      <td>[1, 1, 1, 1, 1, 1, 1, 1, 1, 1, 1, 1, 1, 1, 1, 1, 1, 1, 1, 1, 1, 1, 1, 1, 1, 1, 1, 1, 1, 1, 1, 1, 1, 1, 1, 1, 1, 1, 1, 1, 1, 1, 1, 1, 1, 1, 1, 1, 1, 1, 1, 1, 1, 1, 1, 1, 1, 1, 1, 1, 1, 1, 1, 1, 1, 1, 1, 1, 1, 1, 1, 1, 1, 1, 1, 1, 1, 1, 1, 1, 1, 1, 1, 1, 1, 1, 1, 1, 1, 1, 1, 1, 1, 1, 1, 1, 1, 1, 1, 1, ...]</td>\n",
       "      <td>The 23-year-old striker, on loan from Al Hilal, pounced on a sloppy pass from defender Daniel Ayala and slotted a fine finish past Darren Randolph. Boro forward Martin Braithwaite should have levelled at Molineux before the break, but headed wide while unmarked. Britt Assombalonga was denied by goalkeeper John Ruddy as Boro pressed late on and Wolves held on for victory. Wolves new manager Nuno Espirito Santo handed starts to seven summer acquisitions, including the Championships record signing Ruben Neves in midfield. Finding a prolific striker was one of Nunos priorities ahead of the campaign, after midfielder Dave Edwards and winger Helder Costa, missing through injury, topped Wolves scoring charts last season. And it was former Brazil under-17 player Bonatini who made the difference with the most composed of strikes after some terrible defending. Ayala attempted to pass the ball to Ben Gibson, but it was woefully short allowing Bonatini to nip in and place his effort into the bottom corner. Middlesbrough also struggled to find the back of the net in 2016-17, scoring just 27 times as they were relegated from the Premier League. New boss Garry Monk started three of his new forwards - Ashley Fletcher, Assombalonga and Denmark international Braithwaite - but they could not find a way through a resolute Wolves defence. Wolves head coach Nuno Espirito Santo: It was a tough game and in the first half we played very well. We controlled the game and this is the way we should work. I think that we deserved the three points and we are pleased with the boys. We are still not the final product and every game will be better. This is the line that we want from the boys, always progress, always get better. Middlesbrough boss Garry Monk: In the first half Wolves were the better team and we made too many mistakes and obviously one of them led to a goal. But I thought we were the better team in the second half and we upped our level of urgency. We need that at the start of games. We had the best chances in the game and on any other day we could have taken one or two of them. That is football and is sometimes the way that it works out. Match ends, Wolverhampton Wanderers 1, Middlesbrough 0. Second Half ends, Wolverhampton Wanderers 1, Middlesbrough 0. Adam Forshaw (Middlesbrough) is shown the yellow card for a bad foul. Foul by Adam Forshaw (Middlesbrough). Jordan Graham (Wolverhampton Wanderers) wins a free kick on the left wing. Hand ball by David Edwards (Wolverhampton Wanderers). Offside, Wolverhampton Wanderers. Matt Doherty tries a through ball, but David Edwards is caught offside. Foul by Daniel Ayala (Middlesbrough). Jordan Graham (Wolverhampton Wanderers) wins a free kick on the left wing. Attempt missed. Cyrus Christie (Middlesbrough) right footed shot from outside the box is just a bit too high. Substitution, Wolverhampton Wanderers. Jordan Graham replaces Diogo Jota. Attempt missed. Romain Saiss (Wolverhampton Wanderers) left footed shot from outside the box is too high. Substitution, Middlesbrough. Rudy Gestede replaces Jonny Howson. Attempt saved. Patrick Bamford (Middlesbrough) left footed shot from outside the box is saved in the centre of the goal. Assisted by Jonny Howson. Substitution, Wolverhampton Wanderers. David Edwards replaces Bright Enobakhare. Romain Saiss (Wolverhampton Wanderers) wins a free kick in the defensive half. Foul by Cyrus Christie (Middlesbrough). Attempt blocked. Rúben Neves (Wolverhampton Wanderers) right footed shot from outside the box is blocked. Corner,  Middlesbrough. Conceded by John Ruddy. Attempt saved. Britt Assombalonga (Middlesbrough) right footed shot from the centre of the box is saved in the centre of the goal. Assisted by Patrick Bamford with a through ball. Attempt missed. Jonny Howson (Middlesbrough) right footed shot from outside the box misses to the left. Assisted by Adam Clayton following a set piece situation. Foul by Willy Boly (Wolverhampton Wanderers). Patrick Bamford (Middlesbrough) wins a free kick on the right wing. Attempt blocked. Willy Boly (Wolverhampton Wanderers) left footed shot from the centre of the box is blocked. Assisted by Barry Douglas with a cross. Corner,  Wolverhampton Wanderers. Conceded by Adam Clayton. Attempt blocked. Bright Enobakhare (Wolverhampton Wanderers) left footed shot from outside the box is blocked. Attempt missed. Romain Saiss (Wolverhampton Wanderers) left footed shot from the right side of the six yard box is close, but misses to the right. Assisted by Barry Douglas with a cross following a corner. Corner,  Wolverhampton Wanderers. Conceded by George Friend. Substitution, Middlesbrough. Adam Forshaw replaces Marten de Roon. Offside, Middlesbrough. Marten de Roon tries a through ball, but Adam Clayton is caught offside. Corner,  Middlesbrough. Conceded by Conor Coady. Diogo Jota (Wolverhampton Wanderers) wins a free kick on the left wing. Foul by Cyrus Christie (Middlesbrough). Corner,  Wolverhampton Wanderers. Conceded by Marten de Roon. Adam Clayton (Middlesbrough) is shown the yellow card for a bad foul. Diogo Jota (Wolverhampton Wanderers) wins a free kick in the defensive half. Foul by Adam Clayton (Middlesbrough). Substitution, Wolverhampton Wanderers. Nouha Dicko replaces Léo Bonatini. Substitution, Middlesbrough. Patrick Bamford replaces Ashley Fletcher. Attempt missed. Rúben Neves (Wolverhampton Wanderers) right footed shot from outside the box misses to the left following a corner.</td>\n",
       "      <td>40760787</td>\n",
       "      <td>[0, 133, 883, 12, 180, 12, 279, 5955, 6, 15, 2541, 31, 726, 14909, 337, 6, 181, 20155, 15, 10, 26654, 1323, 31, 5142, 3028, 5847, 2331, 8, 3369, 14265, 10, 2051, 2073, 375, 11335, 24500, 4, 7943, 139, 556, 1896, 9076, 3432, 2739, 1459, 197, 33, 16066, 9970, 23, 256, 18675, 7073, 137, 5, 1108, 6, 53, 3475, 1810, 150, 30161, 4, 16278, 6331, 5223, 20774, 102, 21, 2296, 30, 7551, 610, 248, 24471, 25, 7943, 139, 11224, 628, 15, 8, 13889, 547, 15, 13, 1124, 4, 13889, 92, 1044, 234, 25217, 11631, 30710, 139, 8550, 139, 4507, 2012, ...]</td>\n",
       "      <td>[0, 31004, 811, 12520, 5520, 415, 2531, 1008, 15, 39, 2453, 7, 492, 13889, 41, 1273, 12, 1208, 3261, 339, 136, 20421, 428, 10344, 4, 2]</td>\n",
       "      <td>Brazilian Leo Bonatini scored on his debut to give Wolves an opening-day Championship win against Middlesbrough.</td>\n",
       "    </tr>\n",
       "    <tr>\n",
       "      <th>2</th>\n",
       "      <td>[1, 1, 1, 1, 1, 1, 1, 1, 1, 1, 1, 1, 1, 1, 1, 1, 1, 1, 1, 1, 1, 1, 1, 1, 1, 1, 1, 1, 1, 1, 1, 1, 1, 1, 1, 1, 1, 1, 1, 1, 1, 1, 1, 1, 1, 1, 1, 1, 1, 1, 1, 1, 1, 1, 1, 1, 1, 1, 1, 1, 1, 1, 1, 1, 1, 1, 1, 1, 1, 1, 1, 1, 1, 1, 1, 1, 1, 1, 1, 1, 1, 1, 1, 1, 1, 1, 1, 1, 1, 1, 1, 1, 1, 1, 1, 1, 1, 1, 1, 1, ...]</td>\n",
       "      <td>Sinead Higgins, 37, and son Oisin ODriscoll were found after police forced their way into the house in The Fairway, Ruislip, west London on Wednesday. Police responded to concerns for the pairs welfare at about 10:50 GMT. A Met Police spokeswoman said detectives do not believe a third party was involved in the deaths. Det Insp Dave Bolton said: Inquiries so far lead us to believe there is a likelihood that the tragic events that led to the deaths do not involve a third party. A post-mortem examination is scheduled to take place on Friday. Next of kin have been informed.</td>\n",
       "      <td>38329030</td>\n",
       "      <td>[0, 104, 833, 625, 19422, 6, 2908, 6, 8, 979, 384, 29761, 384, 14043, 4473, 3937, 58, 303, 71, 249, 1654, 49, 169, 88, 5, 790, 11, 20, 3896, 1970, 6, 10318, 13714, 1588, 6, 3072, 928, 15, 307, 4, 522, 2334, 7, 1379, 13, 5, 15029, 6642, 23, 59, 158, 35, 1096, 5050, 4, 83, 4369, 522, 3582, 26, 10412, 109, 45, 679, 10, 371, 537, 21, 963, 11, 5, 3257, 4, 11185, 19190, 4475, 12160, 26, 35, 28727, 19947, 98, 444, 483, 201, 7, 679, 89, 16, 10, 11801, 14, 5, 8805, 1061, 14, 669, 7, 5, 3257, ...]</td>\n",
       "      <td>[0, 133, 3738, 9, 10, 985, 8, 69, 707, 12, 180, 12, 279, 979, 33, 57, 2967, 23, 49, 184, 4, 2]</td>\n",
       "      <td>The bodies of a mother and her seven-year-old son have been discovered at their home.</td>\n",
       "    </tr>\n",
       "  </tbody>\n",
       "</table>"
      ],
      "text/plain": [
       "<IPython.core.display.HTML object>"
      ]
     },
     "metadata": {},
     "output_type": "display_data"
    },
    {
     "data": {
      "text/html": [
       "<table border=\"1\" class=\"dataframe\">\n",
       "  <thead>\n",
       "    <tr style=\"text-align: right;\">\n",
       "      <th></th>\n",
       "      <th>attention_mask</th>\n",
       "      <th>document</th>\n",
       "      <th>id</th>\n",
       "      <th>input_ids</th>\n",
       "      <th>labels</th>\n",
       "      <th>summary</th>\n",
       "    </tr>\n",
       "  </thead>\n",
       "  <tbody>\n",
       "    <tr>\n",
       "      <th>0</th>\n",
       "      <td>[1, 1, 1, 1, 1, 1, 1, 1, 1, 1, 1, 1, 1, 1, 1, 1, 1, 1, 1, 1, 1, 1, 1, 1, 1, 1, 1, 1, 1, 1, 1, 1, 1, 1, 1, 1, 1, 1, 1, 1, 1, 1, 1, 1, 1, 1, 1, 1, 1, 1, 1, 1, 1, 1, 1, 1, 1, 1, 1, 1, 1, 1, 1, 1, 1, 1, 1, 1, 1, 1, 1, 1, 1, 1, 1, 1, 1, 1, 1, 1, 1, 1, 1, 1, 1, 1, 1, 1, 1, 1, 1, 1, 1, 1, 1, 1, 1, 1, 1, 1, ...]</td>\n",
       "      <td>Phoenix, 37, told Interview Magazine: I dont want to be a part of it. I dont believe in it. The actor has been tipped for awards success The Master, in which he plays a war veteran. He was nominated for an Oscar for his role as music legend Johnny Cash in Walk The Line in 2005. Phoenix said he was dreading the upcoming Hollywood awards season which culminates with the Oscars in February 2013. Its a carrot, but its the worst-tasting carrot Ive ever tasted in my whole life. I dont want this carrot, he said. Its totally subjective. Pitting people against each other....Its the stupidest thing in the whole world. Phoenix described the period when Walk The Line was up for multiple awards seven years ago as one of the most uncomfortable periods of my life. I never want to have that experience again, he revealed in the interview. I dont know how to explain it - and its not like Im in this place where I think Im just above it - but I just dont ever want to get comfortable with that part of things. The Master, which also stars Philip Seymour Hoffman, is Phoenixs first feature film since Im Still Here, Casey Afflecks spoof 2010 documentary which chronicled Phoenixs supposed retirement from acting to launch a career as a rapper. Phoenix called that experience unbelievably liberating and said it was hard subsequently to find projects that interested and excited him. I mean, everything that they teach you when youre a kid about acting is completely...wrong. They tell you to memorise your lines, follow your light, and hit your marks. Those are the three things that you shouldnt do. You should not learn your lines, you should not hit your mark, and you should never follow your light. Find your light - thats my opinion, he said.</td>\n",
       "      <td>20004220</td>\n",
       "      <td>[0, 41932, 6, 2908, 6, 174, 21902, 10202, 35, 38, 33976, 236, 7, 28, 10, 233, 9, 24, 4, 38, 33976, 679, 11, 24, 4, 20, 2701, 34, 57, 13402, 13, 4188, 1282, 20, 6935, 6, 11, 61, 37, 1974, 10, 997, 3142, 4, 91, 21, 7076, 13, 41, 5887, 13, 39, 774, 25, 930, 7875, 8781, 7871, 11, 9693, 20, 5562, 11, 4013, 4, 5524, 26, 37, 21, 24506, 154, 5, 2568, 3049, 4188, 191, 61, 32887, 1626, 19, 5, 15300, 11, 902, 1014, 4, 3139, 10, 33129, 6, 53, 63, 5, 2373, 12, 90, 15374, 33129, 38, 548, ...]</td>\n",
       "      <td>[0, 19842, 23186, 5524, 34, 26, 37, 1072, 117, 233, 11, 5, 1569, 539, 4188, 191, 6, 1765, 5, 4188, 22, 620, 35820, 113, 8, 22, 40747, 2088, 845, 2]</td>\n",
       "      <td>Joaquin Phoenix has said he wants no part in the movie industry awards season, calling the awards \"stupid\" and \"subjective\".</td>\n",
       "    </tr>\n",
       "    <tr>\n",
       "      <th>1</th>\n",
       "      <td>[1, 1, 1, 1, 1, 1, 1, 1, 1, 1, 1, 1, 1, 1, 1, 1, 1, 1, 1, 1, 1, 1, 1, 1, 1, 1, 1, 1, 1, 1, 1, 1, 1, 1, 1, 1, 1, 1, 1, 1, 1, 1, 1, 1, 1, 1, 1, 1, 1, 1, 1, 1, 1, 1, 1, 1, 1, 1, 1, 1, 1, 1, 1, 1, 1, 1, 1, 1, 1, 1, 1, 1, 1, 1, 1, 1, 1, 1, 1, 1, 1, 1, 1, 1, 1, 1, 1, 1, 1, 1, 1, 1, 1, 1, 1, 1, 1, 1, 1, 1, ...]</td>\n",
       "      <td>The 23-year-old striker, on loan from Al Hilal, pounced on a sloppy pass from defender Daniel Ayala and slotted a fine finish past Darren Randolph. Boro forward Martin Braithwaite should have levelled at Molineux before the break, but headed wide while unmarked. Britt Assombalonga was denied by goalkeeper John Ruddy as Boro pressed late on and Wolves held on for victory. Wolves new manager Nuno Espirito Santo handed starts to seven summer acquisitions, including the Championships record signing Ruben Neves in midfield. Finding a prolific striker was one of Nunos priorities ahead of the campaign, after midfielder Dave Edwards and winger Helder Costa, missing through injury, topped Wolves scoring charts last season. And it was former Brazil under-17 player Bonatini who made the difference with the most composed of strikes after some terrible defending. Ayala attempted to pass the ball to Ben Gibson, but it was woefully short allowing Bonatini to nip in and place his effort into the bottom corner. Middlesbrough also struggled to find the back of the net in 2016-17, scoring just 27 times as they were relegated from the Premier League. New boss Garry Monk started three of his new forwards - Ashley Fletcher, Assombalonga and Denmark international Braithwaite - but they could not find a way through a resolute Wolves defence. Wolves head coach Nuno Espirito Santo: It was a tough game and in the first half we played very well. We controlled the game and this is the way we should work. I think that we deserved the three points and we are pleased with the boys. We are still not the final product and every game will be better. This is the line that we want from the boys, always progress, always get better. Middlesbrough boss Garry Monk: In the first half Wolves were the better team and we made too many mistakes and obviously one of them led to a goal. But I thought we were the better team in the second half and we upped our level of urgency. We need that at the start of games. We had the best chances in the game and on any other day we could have taken one or two of them. That is football and is sometimes the way that it works out. Match ends, Wolverhampton Wanderers 1, Middlesbrough 0. Second Half ends, Wolverhampton Wanderers 1, Middlesbrough 0. Adam Forshaw (Middlesbrough) is shown the yellow card for a bad foul. Foul by Adam Forshaw (Middlesbrough). Jordan Graham (Wolverhampton Wanderers) wins a free kick on the left wing. Hand ball by David Edwards (Wolverhampton Wanderers). Offside, Wolverhampton Wanderers. Matt Doherty tries a through ball, but David Edwards is caught offside. Foul by Daniel Ayala (Middlesbrough). Jordan Graham (Wolverhampton Wanderers) wins a free kick on the left wing. Attempt missed. Cyrus Christie (Middlesbrough) right footed shot from outside the box is just a bit too high. Substitution, Wolverhampton Wanderers. Jordan Graham replaces Diogo Jota. Attempt missed. Romain Saiss (Wolverhampton Wanderers) left footed shot from outside the box is too high. Substitution, Middlesbrough. Rudy Gestede replaces Jonny Howson. Attempt saved. Patrick Bamford (Middlesbrough) left footed shot from outside the box is saved in the centre of the goal. Assisted by Jonny Howson. Substitution, Wolverhampton Wanderers. David Edwards replaces Bright Enobakhare. Romain Saiss (Wolverhampton Wanderers) wins a free kick in the defensive half. Foul by Cyrus Christie (Middlesbrough). Attempt blocked. Rúben Neves (Wolverhampton Wanderers) right footed shot from outside the box is blocked. Corner,  Middlesbrough. Conceded by John Ruddy. Attempt saved. Britt Assombalonga (Middlesbrough) right footed shot from the centre of the box is saved in the centre of the goal. Assisted by Patrick Bamford with a through ball. Attempt missed. Jonny Howson (Middlesbrough) right footed shot from outside the box misses to the left. Assisted by Adam Clayton following a set piece situation. Foul by Willy Boly (Wolverhampton Wanderers). Patrick Bamford (Middlesbrough) wins a free kick on the right wing. Attempt blocked. Willy Boly (Wolverhampton Wanderers) left footed shot from the centre of the box is blocked. Assisted by Barry Douglas with a cross. Corner,  Wolverhampton Wanderers. Conceded by Adam Clayton. Attempt blocked. Bright Enobakhare (Wolverhampton Wanderers) left footed shot from outside the box is blocked. Attempt missed. Romain Saiss (Wolverhampton Wanderers) left footed shot from the right side of the six yard box is close, but misses to the right. Assisted by Barry Douglas with a cross following a corner. Corner,  Wolverhampton Wanderers. Conceded by George Friend. Substitution, Middlesbrough. Adam Forshaw replaces Marten de Roon. Offside, Middlesbrough. Marten de Roon tries a through ball, but Adam Clayton is caught offside. Corner,  Middlesbrough. Conceded by Conor Coady. Diogo Jota (Wolverhampton Wanderers) wins a free kick on the left wing. Foul by Cyrus Christie (Middlesbrough). Corner,  Wolverhampton Wanderers. Conceded by Marten de Roon. Adam Clayton (Middlesbrough) is shown the yellow card for a bad foul. Diogo Jota (Wolverhampton Wanderers) wins a free kick in the defensive half. Foul by Adam Clayton (Middlesbrough). Substitution, Wolverhampton Wanderers. Nouha Dicko replaces Léo Bonatini. Substitution, Middlesbrough. Patrick Bamford replaces Ashley Fletcher. Attempt missed. Rúben Neves (Wolverhampton Wanderers) right footed shot from outside the box misses to the left following a corner.</td>\n",
       "      <td>40760787</td>\n",
       "      <td>[0, 133, 883, 12, 180, 12, 279, 5955, 6, 15, 2541, 31, 726, 14909, 337, 6, 181, 20155, 15, 10, 26654, 1323, 31, 5142, 3028, 5847, 2331, 8, 3369, 14265, 10, 2051, 2073, 375, 11335, 24500, 4, 7943, 139, 556, 1896, 9076, 3432, 2739, 1459, 197, 33, 16066, 9970, 23, 256, 18675, 7073, 137, 5, 1108, 6, 53, 3475, 1810, 150, 30161, 4, 16278, 6331, 5223, 20774, 102, 21, 2296, 30, 7551, 610, 248, 24471, 25, 7943, 139, 11224, 628, 15, 8, 13889, 547, 15, 13, 1124, 4, 13889, 92, 1044, 234, 25217, 11631, 30710, 139, 8550, 139, 4507, 2012, ...]</td>\n",
       "      <td>[0, 31004, 811, 12520, 5520, 415, 2531, 1008, 15, 39, 2453, 7, 492, 13889, 41, 1273, 12, 1208, 3261, 339, 136, 20421, 428, 10344, 4, 2]</td>\n",
       "      <td>Brazilian Leo Bonatini scored on his debut to give Wolves an opening-day Championship win against Middlesbrough.</td>\n",
       "    </tr>\n",
       "    <tr>\n",
       "      <th>2</th>\n",
       "      <td>[1, 1, 1, 1, 1, 1, 1, 1, 1, 1, 1, 1, 1, 1, 1, 1, 1, 1, 1, 1, 1, 1, 1, 1, 1, 1, 1, 1, 1, 1, 1, 1, 1, 1, 1, 1, 1, 1, 1, 1, 1, 1, 1, 1, 1, 1, 1, 1, 1, 1, 1, 1, 1, 1, 1, 1, 1, 1, 1, 1, 1, 1, 1, 1, 1, 1, 1, 1, 1, 1, 1, 1, 1, 1, 1, 1, 1, 1, 1, 1, 1, 1, 1, 1, 1, 1, 1, 1, 1, 1, 1, 1, 1, 1, 1, 1, 1, 1, 1, 1, ...]</td>\n",
       "      <td>Sinead Higgins, 37, and son Oisin ODriscoll were found after police forced their way into the house in The Fairway, Ruislip, west London on Wednesday. Police responded to concerns for the pairs welfare at about 10:50 GMT. A Met Police spokeswoman said detectives do not believe a third party was involved in the deaths. Det Insp Dave Bolton said: Inquiries so far lead us to believe there is a likelihood that the tragic events that led to the deaths do not involve a third party. A post-mortem examination is scheduled to take place on Friday. Next of kin have been informed.</td>\n",
       "      <td>38329030</td>\n",
       "      <td>[0, 104, 833, 625, 19422, 6, 2908, 6, 8, 979, 384, 29761, 384, 14043, 4473, 3937, 58, 303, 71, 249, 1654, 49, 169, 88, 5, 790, 11, 20, 3896, 1970, 6, 10318, 13714, 1588, 6, 3072, 928, 15, 307, 4, 522, 2334, 7, 1379, 13, 5, 15029, 6642, 23, 59, 158, 35, 1096, 5050, 4, 83, 4369, 522, 3582, 26, 10412, 109, 45, 679, 10, 371, 537, 21, 963, 11, 5, 3257, 4, 11185, 19190, 4475, 12160, 26, 35, 28727, 19947, 98, 444, 483, 201, 7, 679, 89, 16, 10, 11801, 14, 5, 8805, 1061, 14, 669, 7, 5, 3257, ...]</td>\n",
       "      <td>[0, 133, 3738, 9, 10, 985, 8, 69, 707, 12, 180, 12, 279, 979, 33, 57, 2967, 23, 49, 184, 4, 2]</td>\n",
       "      <td>The bodies of a mother and her seven-year-old son have been discovered at their home.</td>\n",
       "    </tr>\n",
       "  </tbody>\n",
       "</table>"
      ],
      "text/plain": [
       "<IPython.core.display.HTML object>"
      ]
     },
     "metadata": {},
     "output_type": "display_data"
    },
    {
     "data": {
      "text/html": [
       "<table border=\"1\" class=\"dataframe\">\n",
       "  <thead>\n",
       "    <tr style=\"text-align: right;\">\n",
       "      <th></th>\n",
       "      <th>attention_mask</th>\n",
       "      <th>document</th>\n",
       "      <th>id</th>\n",
       "      <th>input_ids</th>\n",
       "      <th>labels</th>\n",
       "      <th>summary</th>\n",
       "    </tr>\n",
       "  </thead>\n",
       "  <tbody>\n",
       "    <tr>\n",
       "      <th>0</th>\n",
       "      <td>[1, 1, 1, 1, 1, 1, 1, 1, 1, 1, 1, 1, 1, 1, 1, 1, 1, 1, 1, 1, 1, 1, 1, 1, 1, 1, 1, 1, 1, 1, 1, 1, 1, 1, 1, 1, 1, 1, 1, 1, 1, 1, 1, 1, 1, 1, 1, 1, 1, 1, 1, 1, 1, 1, 1, 1, 1, 1, 1, 1, 1, 1, 1, 1, 1, 1, 1, 1, 1, 1, 1, 1, 1, 1, 1, 1, 1, 1, 1, 1, 1, 1, 1, 1, 1, 1, 1, 1, 1, 1, 1, 1, 1, 1, 1, 1, 1, 1, 1, 1, ...]</td>\n",
       "      <td>Phoenix, 37, told Interview Magazine: I dont want to be a part of it. I dont believe in it. The actor has been tipped for awards success The Master, in which he plays a war veteran. He was nominated for an Oscar for his role as music legend Johnny Cash in Walk The Line in 2005. Phoenix said he was dreading the upcoming Hollywood awards season which culminates with the Oscars in February 2013. Its a carrot, but its the worst-tasting carrot Ive ever tasted in my whole life. I dont want this carrot, he said. Its totally subjective. Pitting people against each other....Its the stupidest thing in the whole world. Phoenix described the period when Walk The Line was up for multiple awards seven years ago as one of the most uncomfortable periods of my life. I never want to have that experience again, he revealed in the interview. I dont know how to explain it - and its not like Im in this place where I think Im just above it - but I just dont ever want to get comfortable with that part of things. The Master, which also stars Philip Seymour Hoffman, is Phoenixs first feature film since Im Still Here, Casey Afflecks spoof 2010 documentary which chronicled Phoenixs supposed retirement from acting to launch a career as a rapper. Phoenix called that experience unbelievably liberating and said it was hard subsequently to find projects that interested and excited him. I mean, everything that they teach you when youre a kid about acting is completely...wrong. They tell you to memorise your lines, follow your light, and hit your marks. Those are the three things that you shouldnt do. You should not learn your lines, you should not hit your mark, and you should never follow your light. Find your light - thats my opinion, he said.</td>\n",
       "      <td>20004220</td>\n",
       "      <td>[0, 41932, 6, 2908, 6, 174, 21902, 10202, 35, 38, 33976, 236, 7, 28, 10, 233, 9, 24, 4, 38, 33976, 679, 11, 24, 4, 20, 2701, 34, 57, 13402, 13, 4188, 1282, 20, 6935, 6, 11, 61, 37, 1974, 10, 997, 3142, 4, 91, 21, 7076, 13, 41, 5887, 13, 39, 774, 25, 930, 7875, 8781, 7871, 11, 9693, 20, 5562, 11, 4013, 4, 5524, 26, 37, 21, 24506, 154, 5, 2568, 3049, 4188, 191, 61, 32887, 1626, 19, 5, 15300, 11, 902, 1014, 4, 3139, 10, 33129, 6, 53, 63, 5, 2373, 12, 90, 15374, 33129, 38, 548, ...]</td>\n",
       "      <td>[0, 19842, 23186, 5524, 34, 26, 37, 1072, 117, 233, 11, 5, 1569, 539, 4188, 191, 6, 1765, 5, 4188, 22, 620, 35820, 113, 8, 22, 40747, 2088, 845, 2]</td>\n",
       "      <td>Joaquin Phoenix has said he wants no part in the movie industry awards season, calling the awards \"stupid\" and \"subjective\".</td>\n",
       "    </tr>\n",
       "    <tr>\n",
       "      <th>1</th>\n",
       "      <td>[1, 1, 1, 1, 1, 1, 1, 1, 1, 1, 1, 1, 1, 1, 1, 1, 1, 1, 1, 1, 1, 1, 1, 1, 1, 1, 1, 1, 1, 1, 1, 1, 1, 1, 1, 1, 1, 1, 1, 1, 1, 1, 1, 1, 1, 1, 1, 1, 1, 1, 1, 1, 1, 1, 1, 1, 1, 1, 1, 1, 1, 1, 1, 1, 1, 1, 1, 1, 1, 1, 1, 1, 1, 1, 1, 1, 1, 1, 1, 1, 1, 1, 1, 1, 1, 1, 1, 1, 1, 1, 1, 1, 1, 1, 1, 1, 1, 1, 1, 1, ...]</td>\n",
       "      <td>The 23-year-old striker, on loan from Al Hilal, pounced on a sloppy pass from defender Daniel Ayala and slotted a fine finish past Darren Randolph. Boro forward Martin Braithwaite should have levelled at Molineux before the break, but headed wide while unmarked. Britt Assombalonga was denied by goalkeeper John Ruddy as Boro pressed late on and Wolves held on for victory. Wolves new manager Nuno Espirito Santo handed starts to seven summer acquisitions, including the Championships record signing Ruben Neves in midfield. Finding a prolific striker was one of Nunos priorities ahead of the campaign, after midfielder Dave Edwards and winger Helder Costa, missing through injury, topped Wolves scoring charts last season. And it was former Brazil under-17 player Bonatini who made the difference with the most composed of strikes after some terrible defending. Ayala attempted to pass the ball to Ben Gibson, but it was woefully short allowing Bonatini to nip in and place his effort into the bottom corner. Middlesbrough also struggled to find the back of the net in 2016-17, scoring just 27 times as they were relegated from the Premier League. New boss Garry Monk started three of his new forwards - Ashley Fletcher, Assombalonga and Denmark international Braithwaite - but they could not find a way through a resolute Wolves defence. Wolves head coach Nuno Espirito Santo: It was a tough game and in the first half we played very well. We controlled the game and this is the way we should work. I think that we deserved the three points and we are pleased with the boys. We are still not the final product and every game will be better. This is the line that we want from the boys, always progress, always get better. Middlesbrough boss Garry Monk: In the first half Wolves were the better team and we made too many mistakes and obviously one of them led to a goal. But I thought we were the better team in the second half and we upped our level of urgency. We need that at the start of games. We had the best chances in the game and on any other day we could have taken one or two of them. That is football and is sometimes the way that it works out. Match ends, Wolverhampton Wanderers 1, Middlesbrough 0. Second Half ends, Wolverhampton Wanderers 1, Middlesbrough 0. Adam Forshaw (Middlesbrough) is shown the yellow card for a bad foul. Foul by Adam Forshaw (Middlesbrough). Jordan Graham (Wolverhampton Wanderers) wins a free kick on the left wing. Hand ball by David Edwards (Wolverhampton Wanderers). Offside, Wolverhampton Wanderers. Matt Doherty tries a through ball, but David Edwards is caught offside. Foul by Daniel Ayala (Middlesbrough). Jordan Graham (Wolverhampton Wanderers) wins a free kick on the left wing. Attempt missed. Cyrus Christie (Middlesbrough) right footed shot from outside the box is just a bit too high. Substitution, Wolverhampton Wanderers. Jordan Graham replaces Diogo Jota. Attempt missed. Romain Saiss (Wolverhampton Wanderers) left footed shot from outside the box is too high. Substitution, Middlesbrough. Rudy Gestede replaces Jonny Howson. Attempt saved. Patrick Bamford (Middlesbrough) left footed shot from outside the box is saved in the centre of the goal. Assisted by Jonny Howson. Substitution, Wolverhampton Wanderers. David Edwards replaces Bright Enobakhare. Romain Saiss (Wolverhampton Wanderers) wins a free kick in the defensive half. Foul by Cyrus Christie (Middlesbrough). Attempt blocked. Rúben Neves (Wolverhampton Wanderers) right footed shot from outside the box is blocked. Corner,  Middlesbrough. Conceded by John Ruddy. Attempt saved. Britt Assombalonga (Middlesbrough) right footed shot from the centre of the box is saved in the centre of the goal. Assisted by Patrick Bamford with a through ball. Attempt missed. Jonny Howson (Middlesbrough) right footed shot from outside the box misses to the left. Assisted by Adam Clayton following a set piece situation. Foul by Willy Boly (Wolverhampton Wanderers). Patrick Bamford (Middlesbrough) wins a free kick on the right wing. Attempt blocked. Willy Boly (Wolverhampton Wanderers) left footed shot from the centre of the box is blocked. Assisted by Barry Douglas with a cross. Corner,  Wolverhampton Wanderers. Conceded by Adam Clayton. Attempt blocked. Bright Enobakhare (Wolverhampton Wanderers) left footed shot from outside the box is blocked. Attempt missed. Romain Saiss (Wolverhampton Wanderers) left footed shot from the right side of the six yard box is close, but misses to the right. Assisted by Barry Douglas with a cross following a corner. Corner,  Wolverhampton Wanderers. Conceded by George Friend. Substitution, Middlesbrough. Adam Forshaw replaces Marten de Roon. Offside, Middlesbrough. Marten de Roon tries a through ball, but Adam Clayton is caught offside. Corner,  Middlesbrough. Conceded by Conor Coady. Diogo Jota (Wolverhampton Wanderers) wins a free kick on the left wing. Foul by Cyrus Christie (Middlesbrough). Corner,  Wolverhampton Wanderers. Conceded by Marten de Roon. Adam Clayton (Middlesbrough) is shown the yellow card for a bad foul. Diogo Jota (Wolverhampton Wanderers) wins a free kick in the defensive half. Foul by Adam Clayton (Middlesbrough). Substitution, Wolverhampton Wanderers. Nouha Dicko replaces Léo Bonatini. Substitution, Middlesbrough. Patrick Bamford replaces Ashley Fletcher. Attempt missed. Rúben Neves (Wolverhampton Wanderers) right footed shot from outside the box misses to the left following a corner.</td>\n",
       "      <td>40760787</td>\n",
       "      <td>[0, 133, 883, 12, 180, 12, 279, 5955, 6, 15, 2541, 31, 726, 14909, 337, 6, 181, 20155, 15, 10, 26654, 1323, 31, 5142, 3028, 5847, 2331, 8, 3369, 14265, 10, 2051, 2073, 375, 11335, 24500, 4, 7943, 139, 556, 1896, 9076, 3432, 2739, 1459, 197, 33, 16066, 9970, 23, 256, 18675, 7073, 137, 5, 1108, 6, 53, 3475, 1810, 150, 30161, 4, 16278, 6331, 5223, 20774, 102, 21, 2296, 30, 7551, 610, 248, 24471, 25, 7943, 139, 11224, 628, 15, 8, 13889, 547, 15, 13, 1124, 4, 13889, 92, 1044, 234, 25217, 11631, 30710, 139, 8550, 139, 4507, 2012, ...]</td>\n",
       "      <td>[0, 31004, 811, 12520, 5520, 415, 2531, 1008, 15, 39, 2453, 7, 492, 13889, 41, 1273, 12, 1208, 3261, 339, 136, 20421, 428, 10344, 4, 2]</td>\n",
       "      <td>Brazilian Leo Bonatini scored on his debut to give Wolves an opening-day Championship win against Middlesbrough.</td>\n",
       "    </tr>\n",
       "    <tr>\n",
       "      <th>2</th>\n",
       "      <td>[1, 1, 1, 1, 1, 1, 1, 1, 1, 1, 1, 1, 1, 1, 1, 1, 1, 1, 1, 1, 1, 1, 1, 1, 1, 1, 1, 1, 1, 1, 1, 1, 1, 1, 1, 1, 1, 1, 1, 1, 1, 1, 1, 1, 1, 1, 1, 1, 1, 1, 1, 1, 1, 1, 1, 1, 1, 1, 1, 1, 1, 1, 1, 1, 1, 1, 1, 1, 1, 1, 1, 1, 1, 1, 1, 1, 1, 1, 1, 1, 1, 1, 1, 1, 1, 1, 1, 1, 1, 1, 1, 1, 1, 1, 1, 1, 1, 1, 1, 1, ...]</td>\n",
       "      <td>Sinead Higgins, 37, and son Oisin ODriscoll were found after police forced their way into the house in The Fairway, Ruislip, west London on Wednesday. Police responded to concerns for the pairs welfare at about 10:50 GMT. A Met Police spokeswoman said detectives do not believe a third party was involved in the deaths. Det Insp Dave Bolton said: Inquiries so far lead us to believe there is a likelihood that the tragic events that led to the deaths do not involve a third party. A post-mortem examination is scheduled to take place on Friday. Next of kin have been informed.</td>\n",
       "      <td>38329030</td>\n",
       "      <td>[0, 104, 833, 625, 19422, 6, 2908, 6, 8, 979, 384, 29761, 384, 14043, 4473, 3937, 58, 303, 71, 249, 1654, 49, 169, 88, 5, 790, 11, 20, 3896, 1970, 6, 10318, 13714, 1588, 6, 3072, 928, 15, 307, 4, 522, 2334, 7, 1379, 13, 5, 15029, 6642, 23, 59, 158, 35, 1096, 5050, 4, 83, 4369, 522, 3582, 26, 10412, 109, 45, 679, 10, 371, 537, 21, 963, 11, 5, 3257, 4, 11185, 19190, 4475, 12160, 26, 35, 28727, 19947, 98, 444, 483, 201, 7, 679, 89, 16, 10, 11801, 14, 5, 8805, 1061, 14, 669, 7, 5, 3257, ...]</td>\n",
       "      <td>[0, 133, 3738, 9, 10, 985, 8, 69, 707, 12, 180, 12, 279, 979, 33, 57, 2967, 23, 49, 184, 4, 2]</td>\n",
       "      <td>The bodies of a mother and her seven-year-old son have been discovered at their home.</td>\n",
       "    </tr>\n",
       "  </tbody>\n",
       "</table>"
      ],
      "text/plain": [
       "<IPython.core.display.HTML object>"
      ]
     },
     "metadata": {},
     "output_type": "display_data"
    },
    {
     "data": {
      "text/html": [
       "<table border=\"1\" class=\"dataframe\">\n",
       "  <thead>\n",
       "    <tr style=\"text-align: right;\">\n",
       "      <th></th>\n",
       "      <th>attention_mask</th>\n",
       "      <th>document</th>\n",
       "      <th>id</th>\n",
       "      <th>input_ids</th>\n",
       "      <th>labels</th>\n",
       "      <th>summary</th>\n",
       "    </tr>\n",
       "  </thead>\n",
       "  <tbody>\n",
       "    <tr>\n",
       "      <th>0</th>\n",
       "      <td>[1, 1, 1, 1, 1, 1, 1, 1, 1, 1, 1, 1, 1, 1, 1, 1, 1, 1, 1, 1, 1, 1, 1, 1, 1, 1, 1, 1, 1, 1, 1, 1, 1, 1, 1, 1, 1, 1, 1, 1, 1, 1, 1, 1, 1, 1, 1, 1, 1, 1, 1, 1, 1, 1, 1, 1, 1, 1, 1, 1, 1, 1, 1, 1, 1, 1, 1, 1, 1, 1, 1, 1, 1, 1, 1, 1, 1, 1, 1, 1, 1, 1, 1, 1, 1, 1, 1, 1, 1, 1, 1, 1, 1, 1, 1, 1, 1, 1, 1, 1, ...]</td>\n",
       "      <td>Phoenix, 37, told Interview Magazine: I dont want to be a part of it. I dont believe in it. The actor has been tipped for awards success The Master, in which he plays a war veteran. He was nominated for an Oscar for his role as music legend Johnny Cash in Walk The Line in 2005. Phoenix said he was dreading the upcoming Hollywood awards season which culminates with the Oscars in February 2013. Its a carrot, but its the worst-tasting carrot Ive ever tasted in my whole life. I dont want this carrot, he said. Its totally subjective. Pitting people against each other....Its the stupidest thing in the whole world. Phoenix described the period when Walk The Line was up for multiple awards seven years ago as one of the most uncomfortable periods of my life. I never want to have that experience again, he revealed in the interview. I dont know how to explain it - and its not like Im in this place where I think Im just above it - but I just dont ever want to get comfortable with that part of things. The Master, which also stars Philip Seymour Hoffman, is Phoenixs first feature film since Im Still Here, Casey Afflecks spoof 2010 documentary which chronicled Phoenixs supposed retirement from acting to launch a career as a rapper. Phoenix called that experience unbelievably liberating and said it was hard subsequently to find projects that interested and excited him. I mean, everything that they teach you when youre a kid about acting is completely...wrong. They tell you to memorise your lines, follow your light, and hit your marks. Those are the three things that you shouldnt do. You should not learn your lines, you should not hit your mark, and you should never follow your light. Find your light - thats my opinion, he said.</td>\n",
       "      <td>20004220</td>\n",
       "      <td>[0, 41932, 6, 2908, 6, 174, 21902, 10202, 35, 38, 33976, 236, 7, 28, 10, 233, 9, 24, 4, 38, 33976, 679, 11, 24, 4, 20, 2701, 34, 57, 13402, 13, 4188, 1282, 20, 6935, 6, 11, 61, 37, 1974, 10, 997, 3142, 4, 91, 21, 7076, 13, 41, 5887, 13, 39, 774, 25, 930, 7875, 8781, 7871, 11, 9693, 20, 5562, 11, 4013, 4, 5524, 26, 37, 21, 24506, 154, 5, 2568, 3049, 4188, 191, 61, 32887, 1626, 19, 5, 15300, 11, 902, 1014, 4, 3139, 10, 33129, 6, 53, 63, 5, 2373, 12, 90, 15374, 33129, 38, 548, ...]</td>\n",
       "      <td>[0, 19842, 23186, 5524, 34, 26, 37, 1072, 117, 233, 11, 5, 1569, 539, 4188, 191, 6, 1765, 5, 4188, 22, 620, 35820, 113, 8, 22, 40747, 2088, 845, 2]</td>\n",
       "      <td>Joaquin Phoenix has said he wants no part in the movie industry awards season, calling the awards \"stupid\" and \"subjective\".</td>\n",
       "    </tr>\n",
       "    <tr>\n",
       "      <th>1</th>\n",
       "      <td>[1, 1, 1, 1, 1, 1, 1, 1, 1, 1, 1, 1, 1, 1, 1, 1, 1, 1, 1, 1, 1, 1, 1, 1, 1, 1, 1, 1, 1, 1, 1, 1, 1, 1, 1, 1, 1, 1, 1, 1, 1, 1, 1, 1, 1, 1, 1, 1, 1, 1, 1, 1, 1, 1, 1, 1, 1, 1, 1, 1, 1, 1, 1, 1, 1, 1, 1, 1, 1, 1, 1, 1, 1, 1, 1, 1, 1, 1, 1, 1, 1, 1, 1, 1, 1, 1, 1, 1, 1, 1, 1, 1, 1, 1, 1, 1, 1, 1, 1, 1, ...]</td>\n",
       "      <td>The 23-year-old striker, on loan from Al Hilal, pounced on a sloppy pass from defender Daniel Ayala and slotted a fine finish past Darren Randolph. Boro forward Martin Braithwaite should have levelled at Molineux before the break, but headed wide while unmarked. Britt Assombalonga was denied by goalkeeper John Ruddy as Boro pressed late on and Wolves held on for victory. Wolves new manager Nuno Espirito Santo handed starts to seven summer acquisitions, including the Championships record signing Ruben Neves in midfield. Finding a prolific striker was one of Nunos priorities ahead of the campaign, after midfielder Dave Edwards and winger Helder Costa, missing through injury, topped Wolves scoring charts last season. And it was former Brazil under-17 player Bonatini who made the difference with the most composed of strikes after some terrible defending. Ayala attempted to pass the ball to Ben Gibson, but it was woefully short allowing Bonatini to nip in and place his effort into the bottom corner. Middlesbrough also struggled to find the back of the net in 2016-17, scoring just 27 times as they were relegated from the Premier League. New boss Garry Monk started three of his new forwards - Ashley Fletcher, Assombalonga and Denmark international Braithwaite - but they could not find a way through a resolute Wolves defence. Wolves head coach Nuno Espirito Santo: It was a tough game and in the first half we played very well. We controlled the game and this is the way we should work. I think that we deserved the three points and we are pleased with the boys. We are still not the final product and every game will be better. This is the line that we want from the boys, always progress, always get better. Middlesbrough boss Garry Monk: In the first half Wolves were the better team and we made too many mistakes and obviously one of them led to a goal. But I thought we were the better team in the second half and we upped our level of urgency. We need that at the start of games. We had the best chances in the game and on any other day we could have taken one or two of them. That is football and is sometimes the way that it works out. Match ends, Wolverhampton Wanderers 1, Middlesbrough 0. Second Half ends, Wolverhampton Wanderers 1, Middlesbrough 0. Adam Forshaw (Middlesbrough) is shown the yellow card for a bad foul. Foul by Adam Forshaw (Middlesbrough). Jordan Graham (Wolverhampton Wanderers) wins a free kick on the left wing. Hand ball by David Edwards (Wolverhampton Wanderers). Offside, Wolverhampton Wanderers. Matt Doherty tries a through ball, but David Edwards is caught offside. Foul by Daniel Ayala (Middlesbrough). Jordan Graham (Wolverhampton Wanderers) wins a free kick on the left wing. Attempt missed. Cyrus Christie (Middlesbrough) right footed shot from outside the box is just a bit too high. Substitution, Wolverhampton Wanderers. Jordan Graham replaces Diogo Jota. Attempt missed. Romain Saiss (Wolverhampton Wanderers) left footed shot from outside the box is too high. Substitution, Middlesbrough. Rudy Gestede replaces Jonny Howson. Attempt saved. Patrick Bamford (Middlesbrough) left footed shot from outside the box is saved in the centre of the goal. Assisted by Jonny Howson. Substitution, Wolverhampton Wanderers. David Edwards replaces Bright Enobakhare. Romain Saiss (Wolverhampton Wanderers) wins a free kick in the defensive half. Foul by Cyrus Christie (Middlesbrough). Attempt blocked. Rúben Neves (Wolverhampton Wanderers) right footed shot from outside the box is blocked. Corner,  Middlesbrough. Conceded by John Ruddy. Attempt saved. Britt Assombalonga (Middlesbrough) right footed shot from the centre of the box is saved in the centre of the goal. Assisted by Patrick Bamford with a through ball. Attempt missed. Jonny Howson (Middlesbrough) right footed shot from outside the box misses to the left. Assisted by Adam Clayton following a set piece situation. Foul by Willy Boly (Wolverhampton Wanderers). Patrick Bamford (Middlesbrough) wins a free kick on the right wing. Attempt blocked. Willy Boly (Wolverhampton Wanderers) left footed shot from the centre of the box is blocked. Assisted by Barry Douglas with a cross. Corner,  Wolverhampton Wanderers. Conceded by Adam Clayton. Attempt blocked. Bright Enobakhare (Wolverhampton Wanderers) left footed shot from outside the box is blocked. Attempt missed. Romain Saiss (Wolverhampton Wanderers) left footed shot from the right side of the six yard box is close, but misses to the right. Assisted by Barry Douglas with a cross following a corner. Corner,  Wolverhampton Wanderers. Conceded by George Friend. Substitution, Middlesbrough. Adam Forshaw replaces Marten de Roon. Offside, Middlesbrough. Marten de Roon tries a through ball, but Adam Clayton is caught offside. Corner,  Middlesbrough. Conceded by Conor Coady. Diogo Jota (Wolverhampton Wanderers) wins a free kick on the left wing. Foul by Cyrus Christie (Middlesbrough). Corner,  Wolverhampton Wanderers. Conceded by Marten de Roon. Adam Clayton (Middlesbrough) is shown the yellow card for a bad foul. Diogo Jota (Wolverhampton Wanderers) wins a free kick in the defensive half. Foul by Adam Clayton (Middlesbrough). Substitution, Wolverhampton Wanderers. Nouha Dicko replaces Léo Bonatini. Substitution, Middlesbrough. Patrick Bamford replaces Ashley Fletcher. Attempt missed. Rúben Neves (Wolverhampton Wanderers) right footed shot from outside the box misses to the left following a corner.</td>\n",
       "      <td>40760787</td>\n",
       "      <td>[0, 133, 883, 12, 180, 12, 279, 5955, 6, 15, 2541, 31, 726, 14909, 337, 6, 181, 20155, 15, 10, 26654, 1323, 31, 5142, 3028, 5847, 2331, 8, 3369, 14265, 10, 2051, 2073, 375, 11335, 24500, 4, 7943, 139, 556, 1896, 9076, 3432, 2739, 1459, 197, 33, 16066, 9970, 23, 256, 18675, 7073, 137, 5, 1108, 6, 53, 3475, 1810, 150, 30161, 4, 16278, 6331, 5223, 20774, 102, 21, 2296, 30, 7551, 610, 248, 24471, 25, 7943, 139, 11224, 628, 15, 8, 13889, 547, 15, 13, 1124, 4, 13889, 92, 1044, 234, 25217, 11631, 30710, 139, 8550, 139, 4507, 2012, ...]</td>\n",
       "      <td>[0, 31004, 811, 12520, 5520, 415, 2531, 1008, 15, 39, 2453, 7, 492, 13889, 41, 1273, 12, 1208, 3261, 339, 136, 20421, 428, 10344, 4, 2]</td>\n",
       "      <td>Brazilian Leo Bonatini scored on his debut to give Wolves an opening-day Championship win against Middlesbrough.</td>\n",
       "    </tr>\n",
       "    <tr>\n",
       "      <th>2</th>\n",
       "      <td>[1, 1, 1, 1, 1, 1, 1, 1, 1, 1, 1, 1, 1, 1, 1, 1, 1, 1, 1, 1, 1, 1, 1, 1, 1, 1, 1, 1, 1, 1, 1, 1, 1, 1, 1, 1, 1, 1, 1, 1, 1, 1, 1, 1, 1, 1, 1, 1, 1, 1, 1, 1, 1, 1, 1, 1, 1, 1, 1, 1, 1, 1, 1, 1, 1, 1, 1, 1, 1, 1, 1, 1, 1, 1, 1, 1, 1, 1, 1, 1, 1, 1, 1, 1, 1, 1, 1, 1, 1, 1, 1, 1, 1, 1, 1, 1, 1, 1, 1, 1, ...]</td>\n",
       "      <td>Sinead Higgins, 37, and son Oisin ODriscoll were found after police forced their way into the house in The Fairway, Ruislip, west London on Wednesday. Police responded to concerns for the pairs welfare at about 10:50 GMT. A Met Police spokeswoman said detectives do not believe a third party was involved in the deaths. Det Insp Dave Bolton said: Inquiries so far lead us to believe there is a likelihood that the tragic events that led to the deaths do not involve a third party. A post-mortem examination is scheduled to take place on Friday. Next of kin have been informed.</td>\n",
       "      <td>38329030</td>\n",
       "      <td>[0, 104, 833, 625, 19422, 6, 2908, 6, 8, 979, 384, 29761, 384, 14043, 4473, 3937, 58, 303, 71, 249, 1654, 49, 169, 88, 5, 790, 11, 20, 3896, 1970, 6, 10318, 13714, 1588, 6, 3072, 928, 15, 307, 4, 522, 2334, 7, 1379, 13, 5, 15029, 6642, 23, 59, 158, 35, 1096, 5050, 4, 83, 4369, 522, 3582, 26, 10412, 109, 45, 679, 10, 371, 537, 21, 963, 11, 5, 3257, 4, 11185, 19190, 4475, 12160, 26, 35, 28727, 19947, 98, 444, 483, 201, 7, 679, 89, 16, 10, 11801, 14, 5, 8805, 1061, 14, 669, 7, 5, 3257, ...]</td>\n",
       "      <td>[0, 133, 3738, 9, 10, 985, 8, 69, 707, 12, 180, 12, 279, 979, 33, 57, 2967, 23, 49, 184, 4, 2]</td>\n",
       "      <td>The bodies of a mother and her seven-year-old son have been discovered at their home.</td>\n",
       "    </tr>\n",
       "  </tbody>\n",
       "</table>"
      ],
      "text/plain": [
       "<IPython.core.display.HTML object>"
      ]
     },
     "metadata": {},
     "output_type": "display_data"
    },
    {
     "data": {
      "text/html": [
       "<table border=\"1\" class=\"dataframe\">\n",
       "  <thead>\n",
       "    <tr style=\"text-align: right;\">\n",
       "      <th></th>\n",
       "      <th>attention_mask</th>\n",
       "      <th>document</th>\n",
       "      <th>id</th>\n",
       "      <th>input_ids</th>\n",
       "      <th>labels</th>\n",
       "      <th>summary</th>\n",
       "    </tr>\n",
       "  </thead>\n",
       "  <tbody>\n",
       "    <tr>\n",
       "      <th>0</th>\n",
       "      <td>[1, 1, 1, 1, 1, 1, 1, 1, 1, 1, 1, 1, 1, 1, 1, 1, 1, 1, 1, 1, 1, 1, 1, 1, 1, 1, 1, 1, 1, 1, 1, 1, 1, 1, 1, 1, 1, 1, 1, 1, 1, 1, 1, 1, 1, 1, 1, 1, 1, 1, 1, 1, 1, 1, 1, 1, 1, 1, 1, 1, 1, 1, 1, 1, 1, 1, 1, 1, 1, 1, 1, 1, 1, 1, 1, 1, 1, 1, 1, 1, 1, 1, 1, 1, 1, 1, 1, 1, 1, 1, 1, 1, 1, 1, 1, 1, 1, 1, 1, 1, ...]</td>\n",
       "      <td>Phoenix, 37, told Interview Magazine: I dont want to be a part of it. I dont believe in it. The actor has been tipped for awards success The Master, in which he plays a war veteran. He was nominated for an Oscar for his role as music legend Johnny Cash in Walk The Line in 2005. Phoenix said he was dreading the upcoming Hollywood awards season which culminates with the Oscars in February 2013. Its a carrot, but its the worst-tasting carrot Ive ever tasted in my whole life. I dont want this carrot, he said. Its totally subjective. Pitting people against each other....Its the stupidest thing in the whole world. Phoenix described the period when Walk The Line was up for multiple awards seven years ago as one of the most uncomfortable periods of my life. I never want to have that experience again, he revealed in the interview. I dont know how to explain it - and its not like Im in this place where I think Im just above it - but I just dont ever want to get comfortable with that part of things. The Master, which also stars Philip Seymour Hoffman, is Phoenixs first feature film since Im Still Here, Casey Afflecks spoof 2010 documentary which chronicled Phoenixs supposed retirement from acting to launch a career as a rapper. Phoenix called that experience unbelievably liberating and said it was hard subsequently to find projects that interested and excited him. I mean, everything that they teach you when youre a kid about acting is completely...wrong. They tell you to memorise your lines, follow your light, and hit your marks. Those are the three things that you shouldnt do. You should not learn your lines, you should not hit your mark, and you should never follow your light. Find your light - thats my opinion, he said.</td>\n",
       "      <td>20004220</td>\n",
       "      <td>[0, 41932, 6, 2908, 6, 174, 21902, 10202, 35, 38, 33976, 236, 7, 28, 10, 233, 9, 24, 4, 38, 33976, 679, 11, 24, 4, 20, 2701, 34, 57, 13402, 13, 4188, 1282, 20, 6935, 6, 11, 61, 37, 1974, 10, 997, 3142, 4, 91, 21, 7076, 13, 41, 5887, 13, 39, 774, 25, 930, 7875, 8781, 7871, 11, 9693, 20, 5562, 11, 4013, 4, 5524, 26, 37, 21, 24506, 154, 5, 2568, 3049, 4188, 191, 61, 32887, 1626, 19, 5, 15300, 11, 902, 1014, 4, 3139, 10, 33129, 6, 53, 63, 5, 2373, 12, 90, 15374, 33129, 38, 548, ...]</td>\n",
       "      <td>[0, 19842, 23186, 5524, 34, 26, 37, 1072, 117, 233, 11, 5, 1569, 539, 4188, 191, 6, 1765, 5, 4188, 22, 620, 35820, 113, 8, 22, 40747, 2088, 845, 2]</td>\n",
       "      <td>Joaquin Phoenix has said he wants no part in the movie industry awards season, calling the awards \"stupid\" and \"subjective\".</td>\n",
       "    </tr>\n",
       "    <tr>\n",
       "      <th>1</th>\n",
       "      <td>[1, 1, 1, 1, 1, 1, 1, 1, 1, 1, 1, 1, 1, 1, 1, 1, 1, 1, 1, 1, 1, 1, 1, 1, 1, 1, 1, 1, 1, 1, 1, 1, 1, 1, 1, 1, 1, 1, 1, 1, 1, 1, 1, 1, 1, 1, 1, 1, 1, 1, 1, 1, 1, 1, 1, 1, 1, 1, 1, 1, 1, 1, 1, 1, 1, 1, 1, 1, 1, 1, 1, 1, 1, 1, 1, 1, 1, 1, 1, 1, 1, 1, 1, 1, 1, 1, 1, 1, 1, 1, 1, 1, 1, 1, 1, 1, 1, 1, 1, 1, ...]</td>\n",
       "      <td>The 23-year-old striker, on loan from Al Hilal, pounced on a sloppy pass from defender Daniel Ayala and slotted a fine finish past Darren Randolph. Boro forward Martin Braithwaite should have levelled at Molineux before the break, but headed wide while unmarked. Britt Assombalonga was denied by goalkeeper John Ruddy as Boro pressed late on and Wolves held on for victory. Wolves new manager Nuno Espirito Santo handed starts to seven summer acquisitions, including the Championships record signing Ruben Neves in midfield. Finding a prolific striker was one of Nunos priorities ahead of the campaign, after midfielder Dave Edwards and winger Helder Costa, missing through injury, topped Wolves scoring charts last season. And it was former Brazil under-17 player Bonatini who made the difference with the most composed of strikes after some terrible defending. Ayala attempted to pass the ball to Ben Gibson, but it was woefully short allowing Bonatini to nip in and place his effort into the bottom corner. Middlesbrough also struggled to find the back of the net in 2016-17, scoring just 27 times as they were relegated from the Premier League. New boss Garry Monk started three of his new forwards - Ashley Fletcher, Assombalonga and Denmark international Braithwaite - but they could not find a way through a resolute Wolves defence. Wolves head coach Nuno Espirito Santo: It was a tough game and in the first half we played very well. We controlled the game and this is the way we should work. I think that we deserved the three points and we are pleased with the boys. We are still not the final product and every game will be better. This is the line that we want from the boys, always progress, always get better. Middlesbrough boss Garry Monk: In the first half Wolves were the better team and we made too many mistakes and obviously one of them led to a goal. But I thought we were the better team in the second half and we upped our level of urgency. We need that at the start of games. We had the best chances in the game and on any other day we could have taken one or two of them. That is football and is sometimes the way that it works out. Match ends, Wolverhampton Wanderers 1, Middlesbrough 0. Second Half ends, Wolverhampton Wanderers 1, Middlesbrough 0. Adam Forshaw (Middlesbrough) is shown the yellow card for a bad foul. Foul by Adam Forshaw (Middlesbrough). Jordan Graham (Wolverhampton Wanderers) wins a free kick on the left wing. Hand ball by David Edwards (Wolverhampton Wanderers). Offside, Wolverhampton Wanderers. Matt Doherty tries a through ball, but David Edwards is caught offside. Foul by Daniel Ayala (Middlesbrough). Jordan Graham (Wolverhampton Wanderers) wins a free kick on the left wing. Attempt missed. Cyrus Christie (Middlesbrough) right footed shot from outside the box is just a bit too high. Substitution, Wolverhampton Wanderers. Jordan Graham replaces Diogo Jota. Attempt missed. Romain Saiss (Wolverhampton Wanderers) left footed shot from outside the box is too high. Substitution, Middlesbrough. Rudy Gestede replaces Jonny Howson. Attempt saved. Patrick Bamford (Middlesbrough) left footed shot from outside the box is saved in the centre of the goal. Assisted by Jonny Howson. Substitution, Wolverhampton Wanderers. David Edwards replaces Bright Enobakhare. Romain Saiss (Wolverhampton Wanderers) wins a free kick in the defensive half. Foul by Cyrus Christie (Middlesbrough). Attempt blocked. Rúben Neves (Wolverhampton Wanderers) right footed shot from outside the box is blocked. Corner,  Middlesbrough. Conceded by John Ruddy. Attempt saved. Britt Assombalonga (Middlesbrough) right footed shot from the centre of the box is saved in the centre of the goal. Assisted by Patrick Bamford with a through ball. Attempt missed. Jonny Howson (Middlesbrough) right footed shot from outside the box misses to the left. Assisted by Adam Clayton following a set piece situation. Foul by Willy Boly (Wolverhampton Wanderers). Patrick Bamford (Middlesbrough) wins a free kick on the right wing. Attempt blocked. Willy Boly (Wolverhampton Wanderers) left footed shot from the centre of the box is blocked. Assisted by Barry Douglas with a cross. Corner,  Wolverhampton Wanderers. Conceded by Adam Clayton. Attempt blocked. Bright Enobakhare (Wolverhampton Wanderers) left footed shot from outside the box is blocked. Attempt missed. Romain Saiss (Wolverhampton Wanderers) left footed shot from the right side of the six yard box is close, but misses to the right. Assisted by Barry Douglas with a cross following a corner. Corner,  Wolverhampton Wanderers. Conceded by George Friend. Substitution, Middlesbrough. Adam Forshaw replaces Marten de Roon. Offside, Middlesbrough. Marten de Roon tries a through ball, but Adam Clayton is caught offside. Corner,  Middlesbrough. Conceded by Conor Coady. Diogo Jota (Wolverhampton Wanderers) wins a free kick on the left wing. Foul by Cyrus Christie (Middlesbrough). Corner,  Wolverhampton Wanderers. Conceded by Marten de Roon. Adam Clayton (Middlesbrough) is shown the yellow card for a bad foul. Diogo Jota (Wolverhampton Wanderers) wins a free kick in the defensive half. Foul by Adam Clayton (Middlesbrough). Substitution, Wolverhampton Wanderers. Nouha Dicko replaces Léo Bonatini. Substitution, Middlesbrough. Patrick Bamford replaces Ashley Fletcher. Attempt missed. Rúben Neves (Wolverhampton Wanderers) right footed shot from outside the box misses to the left following a corner.</td>\n",
       "      <td>40760787</td>\n",
       "      <td>[0, 133, 883, 12, 180, 12, 279, 5955, 6, 15, 2541, 31, 726, 14909, 337, 6, 181, 20155, 15, 10, 26654, 1323, 31, 5142, 3028, 5847, 2331, 8, 3369, 14265, 10, 2051, 2073, 375, 11335, 24500, 4, 7943, 139, 556, 1896, 9076, 3432, 2739, 1459, 197, 33, 16066, 9970, 23, 256, 18675, 7073, 137, 5, 1108, 6, 53, 3475, 1810, 150, 30161, 4, 16278, 6331, 5223, 20774, 102, 21, 2296, 30, 7551, 610, 248, 24471, 25, 7943, 139, 11224, 628, 15, 8, 13889, 547, 15, 13, 1124, 4, 13889, 92, 1044, 234, 25217, 11631, 30710, 139, 8550, 139, 4507, 2012, ...]</td>\n",
       "      <td>[0, 31004, 811, 12520, 5520, 415, 2531, 1008, 15, 39, 2453, 7, 492, 13889, 41, 1273, 12, 1208, 3261, 339, 136, 20421, 428, 10344, 4, 2]</td>\n",
       "      <td>Brazilian Leo Bonatini scored on his debut to give Wolves an opening-day Championship win against Middlesbrough.</td>\n",
       "    </tr>\n",
       "    <tr>\n",
       "      <th>2</th>\n",
       "      <td>[1, 1, 1, 1, 1, 1, 1, 1, 1, 1, 1, 1, 1, 1, 1, 1, 1, 1, 1, 1, 1, 1, 1, 1, 1, 1, 1, 1, 1, 1, 1, 1, 1, 1, 1, 1, 1, 1, 1, 1, 1, 1, 1, 1, 1, 1, 1, 1, 1, 1, 1, 1, 1, 1, 1, 1, 1, 1, 1, 1, 1, 1, 1, 1, 1, 1, 1, 1, 1, 1, 1, 1, 1, 1, 1, 1, 1, 1, 1, 1, 1, 1, 1, 1, 1, 1, 1, 1, 1, 1, 1, 1, 1, 1, 1, 1, 1, 1, 1, 1, ...]</td>\n",
       "      <td>Sinead Higgins, 37, and son Oisin ODriscoll were found after police forced their way into the house in The Fairway, Ruislip, west London on Wednesday. Police responded to concerns for the pairs welfare at about 10:50 GMT. A Met Police spokeswoman said detectives do not believe a third party was involved in the deaths. Det Insp Dave Bolton said: Inquiries so far lead us to believe there is a likelihood that the tragic events that led to the deaths do not involve a third party. A post-mortem examination is scheduled to take place on Friday. Next of kin have been informed.</td>\n",
       "      <td>38329030</td>\n",
       "      <td>[0, 104, 833, 625, 19422, 6, 2908, 6, 8, 979, 384, 29761, 384, 14043, 4473, 3937, 58, 303, 71, 249, 1654, 49, 169, 88, 5, 790, 11, 20, 3896, 1970, 6, 10318, 13714, 1588, 6, 3072, 928, 15, 307, 4, 522, 2334, 7, 1379, 13, 5, 15029, 6642, 23, 59, 158, 35, 1096, 5050, 4, 83, 4369, 522, 3582, 26, 10412, 109, 45, 679, 10, 371, 537, 21, 963, 11, 5, 3257, 4, 11185, 19190, 4475, 12160, 26, 35, 28727, 19947, 98, 444, 483, 201, 7, 679, 89, 16, 10, 11801, 14, 5, 8805, 1061, 14, 669, 7, 5, 3257, ...]</td>\n",
       "      <td>[0, 133, 3738, 9, 10, 985, 8, 69, 707, 12, 180, 12, 279, 979, 33, 57, 2967, 23, 49, 184, 4, 2]</td>\n",
       "      <td>The bodies of a mother and her seven-year-old son have been discovered at their home.</td>\n",
       "    </tr>\n",
       "  </tbody>\n",
       "</table>"
      ],
      "text/plain": [
       "<IPython.core.display.HTML object>"
      ]
     },
     "metadata": {},
     "output_type": "display_data"
    },
    {
     "data": {
      "text/html": [
       "<table border=\"1\" class=\"dataframe\">\n",
       "  <thead>\n",
       "    <tr style=\"text-align: right;\">\n",
       "      <th></th>\n",
       "      <th>attention_mask</th>\n",
       "      <th>document</th>\n",
       "      <th>id</th>\n",
       "      <th>input_ids</th>\n",
       "      <th>labels</th>\n",
       "      <th>summary</th>\n",
       "    </tr>\n",
       "  </thead>\n",
       "  <tbody>\n",
       "    <tr>\n",
       "      <th>0</th>\n",
       "      <td>[1, 1, 1, 1, 1, 1, 1, 1, 1, 1, 1, 1, 1, 1, 1, 1, 1, 1, 1, 1, 1, 1, 1, 1, 1, 1, 1, 1, 1, 1, 1, 1, 1, 1, 1, 1, 1, 1, 1, 1, 1, 1, 1, 1, 1, 1, 1, 1, 1, 1, 1, 1, 1, 1, 1, 1, 1, 1, 1, 1, 1, 1, 1, 1, 1, 1, 1, 1, 1, 1, 1, 1, 1, 1, 1, 1, 1, 1, 1, 1, 1, 1, 1, 1, 1, 1, 1, 1, 1, 1, 1, 1, 1, 1, 1, 1, 1, 1, 1, 1, ...]</td>\n",
       "      <td>Phoenix, 37, told Interview Magazine: I dont want to be a part of it. I dont believe in it. The actor has been tipped for awards success The Master, in which he plays a war veteran. He was nominated for an Oscar for his role as music legend Johnny Cash in Walk The Line in 2005. Phoenix said he was dreading the upcoming Hollywood awards season which culminates with the Oscars in February 2013. Its a carrot, but its the worst-tasting carrot Ive ever tasted in my whole life. I dont want this carrot, he said. Its totally subjective. Pitting people against each other....Its the stupidest thing in the whole world. Phoenix described the period when Walk The Line was up for multiple awards seven years ago as one of the most uncomfortable periods of my life. I never want to have that experience again, he revealed in the interview. I dont know how to explain it - and its not like Im in this place where I think Im just above it - but I just dont ever want to get comfortable with that part of things. The Master, which also stars Philip Seymour Hoffman, is Phoenixs first feature film since Im Still Here, Casey Afflecks spoof 2010 documentary which chronicled Phoenixs supposed retirement from acting to launch a career as a rapper. Phoenix called that experience unbelievably liberating and said it was hard subsequently to find projects that interested and excited him. I mean, everything that they teach you when youre a kid about acting is completely...wrong. They tell you to memorise your lines, follow your light, and hit your marks. Those are the three things that you shouldnt do. You should not learn your lines, you should not hit your mark, and you should never follow your light. Find your light - thats my opinion, he said.</td>\n",
       "      <td>20004220</td>\n",
       "      <td>[0, 41932, 6, 2908, 6, 174, 21902, 10202, 35, 38, 33976, 236, 7, 28, 10, 233, 9, 24, 4, 38, 33976, 679, 11, 24, 4, 20, 2701, 34, 57, 13402, 13, 4188, 1282, 20, 6935, 6, 11, 61, 37, 1974, 10, 997, 3142, 4, 91, 21, 7076, 13, 41, 5887, 13, 39, 774, 25, 930, 7875, 8781, 7871, 11, 9693, 20, 5562, 11, 4013, 4, 5524, 26, 37, 21, 24506, 154, 5, 2568, 3049, 4188, 191, 61, 32887, 1626, 19, 5, 15300, 11, 902, 1014, 4, 3139, 10, 33129, 6, 53, 63, 5, 2373, 12, 90, 15374, 33129, 38, 548, ...]</td>\n",
       "      <td>[0, 19842, 23186, 5524, 34, 26, 37, 1072, 117, 233, 11, 5, 1569, 539, 4188, 191, 6, 1765, 5, 4188, 22, 620, 35820, 113, 8, 22, 40747, 2088, 845, 2]</td>\n",
       "      <td>Joaquin Phoenix has said he wants no part in the movie industry awards season, calling the awards \"stupid\" and \"subjective\".</td>\n",
       "    </tr>\n",
       "    <tr>\n",
       "      <th>1</th>\n",
       "      <td>[1, 1, 1, 1, 1, 1, 1, 1, 1, 1, 1, 1, 1, 1, 1, 1, 1, 1, 1, 1, 1, 1, 1, 1, 1, 1, 1, 1, 1, 1, 1, 1, 1, 1, 1, 1, 1, 1, 1, 1, 1, 1, 1, 1, 1, 1, 1, 1, 1, 1, 1, 1, 1, 1, 1, 1, 1, 1, 1, 1, 1, 1, 1, 1, 1, 1, 1, 1, 1, 1, 1, 1, 1, 1, 1, 1, 1, 1, 1, 1, 1, 1, 1, 1, 1, 1, 1, 1, 1, 1, 1, 1, 1, 1, 1, 1, 1, 1, 1, 1, ...]</td>\n",
       "      <td>The 23-year-old striker, on loan from Al Hilal, pounced on a sloppy pass from defender Daniel Ayala and slotted a fine finish past Darren Randolph. Boro forward Martin Braithwaite should have levelled at Molineux before the break, but headed wide while unmarked. Britt Assombalonga was denied by goalkeeper John Ruddy as Boro pressed late on and Wolves held on for victory. Wolves new manager Nuno Espirito Santo handed starts to seven summer acquisitions, including the Championships record signing Ruben Neves in midfield. Finding a prolific striker was one of Nunos priorities ahead of the campaign, after midfielder Dave Edwards and winger Helder Costa, missing through injury, topped Wolves scoring charts last season. And it was former Brazil under-17 player Bonatini who made the difference with the most composed of strikes after some terrible defending. Ayala attempted to pass the ball to Ben Gibson, but it was woefully short allowing Bonatini to nip in and place his effort into the bottom corner. Middlesbrough also struggled to find the back of the net in 2016-17, scoring just 27 times as they were relegated from the Premier League. New boss Garry Monk started three of his new forwards - Ashley Fletcher, Assombalonga and Denmark international Braithwaite - but they could not find a way through a resolute Wolves defence. Wolves head coach Nuno Espirito Santo: It was a tough game and in the first half we played very well. We controlled the game and this is the way we should work. I think that we deserved the three points and we are pleased with the boys. We are still not the final product and every game will be better. This is the line that we want from the boys, always progress, always get better. Middlesbrough boss Garry Monk: In the first half Wolves were the better team and we made too many mistakes and obviously one of them led to a goal. But I thought we were the better team in the second half and we upped our level of urgency. We need that at the start of games. We had the best chances in the game and on any other day we could have taken one or two of them. That is football and is sometimes the way that it works out. Match ends, Wolverhampton Wanderers 1, Middlesbrough 0. Second Half ends, Wolverhampton Wanderers 1, Middlesbrough 0. Adam Forshaw (Middlesbrough) is shown the yellow card for a bad foul. Foul by Adam Forshaw (Middlesbrough). Jordan Graham (Wolverhampton Wanderers) wins a free kick on the left wing. Hand ball by David Edwards (Wolverhampton Wanderers). Offside, Wolverhampton Wanderers. Matt Doherty tries a through ball, but David Edwards is caught offside. Foul by Daniel Ayala (Middlesbrough). Jordan Graham (Wolverhampton Wanderers) wins a free kick on the left wing. Attempt missed. Cyrus Christie (Middlesbrough) right footed shot from outside the box is just a bit too high. Substitution, Wolverhampton Wanderers. Jordan Graham replaces Diogo Jota. Attempt missed. Romain Saiss (Wolverhampton Wanderers) left footed shot from outside the box is too high. Substitution, Middlesbrough. Rudy Gestede replaces Jonny Howson. Attempt saved. Patrick Bamford (Middlesbrough) left footed shot from outside the box is saved in the centre of the goal. Assisted by Jonny Howson. Substitution, Wolverhampton Wanderers. David Edwards replaces Bright Enobakhare. Romain Saiss (Wolverhampton Wanderers) wins a free kick in the defensive half. Foul by Cyrus Christie (Middlesbrough). Attempt blocked. Rúben Neves (Wolverhampton Wanderers) right footed shot from outside the box is blocked. Corner,  Middlesbrough. Conceded by John Ruddy. Attempt saved. Britt Assombalonga (Middlesbrough) right footed shot from the centre of the box is saved in the centre of the goal. Assisted by Patrick Bamford with a through ball. Attempt missed. Jonny Howson (Middlesbrough) right footed shot from outside the box misses to the left. Assisted by Adam Clayton following a set piece situation. Foul by Willy Boly (Wolverhampton Wanderers). Patrick Bamford (Middlesbrough) wins a free kick on the right wing. Attempt blocked. Willy Boly (Wolverhampton Wanderers) left footed shot from the centre of the box is blocked. Assisted by Barry Douglas with a cross. Corner,  Wolverhampton Wanderers. Conceded by Adam Clayton. Attempt blocked. Bright Enobakhare (Wolverhampton Wanderers) left footed shot from outside the box is blocked. Attempt missed. Romain Saiss (Wolverhampton Wanderers) left footed shot from the right side of the six yard box is close, but misses to the right. Assisted by Barry Douglas with a cross following a corner. Corner,  Wolverhampton Wanderers. Conceded by George Friend. Substitution, Middlesbrough. Adam Forshaw replaces Marten de Roon. Offside, Middlesbrough. Marten de Roon tries a through ball, but Adam Clayton is caught offside. Corner,  Middlesbrough. Conceded by Conor Coady. Diogo Jota (Wolverhampton Wanderers) wins a free kick on the left wing. Foul by Cyrus Christie (Middlesbrough). Corner,  Wolverhampton Wanderers. Conceded by Marten de Roon. Adam Clayton (Middlesbrough) is shown the yellow card for a bad foul. Diogo Jota (Wolverhampton Wanderers) wins a free kick in the defensive half. Foul by Adam Clayton (Middlesbrough). Substitution, Wolverhampton Wanderers. Nouha Dicko replaces Léo Bonatini. Substitution, Middlesbrough. Patrick Bamford replaces Ashley Fletcher. Attempt missed. Rúben Neves (Wolverhampton Wanderers) right footed shot from outside the box misses to the left following a corner.</td>\n",
       "      <td>40760787</td>\n",
       "      <td>[0, 133, 883, 12, 180, 12, 279, 5955, 6, 15, 2541, 31, 726, 14909, 337, 6, 181, 20155, 15, 10, 26654, 1323, 31, 5142, 3028, 5847, 2331, 8, 3369, 14265, 10, 2051, 2073, 375, 11335, 24500, 4, 7943, 139, 556, 1896, 9076, 3432, 2739, 1459, 197, 33, 16066, 9970, 23, 256, 18675, 7073, 137, 5, 1108, 6, 53, 3475, 1810, 150, 30161, 4, 16278, 6331, 5223, 20774, 102, 21, 2296, 30, 7551, 610, 248, 24471, 25, 7943, 139, 11224, 628, 15, 8, 13889, 547, 15, 13, 1124, 4, 13889, 92, 1044, 234, 25217, 11631, 30710, 139, 8550, 139, 4507, 2012, ...]</td>\n",
       "      <td>[0, 31004, 811, 12520, 5520, 415, 2531, 1008, 15, 39, 2453, 7, 492, 13889, 41, 1273, 12, 1208, 3261, 339, 136, 20421, 428, 10344, 4, 2]</td>\n",
       "      <td>Brazilian Leo Bonatini scored on his debut to give Wolves an opening-day Championship win against Middlesbrough.</td>\n",
       "    </tr>\n",
       "    <tr>\n",
       "      <th>2</th>\n",
       "      <td>[1, 1, 1, 1, 1, 1, 1, 1, 1, 1, 1, 1, 1, 1, 1, 1, 1, 1, 1, 1, 1, 1, 1, 1, 1, 1, 1, 1, 1, 1, 1, 1, 1, 1, 1, 1, 1, 1, 1, 1, 1, 1, 1, 1, 1, 1, 1, 1, 1, 1, 1, 1, 1, 1, 1, 1, 1, 1, 1, 1, 1, 1, 1, 1, 1, 1, 1, 1, 1, 1, 1, 1, 1, 1, 1, 1, 1, 1, 1, 1, 1, 1, 1, 1, 1, 1, 1, 1, 1, 1, 1, 1, 1, 1, 1, 1, 1, 1, 1, 1, ...]</td>\n",
       "      <td>Sinead Higgins, 37, and son Oisin ODriscoll were found after police forced their way into the house in The Fairway, Ruislip, west London on Wednesday. Police responded to concerns for the pairs welfare at about 10:50 GMT. A Met Police spokeswoman said detectives do not believe a third party was involved in the deaths. Det Insp Dave Bolton said: Inquiries so far lead us to believe there is a likelihood that the tragic events that led to the deaths do not involve a third party. A post-mortem examination is scheduled to take place on Friday. Next of kin have been informed.</td>\n",
       "      <td>38329030</td>\n",
       "      <td>[0, 104, 833, 625, 19422, 6, 2908, 6, 8, 979, 384, 29761, 384, 14043, 4473, 3937, 58, 303, 71, 249, 1654, 49, 169, 88, 5, 790, 11, 20, 3896, 1970, 6, 10318, 13714, 1588, 6, 3072, 928, 15, 307, 4, 522, 2334, 7, 1379, 13, 5, 15029, 6642, 23, 59, 158, 35, 1096, 5050, 4, 83, 4369, 522, 3582, 26, 10412, 109, 45, 679, 10, 371, 537, 21, 963, 11, 5, 3257, 4, 11185, 19190, 4475, 12160, 26, 35, 28727, 19947, 98, 444, 483, 201, 7, 679, 89, 16, 10, 11801, 14, 5, 8805, 1061, 14, 669, 7, 5, 3257, ...]</td>\n",
       "      <td>[0, 133, 3738, 9, 10, 985, 8, 69, 707, 12, 180, 12, 279, 979, 33, 57, 2967, 23, 49, 184, 4, 2]</td>\n",
       "      <td>The bodies of a mother and her seven-year-old son have been discovered at their home.</td>\n",
       "    </tr>\n",
       "  </tbody>\n",
       "</table>"
      ],
      "text/plain": [
       "<IPython.core.display.HTML object>"
      ]
     },
     "metadata": {},
     "output_type": "display_data"
    }
   ],
   "source": [
    "display_function(tokenized_xsum['test'])"
   ]
  },
  {
   "cell_type": "markdown",
   "metadata": {},
   "source": [
    "# "
   ]
  },
  {
   "cell_type": "code",
   "execution_count": 71,
   "metadata": {},
   "outputs": [
    {
     "data": {
      "text/plain": [
       "{'attention_mask': Sequence(feature=Value(dtype='int8', id=None), length=-1, id=None),\n",
       " 'document': Value(dtype='string', id=None),\n",
       " 'id': Value(dtype='string', id=None),\n",
       " 'input_ids': Sequence(feature=Value(dtype='int32', id=None), length=-1, id=None),\n",
       " 'labels': Sequence(feature=Value(dtype='int64', id=None), length=-1, id=None),\n",
       " 'summary': Value(dtype='string', id=None)}"
      ]
     },
     "execution_count": 71,
     "metadata": {},
     "output_type": "execute_result"
    }
   ],
   "source": [
    "tokenized_xsum['test'].features"
   ]
  },
  {
   "cell_type": "markdown",
   "metadata": {},
   "source": [
    "# Compare Machine Summaries to Professional Human Written Summaries\n",
    "To score our machine generated summaries against professional human written ones, we compute the cosine similarities between embeddings to measure the semantic similaritiy between two texts. The comparisons we will be marking include: human summary to machine summary, human summary to original document, and machine summary to original document. Initially, we wanted to make the maximum length in each machine summary the same length as the summaries in the XSUM. However, because the length of the XSUM summaries are so short (hence the name extreme summaries), the model  only provided the first words of every article. This makes sense because BART's pretraining likely influenced it's methodology to recognize that the start of text often contains valuable summarization inforamtion. As a result we opted for a length of 60 words to keep it brief but allow the model to output enough context to be meaningful. The average summaries for our models are outlined below (at ~19 words per human summary)"
   ]
  },
  {
   "cell_type": "markdown",
   "metadata": {},
   "source": [
    "We are going to focus on 10 articles and build 10 models to inspect each pair individually"
   ]
  },
  {
   "cell_type": "code",
   "execution_count": 72,
   "metadata": {},
   "outputs": [],
   "source": [
    "def listToString(s): \n",
    "    str1 = \"\" \n",
    "    \n",
    "    for ele in s: \n",
    "        str1 += ele  \n",
    " \n",
    "    return str1 "
   ]
  },
  {
   "cell_type": "code",
   "execution_count": 73,
   "metadata": {},
   "outputs": [],
   "source": [
    "article1 = tokenized_xsum['test']['document'][0]\n",
    "article2 = tokenized_xsum['test']['document'][123]\n",
    "article3 = tokenized_xsum['test']['document'][99]\n",
    "article4 = tokenized_xsum['test']['document'][1100]\n",
    "article5 = tokenized_xsum['test']['document'][1118]\n",
    "article6 = tokenized_xsum['test']['document'][45]\n",
    "article7 = tokenized_xsum['test']['document'][13]\n",
    "article8 = tokenized_xsum['test']['document'][69]\n",
    "article9 = tokenized_xsum['test']['document'][27]\n",
    "article10 = tokenized_xsum['test']['document'][9]\n",
    "\n",
    "summary1 = tokenized_xsum['test']['summary'][0]\n",
    "summary2 = tokenized_xsum['test']['summary'][123]\n",
    "summary3 = tokenized_xsum['test']['summary'][99]\n",
    "summary4 = tokenized_xsum['test']['summary'][1100]\n",
    "summary5 = tokenized_xsum['test']['summary'][1118]\n",
    "summary6 = tokenized_xsum['test']['summary'][45]\n",
    "summary7 = tokenized_xsum['test']['summary'][13]\n",
    "summary8 = tokenized_xsum['test']['summary'][69]\n",
    "summary9 = tokenized_xsum['test']['summary'][27]\n",
    "summary10 = tokenized_xsum['test']['summary'][9]\n"
   ]
  },
  {
   "cell_type": "code",
   "execution_count": 74,
   "metadata": {},
   "outputs": [
    {
     "name": "stdout",
     "output_type": "stream",
     "text": [
      "The total number of words in these summaries is:  186\n",
      "The average words per summary is:  18.6\n"
     ]
    }
   ],
   "source": [
    "summaryList = [summary1.split(),\n",
    "summary2.split(), \n",
    "summary3.split(), \n",
    "summary4.split(),\n",
    "summary5.split(),\n",
    "summary6.split(),\n",
    "summary7.split(), \n",
    "summary8.split(),\n",
    "summary9.split(), \n",
    "summary10.split()]\n",
    "\n",
    "count = sum( [ len(listElem) for listElem in summaryList])\n",
    "\n",
    "print('The total number of words in these summaries is: ', count)\n",
    "print('The average words per summary is: ', count / len(summaryList))"
   ]
  },
  {
   "cell_type": "markdown",
   "metadata": {},
   "source": [
    "## We had 50% of our models run with the parameters early_stopping=True and 50% with early_stopping=False to see if this would provide any meaningful difference"
   ]
  },
  {
   "cell_type": "markdown",
   "metadata": {},
   "source": [
    "## Model 1"
   ]
  },
  {
   "cell_type": "code",
   "execution_count": 75,
   "metadata": {},
   "outputs": [],
   "source": [
    "input1 = tokenizer(article1, return_tensors='pt', truncation=True)\n",
    "summary_ids1 = model.generate(input1['input_ids'], max_length=60)\n",
    "machineSummary1 = ([tokenizer.decode(g, skip_special_tokens=True) for g in summary_ids1])"
   ]
  },
  {
   "cell_type": "code",
   "execution_count": 76,
   "metadata": {},
   "outputs": [
    {
     "name": "stdout",
     "output_type": "stream",
     "text": [
      "tensor([[0.7313]])\n",
      "tensor([[0.7645]])\n",
      "tensor([[0.9574]])\n"
     ]
    }
   ],
   "source": [
    "machineSummary1 = listToString(machineSummary1)\n",
    "original1 = listToString(article1)\n",
    "\n",
    "comparison1 = [summary1, machineSummary1, original1]\n",
    "token_model = SentenceTransformer('distilbert-base-nli-mean-tokens')\n",
    "comparison_embeddings1 = token_model.encode(comparison1)\n",
    "print(util.pytorch_cos_sim(comparison_embeddings1[0], comparison_embeddings1[1])) # human summary to machine summary similarity\n",
    "print(util.pytorch_cos_sim(comparison_embeddings1[0], comparison_embeddings1[2])) # human summary to original article\n",
    "print(util.pytorch_cos_sim(comparison_embeddings1[1], comparison_embeddings1[2])) # machine summary to original article"
   ]
  },
  {
   "cell_type": "code",
   "execution_count": 77,
   "metadata": {},
   "outputs": [
    {
     "data": {
      "text/plain": [
       "['There is a \"chronic\" need for more housing for prison leavers in Wales, according to a charity.',\n",
       " 'Prison Link Cymru had 1,099 referrals in 2015-16 and said some ex-offenders were living rough for up to a year before finding suitable accommodation. Workers at the charity claim investment in housing would be cheaper than jailing homeless repeat offenders. Welsh Government said',\n",
       " 'Prison Link Cymru had 1,099 referrals in 2015-16 and said some ex-offenders were living rough for up to a year before finding suitable accommodation. Workers at the charity claim investment in housing would be cheaper than jailing homeless repeat offenders. The Welsh Government said more people than ever were getting help to address housing problems. Changes to the Housing Act in Wales, introduced in 2015, removed the right for prison leavers to be given priority for accommodation. Prison Link Cymru, which helps people find accommodation after their release, said things were generally good for women because issues such as children or domestic violence were now considered. However, the same could not be said for men, the charity said, because issues which often affect them, such as post traumatic stress disorder or drug dependency, were often viewed as less of a priority. Andrew Stevens, who works in Welsh prisons trying to secure housing for prison leavers, said the need for accommodation was chronic. Theres a desperate need for it, finding suitable accommodation for those leaving prison there is just a lack of it everywhere, he said. It could take six months to a year, without a lot of help they could be on the streets for six months. When you think of the consequences of either being on the street, especially with the cold weather at the moment or you may have a roof over your head, sometimes there is only one choice. Mr Stevens believes building more one-bedroom flats could help ease the problem. The average price is a hundred pounds a week to keep someone in a rented flat, prison is a lot more than that so I would imagine it would save the public purse quite a few pounds, he said. Official figures show 830 one-bedroom properties were built in the year to March 2016, of an overall total of 6,900 new properties in Wales. Marc, 50, who has been in and out of prison for the past 20 years for burglary offences, said he struggled to find accommodation each time he was released. He said he would ask himself: Where am I going to stay? Where am I going to live? Have I got somewhere where I can see my daughter. Youre put out among the same sort of people doing the same sort of thing, and its difficult, its difficult to get away from it. Its like every man for himself, theres nothing. Marc has now found stable accommodation with homeless charity Emmaus and said it had been life changing. You feel safe, you got hot food, youve got company of people in similar situations to yourself but all dealing with different issues. Its a constructive, helpful atmosphere, he said. Tom Clarke, chief executive of Emmaus South Wales, agreed there was not enough support available. We do still see [people] homeless on the streets, so clearly they havent got accommodation and havent got provision, he said. I think the key is connecting people with the services they need. I dont delude myself that Emmaus can offer a one size fits all for everyone, we cant. But there must be other opportunities and given suitable encouragement I believe that can and should happen. A Welsh Government spokesman said the national pathway for homeless services to children, young people and adults in the secure estate had prevented many people from losing their home whilst serving their prison sentence. It added there were already significant demands for one-bedroom flats across the public and private sector and it was providing 20,000 new affordable homes in the next five years.']"
      ]
     },
     "execution_count": 77,
     "metadata": {},
     "output_type": "execute_result"
    }
   ],
   "source": [
    "comparison1"
   ]
  },
  {
   "cell_type": "markdown",
   "metadata": {},
   "source": [
    "# Model 2"
   ]
  },
  {
   "cell_type": "code",
   "execution_count": 78,
   "metadata": {},
   "outputs": [],
   "source": [
    "input2 = tokenizer(article2, return_tensors='pt', truncation=True)\n",
    "summary_ids2 = model.generate(input2['input_ids'], max_length=60)\n",
    "machineSummary2 = ([tokenizer.decode(g, skip_special_tokens=True) for g in summary_ids2])"
   ]
  },
  {
   "cell_type": "code",
   "execution_count": 79,
   "metadata": {},
   "outputs": [
    {
     "name": "stdout",
     "output_type": "stream",
     "text": [
      "tensor([[0.7189]])\n",
      "tensor([[0.5850]])\n",
      "tensor([[0.6048]])\n"
     ]
    }
   ],
   "source": [
    "machineSummary2 = listToString(machineSummary2)\n",
    "original2 = listToString(article2)\n",
    "\n",
    "comparison2 = [summary2, machineSummary2, original2]\n",
    "token_model = SentenceTransformer('distilbert-base-nli-mean-tokens')\n",
    "comparison_embeddings2 = token_model.encode(comparison2)\n",
    "print(util.pytorch_cos_sim(comparison_embeddings2[0], comparison_embeddings2[1])) # human summary to machine summary similarity\n",
    "print(util.pytorch_cos_sim(comparison_embeddings2[0], comparison_embeddings2[2])) # human summary to original article\n",
    "print(util.pytorch_cos_sim(comparison_embeddings2[1], comparison_embeddings2[2])) # machine summary to original article"
   ]
  },
  {
   "cell_type": "code",
   "execution_count": 80,
   "metadata": {},
   "outputs": [
    {
     "data": {
      "text/plain": [
       "[\"For a man often described as capricious, Tyson Fury's chaotic reign as world heavyweight champion was strangely predictable.\",\n",
       " 'Fury has been speaking about his mental health struggles for years. The repeated claims from Furys camp that his victory was downplayed by the British media, and that they had an agenda against him from the outset, are delusional. Fury is not the first boxer to lose motivation having reached',\n",
       " 'Media playback is not supported on this device Since dethroning Wladimir Klitschko in Dusseldorf last November, the Briton has resembled a runaway lorry - smashing through road blocks and red lights, skittling well-meaning people frantically waving warning flags, and only slowing down to shout obscenities and honk his horn, the louder the better. But that can happen when your mind is scrambled and you dont know whats what: you might be in the drivers seat but your hands arent on the wheel, your feet are up on the dashboard and theres a brick on the accelerator pedal. Another way of looking at it is that Furys crash actually came on that fateful night in Germany and he has been spewing smoke ever since. The morning after the Englishmans stunning upset of Klitschko and his acquisition of the WBA, IBF and WBO belts, he admitted he might struggle to cope. But not even those closest to him could have anticipated how true that would prove. Having beaten the various boxing authorities to the punch and relinquished the belts before being banned, stripped or both, its anyones guess as to when - if ever - hell have his keys back and his engine revving again. Fury has been speaking about his mental health struggles for years, with disarming and often alarming frankness. So his pronouncement immediately after his victory over Klitschko and the recent news that he was withdrawing from the scheduled rematch because of depression was not a shock. When I interviewed him in 2013, he described himself as an all-action man in anything I do. If Im drinking, Im drinking until I cant stand up. If Im going out for Chinese, Im going to an all-you-can-eat Chinese. If Im eating cake, Im eating the whole cake. I dont know what youd call me. An idiot, maybe? Hardly surprising, then, that having fulfilled his dream of winning the world heavyweight crown, Fury would lose focus. Most people having fallen down drunk or eaten a whole cake would steer clear of booze and Battenbergs for a while. But Fury is not most people. Fury is not the first boxer to lose motivation having reached the pinnacle of the sport, and he certainly wont be the last. Not many people climb Everest twice. The repeated claims from Furys camp that his victory was downplayed by the British media, and that they had an agenda against him from the outset, are delusional After pulling off one of the greatest shocks in sporting history by beating the seemingly invincible Mike Tyson in 1990, Buster Douglas didnt train much, got fat and lost the world heavyweight crown to Evander Holyfield in his first defence. The American promptly retired, almost doubled in weight, then nearly died after falling into a diabetic coma before being struck down by depression. Same old, same old. Jess Willards victory over the great Jack Johnson in 1915 was almost as unbelievable as Douglass upset of Tyson, and his reign even more shameful. Willard clearly didnt fancy fighting much, defending the world heavyweight crown once in four years before being bashed up by the great Jack Dempsey. Sometimes depression can be triggered by a lack of motivation for the thing that defines you, sometimes that lack of motivation is triggered by depression. Either way, Fury claims he hasnt been near a gym for months and has been drinking like a fish and hoovering up cocaine instead, in a forlorn bid to mask the pain. Media playback is not supported on this device In an interview with Rolling Stone magazine this month, Fury accused the British media of conducting a witch hunt against him and the British public of racism. It is important to separate the different links in Furys sometimes rambling trains of thought. Before and after his victory over Klitschko, sports writers openly discussed whether Fury should be saved from himself. Different journalists operate under different editorial guidelines, but the view of most was that they had been sent to Germany to report on a fight, not Furys controversial outbursts. As such, the repeated claims from Furys camp that his victory was downplayed by the British media, and that they had an agenda against him from the outset, are delusional. Almost every boxing writer proclaimed Furys performance as one of the finest ever by a British fighter, and they were right. But the problem with a siege mentality is that you forget whats happening beyond the castle walls, who your real friends are, and paranoia sets in. When Fury threatened violence against a journalist and later took aim at bisexual, transsexual and Jewish people, it was internet vloggers - to whom he had granted intimate access - who provided the platform. The so-called mainstream media (newspapers and major broadcasters) had been frozen out, ironically because they had dared to report what he had told those same vloggers. Furys camp would do well to memorise a quote attributed to George Orwell: Journalism is printing what someone else does not want printing. Everything else is public relations. How many times has Fury been saved by journalistic self-censorship? In threatening that journalist, the Mail on Sundays Oliver Holt, for reporting that he had compared homosexuality to paedophilia, Fury betrayed his sense of entitlement - not only because of his feats in the ring, but because of his religious convictions. If its in the Bible, how dare anyone question his beliefs? If you make questionable statements about gay people or Jews or women, the media will come down on you, whether you are a fine boxer, a deeply religious man, a nice bloke really, none of the above or all of them. Furys Traveller heritage doesnt come into it, as least as far as most of the media is concerned. I know Tyson personally and hes a really nice guy, says Ricky Hatton, Furys fellow Mancunian and another boxer who has struggled with depression. But sometimes he puts his mouth into gear before his brain and when someone puts a camera in front of him he feels he has to say something outrageous. Fury fans frequently claim that Anthony Joshua is given preferential treatment by the media, but this is because the IBF heavyweight champion - Fury was stripped of that belt shortly after winning it because he would not face the federations mandatory challenger - largely conducts himself like a gentleman. As for Joshuas brushes with the law, they have been covered at length in the media and he has clearly learnt from them. However, some of the racial abuse Fury receives on social media is despicable. When you are called every name under the sun on a daily basis, it is likely to have an effect on your mental wellbeing. No wonder, as Fury also stated in his interview with Rolling Stone, that he feels like everyone is out to get him. On Wednesday, the British Boxing Board of Control (BBBofC) met to discuss what should be done with Fury, and has suspended his licence, pending a meeting with him. It could hardly do otherwise. It did the same to Hatton in 2010, also following allegations of cocaine use, and, as the BBBofCs general secretary Robert Smith has pointed out, cocaine is against the law of the land. There was also Furys alleged use of performance-enhancing drugs and a subsequent ban to consider (Fury has an appeal hearing scheduled in November), as well as the allegation that he refused to take a drugs test (a misdemeanour that can lead to a four-year ban) and the argument that a man with severe mental health issues shouldnt be anywhere near a boxing ring. It should also be remembered that the BBBofC has already fined Fury twice for misconduct and that it has boxings image to think about - as mad as that sounds. Even if Fury hadnt voluntarily given up his belts, the WBA and WBO would have stripped him of them. It might seem callous, but the sanctioning bodies are businesses, the heavyweight belts are their biggest money-spinners and it is only fair that other boxers should be allowed to fight for them. It makes no difference whether a boxer has meningitis, a broken leg or mental health issues, the sport must move on. As WBO chief Jose Izquierdo put it: We cant have a belt held hostage. One can only hope that, during his absence from the ring, Fury gets the help he so desperately needs and returns fitter and more focused. Being someone who lives by the seat of his pants and for the moment, this could be the end of him, was Hattons grim assessment. He doesnt like boxing and finds the training hard. Its not looking good. But I was in a dark place, didnt care if I lived or died. I did very well in boxing but near enough everything wrong in life. The only way I got out of it was by asking for help. I fought through it and I hope Tyson can do the same. Fingers crossed that Fury will be remembered for that fine performance against Klitschko in Dusseldorf - and for many fine performances in the future - rather than as a wreck, spewing smoke on the side of the road as bright lights flash by.']"
      ]
     },
     "execution_count": 80,
     "metadata": {},
     "output_type": "execute_result"
    }
   ],
   "source": [
    "comparison2"
   ]
  },
  {
   "cell_type": "markdown",
   "metadata": {},
   "source": [
    "# Model 3"
   ]
  },
  {
   "cell_type": "code",
   "execution_count": 81,
   "metadata": {},
   "outputs": [],
   "source": [
    "input3 = tokenizer(article3, return_tensors='pt', truncation=True)\n",
    "summary_ids3 = model.generate(input3['input_ids'], max_length=60)\n",
    "machineSummary3 = ([tokenizer.decode(g, skip_special_tokens=True) for g in summary_ids3])"
   ]
  },
  {
   "cell_type": "code",
   "execution_count": 82,
   "metadata": {},
   "outputs": [
    {
     "name": "stdout",
     "output_type": "stream",
     "text": [
      "tensor([[0.5551]])\n",
      "tensor([[0.7642]])\n",
      "tensor([[0.8500]])\n"
     ]
    }
   ],
   "source": [
    "machineSummary3 = listToString(machineSummary3)\n",
    "original3 = listToString(article3)\n",
    "\n",
    "comparison3 = [summary3, machineSummary3, original3]\n",
    "token_model = SentenceTransformer('distilbert-base-nli-mean-tokens')\n",
    "comparison_embeddings3 = token_model.encode(comparison3)\n",
    "print(util.pytorch_cos_sim(comparison_embeddings3[0], comparison_embeddings3[1])) # human summary to machine summary similarity\n",
    "print(util.pytorch_cos_sim(comparison_embeddings3[0], comparison_embeddings3[2])) # human summary to original article\n",
    "print(util.pytorch_cos_sim(comparison_embeddings3[1], comparison_embeddings3[2])) # machine summary to original article"
   ]
  },
  {
   "cell_type": "code",
   "execution_count": 83,
   "metadata": {},
   "outputs": [
    {
     "data": {
      "text/plain": [
       "['A barrister who was due to move into his own chambers in Huddersfield has pleaded guilty to supplying cocaine.',\n",
       " 'Omar Khan, 31, had worked at The Johnson Partnership in Nottingham for five years. Partner Digby Johnson said he did not represent Khan, who had set up his own office and was set to leave the company. Erlin Manahasa, Albert Dibra and Naza',\n",
       " 'Omar Khan, 31, had worked at The Johnson Partnership in Nottingham for five years before he was arrested. Erlin Manahasa, Albert Dibra and Nazaquat Ali joined Khan in admitting the same charge, between 1 October  and 4 December last year, at Nottingham Crown Court. They are due to be sentenced on 15 April. Updates on this story and more from Nottinghamshire The court heard the case involved the recovery of 1kg (2.2lb) of cocaine. Digby Johnson, a partner at the Johnson firm, confirmed they did not represent Khan - who had set up his own office and was set to leave the company. I still find it hard to believe he could do something as stupid as involve himself in drugs and people who were heavily involved in drugs, Mr Johnson said. Im just at a loss. You do question everything youve ever believed about anybody. Mr Johnson also described Khan, of William Street, Huddersfield, as a lovely guy who was incredibly hard-working. He would put in hour after hour, he added. He was keen to progress and impress. Khan appeared at the court via video link to admit conspiracy to supply the Class A drug. Manahasa, of no fixed address, Dibra, of Joyce Avenue, Nottingham, and Ali, of Chard Street, Nottingham, were remanded in custody following the hearing.']"
      ]
     },
     "execution_count": 83,
     "metadata": {},
     "output_type": "execute_result"
    }
   ],
   "source": [
    "comparison3"
   ]
  },
  {
   "cell_type": "markdown",
   "metadata": {},
   "source": [
    "# Model 4"
   ]
  },
  {
   "cell_type": "code",
   "execution_count": 84,
   "metadata": {},
   "outputs": [],
   "source": [
    "input4 = tokenizer(article4, return_tensors='pt', truncation=True)\n",
    "summary_ids4 = model.generate(input4['input_ids'], max_length=60)\n",
    "machineSummary4 = ([tokenizer.decode(g, skip_special_tokens=True) for g in summary_ids4])"
   ]
  },
  {
   "cell_type": "code",
   "execution_count": 85,
   "metadata": {},
   "outputs": [
    {
     "name": "stdout",
     "output_type": "stream",
     "text": [
      "tensor([[0.5436]])\n",
      "tensor([[0.6342]])\n",
      "tensor([[0.8264]])\n"
     ]
    }
   ],
   "source": [
    "machineSummary4 = listToString(machineSummary4)\n",
    "original4 = listToString(article4)\n",
    "\n",
    "comparison4 = [summary4, machineSummary4, original4]\n",
    "token_model = SentenceTransformer('distilbert-base-nli-mean-tokens')\n",
    "comparison_embeddings4 = token_model.encode(comparison4)\n",
    "print(util.pytorch_cos_sim(comparison_embeddings4[0], comparison_embeddings4[1])) # human summary to machine summary similarity\n",
    "print(util.pytorch_cos_sim(comparison_embeddings4[0], comparison_embeddings4[2])) # human summary to original article\n",
    "print(util.pytorch_cos_sim(comparison_embeddings4[1], comparison_embeddings4[2])) # machine summary to original article"
   ]
  },
  {
   "cell_type": "code",
   "execution_count": 86,
   "metadata": {},
   "outputs": [
    {
     "data": {
      "text/plain": [
       "['Star Wars fans are being given the opportunity to become Jedi Knights and learn how to wield lightsabers in combat.',\n",
       " 'The sport began eight years ago in Italy but has only just come to England with the first classes in Cheltenham. Instructor Jordan Court said people were already hooked. The lightsabers used in the sport are all hand-made and are provided for use during the classes.',\n",
       " 'LudoSport has opened its first academy teaching seven forms of combat from the Star Wars world using flexible blades mounted on weighted hilts. The sport began eight years ago in Italy but has only just come to England with the first classes in Cheltenham. Instructor Jordan Court said people were already hooked. The classes in Cheltenham began last month. So far there are six pupils, but this number is expected to increase. Mr Court attended an international boot camp to learn the different stages of the sport which range in characteristics from defensive in stage one to aggressive and flamboyant in stage four and unpredictable in stage seven. The 34-year-old said fighting with an elegant weapon for a more civilized age was a childhood dream come true. My brother and I used to steal our Mums bamboo garden canes to fight with, he said. The lightsabers used in the sport are all hand-made and are provided for use during the classes, Mr Court said. The sport is so new to England that there have only been a handful of classes so far but Mr Court said there were plans to begin teaching in Bristol by the end of October... if the Force was with the academy. Lightsaber Combat Academy There are several ranks for those wishing to become a fully-fledged Jedi Knight:']"
      ]
     },
     "execution_count": 86,
     "metadata": {},
     "output_type": "execute_result"
    }
   ],
   "source": [
    "comparison4"
   ]
  },
  {
   "cell_type": "markdown",
   "metadata": {},
   "source": [
    "# Model 5"
   ]
  },
  {
   "cell_type": "code",
   "execution_count": 87,
   "metadata": {},
   "outputs": [],
   "source": [
    "input5 = tokenizer(article5, return_tensors='pt', truncation=True)\n",
    "summary_ids5 = model.generate(input5['input_ids'], max_length=60)\n",
    "machineSummary5 = ([tokenizer.decode(g, skip_special_tokens=True) for g in summary_ids5])"
   ]
  },
  {
   "cell_type": "code",
   "execution_count": 88,
   "metadata": {},
   "outputs": [
    {
     "name": "stdout",
     "output_type": "stream",
     "text": [
      "tensor([[0.5847]])\n",
      "tensor([[0.6152]])\n",
      "tensor([[0.9742]])\n"
     ]
    }
   ],
   "source": [
    "machineSummary5 = listToString(machineSummary5)\n",
    "original5 = listToString(article5)\n",
    "\n",
    "comparison5 = [summary5, machineSummary5, original5]\n",
    "token_model = SentenceTransformer('distilbert-base-nli-mean-tokens')\n",
    "comparison_embeddings5 = token_model.encode(comparison5)\n",
    "print(util.pytorch_cos_sim(comparison_embeddings5[0], comparison_embeddings5[1])) # human summary to machine summary similarity\n",
    "print(util.pytorch_cos_sim(comparison_embeddings5[0], comparison_embeddings5[2])) # human summary to original article\n",
    "print(util.pytorch_cos_sim(comparison_embeddings5[1], comparison_embeddings5[2])) # machine summary to original article"
   ]
  },
  {
   "cell_type": "code",
   "execution_count": 89,
   "metadata": {},
   "outputs": [
    {
     "data": {
      "text/plain": [
       "['Awareness rides are taking place to try and cut the number of people on horseback injured or killed on roads.',\n",
       " 'The Pass Wide and Slow Wales campaign has collected 1,300 signatures on the assemblys e-petition website. It wants an annual road safety awareness campaign explaining to motorists how to react around horses. The British Horse Society found that since 2010 there have been 2,000 road accidents in',\n",
       " 'The Pass Wide and Slow Wales campaign has collected 1,300 signatures on the assemblys e-petition website. It wants an annual road safety awareness campaign explaining to motorists how to react around horses. The British Horse Society found that since 2010 there have been 2,000 road accidents in the UK, with 1,500 because of cars passing too closely. As a result of these, 180 horses and 36 riders have died. Awareness rides were planned for Penarth, Vale of Glamorgan, Swansea, Neyland in Pembrokeshire, Machynlleth, Powys, Flintshire and Porthmadog in Gwynedd. Any petition with over 50 signatures is considered by a committee to be debated in the assembly.']"
      ]
     },
     "execution_count": 89,
     "metadata": {},
     "output_type": "execute_result"
    }
   ],
   "source": [
    "comparison5"
   ]
  },
  {
   "cell_type": "markdown",
   "metadata": {},
   "source": [
    "# Model 6"
   ]
  },
  {
   "cell_type": "code",
   "execution_count": 90,
   "metadata": {},
   "outputs": [],
   "source": [
    "input6 = tokenizer(article6, return_tensors='pt', truncation=True)\n",
    "summary_ids6 = model.generate(input6['input_ids'], max_length=60, early_stopping=False)\n",
    "machineSummary6 = ([tokenizer.decode(g, skip_special_tokens=True) for g in summary_ids6])"
   ]
  },
  {
   "cell_type": "code",
   "execution_count": 91,
   "metadata": {},
   "outputs": [
    {
     "name": "stdout",
     "output_type": "stream",
     "text": [
      "tensor([[0.7071]])\n",
      "tensor([[0.7340]])\n",
      "tensor([[0.9464]])\n"
     ]
    }
   ],
   "source": [
    "machineSummary6 = listToString(machineSummary6)\n",
    "original6 = listToString(article6)\n",
    "\n",
    "comparison6 = [summary6, machineSummary6, original6]\n",
    "token_model = SentenceTransformer('distilbert-base-nli-mean-tokens')\n",
    "comparison_embeddings6 = token_model.encode(comparison6)\n",
    "print(util.pytorch_cos_sim(comparison_embeddings6[0], comparison_embeddings6[1])) # human summary to machine summary similarity\n",
    "print(util.pytorch_cos_sim(comparison_embeddings6[0], comparison_embeddings6[2])) # human summary to original article\n",
    "print(util.pytorch_cos_sim(comparison_embeddings6[1], comparison_embeddings6[2])) # machine summary to original article"
   ]
  },
  {
   "cell_type": "code",
   "execution_count": 92,
   "metadata": {},
   "outputs": [
    {
     "data": {
      "text/plain": [
       "['Two new councillors have been elected in a by-election in the City of Edinburgh.',\n",
       " 'SNP topped the vote in the Leith Walk by-election. Scottish Labour won the second seat from the Greens. Deidre Brock of the SNP and Maggie Chapman of the Scottish Greens stood down. It was the first time the Single Transferable Vote (STV) system had',\n",
       " 'It was the first time the Single Transferable Vote (STV) system had been used to select two members in the same ward in a by-election. The SNP topped the vote in the Leith Walk by-election, while Scottish Labour won the second seat from the Greens. The by-election was called after Deidre Brock of the SNP and Maggie Chapman of the Scottish Greens stood down. The SNPs John Lewis Ritchie topped the Leith Walk poll with 2,290 votes. He was elected at stage one in the STV process with a swing in first-preference votes of 7.6% from Labour. Labours Marion Donaldson received 1,623 votes, ahead of Susan Jane Rae of the Scottish Greens on 1,381. Ms Donaldson was elected at stage 10 of the voting process after other preferences had been considered. The by-election was called after Ms Brock stood down when she was elected as the SNP MP for Edinburgh North and Leith in May. Ms Chapman, of the Scottish Greens, resigned from her post to concentrate on standing for the Scottish Parliament in next Mays election. The turnout for the by-election was 25.1%. The SNP also held the Midlothian West seat on Midlothian Council with a swing of 6.3% from Labour. The partys Kelly Parry secured 1,540 votes, ahead of Labours Ian Miller on 945 votes. The by-election was called after Owen Thompson was elected as SNP MP for the Midlothian constituency.']"
      ]
     },
     "execution_count": 92,
     "metadata": {},
     "output_type": "execute_result"
    }
   ],
   "source": [
    "comparison6"
   ]
  },
  {
   "cell_type": "markdown",
   "metadata": {},
   "source": [
    "# Model 7"
   ]
  },
  {
   "cell_type": "code",
   "execution_count": 93,
   "metadata": {},
   "outputs": [],
   "source": [
    "input7 = tokenizer(article7, return_tensors='pt', truncation=True)\n",
    "summary_ids7 = model.generate(input7['input_ids'], max_length=60, early_stopping=False)\n",
    "machineSummary7 = ([tokenizer.decode(g, skip_special_tokens=True) for g in summary_ids7])"
   ]
  },
  {
   "cell_type": "code",
   "execution_count": 94,
   "metadata": {},
   "outputs": [
    {
     "name": "stdout",
     "output_type": "stream",
     "text": [
      "tensor([[0.7054]])\n",
      "tensor([[0.6673]])\n",
      "tensor([[0.9054]])\n"
     ]
    }
   ],
   "source": [
    "machineSummary7 = listToString(machineSummary7)\n",
    "original7 = listToString(article7)\n",
    "\n",
    "comparison7 = [summary7, machineSummary7, original7]\n",
    "token_model = SentenceTransformer('distilbert-base-nli-mean-tokens')\n",
    "comparison_embeddings7 = token_model.encode(comparison7)\n",
    "print(util.pytorch_cos_sim(comparison_embeddings7[0], comparison_embeddings7[1])) # human summary to machine summary similarity\n",
    "print(util.pytorch_cos_sim(comparison_embeddings7[0], comparison_embeddings7[2])) # human summary to original article\n",
    "print(util.pytorch_cos_sim(comparison_embeddings7[1], comparison_embeddings7[2])) # machine summary to original article"
   ]
  },
  {
   "cell_type": "code",
   "execution_count": 95,
   "metadata": {},
   "outputs": [
    {
     "data": {
      "text/plain": [
       "[\"Torquay United boss Kevin Nicholson says none of the money from Eunan O'Kane's move to Leeds from Bournemouth will go to the playing squad.\",\n",
       " ' OKane moved for an undisclosed fee, but Nicholson says any money will go to help the cash-strapped club. The Gulls are still looking for new owners having been taken over by a consortium of local business people last summer. They were forced to close down the clubs academy',\n",
       " 'The National League sold the Republic of Ireland midfielder to the Cherries for £175,000 in 2012 and had a 15% sell-on clause included in the deal. OKane moved for an undisclosed fee, but Nicholson says any money will go to help the cash-strapped club. I dont think Ill be getting anything, Nicholson told BBC Devon. Theres more important things. The Gulls are still looking for new owners having been taken over by a consortium of local business people last summer. They were forced to close down the clubs academy and drastically reduce the playing budget after millionaire former owner Thea Bristow left the club.']"
      ]
     },
     "execution_count": 95,
     "metadata": {},
     "output_type": "execute_result"
    }
   ],
   "source": [
    "comparison7"
   ]
  },
  {
   "cell_type": "markdown",
   "metadata": {},
   "source": [
    "# Model 8"
   ]
  },
  {
   "cell_type": "code",
   "execution_count": 96,
   "metadata": {},
   "outputs": [],
   "source": [
    "input8 = tokenizer(article8, return_tensors='pt', truncation=True)\n",
    "summary_ids8 = model.generate(input8['input_ids'], max_length=60, early_stopping=False)\n",
    "machineSummary8 = ([tokenizer.decode(g, skip_special_tokens=True) for g in summary_ids8])"
   ]
  },
  {
   "cell_type": "code",
   "execution_count": 97,
   "metadata": {},
   "outputs": [
    {
     "name": "stdout",
     "output_type": "stream",
     "text": [
      "tensor([[0.5923]])\n",
      "tensor([[0.6410]])\n",
      "tensor([[0.9681]])\n"
     ]
    }
   ],
   "source": [
    "machineSummary8 = listToString(machineSummary8)\n",
    "original8 = listToString(article8)\n",
    "\n",
    "comparison8 = [summary8, machineSummary8, original8]\n",
    "token_model = SentenceTransformer('distilbert-base-nli-mean-tokens')\n",
    "comparison_embeddings8 = token_model.encode(comparison8)\n",
    "print(util.pytorch_cos_sim(comparison_embeddings8[0], comparison_embeddings8[1])) # human summary to machine summary similarity\n",
    "print(util.pytorch_cos_sim(comparison_embeddings8[0], comparison_embeddings8[2])) # human summary to original article\n",
    "print(util.pytorch_cos_sim(comparison_embeddings8[1], comparison_embeddings8[2])) # machine summary to original article"
   ]
  },
  {
   "cell_type": "code",
   "execution_count": 98,
   "metadata": {},
   "outputs": [
    {
     "data": {
      "text/plain": [
       "['Manufacturers have reported positive business trends, in the latest survey from the Scottish Chambers of Commerce.',\n",
       " 'Manufacturers reported their highest growth in new orders for nearly three years. In retail, there was also a return to optimism - though only just. In tourism, firms reported improving visitor numbers in the final quarter of the year, but falling sales revenues. Construction is expecting an investment dip.',\n",
       " 'The end of last year saw growth across several sectors of the economy, but there are concerns about rising prices, skill shortages and falling sales. Manufacturers reported their highest growth in new orders for nearly three years, with export demand still strong. In retail, there was also a return to optimism - though only just, and despite profitability being squeezed. In tourism, firms reported improving visitor numbers in the final quarter of the year, but falling sales revenues. Responses to the survey, carried out for the Chambers of Commerce by Strathclyde University economists at the Fraser of Allander Institute, were more positive than the economic figures published on Wednesday. The Labour Force Survey and the Gross Domestic Product figures showed weakness in the Scottish economy, while covering an earlier part of 2016 than the Chambers survey. While the GDP assessment from the Scottish government has seen a sharp contraction in the past year, the Chambers found a more positive picture, with growth in private commercial contracts. However, there are warning signals survey, with tourism companies having difficulties in finding skilled recruits. Retail firms flagged up rising prices. Construction is expecting an investment dip. The weakest of the five sectors covered was finance and business services. More firms in that large part of the economy saw employment fall than saw it rise. But on balance, firms say sales revenue is expected to increase. Neil Amner, chairman of the Scottish Chambers of Commerce economic advisory group, said: Our latest economic data shows that many Scottish businesses will have a successful 2017, with business optimism remaining positive for many sectors. This is good news for the economy, particularly as we continue to deal with international uncertainty and domestic issues including a rating revaluation and a potential divergence of Income Tax between Scotland and the rest of the UK. The overall business mood remains positive but firms expect business growth to be challenged by rising prices, tightening of cash flow and profitability, higher import costs impacted by exchange rates and a likely increase of inflation as the year goes on. On the converse side, exporters are continuing to report a healthy growth in trade, though perhaps not quite matching up to their initial expectations. Optimism could hardly be more finely balanced and anything that rocks the boat could change the glass from half full to half empty. Business success in 2017 will largely depend upon the ability of firms to manage costs and for consumer demand to remain strong in the face of pressures to real incomes.']"
      ]
     },
     "execution_count": 98,
     "metadata": {},
     "output_type": "execute_result"
    }
   ],
   "source": [
    "comparison8"
   ]
  },
  {
   "cell_type": "markdown",
   "metadata": {},
   "source": [
    "# Model 9"
   ]
  },
  {
   "cell_type": "code",
   "execution_count": 99,
   "metadata": {},
   "outputs": [],
   "source": [
    "input9 = tokenizer(article9, return_tensors='pt', truncation=True)\n",
    "summary_ids9 = model.generate(input9['input_ids'], max_length=60, early_stopping=False)\n",
    "machineSummary9 = ([tokenizer.decode(g, skip_special_tokens=True) for g in summary_ids9])"
   ]
  },
  {
   "cell_type": "code",
   "execution_count": 100,
   "metadata": {},
   "outputs": [
    {
     "name": "stdout",
     "output_type": "stream",
     "text": [
      "tensor([[0.8161]])\n",
      "tensor([[0.8348]])\n",
      "tensor([[0.8977]])\n"
     ]
    }
   ],
   "source": [
    "machineSummary9 = listToString(machineSummary9)\n",
    "original9 = listToString(article9)\n",
    "\n",
    "comparison9 = [summary9, machineSummary9, original9]\n",
    "token_model = SentenceTransformer('distilbert-base-nli-mean-tokens')\n",
    "comparison_embeddings9 = token_model.encode(comparison9)\n",
    "print(util.pytorch_cos_sim(comparison_embeddings9[0], comparison_embeddings9[1])) # human summary to machine summary similarity\n",
    "print(util.pytorch_cos_sim(comparison_embeddings9[0], comparison_embeddings9[2])) # human summary to original article\n",
    "print(util.pytorch_cos_sim(comparison_embeddings9[1], comparison_embeddings9[2])) # machine summary to original article"
   ]
  },
  {
   "cell_type": "code",
   "execution_count": 101,
   "metadata": {},
   "outputs": [
    {
     "data": {
      "text/plain": [
       "['Of his last 30 matches in 2016, Andy Murray won 28 and lost just two.',\n",
       " 'The world number one has won 21 of his first 30 matches in 2017. Murray has had shingles and an elbow problem, and now his left hip is proving cause for concern. Opting out of two scheduled exhibition matches at the Hurlingham Club in London may not be too',\n",
       " 'Media playback is not supported on this device Of his first 30 matches in 2017, the world number one has won 21 and lost nine. Winning his last five tournaments of 2016 to pip Novak Djokovic to the year-end number one position in the final match of the season at Londons O2 Arena was astonishing, dramatic and unforgettable. And yet it appears that relentless run of success, and the 87 matches he played over a season, has come at a price. Murrays straight-set defeat by world number 90 Jordan Thompson in the first round at Queens Club was the sixth time he has lost to a player outside the top 20 this year. He has had shingles and an elbow problem, and now his left hip is proving cause for concern. Opting out of two scheduled exhibition matches at the Hurlingham Club in London may not be too much of a blow, as Murrays aptitude for grass is likely to allow him some margin for error during the opening week at Wimbledon. But will he be in pain, and will his movement suffer? Although it was reassuring to see him return to the practice courts on Friday, Murray was walking with a limp and neither moving, nor hitting his backhand, anywhere near as well as he will need to. Only time will tell. Media playback is not supported on this device Murray has looked especially vulnerable this season over three sets. As well as the defeat by Thompson at Queens, he has also lost in straight sets to Fabio Fognini in Rome (no disgrace), to Borna Coric in Madrid, and to world number 129 Vasek Pospisil at Indian Wells. Though he was bamboozled by Mischa Zverev in the fourth round of the Australian Open, his Grand Slam record remains formidable. He is aiming this fortnight for a 10th consecutive Wimbledon quarter-final, and the last time he failed to reach the second week of a Slam was when he fell to Stan Wawrinka in the third round of the 2010 US Open. So, assuming Murrays hip does not leave him underpowered, the French Open provides the best indication as to how he might fare at Wimbledon. Murray often started slowly in matches at Roland Garros, but put in a dominant third-round performance against Juan Martin del Potro as he won in straight sets. He never looked a realistic champion, but ultimately was just a tie-break away from a second consecutive final. He then ran out of steam, a legacy of insufficient matches, in a Stan Wawrinka-dominated final set of their semi-final. It would be foolish to try to come to a firm conclusion about Murrays chances at the All England Club this year. Twice a champion, and a gold-medal winner on Centre Court at the 2012 Olympics, not even Novak Djokovic has outperformed him at Wimbledon over the past five years. Yet on 2017 results alone, Murray is only the seventh best player in the field. He has too frequently struggled to impose himself on his opponent, and hindered at times by injury, has not been able to trust his serve in the same way. This year he has won 72% of points on first serve, down from 76% last year; and while last year he saved 66% of the break points he faced, that number has fallen this year to 54%. He claims his indifferent form is nothing to do with the pressure associated with his status as world number one, and he does not cut the figure of a man weighed down by an unwelcome burden. But perhaps Murray has lost his cause: he is now the hunted, rather than the hunter. That may not be a concern much longer. Murray is virtually 5,000 points behind Rafael Nadal in the season-long race and is therefore very likely to be replaced at the top of the rankings by the autumn at the latest. In fact, he could be overtaken after Wimbledon by Wawrinka or Djokovic if they win the title, but more probably by Nadal, who assuming both reach the second week would only have to go one round further. Nadals knees, Djokovics blues and Wawrinkas unexceptional Wimbledon record muddy the waters still further. And then theres Roger Federer: the seven-time champion, who is free of injuries, and last Sunday in Halle won his fourth title of the year having skipped the clay-court season. Media playback is not supported on this device']"
      ]
     },
     "execution_count": 101,
     "metadata": {},
     "output_type": "execute_result"
    }
   ],
   "source": [
    "comparison9"
   ]
  },
  {
   "cell_type": "markdown",
   "metadata": {},
   "source": [
    "# Model 10"
   ]
  },
  {
   "cell_type": "code",
   "execution_count": 102,
   "metadata": {},
   "outputs": [],
   "source": [
    "input10 = tokenizer(article10, return_tensors='pt', truncation=True)\n",
    "summary_ids10 = model.generate(input10['input_ids'], max_length=60, early_stopping=False)\n",
    "machineSummary10 = ([tokenizer.decode(g, skip_special_tokens=True) for g in summary_ids10])"
   ]
  },
  {
   "cell_type": "code",
   "execution_count": 103,
   "metadata": {},
   "outputs": [
    {
     "name": "stdout",
     "output_type": "stream",
     "text": [
      "tensor([[0.7916]])\n",
      "tensor([[0.7987]])\n",
      "tensor([[0.7452]])\n"
     ]
    }
   ],
   "source": [
    "machineSummary10 = listToString(machineSummary10)\n",
    "summary10 = listToString(summary10)\n",
    "original10 = listToString(article10)\n",
    "\n",
    "comparison10 = [summary10, machineSummary10, original10]\n",
    "token_model = SentenceTransformer('distilbert-base-nli-mean-tokens')\n",
    "comparison_embeddings10 = token_model.encode(comparison10)\n",
    "print(util.pytorch_cos_sim(comparison_embeddings10[0], comparison_embeddings10[1])) # human summary to machine summary similarity\n",
    "print(util.pytorch_cos_sim(comparison_embeddings10[0], comparison_embeddings10[2])) # human summary to original article\n",
    "print(util.pytorch_cos_sim(comparison_embeddings10[1], comparison_embeddings10[2])) # machine summary to original article"
   ]
  },
  {
   "cell_type": "code",
   "execution_count": 104,
   "metadata": {},
   "outputs": [
    {
     "data": {
      "text/plain": [
       "[\"Manager Brendan Rodgers is sure Celtic can exploit the wide open spaces of Hampden when they meet Rangers in Sunday's League Cup semi-final.\",\n",
       " \"Celtic face Rangers in the Scottish Cup semi-final at Hampden Park. Brendan Rodgers' side beat Rangers 5-1 at Celtic Park last month. Rodgers lost two semi-finals in his time at Liverpool and is aiming to make it third time lucky at the club he joined\",\n",
       " 'Im really looking forward to it - the home of Scottish football, said Rodgers ahead of his maiden visit. I hear the pitch is good, a nice big pitch suits the speed in our team and our intensity. The technical area goes right out to the end of the pitch, but you might need a taxi to get back to your staff. This will be Rodgers second taste of the Old Firm derby and his experience of the fixture got off to a great start with a 5-1 league victory at Celtic Park last month. It was a brilliant performance by the players in every aspect, he recalled. Obviously this one is on a neutral ground, but well be looking to have a similar performance. Well be prepared and focused. We know its going to be a tough game. We anticipated that the last time. Rodgers is also aware Celtics visit to Hampden last season in the Scottish Cup semi-final against Rangers ended in defeat. The last experience there wasnt so good for Celtic, he said. But its a different team with a different mentality and well look to take that mentality into the game. Rodgers lost two semi-finals in his time at Liverpool and is aiming to make it third time lucky at the club he joined in the summer. You have to perform - thats whats important and if you get little bit of luck along the way then hopefully youll get the result that you want. said the Northern Irishman. So, for us, its really looking at our performance level, which in the main has been at a really high level. My focus is always on my own team and, if we impose our style of play, it can give a lot of problems to opponents. Unlike predecessor Ronny Deila, Rodgers would not be drawn on this semi-final being a step on the way to a potential domestic treble. Its very, very difficult to achieve, he said. Theres been great managers here in the past that havent achieved that. But its the first competition where weve a chance to win a trophy and Ive always said that its a priority for us because its the first one. Our idea was to qualify for the Champions League, which we did, to make a good start in the league, which weve done, and then look to get to the League Cup final. Unless you can do that then you dont have the chance to win the trophies.']"
      ]
     },
     "execution_count": 104,
     "metadata": {},
     "output_type": "execute_result"
    }
   ],
   "source": [
    "comparison10"
   ]
  },
  {
   "cell_type": "markdown",
   "metadata": {},
   "source": [
    "# Conclusion"
   ]
  },
  {
   "cell_type": "markdown",
   "metadata": {},
   "source": [
    "We can see that the machine model had higher cosine similarity to the original article 70% of the time compared to the human article. However, this may be influenced by the fact that the length of the machine summary was about 3x the size of the average human summary. The argument early_stopping=True/False did not appear to have any real affect on cosine-similarity at the max length size of 60 (we compared the 10 models with and without and obtained similar results). The pretrained transformers do provide relevant summaries when reviewing these articles so it appears there is a definite use case for providing news article snippits in products like Bloomberg First Word or other content editors. 20% of the models showed the machine vs human summaries having relatively equivalent cosine similarities. It appears that human summaries are shorter and more semantically similar to articles than machine summaries for articles about sports and athletes. This may be an area that huggingface could focus on pretraining new pipelines, transformers, and models in the future to expand their use cases."
   ]
  }
 ],
 "metadata": {
  "interpreter": {
   "hash": "0eebd8ec8ee1e3b0ea056353a4df6208bb651af5156ee9734311d083be2b2cbb"
  },
  "kernelspec": {
   "display_name": "Python 3.9.9 64-bit (windows store)",
   "language": "python",
   "name": "python3"
  },
  "language_info": {
   "codemirror_mode": {
    "name": "ipython",
    "version": 3
   },
   "file_extension": ".py",
   "mimetype": "text/x-python",
   "name": "python",
   "nbconvert_exporter": "python",
   "pygments_lexer": "ipython3",
   "version": "3.9.9"
  },
  "orig_nbformat": 4
 },
 "nbformat": 4,
 "nbformat_minor": 2
}
