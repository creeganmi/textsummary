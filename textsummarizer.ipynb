{
 "cells": [
  {
   "cell_type": "markdown",
   "metadata": {},
   "source": [
    "# Text Summary & Scoring Project\n",
    "##### Michael Creegan, Yungfeng Dai, Hong Gyu Ji, Ziling Zeng\n",
    "##### Python for Data Analysis\n",
    "##### Columbia University"
   ]
  },
  {
   "cell_type": "markdown",
   "metadata": {},
   "source": [
    "# Abstract\n",
    "\n",
    "Summarization is a common problem in the 21st century as the world has become increasingly driven by data. Summarization of data can be very useful to  quickly determine if something is relevant or whether it's worth reading. Another use case could could be to store summaries of articles it in the backend to run downstream taks on. It could also be useful to understand the semantic integrity to indicate quality.\n",
    "\n",
    "To explore this topic, we will leverage the extreme summarization dataset (XSUM) which consists of BBC articles accompanying single sentence summaries. Each article is prefaced with an introductory sentence (which is a summary) that is professionally written, typically by the author of the article.\n",
    "\n",
    "To summarize articles, we will use an encoder-decoder transformer (sequence-to-sequence) which combines  decoders and encoders because we need to perform both input and output tasks: taking in text and then generating a summary. We selected this type of transformer because the encoder accepts inputs (text) and computes a high level representation of those inputs  which are then passed to the decoder to generate a prediction output (summary). This has advantages over using a standalone encoder like BERT/ALBERT/ELECTRA/RoBERTA/DistilBERT to name a few because  encoders are pre-trained by filling randomly masked words in sentences and therefore are better suited for output tasks. Using a standalone decoder like gpt2 would also not be optimal because decoders are trained to guess the next word in a sequence (left or right context aka does not have context on one side of the sequence) and therefore are better suited at generating text but not necessarily taking in text because of the hidden context limitations. \n",
    "\n",
    "Our scoring will compare the output of the BART encoder-decoder model to the professionally written summaries in the XSUM dataset to see how similar a machine generated summary is to a professional one. Our scoring methodology will be focused on semantic textual similarity and computed using the cosine similarity between the professional human written summary and the machine generated one. "
   ]
  },
  {
   "cell_type": "markdown",
   "metadata": {},
   "source": [
    "# Importing Transformers & Dependencies"
   ]
  },
  {
   "cell_type": "code",
   "execution_count": 53,
   "metadata": {},
   "outputs": [],
   "source": [
    "import pandas as pd\n",
    "import numpy as np\n",
    "from transformers import BartTokenizer, BartForConditionalGeneration, BartConfig\n",
    "from datasets import load_dataset, load_metric\n",
    "from sentence_transformers import SentenceTransformer, util\n",
    "import random\n",
    "from IPython.display import display, HTML"
   ]
  },
  {
   "cell_type": "markdown",
   "metadata": {},
   "source": [
    "# Load XSUM Dataset"
   ]
  },
  {
   "cell_type": "code",
   "execution_count": 54,
   "metadata": {},
   "outputs": [
    {
     "name": "stderr",
     "output_type": "stream",
     "text": [
      "Using custom data configuration default\n",
      "Reusing dataset xsum (C:\\Users\\creeg\\.cache\\huggingface\\datasets\\xsum\\default\\1.2.0\\32c23220eadddb1149b16ed2e9430a05293768cfffbdfd151058697d4c11f934)\n",
      "100%|██████████| 3/3 [00:00<00:00, 100.21it/s]\n"
     ]
    }
   ],
   "source": [
    "xsum = load_dataset('xsum')"
   ]
  },
  {
   "cell_type": "markdown",
   "metadata": {},
   "source": [
    "### We can see that the dataset is a \"DatasetDict\" where the keys are strings that correspond to the split and the values are the dataset object. In the XSUM dataset, the the keys are \"training\", \"validation\", and \"test\" with values corresponding to \"document\", \"summary\", and \"id\" (columns)"
   ]
  },
  {
   "cell_type": "code",
   "execution_count": 55,
   "metadata": {},
   "outputs": [
    {
     "data": {
      "text/plain": [
       "DatasetDict({\n",
       "    train: Dataset({\n",
       "        features: ['document', 'summary', 'id'],\n",
       "        num_rows: 204045\n",
       "    })\n",
       "    validation: Dataset({\n",
       "        features: ['document', 'summary', 'id'],\n",
       "        num_rows: 11332\n",
       "    })\n",
       "    test: Dataset({\n",
       "        features: ['document', 'summary', 'id'],\n",
       "        num_rows: 11334\n",
       "    })\n",
       "})"
      ]
     },
     "execution_count": 55,
     "metadata": {},
     "output_type": "execute_result"
    }
   ],
   "source": [
    "xsum"
   ]
  },
  {
   "cell_type": "markdown",
   "metadata": {},
   "source": [
    "### View a record of the underlying data"
   ]
  },
  {
   "cell_type": "code",
   "execution_count": 56,
   "metadata": {},
   "outputs": [
    {
     "data": {
      "text/plain": [
       "{'document': 'Prison Link Cymru had 1,099 referrals in 2015-16 and said some ex-offenders were living rough for up to a year before finding suitable accommodation.\\nWorkers at the charity claim investment in housing would be cheaper than jailing homeless repeat offenders.\\nThe Welsh Government said more people than ever were getting help to address housing problems.\\nChanges to the Housing Act in Wales, introduced in 2015, removed the right for prison leavers to be given priority for accommodation.\\nPrison Link Cymru, which helps people find accommodation after their release, said things were generally good for women because issues such as children or domestic violence were now considered.\\nHowever, the same could not be said for men, the charity said, because issues which often affect them, such as post traumatic stress disorder or drug dependency, were often viewed as less of a priority.\\nAndrew Stevens, who works in Welsh prisons trying to secure housing for prison leavers, said the need for accommodation was \"chronic\".\\n\"There\\'s a desperate need for it, finding suitable accommodation for those leaving prison there is just a lack of it everywhere,\" he said.\\n\"It could take six months to a year, without a lot of help they could be on the streets for six months.\\n\"When you think of the consequences of either being on the street, especially with the cold weather at the moment or you may have a roof over your head, sometimes there is only one choice.\"\\nMr Stevens believes building more one-bedroom flats could help ease the problem.\\n\"The average price is a hundred pounds a week to keep someone in a rented flat, prison is a lot more than that so I would imagine it would save the public purse quite a few pounds,\" he said.\\nOfficial figures show 830 one-bedroom properties were built in the year to March 2016, of an overall total of 6,900 new properties in Wales.\\nMarc, 50, who has been in and out of prison for the past 20 years for burglary offences, said he struggled to find accommodation each time he was released.\\nHe said he would ask himself: \"Where am I going to stay? Where am I going to live? Have I got somewhere where I can see my daughter.\"\\n\"You\\'re put out among the same sort of people doing the same sort of thing, and it\\'s difficult, it\\'s difficult to get away from it. It\\'s like every man for himself, there\\'s nothing.\"\\nMarc has now found stable accommodation with homeless charity Emmaus and said it had been life changing.\\n\"You feel safe, you got hot food, you\\'ve got company of people in similar situations to yourself but all dealing with different issues. It\\'s a constructive, helpful atmosphere,\" he said.\\nTom Clarke, chief executive of Emmaus South Wales, agreed there was not enough support available.\\n\"We do still see [people] homeless on the streets, so clearly they haven\\'t got accommodation and haven\\'t got provision,\" he said.\\n\"I think the key is connecting people with the services they need. I don\\'t delude myself that Emmaus can offer a one size fits all for everyone, we can\\'t.\\n\"But there must be other opportunities and given suitable encouragement I believe that can and should happen.\"\\nA Welsh Government spokesman said the national pathway for homeless services to children, young people and adults in the secure estate had prevented many people from losing their home whilst serving their prison sentence.\\nIt added there were already significant demands for one-bedroom flats across the public and private sector and it was providing 20,000 new affordable homes in the next five years.',\n",
       " 'summary': 'There is a \"chronic\" need for more housing for prison leavers in Wales, according to a charity.',\n",
       " 'id': '38264402'}"
      ]
     },
     "execution_count": 56,
     "metadata": {},
     "output_type": "execute_result"
    }
   ],
   "source": [
    "xsum['test'][0]"
   ]
  },
  {
   "cell_type": "markdown",
   "metadata": {},
   "source": [
    "# View Underlying Data\n",
    "We can use a function to view a random selection of articles and summaries in the training section (largest section) to get a more accurate depiction of what the data looks like in a synthesized format"
   ]
  },
  {
   "cell_type": "code",
   "execution_count": 57,
   "metadata": {},
   "outputs": [],
   "source": [
    "def display_function(xsum, num_examples=5):\n",
    "    assert num_examples <= len(xsum)                # limit to number of records in the xsum\n",
    "    \n",
    "    selections = []                                 # create empty list to put the records into \n",
    "    \n",
    "    for _ in range(num_examples):                   # we can use _ here in place of a variable name because we don't care how many time sthe loop is run\n",
    "        selection = random.randint(0, len(xsum) - 1)\n",
    "        while selection in selections:\n",
    "            selection = random.randint(0, len(xsum) - 1)\n",
    "        selections.append(selection)\n",
    "\n",
    "    xsumPd = pd.DataFrame(xsum[selections])\n",
    "    for column, typ in xsum.features.items():\n",
    "        display(HTML(xsumPd.to_html()))"
   ]
  },
  {
   "cell_type": "markdown",
   "metadata": {},
   "source": [
    "# Cleaning\n",
    "Our end goal is to create accurate summaries using this model so we need to remove the text characters that do not provide any contextual value. We can also see that there are characters in the document that are not present in the summary which could cause discrepencies between our machine generated summary vs the professional human generated one. We need to remove new line characters that are present in the document column but not the summary column"
   ]
  },
  {
   "cell_type": "code",
   "execution_count": 58,
   "metadata": {},
   "outputs": [
    {
     "data": {
      "text/html": [
       "<table border=\"1\" class=\"dataframe\">\n",
       "  <thead>\n",
       "    <tr style=\"text-align: right;\">\n",
       "      <th></th>\n",
       "      <th>document</th>\n",
       "      <th>summary</th>\n",
       "      <th>id</th>\n",
       "    </tr>\n",
       "  </thead>\n",
       "  <tbody>\n",
       "    <tr>\n",
       "      <th>0</th>\n",
       "      <td>The security breach led to the possible theft of bitcoin worth $65m (Â£49m).\\nBitfinex told the Reuters news agency on Wednesday that nearly 120,000 bitcoin were stolen from its exchange platform.\\nAll transactions on the virtual exchange have been suspended while the security breach is investigated.\\nIn a statement on its website, Bitfinex said that it was \"deeply concerned about the issue and we are committing every resource to try to resolve it\".\\nThe hack is one of the biggest thefts in bitcoin's history and is being treated as a \"major deal\" by many in the virtual currency community.\\n\"Unfortunately, we continue to have vulnerabilities in the form of exchanges and wallets,\" former Singapore-based bitcoin broker David Moskowitz told the BBC.\\n\"The vulnerabilities almost always occur on the exchange or wallet side and this is an area that continues to need improvement and more secure protocols, no different than when a bank gets robbed.\"\\nSecuring bitcoin trading platforms has been a key challenge, with hacking and thefts seen as the biggest threats.\\nIn 2014, the Tokyo-based Mt Gox trading exchange declared bankruptcy when hundreds of millions of dollars in bitcoins vanished or were stolen.\\nBut Mr Moskowitz stressed that in spite of the latest alleged theft \"the core protocol is extremely robust and has not been hacked\".\\nHe said while there would most likely be a price correction in bitcoin, he remained confident that it would continue to be an appealing alternative asset.</td>\n",
       "      <td>The price of bitcoin has fallen more than 10% after the Hong Kong-based digital currency exchange Bitfinex said it had suffered a major hack.</td>\n",
       "      <td>36962254</td>\n",
       "    </tr>\n",
       "    <tr>\n",
       "      <th>1</th>\n",
       "      <td>The action was taken by St Columba's School in Inverclyde after details of police investigations came to light.\\nPolice Scotland confirmed that it was investigating a recent allegation involving a young child.\\nA 56-year-old man has also been reported to prosecutors over alleged historical abuse of a 15-year-old girl.\\nA Police Scotland spokeswoman said: \"We can confirm that a complaint has been received regarding a sexual assault on a young girl.\\n\"Enquires are ongoing to establish the full circumstances and it would be inappropriate to comment further at this time.\"\\nOn the other allegation she said: \"A 56-year-old man has been reported to the Procurator Fiscal in connection with non-recent alleged sexual abuse of a 15-year-old girl.\"\\nThe co-educational school, based in Kilmacolm, caters for about 700 pupils, with annual fees of about Â£11,000.</td>\n",
       "      <td>Two teachers at one of Scotland's leading private schools have been suspended amid separate allegations of sexual abuse of young girls.</td>\n",
       "      <td>38849741</td>\n",
       "    </tr>\n",
       "    <tr>\n",
       "      <th>2</th>\n",
       "      <td>The club reports that most of the squad have been able to train on Friday, and are planning for the match as normal.\\n\"Majority of the squad are in to train this morning ahead of Saturday's match with the Dons,\" Motherwell tweeted.\\n\"On that basis, the club have informed the SPFL there will be no requests made and tomorrow's game is good to go.\"\\nMotherwell were forced to postpone an under-20s game against Celtic on Tuesday after the vast majority of the squad were laid low.\\n\"We had to shut down the club yesterday,\" manager Mark McGhee said on Thursday.\\n\"If we had another three or four showing these symptoms and unable to train then it would leave me with no choice.\\n\"I might only have nine players including the entire under-20s. I can't go into a football match with eight or nine players.\"\\nHowever, enough of first team squad have now recovered sufficiently to allay fears of the match being postponed.</td>\n",
       "      <td>Motherwell will not ask the SPFL to postpone Saturday's Premiership match with Aberdeen, despite the outbreak of a virus at Fir Park.</td>\n",
       "      <td>35840104</td>\n",
       "    </tr>\n",
       "    <tr>\n",
       "      <th>3</th>\n",
       "      <td>The bird's head and wings became stuck in the wire fence in Bethesda while it was chasing a wood pigeon.\\nRSPCA Inspector Mike Pugh, who freed the animal, said: \"The buzzard was feisty, but luckily, had not had much feather damage.\\n\"I released the bird back to the wild where he belongs straight away.\"</td>\n",
       "      <td>A buzzard has been rescued after becoming trapped between fencing and a wall in Gwynedd.</td>\n",
       "      <td>37250267</td>\n",
       "    </tr>\n",
       "    <tr>\n",
       "      <th>4</th>\n",
       "      <td>All 42 of its member clubs are expected to take strict disciplinary measures against fans who indulge in anti-social behaviour during matches.\\nThe updated guidance, which comes into force immediately, states that home clubs are responsible for \"good order and security\".\\nClubs are also urged to step up efforts to identify culprits.\\nUnder the previous rules, clubs could argue that they had taken all practical steps to deter misbehaviour inside their stadiums.\\nNow they must been seen to actively pursue cases and take \"appropriate\" action against the perpetrators.\\nIn June, following disorder at the Scottish Cup final, Justice Secretary Michael Matheson called for \"a transparent and robust scheme\" to prevent and deal with unacceptable conduct.\\nHe went on to warn: \"The Scottish government is prepared to act if Scottish football isn't.\"\\nOn the rule changes, SPFL chief executive Neil Doncaster said: \"The SPFL and its member clubs are committed to preventing and to addressing unacceptable conduct where it arises, to ensure our stadiums are friendly, welcoming and safe environments where all supporters can enjoy Scottish football.\\n\"This ongoing work includes this updated guidance for clubs which sets out the reasonably practicable measures that member clubs can take to address this issue and to identify and sanction those who engage in unacceptable conduct.\\n\"It has been fully consulted on with all 42 clubs, the Scottish FA and the Scottish Government and, indeed, dialogue continues with the Government on a number of further measures which will be discussed early this year.\"</td>\n",
       "      <td>The Scottish Professional Football League has issued new regulations aimed at tackling supporter misconduct.</td>\n",
       "      <td>38577240</td>\n",
       "    </tr>\n",
       "  </tbody>\n",
       "</table>"
      ],
      "text/plain": [
       "<IPython.core.display.HTML object>"
      ]
     },
     "metadata": {},
     "output_type": "display_data"
    },
    {
     "data": {
      "text/html": [
       "<table border=\"1\" class=\"dataframe\">\n",
       "  <thead>\n",
       "    <tr style=\"text-align: right;\">\n",
       "      <th></th>\n",
       "      <th>document</th>\n",
       "      <th>summary</th>\n",
       "      <th>id</th>\n",
       "    </tr>\n",
       "  </thead>\n",
       "  <tbody>\n",
       "    <tr>\n",
       "      <th>0</th>\n",
       "      <td>The security breach led to the possible theft of bitcoin worth $65m (Â£49m).\\nBitfinex told the Reuters news agency on Wednesday that nearly 120,000 bitcoin were stolen from its exchange platform.\\nAll transactions on the virtual exchange have been suspended while the security breach is investigated.\\nIn a statement on its website, Bitfinex said that it was \"deeply concerned about the issue and we are committing every resource to try to resolve it\".\\nThe hack is one of the biggest thefts in bitcoin's history and is being treated as a \"major deal\" by many in the virtual currency community.\\n\"Unfortunately, we continue to have vulnerabilities in the form of exchanges and wallets,\" former Singapore-based bitcoin broker David Moskowitz told the BBC.\\n\"The vulnerabilities almost always occur on the exchange or wallet side and this is an area that continues to need improvement and more secure protocols, no different than when a bank gets robbed.\"\\nSecuring bitcoin trading platforms has been a key challenge, with hacking and thefts seen as the biggest threats.\\nIn 2014, the Tokyo-based Mt Gox trading exchange declared bankruptcy when hundreds of millions of dollars in bitcoins vanished or were stolen.\\nBut Mr Moskowitz stressed that in spite of the latest alleged theft \"the core protocol is extremely robust and has not been hacked\".\\nHe said while there would most likely be a price correction in bitcoin, he remained confident that it would continue to be an appealing alternative asset.</td>\n",
       "      <td>The price of bitcoin has fallen more than 10% after the Hong Kong-based digital currency exchange Bitfinex said it had suffered a major hack.</td>\n",
       "      <td>36962254</td>\n",
       "    </tr>\n",
       "    <tr>\n",
       "      <th>1</th>\n",
       "      <td>The action was taken by St Columba's School in Inverclyde after details of police investigations came to light.\\nPolice Scotland confirmed that it was investigating a recent allegation involving a young child.\\nA 56-year-old man has also been reported to prosecutors over alleged historical abuse of a 15-year-old girl.\\nA Police Scotland spokeswoman said: \"We can confirm that a complaint has been received regarding a sexual assault on a young girl.\\n\"Enquires are ongoing to establish the full circumstances and it would be inappropriate to comment further at this time.\"\\nOn the other allegation she said: \"A 56-year-old man has been reported to the Procurator Fiscal in connection with non-recent alleged sexual abuse of a 15-year-old girl.\"\\nThe co-educational school, based in Kilmacolm, caters for about 700 pupils, with annual fees of about Â£11,000.</td>\n",
       "      <td>Two teachers at one of Scotland's leading private schools have been suspended amid separate allegations of sexual abuse of young girls.</td>\n",
       "      <td>38849741</td>\n",
       "    </tr>\n",
       "    <tr>\n",
       "      <th>2</th>\n",
       "      <td>The club reports that most of the squad have been able to train on Friday, and are planning for the match as normal.\\n\"Majority of the squad are in to train this morning ahead of Saturday's match with the Dons,\" Motherwell tweeted.\\n\"On that basis, the club have informed the SPFL there will be no requests made and tomorrow's game is good to go.\"\\nMotherwell were forced to postpone an under-20s game against Celtic on Tuesday after the vast majority of the squad were laid low.\\n\"We had to shut down the club yesterday,\" manager Mark McGhee said on Thursday.\\n\"If we had another three or four showing these symptoms and unable to train then it would leave me with no choice.\\n\"I might only have nine players including the entire under-20s. I can't go into a football match with eight or nine players.\"\\nHowever, enough of first team squad have now recovered sufficiently to allay fears of the match being postponed.</td>\n",
       "      <td>Motherwell will not ask the SPFL to postpone Saturday's Premiership match with Aberdeen, despite the outbreak of a virus at Fir Park.</td>\n",
       "      <td>35840104</td>\n",
       "    </tr>\n",
       "    <tr>\n",
       "      <th>3</th>\n",
       "      <td>The bird's head and wings became stuck in the wire fence in Bethesda while it was chasing a wood pigeon.\\nRSPCA Inspector Mike Pugh, who freed the animal, said: \"The buzzard was feisty, but luckily, had not had much feather damage.\\n\"I released the bird back to the wild where he belongs straight away.\"</td>\n",
       "      <td>A buzzard has been rescued after becoming trapped between fencing and a wall in Gwynedd.</td>\n",
       "      <td>37250267</td>\n",
       "    </tr>\n",
       "    <tr>\n",
       "      <th>4</th>\n",
       "      <td>All 42 of its member clubs are expected to take strict disciplinary measures against fans who indulge in anti-social behaviour during matches.\\nThe updated guidance, which comes into force immediately, states that home clubs are responsible for \"good order and security\".\\nClubs are also urged to step up efforts to identify culprits.\\nUnder the previous rules, clubs could argue that they had taken all practical steps to deter misbehaviour inside their stadiums.\\nNow they must been seen to actively pursue cases and take \"appropriate\" action against the perpetrators.\\nIn June, following disorder at the Scottish Cup final, Justice Secretary Michael Matheson called for \"a transparent and robust scheme\" to prevent and deal with unacceptable conduct.\\nHe went on to warn: \"The Scottish government is prepared to act if Scottish football isn't.\"\\nOn the rule changes, SPFL chief executive Neil Doncaster said: \"The SPFL and its member clubs are committed to preventing and to addressing unacceptable conduct where it arises, to ensure our stadiums are friendly, welcoming and safe environments where all supporters can enjoy Scottish football.\\n\"This ongoing work includes this updated guidance for clubs which sets out the reasonably practicable measures that member clubs can take to address this issue and to identify and sanction those who engage in unacceptable conduct.\\n\"It has been fully consulted on with all 42 clubs, the Scottish FA and the Scottish Government and, indeed, dialogue continues with the Government on a number of further measures which will be discussed early this year.\"</td>\n",
       "      <td>The Scottish Professional Football League has issued new regulations aimed at tackling supporter misconduct.</td>\n",
       "      <td>38577240</td>\n",
       "    </tr>\n",
       "  </tbody>\n",
       "</table>"
      ],
      "text/plain": [
       "<IPython.core.display.HTML object>"
      ]
     },
     "metadata": {},
     "output_type": "display_data"
    },
    {
     "data": {
      "text/html": [
       "<table border=\"1\" class=\"dataframe\">\n",
       "  <thead>\n",
       "    <tr style=\"text-align: right;\">\n",
       "      <th></th>\n",
       "      <th>document</th>\n",
       "      <th>summary</th>\n",
       "      <th>id</th>\n",
       "    </tr>\n",
       "  </thead>\n",
       "  <tbody>\n",
       "    <tr>\n",
       "      <th>0</th>\n",
       "      <td>The security breach led to the possible theft of bitcoin worth $65m (Â£49m).\\nBitfinex told the Reuters news agency on Wednesday that nearly 120,000 bitcoin were stolen from its exchange platform.\\nAll transactions on the virtual exchange have been suspended while the security breach is investigated.\\nIn a statement on its website, Bitfinex said that it was \"deeply concerned about the issue and we are committing every resource to try to resolve it\".\\nThe hack is one of the biggest thefts in bitcoin's history and is being treated as a \"major deal\" by many in the virtual currency community.\\n\"Unfortunately, we continue to have vulnerabilities in the form of exchanges and wallets,\" former Singapore-based bitcoin broker David Moskowitz told the BBC.\\n\"The vulnerabilities almost always occur on the exchange or wallet side and this is an area that continues to need improvement and more secure protocols, no different than when a bank gets robbed.\"\\nSecuring bitcoin trading platforms has been a key challenge, with hacking and thefts seen as the biggest threats.\\nIn 2014, the Tokyo-based Mt Gox trading exchange declared bankruptcy when hundreds of millions of dollars in bitcoins vanished or were stolen.\\nBut Mr Moskowitz stressed that in spite of the latest alleged theft \"the core protocol is extremely robust and has not been hacked\".\\nHe said while there would most likely be a price correction in bitcoin, he remained confident that it would continue to be an appealing alternative asset.</td>\n",
       "      <td>The price of bitcoin has fallen more than 10% after the Hong Kong-based digital currency exchange Bitfinex said it had suffered a major hack.</td>\n",
       "      <td>36962254</td>\n",
       "    </tr>\n",
       "    <tr>\n",
       "      <th>1</th>\n",
       "      <td>The action was taken by St Columba's School in Inverclyde after details of police investigations came to light.\\nPolice Scotland confirmed that it was investigating a recent allegation involving a young child.\\nA 56-year-old man has also been reported to prosecutors over alleged historical abuse of a 15-year-old girl.\\nA Police Scotland spokeswoman said: \"We can confirm that a complaint has been received regarding a sexual assault on a young girl.\\n\"Enquires are ongoing to establish the full circumstances and it would be inappropriate to comment further at this time.\"\\nOn the other allegation she said: \"A 56-year-old man has been reported to the Procurator Fiscal in connection with non-recent alleged sexual abuse of a 15-year-old girl.\"\\nThe co-educational school, based in Kilmacolm, caters for about 700 pupils, with annual fees of about Â£11,000.</td>\n",
       "      <td>Two teachers at one of Scotland's leading private schools have been suspended amid separate allegations of sexual abuse of young girls.</td>\n",
       "      <td>38849741</td>\n",
       "    </tr>\n",
       "    <tr>\n",
       "      <th>2</th>\n",
       "      <td>The club reports that most of the squad have been able to train on Friday, and are planning for the match as normal.\\n\"Majority of the squad are in to train this morning ahead of Saturday's match with the Dons,\" Motherwell tweeted.\\n\"On that basis, the club have informed the SPFL there will be no requests made and tomorrow's game is good to go.\"\\nMotherwell were forced to postpone an under-20s game against Celtic on Tuesday after the vast majority of the squad were laid low.\\n\"We had to shut down the club yesterday,\" manager Mark McGhee said on Thursday.\\n\"If we had another three or four showing these symptoms and unable to train then it would leave me with no choice.\\n\"I might only have nine players including the entire under-20s. I can't go into a football match with eight or nine players.\"\\nHowever, enough of first team squad have now recovered sufficiently to allay fears of the match being postponed.</td>\n",
       "      <td>Motherwell will not ask the SPFL to postpone Saturday's Premiership match with Aberdeen, despite the outbreak of a virus at Fir Park.</td>\n",
       "      <td>35840104</td>\n",
       "    </tr>\n",
       "    <tr>\n",
       "      <th>3</th>\n",
       "      <td>The bird's head and wings became stuck in the wire fence in Bethesda while it was chasing a wood pigeon.\\nRSPCA Inspector Mike Pugh, who freed the animal, said: \"The buzzard was feisty, but luckily, had not had much feather damage.\\n\"I released the bird back to the wild where he belongs straight away.\"</td>\n",
       "      <td>A buzzard has been rescued after becoming trapped between fencing and a wall in Gwynedd.</td>\n",
       "      <td>37250267</td>\n",
       "    </tr>\n",
       "    <tr>\n",
       "      <th>4</th>\n",
       "      <td>All 42 of its member clubs are expected to take strict disciplinary measures against fans who indulge in anti-social behaviour during matches.\\nThe updated guidance, which comes into force immediately, states that home clubs are responsible for \"good order and security\".\\nClubs are also urged to step up efforts to identify culprits.\\nUnder the previous rules, clubs could argue that they had taken all practical steps to deter misbehaviour inside their stadiums.\\nNow they must been seen to actively pursue cases and take \"appropriate\" action against the perpetrators.\\nIn June, following disorder at the Scottish Cup final, Justice Secretary Michael Matheson called for \"a transparent and robust scheme\" to prevent and deal with unacceptable conduct.\\nHe went on to warn: \"The Scottish government is prepared to act if Scottish football isn't.\"\\nOn the rule changes, SPFL chief executive Neil Doncaster said: \"The SPFL and its member clubs are committed to preventing and to addressing unacceptable conduct where it arises, to ensure our stadiums are friendly, welcoming and safe environments where all supporters can enjoy Scottish football.\\n\"This ongoing work includes this updated guidance for clubs which sets out the reasonably practicable measures that member clubs can take to address this issue and to identify and sanction those who engage in unacceptable conduct.\\n\"It has been fully consulted on with all 42 clubs, the Scottish FA and the Scottish Government and, indeed, dialogue continues with the Government on a number of further measures which will be discussed early this year.\"</td>\n",
       "      <td>The Scottish Professional Football League has issued new regulations aimed at tackling supporter misconduct.</td>\n",
       "      <td>38577240</td>\n",
       "    </tr>\n",
       "  </tbody>\n",
       "</table>"
      ],
      "text/plain": [
       "<IPython.core.display.HTML object>"
      ]
     },
     "metadata": {},
     "output_type": "display_data"
    }
   ],
   "source": [
    "display_function(xsum[\"test\"])"
   ]
  },
  {
   "cell_type": "markdown",
   "metadata": {},
   "source": [
    "We can address the problem we mentioned above by define a cleaning function that replaces new lines with white space."
   ]
  },
  {
   "cell_type": "code",
   "execution_count": 59,
   "metadata": {},
   "outputs": [],
   "source": [
    "def clean(row):\n",
    "    row['document'] = row['document'].replace('\\n', ' ')\\\n",
    "                                     .replace('\\'', '').replace('\\\"','')\n",
    "    return row"
   ]
  },
  {
   "cell_type": "markdown",
   "metadata": {},
   "source": [
    "We can now apply the cleaning function we created and map it onto our data (it loads for train, test, and validation)"
   ]
  },
  {
   "cell_type": "code",
   "execution_count": 60,
   "metadata": {},
   "outputs": [
    {
     "name": "stderr",
     "output_type": "stream",
     "text": [
      "Loading cached processed dataset at C:\\Users\\creeg\\.cache\\huggingface\\datasets\\xsum\\default\\1.2.0\\32c23220eadddb1149b16ed2e9430a05293768cfffbdfd151058697d4c11f934\\cache-fd36b556705cbe4d.arrow\n",
      "Loading cached processed dataset at C:\\Users\\creeg\\.cache\\huggingface\\datasets\\xsum\\default\\1.2.0\\32c23220eadddb1149b16ed2e9430a05293768cfffbdfd151058697d4c11f934\\cache-edb3a2dc2f06b92c.arrow\n",
      "Loading cached processed dataset at C:\\Users\\creeg\\.cache\\huggingface\\datasets\\xsum\\default\\1.2.0\\32c23220eadddb1149b16ed2e9430a05293768cfffbdfd151058697d4c11f934\\cache-a4042da98a2992a2.arrow\n"
     ]
    }
   ],
   "source": [
    "xsum = xsum.map(clean)"
   ]
  },
  {
   "cell_type": "markdown",
   "metadata": {},
   "source": [
    "### Voila!"
   ]
  },
  {
   "cell_type": "code",
   "execution_count": 61,
   "metadata": {},
   "outputs": [
    {
     "data": {
      "text/html": [
       "<table border=\"1\" class=\"dataframe\">\n",
       "  <thead>\n",
       "    <tr style=\"text-align: right;\">\n",
       "      <th></th>\n",
       "      <th>document</th>\n",
       "      <th>summary</th>\n",
       "      <th>id</th>\n",
       "    </tr>\n",
       "  </thead>\n",
       "  <tbody>\n",
       "    <tr>\n",
       "      <th>0</th>\n",
       "      <td>George Verrier was treated by officers who were called to an altercation involving about 20 people in Bromley in the early hours of Sunday. He did not want to be taken to hospital, said police, but was found unconscious several hours later in nearby Ferndale. He died in hospital. A 17-year-old arrested on suspicion of murder has been released on bail. The Met said it had voluntarily referred the actions of officers who went to the scene to the Independent Police Complaints Commission (IPCC) for assessment. A Metropolitan Police spokesman said: At this early stage it appears the victim suffered a head injury as a result of the altercation. Inquiries continue to establish the full circumstances of the incident. George, a trainee electrician, was injured in Southborough Road at about 00:45 BST, while on his way home from the party in adjacent Blenheim Road. Police were called at about 09:30 BST to a home in Ferndale - about a mile away - after he fell unconscious. He was taken by air ambulance to hospital where he died at about 18:00 BST. He had been due to have his first driving lesson on Tuesday. Cornelius Moran, whose 16-year-old daughter was having the party, said: He was a good friend of my daughters. A lovely boy from what she tells me. My thoughts are with the family. A woman who lives near the party venue, but did not wish to be named, said: It looked like a very well-organised party - it was noisy, thats all. The family who had the party are such a nice family. Another neighbour said some partygoers had been turned away from the house. He said: We were very much aware of the noise. That stopped at about 12.30am when the music stopped. My wife was looking out of the window and she could see three large adults leading a group of youngsters up the road, turning them away from the party.</td>\n",
       "      <td>A 17-year-old boy has died of head injuries following a fight after a party in south-east London.</td>\n",
       "      <td>23925064</td>\n",
       "    </tr>\n",
       "    <tr>\n",
       "      <th>1</th>\n",
       "      <td>The Lancastria troopship was carrying between 6,000 and 9,000 people when it was sunk by German dive bombers on 17 June 1940. Only about 2,500 people survived in the largest single loss of life for British forces in the whole of World War II. Relatives and survivors have until 15 May to apply for a commemorative medal. The Scottish government commissioned a medal in 2008, issuing more than 375 since. The upcoming 75th anniversary of the event signals the closure of the commemorative medal application process. The Lancastria, a converted Cunard liner built on the Clyde, was carrying servicemen - including about 400 Scots - and a number of civilian women and children when it was bombed by German planes, sinking within minutes off the coast of France. At the time news of the disaster was suppressed by the British government because of the impact it might have on the countrys morale. Nearly six weeks later the New York Times broke the story, printing dramatic pictures of the disaster. Veterans Secretary Keith Brown said: We in Scotland feel a strong bond with the servicemen and women who have served us throughout the years and continue to protect the democratic freedoms we still enjoy today. The commemorative HMS Lancastria medal from the Scottish government is a lasting reminder of our gratitude to those who made the ultimate sacrifice on that fateful day. Their memory is honoured, their place in history is secured. Mr Brown appealed for anyone who believes they or a family member is entitled to a medal to come forward and make a claim.</td>\n",
       "      <td>Survivors and descendants of those killed during Britain's worst ever maritime disaster are being urged to claim medals honouring them.</td>\n",
       "      <td>32187297</td>\n",
       "    </tr>\n",
       "    <tr>\n",
       "      <th>2</th>\n",
       "      <td>The unrest began when drivers erected barricades in a protest against harassment and roadblocks by police demanding bribes. When security forced stepped in, some local residents joined the protesters and threw stones at police. Some demonstrators are reported to have been beaten up. Thirty people have been arrested. Africa Live: More on this and other news stories Zimbabwe has become increasing volatile in recent weeks with frequent protests against economic hardship and alleged government corruption. Police say they have reduced the number of roadblocks following complaints. The economy has struggled since a government programme seized most white-owned farms in 2000, causing exports to tumble. Robert Mugabe, 92, has been in power since independence in 1980. Critics accuse him of using violence and rigging during recent elections - allegations he denies. Official statistics say most citizens live on just one dollar a day.</td>\n",
       "      <td>Police in Zimbabwe's capital, Harare, have used tear gas and water cannons to break up a protest by minibus drivers.</td>\n",
       "      <td>36701911</td>\n",
       "    </tr>\n",
       "    <tr>\n",
       "      <th>3</th>\n",
       "      <td>Officers are searching in Weston Park East in Bath, where the first foot was found by dog walkers in February. A second foot was found in a garden of a property in Weston Park in July, and another was found in a garden in nearby Cranwells Park two weeks ago. Police said they do not believe a crime has been committed and it is likely they were all medical exhibits. Det Insp Paul Catton, of Avon and Somerset Police, said he strongly believed the finds had originated from an old private collection. A spokesman said the new search was being carried out to try to find anything which may be connected to the discoveries. All three feet show signs they have come into contact with animals and it is likely that they have been moved to the locations they were found from a specific source, Det Insp Catton added. Regulations are significantly stricter these days compared to several decades ago and we believe the source is most probably someone who used the feet as a teaching aid. It is also possible these feet may have been found by someone who has then innocently buried them in an attempt to dispose of them and they have then been unearthed by animals, or that animals have disturbed the location they were stored. Tests on the first foot showed it was human but found very little DNA, and preliminary results from on the second foot were similar. The third foot, found on 5 August, is still undergoing tests. Mr Catton said officers were searching the whole of the park and the grounds of a nearby school. The school is in a central location to the sites where all three feet have been found and the last thing we want is for a member of the public to come across one of these unpleasant finds. We believe someone knows something about where these feet have come from and would appeal for them to get in touch, he added.</td>\n",
       "      <td>Police are searching a park in an area where three severed human feet have been found this year.</td>\n",
       "      <td>37108973</td>\n",
       "    </tr>\n",
       "    <tr>\n",
       "      <th>4</th>\n",
       "      <td>They found that targeting a part of the brain called the parietal lobe improved the ability of volunteers to solve numerical problems. They hope the discovery could help people with dyscalculia, who may struggle with numbers. Another expert said effects on other brain functions would need checking. The findings are reported in the journal Current Biology. Some studies have suggested that up to one in five people have trouble with maths, affecting not just their ability to complete problems but also to manage everyday activities such as telling the time and managing money. Neuroscientists believe that activity within the parietal lobe plays a crucial role in this ability, or the lack of it. When magnetic fields were used in earlier research to disrupt electrical activity in this part of the brain, previously numerate volunteers temporarily developed discalculia, finding it much harder to solve maths problems. The latest research goes a step further, using a one milliamp current to stimulate the parietal lobe of a small number of students. The current could not be felt, and had no measurable effect on other brain functions. As it was turned on, the volunteers tried to learn a puzzle which involved substituting numbers for symbols. Those given the current from right to left across the parietal lobe did significantly better when given, compared to those who were given no electrical stimulation. The direction of the current was important - those given stimulation running in the opposite direction, left to right, did markedly worse at these puzzles than those given no current, with their ability matching that of an average six-year-old. The effects were not short-lived, either. When the volunteers whose performance improved was re-tested six months later, the benefits appear to have persisted. There was no wider effect on general maths ability in either group, just on the ability to complete the puzzles learned as the current was applied. Dr Cohen Kadosh, who led the study, said: We are not advising people to go around giving themselves electric shocks, but we are extremely excited by the potential of our findings and are now looking into the underlying brain changes. Weve shown before that we can induce dyscalculia, and now it seems we might be able to make someone better at maths, so we really want to see if we can help people with dyscalculia. By Fergus WalshMedical correspondent, BBC News Read more in Ferguss blog Electrical stimulation is unlikely to turn you into the next Einstein, but if were lucky it might be able to help some people to cope better with maths. Dr Christopher Chambers, from the School of Psychology at Cardiff University, said that the results were intriguing, and offered the prospect not just of improving numerical skills, but having an impact on a wider range of conditions. He said: The ability to tweak activity in parts of the brain, turning it slightly up or down at will, opens the door to treating a range of psychiatric and neurological problems, like compulsive gambling or visual impairments following stroke. However, he said that the study did not prove that the learning of maths skills was improved, just that the volunteers were better at linking arbitrary numbers and symbols, and he warned that researchers needed to make sure other parts of the brain were unaffected. This is still an exciting new piece of research, but if we dont know how selective the effects of brain stimulation are then we dont know what other brain systems could also be affected, either positively or negatively. Sue Flohr, from the British Dyslexia Association, which also provides support for people with dyscalculia, said the research was welcome. She said: Its certainly an under-recognised condition, but it can ruin lives. It makes it very hard to do everyday things like shopping or budgeting - you can go into a shop and find youve spent your months money without realising it.</td>\n",
       "      <td>Applying a tiny electrical current to the brain could make you better at learning maths, according to Oxford University scientists.</td>\n",
       "      <td>11692799</td>\n",
       "    </tr>\n",
       "  </tbody>\n",
       "</table>"
      ],
      "text/plain": [
       "<IPython.core.display.HTML object>"
      ]
     },
     "metadata": {},
     "output_type": "display_data"
    },
    {
     "data": {
      "text/html": [
       "<table border=\"1\" class=\"dataframe\">\n",
       "  <thead>\n",
       "    <tr style=\"text-align: right;\">\n",
       "      <th></th>\n",
       "      <th>document</th>\n",
       "      <th>summary</th>\n",
       "      <th>id</th>\n",
       "    </tr>\n",
       "  </thead>\n",
       "  <tbody>\n",
       "    <tr>\n",
       "      <th>0</th>\n",
       "      <td>George Verrier was treated by officers who were called to an altercation involving about 20 people in Bromley in the early hours of Sunday. He did not want to be taken to hospital, said police, but was found unconscious several hours later in nearby Ferndale. He died in hospital. A 17-year-old arrested on suspicion of murder has been released on bail. The Met said it had voluntarily referred the actions of officers who went to the scene to the Independent Police Complaints Commission (IPCC) for assessment. A Metropolitan Police spokesman said: At this early stage it appears the victim suffered a head injury as a result of the altercation. Inquiries continue to establish the full circumstances of the incident. George, a trainee electrician, was injured in Southborough Road at about 00:45 BST, while on his way home from the party in adjacent Blenheim Road. Police were called at about 09:30 BST to a home in Ferndale - about a mile away - after he fell unconscious. He was taken by air ambulance to hospital where he died at about 18:00 BST. He had been due to have his first driving lesson on Tuesday. Cornelius Moran, whose 16-year-old daughter was having the party, said: He was a good friend of my daughters. A lovely boy from what she tells me. My thoughts are with the family. A woman who lives near the party venue, but did not wish to be named, said: It looked like a very well-organised party - it was noisy, thats all. The family who had the party are such a nice family. Another neighbour said some partygoers had been turned away from the house. He said: We were very much aware of the noise. That stopped at about 12.30am when the music stopped. My wife was looking out of the window and she could see three large adults leading a group of youngsters up the road, turning them away from the party.</td>\n",
       "      <td>A 17-year-old boy has died of head injuries following a fight after a party in south-east London.</td>\n",
       "      <td>23925064</td>\n",
       "    </tr>\n",
       "    <tr>\n",
       "      <th>1</th>\n",
       "      <td>The Lancastria troopship was carrying between 6,000 and 9,000 people when it was sunk by German dive bombers on 17 June 1940. Only about 2,500 people survived in the largest single loss of life for British forces in the whole of World War II. Relatives and survivors have until 15 May to apply for a commemorative medal. The Scottish government commissioned a medal in 2008, issuing more than 375 since. The upcoming 75th anniversary of the event signals the closure of the commemorative medal application process. The Lancastria, a converted Cunard liner built on the Clyde, was carrying servicemen - including about 400 Scots - and a number of civilian women and children when it was bombed by German planes, sinking within minutes off the coast of France. At the time news of the disaster was suppressed by the British government because of the impact it might have on the countrys morale. Nearly six weeks later the New York Times broke the story, printing dramatic pictures of the disaster. Veterans Secretary Keith Brown said: We in Scotland feel a strong bond with the servicemen and women who have served us throughout the years and continue to protect the democratic freedoms we still enjoy today. The commemorative HMS Lancastria medal from the Scottish government is a lasting reminder of our gratitude to those who made the ultimate sacrifice on that fateful day. Their memory is honoured, their place in history is secured. Mr Brown appealed for anyone who believes they or a family member is entitled to a medal to come forward and make a claim.</td>\n",
       "      <td>Survivors and descendants of those killed during Britain's worst ever maritime disaster are being urged to claim medals honouring them.</td>\n",
       "      <td>32187297</td>\n",
       "    </tr>\n",
       "    <tr>\n",
       "      <th>2</th>\n",
       "      <td>The unrest began when drivers erected barricades in a protest against harassment and roadblocks by police demanding bribes. When security forced stepped in, some local residents joined the protesters and threw stones at police. Some demonstrators are reported to have been beaten up. Thirty people have been arrested. Africa Live: More on this and other news stories Zimbabwe has become increasing volatile in recent weeks with frequent protests against economic hardship and alleged government corruption. Police say they have reduced the number of roadblocks following complaints. The economy has struggled since a government programme seized most white-owned farms in 2000, causing exports to tumble. Robert Mugabe, 92, has been in power since independence in 1980. Critics accuse him of using violence and rigging during recent elections - allegations he denies. Official statistics say most citizens live on just one dollar a day.</td>\n",
       "      <td>Police in Zimbabwe's capital, Harare, have used tear gas and water cannons to break up a protest by minibus drivers.</td>\n",
       "      <td>36701911</td>\n",
       "    </tr>\n",
       "    <tr>\n",
       "      <th>3</th>\n",
       "      <td>Officers are searching in Weston Park East in Bath, where the first foot was found by dog walkers in February. A second foot was found in a garden of a property in Weston Park in July, and another was found in a garden in nearby Cranwells Park two weeks ago. Police said they do not believe a crime has been committed and it is likely they were all medical exhibits. Det Insp Paul Catton, of Avon and Somerset Police, said he strongly believed the finds had originated from an old private collection. A spokesman said the new search was being carried out to try to find anything which may be connected to the discoveries. All three feet show signs they have come into contact with animals and it is likely that they have been moved to the locations they were found from a specific source, Det Insp Catton added. Regulations are significantly stricter these days compared to several decades ago and we believe the source is most probably someone who used the feet as a teaching aid. It is also possible these feet may have been found by someone who has then innocently buried them in an attempt to dispose of them and they have then been unearthed by animals, or that animals have disturbed the location they were stored. Tests on the first foot showed it was human but found very little DNA, and preliminary results from on the second foot were similar. The third foot, found on 5 August, is still undergoing tests. Mr Catton said officers were searching the whole of the park and the grounds of a nearby school. The school is in a central location to the sites where all three feet have been found and the last thing we want is for a member of the public to come across one of these unpleasant finds. We believe someone knows something about where these feet have come from and would appeal for them to get in touch, he added.</td>\n",
       "      <td>Police are searching a park in an area where three severed human feet have been found this year.</td>\n",
       "      <td>37108973</td>\n",
       "    </tr>\n",
       "    <tr>\n",
       "      <th>4</th>\n",
       "      <td>They found that targeting a part of the brain called the parietal lobe improved the ability of volunteers to solve numerical problems. They hope the discovery could help people with dyscalculia, who may struggle with numbers. Another expert said effects on other brain functions would need checking. The findings are reported in the journal Current Biology. Some studies have suggested that up to one in five people have trouble with maths, affecting not just their ability to complete problems but also to manage everyday activities such as telling the time and managing money. Neuroscientists believe that activity within the parietal lobe plays a crucial role in this ability, or the lack of it. When magnetic fields were used in earlier research to disrupt electrical activity in this part of the brain, previously numerate volunteers temporarily developed discalculia, finding it much harder to solve maths problems. The latest research goes a step further, using a one milliamp current to stimulate the parietal lobe of a small number of students. The current could not be felt, and had no measurable effect on other brain functions. As it was turned on, the volunteers tried to learn a puzzle which involved substituting numbers for symbols. Those given the current from right to left across the parietal lobe did significantly better when given, compared to those who were given no electrical stimulation. The direction of the current was important - those given stimulation running in the opposite direction, left to right, did markedly worse at these puzzles than those given no current, with their ability matching that of an average six-year-old. The effects were not short-lived, either. When the volunteers whose performance improved was re-tested six months later, the benefits appear to have persisted. There was no wider effect on general maths ability in either group, just on the ability to complete the puzzles learned as the current was applied. Dr Cohen Kadosh, who led the study, said: We are not advising people to go around giving themselves electric shocks, but we are extremely excited by the potential of our findings and are now looking into the underlying brain changes. Weve shown before that we can induce dyscalculia, and now it seems we might be able to make someone better at maths, so we really want to see if we can help people with dyscalculia. By Fergus WalshMedical correspondent, BBC News Read more in Ferguss blog Electrical stimulation is unlikely to turn you into the next Einstein, but if were lucky it might be able to help some people to cope better with maths. Dr Christopher Chambers, from the School of Psychology at Cardiff University, said that the results were intriguing, and offered the prospect not just of improving numerical skills, but having an impact on a wider range of conditions. He said: The ability to tweak activity in parts of the brain, turning it slightly up or down at will, opens the door to treating a range of psychiatric and neurological problems, like compulsive gambling or visual impairments following stroke. However, he said that the study did not prove that the learning of maths skills was improved, just that the volunteers were better at linking arbitrary numbers and symbols, and he warned that researchers needed to make sure other parts of the brain were unaffected. This is still an exciting new piece of research, but if we dont know how selective the effects of brain stimulation are then we dont know what other brain systems could also be affected, either positively or negatively. Sue Flohr, from the British Dyslexia Association, which also provides support for people with dyscalculia, said the research was welcome. She said: Its certainly an under-recognised condition, but it can ruin lives. It makes it very hard to do everyday things like shopping or budgeting - you can go into a shop and find youve spent your months money without realising it.</td>\n",
       "      <td>Applying a tiny electrical current to the brain could make you better at learning maths, according to Oxford University scientists.</td>\n",
       "      <td>11692799</td>\n",
       "    </tr>\n",
       "  </tbody>\n",
       "</table>"
      ],
      "text/plain": [
       "<IPython.core.display.HTML object>"
      ]
     },
     "metadata": {},
     "output_type": "display_data"
    },
    {
     "data": {
      "text/html": [
       "<table border=\"1\" class=\"dataframe\">\n",
       "  <thead>\n",
       "    <tr style=\"text-align: right;\">\n",
       "      <th></th>\n",
       "      <th>document</th>\n",
       "      <th>summary</th>\n",
       "      <th>id</th>\n",
       "    </tr>\n",
       "  </thead>\n",
       "  <tbody>\n",
       "    <tr>\n",
       "      <th>0</th>\n",
       "      <td>George Verrier was treated by officers who were called to an altercation involving about 20 people in Bromley in the early hours of Sunday. He did not want to be taken to hospital, said police, but was found unconscious several hours later in nearby Ferndale. He died in hospital. A 17-year-old arrested on suspicion of murder has been released on bail. The Met said it had voluntarily referred the actions of officers who went to the scene to the Independent Police Complaints Commission (IPCC) for assessment. A Metropolitan Police spokesman said: At this early stage it appears the victim suffered a head injury as a result of the altercation. Inquiries continue to establish the full circumstances of the incident. George, a trainee electrician, was injured in Southborough Road at about 00:45 BST, while on his way home from the party in adjacent Blenheim Road. Police were called at about 09:30 BST to a home in Ferndale - about a mile away - after he fell unconscious. He was taken by air ambulance to hospital where he died at about 18:00 BST. He had been due to have his first driving lesson on Tuesday. Cornelius Moran, whose 16-year-old daughter was having the party, said: He was a good friend of my daughters. A lovely boy from what she tells me. My thoughts are with the family. A woman who lives near the party venue, but did not wish to be named, said: It looked like a very well-organised party - it was noisy, thats all. The family who had the party are such a nice family. Another neighbour said some partygoers had been turned away from the house. He said: We were very much aware of the noise. That stopped at about 12.30am when the music stopped. My wife was looking out of the window and she could see three large adults leading a group of youngsters up the road, turning them away from the party.</td>\n",
       "      <td>A 17-year-old boy has died of head injuries following a fight after a party in south-east London.</td>\n",
       "      <td>23925064</td>\n",
       "    </tr>\n",
       "    <tr>\n",
       "      <th>1</th>\n",
       "      <td>The Lancastria troopship was carrying between 6,000 and 9,000 people when it was sunk by German dive bombers on 17 June 1940. Only about 2,500 people survived in the largest single loss of life for British forces in the whole of World War II. Relatives and survivors have until 15 May to apply for a commemorative medal. The Scottish government commissioned a medal in 2008, issuing more than 375 since. The upcoming 75th anniversary of the event signals the closure of the commemorative medal application process. The Lancastria, a converted Cunard liner built on the Clyde, was carrying servicemen - including about 400 Scots - and a number of civilian women and children when it was bombed by German planes, sinking within minutes off the coast of France. At the time news of the disaster was suppressed by the British government because of the impact it might have on the countrys morale. Nearly six weeks later the New York Times broke the story, printing dramatic pictures of the disaster. Veterans Secretary Keith Brown said: We in Scotland feel a strong bond with the servicemen and women who have served us throughout the years and continue to protect the democratic freedoms we still enjoy today. The commemorative HMS Lancastria medal from the Scottish government is a lasting reminder of our gratitude to those who made the ultimate sacrifice on that fateful day. Their memory is honoured, their place in history is secured. Mr Brown appealed for anyone who believes they or a family member is entitled to a medal to come forward and make a claim.</td>\n",
       "      <td>Survivors and descendants of those killed during Britain's worst ever maritime disaster are being urged to claim medals honouring them.</td>\n",
       "      <td>32187297</td>\n",
       "    </tr>\n",
       "    <tr>\n",
       "      <th>2</th>\n",
       "      <td>The unrest began when drivers erected barricades in a protest against harassment and roadblocks by police demanding bribes. When security forced stepped in, some local residents joined the protesters and threw stones at police. Some demonstrators are reported to have been beaten up. Thirty people have been arrested. Africa Live: More on this and other news stories Zimbabwe has become increasing volatile in recent weeks with frequent protests against economic hardship and alleged government corruption. Police say they have reduced the number of roadblocks following complaints. The economy has struggled since a government programme seized most white-owned farms in 2000, causing exports to tumble. Robert Mugabe, 92, has been in power since independence in 1980. Critics accuse him of using violence and rigging during recent elections - allegations he denies. Official statistics say most citizens live on just one dollar a day.</td>\n",
       "      <td>Police in Zimbabwe's capital, Harare, have used tear gas and water cannons to break up a protest by minibus drivers.</td>\n",
       "      <td>36701911</td>\n",
       "    </tr>\n",
       "    <tr>\n",
       "      <th>3</th>\n",
       "      <td>Officers are searching in Weston Park East in Bath, where the first foot was found by dog walkers in February. A second foot was found in a garden of a property in Weston Park in July, and another was found in a garden in nearby Cranwells Park two weeks ago. Police said they do not believe a crime has been committed and it is likely they were all medical exhibits. Det Insp Paul Catton, of Avon and Somerset Police, said he strongly believed the finds had originated from an old private collection. A spokesman said the new search was being carried out to try to find anything which may be connected to the discoveries. All three feet show signs they have come into contact with animals and it is likely that they have been moved to the locations they were found from a specific source, Det Insp Catton added. Regulations are significantly stricter these days compared to several decades ago and we believe the source is most probably someone who used the feet as a teaching aid. It is also possible these feet may have been found by someone who has then innocently buried them in an attempt to dispose of them and they have then been unearthed by animals, or that animals have disturbed the location they were stored. Tests on the first foot showed it was human but found very little DNA, and preliminary results from on the second foot were similar. The third foot, found on 5 August, is still undergoing tests. Mr Catton said officers were searching the whole of the park and the grounds of a nearby school. The school is in a central location to the sites where all three feet have been found and the last thing we want is for a member of the public to come across one of these unpleasant finds. We believe someone knows something about where these feet have come from and would appeal for them to get in touch, he added.</td>\n",
       "      <td>Police are searching a park in an area where three severed human feet have been found this year.</td>\n",
       "      <td>37108973</td>\n",
       "    </tr>\n",
       "    <tr>\n",
       "      <th>4</th>\n",
       "      <td>They found that targeting a part of the brain called the parietal lobe improved the ability of volunteers to solve numerical problems. They hope the discovery could help people with dyscalculia, who may struggle with numbers. Another expert said effects on other brain functions would need checking. The findings are reported in the journal Current Biology. Some studies have suggested that up to one in five people have trouble with maths, affecting not just their ability to complete problems but also to manage everyday activities such as telling the time and managing money. Neuroscientists believe that activity within the parietal lobe plays a crucial role in this ability, or the lack of it. When magnetic fields were used in earlier research to disrupt electrical activity in this part of the brain, previously numerate volunteers temporarily developed discalculia, finding it much harder to solve maths problems. The latest research goes a step further, using a one milliamp current to stimulate the parietal lobe of a small number of students. The current could not be felt, and had no measurable effect on other brain functions. As it was turned on, the volunteers tried to learn a puzzle which involved substituting numbers for symbols. Those given the current from right to left across the parietal lobe did significantly better when given, compared to those who were given no electrical stimulation. The direction of the current was important - those given stimulation running in the opposite direction, left to right, did markedly worse at these puzzles than those given no current, with their ability matching that of an average six-year-old. The effects were not short-lived, either. When the volunteers whose performance improved was re-tested six months later, the benefits appear to have persisted. There was no wider effect on general maths ability in either group, just on the ability to complete the puzzles learned as the current was applied. Dr Cohen Kadosh, who led the study, said: We are not advising people to go around giving themselves electric shocks, but we are extremely excited by the potential of our findings and are now looking into the underlying brain changes. Weve shown before that we can induce dyscalculia, and now it seems we might be able to make someone better at maths, so we really want to see if we can help people with dyscalculia. By Fergus WalshMedical correspondent, BBC News Read more in Ferguss blog Electrical stimulation is unlikely to turn you into the next Einstein, but if were lucky it might be able to help some people to cope better with maths. Dr Christopher Chambers, from the School of Psychology at Cardiff University, said that the results were intriguing, and offered the prospect not just of improving numerical skills, but having an impact on a wider range of conditions. He said: The ability to tweak activity in parts of the brain, turning it slightly up or down at will, opens the door to treating a range of psychiatric and neurological problems, like compulsive gambling or visual impairments following stroke. However, he said that the study did not prove that the learning of maths skills was improved, just that the volunteers were better at linking arbitrary numbers and symbols, and he warned that researchers needed to make sure other parts of the brain were unaffected. This is still an exciting new piece of research, but if we dont know how selective the effects of brain stimulation are then we dont know what other brain systems could also be affected, either positively or negatively. Sue Flohr, from the British Dyslexia Association, which also provides support for people with dyscalculia, said the research was welcome. She said: Its certainly an under-recognised condition, but it can ruin lives. It makes it very hard to do everyday things like shopping or budgeting - you can go into a shop and find youve spent your months money without realising it.</td>\n",
       "      <td>Applying a tiny electrical current to the brain could make you better at learning maths, according to Oxford University scientists.</td>\n",
       "      <td>11692799</td>\n",
       "    </tr>\n",
       "  </tbody>\n",
       "</table>"
      ],
      "text/plain": [
       "<IPython.core.display.HTML object>"
      ]
     },
     "metadata": {},
     "output_type": "display_data"
    }
   ],
   "source": [
    "display_function(xsum[\"test\"])"
   ]
  },
  {
   "cell_type": "markdown",
   "metadata": {},
   "source": [
    "We can view the column names and data types without our dataset using .features"
   ]
  },
  {
   "cell_type": "code",
   "execution_count": 62,
   "metadata": {},
   "outputs": [
    {
     "data": {
      "text/plain": [
       "{'document': Value(dtype='string', id=None),\n",
       " 'summary': Value(dtype='string', id=None),\n",
       " 'id': Value(dtype='string', id=None)}"
      ]
     },
     "execution_count": 62,
     "metadata": {},
     "output_type": "execute_result"
    }
   ],
   "source": [
    "xsum['test'].features"
   ]
  },
  {
   "cell_type": "code",
   "execution_count": 63,
   "metadata": {},
   "outputs": [
    {
     "name": "stdout",
     "output_type": "stream",
     "text": [
      "DatasetInfo(description='\\nExtreme Summarization (XSum) Dataset.\\n\\nThere are three features:\\n  - document: Input news article.\\n  - summary: One sentence summary of the article.\\n  - id: BBC ID of the article.\\n\\n', citation=\"\\n@article{Narayan2018DontGM,\\n  title={Don't Give Me the Details, Just the Summary! Topic-Aware Convolutional Neural Networks for Extreme Summarization},\\n  author={Shashi Narayan and Shay B. Cohen and Mirella Lapata},\\n  journal={ArXiv},\\n  year={2018},\\n  volume={abs/1808.08745}\\n}\\n\", homepage='https://github.com/EdinburghNLP/XSum/tree/master/XSum-Dataset', license='', features={'document': Value(dtype='string', id=None), 'summary': Value(dtype='string', id=None), 'id': Value(dtype='string', id=None)}, post_processed=None, supervised_keys=SupervisedKeysData(input='document', output='summary'), task_templates=None, builder_name='xsum', config_name='default', version=1.2.0, splits={'train': SplitInfo(name='train', num_bytes=479206615, num_examples=204045, dataset_name='xsum'), 'validation': SplitInfo(name='validation', num_bytes=26292901, num_examples=11332, dataset_name='xsum'), 'test': SplitInfo(name='test', num_bytes=26756165, num_examples=11334, dataset_name='xsum')}, download_checksums={'http://bollin.inf.ed.ac.uk/public/direct/XSUM-EMNLP18-Summary-Data-Original.tar.gz': {'num_bytes': 254582292, 'checksum': '10b48aa187fc9c904b30f76ca97e2da0de8d3a1238acc26acadef93e2001af90'}, 'https://raw.githubusercontent.com/EdinburghNLP/XSum/master/XSum-Dataset/XSum-TRAINING-DEV-TEST-SPLIT-90-5-5.json': {'num_bytes': 2720574, 'checksum': '9c0c5d8f048a90bd68b19a34e4c30577ed270d3247b2119fa06a04ef46292068'}}, download_size=257302866, post_processing_size=None, dataset_size=532255681, size_in_bytes=789558547)\n"
     ]
    }
   ],
   "source": [
    "print(xsum['test'].info)"
   ]
  },
  {
   "cell_type": "markdown",
   "metadata": {},
   "source": [
    "# Preparing XSUM Data\n",
    "Before we can put the text into a model we need to convert it into a format that the transformer can understand. Encoders and decoders only understand numerical values; we need to tokenize each word and then convert the tokens into numerical values. The tokenization transformer splits text into tokens and then adds special tokens if expected based on pretraining. The tokenizer then matches each token to unique id in vocabulary of tokenizer which has a corresponding vector of numerical values. These vectors contain the contextualized value of a word. For example, the vector representation of the word \"to\" isnt just \"to\", it also takes into account the words around it which are called context (right and left context). To continue this example, \"Welcome to NYC\" is a sentence that has the word \"to\". For the word \"to\" the left context is \"Welcome\" and the right context is \"NYC\". The output is based on these contexts; this is how the value is a contextualized vector thanks to self-attention mechanism. We can do all of this using the AutoTokenizer.from_pretarined method to ensure that we get a tokenizer that corresponds to the model architecture we want to use (facebook/bart-large-cnn); however, we will specifically reference the BartTokenizer in our checkpoint, tokenizer, and model to ensure all aspects of our model were trained using the same methodologies so we can avoid unexpected summaries"
   ]
  },
  {
   "cell_type": "code",
   "execution_count": 64,
   "metadata": {},
   "outputs": [],
   "source": [
    "checkpoint = \"facebook/bart-large-cnn\"\n",
    "tokenizer = BartTokenizer.from_pretrained(checkpoint)\n",
    "model = BartForConditionalGeneration.from_pretrained(checkpoint)"
   ]
  },
  {
   "cell_type": "markdown",
   "metadata": {},
   "source": [
    "We now write a function that preprocesses the test data by passing it to the tokenizer. We need to use the argument truncation=True to ensure that any input longer than the model can handle will be truncated to the maximum length alowed. We can view this information in the model config. BART has a maximum length of 1024 which we can see in max_position_embeddings"
   ]
  },
  {
   "cell_type": "code",
   "execution_count": 65,
   "metadata": {},
   "outputs": [
    {
     "data": {
      "text/plain": [
       "BartConfig {\n",
       "  \"_name_or_path\": \"facebook/bart-large-cnn\",\n",
       "  \"_num_labels\": 3,\n",
       "  \"activation_dropout\": 0.0,\n",
       "  \"activation_function\": \"gelu\",\n",
       "  \"add_final_layer_norm\": false,\n",
       "  \"architectures\": [\n",
       "    \"BartForConditionalGeneration\"\n",
       "  ],\n",
       "  \"attention_dropout\": 0.0,\n",
       "  \"bos_token_id\": 0,\n",
       "  \"classif_dropout\": 0.0,\n",
       "  \"classifier_dropout\": 0.0,\n",
       "  \"d_model\": 1024,\n",
       "  \"decoder_attention_heads\": 16,\n",
       "  \"decoder_ffn_dim\": 4096,\n",
       "  \"decoder_layerdrop\": 0.0,\n",
       "  \"decoder_layers\": 12,\n",
       "  \"decoder_start_token_id\": 2,\n",
       "  \"dropout\": 0.1,\n",
       "  \"early_stopping\": true,\n",
       "  \"encoder_attention_heads\": 16,\n",
       "  \"encoder_ffn_dim\": 4096,\n",
       "  \"encoder_layerdrop\": 0.0,\n",
       "  \"encoder_layers\": 12,\n",
       "  \"eos_token_id\": 2,\n",
       "  \"force_bos_token_to_be_generated\": true,\n",
       "  \"forced_bos_token_id\": 0,\n",
       "  \"forced_eos_token_id\": 2,\n",
       "  \"gradient_checkpointing\": false,\n",
       "  \"id2label\": {\n",
       "    \"0\": \"LABEL_0\",\n",
       "    \"1\": \"LABEL_1\",\n",
       "    \"2\": \"LABEL_2\"\n",
       "  },\n",
       "  \"init_std\": 0.02,\n",
       "  \"is_encoder_decoder\": true,\n",
       "  \"label2id\": {\n",
       "    \"LABEL_0\": 0,\n",
       "    \"LABEL_1\": 1,\n",
       "    \"LABEL_2\": 2\n",
       "  },\n",
       "  \"length_penalty\": 2.0,\n",
       "  \"max_length\": 142,\n",
       "  \"max_position_embeddings\": 1024,\n",
       "  \"min_length\": 56,\n",
       "  \"model_type\": \"bart\",\n",
       "  \"no_repeat_ngram_size\": 3,\n",
       "  \"normalize_before\": false,\n",
       "  \"num_beams\": 4,\n",
       "  \"num_hidden_layers\": 12,\n",
       "  \"output_past\": true,\n",
       "  \"pad_token_id\": 1,\n",
       "  \"prefix\": \" \",\n",
       "  \"scale_embedding\": false,\n",
       "  \"task_specific_params\": {\n",
       "    \"summarization\": {\n",
       "      \"early_stopping\": true,\n",
       "      \"length_penalty\": 2.0,\n",
       "      \"max_length\": 142,\n",
       "      \"min_length\": 56,\n",
       "      \"no_repeat_ngram_size\": 3,\n",
       "      \"num_beams\": 4\n",
       "    }\n",
       "  },\n",
       "  \"transformers_version\": \"4.12.5\",\n",
       "  \"use_cache\": true,\n",
       "  \"vocab_size\": 50264\n",
       "}"
      ]
     },
     "execution_count": 65,
     "metadata": {},
     "output_type": "execute_result"
    }
   ],
   "source": [
    "model.config"
   ]
  },
  {
   "cell_type": "markdown",
   "metadata": {},
   "source": [
    "We can now create the function with the maximum length allowed as per the config and an arbitrary minimum length. "
   ]
  },
  {
   "cell_type": "code",
   "execution_count": 66,
   "metadata": {},
   "outputs": [],
   "source": [
    "max_input_length = 1024\n",
    "max_target_length = 100\n",
    "\n",
    "\n",
    "def preperation_function(examples):\n",
    "    inputs = [doc for doc in examples[\"document\"]]\n",
    "    model_inputs = tokenizer(inputs, max_length=max_input_length, truncation=True, padding=True)\n",
    "\n",
    "    \n",
    "    with tokenizer.as_target_tokenizer(): # Setup the tokenizer for summaries where \"as_target_tokenizer\" is what provides passes along the context for each vector\n",
    "        labels = tokenizer(\n",
    "            examples[\"summary\"], max_length=max_target_length, truncation=True\n",
    "        )\n",
    "\n",
    "    model_inputs[\"labels\"] = labels[\"input_ids\"]\n",
    "    return model_inputs"
   ]
  },
  {
   "cell_type": "markdown",
   "metadata": {},
   "source": [
    "We can apply this function to our dataset using map"
   ]
  },
  {
   "cell_type": "code",
   "execution_count": 67,
   "metadata": {},
   "outputs": [
    {
     "name": "stderr",
     "output_type": "stream",
     "text": [
      "Loading cached processed dataset at C:\\Users\\creeg\\.cache\\huggingface\\datasets\\xsum\\default\\1.2.0\\32c23220eadddb1149b16ed2e9430a05293768cfffbdfd151058697d4c11f934\\cache-4b553bd8e5c78318.arrow\n",
      "Loading cached processed dataset at C:\\Users\\creeg\\.cache\\huggingface\\datasets\\xsum\\default\\1.2.0\\32c23220eadddb1149b16ed2e9430a05293768cfffbdfd151058697d4c11f934\\cache-4d942dda870775b4.arrow\n",
      "Loading cached processed dataset at C:\\Users\\creeg\\.cache\\huggingface\\datasets\\xsum\\default\\1.2.0\\32c23220eadddb1149b16ed2e9430a05293768cfffbdfd151058697d4c11f934\\cache-3189c97aecc791f8.arrow\n"
     ]
    }
   ],
   "source": [
    "tokenized_xsum = xsum.map(preperation_function, batched=True)"
   ]
  },
  {
   "cell_type": "code",
   "execution_count": 68,
   "metadata": {},
   "outputs": [
    {
     "data": {
      "text/plain": [
       "DatasetDict({\n",
       "    train: Dataset({\n",
       "        features: ['attention_mask', 'document', 'id', 'input_ids', 'labels', 'summary'],\n",
       "        num_rows: 204045\n",
       "    })\n",
       "    validation: Dataset({\n",
       "        features: ['attention_mask', 'document', 'id', 'input_ids', 'labels', 'summary'],\n",
       "        num_rows: 11332\n",
       "    })\n",
       "    test: Dataset({\n",
       "        features: ['attention_mask', 'document', 'id', 'input_ids', 'labels', 'summary'],\n",
       "        num_rows: 11334\n",
       "    })\n",
       "})"
      ]
     },
     "execution_count": 68,
     "metadata": {},
     "output_type": "execute_result"
    }
   ],
   "source": [
    "tokenized_xsum"
   ]
  },
  {
   "cell_type": "code",
   "execution_count": 69,
   "metadata": {},
   "outputs": [
    {
     "data": {
      "text/plain": [
       "{'attention_mask': Sequence(feature=Value(dtype='int8', id=None), length=-1, id=None),\n",
       " 'document': Value(dtype='string', id=None),\n",
       " 'id': Value(dtype='string', id=None),\n",
       " 'input_ids': Sequence(feature=Value(dtype='int32', id=None), length=-1, id=None),\n",
       " 'labels': Sequence(feature=Value(dtype='int64', id=None), length=-1, id=None),\n",
       " 'summary': Value(dtype='string', id=None)}"
      ]
     },
     "execution_count": 69,
     "metadata": {},
     "output_type": "execute_result"
    }
   ],
   "source": [
    "tokenized_xsum['test'].features"
   ]
  },
  {
   "cell_type": "markdown",
   "metadata": {},
   "source": [
    "The attention mask tells the model what to pay attention to by passing values of 1 for tokens to consider and values of 0 for tokens to ignore. The input ids are the numerical mapping of tokens to BART's vocabulary; each word in BART's vocabulary is assigned a numerical value."
   ]
  },
  {
   "cell_type": "code",
   "execution_count": 70,
   "metadata": {},
   "outputs": [
    {
     "data": {
      "text/html": [
       "<table border=\"1\" class=\"dataframe\">\n",
       "  <thead>\n",
       "    <tr style=\"text-align: right;\">\n",
       "      <th></th>\n",
       "      <th>attention_mask</th>\n",
       "      <th>document</th>\n",
       "      <th>id</th>\n",
       "      <th>input_ids</th>\n",
       "      <th>labels</th>\n",
       "      <th>summary</th>\n",
       "    </tr>\n",
       "  </thead>\n",
       "  <tbody>\n",
       "    <tr>\n",
       "      <th>0</th>\n",
       "      <td>[1, 1, 1, 1, 1, 1, 1, 1, 1, 1, 1, 1, 1, 1, 1, 1, 1, 1, 1, 1, 1, 1, 1, 1, 1, 1, 1, 1, 1, 1, 1, 1, 1, 1, 1, 1, 1, 1, 1, 1, 1, 1, 1, 1, 1, 1, 1, 1, 1, 1, 1, 1, 1, 1, 1, 1, 1, 1, 1, 1, 1, 1, 1, 1, 1, 1, 1, 1, 1, 1, 1, 1, 1, 1, 1, 1, 1, 1, 1, 1, 1, 1, 1, 1, 1, 1, 1, 1, 1, 1, 1, 1, 1, 1, 1, 1, 1, 1, 1, 1, ...]</td>\n",
       "      <td>His comments come amid the expenses scandal that has embroiled the government for the past three weeks. Mr Abbott said on Friday the woman at the centre of the scandal, Speaker of the House of Representatives Bronwyn Bishop, was deeply remorseful about her use of taxpayers funds to travel to friends weddings and Liberal party functions. The prime minister has himself had to pay back money spent on travel in the past. The scandal began when it became public that Ms Bishop had spent A$5,000 ($3,647; Â£2,339) of public funds on a helicopter flight to a Liberal Party function that could have easily been reached by road. She has also claimed expenses for travel to several weddings of her Liberal Party colleagues. Australias rules about travel entitlements for politicians are hazy but Ms Bishops spending set social media on fire and she soon became the speaker who sparked a thousand memes. The Facebook page Bronwyn Bishop Memes gained more than 13,000 followers in just a week, as users poked fun at her chopper ride. Memes have adopted the helicopter as their main tool to mock the speaker, with Ms Bishop using chopper flights for everything from taking extreme holidays and dropping the kids at the local swimming pool to going for a jog - via chopper. The public have also had fun at her expense with cultural references ranging from Australian TV soap operas to movies such as 101 Dalmatians and Francis Ford Coppolas Apocalypse Now. Social media taunts even included sly hints towards other expenses scandals, such as the misuse of living away from home allowances for politicians. Ms Bishop has apologised and is paying back the helicopter costs but she is resisting calls, from independent senators and reportedly even from some members of the government, to resign. I love this country very much and it does sadden me that I have let [the public] down, Ms Bishop told reporters. I wont resign from the position but I will be working very hard, she said.</td>\n",
       "      <td>33713495</td>\n",
       "      <td>[0, 9962, 1450, 283, 2876, 5, 4068, 4220, 14, 34, 23958, 5, 168, 13, 5, 375, 130, 688, 4, 427, 11082, 26, 15, 273, 5, 693, 23, 5, 2100, 9, 5, 4220, 6, 6358, 9, 5, 446, 9, 7395, 17228, 16541, 8163, 6, 21, 4814, 23312, 2650, 59, 69, 304, 9, 7660, 1188, 7, 1504, 7, 964, 21596, 8, 7612, 537, 8047, 4, 20, 2654, 1269, 34, 1003, 56, 7, 582, 124, 418, 1240, 15, 1504, 11, 5, 375, 4, 20, 4220, 880, 77, 24, 1059, 285, 14, 2135, 8163, 56, 1240, 83, 1629, 245, 6, 151, 1358, 246, 6, ...]</td>\n",
       "      <td>[0, 25973, 692, 3621, 11082, 34, 9180, 2059, 3770, 51, 1395, 22, 6460, 409, 19, 26005, 5, 1492, 113, 15, 4068, 4, 2]</td>\n",
       "      <td>Prime Minister Tony Abbott has reminded Australian politicians they cannot \"get away with exploiting the rules\" on expenses.</td>\n",
       "    </tr>\n",
       "    <tr>\n",
       "      <th>1</th>\n",
       "      <td>[1, 1, 1, 1, 1, 1, 1, 1, 1, 1, 1, 1, 1, 1, 1, 1, 1, 1, 1, 1, 1, 1, 1, 1, 1, 1, 1, 1, 1, 1, 1, 1, 1, 1, 1, 1, 1, 1, 1, 1, 1, 1, 1, 1, 1, 1, 1, 1, 1, 1, 1, 1, 1, 1, 1, 1, 1, 1, 1, 1, 1, 1, 1, 1, 1, 1, 1, 1, 1, 1, 1, 1, 1, 1, 1, 1, 1, 1, 1, 1, 1, 1, 1, 1, 1, 1, 1, 1, 1, 1, 1, 1, 1, 1, 1, 1, 1, 1, 1, 1, ...]</td>\n",
       "      <td>The witches marks were often carved near entrances to buildings, including the house where Shakespeare was born and the Tower of London. The symbols were believed to offer protection when belief in witchcraft and the supernatural was widespread. But heritage agency Historic England says too little is known about them. This Halloween it is calling for people to document the marks, which can be found in medieval houses, churches and other buildings, most commonly from around 1550 to 1750. The symbols, which were intended to protect inhabitants and visitors of buildings from witches and evil spirits, took many forms, including patterns and sometimes letters. The most common type was the Daisy Wheel, which looked like a flower drawn with a compass in a single endless line that was supposed to confuse and entrap evil spirits. They also took the form of letters, such as AM for Ave Maria, M for Mary or VV, for Virgin of Virgins, scratched into medieval walls, engraved on wooden beams and etched into plasterwork to evoke the protective power of the Virgin Mary. Known examples include several found at Shakespeares birthplace in Stratford-upon-Avon, Warwickshire, carved near the cellar door where beer was kept, and at the Tithe Barn, Bradford-on-Avon, Wiltshire, to protect crops. Others have been found in caves, such as the Witches Chimney at Wookey Hole, Somerset, which has numerous markings. Duncan Wilson, chief executive of Historic England, said: Witches marks are a physical reminder of how our ancestors saw the world. They really fire the imagination and can teach us about previously-held beliefs and common rituals. Ritual marks were cut, scratched or carved into our ancestors homes and churches in the hope of making the world a safer, less hostile place. They were such a common part of everyday life that they were unremarkable and because they are easy to overlook, the recorded evidence we hold about where they appear and what form they take is thin.</td>\n",
       "      <td>37817785</td>\n",
       "      <td>[0, 133, 39699, 4863, 58, 747, 20209, 583, 32014, 7, 3413, 6, 217, 5, 790, 147, 16538, 21, 2421, 8, 5, 7186, 9, 928, 4, 20, 19830, 58, 2047, 7, 904, 2591, 77, 6563, 11, 42470, 8, 5, 32049, 21, 5859, 4, 125, 7788, 1218, 15541, 1156, 161, 350, 410, 16, 684, 59, 106, 4, 152, 8789, 24, 16, 1765, 13, 82, 7, 3780, 5, 4863, 6, 61, 64, 28, 303, 11, 25818, 3960, 6, 10550, 8, 97, 3413, 6, 144, 10266, 31, 198, 379, 1096, 7, 601, 1096, 4, 20, 19830, 6, 61, 58, 3833, 7, 1744, 24696, 8, ...]</td>\n",
       "      <td>[0, 31339, 9, 5, 285, 32, 145, 553, 7, 244, 1045, 10, 638, 9, 19100, 35480, 15, 3413, 14, 58, 683, 2047, 7, 11898, 160, 9247, 11656, 4, 2]</td>\n",
       "      <td>Members of the public are being asked to help create a record of ritual markings on buildings that were once believed to ward off evil spirits.</td>\n",
       "    </tr>\n",
       "    <tr>\n",
       "      <th>2</th>\n",
       "      <td>[1, 1, 1, 1, 1, 1, 1, 1, 1, 1, 1, 1, 1, 1, 1, 1, 1, 1, 1, 1, 1, 1, 1, 1, 1, 1, 1, 1, 1, 1, 1, 1, 1, 1, 1, 1, 1, 1, 1, 1, 1, 1, 1, 1, 1, 1, 1, 1, 1, 1, 1, 1, 1, 1, 1, 1, 1, 1, 1, 1, 1, 1, 1, 1, 1, 1, 1, 1, 1, 1, 1, 1, 1, 1, 1, 1, 1, 1, 1, 1, 1, 1, 1, 1, 1, 1, 1, 1, 1, 1, 1, 1, 1, 1, 1, 1, 1, 1, 1, 1, ...]</td>\n",
       "      <td>Zoe Gregory, 26, is accused of sending a message claiming an explosive had been left at Ormiston Victory Academy in Costessey, Norfolk, on 9 February. The 16-year-old girls home was raided and she was questioned over the threat by police. Ms Gregory has been bailed to appear before Norwich magistrates on 14 April. She has been charged with communicating false information and unauthorised computer access. Ms Gregory, of Blackhill Wood Lane, Costessey, has been dismissed from her role, said a school spokeswoman.</td>\n",
       "      <td>32144689</td>\n",
       "      <td>[0, 1301, 3540, 12006, 6, 973, 6, 16, 1238, 9, 3981, 10, 1579, 4564, 41, 8560, 56, 57, 314, 23, 1793, 119, 15819, 15908, 3536, 11, 7860, 293, 4169, 6, 13261, 6, 15, 361, 902, 4, 20, 545, 12, 180, 12, 279, 1972, 184, 21, 18000, 8, 79, 21, 5249, 81, 5, 1856, 30, 249, 4, 2135, 12006, 34, 57, 30584, 7, 2082, 137, 18749, 9931, 15596, 15, 501, 587, 4, 264, 34, 57, 1340, 19, 17957, 3950, 335, 8, 542, 11515, 1720, 3034, 899, 4, 2135, 12006, 6, 9, 1378, 9583, 3132, 5503, 6, 7860, 293, 4169, 6, 34, ...]</td>\n",
       "      <td>[0, 250, 5307, 3167, 34, 57, 1340, 19, 634, 10, 25209, 18, 1047, 1316, 7, 146, 10, 4840, 1856, 136, 5, 334, 147, 79, 1006, 4, 2]</td>\n",
       "      <td>A teaching assistant has been charged with using a pupil's email account to make a bomb threat against the school where she worked.</td>\n",
       "    </tr>\n",
       "    <tr>\n",
       "      <th>3</th>\n",
       "      <td>[1, 1, 1, 1, 1, 1, 1, 1, 1, 1, 1, 1, 1, 1, 1, 1, 1, 1, 1, 1, 1, 1, 1, 1, 1, 1, 1, 1, 1, 1, 1, 1, 1, 1, 1, 1, 1, 1, 1, 1, 1, 1, 1, 1, 1, 1, 1, 1, 1, 1, 1, 1, 1, 1, 1, 1, 1, 1, 1, 1, 1, 1, 1, 1, 1, 1, 1, 1, 1, 1, 1, 1, 1, 1, 1, 1, 1, 1, 1, 1, 1, 1, 1, 1, 1, 1, 1, 1, 1, 1, 1, 1, 1, 1, 1, 1, 1, 1, 1, 1, ...]</td>\n",
       "      <td>Police seized 12kg of high purity cocaine equivalent to 48kg of cut cocaine worth between £1.5m and £4.5m. Cardiff Crown Court heard at least 36kg of mephedrone worth up to £300,000 was also seized. Eleven of the 13 defendants from Blaenau Gwent, Newport and Rhondda Cynon Taff were jailed for drugs offences. Ashley Burgham, 28, from Blaina was described as the head of the organisation with Michael Barnes, 32, from Abertillery, as his second in command who met national suppliers. Others were couriers who supplied downstream customers and met suppliers. Gwent Police also seized £205,494 in cash during the operation. Originally, the gang met an Albanian crime group to get hold of drugs, but when this relationship ended, they turned to a supplier in Spain. Det Chf Insp Roger Fortey said: Officers carried out a meticulous enquiry to dismantle this sophisticated organised crime group. The defendants in this case were motivated by greed and profits and had convinced themselves that they were untouchable.</td>\n",
       "      <td>35074571</td>\n",
       "      <td>[0, 9497, 5942, 316, 9043, 9, 239, 32195, 9890, 6305, 7, 2929, 9043, 9, 847, 9890, 966, 227, 984, 134, 4, 245, 119, 8, 984, 306, 4, 245, 119, 4, 12426, 5748, 837, 1317, 23, 513, 2491, 9043, 9, 162, 642, 4183, 22253, 966, 62, 7, 984, 2965, 6, 151, 21, 67, 5942, 4, 22243, 9, 5, 508, 9483, 31, 2091, 102, 225, 1180, 272, 31135, 6, 13704, 8, 8778, 2832, 6106, 43042, 261, 255, 3707, 58, 8420, 13, 2196, 9971, 4, 7558, 4273, 4147, 424, 6, 971, 6, 31, 2091, 23482, 21, 1602, 25, 5, 471, 9, 5, 6010, ...]</td>\n",
       "      <td>[0, 31339, 9, 41, 8125, 1846, 5188, 54, 37057, 7, 1787, 2535, 9, 2697, 966, 9, 2196, 33, 57, 8420, 4, 2]</td>\n",
       "      <td>Members of an organised crime gang who plotted to supply millions of pounds worth of drugs have been jailed.</td>\n",
       "    </tr>\n",
       "    <tr>\n",
       "      <th>4</th>\n",
       "      <td>[1, 1, 1, 1, 1, 1, 1, 1, 1, 1, 1, 1, 1, 1, 1, 1, 1, 1, 1, 1, 1, 1, 1, 1, 1, 1, 1, 1, 1, 1, 1, 1, 1, 1, 1, 1, 1, 1, 1, 1, 1, 1, 1, 1, 1, 1, 1, 1, 1, 1, 1, 1, 1, 1, 1, 1, 1, 1, 1, 1, 1, 1, 1, 1, 1, 1, 1, 1, 1, 1, 1, 1, 1, 1, 1, 1, 1, 1, 1, 1, 1, 1, 1, 1, 1, 1, 1, 1, 1, 1, 1, 1, 1, 1, 1, 1, 1, 1, 1, 1, ...]</td>\n",
       "      <td>It is the second successive time the area has been at the bottom of the Scottish Index of Multiple Deprivation (SIMD), which is published every four years. Statisticians rate almost 7,000 areas in Scotland by standards including income, employability and health. Lower Whitecraigs in East Renfrewshire is classed as the least deprived. Glasgow has 56 of the 100 most deprived areas, down five on 2012. Edinburgh has six, up two on four years ago. The 10 most deprived areas in Scotland: The 10 least deprived areas in Scotland: Renfrewshire Council, which covers the area including Ferguslie Park, said a long-term plan to change the areas fortunes was already under way. Council leader Mark Macmillan said: The council has adopted an innovative approach to tackling poverty, recognised as leading the way in Scotland - and the SIMD stats are based on data from last year which does not fully capture the impact of that. The figures show the overall picture for Renfrewshire has improved and we believe we are making a difference on the ground. In the four years since the last SIMD figures were released, Renfrewshire has seen a 10% real-terms drop in the cash coming our way from Holyrood. The deprivation issues affecting Ferguslie and similar areas are long-term and deep-rooted - there are no easy solutions but through our unique approach, we believe we are on the right track. The Scottish government said the figures showed why Scotland needs a government committed to tackling deep-seated deprivation, poverty and inequalities. Communities Secretary Angela Constance said: This will not be an easy job while we do not have the full levers of power, but I am determined we take on the challenge of making a generational change for those areas that have been in poverty for too long. In the face of continuing UK government welfare cuts, an austerity agenda and attempts to take Scotland out of Europe, this will continue to be a long-term challenge. She added: We are spending Â£100m protecting people against the worst effects of welfare reform and every pound spent on mitigation measures is a pound less that can be spent on lifting people out of poverty. The Scottish Conservatives said the figures should be a wake-up call to the SNP government. Equalities spokeswoman Annie Wells said: There are many causes of deprivation - poverty, family breakdown, drug and alcohol abuse, low educational standards and poor health and we now need a new approach. Powers need to be devolved from the Scottish government to enable cities and city-regions to work more closely together to regenerate and redevelop their local economies. Scottish Labours deputy leader Alex Rowley said: If we are serious about cutting the gap between the richest and the rest we need to fully understand the picture of poverty in Scotland. These numbers are an important start - and they show a Scotland which remains too unequal, and further SNP cuts will only make it worse. The most deprived communities in Scotland will suffer more because of hundreds of millions of pounds of cuts to schools and local services, whilst our health boards are faced with millions of pounds of cuts because the SNP arent giving our NHS the resources it needs. Scottish Greens spokeswoman Alison Johnstone MSP said: If were to boost incomes, employment chances and health, we need to see greater ambition from Scottish ministers and local authorities. Yes, the Westminster governments continuing agenda of cuts plays a part, but we cannot let that stop us. We can push further on a real Living Wage across our economy, and we can boost peoples health by committing to a major programme of housebuilding and energy efficiency measures, along with better public transport and cycling and walking infrastructure. Analysis by Reevel Alderson, BBC Scotland Home affairs correspondent The Scottish Index of Multiple Deprivation (SIMD) is published every four years. It provides the government and local authorities with a considerable amount of information aimed at helping them tackle the problem. The index breaks Scotland down into 6,976 datazones, effectively small postcode areas, and ranks levels of deprivation there on seven criteria. These are: income, employment, health, education, housing, access to services and crime. Overall scores are then provided for each datazone. But that is not the full picture. The statisticians say deprived does not just mean poor or low income. It can also mean people have fewer resources and opportunities, for example in health and education. One area may score well on educational outcomes for example, but have poor health and access to services. The Scottish government says this allows effective analysis for targeting of policies and funding where the aim is to wholly or partly tackle or take account of area concentrations of multiple deprivation.</td>\n",
       "      <td>37230405</td>\n",
       "      <td>[0, 243, 16, 5, 200, 12565, 86, 5, 443, 34, 57, 23, 5, 2576, 9, 5, 5411, 4648, 9, 16210, 6748, 1069, 19914, 36, 37266, 495, 238, 61, 16, 1027, 358, 237, 107, 4, 15420, 5580, 2071, 731, 818, 262, 6, 151, 911, 11, 3430, 30, 2820, 217, 1425, 6, 12735, 4484, 8, 474, 4, 9978, 735, 438, 763, 15409, 11, 953, 6340, 506, 10461, 9959, 16, 1380, 196, 25, 5, 513, 22632, 4, 10496, 34, 4772, 9, 5, 727, 144, 22632, 911, 6, 159, 292, 15, 1125, 4, 9652, 34, 411, 6, 62, 80, 15, 237, 107, 536, 4, ...]</td>\n",
       "      <td>[0, 597, 39610, 11527, 861, 11, 5476, 354, 607, 34, 57, 2006, 25, 5, 443, 9, 3430, 19, 5, 3968, 672, 9, 31322, 4, 2]</td>\n",
       "      <td>Ferguslie Park in Paisley has been identified as the area of Scotland with the greatest level of deprivation.</td>\n",
       "    </tr>\n",
       "  </tbody>\n",
       "</table>"
      ],
      "text/plain": [
       "<IPython.core.display.HTML object>"
      ]
     },
     "metadata": {},
     "output_type": "display_data"
    },
    {
     "data": {
      "text/html": [
       "<table border=\"1\" class=\"dataframe\">\n",
       "  <thead>\n",
       "    <tr style=\"text-align: right;\">\n",
       "      <th></th>\n",
       "      <th>attention_mask</th>\n",
       "      <th>document</th>\n",
       "      <th>id</th>\n",
       "      <th>input_ids</th>\n",
       "      <th>labels</th>\n",
       "      <th>summary</th>\n",
       "    </tr>\n",
       "  </thead>\n",
       "  <tbody>\n",
       "    <tr>\n",
       "      <th>0</th>\n",
       "      <td>[1, 1, 1, 1, 1, 1, 1, 1, 1, 1, 1, 1, 1, 1, 1, 1, 1, 1, 1, 1, 1, 1, 1, 1, 1, 1, 1, 1, 1, 1, 1, 1, 1, 1, 1, 1, 1, 1, 1, 1, 1, 1, 1, 1, 1, 1, 1, 1, 1, 1, 1, 1, 1, 1, 1, 1, 1, 1, 1, 1, 1, 1, 1, 1, 1, 1, 1, 1, 1, 1, 1, 1, 1, 1, 1, 1, 1, 1, 1, 1, 1, 1, 1, 1, 1, 1, 1, 1, 1, 1, 1, 1, 1, 1, 1, 1, 1, 1, 1, 1, ...]</td>\n",
       "      <td>His comments come amid the expenses scandal that has embroiled the government for the past three weeks. Mr Abbott said on Friday the woman at the centre of the scandal, Speaker of the House of Representatives Bronwyn Bishop, was deeply remorseful about her use of taxpayers funds to travel to friends weddings and Liberal party functions. The prime minister has himself had to pay back money spent on travel in the past. The scandal began when it became public that Ms Bishop had spent A$5,000 ($3,647; Â£2,339) of public funds on a helicopter flight to a Liberal Party function that could have easily been reached by road. She has also claimed expenses for travel to several weddings of her Liberal Party colleagues. Australias rules about travel entitlements for politicians are hazy but Ms Bishops spending set social media on fire and she soon became the speaker who sparked a thousand memes. The Facebook page Bronwyn Bishop Memes gained more than 13,000 followers in just a week, as users poked fun at her chopper ride. Memes have adopted the helicopter as their main tool to mock the speaker, with Ms Bishop using chopper flights for everything from taking extreme holidays and dropping the kids at the local swimming pool to going for a jog - via chopper. The public have also had fun at her expense with cultural references ranging from Australian TV soap operas to movies such as 101 Dalmatians and Francis Ford Coppolas Apocalypse Now. Social media taunts even included sly hints towards other expenses scandals, such as the misuse of living away from home allowances for politicians. Ms Bishop has apologised and is paying back the helicopter costs but she is resisting calls, from independent senators and reportedly even from some members of the government, to resign. I love this country very much and it does sadden me that I have let [the public] down, Ms Bishop told reporters. I wont resign from the position but I will be working very hard, she said.</td>\n",
       "      <td>33713495</td>\n",
       "      <td>[0, 9962, 1450, 283, 2876, 5, 4068, 4220, 14, 34, 23958, 5, 168, 13, 5, 375, 130, 688, 4, 427, 11082, 26, 15, 273, 5, 693, 23, 5, 2100, 9, 5, 4220, 6, 6358, 9, 5, 446, 9, 7395, 17228, 16541, 8163, 6, 21, 4814, 23312, 2650, 59, 69, 304, 9, 7660, 1188, 7, 1504, 7, 964, 21596, 8, 7612, 537, 8047, 4, 20, 2654, 1269, 34, 1003, 56, 7, 582, 124, 418, 1240, 15, 1504, 11, 5, 375, 4, 20, 4220, 880, 77, 24, 1059, 285, 14, 2135, 8163, 56, 1240, 83, 1629, 245, 6, 151, 1358, 246, 6, ...]</td>\n",
       "      <td>[0, 25973, 692, 3621, 11082, 34, 9180, 2059, 3770, 51, 1395, 22, 6460, 409, 19, 26005, 5, 1492, 113, 15, 4068, 4, 2]</td>\n",
       "      <td>Prime Minister Tony Abbott has reminded Australian politicians they cannot \"get away with exploiting the rules\" on expenses.</td>\n",
       "    </tr>\n",
       "    <tr>\n",
       "      <th>1</th>\n",
       "      <td>[1, 1, 1, 1, 1, 1, 1, 1, 1, 1, 1, 1, 1, 1, 1, 1, 1, 1, 1, 1, 1, 1, 1, 1, 1, 1, 1, 1, 1, 1, 1, 1, 1, 1, 1, 1, 1, 1, 1, 1, 1, 1, 1, 1, 1, 1, 1, 1, 1, 1, 1, 1, 1, 1, 1, 1, 1, 1, 1, 1, 1, 1, 1, 1, 1, 1, 1, 1, 1, 1, 1, 1, 1, 1, 1, 1, 1, 1, 1, 1, 1, 1, 1, 1, 1, 1, 1, 1, 1, 1, 1, 1, 1, 1, 1, 1, 1, 1, 1, 1, ...]</td>\n",
       "      <td>The witches marks were often carved near entrances to buildings, including the house where Shakespeare was born and the Tower of London. The symbols were believed to offer protection when belief in witchcraft and the supernatural was widespread. But heritage agency Historic England says too little is known about them. This Halloween it is calling for people to document the marks, which can be found in medieval houses, churches and other buildings, most commonly from around 1550 to 1750. The symbols, which were intended to protect inhabitants and visitors of buildings from witches and evil spirits, took many forms, including patterns and sometimes letters. The most common type was the Daisy Wheel, which looked like a flower drawn with a compass in a single endless line that was supposed to confuse and entrap evil spirits. They also took the form of letters, such as AM for Ave Maria, M for Mary or VV, for Virgin of Virgins, scratched into medieval walls, engraved on wooden beams and etched into plasterwork to evoke the protective power of the Virgin Mary. Known examples include several found at Shakespeares birthplace in Stratford-upon-Avon, Warwickshire, carved near the cellar door where beer was kept, and at the Tithe Barn, Bradford-on-Avon, Wiltshire, to protect crops. Others have been found in caves, such as the Witches Chimney at Wookey Hole, Somerset, which has numerous markings. Duncan Wilson, chief executive of Historic England, said: Witches marks are a physical reminder of how our ancestors saw the world. They really fire the imagination and can teach us about previously-held beliefs and common rituals. Ritual marks were cut, scratched or carved into our ancestors homes and churches in the hope of making the world a safer, less hostile place. They were such a common part of everyday life that they were unremarkable and because they are easy to overlook, the recorded evidence we hold about where they appear and what form they take is thin.</td>\n",
       "      <td>37817785</td>\n",
       "      <td>[0, 133, 39699, 4863, 58, 747, 20209, 583, 32014, 7, 3413, 6, 217, 5, 790, 147, 16538, 21, 2421, 8, 5, 7186, 9, 928, 4, 20, 19830, 58, 2047, 7, 904, 2591, 77, 6563, 11, 42470, 8, 5, 32049, 21, 5859, 4, 125, 7788, 1218, 15541, 1156, 161, 350, 410, 16, 684, 59, 106, 4, 152, 8789, 24, 16, 1765, 13, 82, 7, 3780, 5, 4863, 6, 61, 64, 28, 303, 11, 25818, 3960, 6, 10550, 8, 97, 3413, 6, 144, 10266, 31, 198, 379, 1096, 7, 601, 1096, 4, 20, 19830, 6, 61, 58, 3833, 7, 1744, 24696, 8, ...]</td>\n",
       "      <td>[0, 31339, 9, 5, 285, 32, 145, 553, 7, 244, 1045, 10, 638, 9, 19100, 35480, 15, 3413, 14, 58, 683, 2047, 7, 11898, 160, 9247, 11656, 4, 2]</td>\n",
       "      <td>Members of the public are being asked to help create a record of ritual markings on buildings that were once believed to ward off evil spirits.</td>\n",
       "    </tr>\n",
       "    <tr>\n",
       "      <th>2</th>\n",
       "      <td>[1, 1, 1, 1, 1, 1, 1, 1, 1, 1, 1, 1, 1, 1, 1, 1, 1, 1, 1, 1, 1, 1, 1, 1, 1, 1, 1, 1, 1, 1, 1, 1, 1, 1, 1, 1, 1, 1, 1, 1, 1, 1, 1, 1, 1, 1, 1, 1, 1, 1, 1, 1, 1, 1, 1, 1, 1, 1, 1, 1, 1, 1, 1, 1, 1, 1, 1, 1, 1, 1, 1, 1, 1, 1, 1, 1, 1, 1, 1, 1, 1, 1, 1, 1, 1, 1, 1, 1, 1, 1, 1, 1, 1, 1, 1, 1, 1, 1, 1, 1, ...]</td>\n",
       "      <td>Zoe Gregory, 26, is accused of sending a message claiming an explosive had been left at Ormiston Victory Academy in Costessey, Norfolk, on 9 February. The 16-year-old girls home was raided and she was questioned over the threat by police. Ms Gregory has been bailed to appear before Norwich magistrates on 14 April. She has been charged with communicating false information and unauthorised computer access. Ms Gregory, of Blackhill Wood Lane, Costessey, has been dismissed from her role, said a school spokeswoman.</td>\n",
       "      <td>32144689</td>\n",
       "      <td>[0, 1301, 3540, 12006, 6, 973, 6, 16, 1238, 9, 3981, 10, 1579, 4564, 41, 8560, 56, 57, 314, 23, 1793, 119, 15819, 15908, 3536, 11, 7860, 293, 4169, 6, 13261, 6, 15, 361, 902, 4, 20, 545, 12, 180, 12, 279, 1972, 184, 21, 18000, 8, 79, 21, 5249, 81, 5, 1856, 30, 249, 4, 2135, 12006, 34, 57, 30584, 7, 2082, 137, 18749, 9931, 15596, 15, 501, 587, 4, 264, 34, 57, 1340, 19, 17957, 3950, 335, 8, 542, 11515, 1720, 3034, 899, 4, 2135, 12006, 6, 9, 1378, 9583, 3132, 5503, 6, 7860, 293, 4169, 6, 34, ...]</td>\n",
       "      <td>[0, 250, 5307, 3167, 34, 57, 1340, 19, 634, 10, 25209, 18, 1047, 1316, 7, 146, 10, 4840, 1856, 136, 5, 334, 147, 79, 1006, 4, 2]</td>\n",
       "      <td>A teaching assistant has been charged with using a pupil's email account to make a bomb threat against the school where she worked.</td>\n",
       "    </tr>\n",
       "    <tr>\n",
       "      <th>3</th>\n",
       "      <td>[1, 1, 1, 1, 1, 1, 1, 1, 1, 1, 1, 1, 1, 1, 1, 1, 1, 1, 1, 1, 1, 1, 1, 1, 1, 1, 1, 1, 1, 1, 1, 1, 1, 1, 1, 1, 1, 1, 1, 1, 1, 1, 1, 1, 1, 1, 1, 1, 1, 1, 1, 1, 1, 1, 1, 1, 1, 1, 1, 1, 1, 1, 1, 1, 1, 1, 1, 1, 1, 1, 1, 1, 1, 1, 1, 1, 1, 1, 1, 1, 1, 1, 1, 1, 1, 1, 1, 1, 1, 1, 1, 1, 1, 1, 1, 1, 1, 1, 1, 1, ...]</td>\n",
       "      <td>Police seized 12kg of high purity cocaine equivalent to 48kg of cut cocaine worth between £1.5m and £4.5m. Cardiff Crown Court heard at least 36kg of mephedrone worth up to £300,000 was also seized. Eleven of the 13 defendants from Blaenau Gwent, Newport and Rhondda Cynon Taff were jailed for drugs offences. Ashley Burgham, 28, from Blaina was described as the head of the organisation with Michael Barnes, 32, from Abertillery, as his second in command who met national suppliers. Others were couriers who supplied downstream customers and met suppliers. Gwent Police also seized £205,494 in cash during the operation. Originally, the gang met an Albanian crime group to get hold of drugs, but when this relationship ended, they turned to a supplier in Spain. Det Chf Insp Roger Fortey said: Officers carried out a meticulous enquiry to dismantle this sophisticated organised crime group. The defendants in this case were motivated by greed and profits and had convinced themselves that they were untouchable.</td>\n",
       "      <td>35074571</td>\n",
       "      <td>[0, 9497, 5942, 316, 9043, 9, 239, 32195, 9890, 6305, 7, 2929, 9043, 9, 847, 9890, 966, 227, 984, 134, 4, 245, 119, 8, 984, 306, 4, 245, 119, 4, 12426, 5748, 837, 1317, 23, 513, 2491, 9043, 9, 162, 642, 4183, 22253, 966, 62, 7, 984, 2965, 6, 151, 21, 67, 5942, 4, 22243, 9, 5, 508, 9483, 31, 2091, 102, 225, 1180, 272, 31135, 6, 13704, 8, 8778, 2832, 6106, 43042, 261, 255, 3707, 58, 8420, 13, 2196, 9971, 4, 7558, 4273, 4147, 424, 6, 971, 6, 31, 2091, 23482, 21, 1602, 25, 5, 471, 9, 5, 6010, ...]</td>\n",
       "      <td>[0, 31339, 9, 41, 8125, 1846, 5188, 54, 37057, 7, 1787, 2535, 9, 2697, 966, 9, 2196, 33, 57, 8420, 4, 2]</td>\n",
       "      <td>Members of an organised crime gang who plotted to supply millions of pounds worth of drugs have been jailed.</td>\n",
       "    </tr>\n",
       "    <tr>\n",
       "      <th>4</th>\n",
       "      <td>[1, 1, 1, 1, 1, 1, 1, 1, 1, 1, 1, 1, 1, 1, 1, 1, 1, 1, 1, 1, 1, 1, 1, 1, 1, 1, 1, 1, 1, 1, 1, 1, 1, 1, 1, 1, 1, 1, 1, 1, 1, 1, 1, 1, 1, 1, 1, 1, 1, 1, 1, 1, 1, 1, 1, 1, 1, 1, 1, 1, 1, 1, 1, 1, 1, 1, 1, 1, 1, 1, 1, 1, 1, 1, 1, 1, 1, 1, 1, 1, 1, 1, 1, 1, 1, 1, 1, 1, 1, 1, 1, 1, 1, 1, 1, 1, 1, 1, 1, 1, ...]</td>\n",
       "      <td>It is the second successive time the area has been at the bottom of the Scottish Index of Multiple Deprivation (SIMD), which is published every four years. Statisticians rate almost 7,000 areas in Scotland by standards including income, employability and health. Lower Whitecraigs in East Renfrewshire is classed as the least deprived. Glasgow has 56 of the 100 most deprived areas, down five on 2012. Edinburgh has six, up two on four years ago. The 10 most deprived areas in Scotland: The 10 least deprived areas in Scotland: Renfrewshire Council, which covers the area including Ferguslie Park, said a long-term plan to change the areas fortunes was already under way. Council leader Mark Macmillan said: The council has adopted an innovative approach to tackling poverty, recognised as leading the way in Scotland - and the SIMD stats are based on data from last year which does not fully capture the impact of that. The figures show the overall picture for Renfrewshire has improved and we believe we are making a difference on the ground. In the four years since the last SIMD figures were released, Renfrewshire has seen a 10% real-terms drop in the cash coming our way from Holyrood. The deprivation issues affecting Ferguslie and similar areas are long-term and deep-rooted - there are no easy solutions but through our unique approach, we believe we are on the right track. The Scottish government said the figures showed why Scotland needs a government committed to tackling deep-seated deprivation, poverty and inequalities. Communities Secretary Angela Constance said: This will not be an easy job while we do not have the full levers of power, but I am determined we take on the challenge of making a generational change for those areas that have been in poverty for too long. In the face of continuing UK government welfare cuts, an austerity agenda and attempts to take Scotland out of Europe, this will continue to be a long-term challenge. She added: We are spending Â£100m protecting people against the worst effects of welfare reform and every pound spent on mitigation measures is a pound less that can be spent on lifting people out of poverty. The Scottish Conservatives said the figures should be a wake-up call to the SNP government. Equalities spokeswoman Annie Wells said: There are many causes of deprivation - poverty, family breakdown, drug and alcohol abuse, low educational standards and poor health and we now need a new approach. Powers need to be devolved from the Scottish government to enable cities and city-regions to work more closely together to regenerate and redevelop their local economies. Scottish Labours deputy leader Alex Rowley said: If we are serious about cutting the gap between the richest and the rest we need to fully understand the picture of poverty in Scotland. These numbers are an important start - and they show a Scotland which remains too unequal, and further SNP cuts will only make it worse. The most deprived communities in Scotland will suffer more because of hundreds of millions of pounds of cuts to schools and local services, whilst our health boards are faced with millions of pounds of cuts because the SNP arent giving our NHS the resources it needs. Scottish Greens spokeswoman Alison Johnstone MSP said: If were to boost incomes, employment chances and health, we need to see greater ambition from Scottish ministers and local authorities. Yes, the Westminster governments continuing agenda of cuts plays a part, but we cannot let that stop us. We can push further on a real Living Wage across our economy, and we can boost peoples health by committing to a major programme of housebuilding and energy efficiency measures, along with better public transport and cycling and walking infrastructure. Analysis by Reevel Alderson, BBC Scotland Home affairs correspondent The Scottish Index of Multiple Deprivation (SIMD) is published every four years. It provides the government and local authorities with a considerable amount of information aimed at helping them tackle the problem. The index breaks Scotland down into 6,976 datazones, effectively small postcode areas, and ranks levels of deprivation there on seven criteria. These are: income, employment, health, education, housing, access to services and crime. Overall scores are then provided for each datazone. But that is not the full picture. The statisticians say deprived does not just mean poor or low income. It can also mean people have fewer resources and opportunities, for example in health and education. One area may score well on educational outcomes for example, but have poor health and access to services. The Scottish government says this allows effective analysis for targeting of policies and funding where the aim is to wholly or partly tackle or take account of area concentrations of multiple deprivation.</td>\n",
       "      <td>37230405</td>\n",
       "      <td>[0, 243, 16, 5, 200, 12565, 86, 5, 443, 34, 57, 23, 5, 2576, 9, 5, 5411, 4648, 9, 16210, 6748, 1069, 19914, 36, 37266, 495, 238, 61, 16, 1027, 358, 237, 107, 4, 15420, 5580, 2071, 731, 818, 262, 6, 151, 911, 11, 3430, 30, 2820, 217, 1425, 6, 12735, 4484, 8, 474, 4, 9978, 735, 438, 763, 15409, 11, 953, 6340, 506, 10461, 9959, 16, 1380, 196, 25, 5, 513, 22632, 4, 10496, 34, 4772, 9, 5, 727, 144, 22632, 911, 6, 159, 292, 15, 1125, 4, 9652, 34, 411, 6, 62, 80, 15, 237, 107, 536, 4, ...]</td>\n",
       "      <td>[0, 597, 39610, 11527, 861, 11, 5476, 354, 607, 34, 57, 2006, 25, 5, 443, 9, 3430, 19, 5, 3968, 672, 9, 31322, 4, 2]</td>\n",
       "      <td>Ferguslie Park in Paisley has been identified as the area of Scotland with the greatest level of deprivation.</td>\n",
       "    </tr>\n",
       "  </tbody>\n",
       "</table>"
      ],
      "text/plain": [
       "<IPython.core.display.HTML object>"
      ]
     },
     "metadata": {},
     "output_type": "display_data"
    },
    {
     "data": {
      "text/html": [
       "<table border=\"1\" class=\"dataframe\">\n",
       "  <thead>\n",
       "    <tr style=\"text-align: right;\">\n",
       "      <th></th>\n",
       "      <th>attention_mask</th>\n",
       "      <th>document</th>\n",
       "      <th>id</th>\n",
       "      <th>input_ids</th>\n",
       "      <th>labels</th>\n",
       "      <th>summary</th>\n",
       "    </tr>\n",
       "  </thead>\n",
       "  <tbody>\n",
       "    <tr>\n",
       "      <th>0</th>\n",
       "      <td>[1, 1, 1, 1, 1, 1, 1, 1, 1, 1, 1, 1, 1, 1, 1, 1, 1, 1, 1, 1, 1, 1, 1, 1, 1, 1, 1, 1, 1, 1, 1, 1, 1, 1, 1, 1, 1, 1, 1, 1, 1, 1, 1, 1, 1, 1, 1, 1, 1, 1, 1, 1, 1, 1, 1, 1, 1, 1, 1, 1, 1, 1, 1, 1, 1, 1, 1, 1, 1, 1, 1, 1, 1, 1, 1, 1, 1, 1, 1, 1, 1, 1, 1, 1, 1, 1, 1, 1, 1, 1, 1, 1, 1, 1, 1, 1, 1, 1, 1, 1, ...]</td>\n",
       "      <td>His comments come amid the expenses scandal that has embroiled the government for the past three weeks. Mr Abbott said on Friday the woman at the centre of the scandal, Speaker of the House of Representatives Bronwyn Bishop, was deeply remorseful about her use of taxpayers funds to travel to friends weddings and Liberal party functions. The prime minister has himself had to pay back money spent on travel in the past. The scandal began when it became public that Ms Bishop had spent A$5,000 ($3,647; Â£2,339) of public funds on a helicopter flight to a Liberal Party function that could have easily been reached by road. She has also claimed expenses for travel to several weddings of her Liberal Party colleagues. Australias rules about travel entitlements for politicians are hazy but Ms Bishops spending set social media on fire and she soon became the speaker who sparked a thousand memes. The Facebook page Bronwyn Bishop Memes gained more than 13,000 followers in just a week, as users poked fun at her chopper ride. Memes have adopted the helicopter as their main tool to mock the speaker, with Ms Bishop using chopper flights for everything from taking extreme holidays and dropping the kids at the local swimming pool to going for a jog - via chopper. The public have also had fun at her expense with cultural references ranging from Australian TV soap operas to movies such as 101 Dalmatians and Francis Ford Coppolas Apocalypse Now. Social media taunts even included sly hints towards other expenses scandals, such as the misuse of living away from home allowances for politicians. Ms Bishop has apologised and is paying back the helicopter costs but she is resisting calls, from independent senators and reportedly even from some members of the government, to resign. I love this country very much and it does sadden me that I have let [the public] down, Ms Bishop told reporters. I wont resign from the position but I will be working very hard, she said.</td>\n",
       "      <td>33713495</td>\n",
       "      <td>[0, 9962, 1450, 283, 2876, 5, 4068, 4220, 14, 34, 23958, 5, 168, 13, 5, 375, 130, 688, 4, 427, 11082, 26, 15, 273, 5, 693, 23, 5, 2100, 9, 5, 4220, 6, 6358, 9, 5, 446, 9, 7395, 17228, 16541, 8163, 6, 21, 4814, 23312, 2650, 59, 69, 304, 9, 7660, 1188, 7, 1504, 7, 964, 21596, 8, 7612, 537, 8047, 4, 20, 2654, 1269, 34, 1003, 56, 7, 582, 124, 418, 1240, 15, 1504, 11, 5, 375, 4, 20, 4220, 880, 77, 24, 1059, 285, 14, 2135, 8163, 56, 1240, 83, 1629, 245, 6, 151, 1358, 246, 6, ...]</td>\n",
       "      <td>[0, 25973, 692, 3621, 11082, 34, 9180, 2059, 3770, 51, 1395, 22, 6460, 409, 19, 26005, 5, 1492, 113, 15, 4068, 4, 2]</td>\n",
       "      <td>Prime Minister Tony Abbott has reminded Australian politicians they cannot \"get away with exploiting the rules\" on expenses.</td>\n",
       "    </tr>\n",
       "    <tr>\n",
       "      <th>1</th>\n",
       "      <td>[1, 1, 1, 1, 1, 1, 1, 1, 1, 1, 1, 1, 1, 1, 1, 1, 1, 1, 1, 1, 1, 1, 1, 1, 1, 1, 1, 1, 1, 1, 1, 1, 1, 1, 1, 1, 1, 1, 1, 1, 1, 1, 1, 1, 1, 1, 1, 1, 1, 1, 1, 1, 1, 1, 1, 1, 1, 1, 1, 1, 1, 1, 1, 1, 1, 1, 1, 1, 1, 1, 1, 1, 1, 1, 1, 1, 1, 1, 1, 1, 1, 1, 1, 1, 1, 1, 1, 1, 1, 1, 1, 1, 1, 1, 1, 1, 1, 1, 1, 1, ...]</td>\n",
       "      <td>The witches marks were often carved near entrances to buildings, including the house where Shakespeare was born and the Tower of London. The symbols were believed to offer protection when belief in witchcraft and the supernatural was widespread. But heritage agency Historic England says too little is known about them. This Halloween it is calling for people to document the marks, which can be found in medieval houses, churches and other buildings, most commonly from around 1550 to 1750. The symbols, which were intended to protect inhabitants and visitors of buildings from witches and evil spirits, took many forms, including patterns and sometimes letters. The most common type was the Daisy Wheel, which looked like a flower drawn with a compass in a single endless line that was supposed to confuse and entrap evil spirits. They also took the form of letters, such as AM for Ave Maria, M for Mary or VV, for Virgin of Virgins, scratched into medieval walls, engraved on wooden beams and etched into plasterwork to evoke the protective power of the Virgin Mary. Known examples include several found at Shakespeares birthplace in Stratford-upon-Avon, Warwickshire, carved near the cellar door where beer was kept, and at the Tithe Barn, Bradford-on-Avon, Wiltshire, to protect crops. Others have been found in caves, such as the Witches Chimney at Wookey Hole, Somerset, which has numerous markings. Duncan Wilson, chief executive of Historic England, said: Witches marks are a physical reminder of how our ancestors saw the world. They really fire the imagination and can teach us about previously-held beliefs and common rituals. Ritual marks were cut, scratched or carved into our ancestors homes and churches in the hope of making the world a safer, less hostile place. They were such a common part of everyday life that they were unremarkable and because they are easy to overlook, the recorded evidence we hold about where they appear and what form they take is thin.</td>\n",
       "      <td>37817785</td>\n",
       "      <td>[0, 133, 39699, 4863, 58, 747, 20209, 583, 32014, 7, 3413, 6, 217, 5, 790, 147, 16538, 21, 2421, 8, 5, 7186, 9, 928, 4, 20, 19830, 58, 2047, 7, 904, 2591, 77, 6563, 11, 42470, 8, 5, 32049, 21, 5859, 4, 125, 7788, 1218, 15541, 1156, 161, 350, 410, 16, 684, 59, 106, 4, 152, 8789, 24, 16, 1765, 13, 82, 7, 3780, 5, 4863, 6, 61, 64, 28, 303, 11, 25818, 3960, 6, 10550, 8, 97, 3413, 6, 144, 10266, 31, 198, 379, 1096, 7, 601, 1096, 4, 20, 19830, 6, 61, 58, 3833, 7, 1744, 24696, 8, ...]</td>\n",
       "      <td>[0, 31339, 9, 5, 285, 32, 145, 553, 7, 244, 1045, 10, 638, 9, 19100, 35480, 15, 3413, 14, 58, 683, 2047, 7, 11898, 160, 9247, 11656, 4, 2]</td>\n",
       "      <td>Members of the public are being asked to help create a record of ritual markings on buildings that were once believed to ward off evil spirits.</td>\n",
       "    </tr>\n",
       "    <tr>\n",
       "      <th>2</th>\n",
       "      <td>[1, 1, 1, 1, 1, 1, 1, 1, 1, 1, 1, 1, 1, 1, 1, 1, 1, 1, 1, 1, 1, 1, 1, 1, 1, 1, 1, 1, 1, 1, 1, 1, 1, 1, 1, 1, 1, 1, 1, 1, 1, 1, 1, 1, 1, 1, 1, 1, 1, 1, 1, 1, 1, 1, 1, 1, 1, 1, 1, 1, 1, 1, 1, 1, 1, 1, 1, 1, 1, 1, 1, 1, 1, 1, 1, 1, 1, 1, 1, 1, 1, 1, 1, 1, 1, 1, 1, 1, 1, 1, 1, 1, 1, 1, 1, 1, 1, 1, 1, 1, ...]</td>\n",
       "      <td>Zoe Gregory, 26, is accused of sending a message claiming an explosive had been left at Ormiston Victory Academy in Costessey, Norfolk, on 9 February. The 16-year-old girls home was raided and she was questioned over the threat by police. Ms Gregory has been bailed to appear before Norwich magistrates on 14 April. She has been charged with communicating false information and unauthorised computer access. Ms Gregory, of Blackhill Wood Lane, Costessey, has been dismissed from her role, said a school spokeswoman.</td>\n",
       "      <td>32144689</td>\n",
       "      <td>[0, 1301, 3540, 12006, 6, 973, 6, 16, 1238, 9, 3981, 10, 1579, 4564, 41, 8560, 56, 57, 314, 23, 1793, 119, 15819, 15908, 3536, 11, 7860, 293, 4169, 6, 13261, 6, 15, 361, 902, 4, 20, 545, 12, 180, 12, 279, 1972, 184, 21, 18000, 8, 79, 21, 5249, 81, 5, 1856, 30, 249, 4, 2135, 12006, 34, 57, 30584, 7, 2082, 137, 18749, 9931, 15596, 15, 501, 587, 4, 264, 34, 57, 1340, 19, 17957, 3950, 335, 8, 542, 11515, 1720, 3034, 899, 4, 2135, 12006, 6, 9, 1378, 9583, 3132, 5503, 6, 7860, 293, 4169, 6, 34, ...]</td>\n",
       "      <td>[0, 250, 5307, 3167, 34, 57, 1340, 19, 634, 10, 25209, 18, 1047, 1316, 7, 146, 10, 4840, 1856, 136, 5, 334, 147, 79, 1006, 4, 2]</td>\n",
       "      <td>A teaching assistant has been charged with using a pupil's email account to make a bomb threat against the school where she worked.</td>\n",
       "    </tr>\n",
       "    <tr>\n",
       "      <th>3</th>\n",
       "      <td>[1, 1, 1, 1, 1, 1, 1, 1, 1, 1, 1, 1, 1, 1, 1, 1, 1, 1, 1, 1, 1, 1, 1, 1, 1, 1, 1, 1, 1, 1, 1, 1, 1, 1, 1, 1, 1, 1, 1, 1, 1, 1, 1, 1, 1, 1, 1, 1, 1, 1, 1, 1, 1, 1, 1, 1, 1, 1, 1, 1, 1, 1, 1, 1, 1, 1, 1, 1, 1, 1, 1, 1, 1, 1, 1, 1, 1, 1, 1, 1, 1, 1, 1, 1, 1, 1, 1, 1, 1, 1, 1, 1, 1, 1, 1, 1, 1, 1, 1, 1, ...]</td>\n",
       "      <td>Police seized 12kg of high purity cocaine equivalent to 48kg of cut cocaine worth between £1.5m and £4.5m. Cardiff Crown Court heard at least 36kg of mephedrone worth up to £300,000 was also seized. Eleven of the 13 defendants from Blaenau Gwent, Newport and Rhondda Cynon Taff were jailed for drugs offences. Ashley Burgham, 28, from Blaina was described as the head of the organisation with Michael Barnes, 32, from Abertillery, as his second in command who met national suppliers. Others were couriers who supplied downstream customers and met suppliers. Gwent Police also seized £205,494 in cash during the operation. Originally, the gang met an Albanian crime group to get hold of drugs, but when this relationship ended, they turned to a supplier in Spain. Det Chf Insp Roger Fortey said: Officers carried out a meticulous enquiry to dismantle this sophisticated organised crime group. The defendants in this case were motivated by greed and profits and had convinced themselves that they were untouchable.</td>\n",
       "      <td>35074571</td>\n",
       "      <td>[0, 9497, 5942, 316, 9043, 9, 239, 32195, 9890, 6305, 7, 2929, 9043, 9, 847, 9890, 966, 227, 984, 134, 4, 245, 119, 8, 984, 306, 4, 245, 119, 4, 12426, 5748, 837, 1317, 23, 513, 2491, 9043, 9, 162, 642, 4183, 22253, 966, 62, 7, 984, 2965, 6, 151, 21, 67, 5942, 4, 22243, 9, 5, 508, 9483, 31, 2091, 102, 225, 1180, 272, 31135, 6, 13704, 8, 8778, 2832, 6106, 43042, 261, 255, 3707, 58, 8420, 13, 2196, 9971, 4, 7558, 4273, 4147, 424, 6, 971, 6, 31, 2091, 23482, 21, 1602, 25, 5, 471, 9, 5, 6010, ...]</td>\n",
       "      <td>[0, 31339, 9, 41, 8125, 1846, 5188, 54, 37057, 7, 1787, 2535, 9, 2697, 966, 9, 2196, 33, 57, 8420, 4, 2]</td>\n",
       "      <td>Members of an organised crime gang who plotted to supply millions of pounds worth of drugs have been jailed.</td>\n",
       "    </tr>\n",
       "    <tr>\n",
       "      <th>4</th>\n",
       "      <td>[1, 1, 1, 1, 1, 1, 1, 1, 1, 1, 1, 1, 1, 1, 1, 1, 1, 1, 1, 1, 1, 1, 1, 1, 1, 1, 1, 1, 1, 1, 1, 1, 1, 1, 1, 1, 1, 1, 1, 1, 1, 1, 1, 1, 1, 1, 1, 1, 1, 1, 1, 1, 1, 1, 1, 1, 1, 1, 1, 1, 1, 1, 1, 1, 1, 1, 1, 1, 1, 1, 1, 1, 1, 1, 1, 1, 1, 1, 1, 1, 1, 1, 1, 1, 1, 1, 1, 1, 1, 1, 1, 1, 1, 1, 1, 1, 1, 1, 1, 1, ...]</td>\n",
       "      <td>It is the second successive time the area has been at the bottom of the Scottish Index of Multiple Deprivation (SIMD), which is published every four years. Statisticians rate almost 7,000 areas in Scotland by standards including income, employability and health. Lower Whitecraigs in East Renfrewshire is classed as the least deprived. Glasgow has 56 of the 100 most deprived areas, down five on 2012. Edinburgh has six, up two on four years ago. The 10 most deprived areas in Scotland: The 10 least deprived areas in Scotland: Renfrewshire Council, which covers the area including Ferguslie Park, said a long-term plan to change the areas fortunes was already under way. Council leader Mark Macmillan said: The council has adopted an innovative approach to tackling poverty, recognised as leading the way in Scotland - and the SIMD stats are based on data from last year which does not fully capture the impact of that. The figures show the overall picture for Renfrewshire has improved and we believe we are making a difference on the ground. In the four years since the last SIMD figures were released, Renfrewshire has seen a 10% real-terms drop in the cash coming our way from Holyrood. The deprivation issues affecting Ferguslie and similar areas are long-term and deep-rooted - there are no easy solutions but through our unique approach, we believe we are on the right track. The Scottish government said the figures showed why Scotland needs a government committed to tackling deep-seated deprivation, poverty and inequalities. Communities Secretary Angela Constance said: This will not be an easy job while we do not have the full levers of power, but I am determined we take on the challenge of making a generational change for those areas that have been in poverty for too long. In the face of continuing UK government welfare cuts, an austerity agenda and attempts to take Scotland out of Europe, this will continue to be a long-term challenge. She added: We are spending Â£100m protecting people against the worst effects of welfare reform and every pound spent on mitigation measures is a pound less that can be spent on lifting people out of poverty. The Scottish Conservatives said the figures should be a wake-up call to the SNP government. Equalities spokeswoman Annie Wells said: There are many causes of deprivation - poverty, family breakdown, drug and alcohol abuse, low educational standards and poor health and we now need a new approach. Powers need to be devolved from the Scottish government to enable cities and city-regions to work more closely together to regenerate and redevelop their local economies. Scottish Labours deputy leader Alex Rowley said: If we are serious about cutting the gap between the richest and the rest we need to fully understand the picture of poverty in Scotland. These numbers are an important start - and they show a Scotland which remains too unequal, and further SNP cuts will only make it worse. The most deprived communities in Scotland will suffer more because of hundreds of millions of pounds of cuts to schools and local services, whilst our health boards are faced with millions of pounds of cuts because the SNP arent giving our NHS the resources it needs. Scottish Greens spokeswoman Alison Johnstone MSP said: If were to boost incomes, employment chances and health, we need to see greater ambition from Scottish ministers and local authorities. Yes, the Westminster governments continuing agenda of cuts plays a part, but we cannot let that stop us. We can push further on a real Living Wage across our economy, and we can boost peoples health by committing to a major programme of housebuilding and energy efficiency measures, along with better public transport and cycling and walking infrastructure. Analysis by Reevel Alderson, BBC Scotland Home affairs correspondent The Scottish Index of Multiple Deprivation (SIMD) is published every four years. It provides the government and local authorities with a considerable amount of information aimed at helping them tackle the problem. The index breaks Scotland down into 6,976 datazones, effectively small postcode areas, and ranks levels of deprivation there on seven criteria. These are: income, employment, health, education, housing, access to services and crime. Overall scores are then provided for each datazone. But that is not the full picture. The statisticians say deprived does not just mean poor or low income. It can also mean people have fewer resources and opportunities, for example in health and education. One area may score well on educational outcomes for example, but have poor health and access to services. The Scottish government says this allows effective analysis for targeting of policies and funding where the aim is to wholly or partly tackle or take account of area concentrations of multiple deprivation.</td>\n",
       "      <td>37230405</td>\n",
       "      <td>[0, 243, 16, 5, 200, 12565, 86, 5, 443, 34, 57, 23, 5, 2576, 9, 5, 5411, 4648, 9, 16210, 6748, 1069, 19914, 36, 37266, 495, 238, 61, 16, 1027, 358, 237, 107, 4, 15420, 5580, 2071, 731, 818, 262, 6, 151, 911, 11, 3430, 30, 2820, 217, 1425, 6, 12735, 4484, 8, 474, 4, 9978, 735, 438, 763, 15409, 11, 953, 6340, 506, 10461, 9959, 16, 1380, 196, 25, 5, 513, 22632, 4, 10496, 34, 4772, 9, 5, 727, 144, 22632, 911, 6, 159, 292, 15, 1125, 4, 9652, 34, 411, 6, 62, 80, 15, 237, 107, 536, 4, ...]</td>\n",
       "      <td>[0, 597, 39610, 11527, 861, 11, 5476, 354, 607, 34, 57, 2006, 25, 5, 443, 9, 3430, 19, 5, 3968, 672, 9, 31322, 4, 2]</td>\n",
       "      <td>Ferguslie Park in Paisley has been identified as the area of Scotland with the greatest level of deprivation.</td>\n",
       "    </tr>\n",
       "  </tbody>\n",
       "</table>"
      ],
      "text/plain": [
       "<IPython.core.display.HTML object>"
      ]
     },
     "metadata": {},
     "output_type": "display_data"
    },
    {
     "data": {
      "text/html": [
       "<table border=\"1\" class=\"dataframe\">\n",
       "  <thead>\n",
       "    <tr style=\"text-align: right;\">\n",
       "      <th></th>\n",
       "      <th>attention_mask</th>\n",
       "      <th>document</th>\n",
       "      <th>id</th>\n",
       "      <th>input_ids</th>\n",
       "      <th>labels</th>\n",
       "      <th>summary</th>\n",
       "    </tr>\n",
       "  </thead>\n",
       "  <tbody>\n",
       "    <tr>\n",
       "      <th>0</th>\n",
       "      <td>[1, 1, 1, 1, 1, 1, 1, 1, 1, 1, 1, 1, 1, 1, 1, 1, 1, 1, 1, 1, 1, 1, 1, 1, 1, 1, 1, 1, 1, 1, 1, 1, 1, 1, 1, 1, 1, 1, 1, 1, 1, 1, 1, 1, 1, 1, 1, 1, 1, 1, 1, 1, 1, 1, 1, 1, 1, 1, 1, 1, 1, 1, 1, 1, 1, 1, 1, 1, 1, 1, 1, 1, 1, 1, 1, 1, 1, 1, 1, 1, 1, 1, 1, 1, 1, 1, 1, 1, 1, 1, 1, 1, 1, 1, 1, 1, 1, 1, 1, 1, ...]</td>\n",
       "      <td>His comments come amid the expenses scandal that has embroiled the government for the past three weeks. Mr Abbott said on Friday the woman at the centre of the scandal, Speaker of the House of Representatives Bronwyn Bishop, was deeply remorseful about her use of taxpayers funds to travel to friends weddings and Liberal party functions. The prime minister has himself had to pay back money spent on travel in the past. The scandal began when it became public that Ms Bishop had spent A$5,000 ($3,647; Â£2,339) of public funds on a helicopter flight to a Liberal Party function that could have easily been reached by road. She has also claimed expenses for travel to several weddings of her Liberal Party colleagues. Australias rules about travel entitlements for politicians are hazy but Ms Bishops spending set social media on fire and she soon became the speaker who sparked a thousand memes. The Facebook page Bronwyn Bishop Memes gained more than 13,000 followers in just a week, as users poked fun at her chopper ride. Memes have adopted the helicopter as their main tool to mock the speaker, with Ms Bishop using chopper flights for everything from taking extreme holidays and dropping the kids at the local swimming pool to going for a jog - via chopper. The public have also had fun at her expense with cultural references ranging from Australian TV soap operas to movies such as 101 Dalmatians and Francis Ford Coppolas Apocalypse Now. Social media taunts even included sly hints towards other expenses scandals, such as the misuse of living away from home allowances for politicians. Ms Bishop has apologised and is paying back the helicopter costs but she is resisting calls, from independent senators and reportedly even from some members of the government, to resign. I love this country very much and it does sadden me that I have let [the public] down, Ms Bishop told reporters. I wont resign from the position but I will be working very hard, she said.</td>\n",
       "      <td>33713495</td>\n",
       "      <td>[0, 9962, 1450, 283, 2876, 5, 4068, 4220, 14, 34, 23958, 5, 168, 13, 5, 375, 130, 688, 4, 427, 11082, 26, 15, 273, 5, 693, 23, 5, 2100, 9, 5, 4220, 6, 6358, 9, 5, 446, 9, 7395, 17228, 16541, 8163, 6, 21, 4814, 23312, 2650, 59, 69, 304, 9, 7660, 1188, 7, 1504, 7, 964, 21596, 8, 7612, 537, 8047, 4, 20, 2654, 1269, 34, 1003, 56, 7, 582, 124, 418, 1240, 15, 1504, 11, 5, 375, 4, 20, 4220, 880, 77, 24, 1059, 285, 14, 2135, 8163, 56, 1240, 83, 1629, 245, 6, 151, 1358, 246, 6, ...]</td>\n",
       "      <td>[0, 25973, 692, 3621, 11082, 34, 9180, 2059, 3770, 51, 1395, 22, 6460, 409, 19, 26005, 5, 1492, 113, 15, 4068, 4, 2]</td>\n",
       "      <td>Prime Minister Tony Abbott has reminded Australian politicians they cannot \"get away with exploiting the rules\" on expenses.</td>\n",
       "    </tr>\n",
       "    <tr>\n",
       "      <th>1</th>\n",
       "      <td>[1, 1, 1, 1, 1, 1, 1, 1, 1, 1, 1, 1, 1, 1, 1, 1, 1, 1, 1, 1, 1, 1, 1, 1, 1, 1, 1, 1, 1, 1, 1, 1, 1, 1, 1, 1, 1, 1, 1, 1, 1, 1, 1, 1, 1, 1, 1, 1, 1, 1, 1, 1, 1, 1, 1, 1, 1, 1, 1, 1, 1, 1, 1, 1, 1, 1, 1, 1, 1, 1, 1, 1, 1, 1, 1, 1, 1, 1, 1, 1, 1, 1, 1, 1, 1, 1, 1, 1, 1, 1, 1, 1, 1, 1, 1, 1, 1, 1, 1, 1, ...]</td>\n",
       "      <td>The witches marks were often carved near entrances to buildings, including the house where Shakespeare was born and the Tower of London. The symbols were believed to offer protection when belief in witchcraft and the supernatural was widespread. But heritage agency Historic England says too little is known about them. This Halloween it is calling for people to document the marks, which can be found in medieval houses, churches and other buildings, most commonly from around 1550 to 1750. The symbols, which were intended to protect inhabitants and visitors of buildings from witches and evil spirits, took many forms, including patterns and sometimes letters. The most common type was the Daisy Wheel, which looked like a flower drawn with a compass in a single endless line that was supposed to confuse and entrap evil spirits. They also took the form of letters, such as AM for Ave Maria, M for Mary or VV, for Virgin of Virgins, scratched into medieval walls, engraved on wooden beams and etched into plasterwork to evoke the protective power of the Virgin Mary. Known examples include several found at Shakespeares birthplace in Stratford-upon-Avon, Warwickshire, carved near the cellar door where beer was kept, and at the Tithe Barn, Bradford-on-Avon, Wiltshire, to protect crops. Others have been found in caves, such as the Witches Chimney at Wookey Hole, Somerset, which has numerous markings. Duncan Wilson, chief executive of Historic England, said: Witches marks are a physical reminder of how our ancestors saw the world. They really fire the imagination and can teach us about previously-held beliefs and common rituals. Ritual marks were cut, scratched or carved into our ancestors homes and churches in the hope of making the world a safer, less hostile place. They were such a common part of everyday life that they were unremarkable and because they are easy to overlook, the recorded evidence we hold about where they appear and what form they take is thin.</td>\n",
       "      <td>37817785</td>\n",
       "      <td>[0, 133, 39699, 4863, 58, 747, 20209, 583, 32014, 7, 3413, 6, 217, 5, 790, 147, 16538, 21, 2421, 8, 5, 7186, 9, 928, 4, 20, 19830, 58, 2047, 7, 904, 2591, 77, 6563, 11, 42470, 8, 5, 32049, 21, 5859, 4, 125, 7788, 1218, 15541, 1156, 161, 350, 410, 16, 684, 59, 106, 4, 152, 8789, 24, 16, 1765, 13, 82, 7, 3780, 5, 4863, 6, 61, 64, 28, 303, 11, 25818, 3960, 6, 10550, 8, 97, 3413, 6, 144, 10266, 31, 198, 379, 1096, 7, 601, 1096, 4, 20, 19830, 6, 61, 58, 3833, 7, 1744, 24696, 8, ...]</td>\n",
       "      <td>[0, 31339, 9, 5, 285, 32, 145, 553, 7, 244, 1045, 10, 638, 9, 19100, 35480, 15, 3413, 14, 58, 683, 2047, 7, 11898, 160, 9247, 11656, 4, 2]</td>\n",
       "      <td>Members of the public are being asked to help create a record of ritual markings on buildings that were once believed to ward off evil spirits.</td>\n",
       "    </tr>\n",
       "    <tr>\n",
       "      <th>2</th>\n",
       "      <td>[1, 1, 1, 1, 1, 1, 1, 1, 1, 1, 1, 1, 1, 1, 1, 1, 1, 1, 1, 1, 1, 1, 1, 1, 1, 1, 1, 1, 1, 1, 1, 1, 1, 1, 1, 1, 1, 1, 1, 1, 1, 1, 1, 1, 1, 1, 1, 1, 1, 1, 1, 1, 1, 1, 1, 1, 1, 1, 1, 1, 1, 1, 1, 1, 1, 1, 1, 1, 1, 1, 1, 1, 1, 1, 1, 1, 1, 1, 1, 1, 1, 1, 1, 1, 1, 1, 1, 1, 1, 1, 1, 1, 1, 1, 1, 1, 1, 1, 1, 1, ...]</td>\n",
       "      <td>Zoe Gregory, 26, is accused of sending a message claiming an explosive had been left at Ormiston Victory Academy in Costessey, Norfolk, on 9 February. The 16-year-old girls home was raided and she was questioned over the threat by police. Ms Gregory has been bailed to appear before Norwich magistrates on 14 April. She has been charged with communicating false information and unauthorised computer access. Ms Gregory, of Blackhill Wood Lane, Costessey, has been dismissed from her role, said a school spokeswoman.</td>\n",
       "      <td>32144689</td>\n",
       "      <td>[0, 1301, 3540, 12006, 6, 973, 6, 16, 1238, 9, 3981, 10, 1579, 4564, 41, 8560, 56, 57, 314, 23, 1793, 119, 15819, 15908, 3536, 11, 7860, 293, 4169, 6, 13261, 6, 15, 361, 902, 4, 20, 545, 12, 180, 12, 279, 1972, 184, 21, 18000, 8, 79, 21, 5249, 81, 5, 1856, 30, 249, 4, 2135, 12006, 34, 57, 30584, 7, 2082, 137, 18749, 9931, 15596, 15, 501, 587, 4, 264, 34, 57, 1340, 19, 17957, 3950, 335, 8, 542, 11515, 1720, 3034, 899, 4, 2135, 12006, 6, 9, 1378, 9583, 3132, 5503, 6, 7860, 293, 4169, 6, 34, ...]</td>\n",
       "      <td>[0, 250, 5307, 3167, 34, 57, 1340, 19, 634, 10, 25209, 18, 1047, 1316, 7, 146, 10, 4840, 1856, 136, 5, 334, 147, 79, 1006, 4, 2]</td>\n",
       "      <td>A teaching assistant has been charged with using a pupil's email account to make a bomb threat against the school where she worked.</td>\n",
       "    </tr>\n",
       "    <tr>\n",
       "      <th>3</th>\n",
       "      <td>[1, 1, 1, 1, 1, 1, 1, 1, 1, 1, 1, 1, 1, 1, 1, 1, 1, 1, 1, 1, 1, 1, 1, 1, 1, 1, 1, 1, 1, 1, 1, 1, 1, 1, 1, 1, 1, 1, 1, 1, 1, 1, 1, 1, 1, 1, 1, 1, 1, 1, 1, 1, 1, 1, 1, 1, 1, 1, 1, 1, 1, 1, 1, 1, 1, 1, 1, 1, 1, 1, 1, 1, 1, 1, 1, 1, 1, 1, 1, 1, 1, 1, 1, 1, 1, 1, 1, 1, 1, 1, 1, 1, 1, 1, 1, 1, 1, 1, 1, 1, ...]</td>\n",
       "      <td>Police seized 12kg of high purity cocaine equivalent to 48kg of cut cocaine worth between £1.5m and £4.5m. Cardiff Crown Court heard at least 36kg of mephedrone worth up to £300,000 was also seized. Eleven of the 13 defendants from Blaenau Gwent, Newport and Rhondda Cynon Taff were jailed for drugs offences. Ashley Burgham, 28, from Blaina was described as the head of the organisation with Michael Barnes, 32, from Abertillery, as his second in command who met national suppliers. Others were couriers who supplied downstream customers and met suppliers. Gwent Police also seized £205,494 in cash during the operation. Originally, the gang met an Albanian crime group to get hold of drugs, but when this relationship ended, they turned to a supplier in Spain. Det Chf Insp Roger Fortey said: Officers carried out a meticulous enquiry to dismantle this sophisticated organised crime group. The defendants in this case were motivated by greed and profits and had convinced themselves that they were untouchable.</td>\n",
       "      <td>35074571</td>\n",
       "      <td>[0, 9497, 5942, 316, 9043, 9, 239, 32195, 9890, 6305, 7, 2929, 9043, 9, 847, 9890, 966, 227, 984, 134, 4, 245, 119, 8, 984, 306, 4, 245, 119, 4, 12426, 5748, 837, 1317, 23, 513, 2491, 9043, 9, 162, 642, 4183, 22253, 966, 62, 7, 984, 2965, 6, 151, 21, 67, 5942, 4, 22243, 9, 5, 508, 9483, 31, 2091, 102, 225, 1180, 272, 31135, 6, 13704, 8, 8778, 2832, 6106, 43042, 261, 255, 3707, 58, 8420, 13, 2196, 9971, 4, 7558, 4273, 4147, 424, 6, 971, 6, 31, 2091, 23482, 21, 1602, 25, 5, 471, 9, 5, 6010, ...]</td>\n",
       "      <td>[0, 31339, 9, 41, 8125, 1846, 5188, 54, 37057, 7, 1787, 2535, 9, 2697, 966, 9, 2196, 33, 57, 8420, 4, 2]</td>\n",
       "      <td>Members of an organised crime gang who plotted to supply millions of pounds worth of drugs have been jailed.</td>\n",
       "    </tr>\n",
       "    <tr>\n",
       "      <th>4</th>\n",
       "      <td>[1, 1, 1, 1, 1, 1, 1, 1, 1, 1, 1, 1, 1, 1, 1, 1, 1, 1, 1, 1, 1, 1, 1, 1, 1, 1, 1, 1, 1, 1, 1, 1, 1, 1, 1, 1, 1, 1, 1, 1, 1, 1, 1, 1, 1, 1, 1, 1, 1, 1, 1, 1, 1, 1, 1, 1, 1, 1, 1, 1, 1, 1, 1, 1, 1, 1, 1, 1, 1, 1, 1, 1, 1, 1, 1, 1, 1, 1, 1, 1, 1, 1, 1, 1, 1, 1, 1, 1, 1, 1, 1, 1, 1, 1, 1, 1, 1, 1, 1, 1, ...]</td>\n",
       "      <td>It is the second successive time the area has been at the bottom of the Scottish Index of Multiple Deprivation (SIMD), which is published every four years. Statisticians rate almost 7,000 areas in Scotland by standards including income, employability and health. Lower Whitecraigs in East Renfrewshire is classed as the least deprived. Glasgow has 56 of the 100 most deprived areas, down five on 2012. Edinburgh has six, up two on four years ago. The 10 most deprived areas in Scotland: The 10 least deprived areas in Scotland: Renfrewshire Council, which covers the area including Ferguslie Park, said a long-term plan to change the areas fortunes was already under way. Council leader Mark Macmillan said: The council has adopted an innovative approach to tackling poverty, recognised as leading the way in Scotland - and the SIMD stats are based on data from last year which does not fully capture the impact of that. The figures show the overall picture for Renfrewshire has improved and we believe we are making a difference on the ground. In the four years since the last SIMD figures were released, Renfrewshire has seen a 10% real-terms drop in the cash coming our way from Holyrood. The deprivation issues affecting Ferguslie and similar areas are long-term and deep-rooted - there are no easy solutions but through our unique approach, we believe we are on the right track. The Scottish government said the figures showed why Scotland needs a government committed to tackling deep-seated deprivation, poverty and inequalities. Communities Secretary Angela Constance said: This will not be an easy job while we do not have the full levers of power, but I am determined we take on the challenge of making a generational change for those areas that have been in poverty for too long. In the face of continuing UK government welfare cuts, an austerity agenda and attempts to take Scotland out of Europe, this will continue to be a long-term challenge. She added: We are spending Â£100m protecting people against the worst effects of welfare reform and every pound spent on mitigation measures is a pound less that can be spent on lifting people out of poverty. The Scottish Conservatives said the figures should be a wake-up call to the SNP government. Equalities spokeswoman Annie Wells said: There are many causes of deprivation - poverty, family breakdown, drug and alcohol abuse, low educational standards and poor health and we now need a new approach. Powers need to be devolved from the Scottish government to enable cities and city-regions to work more closely together to regenerate and redevelop their local economies. Scottish Labours deputy leader Alex Rowley said: If we are serious about cutting the gap between the richest and the rest we need to fully understand the picture of poverty in Scotland. These numbers are an important start - and they show a Scotland which remains too unequal, and further SNP cuts will only make it worse. The most deprived communities in Scotland will suffer more because of hundreds of millions of pounds of cuts to schools and local services, whilst our health boards are faced with millions of pounds of cuts because the SNP arent giving our NHS the resources it needs. Scottish Greens spokeswoman Alison Johnstone MSP said: If were to boost incomes, employment chances and health, we need to see greater ambition from Scottish ministers and local authorities. Yes, the Westminster governments continuing agenda of cuts plays a part, but we cannot let that stop us. We can push further on a real Living Wage across our economy, and we can boost peoples health by committing to a major programme of housebuilding and energy efficiency measures, along with better public transport and cycling and walking infrastructure. Analysis by Reevel Alderson, BBC Scotland Home affairs correspondent The Scottish Index of Multiple Deprivation (SIMD) is published every four years. It provides the government and local authorities with a considerable amount of information aimed at helping them tackle the problem. The index breaks Scotland down into 6,976 datazones, effectively small postcode areas, and ranks levels of deprivation there on seven criteria. These are: income, employment, health, education, housing, access to services and crime. Overall scores are then provided for each datazone. But that is not the full picture. The statisticians say deprived does not just mean poor or low income. It can also mean people have fewer resources and opportunities, for example in health and education. One area may score well on educational outcomes for example, but have poor health and access to services. The Scottish government says this allows effective analysis for targeting of policies and funding where the aim is to wholly or partly tackle or take account of area concentrations of multiple deprivation.</td>\n",
       "      <td>37230405</td>\n",
       "      <td>[0, 243, 16, 5, 200, 12565, 86, 5, 443, 34, 57, 23, 5, 2576, 9, 5, 5411, 4648, 9, 16210, 6748, 1069, 19914, 36, 37266, 495, 238, 61, 16, 1027, 358, 237, 107, 4, 15420, 5580, 2071, 731, 818, 262, 6, 151, 911, 11, 3430, 30, 2820, 217, 1425, 6, 12735, 4484, 8, 474, 4, 9978, 735, 438, 763, 15409, 11, 953, 6340, 506, 10461, 9959, 16, 1380, 196, 25, 5, 513, 22632, 4, 10496, 34, 4772, 9, 5, 727, 144, 22632, 911, 6, 159, 292, 15, 1125, 4, 9652, 34, 411, 6, 62, 80, 15, 237, 107, 536, 4, ...]</td>\n",
       "      <td>[0, 597, 39610, 11527, 861, 11, 5476, 354, 607, 34, 57, 2006, 25, 5, 443, 9, 3430, 19, 5, 3968, 672, 9, 31322, 4, 2]</td>\n",
       "      <td>Ferguslie Park in Paisley has been identified as the area of Scotland with the greatest level of deprivation.</td>\n",
       "    </tr>\n",
       "  </tbody>\n",
       "</table>"
      ],
      "text/plain": [
       "<IPython.core.display.HTML object>"
      ]
     },
     "metadata": {},
     "output_type": "display_data"
    },
    {
     "data": {
      "text/html": [
       "<table border=\"1\" class=\"dataframe\">\n",
       "  <thead>\n",
       "    <tr style=\"text-align: right;\">\n",
       "      <th></th>\n",
       "      <th>attention_mask</th>\n",
       "      <th>document</th>\n",
       "      <th>id</th>\n",
       "      <th>input_ids</th>\n",
       "      <th>labels</th>\n",
       "      <th>summary</th>\n",
       "    </tr>\n",
       "  </thead>\n",
       "  <tbody>\n",
       "    <tr>\n",
       "      <th>0</th>\n",
       "      <td>[1, 1, 1, 1, 1, 1, 1, 1, 1, 1, 1, 1, 1, 1, 1, 1, 1, 1, 1, 1, 1, 1, 1, 1, 1, 1, 1, 1, 1, 1, 1, 1, 1, 1, 1, 1, 1, 1, 1, 1, 1, 1, 1, 1, 1, 1, 1, 1, 1, 1, 1, 1, 1, 1, 1, 1, 1, 1, 1, 1, 1, 1, 1, 1, 1, 1, 1, 1, 1, 1, 1, 1, 1, 1, 1, 1, 1, 1, 1, 1, 1, 1, 1, 1, 1, 1, 1, 1, 1, 1, 1, 1, 1, 1, 1, 1, 1, 1, 1, 1, ...]</td>\n",
       "      <td>His comments come amid the expenses scandal that has embroiled the government for the past three weeks. Mr Abbott said on Friday the woman at the centre of the scandal, Speaker of the House of Representatives Bronwyn Bishop, was deeply remorseful about her use of taxpayers funds to travel to friends weddings and Liberal party functions. The prime minister has himself had to pay back money spent on travel in the past. The scandal began when it became public that Ms Bishop had spent A$5,000 ($3,647; Â£2,339) of public funds on a helicopter flight to a Liberal Party function that could have easily been reached by road. She has also claimed expenses for travel to several weddings of her Liberal Party colleagues. Australias rules about travel entitlements for politicians are hazy but Ms Bishops spending set social media on fire and she soon became the speaker who sparked a thousand memes. The Facebook page Bronwyn Bishop Memes gained more than 13,000 followers in just a week, as users poked fun at her chopper ride. Memes have adopted the helicopter as their main tool to mock the speaker, with Ms Bishop using chopper flights for everything from taking extreme holidays and dropping the kids at the local swimming pool to going for a jog - via chopper. The public have also had fun at her expense with cultural references ranging from Australian TV soap operas to movies such as 101 Dalmatians and Francis Ford Coppolas Apocalypse Now. Social media taunts even included sly hints towards other expenses scandals, such as the misuse of living away from home allowances for politicians. Ms Bishop has apologised and is paying back the helicopter costs but she is resisting calls, from independent senators and reportedly even from some members of the government, to resign. I love this country very much and it does sadden me that I have let [the public] down, Ms Bishop told reporters. I wont resign from the position but I will be working very hard, she said.</td>\n",
       "      <td>33713495</td>\n",
       "      <td>[0, 9962, 1450, 283, 2876, 5, 4068, 4220, 14, 34, 23958, 5, 168, 13, 5, 375, 130, 688, 4, 427, 11082, 26, 15, 273, 5, 693, 23, 5, 2100, 9, 5, 4220, 6, 6358, 9, 5, 446, 9, 7395, 17228, 16541, 8163, 6, 21, 4814, 23312, 2650, 59, 69, 304, 9, 7660, 1188, 7, 1504, 7, 964, 21596, 8, 7612, 537, 8047, 4, 20, 2654, 1269, 34, 1003, 56, 7, 582, 124, 418, 1240, 15, 1504, 11, 5, 375, 4, 20, 4220, 880, 77, 24, 1059, 285, 14, 2135, 8163, 56, 1240, 83, 1629, 245, 6, 151, 1358, 246, 6, ...]</td>\n",
       "      <td>[0, 25973, 692, 3621, 11082, 34, 9180, 2059, 3770, 51, 1395, 22, 6460, 409, 19, 26005, 5, 1492, 113, 15, 4068, 4, 2]</td>\n",
       "      <td>Prime Minister Tony Abbott has reminded Australian politicians they cannot \"get away with exploiting the rules\" on expenses.</td>\n",
       "    </tr>\n",
       "    <tr>\n",
       "      <th>1</th>\n",
       "      <td>[1, 1, 1, 1, 1, 1, 1, 1, 1, 1, 1, 1, 1, 1, 1, 1, 1, 1, 1, 1, 1, 1, 1, 1, 1, 1, 1, 1, 1, 1, 1, 1, 1, 1, 1, 1, 1, 1, 1, 1, 1, 1, 1, 1, 1, 1, 1, 1, 1, 1, 1, 1, 1, 1, 1, 1, 1, 1, 1, 1, 1, 1, 1, 1, 1, 1, 1, 1, 1, 1, 1, 1, 1, 1, 1, 1, 1, 1, 1, 1, 1, 1, 1, 1, 1, 1, 1, 1, 1, 1, 1, 1, 1, 1, 1, 1, 1, 1, 1, 1, ...]</td>\n",
       "      <td>The witches marks were often carved near entrances to buildings, including the house where Shakespeare was born and the Tower of London. The symbols were believed to offer protection when belief in witchcraft and the supernatural was widespread. But heritage agency Historic England says too little is known about them. This Halloween it is calling for people to document the marks, which can be found in medieval houses, churches and other buildings, most commonly from around 1550 to 1750. The symbols, which were intended to protect inhabitants and visitors of buildings from witches and evil spirits, took many forms, including patterns and sometimes letters. The most common type was the Daisy Wheel, which looked like a flower drawn with a compass in a single endless line that was supposed to confuse and entrap evil spirits. They also took the form of letters, such as AM for Ave Maria, M for Mary or VV, for Virgin of Virgins, scratched into medieval walls, engraved on wooden beams and etched into plasterwork to evoke the protective power of the Virgin Mary. Known examples include several found at Shakespeares birthplace in Stratford-upon-Avon, Warwickshire, carved near the cellar door where beer was kept, and at the Tithe Barn, Bradford-on-Avon, Wiltshire, to protect crops. Others have been found in caves, such as the Witches Chimney at Wookey Hole, Somerset, which has numerous markings. Duncan Wilson, chief executive of Historic England, said: Witches marks are a physical reminder of how our ancestors saw the world. They really fire the imagination and can teach us about previously-held beliefs and common rituals. Ritual marks were cut, scratched or carved into our ancestors homes and churches in the hope of making the world a safer, less hostile place. They were such a common part of everyday life that they were unremarkable and because they are easy to overlook, the recorded evidence we hold about where they appear and what form they take is thin.</td>\n",
       "      <td>37817785</td>\n",
       "      <td>[0, 133, 39699, 4863, 58, 747, 20209, 583, 32014, 7, 3413, 6, 217, 5, 790, 147, 16538, 21, 2421, 8, 5, 7186, 9, 928, 4, 20, 19830, 58, 2047, 7, 904, 2591, 77, 6563, 11, 42470, 8, 5, 32049, 21, 5859, 4, 125, 7788, 1218, 15541, 1156, 161, 350, 410, 16, 684, 59, 106, 4, 152, 8789, 24, 16, 1765, 13, 82, 7, 3780, 5, 4863, 6, 61, 64, 28, 303, 11, 25818, 3960, 6, 10550, 8, 97, 3413, 6, 144, 10266, 31, 198, 379, 1096, 7, 601, 1096, 4, 20, 19830, 6, 61, 58, 3833, 7, 1744, 24696, 8, ...]</td>\n",
       "      <td>[0, 31339, 9, 5, 285, 32, 145, 553, 7, 244, 1045, 10, 638, 9, 19100, 35480, 15, 3413, 14, 58, 683, 2047, 7, 11898, 160, 9247, 11656, 4, 2]</td>\n",
       "      <td>Members of the public are being asked to help create a record of ritual markings on buildings that were once believed to ward off evil spirits.</td>\n",
       "    </tr>\n",
       "    <tr>\n",
       "      <th>2</th>\n",
       "      <td>[1, 1, 1, 1, 1, 1, 1, 1, 1, 1, 1, 1, 1, 1, 1, 1, 1, 1, 1, 1, 1, 1, 1, 1, 1, 1, 1, 1, 1, 1, 1, 1, 1, 1, 1, 1, 1, 1, 1, 1, 1, 1, 1, 1, 1, 1, 1, 1, 1, 1, 1, 1, 1, 1, 1, 1, 1, 1, 1, 1, 1, 1, 1, 1, 1, 1, 1, 1, 1, 1, 1, 1, 1, 1, 1, 1, 1, 1, 1, 1, 1, 1, 1, 1, 1, 1, 1, 1, 1, 1, 1, 1, 1, 1, 1, 1, 1, 1, 1, 1, ...]</td>\n",
       "      <td>Zoe Gregory, 26, is accused of sending a message claiming an explosive had been left at Ormiston Victory Academy in Costessey, Norfolk, on 9 February. The 16-year-old girls home was raided and she was questioned over the threat by police. Ms Gregory has been bailed to appear before Norwich magistrates on 14 April. She has been charged with communicating false information and unauthorised computer access. Ms Gregory, of Blackhill Wood Lane, Costessey, has been dismissed from her role, said a school spokeswoman.</td>\n",
       "      <td>32144689</td>\n",
       "      <td>[0, 1301, 3540, 12006, 6, 973, 6, 16, 1238, 9, 3981, 10, 1579, 4564, 41, 8560, 56, 57, 314, 23, 1793, 119, 15819, 15908, 3536, 11, 7860, 293, 4169, 6, 13261, 6, 15, 361, 902, 4, 20, 545, 12, 180, 12, 279, 1972, 184, 21, 18000, 8, 79, 21, 5249, 81, 5, 1856, 30, 249, 4, 2135, 12006, 34, 57, 30584, 7, 2082, 137, 18749, 9931, 15596, 15, 501, 587, 4, 264, 34, 57, 1340, 19, 17957, 3950, 335, 8, 542, 11515, 1720, 3034, 899, 4, 2135, 12006, 6, 9, 1378, 9583, 3132, 5503, 6, 7860, 293, 4169, 6, 34, ...]</td>\n",
       "      <td>[0, 250, 5307, 3167, 34, 57, 1340, 19, 634, 10, 25209, 18, 1047, 1316, 7, 146, 10, 4840, 1856, 136, 5, 334, 147, 79, 1006, 4, 2]</td>\n",
       "      <td>A teaching assistant has been charged with using a pupil's email account to make a bomb threat against the school where she worked.</td>\n",
       "    </tr>\n",
       "    <tr>\n",
       "      <th>3</th>\n",
       "      <td>[1, 1, 1, 1, 1, 1, 1, 1, 1, 1, 1, 1, 1, 1, 1, 1, 1, 1, 1, 1, 1, 1, 1, 1, 1, 1, 1, 1, 1, 1, 1, 1, 1, 1, 1, 1, 1, 1, 1, 1, 1, 1, 1, 1, 1, 1, 1, 1, 1, 1, 1, 1, 1, 1, 1, 1, 1, 1, 1, 1, 1, 1, 1, 1, 1, 1, 1, 1, 1, 1, 1, 1, 1, 1, 1, 1, 1, 1, 1, 1, 1, 1, 1, 1, 1, 1, 1, 1, 1, 1, 1, 1, 1, 1, 1, 1, 1, 1, 1, 1, ...]</td>\n",
       "      <td>Police seized 12kg of high purity cocaine equivalent to 48kg of cut cocaine worth between £1.5m and £4.5m. Cardiff Crown Court heard at least 36kg of mephedrone worth up to £300,000 was also seized. Eleven of the 13 defendants from Blaenau Gwent, Newport and Rhondda Cynon Taff were jailed for drugs offences. Ashley Burgham, 28, from Blaina was described as the head of the organisation with Michael Barnes, 32, from Abertillery, as his second in command who met national suppliers. Others were couriers who supplied downstream customers and met suppliers. Gwent Police also seized £205,494 in cash during the operation. Originally, the gang met an Albanian crime group to get hold of drugs, but when this relationship ended, they turned to a supplier in Spain. Det Chf Insp Roger Fortey said: Officers carried out a meticulous enquiry to dismantle this sophisticated organised crime group. The defendants in this case were motivated by greed and profits and had convinced themselves that they were untouchable.</td>\n",
       "      <td>35074571</td>\n",
       "      <td>[0, 9497, 5942, 316, 9043, 9, 239, 32195, 9890, 6305, 7, 2929, 9043, 9, 847, 9890, 966, 227, 984, 134, 4, 245, 119, 8, 984, 306, 4, 245, 119, 4, 12426, 5748, 837, 1317, 23, 513, 2491, 9043, 9, 162, 642, 4183, 22253, 966, 62, 7, 984, 2965, 6, 151, 21, 67, 5942, 4, 22243, 9, 5, 508, 9483, 31, 2091, 102, 225, 1180, 272, 31135, 6, 13704, 8, 8778, 2832, 6106, 43042, 261, 255, 3707, 58, 8420, 13, 2196, 9971, 4, 7558, 4273, 4147, 424, 6, 971, 6, 31, 2091, 23482, 21, 1602, 25, 5, 471, 9, 5, 6010, ...]</td>\n",
       "      <td>[0, 31339, 9, 41, 8125, 1846, 5188, 54, 37057, 7, 1787, 2535, 9, 2697, 966, 9, 2196, 33, 57, 8420, 4, 2]</td>\n",
       "      <td>Members of an organised crime gang who plotted to supply millions of pounds worth of drugs have been jailed.</td>\n",
       "    </tr>\n",
       "    <tr>\n",
       "      <th>4</th>\n",
       "      <td>[1, 1, 1, 1, 1, 1, 1, 1, 1, 1, 1, 1, 1, 1, 1, 1, 1, 1, 1, 1, 1, 1, 1, 1, 1, 1, 1, 1, 1, 1, 1, 1, 1, 1, 1, 1, 1, 1, 1, 1, 1, 1, 1, 1, 1, 1, 1, 1, 1, 1, 1, 1, 1, 1, 1, 1, 1, 1, 1, 1, 1, 1, 1, 1, 1, 1, 1, 1, 1, 1, 1, 1, 1, 1, 1, 1, 1, 1, 1, 1, 1, 1, 1, 1, 1, 1, 1, 1, 1, 1, 1, 1, 1, 1, 1, 1, 1, 1, 1, 1, ...]</td>\n",
       "      <td>It is the second successive time the area has been at the bottom of the Scottish Index of Multiple Deprivation (SIMD), which is published every four years. Statisticians rate almost 7,000 areas in Scotland by standards including income, employability and health. Lower Whitecraigs in East Renfrewshire is classed as the least deprived. Glasgow has 56 of the 100 most deprived areas, down five on 2012. Edinburgh has six, up two on four years ago. The 10 most deprived areas in Scotland: The 10 least deprived areas in Scotland: Renfrewshire Council, which covers the area including Ferguslie Park, said a long-term plan to change the areas fortunes was already under way. Council leader Mark Macmillan said: The council has adopted an innovative approach to tackling poverty, recognised as leading the way in Scotland - and the SIMD stats are based on data from last year which does not fully capture the impact of that. The figures show the overall picture for Renfrewshire has improved and we believe we are making a difference on the ground. In the four years since the last SIMD figures were released, Renfrewshire has seen a 10% real-terms drop in the cash coming our way from Holyrood. The deprivation issues affecting Ferguslie and similar areas are long-term and deep-rooted - there are no easy solutions but through our unique approach, we believe we are on the right track. The Scottish government said the figures showed why Scotland needs a government committed to tackling deep-seated deprivation, poverty and inequalities. Communities Secretary Angela Constance said: This will not be an easy job while we do not have the full levers of power, but I am determined we take on the challenge of making a generational change for those areas that have been in poverty for too long. In the face of continuing UK government welfare cuts, an austerity agenda and attempts to take Scotland out of Europe, this will continue to be a long-term challenge. She added: We are spending Â£100m protecting people against the worst effects of welfare reform and every pound spent on mitigation measures is a pound less that can be spent on lifting people out of poverty. The Scottish Conservatives said the figures should be a wake-up call to the SNP government. Equalities spokeswoman Annie Wells said: There are many causes of deprivation - poverty, family breakdown, drug and alcohol abuse, low educational standards and poor health and we now need a new approach. Powers need to be devolved from the Scottish government to enable cities and city-regions to work more closely together to regenerate and redevelop their local economies. Scottish Labours deputy leader Alex Rowley said: If we are serious about cutting the gap between the richest and the rest we need to fully understand the picture of poverty in Scotland. These numbers are an important start - and they show a Scotland which remains too unequal, and further SNP cuts will only make it worse. The most deprived communities in Scotland will suffer more because of hundreds of millions of pounds of cuts to schools and local services, whilst our health boards are faced with millions of pounds of cuts because the SNP arent giving our NHS the resources it needs. Scottish Greens spokeswoman Alison Johnstone MSP said: If were to boost incomes, employment chances and health, we need to see greater ambition from Scottish ministers and local authorities. Yes, the Westminster governments continuing agenda of cuts plays a part, but we cannot let that stop us. We can push further on a real Living Wage across our economy, and we can boost peoples health by committing to a major programme of housebuilding and energy efficiency measures, along with better public transport and cycling and walking infrastructure. Analysis by Reevel Alderson, BBC Scotland Home affairs correspondent The Scottish Index of Multiple Deprivation (SIMD) is published every four years. It provides the government and local authorities with a considerable amount of information aimed at helping them tackle the problem. The index breaks Scotland down into 6,976 datazones, effectively small postcode areas, and ranks levels of deprivation there on seven criteria. These are: income, employment, health, education, housing, access to services and crime. Overall scores are then provided for each datazone. But that is not the full picture. The statisticians say deprived does not just mean poor or low income. It can also mean people have fewer resources and opportunities, for example in health and education. One area may score well on educational outcomes for example, but have poor health and access to services. The Scottish government says this allows effective analysis for targeting of policies and funding where the aim is to wholly or partly tackle or take account of area concentrations of multiple deprivation.</td>\n",
       "      <td>37230405</td>\n",
       "      <td>[0, 243, 16, 5, 200, 12565, 86, 5, 443, 34, 57, 23, 5, 2576, 9, 5, 5411, 4648, 9, 16210, 6748, 1069, 19914, 36, 37266, 495, 238, 61, 16, 1027, 358, 237, 107, 4, 15420, 5580, 2071, 731, 818, 262, 6, 151, 911, 11, 3430, 30, 2820, 217, 1425, 6, 12735, 4484, 8, 474, 4, 9978, 735, 438, 763, 15409, 11, 953, 6340, 506, 10461, 9959, 16, 1380, 196, 25, 5, 513, 22632, 4, 10496, 34, 4772, 9, 5, 727, 144, 22632, 911, 6, 159, 292, 15, 1125, 4, 9652, 34, 411, 6, 62, 80, 15, 237, 107, 536, 4, ...]</td>\n",
       "      <td>[0, 597, 39610, 11527, 861, 11, 5476, 354, 607, 34, 57, 2006, 25, 5, 443, 9, 3430, 19, 5, 3968, 672, 9, 31322, 4, 2]</td>\n",
       "      <td>Ferguslie Park in Paisley has been identified as the area of Scotland with the greatest level of deprivation.</td>\n",
       "    </tr>\n",
       "  </tbody>\n",
       "</table>"
      ],
      "text/plain": [
       "<IPython.core.display.HTML object>"
      ]
     },
     "metadata": {},
     "output_type": "display_data"
    },
    {
     "data": {
      "text/html": [
       "<table border=\"1\" class=\"dataframe\">\n",
       "  <thead>\n",
       "    <tr style=\"text-align: right;\">\n",
       "      <th></th>\n",
       "      <th>attention_mask</th>\n",
       "      <th>document</th>\n",
       "      <th>id</th>\n",
       "      <th>input_ids</th>\n",
       "      <th>labels</th>\n",
       "      <th>summary</th>\n",
       "    </tr>\n",
       "  </thead>\n",
       "  <tbody>\n",
       "    <tr>\n",
       "      <th>0</th>\n",
       "      <td>[1, 1, 1, 1, 1, 1, 1, 1, 1, 1, 1, 1, 1, 1, 1, 1, 1, 1, 1, 1, 1, 1, 1, 1, 1, 1, 1, 1, 1, 1, 1, 1, 1, 1, 1, 1, 1, 1, 1, 1, 1, 1, 1, 1, 1, 1, 1, 1, 1, 1, 1, 1, 1, 1, 1, 1, 1, 1, 1, 1, 1, 1, 1, 1, 1, 1, 1, 1, 1, 1, 1, 1, 1, 1, 1, 1, 1, 1, 1, 1, 1, 1, 1, 1, 1, 1, 1, 1, 1, 1, 1, 1, 1, 1, 1, 1, 1, 1, 1, 1, ...]</td>\n",
       "      <td>His comments come amid the expenses scandal that has embroiled the government for the past three weeks. Mr Abbott said on Friday the woman at the centre of the scandal, Speaker of the House of Representatives Bronwyn Bishop, was deeply remorseful about her use of taxpayers funds to travel to friends weddings and Liberal party functions. The prime minister has himself had to pay back money spent on travel in the past. The scandal began when it became public that Ms Bishop had spent A$5,000 ($3,647; Â£2,339) of public funds on a helicopter flight to a Liberal Party function that could have easily been reached by road. She has also claimed expenses for travel to several weddings of her Liberal Party colleagues. Australias rules about travel entitlements for politicians are hazy but Ms Bishops spending set social media on fire and she soon became the speaker who sparked a thousand memes. The Facebook page Bronwyn Bishop Memes gained more than 13,000 followers in just a week, as users poked fun at her chopper ride. Memes have adopted the helicopter as their main tool to mock the speaker, with Ms Bishop using chopper flights for everything from taking extreme holidays and dropping the kids at the local swimming pool to going for a jog - via chopper. The public have also had fun at her expense with cultural references ranging from Australian TV soap operas to movies such as 101 Dalmatians and Francis Ford Coppolas Apocalypse Now. Social media taunts even included sly hints towards other expenses scandals, such as the misuse of living away from home allowances for politicians. Ms Bishop has apologised and is paying back the helicopter costs but she is resisting calls, from independent senators and reportedly even from some members of the government, to resign. I love this country very much and it does sadden me that I have let [the public] down, Ms Bishop told reporters. I wont resign from the position but I will be working very hard, she said.</td>\n",
       "      <td>33713495</td>\n",
       "      <td>[0, 9962, 1450, 283, 2876, 5, 4068, 4220, 14, 34, 23958, 5, 168, 13, 5, 375, 130, 688, 4, 427, 11082, 26, 15, 273, 5, 693, 23, 5, 2100, 9, 5, 4220, 6, 6358, 9, 5, 446, 9, 7395, 17228, 16541, 8163, 6, 21, 4814, 23312, 2650, 59, 69, 304, 9, 7660, 1188, 7, 1504, 7, 964, 21596, 8, 7612, 537, 8047, 4, 20, 2654, 1269, 34, 1003, 56, 7, 582, 124, 418, 1240, 15, 1504, 11, 5, 375, 4, 20, 4220, 880, 77, 24, 1059, 285, 14, 2135, 8163, 56, 1240, 83, 1629, 245, 6, 151, 1358, 246, 6, ...]</td>\n",
       "      <td>[0, 25973, 692, 3621, 11082, 34, 9180, 2059, 3770, 51, 1395, 22, 6460, 409, 19, 26005, 5, 1492, 113, 15, 4068, 4, 2]</td>\n",
       "      <td>Prime Minister Tony Abbott has reminded Australian politicians they cannot \"get away with exploiting the rules\" on expenses.</td>\n",
       "    </tr>\n",
       "    <tr>\n",
       "      <th>1</th>\n",
       "      <td>[1, 1, 1, 1, 1, 1, 1, 1, 1, 1, 1, 1, 1, 1, 1, 1, 1, 1, 1, 1, 1, 1, 1, 1, 1, 1, 1, 1, 1, 1, 1, 1, 1, 1, 1, 1, 1, 1, 1, 1, 1, 1, 1, 1, 1, 1, 1, 1, 1, 1, 1, 1, 1, 1, 1, 1, 1, 1, 1, 1, 1, 1, 1, 1, 1, 1, 1, 1, 1, 1, 1, 1, 1, 1, 1, 1, 1, 1, 1, 1, 1, 1, 1, 1, 1, 1, 1, 1, 1, 1, 1, 1, 1, 1, 1, 1, 1, 1, 1, 1, ...]</td>\n",
       "      <td>The witches marks were often carved near entrances to buildings, including the house where Shakespeare was born and the Tower of London. The symbols were believed to offer protection when belief in witchcraft and the supernatural was widespread. But heritage agency Historic England says too little is known about them. This Halloween it is calling for people to document the marks, which can be found in medieval houses, churches and other buildings, most commonly from around 1550 to 1750. The symbols, which were intended to protect inhabitants and visitors of buildings from witches and evil spirits, took many forms, including patterns and sometimes letters. The most common type was the Daisy Wheel, which looked like a flower drawn with a compass in a single endless line that was supposed to confuse and entrap evil spirits. They also took the form of letters, such as AM for Ave Maria, M for Mary or VV, for Virgin of Virgins, scratched into medieval walls, engraved on wooden beams and etched into plasterwork to evoke the protective power of the Virgin Mary. Known examples include several found at Shakespeares birthplace in Stratford-upon-Avon, Warwickshire, carved near the cellar door where beer was kept, and at the Tithe Barn, Bradford-on-Avon, Wiltshire, to protect crops. Others have been found in caves, such as the Witches Chimney at Wookey Hole, Somerset, which has numerous markings. Duncan Wilson, chief executive of Historic England, said: Witches marks are a physical reminder of how our ancestors saw the world. They really fire the imagination and can teach us about previously-held beliefs and common rituals. Ritual marks were cut, scratched or carved into our ancestors homes and churches in the hope of making the world a safer, less hostile place. They were such a common part of everyday life that they were unremarkable and because they are easy to overlook, the recorded evidence we hold about where they appear and what form they take is thin.</td>\n",
       "      <td>37817785</td>\n",
       "      <td>[0, 133, 39699, 4863, 58, 747, 20209, 583, 32014, 7, 3413, 6, 217, 5, 790, 147, 16538, 21, 2421, 8, 5, 7186, 9, 928, 4, 20, 19830, 58, 2047, 7, 904, 2591, 77, 6563, 11, 42470, 8, 5, 32049, 21, 5859, 4, 125, 7788, 1218, 15541, 1156, 161, 350, 410, 16, 684, 59, 106, 4, 152, 8789, 24, 16, 1765, 13, 82, 7, 3780, 5, 4863, 6, 61, 64, 28, 303, 11, 25818, 3960, 6, 10550, 8, 97, 3413, 6, 144, 10266, 31, 198, 379, 1096, 7, 601, 1096, 4, 20, 19830, 6, 61, 58, 3833, 7, 1744, 24696, 8, ...]</td>\n",
       "      <td>[0, 31339, 9, 5, 285, 32, 145, 553, 7, 244, 1045, 10, 638, 9, 19100, 35480, 15, 3413, 14, 58, 683, 2047, 7, 11898, 160, 9247, 11656, 4, 2]</td>\n",
       "      <td>Members of the public are being asked to help create a record of ritual markings on buildings that were once believed to ward off evil spirits.</td>\n",
       "    </tr>\n",
       "    <tr>\n",
       "      <th>2</th>\n",
       "      <td>[1, 1, 1, 1, 1, 1, 1, 1, 1, 1, 1, 1, 1, 1, 1, 1, 1, 1, 1, 1, 1, 1, 1, 1, 1, 1, 1, 1, 1, 1, 1, 1, 1, 1, 1, 1, 1, 1, 1, 1, 1, 1, 1, 1, 1, 1, 1, 1, 1, 1, 1, 1, 1, 1, 1, 1, 1, 1, 1, 1, 1, 1, 1, 1, 1, 1, 1, 1, 1, 1, 1, 1, 1, 1, 1, 1, 1, 1, 1, 1, 1, 1, 1, 1, 1, 1, 1, 1, 1, 1, 1, 1, 1, 1, 1, 1, 1, 1, 1, 1, ...]</td>\n",
       "      <td>Zoe Gregory, 26, is accused of sending a message claiming an explosive had been left at Ormiston Victory Academy in Costessey, Norfolk, on 9 February. The 16-year-old girls home was raided and she was questioned over the threat by police. Ms Gregory has been bailed to appear before Norwich magistrates on 14 April. She has been charged with communicating false information and unauthorised computer access. Ms Gregory, of Blackhill Wood Lane, Costessey, has been dismissed from her role, said a school spokeswoman.</td>\n",
       "      <td>32144689</td>\n",
       "      <td>[0, 1301, 3540, 12006, 6, 973, 6, 16, 1238, 9, 3981, 10, 1579, 4564, 41, 8560, 56, 57, 314, 23, 1793, 119, 15819, 15908, 3536, 11, 7860, 293, 4169, 6, 13261, 6, 15, 361, 902, 4, 20, 545, 12, 180, 12, 279, 1972, 184, 21, 18000, 8, 79, 21, 5249, 81, 5, 1856, 30, 249, 4, 2135, 12006, 34, 57, 30584, 7, 2082, 137, 18749, 9931, 15596, 15, 501, 587, 4, 264, 34, 57, 1340, 19, 17957, 3950, 335, 8, 542, 11515, 1720, 3034, 899, 4, 2135, 12006, 6, 9, 1378, 9583, 3132, 5503, 6, 7860, 293, 4169, 6, 34, ...]</td>\n",
       "      <td>[0, 250, 5307, 3167, 34, 57, 1340, 19, 634, 10, 25209, 18, 1047, 1316, 7, 146, 10, 4840, 1856, 136, 5, 334, 147, 79, 1006, 4, 2]</td>\n",
       "      <td>A teaching assistant has been charged with using a pupil's email account to make a bomb threat against the school where she worked.</td>\n",
       "    </tr>\n",
       "    <tr>\n",
       "      <th>3</th>\n",
       "      <td>[1, 1, 1, 1, 1, 1, 1, 1, 1, 1, 1, 1, 1, 1, 1, 1, 1, 1, 1, 1, 1, 1, 1, 1, 1, 1, 1, 1, 1, 1, 1, 1, 1, 1, 1, 1, 1, 1, 1, 1, 1, 1, 1, 1, 1, 1, 1, 1, 1, 1, 1, 1, 1, 1, 1, 1, 1, 1, 1, 1, 1, 1, 1, 1, 1, 1, 1, 1, 1, 1, 1, 1, 1, 1, 1, 1, 1, 1, 1, 1, 1, 1, 1, 1, 1, 1, 1, 1, 1, 1, 1, 1, 1, 1, 1, 1, 1, 1, 1, 1, ...]</td>\n",
       "      <td>Police seized 12kg of high purity cocaine equivalent to 48kg of cut cocaine worth between £1.5m and £4.5m. Cardiff Crown Court heard at least 36kg of mephedrone worth up to £300,000 was also seized. Eleven of the 13 defendants from Blaenau Gwent, Newport and Rhondda Cynon Taff were jailed for drugs offences. Ashley Burgham, 28, from Blaina was described as the head of the organisation with Michael Barnes, 32, from Abertillery, as his second in command who met national suppliers. Others were couriers who supplied downstream customers and met suppliers. Gwent Police also seized £205,494 in cash during the operation. Originally, the gang met an Albanian crime group to get hold of drugs, but when this relationship ended, they turned to a supplier in Spain. Det Chf Insp Roger Fortey said: Officers carried out a meticulous enquiry to dismantle this sophisticated organised crime group. The defendants in this case were motivated by greed and profits and had convinced themselves that they were untouchable.</td>\n",
       "      <td>35074571</td>\n",
       "      <td>[0, 9497, 5942, 316, 9043, 9, 239, 32195, 9890, 6305, 7, 2929, 9043, 9, 847, 9890, 966, 227, 984, 134, 4, 245, 119, 8, 984, 306, 4, 245, 119, 4, 12426, 5748, 837, 1317, 23, 513, 2491, 9043, 9, 162, 642, 4183, 22253, 966, 62, 7, 984, 2965, 6, 151, 21, 67, 5942, 4, 22243, 9, 5, 508, 9483, 31, 2091, 102, 225, 1180, 272, 31135, 6, 13704, 8, 8778, 2832, 6106, 43042, 261, 255, 3707, 58, 8420, 13, 2196, 9971, 4, 7558, 4273, 4147, 424, 6, 971, 6, 31, 2091, 23482, 21, 1602, 25, 5, 471, 9, 5, 6010, ...]</td>\n",
       "      <td>[0, 31339, 9, 41, 8125, 1846, 5188, 54, 37057, 7, 1787, 2535, 9, 2697, 966, 9, 2196, 33, 57, 8420, 4, 2]</td>\n",
       "      <td>Members of an organised crime gang who plotted to supply millions of pounds worth of drugs have been jailed.</td>\n",
       "    </tr>\n",
       "    <tr>\n",
       "      <th>4</th>\n",
       "      <td>[1, 1, 1, 1, 1, 1, 1, 1, 1, 1, 1, 1, 1, 1, 1, 1, 1, 1, 1, 1, 1, 1, 1, 1, 1, 1, 1, 1, 1, 1, 1, 1, 1, 1, 1, 1, 1, 1, 1, 1, 1, 1, 1, 1, 1, 1, 1, 1, 1, 1, 1, 1, 1, 1, 1, 1, 1, 1, 1, 1, 1, 1, 1, 1, 1, 1, 1, 1, 1, 1, 1, 1, 1, 1, 1, 1, 1, 1, 1, 1, 1, 1, 1, 1, 1, 1, 1, 1, 1, 1, 1, 1, 1, 1, 1, 1, 1, 1, 1, 1, ...]</td>\n",
       "      <td>It is the second successive time the area has been at the bottom of the Scottish Index of Multiple Deprivation (SIMD), which is published every four years. Statisticians rate almost 7,000 areas in Scotland by standards including income, employability and health. Lower Whitecraigs in East Renfrewshire is classed as the least deprived. Glasgow has 56 of the 100 most deprived areas, down five on 2012. Edinburgh has six, up two on four years ago. The 10 most deprived areas in Scotland: The 10 least deprived areas in Scotland: Renfrewshire Council, which covers the area including Ferguslie Park, said a long-term plan to change the areas fortunes was already under way. Council leader Mark Macmillan said: The council has adopted an innovative approach to tackling poverty, recognised as leading the way in Scotland - and the SIMD stats are based on data from last year which does not fully capture the impact of that. The figures show the overall picture for Renfrewshire has improved and we believe we are making a difference on the ground. In the four years since the last SIMD figures were released, Renfrewshire has seen a 10% real-terms drop in the cash coming our way from Holyrood. The deprivation issues affecting Ferguslie and similar areas are long-term and deep-rooted - there are no easy solutions but through our unique approach, we believe we are on the right track. The Scottish government said the figures showed why Scotland needs a government committed to tackling deep-seated deprivation, poverty and inequalities. Communities Secretary Angela Constance said: This will not be an easy job while we do not have the full levers of power, but I am determined we take on the challenge of making a generational change for those areas that have been in poverty for too long. In the face of continuing UK government welfare cuts, an austerity agenda and attempts to take Scotland out of Europe, this will continue to be a long-term challenge. She added: We are spending Â£100m protecting people against the worst effects of welfare reform and every pound spent on mitigation measures is a pound less that can be spent on lifting people out of poverty. The Scottish Conservatives said the figures should be a wake-up call to the SNP government. Equalities spokeswoman Annie Wells said: There are many causes of deprivation - poverty, family breakdown, drug and alcohol abuse, low educational standards and poor health and we now need a new approach. Powers need to be devolved from the Scottish government to enable cities and city-regions to work more closely together to regenerate and redevelop their local economies. Scottish Labours deputy leader Alex Rowley said: If we are serious about cutting the gap between the richest and the rest we need to fully understand the picture of poverty in Scotland. These numbers are an important start - and they show a Scotland which remains too unequal, and further SNP cuts will only make it worse. The most deprived communities in Scotland will suffer more because of hundreds of millions of pounds of cuts to schools and local services, whilst our health boards are faced with millions of pounds of cuts because the SNP arent giving our NHS the resources it needs. Scottish Greens spokeswoman Alison Johnstone MSP said: If were to boost incomes, employment chances and health, we need to see greater ambition from Scottish ministers and local authorities. Yes, the Westminster governments continuing agenda of cuts plays a part, but we cannot let that stop us. We can push further on a real Living Wage across our economy, and we can boost peoples health by committing to a major programme of housebuilding and energy efficiency measures, along with better public transport and cycling and walking infrastructure. Analysis by Reevel Alderson, BBC Scotland Home affairs correspondent The Scottish Index of Multiple Deprivation (SIMD) is published every four years. It provides the government and local authorities with a considerable amount of information aimed at helping them tackle the problem. The index breaks Scotland down into 6,976 datazones, effectively small postcode areas, and ranks levels of deprivation there on seven criteria. These are: income, employment, health, education, housing, access to services and crime. Overall scores are then provided for each datazone. But that is not the full picture. The statisticians say deprived does not just mean poor or low income. It can also mean people have fewer resources and opportunities, for example in health and education. One area may score well on educational outcomes for example, but have poor health and access to services. The Scottish government says this allows effective analysis for targeting of policies and funding where the aim is to wholly or partly tackle or take account of area concentrations of multiple deprivation.</td>\n",
       "      <td>37230405</td>\n",
       "      <td>[0, 243, 16, 5, 200, 12565, 86, 5, 443, 34, 57, 23, 5, 2576, 9, 5, 5411, 4648, 9, 16210, 6748, 1069, 19914, 36, 37266, 495, 238, 61, 16, 1027, 358, 237, 107, 4, 15420, 5580, 2071, 731, 818, 262, 6, 151, 911, 11, 3430, 30, 2820, 217, 1425, 6, 12735, 4484, 8, 474, 4, 9978, 735, 438, 763, 15409, 11, 953, 6340, 506, 10461, 9959, 16, 1380, 196, 25, 5, 513, 22632, 4, 10496, 34, 4772, 9, 5, 727, 144, 22632, 911, 6, 159, 292, 15, 1125, 4, 9652, 34, 411, 6, 62, 80, 15, 237, 107, 536, 4, ...]</td>\n",
       "      <td>[0, 597, 39610, 11527, 861, 11, 5476, 354, 607, 34, 57, 2006, 25, 5, 443, 9, 3430, 19, 5, 3968, 672, 9, 31322, 4, 2]</td>\n",
       "      <td>Ferguslie Park in Paisley has been identified as the area of Scotland with the greatest level of deprivation.</td>\n",
       "    </tr>\n",
       "  </tbody>\n",
       "</table>"
      ],
      "text/plain": [
       "<IPython.core.display.HTML object>"
      ]
     },
     "metadata": {},
     "output_type": "display_data"
    }
   ],
   "source": [
    "display_function(tokenized_xsum['test'])"
   ]
  },
  {
   "cell_type": "markdown",
   "metadata": {},
   "source": [
    "# "
   ]
  },
  {
   "cell_type": "code",
   "execution_count": 71,
   "metadata": {},
   "outputs": [
    {
     "data": {
      "text/plain": [
       "{'attention_mask': Sequence(feature=Value(dtype='int8', id=None), length=-1, id=None),\n",
       " 'document': Value(dtype='string', id=None),\n",
       " 'id': Value(dtype='string', id=None),\n",
       " 'input_ids': Sequence(feature=Value(dtype='int32', id=None), length=-1, id=None),\n",
       " 'labels': Sequence(feature=Value(dtype='int64', id=None), length=-1, id=None),\n",
       " 'summary': Value(dtype='string', id=None)}"
      ]
     },
     "execution_count": 71,
     "metadata": {},
     "output_type": "execute_result"
    }
   ],
   "source": [
    "tokenized_xsum['test'].features"
   ]
  },
  {
   "cell_type": "markdown",
   "metadata": {},
   "source": [
    "# Compare Machine Summaries to Professional Human Written Summaries\n",
    "To score our machine generated summaries against professional human written ones, we compute the cosine similarities between embeddings to measure the semantic similaritiy between two texts. The comparisons we will be marking include: human summary to machine summary, human summary to original document, and machine summary to original document. The maximum length in each machine summary is contextually related to the human summary (but not by the number of words, rather characters in the summary). When words were selected the summary did not perform well and only provided the first words of every article. This makes sense because BART's pretraining likely influenced it's methodology to recognize that the start of text often contains valuable summarization inforamtion. Instead, we wanted to provide a contextual number related to the summary using the maximum length as the number of characters in the human summary rather than an arbitrary number. It is important to note that the model config for BART shows the minimum_length for tokens in a sequence is 56"
   ]
  },
  {
   "cell_type": "markdown",
   "metadata": {},
   "source": [
    "We are going to focus on 10 articles and build 10 models to inspect each pair individually"
   ]
  },
  {
   "cell_type": "code",
   "execution_count": 72,
   "metadata": {},
   "outputs": [],
   "source": [
    "def listToString(s): \n",
    "    str1 = \"\" \n",
    "    \n",
    "    for ele in s: \n",
    "        str1 += ele  \n",
    " \n",
    "    return str1 "
   ]
  },
  {
   "cell_type": "code",
   "execution_count": 73,
   "metadata": {},
   "outputs": [],
   "source": [
    "article1 = tokenized_xsum['test']['document'][0]\n",
    "article2 = tokenized_xsum['test']['document'][123]\n",
    "article3 = tokenized_xsum['test']['document'][99]\n",
    "article4 = tokenized_xsum['test']['document'][1100]\n",
    "article5 = tokenized_xsum['test']['document'][1118]\n",
    "article6 = tokenized_xsum['test']['document'][45]\n",
    "article7 = tokenized_xsum['test']['document'][13]\n",
    "article8 = tokenized_xsum['test']['document'][69]\n",
    "article9 = tokenized_xsum['test']['document'][27]\n",
    "article10 = tokenized_xsum['test']['document'][9]\n",
    "\n",
    "summary1 = tokenized_xsum['test']['summary'][0]\n",
    "summary2 = tokenized_xsum['test']['summary'][123]\n",
    "summary3 = tokenized_xsum['test']['summary'][99]\n",
    "summary4 = tokenized_xsum['test']['summary'][1100]\n",
    "summary5 = tokenized_xsum['test']['summary'][1118]\n",
    "summary6 = tokenized_xsum['test']['summary'][45]\n",
    "summary7 = tokenized_xsum['test']['summary'][13]\n",
    "summary8 = tokenized_xsum['test']['summary'][69]\n",
    "summary9 = tokenized_xsum['test']['summary'][27]\n",
    "summary10 = tokenized_xsum['test']['summary'][9]\n"
   ]
  },
  {
   "cell_type": "code",
   "execution_count": 74,
   "metadata": {},
   "outputs": [
    {
     "name": "stdout",
     "output_type": "stream",
     "text": [
      "The total number of words in these summaries is:  186\n",
      "The average words per summary is:  18.6\n"
     ]
    }
   ],
   "source": [
    "summaryList = [summary1.split(),\n",
    "summary2.split(), \n",
    "summary3.split(), \n",
    "summary4.split(),\n",
    "summary5.split(),\n",
    "summary6.split(),\n",
    "summary7.split(), \n",
    "summary8.split(),\n",
    "summary9.split(), \n",
    "summary10.split()]\n",
    "\n",
    "count = sum( [ len(listElem) for listElem in summaryList])\n",
    "\n",
    "print('The total number of words in these summaries is: ', count)\n",
    "print('The average words per summary is: ', count / len(summaryList))"
   ]
  },
  {
   "cell_type": "markdown",
   "metadata": {},
   "source": [
    "## Model 1"
   ]
  },
  {
   "cell_type": "code",
   "execution_count": 75,
   "metadata": {},
   "outputs": [],
   "source": [
    "input1 = tokenizer(article1, return_tensors='pt', truncation=True)\n",
    "summary_ids1 = model.generate(input1['input_ids'], max_length=56, early_stopping=False)\n",
    "machineSummary1 = ([tokenizer.decode(g, skip_special_tokens=True) for g in summary_ids1])"
   ]
  },
  {
   "cell_type": "code",
   "execution_count": 76,
   "metadata": {},
   "outputs": [
    {
     "name": "stdout",
     "output_type": "stream",
     "text": [
      "tensor([[0.7207]])\n",
      "tensor([[0.7645]])\n",
      "tensor([[0.9590]])\n"
     ]
    }
   ],
   "source": [
    "machineSummary1 = listToString(machineSummary1)\n",
    "original1 = listToString(article1)\n",
    "\n",
    "comparison1 = [summary1, machineSummary1, original1]\n",
    "token_model = SentenceTransformer('distilbert-base-nli-mean-tokens')\n",
    "comparison_embeddings1 = token_model.encode(comparison1)\n",
    "print(util.pytorch_cos_sim(comparison_embeddings1[0], comparison_embeddings1[1])) # human summary to machine summary similarity\n",
    "print(util.pytorch_cos_sim(comparison_embeddings1[0], comparison_embeddings1[2])) # human summary to original article\n",
    "print(util.pytorch_cos_sim(comparison_embeddings1[1], comparison_embeddings1[2])) # machine summary to original article"
   ]
  },
  {
   "cell_type": "code",
   "execution_count": 77,
   "metadata": {},
   "outputs": [
    {
     "data": {
      "text/plain": [
       "['There is a \"chronic\" need for more housing for prison leavers in Wales, according to a charity.',\n",
       " 'Prison Link Cymru had 1,099 referrals in 2015-16 and said some ex-offenders were living rough for up to a year before finding suitable accommodation. Workers at the charity claim investment in housing would be cheaper than jailing homeless repeat offenders',\n",
       " 'Prison Link Cymru had 1,099 referrals in 2015-16 and said some ex-offenders were living rough for up to a year before finding suitable accommodation. Workers at the charity claim investment in housing would be cheaper than jailing homeless repeat offenders. The Welsh Government said more people than ever were getting help to address housing problems. Changes to the Housing Act in Wales, introduced in 2015, removed the right for prison leavers to be given priority for accommodation. Prison Link Cymru, which helps people find accommodation after their release, said things were generally good for women because issues such as children or domestic violence were now considered. However, the same could not be said for men, the charity said, because issues which often affect them, such as post traumatic stress disorder or drug dependency, were often viewed as less of a priority. Andrew Stevens, who works in Welsh prisons trying to secure housing for prison leavers, said the need for accommodation was chronic. Theres a desperate need for it, finding suitable accommodation for those leaving prison there is just a lack of it everywhere, he said. It could take six months to a year, without a lot of help they could be on the streets for six months. When you think of the consequences of either being on the street, especially with the cold weather at the moment or you may have a roof over your head, sometimes there is only one choice. Mr Stevens believes building more one-bedroom flats could help ease the problem. The average price is a hundred pounds a week to keep someone in a rented flat, prison is a lot more than that so I would imagine it would save the public purse quite a few pounds, he said. Official figures show 830 one-bedroom properties were built in the year to March 2016, of an overall total of 6,900 new properties in Wales. Marc, 50, who has been in and out of prison for the past 20 years for burglary offences, said he struggled to find accommodation each time he was released. He said he would ask himself: Where am I going to stay? Where am I going to live? Have I got somewhere where I can see my daughter. Youre put out among the same sort of people doing the same sort of thing, and its difficult, its difficult to get away from it. Its like every man for himself, theres nothing. Marc has now found stable accommodation with homeless charity Emmaus and said it had been life changing. You feel safe, you got hot food, youve got company of people in similar situations to yourself but all dealing with different issues. Its a constructive, helpful atmosphere, he said. Tom Clarke, chief executive of Emmaus South Wales, agreed there was not enough support available. We do still see [people] homeless on the streets, so clearly they havent got accommodation and havent got provision, he said. I think the key is connecting people with the services they need. I dont delude myself that Emmaus can offer a one size fits all for everyone, we cant. But there must be other opportunities and given suitable encouragement I believe that can and should happen. A Welsh Government spokesman said the national pathway for homeless services to children, young people and adults in the secure estate had prevented many people from losing their home whilst serving their prison sentence. It added there were already significant demands for one-bedroom flats across the public and private sector and it was providing 20,000 new affordable homes in the next five years.']"
      ]
     },
     "execution_count": 77,
     "metadata": {},
     "output_type": "execute_result"
    }
   ],
   "source": [
    "comparison1"
   ]
  },
  {
   "cell_type": "markdown",
   "metadata": {},
   "source": [
    "# Model 2"
   ]
  },
  {
   "cell_type": "code",
   "execution_count": 78,
   "metadata": {},
   "outputs": [],
   "source": [
    "input2 = tokenizer(article2, return_tensors='pt', truncation=True)\n",
    "summary_ids2 = model.generate(input2['input_ids'], max_length=56, early_stopping=False)\n",
    "machineSummary2 = ([tokenizer.decode(g, skip_special_tokens=True) for g in summary_ids2])"
   ]
  },
  {
   "cell_type": "code",
   "execution_count": 79,
   "metadata": {},
   "outputs": [
    {
     "name": "stdout",
     "output_type": "stream",
     "text": [
      "tensor([[0.7074]])\n",
      "tensor([[0.5850]])\n",
      "tensor([[0.6182]])\n"
     ]
    }
   ],
   "source": [
    "machineSummary2 = listToString(machineSummary2)\n",
    "original2 = listToString(article2)\n",
    "\n",
    "comparison2 = [summary2, machineSummary2, original2]\n",
    "token_model = SentenceTransformer('distilbert-base-nli-mean-tokens')\n",
    "comparison_embeddings2 = token_model.encode(comparison2)\n",
    "print(util.pytorch_cos_sim(comparison_embeddings2[0], comparison_embeddings2[1])) # human summary to machine summary similarity\n",
    "print(util.pytorch_cos_sim(comparison_embeddings2[0], comparison_embeddings2[2])) # human summary to original article\n",
    "print(util.pytorch_cos_sim(comparison_embeddings2[1], comparison_embeddings2[2])) # machine summary to original article"
   ]
  },
  {
   "cell_type": "code",
   "execution_count": 80,
   "metadata": {},
   "outputs": [
    {
     "data": {
      "text/plain": [
       "[\"For a man often described as capricious, Tyson Fury's chaotic reign as world heavyweight champion was strangely predictable.\",\n",
       " 'Fury has been speaking about his mental health struggles for years. The repeated claims from Furys camp that his victory was downplayed by the British media, and that they had an agenda against him from the outset, are delusional. Fury is not the first boxer to',\n",
       " 'Media playback is not supported on this device Since dethroning Wladimir Klitschko in Dusseldorf last November, the Briton has resembled a runaway lorry - smashing through road blocks and red lights, skittling well-meaning people frantically waving warning flags, and only slowing down to shout obscenities and honk his horn, the louder the better. But that can happen when your mind is scrambled and you dont know whats what: you might be in the drivers seat but your hands arent on the wheel, your feet are up on the dashboard and theres a brick on the accelerator pedal. Another way of looking at it is that Furys crash actually came on that fateful night in Germany and he has been spewing smoke ever since. The morning after the Englishmans stunning upset of Klitschko and his acquisition of the WBA, IBF and WBO belts, he admitted he might struggle to cope. But not even those closest to him could have anticipated how true that would prove. Having beaten the various boxing authorities to the punch and relinquished the belts before being banned, stripped or both, its anyones guess as to when - if ever - hell have his keys back and his engine revving again. Fury has been speaking about his mental health struggles for years, with disarming and often alarming frankness. So his pronouncement immediately after his victory over Klitschko and the recent news that he was withdrawing from the scheduled rematch because of depression was not a shock. When I interviewed him in 2013, he described himself as an all-action man in anything I do. If Im drinking, Im drinking until I cant stand up. If Im going out for Chinese, Im going to an all-you-can-eat Chinese. If Im eating cake, Im eating the whole cake. I dont know what youd call me. An idiot, maybe? Hardly surprising, then, that having fulfilled his dream of winning the world heavyweight crown, Fury would lose focus. Most people having fallen down drunk or eaten a whole cake would steer clear of booze and Battenbergs for a while. But Fury is not most people. Fury is not the first boxer to lose motivation having reached the pinnacle of the sport, and he certainly wont be the last. Not many people climb Everest twice. The repeated claims from Furys camp that his victory was downplayed by the British media, and that they had an agenda against him from the outset, are delusional After pulling off one of the greatest shocks in sporting history by beating the seemingly invincible Mike Tyson in 1990, Buster Douglas didnt train much, got fat and lost the world heavyweight crown to Evander Holyfield in his first defence. The American promptly retired, almost doubled in weight, then nearly died after falling into a diabetic coma before being struck down by depression. Same old, same old. Jess Willards victory over the great Jack Johnson in 1915 was almost as unbelievable as Douglass upset of Tyson, and his reign even more shameful. Willard clearly didnt fancy fighting much, defending the world heavyweight crown once in four years before being bashed up by the great Jack Dempsey. Sometimes depression can be triggered by a lack of motivation for the thing that defines you, sometimes that lack of motivation is triggered by depression. Either way, Fury claims he hasnt been near a gym for months and has been drinking like a fish and hoovering up cocaine instead, in a forlorn bid to mask the pain. Media playback is not supported on this device In an interview with Rolling Stone magazine this month, Fury accused the British media of conducting a witch hunt against him and the British public of racism. It is important to separate the different links in Furys sometimes rambling trains of thought. Before and after his victory over Klitschko, sports writers openly discussed whether Fury should be saved from himself. Different journalists operate under different editorial guidelines, but the view of most was that they had been sent to Germany to report on a fight, not Furys controversial outbursts. As such, the repeated claims from Furys camp that his victory was downplayed by the British media, and that they had an agenda against him from the outset, are delusional. Almost every boxing writer proclaimed Furys performance as one of the finest ever by a British fighter, and they were right. But the problem with a siege mentality is that you forget whats happening beyond the castle walls, who your real friends are, and paranoia sets in. When Fury threatened violence against a journalist and later took aim at bisexual, transsexual and Jewish people, it was internet vloggers - to whom he had granted intimate access - who provided the platform. The so-called mainstream media (newspapers and major broadcasters) had been frozen out, ironically because they had dared to report what he had told those same vloggers. Furys camp would do well to memorise a quote attributed to George Orwell: Journalism is printing what someone else does not want printing. Everything else is public relations. How many times has Fury been saved by journalistic self-censorship? In threatening that journalist, the Mail on Sundays Oliver Holt, for reporting that he had compared homosexuality to paedophilia, Fury betrayed his sense of entitlement - not only because of his feats in the ring, but because of his religious convictions. If its in the Bible, how dare anyone question his beliefs? If you make questionable statements about gay people or Jews or women, the media will come down on you, whether you are a fine boxer, a deeply religious man, a nice bloke really, none of the above or all of them. Furys Traveller heritage doesnt come into it, as least as far as most of the media is concerned. I know Tyson personally and hes a really nice guy, says Ricky Hatton, Furys fellow Mancunian and another boxer who has struggled with depression. But sometimes he puts his mouth into gear before his brain and when someone puts a camera in front of him he feels he has to say something outrageous. Fury fans frequently claim that Anthony Joshua is given preferential treatment by the media, but this is because the IBF heavyweight champion - Fury was stripped of that belt shortly after winning it because he would not face the federations mandatory challenger - largely conducts himself like a gentleman. As for Joshuas brushes with the law, they have been covered at length in the media and he has clearly learnt from them. However, some of the racial abuse Fury receives on social media is despicable. When you are called every name under the sun on a daily basis, it is likely to have an effect on your mental wellbeing. No wonder, as Fury also stated in his interview with Rolling Stone, that he feels like everyone is out to get him. On Wednesday, the British Boxing Board of Control (BBBofC) met to discuss what should be done with Fury, and has suspended his licence, pending a meeting with him. It could hardly do otherwise. It did the same to Hatton in 2010, also following allegations of cocaine use, and, as the BBBofCs general secretary Robert Smith has pointed out, cocaine is against the law of the land. There was also Furys alleged use of performance-enhancing drugs and a subsequent ban to consider (Fury has an appeal hearing scheduled in November), as well as the allegation that he refused to take a drugs test (a misdemeanour that can lead to a four-year ban) and the argument that a man with severe mental health issues shouldnt be anywhere near a boxing ring. It should also be remembered that the BBBofC has already fined Fury twice for misconduct and that it has boxings image to think about - as mad as that sounds. Even if Fury hadnt voluntarily given up his belts, the WBA and WBO would have stripped him of them. It might seem callous, but the sanctioning bodies are businesses, the heavyweight belts are their biggest money-spinners and it is only fair that other boxers should be allowed to fight for them. It makes no difference whether a boxer has meningitis, a broken leg or mental health issues, the sport must move on. As WBO chief Jose Izquierdo put it: We cant have a belt held hostage. One can only hope that, during his absence from the ring, Fury gets the help he so desperately needs and returns fitter and more focused. Being someone who lives by the seat of his pants and for the moment, this could be the end of him, was Hattons grim assessment. He doesnt like boxing and finds the training hard. Its not looking good. But I was in a dark place, didnt care if I lived or died. I did very well in boxing but near enough everything wrong in life. The only way I got out of it was by asking for help. I fought through it and I hope Tyson can do the same. Fingers crossed that Fury will be remembered for that fine performance against Klitschko in Dusseldorf - and for many fine performances in the future - rather than as a wreck, spewing smoke on the side of the road as bright lights flash by.']"
      ]
     },
     "execution_count": 80,
     "metadata": {},
     "output_type": "execute_result"
    }
   ],
   "source": [
    "comparison2"
   ]
  },
  {
   "cell_type": "markdown",
   "metadata": {},
   "source": [
    "# Model 3"
   ]
  },
  {
   "cell_type": "code",
   "execution_count": 81,
   "metadata": {},
   "outputs": [],
   "source": [
    "input3 = tokenizer(article3, return_tensors='pt', truncation=True)\n",
    "summary_ids3 = model.generate(input3['input_ids'], max_length=56, early_stopping=False)\n",
    "machineSummary3 = ([tokenizer.decode(g, skip_special_tokens=True) for g in summary_ids3])"
   ]
  },
  {
   "cell_type": "code",
   "execution_count": 82,
   "metadata": {},
   "outputs": [
    {
     "name": "stdout",
     "output_type": "stream",
     "text": [
      "tensor([[0.5566]])\n",
      "tensor([[0.7642]])\n",
      "tensor([[0.8484]])\n"
     ]
    }
   ],
   "source": [
    "machineSummary3 = listToString(machineSummary3)\n",
    "original3 = listToString(article3)\n",
    "\n",
    "comparison3 = [summary3, machineSummary3, original3]\n",
    "token_model = SentenceTransformer('distilbert-base-nli-mean-tokens')\n",
    "comparison_embeddings3 = token_model.encode(comparison3)\n",
    "print(util.pytorch_cos_sim(comparison_embeddings3[0], comparison_embeddings3[1])) # human summary to machine summary similarity\n",
    "print(util.pytorch_cos_sim(comparison_embeddings3[0], comparison_embeddings3[2])) # human summary to original article\n",
    "print(util.pytorch_cos_sim(comparison_embeddings3[1], comparison_embeddings3[2])) # machine summary to original article"
   ]
  },
  {
   "cell_type": "code",
   "execution_count": 83,
   "metadata": {},
   "outputs": [
    {
     "data": {
      "text/plain": [
       "['A barrister who was due to move into his own chambers in Huddersfield has pleaded guilty to supplying cocaine.',\n",
       " 'Omar Khan, 31, had worked at The Johnson Partnership in Nottingham for five years. Partner Digby Johnson said he did not represent Khan, who had set up his own office and was set to leave the company. Erlin Manahasa, Albert Dib',\n",
       " 'Omar Khan, 31, had worked at The Johnson Partnership in Nottingham for five years before he was arrested. Erlin Manahasa, Albert Dibra and Nazaquat Ali joined Khan in admitting the same charge, between 1 October  and 4 December last year, at Nottingham Crown Court. They are due to be sentenced on 15 April. Updates on this story and more from Nottinghamshire The court heard the case involved the recovery of 1kg (2.2lb) of cocaine. Digby Johnson, a partner at the Johnson firm, confirmed they did not represent Khan - who had set up his own office and was set to leave the company. I still find it hard to believe he could do something as stupid as involve himself in drugs and people who were heavily involved in drugs, Mr Johnson said. Im just at a loss. You do question everything youve ever believed about anybody. Mr Johnson also described Khan, of William Street, Huddersfield, as a lovely guy who was incredibly hard-working. He would put in hour after hour, he added. He was keen to progress and impress. Khan appeared at the court via video link to admit conspiracy to supply the Class A drug. Manahasa, of no fixed address, Dibra, of Joyce Avenue, Nottingham, and Ali, of Chard Street, Nottingham, were remanded in custody following the hearing.']"
      ]
     },
     "execution_count": 83,
     "metadata": {},
     "output_type": "execute_result"
    }
   ],
   "source": [
    "comparison3"
   ]
  },
  {
   "cell_type": "markdown",
   "metadata": {},
   "source": [
    "# Model 4"
   ]
  },
  {
   "cell_type": "code",
   "execution_count": 84,
   "metadata": {},
   "outputs": [],
   "source": [
    "input4 = tokenizer(article4, return_tensors='pt', truncation=True)\n",
    "summary_ids4 = model.generate(input4['input_ids'], max_length=56, early_stopping=False)\n",
    "machineSummary4 = ([tokenizer.decode(g, skip_special_tokens=True) for g in summary_ids4])"
   ]
  },
  {
   "cell_type": "code",
   "execution_count": 85,
   "metadata": {},
   "outputs": [
    {
     "name": "stdout",
     "output_type": "stream",
     "text": [
      "tensor([[0.5360]])\n",
      "tensor([[0.6342]])\n",
      "tensor([[0.8119]])\n"
     ]
    }
   ],
   "source": [
    "machineSummary4 = listToString(machineSummary4)\n",
    "original4 = listToString(article4)\n",
    "\n",
    "comparison4 = [summary4, machineSummary4, original4]\n",
    "token_model = SentenceTransformer('distilbert-base-nli-mean-tokens')\n",
    "comparison_embeddings4 = token_model.encode(comparison4)\n",
    "print(util.pytorch_cos_sim(comparison_embeddings4[0], comparison_embeddings4[1])) # human summary to machine summary similarity\n",
    "print(util.pytorch_cos_sim(comparison_embeddings4[0], comparison_embeddings4[2])) # human summary to original article\n",
    "print(util.pytorch_cos_sim(comparison_embeddings4[1], comparison_embeddings4[2])) # machine summary to original article"
   ]
  },
  {
   "cell_type": "code",
   "execution_count": 86,
   "metadata": {},
   "outputs": [
    {
     "data": {
      "text/plain": [
       "['Star Wars fans are being given the opportunity to become Jedi Knights and learn how to wield lightsabers in combat.',\n",
       " 'The sport began eight years ago in Italy but has only just come to England with the first classes in Cheltenham. Instructor Jordan Court said people were already hooked. The lightsabers used in the sport are all hand-made and are provided for use during the',\n",
       " 'LudoSport has opened its first academy teaching seven forms of combat from the Star Wars world using flexible blades mounted on weighted hilts. The sport began eight years ago in Italy but has only just come to England with the first classes in Cheltenham. Instructor Jordan Court said people were already hooked. The classes in Cheltenham began last month. So far there are six pupils, but this number is expected to increase. Mr Court attended an international boot camp to learn the different stages of the sport which range in characteristics from defensive in stage one to aggressive and flamboyant in stage four and unpredictable in stage seven. The 34-year-old said fighting with an elegant weapon for a more civilized age was a childhood dream come true. My brother and I used to steal our Mums bamboo garden canes to fight with, he said. The lightsabers used in the sport are all hand-made and are provided for use during the classes, Mr Court said. The sport is so new to England that there have only been a handful of classes so far but Mr Court said there were plans to begin teaching in Bristol by the end of October... if the Force was with the academy. Lightsaber Combat Academy There are several ranks for those wishing to become a fully-fledged Jedi Knight:']"
      ]
     },
     "execution_count": 86,
     "metadata": {},
     "output_type": "execute_result"
    }
   ],
   "source": [
    "comparison4"
   ]
  },
  {
   "cell_type": "markdown",
   "metadata": {},
   "source": [
    "# Model 5"
   ]
  },
  {
   "cell_type": "code",
   "execution_count": 87,
   "metadata": {},
   "outputs": [],
   "source": [
    "input5 = tokenizer(article5, return_tensors='pt', truncation=True)\n",
    "summary_ids5 = model.generate(input5['input_ids'], max_length=56, early_stopping=False)\n",
    "machineSummary5 = ([tokenizer.decode(g, skip_special_tokens=True) for g in summary_ids5])"
   ]
  },
  {
   "cell_type": "code",
   "execution_count": 88,
   "metadata": {},
   "outputs": [
    {
     "name": "stdout",
     "output_type": "stream",
     "text": [
      "tensor([[0.5537]])\n",
      "tensor([[0.6152]])\n",
      "tensor([[0.9410]])\n"
     ]
    }
   ],
   "source": [
    "machineSummary5 = listToString(machineSummary5)\n",
    "original5 = listToString(article5)\n",
    "\n",
    "comparison5 = [summary5, machineSummary5, original5]\n",
    "token_model = SentenceTransformer('distilbert-base-nli-mean-tokens')\n",
    "comparison_embeddings5 = token_model.encode(comparison5)\n",
    "print(util.pytorch_cos_sim(comparison_embeddings5[0], comparison_embeddings5[1])) # human summary to machine summary similarity\n",
    "print(util.pytorch_cos_sim(comparison_embeddings5[0], comparison_embeddings5[2])) # human summary to original article\n",
    "print(util.pytorch_cos_sim(comparison_embeddings5[1], comparison_embeddings5[2])) # machine summary to original article"
   ]
  },
  {
   "cell_type": "code",
   "execution_count": 89,
   "metadata": {},
   "outputs": [
    {
     "data": {
      "text/plain": [
       "['Awareness rides are taking place to try and cut the number of people on horseback injured or killed on roads.',\n",
       " 'The Pass Wide and Slow Wales campaign has collected 1,300 signatures on the assemblys e-petition website. It wants an annual road safety awareness campaign explaining to motorists how to react around horses. The British Horse Society found that since 2010 there have been 2,',\n",
       " 'The Pass Wide and Slow Wales campaign has collected 1,300 signatures on the assemblys e-petition website. It wants an annual road safety awareness campaign explaining to motorists how to react around horses. The British Horse Society found that since 2010 there have been 2,000 road accidents in the UK, with 1,500 because of cars passing too closely. As a result of these, 180 horses and 36 riders have died. Awareness rides were planned for Penarth, Vale of Glamorgan, Swansea, Neyland in Pembrokeshire, Machynlleth, Powys, Flintshire and Porthmadog in Gwynedd. Any petition with over 50 signatures is considered by a committee to be debated in the assembly.']"
      ]
     },
     "execution_count": 89,
     "metadata": {},
     "output_type": "execute_result"
    }
   ],
   "source": [
    "comparison5"
   ]
  },
  {
   "cell_type": "markdown",
   "metadata": {},
   "source": [
    "# Model 6"
   ]
  },
  {
   "cell_type": "code",
   "execution_count": 90,
   "metadata": {},
   "outputs": [],
   "source": [
    "input6 = tokenizer(article6, return_tensors='pt', truncation=True)\n",
    "summary_ids6 = model.generate(input6['input_ids'], max_length=56, early_stopping=True)\n",
    "machineSummary6 = ([tokenizer.decode(g, skip_special_tokens=True) for g in summary_ids6])"
   ]
  },
  {
   "cell_type": "code",
   "execution_count": 91,
   "metadata": {},
   "outputs": [
    {
     "name": "stdout",
     "output_type": "stream",
     "text": [
      "tensor([[0.6985]])\n",
      "tensor([[0.7340]])\n",
      "tensor([[0.9442]])\n"
     ]
    }
   ],
   "source": [
    "machineSummary6 = listToString(machineSummary6)\n",
    "original6 = listToString(article6)\n",
    "\n",
    "comparison6 = [summary6, machineSummary6, original6]\n",
    "token_model = SentenceTransformer('distilbert-base-nli-mean-tokens')\n",
    "comparison_embeddings6 = token_model.encode(comparison6)\n",
    "print(util.pytorch_cos_sim(comparison_embeddings6[0], comparison_embeddings6[1])) # human summary to machine summary similarity\n",
    "print(util.pytorch_cos_sim(comparison_embeddings6[0], comparison_embeddings6[2])) # human summary to original article\n",
    "print(util.pytorch_cos_sim(comparison_embeddings6[1], comparison_embeddings6[2])) # machine summary to original article"
   ]
  },
  {
   "cell_type": "code",
   "execution_count": 92,
   "metadata": {},
   "outputs": [
    {
     "data": {
      "text/plain": [
       "['Two new councillors have been elected in a by-election in the City of Edinburgh.',\n",
       " 'SNP topped the vote in the Leith Walk by-election. Scottish Labour won the second seat from the Greens. Deidre Brock of the SNP and Maggie Chapman of the Scottish Greens stood down. It was the first time the Single Transferable Vote (ST',\n",
       " 'It was the first time the Single Transferable Vote (STV) system had been used to select two members in the same ward in a by-election. The SNP topped the vote in the Leith Walk by-election, while Scottish Labour won the second seat from the Greens. The by-election was called after Deidre Brock of the SNP and Maggie Chapman of the Scottish Greens stood down. The SNPs John Lewis Ritchie topped the Leith Walk poll with 2,290 votes. He was elected at stage one in the STV process with a swing in first-preference votes of 7.6% from Labour. Labours Marion Donaldson received 1,623 votes, ahead of Susan Jane Rae of the Scottish Greens on 1,381. Ms Donaldson was elected at stage 10 of the voting process after other preferences had been considered. The by-election was called after Ms Brock stood down when she was elected as the SNP MP for Edinburgh North and Leith in May. Ms Chapman, of the Scottish Greens, resigned from her post to concentrate on standing for the Scottish Parliament in next Mays election. The turnout for the by-election was 25.1%. The SNP also held the Midlothian West seat on Midlothian Council with a swing of 6.3% from Labour. The partys Kelly Parry secured 1,540 votes, ahead of Labours Ian Miller on 945 votes. The by-election was called after Owen Thompson was elected as SNP MP for the Midlothian constituency.']"
      ]
     },
     "execution_count": 92,
     "metadata": {},
     "output_type": "execute_result"
    }
   ],
   "source": [
    "comparison6"
   ]
  },
  {
   "cell_type": "markdown",
   "metadata": {},
   "source": [
    "# Model 7"
   ]
  },
  {
   "cell_type": "code",
   "execution_count": 93,
   "metadata": {},
   "outputs": [],
   "source": [
    "input7 = tokenizer(article7, return_tensors='pt', truncation=True)\n",
    "summary_ids7 = model.generate(input7['input_ids'], max_length=56, early_stopping=False)\n",
    "machineSummary7 = ([tokenizer.decode(g, skip_special_tokens=True) for g in summary_ids7])"
   ]
  },
  {
   "cell_type": "code",
   "execution_count": 94,
   "metadata": {},
   "outputs": [
    {
     "name": "stdout",
     "output_type": "stream",
     "text": [
      "tensor([[0.6876]])\n",
      "tensor([[0.6673]])\n",
      "tensor([[0.8905]])\n"
     ]
    }
   ],
   "source": [
    "machineSummary7 = listToString(machineSummary7)\n",
    "original7 = listToString(article7)\n",
    "\n",
    "comparison7 = [summary7, machineSummary7, original7]\n",
    "token_model = SentenceTransformer('distilbert-base-nli-mean-tokens')\n",
    "comparison_embeddings7 = token_model.encode(comparison7)\n",
    "print(util.pytorch_cos_sim(comparison_embeddings7[0], comparison_embeddings7[1])) # human summary to machine summary similarity\n",
    "print(util.pytorch_cos_sim(comparison_embeddings7[0], comparison_embeddings7[2])) # human summary to original article\n",
    "print(util.pytorch_cos_sim(comparison_embeddings7[1], comparison_embeddings7[2])) # machine summary to original article"
   ]
  },
  {
   "cell_type": "code",
   "execution_count": 95,
   "metadata": {},
   "outputs": [
    {
     "data": {
      "text/plain": [
       "[\"Torquay United boss Kevin Nicholson says none of the money from Eunan O'Kane's move to Leeds from Bournemouth will go to the playing squad.\",\n",
       " ' OKane moved for an undisclosed fee, but Nicholson says any money will go to help the cash-strapped club. The Gulls are still looking for new owners having been taken over by a consortium of local business people last summer. They were forced to close',\n",
       " 'The National League sold the Republic of Ireland midfielder to the Cherries for £175,000 in 2012 and had a 15% sell-on clause included in the deal. OKane moved for an undisclosed fee, but Nicholson says any money will go to help the cash-strapped club. I dont think Ill be getting anything, Nicholson told BBC Devon. Theres more important things. The Gulls are still looking for new owners having been taken over by a consortium of local business people last summer. They were forced to close down the clubs academy and drastically reduce the playing budget after millionaire former owner Thea Bristow left the club.']"
      ]
     },
     "execution_count": 95,
     "metadata": {},
     "output_type": "execute_result"
    }
   ],
   "source": [
    "comparison7"
   ]
  },
  {
   "cell_type": "markdown",
   "metadata": {},
   "source": [
    "# Model 8"
   ]
  },
  {
   "cell_type": "code",
   "execution_count": 96,
   "metadata": {},
   "outputs": [],
   "source": [
    "input8 = tokenizer(article8, return_tensors='pt', truncation=True)\n",
    "summary_ids8 = model.generate(input8['input_ids'], max_length=56, early_stopping=False)\n",
    "machineSummary8 = ([tokenizer.decode(g, skip_special_tokens=True) for g in summary_ids8])"
   ]
  },
  {
   "cell_type": "code",
   "execution_count": 97,
   "metadata": {},
   "outputs": [
    {
     "name": "stdout",
     "output_type": "stream",
     "text": [
      "tensor([[0.6043]])\n",
      "tensor([[0.6410]])\n",
      "tensor([[0.9696]])\n"
     ]
    }
   ],
   "source": [
    "machineSummary8 = listToString(machineSummary8)\n",
    "original8 = listToString(article8)\n",
    "\n",
    "comparison8 = [summary8, machineSummary8, original8]\n",
    "token_model = SentenceTransformer('distilbert-base-nli-mean-tokens')\n",
    "comparison_embeddings8 = token_model.encode(comparison8)\n",
    "print(util.pytorch_cos_sim(comparison_embeddings8[0], comparison_embeddings8[1])) # human summary to machine summary similarity\n",
    "print(util.pytorch_cos_sim(comparison_embeddings8[0], comparison_embeddings8[2])) # human summary to original article\n",
    "print(util.pytorch_cos_sim(comparison_embeddings8[1], comparison_embeddings8[2])) # machine summary to original article"
   ]
  },
  {
   "cell_type": "code",
   "execution_count": 98,
   "metadata": {},
   "outputs": [
    {
     "data": {
      "text/plain": [
       "['Manufacturers have reported positive business trends, in the latest survey from the Scottish Chambers of Commerce.',\n",
       " 'Manufacturers reported their highest growth in new orders for nearly three years. In retail, there was also a return to optimism - though only just. In tourism, firms reported improving visitor numbers in the final quarter of the year, but falling sales revenues. Construction is expecting',\n",
       " 'The end of last year saw growth across several sectors of the economy, but there are concerns about rising prices, skill shortages and falling sales. Manufacturers reported their highest growth in new orders for nearly three years, with export demand still strong. In retail, there was also a return to optimism - though only just, and despite profitability being squeezed. In tourism, firms reported improving visitor numbers in the final quarter of the year, but falling sales revenues. Responses to the survey, carried out for the Chambers of Commerce by Strathclyde University economists at the Fraser of Allander Institute, were more positive than the economic figures published on Wednesday. The Labour Force Survey and the Gross Domestic Product figures showed weakness in the Scottish economy, while covering an earlier part of 2016 than the Chambers survey. While the GDP assessment from the Scottish government has seen a sharp contraction in the past year, the Chambers found a more positive picture, with growth in private commercial contracts. However, there are warning signals survey, with tourism companies having difficulties in finding skilled recruits. Retail firms flagged up rising prices. Construction is expecting an investment dip. The weakest of the five sectors covered was finance and business services. More firms in that large part of the economy saw employment fall than saw it rise. But on balance, firms say sales revenue is expected to increase. Neil Amner, chairman of the Scottish Chambers of Commerce economic advisory group, said: Our latest economic data shows that many Scottish businesses will have a successful 2017, with business optimism remaining positive for many sectors. This is good news for the economy, particularly as we continue to deal with international uncertainty and domestic issues including a rating revaluation and a potential divergence of Income Tax between Scotland and the rest of the UK. The overall business mood remains positive but firms expect business growth to be challenged by rising prices, tightening of cash flow and profitability, higher import costs impacted by exchange rates and a likely increase of inflation as the year goes on. On the converse side, exporters are continuing to report a healthy growth in trade, though perhaps not quite matching up to their initial expectations. Optimism could hardly be more finely balanced and anything that rocks the boat could change the glass from half full to half empty. Business success in 2017 will largely depend upon the ability of firms to manage costs and for consumer demand to remain strong in the face of pressures to real incomes.']"
      ]
     },
     "execution_count": 98,
     "metadata": {},
     "output_type": "execute_result"
    }
   ],
   "source": [
    "comparison8"
   ]
  },
  {
   "cell_type": "markdown",
   "metadata": {},
   "source": [
    "# Model 9"
   ]
  },
  {
   "cell_type": "code",
   "execution_count": 99,
   "metadata": {},
   "outputs": [],
   "source": [
    "input9 = tokenizer(article9, return_tensors='pt', truncation=True)\n",
    "summary_ids9 = model.generate(input9['input_ids'], max_length=56, early_stopping=False)\n",
    "machineSummary9 = ([tokenizer.decode(g, skip_special_tokens=True) for g in summary_ids9])"
   ]
  },
  {
   "cell_type": "code",
   "execution_count": null,
   "metadata": {},
   "outputs": [
    {
     "name": "stdout",
     "output_type": "stream",
     "text": [
      "tensor([[0.8371]])\n",
      "tensor([[0.8348]])\n",
      "tensor([[0.8967]])\n"
     ]
    }
   ],
   "source": [
    "machineSummary9 = listToString(machineSummary9)\n",
    "original9 = listToString(article9)\n",
    "\n",
    "comparison9 = [summary9, machineSummary9, original9]\n",
    "token_model = SentenceTransformer('distilbert-base-nli-mean-tokens')\n",
    "comparison_embeddings9 = token_model.encode(comparison9)\n",
    "print(util.pytorch_cos_sim(comparison_embeddings9[0], comparison_embeddings9[1])) # human summary to machine summary similarity\n",
    "print(util.pytorch_cos_sim(comparison_embeddings9[0], comparison_embeddings9[2])) # human summary to original article\n",
    "print(util.pytorch_cos_sim(comparison_embeddings9[1], comparison_embeddings9[2])) # machine summary to original article"
   ]
  },
  {
   "cell_type": "code",
   "execution_count": null,
   "metadata": {},
   "outputs": [
    {
     "data": {
      "text/plain": [
       "['Of his last 30 matches in 2016, Andy Murray won 28 and lost just two.',\n",
       " 'The world number one has won 21 of his first 30 matches in 2017. Murray has had shingles and an elbow problem, and now his left hip is proving cause for concern. Murray is virtually 5,000 points behind Rafael Nadal in the season-long',\n",
       " 'Media playback is not supported on this device Of his first 30 matches in 2017, the world number one has won 21 and lost nine. Winning his last five tournaments of 2016 to pip Novak Djokovic to the year-end number one position in the final match of the season at Londons O2 Arena was astonishing, dramatic and unforgettable. And yet it appears that relentless run of success, and the 87 matches he played over a season, has come at a price. Murrays straight-set defeat by world number 90 Jordan Thompson in the first round at Queens Club was the sixth time he has lost to a player outside the top 20 this year. He has had shingles and an elbow problem, and now his left hip is proving cause for concern. Opting out of two scheduled exhibition matches at the Hurlingham Club in London may not be too much of a blow, as Murrays aptitude for grass is likely to allow him some margin for error during the opening week at Wimbledon. But will he be in pain, and will his movement suffer? Although it was reassuring to see him return to the practice courts on Friday, Murray was walking with a limp and neither moving, nor hitting his backhand, anywhere near as well as he will need to. Only time will tell. Media playback is not supported on this device Murray has looked especially vulnerable this season over three sets. As well as the defeat by Thompson at Queens, he has also lost in straight sets to Fabio Fognini in Rome (no disgrace), to Borna Coric in Madrid, and to world number 129 Vasek Pospisil at Indian Wells. Though he was bamboozled by Mischa Zverev in the fourth round of the Australian Open, his Grand Slam record remains formidable. He is aiming this fortnight for a 10th consecutive Wimbledon quarter-final, and the last time he failed to reach the second week of a Slam was when he fell to Stan Wawrinka in the third round of the 2010 US Open. So, assuming Murrays hip does not leave him underpowered, the French Open provides the best indication as to how he might fare at Wimbledon. Murray often started slowly in matches at Roland Garros, but put in a dominant third-round performance against Juan Martin del Potro as he won in straight sets. He never looked a realistic champion, but ultimately was just a tie-break away from a second consecutive final. He then ran out of steam, a legacy of insufficient matches, in a Stan Wawrinka-dominated final set of their semi-final. It would be foolish to try to come to a firm conclusion about Murrays chances at the All England Club this year. Twice a champion, and a gold-medal winner on Centre Court at the 2012 Olympics, not even Novak Djokovic has outperformed him at Wimbledon over the past five years. Yet on 2017 results alone, Murray is only the seventh best player in the field. He has too frequently struggled to impose himself on his opponent, and hindered at times by injury, has not been able to trust his serve in the same way. This year he has won 72% of points on first serve, down from 76% last year; and while last year he saved 66% of the break points he faced, that number has fallen this year to 54%. He claims his indifferent form is nothing to do with the pressure associated with his status as world number one, and he does not cut the figure of a man weighed down by an unwelcome burden. But perhaps Murray has lost his cause: he is now the hunted, rather than the hunter. That may not be a concern much longer. Murray is virtually 5,000 points behind Rafael Nadal in the season-long race and is therefore very likely to be replaced at the top of the rankings by the autumn at the latest. In fact, he could be overtaken after Wimbledon by Wawrinka or Djokovic if they win the title, but more probably by Nadal, who assuming both reach the second week would only have to go one round further. Nadals knees, Djokovics blues and Wawrinkas unexceptional Wimbledon record muddy the waters still further. And then theres Roger Federer: the seven-time champion, who is free of injuries, and last Sunday in Halle won his fourth title of the year having skipped the clay-court season. Media playback is not supported on this device']"
      ]
     },
     "execution_count": 49,
     "metadata": {},
     "output_type": "execute_result"
    }
   ],
   "source": [
    "comparison9"
   ]
  },
  {
   "cell_type": "markdown",
   "metadata": {},
   "source": [
    "# Model 10"
   ]
  },
  {
   "cell_type": "code",
   "execution_count": null,
   "metadata": {},
   "outputs": [],
   "source": [
    "input10 = tokenizer(article10, return_tensors='pt', truncation=True)\n",
    "summary_ids10 = model.generate(input10['input_ids'], max_length=56, early_stopping=False)\n",
    "machineSummary10 = ([tokenizer.decode(g, skip_special_tokens=True) for g in summary_ids10])"
   ]
  },
  {
   "cell_type": "code",
   "execution_count": null,
   "metadata": {},
   "outputs": [
    {
     "name": "stdout",
     "output_type": "stream",
     "text": [
      "tensor([[0.7728]])\n",
      "tensor([[0.7987]])\n",
      "tensor([[0.7236]])\n"
     ]
    }
   ],
   "source": [
    "machineSummary10 = listToString(machineSummary10)\n",
    "summary10 = listToString(summary10)\n",
    "original10 = listToString(article10)\n",
    "\n",
    "comparison10 = [summary10, machineSummary10, original10]\n",
    "token_model = SentenceTransformer('distilbert-base-nli-mean-tokens')\n",
    "comparison_embeddings10 = token_model.encode(comparison10)\n",
    "print(util.pytorch_cos_sim(comparison_embeddings10[0], comparison_embeddings10[1])) # human summary to machine summary similarity\n",
    "print(util.pytorch_cos_sim(comparison_embeddings10[0], comparison_embeddings10[2])) # human summary to original article\n",
    "print(util.pytorch_cos_sim(comparison_embeddings10[1], comparison_embeddings10[2])) # machine summary to original article"
   ]
  },
  {
   "cell_type": "code",
   "execution_count": null,
   "metadata": {},
   "outputs": [
    {
     "data": {
      "text/plain": [
       "[\"Manager Brendan Rodgers is sure Celtic can exploit the wide open spaces of Hampden when they meet Rangers in Sunday's League Cup semi-final.\",\n",
       " \"Celtic face Rangers in the Scottish Cup semi-final at Hampden Park. Brendan Rodgers' side beat Rangers 5-1 at Celtic Park last month. Rodgers lost two semi-finals in his time at Liverpool and is aiming to make it third time lucky at\",\n",
       " 'Im really looking forward to it - the home of Scottish football, said Rodgers ahead of his maiden visit. I hear the pitch is good, a nice big pitch suits the speed in our team and our intensity. The technical area goes right out to the end of the pitch, but you might need a taxi to get back to your staff. This will be Rodgers second taste of the Old Firm derby and his experience of the fixture got off to a great start with a 5-1 league victory at Celtic Park last month. It was a brilliant performance by the players in every aspect, he recalled. Obviously this one is on a neutral ground, but well be looking to have a similar performance. Well be prepared and focused. We know its going to be a tough game. We anticipated that the last time. Rodgers is also aware Celtics visit to Hampden last season in the Scottish Cup semi-final against Rangers ended in defeat. The last experience there wasnt so good for Celtic, he said. But its a different team with a different mentality and well look to take that mentality into the game. Rodgers lost two semi-finals in his time at Liverpool and is aiming to make it third time lucky at the club he joined in the summer. You have to perform - thats whats important and if you get little bit of luck along the way then hopefully youll get the result that you want. said the Northern Irishman. So, for us, its really looking at our performance level, which in the main has been at a really high level. My focus is always on my own team and, if we impose our style of play, it can give a lot of problems to opponents. Unlike predecessor Ronny Deila, Rodgers would not be drawn on this semi-final being a step on the way to a potential domestic treble. Its very, very difficult to achieve, he said. Theres been great managers here in the past that havent achieved that. But its the first competition where weve a chance to win a trophy and Ive always said that its a priority for us because its the first one. Our idea was to qualify for the Champions League, which we did, to make a good start in the league, which weve done, and then look to get to the League Cup final. Unless you can do that then you dont have the chance to win the trophies.']"
      ]
     },
     "execution_count": 52,
     "metadata": {},
     "output_type": "execute_result"
    }
   ],
   "source": [
    "comparison10"
   ]
  }
 ],
 "metadata": {
  "interpreter": {
   "hash": "0eebd8ec8ee1e3b0ea056353a4df6208bb651af5156ee9734311d083be2b2cbb"
  },
  "kernelspec": {
   "display_name": "Python 3.9.9 64-bit (windows store)",
   "language": "python",
   "name": "python3"
  },
  "language_info": {
   "codemirror_mode": {
    "name": "ipython",
    "version": 3
   },
   "file_extension": ".py",
   "mimetype": "text/x-python",
   "name": "python",
   "nbconvert_exporter": "python",
   "pygments_lexer": "ipython3",
   "version": "3.9.9"
  },
  "orig_nbformat": 4
 },
 "nbformat": 4,
 "nbformat_minor": 2
}
