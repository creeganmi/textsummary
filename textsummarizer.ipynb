{
 "cells": [
  {
   "cell_type": "markdown",
   "metadata": {},
   "source": [
    "# Text Summary & Scoring Project\n",
    "##### Michael Creegan, Yungfeng Dai, Hong Gyu Ji, Ziling Zeng\n",
    "##### Python for Data Analysis\n",
    "##### Columbia University"
   ]
  },
  {
   "cell_type": "markdown",
   "metadata": {},
   "source": [
    "# Abstract\n",
    "\n",
    "Summarization is a common problem in the 21st century as the world has become increasingly driven by data. Summarization of data can be very useful to  quickly determine if something is relevant or whether it's worth reading. Another use case could could be to store summaries of articles it in the backend to run downstream taks on. It could also be useful to understand the semantic integrity to indicate quality.\n",
    "\n",
    "To explore this topic, we will leverage the extreme summarization dataset (XSUM) which consists of BBC articles accompanying single sentence summaries. Each article is prefaced with an introductory sentence (which is a summary) that is professionally written, typically by the author of the article.\n",
    "\n",
    "To summarize articles, we will use an encoder-decoder transformer (sequence-to-sequence) which combines  decoders and encoders because we need to perform both input and output tasks: taking in text and then generating a summary. We selected this type of transformer because the encoder accepts inputs (text) and computes a high level representation of those inputs  which are then passed to the decoder to generate a prediction output (summary). This has advantages over using a standalone encoder like BERT/ALBERT/ELECTRA/RoBERTA/DistilBERT to name a few because  encoders are pre-trained by filling randomly masked words in sentences and therefore are better suited for output tasks. Using a standalone decoder like gpt2 would also not be optimal because decoders are trained to guess the next word in a sequence (left or right context aka does not have context on one side of the sequence) and therefore are better suited at generating text but not necessarily taking in text because of the hidden context limitations. \n",
    "\n",
    "Our scoring will compare the output of the BART encoder-decoder model to the professionally written summaries in the XSUM dataset to see how similar a machine generated summary is to a professional one. Our scoring methodology will be focused on semantic textual similarity and computed using the cosine similarity between the professional human written summary and the machine generated one. "
   ]
  },
  {
   "cell_type": "markdown",
   "metadata": {},
   "source": [
    "# Importing Transformers & Dependencies"
   ]
  },
  {
   "cell_type": "code",
   "execution_count": 1,
   "metadata": {},
   "outputs": [],
   "source": [
    "import pandas as pd\n",
    "import numpy as np\n",
    "from transformers import BartTokenizer, BartForConditionalGeneration, BartConfig\n",
    "from datasets import load_dataset, load_metric\n",
    "from sentence_transformers import SentenceTransformer, util\n",
    "import random\n",
    "from IPython.display import display, HTML"
   ]
  },
  {
   "cell_type": "markdown",
   "metadata": {},
   "source": [
    "# Load XSUM Dataset"
   ]
  },
  {
   "cell_type": "code",
   "execution_count": 2,
   "metadata": {},
   "outputs": [
    {
     "name": "stderr",
     "output_type": "stream",
     "text": [
      "Using custom data configuration default\n",
      "Reusing dataset xsum (C:\\Users\\creeg\\.cache\\huggingface\\datasets\\xsum\\default\\1.2.0\\32c23220eadddb1149b16ed2e9430a05293768cfffbdfd151058697d4c11f934)\n",
      "100%|██████████| 3/3 [00:00<00:00, 84.32it/s]\n"
     ]
    }
   ],
   "source": [
    "xsum = load_dataset('xsum')"
   ]
  },
  {
   "cell_type": "markdown",
   "metadata": {},
   "source": [
    "### We can see that the dataset is a \"DatasetDict\" where the keys are strings that correspond to the split and the values are the dataset object. In the XSUM dataset, the the keys are \"training\", \"validation\", and \"test\" with values corresponding to \"document\", \"summary\", and \"id\" (columns)"
   ]
  },
  {
   "cell_type": "code",
   "execution_count": 3,
   "metadata": {},
   "outputs": [
    {
     "data": {
      "text/plain": [
       "DatasetDict({\n",
       "    train: Dataset({\n",
       "        features: ['document', 'summary', 'id'],\n",
       "        num_rows: 204045\n",
       "    })\n",
       "    validation: Dataset({\n",
       "        features: ['document', 'summary', 'id'],\n",
       "        num_rows: 11332\n",
       "    })\n",
       "    test: Dataset({\n",
       "        features: ['document', 'summary', 'id'],\n",
       "        num_rows: 11334\n",
       "    })\n",
       "})"
      ]
     },
     "execution_count": 3,
     "metadata": {},
     "output_type": "execute_result"
    }
   ],
   "source": [
    "xsum"
   ]
  },
  {
   "cell_type": "markdown",
   "metadata": {},
   "source": [
    "### View a record of the underlying data"
   ]
  },
  {
   "cell_type": "code",
   "execution_count": 4,
   "metadata": {},
   "outputs": [
    {
     "data": {
      "text/plain": [
       "{'document': 'Prison Link Cymru had 1,099 referrals in 2015-16 and said some ex-offenders were living rough for up to a year before finding suitable accommodation.\\nWorkers at the charity claim investment in housing would be cheaper than jailing homeless repeat offenders.\\nThe Welsh Government said more people than ever were getting help to address housing problems.\\nChanges to the Housing Act in Wales, introduced in 2015, removed the right for prison leavers to be given priority for accommodation.\\nPrison Link Cymru, which helps people find accommodation after their release, said things were generally good for women because issues such as children or domestic violence were now considered.\\nHowever, the same could not be said for men, the charity said, because issues which often affect them, such as post traumatic stress disorder or drug dependency, were often viewed as less of a priority.\\nAndrew Stevens, who works in Welsh prisons trying to secure housing for prison leavers, said the need for accommodation was \"chronic\".\\n\"There\\'s a desperate need for it, finding suitable accommodation for those leaving prison there is just a lack of it everywhere,\" he said.\\n\"It could take six months to a year, without a lot of help they could be on the streets for six months.\\n\"When you think of the consequences of either being on the street, especially with the cold weather at the moment or you may have a roof over your head, sometimes there is only one choice.\"\\nMr Stevens believes building more one-bedroom flats could help ease the problem.\\n\"The average price is a hundred pounds a week to keep someone in a rented flat, prison is a lot more than that so I would imagine it would save the public purse quite a few pounds,\" he said.\\nOfficial figures show 830 one-bedroom properties were built in the year to March 2016, of an overall total of 6,900 new properties in Wales.\\nMarc, 50, who has been in and out of prison for the past 20 years for burglary offences, said he struggled to find accommodation each time he was released.\\nHe said he would ask himself: \"Where am I going to stay? Where am I going to live? Have I got somewhere where I can see my daughter.\"\\n\"You\\'re put out among the same sort of people doing the same sort of thing, and it\\'s difficult, it\\'s difficult to get away from it. It\\'s like every man for himself, there\\'s nothing.\"\\nMarc has now found stable accommodation with homeless charity Emmaus and said it had been life changing.\\n\"You feel safe, you got hot food, you\\'ve got company of people in similar situations to yourself but all dealing with different issues. It\\'s a constructive, helpful atmosphere,\" he said.\\nTom Clarke, chief executive of Emmaus South Wales, agreed there was not enough support available.\\n\"We do still see [people] homeless on the streets, so clearly they haven\\'t got accommodation and haven\\'t got provision,\" he said.\\n\"I think the key is connecting people with the services they need. I don\\'t delude myself that Emmaus can offer a one size fits all for everyone, we can\\'t.\\n\"But there must be other opportunities and given suitable encouragement I believe that can and should happen.\"\\nA Welsh Government spokesman said the national pathway for homeless services to children, young people and adults in the secure estate had prevented many people from losing their home whilst serving their prison sentence.\\nIt added there were already significant demands for one-bedroom flats across the public and private sector and it was providing 20,000 new affordable homes in the next five years.',\n",
       " 'summary': 'There is a \"chronic\" need for more housing for prison leavers in Wales, according to a charity.',\n",
       " 'id': '38264402'}"
      ]
     },
     "execution_count": 4,
     "metadata": {},
     "output_type": "execute_result"
    }
   ],
   "source": [
    "xsum['test'][0]"
   ]
  },
  {
   "cell_type": "markdown",
   "metadata": {},
   "source": [
    "# View Underlying Data\n",
    "We can use a function to view a random selection of articles and summaries in the training section (largest section) to get a more accurate depiction of what the data looks like in a synthesized format"
   ]
  },
  {
   "cell_type": "code",
   "execution_count": 5,
   "metadata": {},
   "outputs": [],
   "source": [
    "def display_function(xsum, num_examples=5):\n",
    "    assert num_examples <= len(xsum)                # limit to number of records in the xsum\n",
    "    \n",
    "    selections = []                                 # create empty list to put the records into \n",
    "    \n",
    "    for _ in range(num_examples):                   # we can use _ here in place of a variable name because we don't care how many time sthe loop is run\n",
    "        selection = random.randint(0, len(xsum) - 1)\n",
    "        while selection in selections:\n",
    "            selection = random.randint(0, len(xsum) - 1)\n",
    "        selections.append(selection)\n",
    "\n",
    "    xsumPd = pd.DataFrame(xsum[selections])\n",
    "    for column, typ in xsum.features.items():\n",
    "        display(HTML(xsumPd.to_html()))"
   ]
  },
  {
   "cell_type": "markdown",
   "metadata": {},
   "source": [
    "# Cleaning\n",
    "Our end goal is to create accurate summaries using this model so we need to remove the text characters that do not provide any contextual value. We can also see that there are characters in the document that are not present in the summary which could cause discrepencies between our machine generated summary vs the professional human generated one. We need to remove new line characters that are present in the document column but not the summary column"
   ]
  },
  {
   "cell_type": "code",
   "execution_count": 6,
   "metadata": {},
   "outputs": [
    {
     "data": {
      "text/html": [
       "<table border=\"1\" class=\"dataframe\">\n",
       "  <thead>\n",
       "    <tr style=\"text-align: right;\">\n",
       "      <th></th>\n",
       "      <th>document</th>\n",
       "      <th>summary</th>\n",
       "      <th>id</th>\n",
       "    </tr>\n",
       "  </thead>\n",
       "  <tbody>\n",
       "    <tr>\n",
       "      <th>0</th>\n",
       "      <td>The Catalan regional parliament has voted to start the secession process, but Prime Minister Mariano Rajoy has gone to the Constitutional Court to suspend the resolution.\\nSecession is banned under Spain's constitution and the prime minister has accused campaigners of trying to \"liquidate\" the nation.\\nWhen Catalan nationalists held an unofficial poll in November 2014, 80% of those who voted backed independence.\\nThe vote was non-binding as the Constitutional Court had ruled it illegal. But the secessionists viewed it as a defining moment and declared regional elections in September 2015 would be a de facto referendum on independence.\\nCatalan nationalist parties won an absolute majority in the 135-seat regional assembly and on 9 November pushed through a motion to start the process towards independence.\\nThe Spanish government has hit back, declaring the secessionist step unconstitutional.\\nThe votes suggest they have popular support, but last November's non-binding poll was based on relatively low turnout of 2.2 million voters out of a potential 5.4 million.\\nAnd the Junts pel Si (Together for Yes) coalition of two major separatist parties which won this year's regional election relied on the support of a radical left-wing party, CUP, to secure its majority in the Catalan parliament. Even then, they fell short of a majority of voters, with 48% support.\\nSo the secessionists control the regional parliament but Catalan opinion on secession appears evenly divided.\\nAnd with Spain facing a general election on 20 December, and no party expected to win a clear majority nationally, the Catalan issue is only adding to political uncertainty.\\nCatalonia - its history, politics and language\\nThat is the process that the Catalan parliament has voted to start - with plans for legislation to begin by early December on a separate constitution, treasury and social security system.\\nCatalans already have extensive autonomy in education, health and policing. But acting Catalan President Artur Mas wants the rapid creation of other trappings of an independent state, too, such as a diplomatic service, central bank and armed forces.\\nBut Spain's Prime Minister Mariano Rajoy, whose Popular Party is facing a critical test in December national elections, may invoke article 155 of the constitution that allows the national government to compel an autonomous regional authority to meet its constitutional obligations.\\nBefore the 2014 vote, he took the case to the Constitutional Court and the poll was declared illegal. Artur Mas is facing criminal charges as a result. And now Mr Rajoy has returned to the court to have the regional assembly's motion suspended.\\nBut there is a growing demand in Madrid for the government to engage with Catalan leaders.\\nSo far, the independence movement remains peaceful and organised, in stark contrast, for instance, to the separatist violence which plagued the Spanish Basque Country until recently.\\nSpain's rapid return to democracy after the death of dictator General Francisco Franco in 1975 brought devolution for Catalonia, along with Spain's other regions.\\nProsperity followed, with Barcelona becoming one of the EU's most high-profile cities, famed for its 1992 Summer Olympics, trade fairs and its football.\\nBut Spain's economic crisis hit Catalonia hard, leaving it with 19% unemployment (compared with 21% nationally). The region, which makes up 16% of Spain's population, accounts for almost 19% of Spanish GDP but there is a widespread feeling that the central government takes much more than it gives back.\\nThis sense of injustice fuels the independence campaign, especially since Mr Mas was rebuffed by Mr Rajoy when he asked for greater fiscal powers in 2012.\\nCatalan became the joint official language along with Spanish after the return to democracy. But in recent years Spain has challenged its status as the first language of instruction in schools.\\nIt is difficult to calculate how much more Catalans contribute in taxes to Madrid each year than they get back from investment in services such as schools and hospitals because of Spain's complex system of budget transfers.\\nHowever, Spanish government data from 2011, published only this year, show the region paid â‚¬8.5bn (Â£6bn) more than it got back. According to the Catalan government, the discrepancy was closer to â‚¬11.1bn - the equivalent of nearly half of Catalonia's budget for this year.\\nMeanwhile, state investment in Catalonia continues to drop: the 2015 draft national budget allocated 9.5% to Catalonia - compared with nearly 16% in 2003.\\nWhile some Catalans may accept their tax money being used to help ailing southern regions like Andalusia, there is a perception that their own public services are being underfunded at the same time.\\nOn the other hand, Spanish unionists argue that taxpayers in the Madrid region pay out even more.\\nScotland's 2014 independence referendum inspired Mr Mas and his supporters, despite the No camp's victory. Unlike Catalans, Scots were allowed a legitimate vote on their future.\\nWith its own language, a recorded history of more than 1,000 years as a distinct region, and a population nearly as big as Switzerland's (7.5 million), Catalonia lays a strong claim to nationhood.\\nIt also happens to be a vital part of the Spanish state, locked in since the 15th Century, and subjected periodically to repressive campaigns to make it \"more Spanish\".\\nAccording to the most recent Catalan government data, nearly one in five adults living in Catalonia today was born in a different part of Spain, while under Franco, the proportion was even higher, at 36.7% (figures for 1970).\\nDepending on who you ask, Barcelona today is the capital of Catalonia - or Spain's second city.\\nCatalonia profile - Timeline\\nCatalonia is worth much more to Spain economically than Scotland is to the UK.\\nSo whoever runs Spain after the December general election will want Catalonia to remain part of it.\\nBut momentous changes may be afoot in the country's national politics and it is not yet clear who will win.\\nThe Popular Party may prefer to stick to the legal route to keep the secessionists in check.\\nThe opposition socialists are against independence but have mooted a constitutional reform that would grant the region more powers. The anti-capitalist Podemos movement supports Catalonia's right to a referendum.\\nThe rise of new parties also complicates the picture in Catalonia.\\nThe centre-right Citizens (Ciudadanos) party, which was born in Catalonia, has become the second force in Catalan politics, winning almost 18% of the vote. Notably, the party is firmly opposed to independence and is surging in the opinion polls nationally too.\\nIndependence campaigners argue the idea of a rich region like Catalonia being expelled from the EU is unthinkable.\\nIn a BBC interview, Raul Romeva of Together for Yes said that 7.5 million Catalan citizens who were already part of the EU could not be removed from it. However, the region would likely have to apply to become a member from scratch, as it would need to be recognised as a state by all 28 existing members.\\nThe EU's executive body, the European Commission, has tried to stay out of the debate, insisting that is not for the Commission to take a position on a member state's constitutional arrangements.\\nBut European leaders have backed the stance of the Madrid government.\\nUK Prime Minister David Cameron has warned that an independent Catalonia could end up outside the EU and would have to \"take its place at the back of the queue\" if it sought to rejoin. And Germany's Chancellor Angela Merkel has said she stands with Mr Rajoy on respecting \"national law\".</td>\n",
       "      <td>Pro-independence parties in Spain's richest region, Catalonia, are pushing ahead with a historic plan for an independent state within 18 months, and the national government in Madrid is fighting back.</td>\n",
       "      <td>29478415</td>\n",
       "    </tr>\n",
       "    <tr>\n",
       "      <th>1</th>\n",
       "      <td>The 17-year-old scored 330.70 in Kiev to finish ahead of Russian duo Anna Chuinyshena (326.90) and Iuliia Timoshinina (313.30).\\n\"To be honest, I did not expect this victory,\" said Toulson. \"I am not totally satisfied with my dives yet.\"\\nThe World Championships take place in Budapest, Hungary from 14 July.\\nToulson is expected to compete both individually and with Tonia Couch in the synchronised event.</td>\n",
       "      <td>Britain's Lois Toulson won European Championship gold in the 10m platform as she finalises her preparations for next month's World Championships.</td>\n",
       "      <td>40271195</td>\n",
       "    </tr>\n",
       "    <tr>\n",
       "      <th>2</th>\n",
       "      <td>The operation foiled a plan to smuggle drugs and weapons from South America to the port of Gioia Tauro in Calabria, officials said.\\nThe raids targeted two mafia crime families, the Gambino of New York and the Ndrangheta from Calabria.\\nFBI agents travelled to Italy to take part in the raids.\\nPolice said the two-year investigation prevented the delivery to Italy of hundreds of kilograms of cocaine hidden in coconuts and pineapples, as well as heroin and marijuana.\\nGioia Tauro, the intended destination of the drugs, is one of Europe's largest shipping ports.\\nEight of the arrests were made in New York, and are linked with the Gambino crime family which is believed to have negotiated the deal.\\nThe other 18 people were arrested in Italy are believed to have been involved with the Ndrangheta clan.</td>\n",
       "      <td>Police in the US and Italy say they have arrested 26 people in a joint raid against a new mafia-operated drug trafficking route.</td>\n",
       "      <td>26134817</td>\n",
       "    </tr>\n",
       "    <tr>\n",
       "      <th>3</th>\n",
       "      <td>Christopher Adjei, 29, of Riversdale Road, Ramsgate, pleaded guilty to assault with intent to commit a sexual offence and battery.\\nKent Police said he grabbed the woman, tried to cover her mouth with his hand, and forced her to the ground in the early hours in Church Lane.\\nAdjei fled the scene when the woman asked what he wanted.\\nOfficers traced Adjei after his DNA was found on the victim's coat and were able to piece together his whereabouts on 14 June 2014, the night of the attack, based on his bank details and a train ticket to Canterbury.\\nDet Sgt Daniel Aylett said Adjei put the victim through a terrifying experience.\\nA warrant was issued for Adjei's arrest after he walked out of a Canterbury Crown Court hearing in August.\\nHe was arrested the following month in the Thanet area.\\nAdjei was also ordered to spend two years on extended licence after his release from jail as part of his sentence.</td>\n",
       "      <td>A man has been jailed for four years for attacking a woman in her 20s in the street in Canterbury.</td>\n",
       "      <td>32402921</td>\n",
       "    </tr>\n",
       "    <tr>\n",
       "      <th>4</th>\n",
       "      <td>Security was tight, with police sealing off Lahore's biggest Christian neighbourhood and submitting those attending to security checks.\\nSunday's bombings of two churches in the Youhanabad area left 17 people dead and more than 70 wounded.\\nTwo days of rioting by Christians followed, with two men lynched.\\nA reported 5,000 police and paramilitary rangers were deployed on Tuesday to try to prevent further rioting.\\nThe main road into the district was closed with rails and barbed wire.\\nShops were also shut as grieving relatives made their way towards burial grounds.\\n\"I would like to tell these terrorists if they think that they can push us back from our faith, they are deadly, entirely, very much at fault,\" said Manual Mani, a pastor attending the funerals.\\nThe attacks during Sunday mass have been condemned by representatives of all religions in Pakistan.\\nThey also criticised the mob violence that followed, as angry Christian crowds threw stones, blocked roads and lynched two men they accused of being involved in the attack. The family of one of the men has told a Pakistani newspaper that he was an innocent shopkeeper and had not been a militant.\\nRiot police used tear gas and water cannon to disperse rioters on Monday.\\nPakistan's Interior Minister Chaudhry Nisar Ali Khan, speaking at the National Assembly on Tuesday, also condemned the reprisal attacks, saying that they constituted \"the worst form of terrorism\".\\n\"A similar incident occurred right at the heart of Paris where a synagogue was attacked,\" Mr Nisar said, \"but the minority Jews did not react violently in the French capital.\"\\nChristians make up less than 2% of Pakistan's population and many are among its poorest people.\\nMembers of the Christian community say that the riots are a show of anger and frustration from a community that feels unprotected and abandoned by the government.</td>\n",
       "      <td>Hundreds of Pakistani Christians have attended funerals for the victims of two Taliban suicide bomb attacks in the city of Lahore.</td>\n",
       "      <td>31922140</td>\n",
       "    </tr>\n",
       "  </tbody>\n",
       "</table>"
      ],
      "text/plain": [
       "<IPython.core.display.HTML object>"
      ]
     },
     "metadata": {},
     "output_type": "display_data"
    },
    {
     "data": {
      "text/html": [
       "<table border=\"1\" class=\"dataframe\">\n",
       "  <thead>\n",
       "    <tr style=\"text-align: right;\">\n",
       "      <th></th>\n",
       "      <th>document</th>\n",
       "      <th>summary</th>\n",
       "      <th>id</th>\n",
       "    </tr>\n",
       "  </thead>\n",
       "  <tbody>\n",
       "    <tr>\n",
       "      <th>0</th>\n",
       "      <td>The Catalan regional parliament has voted to start the secession process, but Prime Minister Mariano Rajoy has gone to the Constitutional Court to suspend the resolution.\\nSecession is banned under Spain's constitution and the prime minister has accused campaigners of trying to \"liquidate\" the nation.\\nWhen Catalan nationalists held an unofficial poll in November 2014, 80% of those who voted backed independence.\\nThe vote was non-binding as the Constitutional Court had ruled it illegal. But the secessionists viewed it as a defining moment and declared regional elections in September 2015 would be a de facto referendum on independence.\\nCatalan nationalist parties won an absolute majority in the 135-seat regional assembly and on 9 November pushed through a motion to start the process towards independence.\\nThe Spanish government has hit back, declaring the secessionist step unconstitutional.\\nThe votes suggest they have popular support, but last November's non-binding poll was based on relatively low turnout of 2.2 million voters out of a potential 5.4 million.\\nAnd the Junts pel Si (Together for Yes) coalition of two major separatist parties which won this year's regional election relied on the support of a radical left-wing party, CUP, to secure its majority in the Catalan parliament. Even then, they fell short of a majority of voters, with 48% support.\\nSo the secessionists control the regional parliament but Catalan opinion on secession appears evenly divided.\\nAnd with Spain facing a general election on 20 December, and no party expected to win a clear majority nationally, the Catalan issue is only adding to political uncertainty.\\nCatalonia - its history, politics and language\\nThat is the process that the Catalan parliament has voted to start - with plans for legislation to begin by early December on a separate constitution, treasury and social security system.\\nCatalans already have extensive autonomy in education, health and policing. But acting Catalan President Artur Mas wants the rapid creation of other trappings of an independent state, too, such as a diplomatic service, central bank and armed forces.\\nBut Spain's Prime Minister Mariano Rajoy, whose Popular Party is facing a critical test in December national elections, may invoke article 155 of the constitution that allows the national government to compel an autonomous regional authority to meet its constitutional obligations.\\nBefore the 2014 vote, he took the case to the Constitutional Court and the poll was declared illegal. Artur Mas is facing criminal charges as a result. And now Mr Rajoy has returned to the court to have the regional assembly's motion suspended.\\nBut there is a growing demand in Madrid for the government to engage with Catalan leaders.\\nSo far, the independence movement remains peaceful and organised, in stark contrast, for instance, to the separatist violence which plagued the Spanish Basque Country until recently.\\nSpain's rapid return to democracy after the death of dictator General Francisco Franco in 1975 brought devolution for Catalonia, along with Spain's other regions.\\nProsperity followed, with Barcelona becoming one of the EU's most high-profile cities, famed for its 1992 Summer Olympics, trade fairs and its football.\\nBut Spain's economic crisis hit Catalonia hard, leaving it with 19% unemployment (compared with 21% nationally). The region, which makes up 16% of Spain's population, accounts for almost 19% of Spanish GDP but there is a widespread feeling that the central government takes much more than it gives back.\\nThis sense of injustice fuels the independence campaign, especially since Mr Mas was rebuffed by Mr Rajoy when he asked for greater fiscal powers in 2012.\\nCatalan became the joint official language along with Spanish after the return to democracy. But in recent years Spain has challenged its status as the first language of instruction in schools.\\nIt is difficult to calculate how much more Catalans contribute in taxes to Madrid each year than they get back from investment in services such as schools and hospitals because of Spain's complex system of budget transfers.\\nHowever, Spanish government data from 2011, published only this year, show the region paid â‚¬8.5bn (Â£6bn) more than it got back. According to the Catalan government, the discrepancy was closer to â‚¬11.1bn - the equivalent of nearly half of Catalonia's budget for this year.\\nMeanwhile, state investment in Catalonia continues to drop: the 2015 draft national budget allocated 9.5% to Catalonia - compared with nearly 16% in 2003.\\nWhile some Catalans may accept their tax money being used to help ailing southern regions like Andalusia, there is a perception that their own public services are being underfunded at the same time.\\nOn the other hand, Spanish unionists argue that taxpayers in the Madrid region pay out even more.\\nScotland's 2014 independence referendum inspired Mr Mas and his supporters, despite the No camp's victory. Unlike Catalans, Scots were allowed a legitimate vote on their future.\\nWith its own language, a recorded history of more than 1,000 years as a distinct region, and a population nearly as big as Switzerland's (7.5 million), Catalonia lays a strong claim to nationhood.\\nIt also happens to be a vital part of the Spanish state, locked in since the 15th Century, and subjected periodically to repressive campaigns to make it \"more Spanish\".\\nAccording to the most recent Catalan government data, nearly one in five adults living in Catalonia today was born in a different part of Spain, while under Franco, the proportion was even higher, at 36.7% (figures for 1970).\\nDepending on who you ask, Barcelona today is the capital of Catalonia - or Spain's second city.\\nCatalonia profile - Timeline\\nCatalonia is worth much more to Spain economically than Scotland is to the UK.\\nSo whoever runs Spain after the December general election will want Catalonia to remain part of it.\\nBut momentous changes may be afoot in the country's national politics and it is not yet clear who will win.\\nThe Popular Party may prefer to stick to the legal route to keep the secessionists in check.\\nThe opposition socialists are against independence but have mooted a constitutional reform that would grant the region more powers. The anti-capitalist Podemos movement supports Catalonia's right to a referendum.\\nThe rise of new parties also complicates the picture in Catalonia.\\nThe centre-right Citizens (Ciudadanos) party, which was born in Catalonia, has become the second force in Catalan politics, winning almost 18% of the vote. Notably, the party is firmly opposed to independence and is surging in the opinion polls nationally too.\\nIndependence campaigners argue the idea of a rich region like Catalonia being expelled from the EU is unthinkable.\\nIn a BBC interview, Raul Romeva of Together for Yes said that 7.5 million Catalan citizens who were already part of the EU could not be removed from it. However, the region would likely have to apply to become a member from scratch, as it would need to be recognised as a state by all 28 existing members.\\nThe EU's executive body, the European Commission, has tried to stay out of the debate, insisting that is not for the Commission to take a position on a member state's constitutional arrangements.\\nBut European leaders have backed the stance of the Madrid government.\\nUK Prime Minister David Cameron has warned that an independent Catalonia could end up outside the EU and would have to \"take its place at the back of the queue\" if it sought to rejoin. And Germany's Chancellor Angela Merkel has said she stands with Mr Rajoy on respecting \"national law\".</td>\n",
       "      <td>Pro-independence parties in Spain's richest region, Catalonia, are pushing ahead with a historic plan for an independent state within 18 months, and the national government in Madrid is fighting back.</td>\n",
       "      <td>29478415</td>\n",
       "    </tr>\n",
       "    <tr>\n",
       "      <th>1</th>\n",
       "      <td>The 17-year-old scored 330.70 in Kiev to finish ahead of Russian duo Anna Chuinyshena (326.90) and Iuliia Timoshinina (313.30).\\n\"To be honest, I did not expect this victory,\" said Toulson. \"I am not totally satisfied with my dives yet.\"\\nThe World Championships take place in Budapest, Hungary from 14 July.\\nToulson is expected to compete both individually and with Tonia Couch in the synchronised event.</td>\n",
       "      <td>Britain's Lois Toulson won European Championship gold in the 10m platform as she finalises her preparations for next month's World Championships.</td>\n",
       "      <td>40271195</td>\n",
       "    </tr>\n",
       "    <tr>\n",
       "      <th>2</th>\n",
       "      <td>The operation foiled a plan to smuggle drugs and weapons from South America to the port of Gioia Tauro in Calabria, officials said.\\nThe raids targeted two mafia crime families, the Gambino of New York and the Ndrangheta from Calabria.\\nFBI agents travelled to Italy to take part in the raids.\\nPolice said the two-year investigation prevented the delivery to Italy of hundreds of kilograms of cocaine hidden in coconuts and pineapples, as well as heroin and marijuana.\\nGioia Tauro, the intended destination of the drugs, is one of Europe's largest shipping ports.\\nEight of the arrests were made in New York, and are linked with the Gambino crime family which is believed to have negotiated the deal.\\nThe other 18 people were arrested in Italy are believed to have been involved with the Ndrangheta clan.</td>\n",
       "      <td>Police in the US and Italy say they have arrested 26 people in a joint raid against a new mafia-operated drug trafficking route.</td>\n",
       "      <td>26134817</td>\n",
       "    </tr>\n",
       "    <tr>\n",
       "      <th>3</th>\n",
       "      <td>Christopher Adjei, 29, of Riversdale Road, Ramsgate, pleaded guilty to assault with intent to commit a sexual offence and battery.\\nKent Police said he grabbed the woman, tried to cover her mouth with his hand, and forced her to the ground in the early hours in Church Lane.\\nAdjei fled the scene when the woman asked what he wanted.\\nOfficers traced Adjei after his DNA was found on the victim's coat and were able to piece together his whereabouts on 14 June 2014, the night of the attack, based on his bank details and a train ticket to Canterbury.\\nDet Sgt Daniel Aylett said Adjei put the victim through a terrifying experience.\\nA warrant was issued for Adjei's arrest after he walked out of a Canterbury Crown Court hearing in August.\\nHe was arrested the following month in the Thanet area.\\nAdjei was also ordered to spend two years on extended licence after his release from jail as part of his sentence.</td>\n",
       "      <td>A man has been jailed for four years for attacking a woman in her 20s in the street in Canterbury.</td>\n",
       "      <td>32402921</td>\n",
       "    </tr>\n",
       "    <tr>\n",
       "      <th>4</th>\n",
       "      <td>Security was tight, with police sealing off Lahore's biggest Christian neighbourhood and submitting those attending to security checks.\\nSunday's bombings of two churches in the Youhanabad area left 17 people dead and more than 70 wounded.\\nTwo days of rioting by Christians followed, with two men lynched.\\nA reported 5,000 police and paramilitary rangers were deployed on Tuesday to try to prevent further rioting.\\nThe main road into the district was closed with rails and barbed wire.\\nShops were also shut as grieving relatives made their way towards burial grounds.\\n\"I would like to tell these terrorists if they think that they can push us back from our faith, they are deadly, entirely, very much at fault,\" said Manual Mani, a pastor attending the funerals.\\nThe attacks during Sunday mass have been condemned by representatives of all religions in Pakistan.\\nThey also criticised the mob violence that followed, as angry Christian crowds threw stones, blocked roads and lynched two men they accused of being involved in the attack. The family of one of the men has told a Pakistani newspaper that he was an innocent shopkeeper and had not been a militant.\\nRiot police used tear gas and water cannon to disperse rioters on Monday.\\nPakistan's Interior Minister Chaudhry Nisar Ali Khan, speaking at the National Assembly on Tuesday, also condemned the reprisal attacks, saying that they constituted \"the worst form of terrorism\".\\n\"A similar incident occurred right at the heart of Paris where a synagogue was attacked,\" Mr Nisar said, \"but the minority Jews did not react violently in the French capital.\"\\nChristians make up less than 2% of Pakistan's population and many are among its poorest people.\\nMembers of the Christian community say that the riots are a show of anger and frustration from a community that feels unprotected and abandoned by the government.</td>\n",
       "      <td>Hundreds of Pakistani Christians have attended funerals for the victims of two Taliban suicide bomb attacks in the city of Lahore.</td>\n",
       "      <td>31922140</td>\n",
       "    </tr>\n",
       "  </tbody>\n",
       "</table>"
      ],
      "text/plain": [
       "<IPython.core.display.HTML object>"
      ]
     },
     "metadata": {},
     "output_type": "display_data"
    },
    {
     "data": {
      "text/html": [
       "<table border=\"1\" class=\"dataframe\">\n",
       "  <thead>\n",
       "    <tr style=\"text-align: right;\">\n",
       "      <th></th>\n",
       "      <th>document</th>\n",
       "      <th>summary</th>\n",
       "      <th>id</th>\n",
       "    </tr>\n",
       "  </thead>\n",
       "  <tbody>\n",
       "    <tr>\n",
       "      <th>0</th>\n",
       "      <td>The Catalan regional parliament has voted to start the secession process, but Prime Minister Mariano Rajoy has gone to the Constitutional Court to suspend the resolution.\\nSecession is banned under Spain's constitution and the prime minister has accused campaigners of trying to \"liquidate\" the nation.\\nWhen Catalan nationalists held an unofficial poll in November 2014, 80% of those who voted backed independence.\\nThe vote was non-binding as the Constitutional Court had ruled it illegal. But the secessionists viewed it as a defining moment and declared regional elections in September 2015 would be a de facto referendum on independence.\\nCatalan nationalist parties won an absolute majority in the 135-seat regional assembly and on 9 November pushed through a motion to start the process towards independence.\\nThe Spanish government has hit back, declaring the secessionist step unconstitutional.\\nThe votes suggest they have popular support, but last November's non-binding poll was based on relatively low turnout of 2.2 million voters out of a potential 5.4 million.\\nAnd the Junts pel Si (Together for Yes) coalition of two major separatist parties which won this year's regional election relied on the support of a radical left-wing party, CUP, to secure its majority in the Catalan parliament. Even then, they fell short of a majority of voters, with 48% support.\\nSo the secessionists control the regional parliament but Catalan opinion on secession appears evenly divided.\\nAnd with Spain facing a general election on 20 December, and no party expected to win a clear majority nationally, the Catalan issue is only adding to political uncertainty.\\nCatalonia - its history, politics and language\\nThat is the process that the Catalan parliament has voted to start - with plans for legislation to begin by early December on a separate constitution, treasury and social security system.\\nCatalans already have extensive autonomy in education, health and policing. But acting Catalan President Artur Mas wants the rapid creation of other trappings of an independent state, too, such as a diplomatic service, central bank and armed forces.\\nBut Spain's Prime Minister Mariano Rajoy, whose Popular Party is facing a critical test in December national elections, may invoke article 155 of the constitution that allows the national government to compel an autonomous regional authority to meet its constitutional obligations.\\nBefore the 2014 vote, he took the case to the Constitutional Court and the poll was declared illegal. Artur Mas is facing criminal charges as a result. And now Mr Rajoy has returned to the court to have the regional assembly's motion suspended.\\nBut there is a growing demand in Madrid for the government to engage with Catalan leaders.\\nSo far, the independence movement remains peaceful and organised, in stark contrast, for instance, to the separatist violence which plagued the Spanish Basque Country until recently.\\nSpain's rapid return to democracy after the death of dictator General Francisco Franco in 1975 brought devolution for Catalonia, along with Spain's other regions.\\nProsperity followed, with Barcelona becoming one of the EU's most high-profile cities, famed for its 1992 Summer Olympics, trade fairs and its football.\\nBut Spain's economic crisis hit Catalonia hard, leaving it with 19% unemployment (compared with 21% nationally). The region, which makes up 16% of Spain's population, accounts for almost 19% of Spanish GDP but there is a widespread feeling that the central government takes much more than it gives back.\\nThis sense of injustice fuels the independence campaign, especially since Mr Mas was rebuffed by Mr Rajoy when he asked for greater fiscal powers in 2012.\\nCatalan became the joint official language along with Spanish after the return to democracy. But in recent years Spain has challenged its status as the first language of instruction in schools.\\nIt is difficult to calculate how much more Catalans contribute in taxes to Madrid each year than they get back from investment in services such as schools and hospitals because of Spain's complex system of budget transfers.\\nHowever, Spanish government data from 2011, published only this year, show the region paid â‚¬8.5bn (Â£6bn) more than it got back. According to the Catalan government, the discrepancy was closer to â‚¬11.1bn - the equivalent of nearly half of Catalonia's budget for this year.\\nMeanwhile, state investment in Catalonia continues to drop: the 2015 draft national budget allocated 9.5% to Catalonia - compared with nearly 16% in 2003.\\nWhile some Catalans may accept their tax money being used to help ailing southern regions like Andalusia, there is a perception that their own public services are being underfunded at the same time.\\nOn the other hand, Spanish unionists argue that taxpayers in the Madrid region pay out even more.\\nScotland's 2014 independence referendum inspired Mr Mas and his supporters, despite the No camp's victory. Unlike Catalans, Scots were allowed a legitimate vote on their future.\\nWith its own language, a recorded history of more than 1,000 years as a distinct region, and a population nearly as big as Switzerland's (7.5 million), Catalonia lays a strong claim to nationhood.\\nIt also happens to be a vital part of the Spanish state, locked in since the 15th Century, and subjected periodically to repressive campaigns to make it \"more Spanish\".\\nAccording to the most recent Catalan government data, nearly one in five adults living in Catalonia today was born in a different part of Spain, while under Franco, the proportion was even higher, at 36.7% (figures for 1970).\\nDepending on who you ask, Barcelona today is the capital of Catalonia - or Spain's second city.\\nCatalonia profile - Timeline\\nCatalonia is worth much more to Spain economically than Scotland is to the UK.\\nSo whoever runs Spain after the December general election will want Catalonia to remain part of it.\\nBut momentous changes may be afoot in the country's national politics and it is not yet clear who will win.\\nThe Popular Party may prefer to stick to the legal route to keep the secessionists in check.\\nThe opposition socialists are against independence but have mooted a constitutional reform that would grant the region more powers. The anti-capitalist Podemos movement supports Catalonia's right to a referendum.\\nThe rise of new parties also complicates the picture in Catalonia.\\nThe centre-right Citizens (Ciudadanos) party, which was born in Catalonia, has become the second force in Catalan politics, winning almost 18% of the vote. Notably, the party is firmly opposed to independence and is surging in the opinion polls nationally too.\\nIndependence campaigners argue the idea of a rich region like Catalonia being expelled from the EU is unthinkable.\\nIn a BBC interview, Raul Romeva of Together for Yes said that 7.5 million Catalan citizens who were already part of the EU could not be removed from it. However, the region would likely have to apply to become a member from scratch, as it would need to be recognised as a state by all 28 existing members.\\nThe EU's executive body, the European Commission, has tried to stay out of the debate, insisting that is not for the Commission to take a position on a member state's constitutional arrangements.\\nBut European leaders have backed the stance of the Madrid government.\\nUK Prime Minister David Cameron has warned that an independent Catalonia could end up outside the EU and would have to \"take its place at the back of the queue\" if it sought to rejoin. And Germany's Chancellor Angela Merkel has said she stands with Mr Rajoy on respecting \"national law\".</td>\n",
       "      <td>Pro-independence parties in Spain's richest region, Catalonia, are pushing ahead with a historic plan for an independent state within 18 months, and the national government in Madrid is fighting back.</td>\n",
       "      <td>29478415</td>\n",
       "    </tr>\n",
       "    <tr>\n",
       "      <th>1</th>\n",
       "      <td>The 17-year-old scored 330.70 in Kiev to finish ahead of Russian duo Anna Chuinyshena (326.90) and Iuliia Timoshinina (313.30).\\n\"To be honest, I did not expect this victory,\" said Toulson. \"I am not totally satisfied with my dives yet.\"\\nThe World Championships take place in Budapest, Hungary from 14 July.\\nToulson is expected to compete both individually and with Tonia Couch in the synchronised event.</td>\n",
       "      <td>Britain's Lois Toulson won European Championship gold in the 10m platform as she finalises her preparations for next month's World Championships.</td>\n",
       "      <td>40271195</td>\n",
       "    </tr>\n",
       "    <tr>\n",
       "      <th>2</th>\n",
       "      <td>The operation foiled a plan to smuggle drugs and weapons from South America to the port of Gioia Tauro in Calabria, officials said.\\nThe raids targeted two mafia crime families, the Gambino of New York and the Ndrangheta from Calabria.\\nFBI agents travelled to Italy to take part in the raids.\\nPolice said the two-year investigation prevented the delivery to Italy of hundreds of kilograms of cocaine hidden in coconuts and pineapples, as well as heroin and marijuana.\\nGioia Tauro, the intended destination of the drugs, is one of Europe's largest shipping ports.\\nEight of the arrests were made in New York, and are linked with the Gambino crime family which is believed to have negotiated the deal.\\nThe other 18 people were arrested in Italy are believed to have been involved with the Ndrangheta clan.</td>\n",
       "      <td>Police in the US and Italy say they have arrested 26 people in a joint raid against a new mafia-operated drug trafficking route.</td>\n",
       "      <td>26134817</td>\n",
       "    </tr>\n",
       "    <tr>\n",
       "      <th>3</th>\n",
       "      <td>Christopher Adjei, 29, of Riversdale Road, Ramsgate, pleaded guilty to assault with intent to commit a sexual offence and battery.\\nKent Police said he grabbed the woman, tried to cover her mouth with his hand, and forced her to the ground in the early hours in Church Lane.\\nAdjei fled the scene when the woman asked what he wanted.\\nOfficers traced Adjei after his DNA was found on the victim's coat and were able to piece together his whereabouts on 14 June 2014, the night of the attack, based on his bank details and a train ticket to Canterbury.\\nDet Sgt Daniel Aylett said Adjei put the victim through a terrifying experience.\\nA warrant was issued for Adjei's arrest after he walked out of a Canterbury Crown Court hearing in August.\\nHe was arrested the following month in the Thanet area.\\nAdjei was also ordered to spend two years on extended licence after his release from jail as part of his sentence.</td>\n",
       "      <td>A man has been jailed for four years for attacking a woman in her 20s in the street in Canterbury.</td>\n",
       "      <td>32402921</td>\n",
       "    </tr>\n",
       "    <tr>\n",
       "      <th>4</th>\n",
       "      <td>Security was tight, with police sealing off Lahore's biggest Christian neighbourhood and submitting those attending to security checks.\\nSunday's bombings of two churches in the Youhanabad area left 17 people dead and more than 70 wounded.\\nTwo days of rioting by Christians followed, with two men lynched.\\nA reported 5,000 police and paramilitary rangers were deployed on Tuesday to try to prevent further rioting.\\nThe main road into the district was closed with rails and barbed wire.\\nShops were also shut as grieving relatives made their way towards burial grounds.\\n\"I would like to tell these terrorists if they think that they can push us back from our faith, they are deadly, entirely, very much at fault,\" said Manual Mani, a pastor attending the funerals.\\nThe attacks during Sunday mass have been condemned by representatives of all religions in Pakistan.\\nThey also criticised the mob violence that followed, as angry Christian crowds threw stones, blocked roads and lynched two men they accused of being involved in the attack. The family of one of the men has told a Pakistani newspaper that he was an innocent shopkeeper and had not been a militant.\\nRiot police used tear gas and water cannon to disperse rioters on Monday.\\nPakistan's Interior Minister Chaudhry Nisar Ali Khan, speaking at the National Assembly on Tuesday, also condemned the reprisal attacks, saying that they constituted \"the worst form of terrorism\".\\n\"A similar incident occurred right at the heart of Paris where a synagogue was attacked,\" Mr Nisar said, \"but the minority Jews did not react violently in the French capital.\"\\nChristians make up less than 2% of Pakistan's population and many are among its poorest people.\\nMembers of the Christian community say that the riots are a show of anger and frustration from a community that feels unprotected and abandoned by the government.</td>\n",
       "      <td>Hundreds of Pakistani Christians have attended funerals for the victims of two Taliban suicide bomb attacks in the city of Lahore.</td>\n",
       "      <td>31922140</td>\n",
       "    </tr>\n",
       "  </tbody>\n",
       "</table>"
      ],
      "text/plain": [
       "<IPython.core.display.HTML object>"
      ]
     },
     "metadata": {},
     "output_type": "display_data"
    }
   ],
   "source": [
    "display_function(xsum[\"test\"])"
   ]
  },
  {
   "cell_type": "markdown",
   "metadata": {},
   "source": [
    "We can address the problem we mentioned above by define a cleaning function that replaces new lines with white space."
   ]
  },
  {
   "cell_type": "code",
   "execution_count": 7,
   "metadata": {},
   "outputs": [],
   "source": [
    "def clean(row):\n",
    "    row['document'] = row['document'].replace('\\n', ' ')\\\n",
    "                                     .replace('\\'', '').replace('\\\"','')\n",
    "    return row"
   ]
  },
  {
   "cell_type": "markdown",
   "metadata": {},
   "source": [
    "We can now apply the cleaning function we created and map it onto our data (it loads for train, test, and validation)"
   ]
  },
  {
   "cell_type": "code",
   "execution_count": 8,
   "metadata": {},
   "outputs": [
    {
     "name": "stderr",
     "output_type": "stream",
     "text": [
      "Loading cached processed dataset at C:\\Users\\creeg\\.cache\\huggingface\\datasets\\xsum\\default\\1.2.0\\32c23220eadddb1149b16ed2e9430a05293768cfffbdfd151058697d4c11f934\\cache-fd36b556705cbe4d.arrow\n",
      "Loading cached processed dataset at C:\\Users\\creeg\\.cache\\huggingface\\datasets\\xsum\\default\\1.2.0\\32c23220eadddb1149b16ed2e9430a05293768cfffbdfd151058697d4c11f934\\cache-edb3a2dc2f06b92c.arrow\n",
      "Loading cached processed dataset at C:\\Users\\creeg\\.cache\\huggingface\\datasets\\xsum\\default\\1.2.0\\32c23220eadddb1149b16ed2e9430a05293768cfffbdfd151058697d4c11f934\\cache-a4042da98a2992a2.arrow\n"
     ]
    }
   ],
   "source": [
    "xsum = xsum.map(clean)"
   ]
  },
  {
   "cell_type": "markdown",
   "metadata": {},
   "source": [
    "### Voila!"
   ]
  },
  {
   "cell_type": "code",
   "execution_count": 9,
   "metadata": {},
   "outputs": [
    {
     "data": {
      "text/html": [
       "<table border=\"1\" class=\"dataframe\">\n",
       "  <thead>\n",
       "    <tr style=\"text-align: right;\">\n",
       "      <th></th>\n",
       "      <th>document</th>\n",
       "      <th>summary</th>\n",
       "      <th>id</th>\n",
       "    </tr>\n",
       "  </thead>\n",
       "  <tbody>\n",
       "    <tr>\n",
       "      <th>0</th>\n",
       "      <td>The Poland international was injured following a late challenge on his left knee by defender Antony Kay in Tuesdays 2-1 away win at MK Dons. Following an initial scan, the 23-year-old forward is now facing surgery. If he gets back in under a year, hell have done well, Wolves head of medical Phil Hayward told BBC WM. Hes really looking at a full year and maybe more than that. He has suffered damage to both the cruciate and lateral knee ligaments, as well as other structural damage. There is a small fracture on the inside of the knee, indicative of the amount of force involved in the challenge. He will see a consultant this week and undergo surgery once the swelling has subsided at some point in the next two weeks. The timeframe will become more apparent following surgery. But he is expected to be out for a considerable time. MK Dons defender Kay was yellow carded for the challenge by match referee Mark Heywood. Zyro is the third Wolves player to suffer a serious knee injury this season. Striker Nouha Dicko has been sidelined since August, while winger Jordan Graham was then himself ruled out for up to nine months in January. Wolves have also lost winger Razak Boukari and defender Ethan Ebanks-Landell for the season, while centre-half Mike Williamson (thigh injury) has not figured since returning to the club from Newcastle United in January. Since Christmas, they have also spent long spells without Zyro, who missed two months with a calf injury, James Henry, Dave Edwards and Jed Wallace. Henry made his first start since February in midweek, while Wales international Edwards made a late appearance from the bench. Wolves head coach Kenny Jackett has cleared up confusion over midfielder Kevin McDonalds whereabouts. It was reported that the 27-year-old Scot had been told to train with the kids after being left out of Jacketts matchday squad of 18 at MK Dons. But McDonald actually voluntarily chose to keep fit with Wolves Under-18 side. They were the only ones in training, because the Under-21 team also had a game on Tuesday. McDonald, Wolves player of the year in 2013-14 when they won the League One title, has not made the starting line-up since 8 March and has been linked with an end-of-season move to Scottish Championship winners Rangers. Wolves boss Kenny Jackett and head of medical Phil Hayward were speaking to BBC WMs Rob Gurney.</td>\n",
       "      <td>Injury-hit Wolves have suffered a new blow with the loss of Michal Zyro for potentially more than a year with multiple knee ligament damage.</td>\n",
       "      <td>35987273</td>\n",
       "    </tr>\n",
       "    <tr>\n",
       "      <th>1</th>\n",
       "      <td>About half of the former John Player factory in Radford, built in 1895, has now been torn down in a series of controlled demolitions. The decision on whether to erase it completely will be made by its owners and insurers. Senior firefighters have said the blaze at the Victorian landmark, which was being converted into student accommodation, was the most complex they had ever dealt with. So how much damage has the fire done to the citys architectural landscape? Maria Erskine, curator of community history for Nottingham City Museums and Galleries describes the site as significant in terms of the social and economic history of the city. She says the factory was envisaged in the 1880s and was the only remaining one commissioned by John Player himself. Radford was an undeveloped area before these factories were built, so it really showed the growth, Ms Erskine said. It was built just after Radford Boulevard was laid down and it was the building up of Radford, so thats why it was so significant. Players built three factories in the area, though they originally only needed one. It was used by the lace-making industry before cigarette production began there in 1903. Players Victorian factories featured high ceilings and large windows. Many of the companys original buildings were demolished when the larger Horizon factory was built to meet the firms production needs in Lenton in the 1970s. Players relocated because they couldnt build anymore in Radford as there was so much housing and thats why theres been a slow erosion of these buildings. The firms advertising later took off through slogans such as Players Please, which was registered in 1924. Players sponsorship of major sporting events such as motor racing, tennis and rugby in the last half of the 20th Century also helped it become a household name. The Lotus Formula One team was sponsored by John Player from the late 1960s until the 1980s. In 2009, the city council and the University of Nottingham began an online archive of more than 20,000 objects from the firms history. The items include adverts, packaging and enamel signs from the 1890s to the 1980s.</td>\n",
       "      <td>A 19th Century factory, once a grand beacon of Nottingham's industry, has been largely reduced to ashes and rubble after a fire consumed it for more than a week.</td>\n",
       "      <td>32143234</td>\n",
       "    </tr>\n",
       "    <tr>\n",
       "      <th>2</th>\n",
       "      <td>Media playback is not supported on this device Here are the full results. Ronnie OSullivan (Eng) 10-1 Barry Hawkins (Eng) 50-66, 97-8 (70), 136-0 (136), 73-49 (52), 72-28, 64-36, 77-17 (77), 72-13 (72), 58-39, 92-0 (66), 82-0 (82) Report Stuart Bingham (Eng) 3-6 Ronnie OSullivan (Eng) 76-59 (63, 59), 40-63, 45-63, 22-74 (70), 0-121 (121), 67-69 (67), 81-0 (81), 75-9 (52), 61-62 (61, 62) Report Barry Hawkins (Eng) 6-4 Judd Trump (Eng) 135-0 (130), 128-0 (128), 28-85 (51), 0-79 (58), 74-11 (74), 0-103 (103), 0-102 (72), 79-13 (78), 100-7 (100), 58-40 Report Stuart Bingham (Eng) 6-3 John Higgins (Sco) 77-56 (Bingham 53, Higgins 51) 0-119 (60), 80-0, 29-80, 83-45 (83), 66-50, 70-12 (70), 16-120 (120), 77-6 Neil Robertson (Aus) 5-6 Judd Trump (Eng) 21-84, 4-104 (104), 72-32, 139-0 (139), 3-105 (105), 0-120 (78), 100-0 (100), 74-5, 0-140 (140 highest break of tournament so far), 82-0 (78), 0-129 (129) Report Barry Hawkins (Eng) 6-2 Mark Allen (NI) 0-109 (109), 86-0 (81), 91-31 (68), 74-35, 83-40 (53), 33-81 (58), 81-10, 89-0 Mark Selby (Eng) 3-6 Ronnie OSullivan (Eng) 51-91 (63), 58-51 (58, 51), 24-85 (69), 0-112 (54, 58), 85-16 (61), 0-100 (100), 40-72, 72-18 (68), 70-73 (70, 73) Report Neil Robertson (Aus) 6-0 Marco Fu (HK) 79-45, 106-1 (106), 88-1 (57), 73-0 (73), 70-31 (54), 76-1 John Higgins (Sco) 6-4 Liang Wenbo (Chn) 119-14 (119), 0-91 (88), 9-62, 104-0 (104), 75-1 (75), 0-97 (61), 133-8 (133), 1-58, 85-0 (85), 63-55 (Liang 53) Report Mark Selby (Eng) 6-0 Ricky Walden (Eng) 71-53 (71, 52), 114-9 (113), 109-7 (66), 81-3 (81), 61-32, 84-38 (83) Ronnie OSullivan (Eng) 6-5 Mark Williams (Wal) 80-1, 55-47, 35-71 (64), 27-67, 47-71, 5-68, 104-0 (104), 83-12 (60), 130-0 (117), 50-85 (OSullivan 50, Williams 50), 63-28 (62) Report Barry Hawkins (Eng) 6-3 Joe Perry (Eng) 101-24 (59), 61-55 (Perry 55), 0-68, 58-68 (67), 7-95 (84), 69-12, 81-0 (81), 72-10 (58), 62-39 Judd Trump (Eng) 6-4 Stephen Maguire (Sco) 60-64 (Trump 60, Maguire 61), 71-65 (Maguire 60), 109-1 (55, 50), 66-59, 96-4 (69), 0-92 (92), 14-80 (74), 0-105 (56), 61-0 (60), 77-10 Report Shaun Murphy (Eng) 4-6 Mark Allen (NI) 10-73 (50), 68-20 (68), 0-137 (137), 71-5 (65), 0-91 (91), 17-13 (frame forfeited by Murphy after three misses), 1-117 (104), 67-1 (67), 100-0 (100), 44-72 Stuart Bingham (Eng) 6-4 Ding Junhui (Chn) 35-67, 59-48, 124-0 (120), 70-21 (60), 7-69, 10-62, 80-5, 30-71 (71), 70-56, 66-21 Report</td>\n",
       "      <td>The 2016 Masters tournament took place from 10-17 January and was covered live by BBC Sport.</td>\n",
       "      <td>35071249</td>\n",
       "    </tr>\n",
       "    <tr>\n",
       "      <th>3</th>\n",
       "      <td>Hodgson made six changes, including resting captain Wayne Rooney, from the win against Wales - but a limp performance means Chris Colemans side finish top of Group B and Englands life is now more difficult if they go deeper into Euro 2016. England had the better chances, with Slovakia keeper Matus Kozacik saving well when Jamie Vardy broke clear in the first half, as well as blocking crucially from Nathaniel Clyne after the break. Rooney came on for the struggling Jack Wilshere after 55 minutes, but the pattern was set and Slovakia defended manfully for what should prove to be a precious point. Dele Alli had also a shot kicked off the line by Martin Skrtel just seconds after coming on as a substitute on the hour. England now travel to Nice where they face the team that finishes second in Group F - either Hungary, Portugal, Iceland or Austria - next Monday. It was a major surprise that Hodgson chose to make such mass alterations to an England team that had finally picked up some momentum with Thursdays last-gasp victory over Wales. That win put them in position to top the group by beating Slovakia. Instead, with nothing decided and with the group still open, Hodgson chose to leave out Rooney, Kyle Walker, Danny Rose, Dele Alli, Raheem Sterling and Harry Kane. Hodgson introduced Vardy and Daniel Sturridge, who both scored against Wales, as well as Clyne, Ryan Bertrand, Wilshere and Jordan Henderson. It gave England a disjointed look and they ran out of steam and threat long before the end. Time will tell if this was the selection that proved decisive in Englands Euro 2016 campaign - but the bottom line is when you make a controversial choice such as that, you need to win and Hodgsons side failed. Wilshere was given a starting role as Hodgson shuffled his squad to inject freshness and to give those on the margins some game time - but it was a move that failed. The 24-year-old Arsenal midfielder looked exactly what he is at the moment: less than fully fit and off the pace after a Premier League season where injuries meant he barely featured. Wilshere played just 141 minutes of Premier League football over three games at the end of Arsenals season. This was no sort of preparation for a major tournament and it showed, but such is Hodgsons belief in his talents that he could not resist the temptation to select him, against all logic. He strived to somehow revive his best moments but it was not to be - not through any lack of effort, simply a lack of spark, his natural game dulled by the long absences. Wilshere looked a dejected figure as he went off to be replaced by Rooney after only 55 minutes, the possibility growing that his chances of making a serious impact on Euro 2016 badly damaged. The result leaves them off to the south of France and Nice, playing next Monday instead of Saturday - but they will surely regret not finishing top of Group B. This luxury now goes deservedly to Wales and while England will regard themselves as favourites to beat whoever finishes second in Group F, the price they pay could come further down the line. They now go into the half of the draw containing France, Germany and Italy - and will also have to regain the impetus they had finally built up by beating Wales but was lost in this disappointing draw. Not a good night for England. Not a good night for Roy Hodgson. England manager Roy Hodgson: If we had won the game people would say we didnt miss them [the players who were left out] and when we dont they say the team selection is wrong, I am used to that one. Finishing second is a disappointment but we are still in the last 16 and who is to say the team we will play will be that much stronger? You just dont know, the way we are playing I am not frightened of anybody. Media playback is not supported on this device Slovakia coach Jan Kozak: Our players tired as the game went on and England showed their quality and strength, but when you see an opportunity you give everything you can. Perhaps I didnt expect to be pressed so deeply but we made some substitutions to neutralise the impact of their attack. England play their last-16 tie on Monday, 27 June at 20:00 BST, while Slovakia will have to wait to find out if they finish as one of the four best third-placed sides who progress. Match ends, Slovakia 0, England 0. Second Half ends, Slovakia 0, England 0. Attempt missed. Dele Alli (England) right footed shot from outside the box is too high. Assisted by Eric Dier. Attempt blocked. Eric Dier (England) right footed shot from outside the box is blocked. Assisted by Nathaniel Clyne. Dele Alli (England) wins a free kick on the left wing. Foul by Peter Pekarík (Slovakia). Delay over. They are ready to continue. Delay in match Martin Skrtel (Slovakia) because of an injury. Attempt missed. Nathaniel Clyne (England) right footed shot from outside the box misses to the left. Attempt blocked. Dele Alli (England) left footed shot from outside the box is blocked. Assisted by Harry Kane. Foul by Chris Smalling (England). Juraj Kucka (Slovakia) wins a free kick in the attacking half. Attempt missed. Harry Kane (England) header from the centre of the box misses to the left. Assisted by Jordan Henderson with a cross. Corner,  England. Conceded by Tomas Hubocan. Attempt missed. Marek Hamsik (Slovakia) right footed shot from more than 35 yards is too high from a direct free kick. Delay over. They are ready to continue. Delay in match Robert Mak (Slovakia) because of an injury. Foul by Chris Smalling (England). Juraj Kucka (Slovakia) wins a free kick in the attacking half. Attempt missed. Wayne Rooney (England) left footed shot from outside the box is close, but misses to the right. Assisted by Nathaniel Clyne. Attempt blocked. Harry Kane (England) right footed shot from outside the box is blocked. Assisted by Ryan Bertrand. Corner,  England. Conceded by Milan Skriniar. Attempt blocked. Eric Dier (England) right footed shot from outside the box is blocked. Attempt missed. Gary Cahill (England) right footed shot from the centre of the box misses to the right. Assisted by Dele Alli. Attempt blocked. Dele Alli (England) right footed shot from the centre of the box is blocked. Assisted by Wayne Rooney. Corner,  England. Conceded by Norbert Gyömbér. Substitution, Slovakia. Milan Skriniar replaces Vladimir Weiss. Chris Smalling (England) wins a free kick in the defensive half. Foul by Juraj Kucka (Slovakia). Attempt blocked. Gary Cahill (England) header from the centre of the box is blocked. Assisted by Ryan Bertrand with a cross. Substitution, England. Harry Kane replaces Daniel Sturridge. Corner,  England. Conceded by Martin Skrtel. Attempt blocked. Gary Cahill (England) header from the centre of the box is blocked. Assisted by Wayne Rooney with a cross. Corner,  England. Conceded by Martin Skrtel. Attempt blocked. Wayne Rooney (England) right footed shot from outside the box is blocked. Offside, Slovakia. Marek Hamsik tries a through ball, but Dusan Svento is caught offside. Attempt saved. Daniel Sturridge (England) left footed shot from the centre of the box is saved in the top left corner. Assisted by Eric Dier with a through ball. Attempt blocked. Eric Dier (England) right footed shot from outside the box is blocked. Assisted by Nathaniel Clyne. Attempt missed. Eric Dier (England) right footed shot from outside the box misses to the left. Assisted by Nathaniel Clyne. Substitution, Slovakia. Norbert Gyömbér replaces Viktor Pecovsky.</td>\n",
       "      <td>England manager Roy Hodgson's gamble of making wholesale changes backfired badly as they stumbled to a goalless draw against Slovakia in Saint-Etienne.</td>\n",
       "      <td>36514116</td>\n",
       "    </tr>\n",
       "    <tr>\n",
       "      <th>4</th>\n",
       "      <td>Output rose 9.3% from a year ago, which was up from Marchs figure of 8.9% but below market forecasts for a 9.5% rise. Fixed-asset investment also weakened in the first four months of 2013. Last week, a separate survey suggested that manufacturing activity, a subset of industrial production, grew at a slower pace in April. This is not the start of a rally, it is a sputtering whimper as momentum continues to fade, said economists at IHS Global Insight. By Linda YuehChief business correspondent IHS also said that slowing fixed-asset investment - a key measure of government spending - suggested weakness in manufacturing and infrastructure construction, and warned that the pace could fall further amid government efforts to curb the housing market. Separately, Bank of America Merrill Lynch analysts also warned that there was an increased downside risk to the economy. Chinas economy expanded at an annual rate of 7.7% in the first three months of the year, down from 7.9% in the previous quarter. Officials have warned that the economy is set to slow as the government attempts to rebalance the economy by getting domestic consumer demand to drive growth, rather than investments and exports. This attempt now appears to be having an impact. According to government statistics, in the first three months of this year, the largest part of the economy was services - not manufacturing.</td>\n",
       "      <td>Industrial production in China recorded a smaller-than-expected rise in April, underlining worries that the economy may be losing steam.</td>\n",
       "      <td>22508472</td>\n",
       "    </tr>\n",
       "  </tbody>\n",
       "</table>"
      ],
      "text/plain": [
       "<IPython.core.display.HTML object>"
      ]
     },
     "metadata": {},
     "output_type": "display_data"
    },
    {
     "data": {
      "text/html": [
       "<table border=\"1\" class=\"dataframe\">\n",
       "  <thead>\n",
       "    <tr style=\"text-align: right;\">\n",
       "      <th></th>\n",
       "      <th>document</th>\n",
       "      <th>summary</th>\n",
       "      <th>id</th>\n",
       "    </tr>\n",
       "  </thead>\n",
       "  <tbody>\n",
       "    <tr>\n",
       "      <th>0</th>\n",
       "      <td>The Poland international was injured following a late challenge on his left knee by defender Antony Kay in Tuesdays 2-1 away win at MK Dons. Following an initial scan, the 23-year-old forward is now facing surgery. If he gets back in under a year, hell have done well, Wolves head of medical Phil Hayward told BBC WM. Hes really looking at a full year and maybe more than that. He has suffered damage to both the cruciate and lateral knee ligaments, as well as other structural damage. There is a small fracture on the inside of the knee, indicative of the amount of force involved in the challenge. He will see a consultant this week and undergo surgery once the swelling has subsided at some point in the next two weeks. The timeframe will become more apparent following surgery. But he is expected to be out for a considerable time. MK Dons defender Kay was yellow carded for the challenge by match referee Mark Heywood. Zyro is the third Wolves player to suffer a serious knee injury this season. Striker Nouha Dicko has been sidelined since August, while winger Jordan Graham was then himself ruled out for up to nine months in January. Wolves have also lost winger Razak Boukari and defender Ethan Ebanks-Landell for the season, while centre-half Mike Williamson (thigh injury) has not figured since returning to the club from Newcastle United in January. Since Christmas, they have also spent long spells without Zyro, who missed two months with a calf injury, James Henry, Dave Edwards and Jed Wallace. Henry made his first start since February in midweek, while Wales international Edwards made a late appearance from the bench. Wolves head coach Kenny Jackett has cleared up confusion over midfielder Kevin McDonalds whereabouts. It was reported that the 27-year-old Scot had been told to train with the kids after being left out of Jacketts matchday squad of 18 at MK Dons. But McDonald actually voluntarily chose to keep fit with Wolves Under-18 side. They were the only ones in training, because the Under-21 team also had a game on Tuesday. McDonald, Wolves player of the year in 2013-14 when they won the League One title, has not made the starting line-up since 8 March and has been linked with an end-of-season move to Scottish Championship winners Rangers. Wolves boss Kenny Jackett and head of medical Phil Hayward were speaking to BBC WMs Rob Gurney.</td>\n",
       "      <td>Injury-hit Wolves have suffered a new blow with the loss of Michal Zyro for potentially more than a year with multiple knee ligament damage.</td>\n",
       "      <td>35987273</td>\n",
       "    </tr>\n",
       "    <tr>\n",
       "      <th>1</th>\n",
       "      <td>About half of the former John Player factory in Radford, built in 1895, has now been torn down in a series of controlled demolitions. The decision on whether to erase it completely will be made by its owners and insurers. Senior firefighters have said the blaze at the Victorian landmark, which was being converted into student accommodation, was the most complex they had ever dealt with. So how much damage has the fire done to the citys architectural landscape? Maria Erskine, curator of community history for Nottingham City Museums and Galleries describes the site as significant in terms of the social and economic history of the city. She says the factory was envisaged in the 1880s and was the only remaining one commissioned by John Player himself. Radford was an undeveloped area before these factories were built, so it really showed the growth, Ms Erskine said. It was built just after Radford Boulevard was laid down and it was the building up of Radford, so thats why it was so significant. Players built three factories in the area, though they originally only needed one. It was used by the lace-making industry before cigarette production began there in 1903. Players Victorian factories featured high ceilings and large windows. Many of the companys original buildings were demolished when the larger Horizon factory was built to meet the firms production needs in Lenton in the 1970s. Players relocated because they couldnt build anymore in Radford as there was so much housing and thats why theres been a slow erosion of these buildings. The firms advertising later took off through slogans such as Players Please, which was registered in 1924. Players sponsorship of major sporting events such as motor racing, tennis and rugby in the last half of the 20th Century also helped it become a household name. The Lotus Formula One team was sponsored by John Player from the late 1960s until the 1980s. In 2009, the city council and the University of Nottingham began an online archive of more than 20,000 objects from the firms history. The items include adverts, packaging and enamel signs from the 1890s to the 1980s.</td>\n",
       "      <td>A 19th Century factory, once a grand beacon of Nottingham's industry, has been largely reduced to ashes and rubble after a fire consumed it for more than a week.</td>\n",
       "      <td>32143234</td>\n",
       "    </tr>\n",
       "    <tr>\n",
       "      <th>2</th>\n",
       "      <td>Media playback is not supported on this device Here are the full results. Ronnie OSullivan (Eng) 10-1 Barry Hawkins (Eng) 50-66, 97-8 (70), 136-0 (136), 73-49 (52), 72-28, 64-36, 77-17 (77), 72-13 (72), 58-39, 92-0 (66), 82-0 (82) Report Stuart Bingham (Eng) 3-6 Ronnie OSullivan (Eng) 76-59 (63, 59), 40-63, 45-63, 22-74 (70), 0-121 (121), 67-69 (67), 81-0 (81), 75-9 (52), 61-62 (61, 62) Report Barry Hawkins (Eng) 6-4 Judd Trump (Eng) 135-0 (130), 128-0 (128), 28-85 (51), 0-79 (58), 74-11 (74), 0-103 (103), 0-102 (72), 79-13 (78), 100-7 (100), 58-40 Report Stuart Bingham (Eng) 6-3 John Higgins (Sco) 77-56 (Bingham 53, Higgins 51) 0-119 (60), 80-0, 29-80, 83-45 (83), 66-50, 70-12 (70), 16-120 (120), 77-6 Neil Robertson (Aus) 5-6 Judd Trump (Eng) 21-84, 4-104 (104), 72-32, 139-0 (139), 3-105 (105), 0-120 (78), 100-0 (100), 74-5, 0-140 (140 highest break of tournament so far), 82-0 (78), 0-129 (129) Report Barry Hawkins (Eng) 6-2 Mark Allen (NI) 0-109 (109), 86-0 (81), 91-31 (68), 74-35, 83-40 (53), 33-81 (58), 81-10, 89-0 Mark Selby (Eng) 3-6 Ronnie OSullivan (Eng) 51-91 (63), 58-51 (58, 51), 24-85 (69), 0-112 (54, 58), 85-16 (61), 0-100 (100), 40-72, 72-18 (68), 70-73 (70, 73) Report Neil Robertson (Aus) 6-0 Marco Fu (HK) 79-45, 106-1 (106), 88-1 (57), 73-0 (73), 70-31 (54), 76-1 John Higgins (Sco) 6-4 Liang Wenbo (Chn) 119-14 (119), 0-91 (88), 9-62, 104-0 (104), 75-1 (75), 0-97 (61), 133-8 (133), 1-58, 85-0 (85), 63-55 (Liang 53) Report Mark Selby (Eng) 6-0 Ricky Walden (Eng) 71-53 (71, 52), 114-9 (113), 109-7 (66), 81-3 (81), 61-32, 84-38 (83) Ronnie OSullivan (Eng) 6-5 Mark Williams (Wal) 80-1, 55-47, 35-71 (64), 27-67, 47-71, 5-68, 104-0 (104), 83-12 (60), 130-0 (117), 50-85 (OSullivan 50, Williams 50), 63-28 (62) Report Barry Hawkins (Eng) 6-3 Joe Perry (Eng) 101-24 (59), 61-55 (Perry 55), 0-68, 58-68 (67), 7-95 (84), 69-12, 81-0 (81), 72-10 (58), 62-39 Judd Trump (Eng) 6-4 Stephen Maguire (Sco) 60-64 (Trump 60, Maguire 61), 71-65 (Maguire 60), 109-1 (55, 50), 66-59, 96-4 (69), 0-92 (92), 14-80 (74), 0-105 (56), 61-0 (60), 77-10 Report Shaun Murphy (Eng) 4-6 Mark Allen (NI) 10-73 (50), 68-20 (68), 0-137 (137), 71-5 (65), 0-91 (91), 17-13 (frame forfeited by Murphy after three misses), 1-117 (104), 67-1 (67), 100-0 (100), 44-72 Stuart Bingham (Eng) 6-4 Ding Junhui (Chn) 35-67, 59-48, 124-0 (120), 70-21 (60), 7-69, 10-62, 80-5, 30-71 (71), 70-56, 66-21 Report</td>\n",
       "      <td>The 2016 Masters tournament took place from 10-17 January and was covered live by BBC Sport.</td>\n",
       "      <td>35071249</td>\n",
       "    </tr>\n",
       "    <tr>\n",
       "      <th>3</th>\n",
       "      <td>Hodgson made six changes, including resting captain Wayne Rooney, from the win against Wales - but a limp performance means Chris Colemans side finish top of Group B and Englands life is now more difficult if they go deeper into Euro 2016. England had the better chances, with Slovakia keeper Matus Kozacik saving well when Jamie Vardy broke clear in the first half, as well as blocking crucially from Nathaniel Clyne after the break. Rooney came on for the struggling Jack Wilshere after 55 minutes, but the pattern was set and Slovakia defended manfully for what should prove to be a precious point. Dele Alli had also a shot kicked off the line by Martin Skrtel just seconds after coming on as a substitute on the hour. England now travel to Nice where they face the team that finishes second in Group F - either Hungary, Portugal, Iceland or Austria - next Monday. It was a major surprise that Hodgson chose to make such mass alterations to an England team that had finally picked up some momentum with Thursdays last-gasp victory over Wales. That win put them in position to top the group by beating Slovakia. Instead, with nothing decided and with the group still open, Hodgson chose to leave out Rooney, Kyle Walker, Danny Rose, Dele Alli, Raheem Sterling and Harry Kane. Hodgson introduced Vardy and Daniel Sturridge, who both scored against Wales, as well as Clyne, Ryan Bertrand, Wilshere and Jordan Henderson. It gave England a disjointed look and they ran out of steam and threat long before the end. Time will tell if this was the selection that proved decisive in Englands Euro 2016 campaign - but the bottom line is when you make a controversial choice such as that, you need to win and Hodgsons side failed. Wilshere was given a starting role as Hodgson shuffled his squad to inject freshness and to give those on the margins some game time - but it was a move that failed. The 24-year-old Arsenal midfielder looked exactly what he is at the moment: less than fully fit and off the pace after a Premier League season where injuries meant he barely featured. Wilshere played just 141 minutes of Premier League football over three games at the end of Arsenals season. This was no sort of preparation for a major tournament and it showed, but such is Hodgsons belief in his talents that he could not resist the temptation to select him, against all logic. He strived to somehow revive his best moments but it was not to be - not through any lack of effort, simply a lack of spark, his natural game dulled by the long absences. Wilshere looked a dejected figure as he went off to be replaced by Rooney after only 55 minutes, the possibility growing that his chances of making a serious impact on Euro 2016 badly damaged. The result leaves them off to the south of France and Nice, playing next Monday instead of Saturday - but they will surely regret not finishing top of Group B. This luxury now goes deservedly to Wales and while England will regard themselves as favourites to beat whoever finishes second in Group F, the price they pay could come further down the line. They now go into the half of the draw containing France, Germany and Italy - and will also have to regain the impetus they had finally built up by beating Wales but was lost in this disappointing draw. Not a good night for England. Not a good night for Roy Hodgson. England manager Roy Hodgson: If we had won the game people would say we didnt miss them [the players who were left out] and when we dont they say the team selection is wrong, I am used to that one. Finishing second is a disappointment but we are still in the last 16 and who is to say the team we will play will be that much stronger? You just dont know, the way we are playing I am not frightened of anybody. Media playback is not supported on this device Slovakia coach Jan Kozak: Our players tired as the game went on and England showed their quality and strength, but when you see an opportunity you give everything you can. Perhaps I didnt expect to be pressed so deeply but we made some substitutions to neutralise the impact of their attack. England play their last-16 tie on Monday, 27 June at 20:00 BST, while Slovakia will have to wait to find out if they finish as one of the four best third-placed sides who progress. Match ends, Slovakia 0, England 0. Second Half ends, Slovakia 0, England 0. Attempt missed. Dele Alli (England) right footed shot from outside the box is too high. Assisted by Eric Dier. Attempt blocked. Eric Dier (England) right footed shot from outside the box is blocked. Assisted by Nathaniel Clyne. Dele Alli (England) wins a free kick on the left wing. Foul by Peter Pekarík (Slovakia). Delay over. They are ready to continue. Delay in match Martin Skrtel (Slovakia) because of an injury. Attempt missed. Nathaniel Clyne (England) right footed shot from outside the box misses to the left. Attempt blocked. Dele Alli (England) left footed shot from outside the box is blocked. Assisted by Harry Kane. Foul by Chris Smalling (England). Juraj Kucka (Slovakia) wins a free kick in the attacking half. Attempt missed. Harry Kane (England) header from the centre of the box misses to the left. Assisted by Jordan Henderson with a cross. Corner,  England. Conceded by Tomas Hubocan. Attempt missed. Marek Hamsik (Slovakia) right footed shot from more than 35 yards is too high from a direct free kick. Delay over. They are ready to continue. Delay in match Robert Mak (Slovakia) because of an injury. Foul by Chris Smalling (England). Juraj Kucka (Slovakia) wins a free kick in the attacking half. Attempt missed. Wayne Rooney (England) left footed shot from outside the box is close, but misses to the right. Assisted by Nathaniel Clyne. Attempt blocked. Harry Kane (England) right footed shot from outside the box is blocked. Assisted by Ryan Bertrand. Corner,  England. Conceded by Milan Skriniar. Attempt blocked. Eric Dier (England) right footed shot from outside the box is blocked. Attempt missed. Gary Cahill (England) right footed shot from the centre of the box misses to the right. Assisted by Dele Alli. Attempt blocked. Dele Alli (England) right footed shot from the centre of the box is blocked. Assisted by Wayne Rooney. Corner,  England. Conceded by Norbert Gyömbér. Substitution, Slovakia. Milan Skriniar replaces Vladimir Weiss. Chris Smalling (England) wins a free kick in the defensive half. Foul by Juraj Kucka (Slovakia). Attempt blocked. Gary Cahill (England) header from the centre of the box is blocked. Assisted by Ryan Bertrand with a cross. Substitution, England. Harry Kane replaces Daniel Sturridge. Corner,  England. Conceded by Martin Skrtel. Attempt blocked. Gary Cahill (England) header from the centre of the box is blocked. Assisted by Wayne Rooney with a cross. Corner,  England. Conceded by Martin Skrtel. Attempt blocked. Wayne Rooney (England) right footed shot from outside the box is blocked. Offside, Slovakia. Marek Hamsik tries a through ball, but Dusan Svento is caught offside. Attempt saved. Daniel Sturridge (England) left footed shot from the centre of the box is saved in the top left corner. Assisted by Eric Dier with a through ball. Attempt blocked. Eric Dier (England) right footed shot from outside the box is blocked. Assisted by Nathaniel Clyne. Attempt missed. Eric Dier (England) right footed shot from outside the box misses to the left. Assisted by Nathaniel Clyne. Substitution, Slovakia. Norbert Gyömbér replaces Viktor Pecovsky.</td>\n",
       "      <td>England manager Roy Hodgson's gamble of making wholesale changes backfired badly as they stumbled to a goalless draw against Slovakia in Saint-Etienne.</td>\n",
       "      <td>36514116</td>\n",
       "    </tr>\n",
       "    <tr>\n",
       "      <th>4</th>\n",
       "      <td>Output rose 9.3% from a year ago, which was up from Marchs figure of 8.9% but below market forecasts for a 9.5% rise. Fixed-asset investment also weakened in the first four months of 2013. Last week, a separate survey suggested that manufacturing activity, a subset of industrial production, grew at a slower pace in April. This is not the start of a rally, it is a sputtering whimper as momentum continues to fade, said economists at IHS Global Insight. By Linda YuehChief business correspondent IHS also said that slowing fixed-asset investment - a key measure of government spending - suggested weakness in manufacturing and infrastructure construction, and warned that the pace could fall further amid government efforts to curb the housing market. Separately, Bank of America Merrill Lynch analysts also warned that there was an increased downside risk to the economy. Chinas economy expanded at an annual rate of 7.7% in the first three months of the year, down from 7.9% in the previous quarter. Officials have warned that the economy is set to slow as the government attempts to rebalance the economy by getting domestic consumer demand to drive growth, rather than investments and exports. This attempt now appears to be having an impact. According to government statistics, in the first three months of this year, the largest part of the economy was services - not manufacturing.</td>\n",
       "      <td>Industrial production in China recorded a smaller-than-expected rise in April, underlining worries that the economy may be losing steam.</td>\n",
       "      <td>22508472</td>\n",
       "    </tr>\n",
       "  </tbody>\n",
       "</table>"
      ],
      "text/plain": [
       "<IPython.core.display.HTML object>"
      ]
     },
     "metadata": {},
     "output_type": "display_data"
    },
    {
     "data": {
      "text/html": [
       "<table border=\"1\" class=\"dataframe\">\n",
       "  <thead>\n",
       "    <tr style=\"text-align: right;\">\n",
       "      <th></th>\n",
       "      <th>document</th>\n",
       "      <th>summary</th>\n",
       "      <th>id</th>\n",
       "    </tr>\n",
       "  </thead>\n",
       "  <tbody>\n",
       "    <tr>\n",
       "      <th>0</th>\n",
       "      <td>The Poland international was injured following a late challenge on his left knee by defender Antony Kay in Tuesdays 2-1 away win at MK Dons. Following an initial scan, the 23-year-old forward is now facing surgery. If he gets back in under a year, hell have done well, Wolves head of medical Phil Hayward told BBC WM. Hes really looking at a full year and maybe more than that. He has suffered damage to both the cruciate and lateral knee ligaments, as well as other structural damage. There is a small fracture on the inside of the knee, indicative of the amount of force involved in the challenge. He will see a consultant this week and undergo surgery once the swelling has subsided at some point in the next two weeks. The timeframe will become more apparent following surgery. But he is expected to be out for a considerable time. MK Dons defender Kay was yellow carded for the challenge by match referee Mark Heywood. Zyro is the third Wolves player to suffer a serious knee injury this season. Striker Nouha Dicko has been sidelined since August, while winger Jordan Graham was then himself ruled out for up to nine months in January. Wolves have also lost winger Razak Boukari and defender Ethan Ebanks-Landell for the season, while centre-half Mike Williamson (thigh injury) has not figured since returning to the club from Newcastle United in January. Since Christmas, they have also spent long spells without Zyro, who missed two months with a calf injury, James Henry, Dave Edwards and Jed Wallace. Henry made his first start since February in midweek, while Wales international Edwards made a late appearance from the bench. Wolves head coach Kenny Jackett has cleared up confusion over midfielder Kevin McDonalds whereabouts. It was reported that the 27-year-old Scot had been told to train with the kids after being left out of Jacketts matchday squad of 18 at MK Dons. But McDonald actually voluntarily chose to keep fit with Wolves Under-18 side. They were the only ones in training, because the Under-21 team also had a game on Tuesday. McDonald, Wolves player of the year in 2013-14 when they won the League One title, has not made the starting line-up since 8 March and has been linked with an end-of-season move to Scottish Championship winners Rangers. Wolves boss Kenny Jackett and head of medical Phil Hayward were speaking to BBC WMs Rob Gurney.</td>\n",
       "      <td>Injury-hit Wolves have suffered a new blow with the loss of Michal Zyro for potentially more than a year with multiple knee ligament damage.</td>\n",
       "      <td>35987273</td>\n",
       "    </tr>\n",
       "    <tr>\n",
       "      <th>1</th>\n",
       "      <td>About half of the former John Player factory in Radford, built in 1895, has now been torn down in a series of controlled demolitions. The decision on whether to erase it completely will be made by its owners and insurers. Senior firefighters have said the blaze at the Victorian landmark, which was being converted into student accommodation, was the most complex they had ever dealt with. So how much damage has the fire done to the citys architectural landscape? Maria Erskine, curator of community history for Nottingham City Museums and Galleries describes the site as significant in terms of the social and economic history of the city. She says the factory was envisaged in the 1880s and was the only remaining one commissioned by John Player himself. Radford was an undeveloped area before these factories were built, so it really showed the growth, Ms Erskine said. It was built just after Radford Boulevard was laid down and it was the building up of Radford, so thats why it was so significant. Players built three factories in the area, though they originally only needed one. It was used by the lace-making industry before cigarette production began there in 1903. Players Victorian factories featured high ceilings and large windows. Many of the companys original buildings were demolished when the larger Horizon factory was built to meet the firms production needs in Lenton in the 1970s. Players relocated because they couldnt build anymore in Radford as there was so much housing and thats why theres been a slow erosion of these buildings. The firms advertising later took off through slogans such as Players Please, which was registered in 1924. Players sponsorship of major sporting events such as motor racing, tennis and rugby in the last half of the 20th Century also helped it become a household name. The Lotus Formula One team was sponsored by John Player from the late 1960s until the 1980s. In 2009, the city council and the University of Nottingham began an online archive of more than 20,000 objects from the firms history. The items include adverts, packaging and enamel signs from the 1890s to the 1980s.</td>\n",
       "      <td>A 19th Century factory, once a grand beacon of Nottingham's industry, has been largely reduced to ashes and rubble after a fire consumed it for more than a week.</td>\n",
       "      <td>32143234</td>\n",
       "    </tr>\n",
       "    <tr>\n",
       "      <th>2</th>\n",
       "      <td>Media playback is not supported on this device Here are the full results. Ronnie OSullivan (Eng) 10-1 Barry Hawkins (Eng) 50-66, 97-8 (70), 136-0 (136), 73-49 (52), 72-28, 64-36, 77-17 (77), 72-13 (72), 58-39, 92-0 (66), 82-0 (82) Report Stuart Bingham (Eng) 3-6 Ronnie OSullivan (Eng) 76-59 (63, 59), 40-63, 45-63, 22-74 (70), 0-121 (121), 67-69 (67), 81-0 (81), 75-9 (52), 61-62 (61, 62) Report Barry Hawkins (Eng) 6-4 Judd Trump (Eng) 135-0 (130), 128-0 (128), 28-85 (51), 0-79 (58), 74-11 (74), 0-103 (103), 0-102 (72), 79-13 (78), 100-7 (100), 58-40 Report Stuart Bingham (Eng) 6-3 John Higgins (Sco) 77-56 (Bingham 53, Higgins 51) 0-119 (60), 80-0, 29-80, 83-45 (83), 66-50, 70-12 (70), 16-120 (120), 77-6 Neil Robertson (Aus) 5-6 Judd Trump (Eng) 21-84, 4-104 (104), 72-32, 139-0 (139), 3-105 (105), 0-120 (78), 100-0 (100), 74-5, 0-140 (140 highest break of tournament so far), 82-0 (78), 0-129 (129) Report Barry Hawkins (Eng) 6-2 Mark Allen (NI) 0-109 (109), 86-0 (81), 91-31 (68), 74-35, 83-40 (53), 33-81 (58), 81-10, 89-0 Mark Selby (Eng) 3-6 Ronnie OSullivan (Eng) 51-91 (63), 58-51 (58, 51), 24-85 (69), 0-112 (54, 58), 85-16 (61), 0-100 (100), 40-72, 72-18 (68), 70-73 (70, 73) Report Neil Robertson (Aus) 6-0 Marco Fu (HK) 79-45, 106-1 (106), 88-1 (57), 73-0 (73), 70-31 (54), 76-1 John Higgins (Sco) 6-4 Liang Wenbo (Chn) 119-14 (119), 0-91 (88), 9-62, 104-0 (104), 75-1 (75), 0-97 (61), 133-8 (133), 1-58, 85-0 (85), 63-55 (Liang 53) Report Mark Selby (Eng) 6-0 Ricky Walden (Eng) 71-53 (71, 52), 114-9 (113), 109-7 (66), 81-3 (81), 61-32, 84-38 (83) Ronnie OSullivan (Eng) 6-5 Mark Williams (Wal) 80-1, 55-47, 35-71 (64), 27-67, 47-71, 5-68, 104-0 (104), 83-12 (60), 130-0 (117), 50-85 (OSullivan 50, Williams 50), 63-28 (62) Report Barry Hawkins (Eng) 6-3 Joe Perry (Eng) 101-24 (59), 61-55 (Perry 55), 0-68, 58-68 (67), 7-95 (84), 69-12, 81-0 (81), 72-10 (58), 62-39 Judd Trump (Eng) 6-4 Stephen Maguire (Sco) 60-64 (Trump 60, Maguire 61), 71-65 (Maguire 60), 109-1 (55, 50), 66-59, 96-4 (69), 0-92 (92), 14-80 (74), 0-105 (56), 61-0 (60), 77-10 Report Shaun Murphy (Eng) 4-6 Mark Allen (NI) 10-73 (50), 68-20 (68), 0-137 (137), 71-5 (65), 0-91 (91), 17-13 (frame forfeited by Murphy after three misses), 1-117 (104), 67-1 (67), 100-0 (100), 44-72 Stuart Bingham (Eng) 6-4 Ding Junhui (Chn) 35-67, 59-48, 124-0 (120), 70-21 (60), 7-69, 10-62, 80-5, 30-71 (71), 70-56, 66-21 Report</td>\n",
       "      <td>The 2016 Masters tournament took place from 10-17 January and was covered live by BBC Sport.</td>\n",
       "      <td>35071249</td>\n",
       "    </tr>\n",
       "    <tr>\n",
       "      <th>3</th>\n",
       "      <td>Hodgson made six changes, including resting captain Wayne Rooney, from the win against Wales - but a limp performance means Chris Colemans side finish top of Group B and Englands life is now more difficult if they go deeper into Euro 2016. England had the better chances, with Slovakia keeper Matus Kozacik saving well when Jamie Vardy broke clear in the first half, as well as blocking crucially from Nathaniel Clyne after the break. Rooney came on for the struggling Jack Wilshere after 55 minutes, but the pattern was set and Slovakia defended manfully for what should prove to be a precious point. Dele Alli had also a shot kicked off the line by Martin Skrtel just seconds after coming on as a substitute on the hour. England now travel to Nice where they face the team that finishes second in Group F - either Hungary, Portugal, Iceland or Austria - next Monday. It was a major surprise that Hodgson chose to make such mass alterations to an England team that had finally picked up some momentum with Thursdays last-gasp victory over Wales. That win put them in position to top the group by beating Slovakia. Instead, with nothing decided and with the group still open, Hodgson chose to leave out Rooney, Kyle Walker, Danny Rose, Dele Alli, Raheem Sterling and Harry Kane. Hodgson introduced Vardy and Daniel Sturridge, who both scored against Wales, as well as Clyne, Ryan Bertrand, Wilshere and Jordan Henderson. It gave England a disjointed look and they ran out of steam and threat long before the end. Time will tell if this was the selection that proved decisive in Englands Euro 2016 campaign - but the bottom line is when you make a controversial choice such as that, you need to win and Hodgsons side failed. Wilshere was given a starting role as Hodgson shuffled his squad to inject freshness and to give those on the margins some game time - but it was a move that failed. The 24-year-old Arsenal midfielder looked exactly what he is at the moment: less than fully fit and off the pace after a Premier League season where injuries meant he barely featured. Wilshere played just 141 minutes of Premier League football over three games at the end of Arsenals season. This was no sort of preparation for a major tournament and it showed, but such is Hodgsons belief in his talents that he could not resist the temptation to select him, against all logic. He strived to somehow revive his best moments but it was not to be - not through any lack of effort, simply a lack of spark, his natural game dulled by the long absences. Wilshere looked a dejected figure as he went off to be replaced by Rooney after only 55 minutes, the possibility growing that his chances of making a serious impact on Euro 2016 badly damaged. The result leaves them off to the south of France and Nice, playing next Monday instead of Saturday - but they will surely regret not finishing top of Group B. This luxury now goes deservedly to Wales and while England will regard themselves as favourites to beat whoever finishes second in Group F, the price they pay could come further down the line. They now go into the half of the draw containing France, Germany and Italy - and will also have to regain the impetus they had finally built up by beating Wales but was lost in this disappointing draw. Not a good night for England. Not a good night for Roy Hodgson. England manager Roy Hodgson: If we had won the game people would say we didnt miss them [the players who were left out] and when we dont they say the team selection is wrong, I am used to that one. Finishing second is a disappointment but we are still in the last 16 and who is to say the team we will play will be that much stronger? You just dont know, the way we are playing I am not frightened of anybody. Media playback is not supported on this device Slovakia coach Jan Kozak: Our players tired as the game went on and England showed their quality and strength, but when you see an opportunity you give everything you can. Perhaps I didnt expect to be pressed so deeply but we made some substitutions to neutralise the impact of their attack. England play their last-16 tie on Monday, 27 June at 20:00 BST, while Slovakia will have to wait to find out if they finish as one of the four best third-placed sides who progress. Match ends, Slovakia 0, England 0. Second Half ends, Slovakia 0, England 0. Attempt missed. Dele Alli (England) right footed shot from outside the box is too high. Assisted by Eric Dier. Attempt blocked. Eric Dier (England) right footed shot from outside the box is blocked. Assisted by Nathaniel Clyne. Dele Alli (England) wins a free kick on the left wing. Foul by Peter Pekarík (Slovakia). Delay over. They are ready to continue. Delay in match Martin Skrtel (Slovakia) because of an injury. Attempt missed. Nathaniel Clyne (England) right footed shot from outside the box misses to the left. Attempt blocked. Dele Alli (England) left footed shot from outside the box is blocked. Assisted by Harry Kane. Foul by Chris Smalling (England). Juraj Kucka (Slovakia) wins a free kick in the attacking half. Attempt missed. Harry Kane (England) header from the centre of the box misses to the left. Assisted by Jordan Henderson with a cross. Corner,  England. Conceded by Tomas Hubocan. Attempt missed. Marek Hamsik (Slovakia) right footed shot from more than 35 yards is too high from a direct free kick. Delay over. They are ready to continue. Delay in match Robert Mak (Slovakia) because of an injury. Foul by Chris Smalling (England). Juraj Kucka (Slovakia) wins a free kick in the attacking half. Attempt missed. Wayne Rooney (England) left footed shot from outside the box is close, but misses to the right. Assisted by Nathaniel Clyne. Attempt blocked. Harry Kane (England) right footed shot from outside the box is blocked. Assisted by Ryan Bertrand. Corner,  England. Conceded by Milan Skriniar. Attempt blocked. Eric Dier (England) right footed shot from outside the box is blocked. Attempt missed. Gary Cahill (England) right footed shot from the centre of the box misses to the right. Assisted by Dele Alli. Attempt blocked. Dele Alli (England) right footed shot from the centre of the box is blocked. Assisted by Wayne Rooney. Corner,  England. Conceded by Norbert Gyömbér. Substitution, Slovakia. Milan Skriniar replaces Vladimir Weiss. Chris Smalling (England) wins a free kick in the defensive half. Foul by Juraj Kucka (Slovakia). Attempt blocked. Gary Cahill (England) header from the centre of the box is blocked. Assisted by Ryan Bertrand with a cross. Substitution, England. Harry Kane replaces Daniel Sturridge. Corner,  England. Conceded by Martin Skrtel. Attempt blocked. Gary Cahill (England) header from the centre of the box is blocked. Assisted by Wayne Rooney with a cross. Corner,  England. Conceded by Martin Skrtel. Attempt blocked. Wayne Rooney (England) right footed shot from outside the box is blocked. Offside, Slovakia. Marek Hamsik tries a through ball, but Dusan Svento is caught offside. Attempt saved. Daniel Sturridge (England) left footed shot from the centre of the box is saved in the top left corner. Assisted by Eric Dier with a through ball. Attempt blocked. Eric Dier (England) right footed shot from outside the box is blocked. Assisted by Nathaniel Clyne. Attempt missed. Eric Dier (England) right footed shot from outside the box misses to the left. Assisted by Nathaniel Clyne. Substitution, Slovakia. Norbert Gyömbér replaces Viktor Pecovsky.</td>\n",
       "      <td>England manager Roy Hodgson's gamble of making wholesale changes backfired badly as they stumbled to a goalless draw against Slovakia in Saint-Etienne.</td>\n",
       "      <td>36514116</td>\n",
       "    </tr>\n",
       "    <tr>\n",
       "      <th>4</th>\n",
       "      <td>Output rose 9.3% from a year ago, which was up from Marchs figure of 8.9% but below market forecasts for a 9.5% rise. Fixed-asset investment also weakened in the first four months of 2013. Last week, a separate survey suggested that manufacturing activity, a subset of industrial production, grew at a slower pace in April. This is not the start of a rally, it is a sputtering whimper as momentum continues to fade, said economists at IHS Global Insight. By Linda YuehChief business correspondent IHS also said that slowing fixed-asset investment - a key measure of government spending - suggested weakness in manufacturing and infrastructure construction, and warned that the pace could fall further amid government efforts to curb the housing market. Separately, Bank of America Merrill Lynch analysts also warned that there was an increased downside risk to the economy. Chinas economy expanded at an annual rate of 7.7% in the first three months of the year, down from 7.9% in the previous quarter. Officials have warned that the economy is set to slow as the government attempts to rebalance the economy by getting domestic consumer demand to drive growth, rather than investments and exports. This attempt now appears to be having an impact. According to government statistics, in the first three months of this year, the largest part of the economy was services - not manufacturing.</td>\n",
       "      <td>Industrial production in China recorded a smaller-than-expected rise in April, underlining worries that the economy may be losing steam.</td>\n",
       "      <td>22508472</td>\n",
       "    </tr>\n",
       "  </tbody>\n",
       "</table>"
      ],
      "text/plain": [
       "<IPython.core.display.HTML object>"
      ]
     },
     "metadata": {},
     "output_type": "display_data"
    }
   ],
   "source": [
    "display_function(xsum[\"test\"])"
   ]
  },
  {
   "cell_type": "markdown",
   "metadata": {},
   "source": [
    "We can view the column names and data types without our dataset using .features"
   ]
  },
  {
   "cell_type": "code",
   "execution_count": 10,
   "metadata": {},
   "outputs": [
    {
     "data": {
      "text/plain": [
       "{'document': Value(dtype='string', id=None),\n",
       " 'summary': Value(dtype='string', id=None),\n",
       " 'id': Value(dtype='string', id=None)}"
      ]
     },
     "execution_count": 10,
     "metadata": {},
     "output_type": "execute_result"
    }
   ],
   "source": [
    "xsum['test'].features"
   ]
  },
  {
   "cell_type": "code",
   "execution_count": 11,
   "metadata": {},
   "outputs": [
    {
     "name": "stdout",
     "output_type": "stream",
     "text": [
      "DatasetInfo(description='\\nExtreme Summarization (XSum) Dataset.\\n\\nThere are three features:\\n  - document: Input news article.\\n  - summary: One sentence summary of the article.\\n  - id: BBC ID of the article.\\n\\n', citation=\"\\n@article{Narayan2018DontGM,\\n  title={Don't Give Me the Details, Just the Summary! Topic-Aware Convolutional Neural Networks for Extreme Summarization},\\n  author={Shashi Narayan and Shay B. Cohen and Mirella Lapata},\\n  journal={ArXiv},\\n  year={2018},\\n  volume={abs/1808.08745}\\n}\\n\", homepage='https://github.com/EdinburghNLP/XSum/tree/master/XSum-Dataset', license='', features={'document': Value(dtype='string', id=None), 'summary': Value(dtype='string', id=None), 'id': Value(dtype='string', id=None)}, post_processed=None, supervised_keys=SupervisedKeysData(input='document', output='summary'), task_templates=None, builder_name='xsum', config_name='default', version=1.2.0, splits={'train': SplitInfo(name='train', num_bytes=479206615, num_examples=204045, dataset_name='xsum'), 'validation': SplitInfo(name='validation', num_bytes=26292901, num_examples=11332, dataset_name='xsum'), 'test': SplitInfo(name='test', num_bytes=26756165, num_examples=11334, dataset_name='xsum')}, download_checksums={'http://bollin.inf.ed.ac.uk/public/direct/XSUM-EMNLP18-Summary-Data-Original.tar.gz': {'num_bytes': 254582292, 'checksum': '10b48aa187fc9c904b30f76ca97e2da0de8d3a1238acc26acadef93e2001af90'}, 'https://raw.githubusercontent.com/EdinburghNLP/XSum/master/XSum-Dataset/XSum-TRAINING-DEV-TEST-SPLIT-90-5-5.json': {'num_bytes': 2720574, 'checksum': '9c0c5d8f048a90bd68b19a34e4c30577ed270d3247b2119fa06a04ef46292068'}}, download_size=257302866, post_processing_size=None, dataset_size=532255681, size_in_bytes=789558547)\n"
     ]
    }
   ],
   "source": [
    "print(xsum['test'].info)"
   ]
  },
  {
   "cell_type": "markdown",
   "metadata": {},
   "source": [
    "# Preparing XSUM Data\n",
    "Before we can put the text into a model we need to convert it into a format that the transformer can understand. Encoders and decoders only understand numerical values; we need to tokenize each word and then convert the tokens into numerical values. The tokenization transformer splits text into tokens and then adds special tokens if expected based on pretraining. The tokenizer then matches each token to unique id in vocabulary of tokenizer which has a corresponding vector of numerical values. These vectors contain the contextualized value of a word. For example, the vector representation of the word \"to\" isnt just \"to\", it also takes into account the words around it which are called context (right and left context). To continue this example, \"Welcome to NYC\" is a sentence that has the word \"to\". For the word \"to\" the left context is \"Welcome\" and the right context is \"NYC\". The output is based on these contexts; this is how the value is a contextualized vector thanks to self-attention mechanism. We can do all of this using the AutoTokenizer.from_pretarined method to ensure that we get a tokenizer that corresponds to the model architecture we want to use (facebook/bart-large-cnn); however, we will specifically reference the BartTokenizer in our checkpoint, tokenizer, and model to ensure all aspects of our model were trained using the same methodologies so we can avoid unexpected summaries"
   ]
  },
  {
   "cell_type": "code",
   "execution_count": 12,
   "metadata": {},
   "outputs": [],
   "source": [
    "checkpoint = \"facebook/bart-large-cnn\"\n",
    "tokenizer = BartTokenizer.from_pretrained(checkpoint)\n",
    "model = BartForConditionalGeneration.from_pretrained(checkpoint)"
   ]
  },
  {
   "cell_type": "markdown",
   "metadata": {},
   "source": [
    "We now write a function that preprocesses the test data by passing it to the tokenizer. We need to use the argument truncation=True to ensure that any input longer than the model can handle will be truncated to the maximum length alowed. We can view this information in the model config. BART has a maximum length of 1024 which we can see in max_position_embeddings"
   ]
  },
  {
   "cell_type": "code",
   "execution_count": 13,
   "metadata": {},
   "outputs": [
    {
     "data": {
      "text/plain": [
       "BartConfig {\n",
       "  \"_name_or_path\": \"facebook/bart-large-cnn\",\n",
       "  \"_num_labels\": 3,\n",
       "  \"activation_dropout\": 0.0,\n",
       "  \"activation_function\": \"gelu\",\n",
       "  \"add_final_layer_norm\": false,\n",
       "  \"architectures\": [\n",
       "    \"BartForConditionalGeneration\"\n",
       "  ],\n",
       "  \"attention_dropout\": 0.0,\n",
       "  \"bos_token_id\": 0,\n",
       "  \"classif_dropout\": 0.0,\n",
       "  \"classifier_dropout\": 0.0,\n",
       "  \"d_model\": 1024,\n",
       "  \"decoder_attention_heads\": 16,\n",
       "  \"decoder_ffn_dim\": 4096,\n",
       "  \"decoder_layerdrop\": 0.0,\n",
       "  \"decoder_layers\": 12,\n",
       "  \"decoder_start_token_id\": 2,\n",
       "  \"dropout\": 0.1,\n",
       "  \"early_stopping\": true,\n",
       "  \"encoder_attention_heads\": 16,\n",
       "  \"encoder_ffn_dim\": 4096,\n",
       "  \"encoder_layerdrop\": 0.0,\n",
       "  \"encoder_layers\": 12,\n",
       "  \"eos_token_id\": 2,\n",
       "  \"force_bos_token_to_be_generated\": true,\n",
       "  \"forced_bos_token_id\": 0,\n",
       "  \"forced_eos_token_id\": 2,\n",
       "  \"gradient_checkpointing\": false,\n",
       "  \"id2label\": {\n",
       "    \"0\": \"LABEL_0\",\n",
       "    \"1\": \"LABEL_1\",\n",
       "    \"2\": \"LABEL_2\"\n",
       "  },\n",
       "  \"init_std\": 0.02,\n",
       "  \"is_encoder_decoder\": true,\n",
       "  \"label2id\": {\n",
       "    \"LABEL_0\": 0,\n",
       "    \"LABEL_1\": 1,\n",
       "    \"LABEL_2\": 2\n",
       "  },\n",
       "  \"length_penalty\": 2.0,\n",
       "  \"max_length\": 142,\n",
       "  \"max_position_embeddings\": 1024,\n",
       "  \"min_length\": 56,\n",
       "  \"model_type\": \"bart\",\n",
       "  \"no_repeat_ngram_size\": 3,\n",
       "  \"normalize_before\": false,\n",
       "  \"num_beams\": 4,\n",
       "  \"num_hidden_layers\": 12,\n",
       "  \"output_past\": true,\n",
       "  \"pad_token_id\": 1,\n",
       "  \"prefix\": \" \",\n",
       "  \"scale_embedding\": false,\n",
       "  \"task_specific_params\": {\n",
       "    \"summarization\": {\n",
       "      \"early_stopping\": true,\n",
       "      \"length_penalty\": 2.0,\n",
       "      \"max_length\": 142,\n",
       "      \"min_length\": 56,\n",
       "      \"no_repeat_ngram_size\": 3,\n",
       "      \"num_beams\": 4\n",
       "    }\n",
       "  },\n",
       "  \"transformers_version\": \"4.12.5\",\n",
       "  \"use_cache\": true,\n",
       "  \"vocab_size\": 50264\n",
       "}"
      ]
     },
     "execution_count": 13,
     "metadata": {},
     "output_type": "execute_result"
    }
   ],
   "source": [
    "model.config"
   ]
  },
  {
   "cell_type": "markdown",
   "metadata": {},
   "source": [
    "We can now create the function with the maximum length allowed as per the config and an arbitrary minimum length. "
   ]
  },
  {
   "cell_type": "code",
   "execution_count": 14,
   "metadata": {},
   "outputs": [],
   "source": [
    "max_input_length = 1024\n",
    "max_target_length = 100\n",
    "\n",
    "\n",
    "def preperation_function(examples):\n",
    "    inputs = [doc for doc in examples[\"document\"]]\n",
    "    model_inputs = tokenizer(inputs, max_length=max_input_length, truncation=True, padding=True)\n",
    "\n",
    "    \n",
    "    with tokenizer.as_target_tokenizer(): # Setup the tokenizer for summaries where \"as_target_tokenizer\" is what provides passes along the context for each vector\n",
    "        labels = tokenizer(\n",
    "            examples[\"summary\"], max_length=max_target_length, truncation=True\n",
    "        )\n",
    "\n",
    "    model_inputs[\"labels\"] = labels[\"input_ids\"]\n",
    "    return model_inputs"
   ]
  },
  {
   "cell_type": "markdown",
   "metadata": {},
   "source": [
    "We can apply this function to our dataset using map"
   ]
  },
  {
   "cell_type": "code",
   "execution_count": 15,
   "metadata": {},
   "outputs": [
    {
     "name": "stderr",
     "output_type": "stream",
     "text": [
      "Loading cached processed dataset at C:\\Users\\creeg\\.cache\\huggingface\\datasets\\xsum\\default\\1.2.0\\32c23220eadddb1149b16ed2e9430a05293768cfffbdfd151058697d4c11f934\\cache-4b553bd8e5c78318.arrow\n",
      "Loading cached processed dataset at C:\\Users\\creeg\\.cache\\huggingface\\datasets\\xsum\\default\\1.2.0\\32c23220eadddb1149b16ed2e9430a05293768cfffbdfd151058697d4c11f934\\cache-4d942dda870775b4.arrow\n",
      "100%|██████████| 12/12 [00:20<00:00,  1.68s/ba]\n"
     ]
    }
   ],
   "source": [
    "tokenized_xsum = xsum.map(preperation_function, batched=True)"
   ]
  },
  {
   "cell_type": "code",
   "execution_count": 16,
   "metadata": {},
   "outputs": [
    {
     "data": {
      "text/plain": [
       "DatasetDict({\n",
       "    train: Dataset({\n",
       "        features: ['attention_mask', 'document', 'id', 'input_ids', 'labels', 'summary'],\n",
       "        num_rows: 204045\n",
       "    })\n",
       "    validation: Dataset({\n",
       "        features: ['attention_mask', 'document', 'id', 'input_ids', 'labels', 'summary'],\n",
       "        num_rows: 11332\n",
       "    })\n",
       "    test: Dataset({\n",
       "        features: ['attention_mask', 'document', 'id', 'input_ids', 'labels', 'summary'],\n",
       "        num_rows: 11334\n",
       "    })\n",
       "})"
      ]
     },
     "execution_count": 16,
     "metadata": {},
     "output_type": "execute_result"
    }
   ],
   "source": [
    "tokenized_xsum"
   ]
  },
  {
   "cell_type": "code",
   "execution_count": 17,
   "metadata": {},
   "outputs": [
    {
     "data": {
      "text/plain": [
       "{'attention_mask': Sequence(feature=Value(dtype='int8', id=None), length=-1, id=None),\n",
       " 'document': Value(dtype='string', id=None),\n",
       " 'id': Value(dtype='string', id=None),\n",
       " 'input_ids': Sequence(feature=Value(dtype='int32', id=None), length=-1, id=None),\n",
       " 'labels': Sequence(feature=Value(dtype='int64', id=None), length=-1, id=None),\n",
       " 'summary': Value(dtype='string', id=None)}"
      ]
     },
     "execution_count": 17,
     "metadata": {},
     "output_type": "execute_result"
    }
   ],
   "source": [
    "tokenized_xsum['test'].features"
   ]
  },
  {
   "cell_type": "markdown",
   "metadata": {},
   "source": [
    "The attention mask tells the model what to pay attention to by passing values of 1 for tokens to consider and values of 0 for tokens to ignore. The input ids are the numerical mapping of tokens to BART's vocabulary; each word in BART's vocabulary is assigned a numerical value."
   ]
  },
  {
   "cell_type": "code",
   "execution_count": 18,
   "metadata": {},
   "outputs": [
    {
     "data": {
      "text/html": [
       "<table border=\"1\" class=\"dataframe\">\n",
       "  <thead>\n",
       "    <tr style=\"text-align: right;\">\n",
       "      <th></th>\n",
       "      <th>attention_mask</th>\n",
       "      <th>document</th>\n",
       "      <th>id</th>\n",
       "      <th>input_ids</th>\n",
       "      <th>labels</th>\n",
       "      <th>summary</th>\n",
       "    </tr>\n",
       "  </thead>\n",
       "  <tbody>\n",
       "    <tr>\n",
       "      <th>0</th>\n",
       "      <td>[1, 1, 1, 1, 1, 1, 1, 1, 1, 1, 1, 1, 1, 1, 1, 1, 1, 1, 1, 1, 1, 1, 1, 1, 1, 1, 1, 1, 1, 1, 1, 1, 1, 1, 1, 1, 1, 1, 1, 1, 1, 1, 1, 1, 1, 1, 1, 1, 1, 1, 1, 1, 1, 1, 1, 1, 1, 1, 1, 1, 1, 1, 1, 1, 1, 1, 1, 1, 1, 1, 1, 1, 1, 1, 1, 1, 1, 1, 1, 1, 1, 1, 1, 1, 1, 1, 1, 1, 1, 1, 1, 1, 1, 1, 1, 1, 1, 1, 1, 1, ...]</td>\n",
       "      <td>Mark Mason, 48, of Rhyl, Denbighshire, was stabbed to death in the car park of the towns Home Bargains on 27 October. James Davies, 20, was convicted of murder, and Anthony Baines, 30, and Mark Ennis, 30 were convicted of manslaughter at Mold Crown Court. Jake Melia, 21, previously admitted the charges and the four will be sentenced in June. Davies, Baines and Ennis, all from Liverpool, denied murdering Mr Mason. They also denied maliciously wounding Justin Trickett and Sam Illidge - who were in the same vehicle as Mr Mason -  with intent to inflict grievous bodily harm. Mr Trickett and Mr Illidge were also stabbed in the attack, but their wounds were less severe. Baines was found guilty of one count of wounding, but Davies and Ennis were cleared of those charges. Mrs Justice Nicola Davies remanded all three in custody until sentencing, which she said would take place over three days. The trial heard the attack was the result of a turf war which had erupted between two rival gangs over the control of the drugs trade in Rhyl. Paul Lewis QC, prosecuting, told the trial Mr Mason, a father of two, was repeatedly and fatally stabbed by the three defendants and Melia as he sat in the passenger seat of a van in the car park. He was stabbed 22 times in less than a minute. The four killers were members of the Pensarn Crew, sometimes called Stes Crew, Mr Lewis said. Mr Mason, Mr Trickett and Mr Illidge were members of Marks Crew, or Marcos Crew - although it was not suggested Mr Mason was the leader. The fatal attack appears to have been an act of retribution on the part of the defendants and Melia, said Mr Lewis. Jurors were shown CCTV footage of a white Renault van near The Cob area of Rhyl on the afternoon of 27 October which showed the white van being stopped by a black BMW 4X4. Shouts of stab him and kill him could be heard. The prosecution said the killing was retribution for an earlier incident when Melia and Davies were said to have been chased by masked armed men while drug dealing in the area.</td>\n",
       "      <td>39998519</td>\n",
       "      <td>[0, 10006, 7332, 6, 2929, 6, 9, 8778, 4360, 6, 6743, 428, 8774, 9959, 6, 21, 9229, 7, 744, 11, 5, 512, 2221, 9, 5, 6815, 2193, 28876, 5069, 15, 974, 779, 4, 957, 12051, 6, 291, 6, 21, 3828, 9, 1900, 6, 8, 3173, 19758, 293, 6, 389, 6, 8, 1190, 2271, 10892, 6, 389, 58, 3828, 9, 14936, 23, 22013, 5748, 837, 4, 6469, 4448, 493, 6, 733, 6, 1433, 2641, 5, 1103, 8, 5, 237, 40, 28, 4018, 11, 502, 4, 12051, 6, 19758, 293, 8, 2271, 10892, 6, 70, 31, 3426, 6, 2296, 21725, 427, 7332, ...]</td>\n",
       "      <td>[0, 15622, 604, 33, 57, 303, 2181, 9, 2429, 10, 3429, 1262, 12269, 11, 10, 5188, 12, 3368, 13543, 908, 4, 2]</td>\n",
       "      <td>Three men have been found guilty of killing a rival drug dealer in a gang-related revenge attack.</td>\n",
       "    </tr>\n",
       "    <tr>\n",
       "      <th>1</th>\n",
       "      <td>[1, 1, 1, 1, 1, 1, 1, 1, 1, 1, 1, 1, 1, 1, 1, 1, 1, 1, 1, 1, 1, 1, 1, 1, 1, 1, 1, 1, 1, 1, 1, 1, 1, 1, 1, 1, 1, 1, 1, 1, 1, 1, 1, 1, 1, 1, 1, 1, 1, 1, 1, 1, 1, 1, 1, 1, 1, 1, 1, 1, 1, 1, 1, 1, 1, 1, 1, 1, 1, 1, 1, 1, 1, 1, 1, 1, 1, 1, 1, 1, 1, 1, 1, 1, 1, 1, 1, 1, 1, 1, 1, 1, 1, 1, 1, 1, 1, 1, 1, 1, ...]</td>\n",
       "      <td>The Tayside outfit lost both their games on their maiden outing at the showpiece finals in Nottingham over the weekend. But the Stars showed up well in the 4-2 semi-final defeat to Cardiff Devils and the 15-8 third-place match loss to Belfast Giants. Its been a great experience for our guys and hopefully next year we can come back here and learn from it, like Cardiff did, LeFebvre said. I had some time to reflect on Saturdays performance against Cardiff and Im so proud of my players. It was a dream start for us to go 2-0 up in the first period. It was always going to be a tough task keeping that pace up all game against a team like the Devils, who are rightfully league champions. But to be the first team from Dundee to make it to this weekend, its not to be sniffed at and Im proud of that. Dundee could hold their heads high after a great performance against the Devils in Saturdays semi-final, even if it was to end in a 4-2 defeat. Vinny Scarsella teed up Kevin Hart on the blue line and he fired his effort past Devils goalie Ben Bowns to open the scoring. Stars then went two up as Brett Switzers low diagonal shot beat Bowns at his bottom right hard corner. The Devils started to claw their way back into the game six minutes into the second period as Joey Haddad found space in front of Dundees goal to finish. The EIHL champions pulled level when Mark Louis reacted quickest to tuck in an equaliser. Devils completed the comeback with nine minutes left as Joey Martin put them 3-2 ahead before Andrew Hotham confirmed their place in Sundays final with a late empty-net goal. It meant an early start on Sunday for the Stars who had to face fellow beaten semi-finalists Belfast Giants, who had gone down 2-0 to eventual play-off winners Sheffield Steelers. The sides shared 23 goals with Justin Faryna netting two for Dundee, while Kevin Bruijsten, Joey Sides, Mikael Lidhammar, Matt White, Vinny Scarsella and Craig Moore were also on target for Stars. LeFebvre added: The third place game was a lot of fun I guess, but overall, we enjoyed the experience of being involved in this weekend. Both us and Belfast knew what we were in for in that game on Sunday and the pace of play there would be. It picked up a little bit in the latter stages. Its more an exhibition game for the fans. Lots of goals, not a lot of hits and penalties and some skills. But they have to figure something out about that game. If the league put something on the line for them, like some extra money, it might improve it as a spectacle and guys might go harder. Unfortunately, two teams have to play in that game and on this occasion, it was us and Belfast. Im sure after seeing that, the league may look at it. Sheffield Steelers took the silverware in an epic Sunday final, beating Cardiff Devils 6-5 after overtime in a game that lasted just under 95 minutes. Saturday Semi-finals Cardiff Devils 4-2 Dundee Stars Belfast Giants 0-2 Sheffield Steelers Sunday Third place play-off Belfast Giants 15-8 Dundee Stars Final Cardiff Devils 5 Sheffield Steelers 6 (OT)</td>\n",
       "      <td>39551711</td>\n",
       "      <td>[0, 133, 255, 4113, 1949, 7490, 685, 258, 49, 426, 15, 49, 17077, 9913, 23, 5, 311, 10449, 6688, 11, 17142, 81, 5, 983, 4, 125, 5, 7144, 969, 62, 157, 11, 5, 204, 12, 176, 4126, 12, 6156, 3002, 7, 12426, 9155, 8, 5, 379, 12, 398, 371, 12, 6406, 914, 872, 7, 14837, 4608, 4, 3139, 57, 10, 372, 676, 13, 84, 1669, 8, 5952, 220, 76, 52, 64, 283, 124, 259, 8, 1532, 31, 24, 6, 101, 12426, 222, 6, 1063, 20160, 29416, 26, 4, 38, 56, 103, 86, 7, 4227, 15, 18326, 819, 136, 12426, 8, ...]</td>\n",
       "      <td>[0, 495, 3194, 1942, 7144, 471, 704, 5908, 1063, 20160, 29416, 1991, 39, 526, 671, 7, 5, 310, 12, 1529, 6688, 220, 76, 25, 10, 203, 3651, 165, 4, 2]</td>\n",
       "      <td>Dundee Stars head coach Marc LeFebvre hopes his side return to the play-off finals next year as a much stronger team.</td>\n",
       "    </tr>\n",
       "    <tr>\n",
       "      <th>2</th>\n",
       "      <td>[1, 1, 1, 1, 1, 1, 1, 1, 1, 1, 1, 1, 1, 1, 1, 1, 1, 1, 1, 1, 1, 1, 1, 1, 1, 1, 1, 1, 1, 1, 1, 1, 1, 1, 1, 1, 1, 1, 1, 1, 1, 1, 1, 1, 1, 1, 1, 1, 1, 1, 1, 1, 1, 1, 1, 1, 1, 1, 1, 1, 1, 1, 1, 1, 1, 1, 1, 1, 1, 1, 1, 1, 1, 1, 1, 1, 1, 1, 1, 1, 1, 1, 1, 1, 1, 1, 1, 1, 1, 1, 1, 1, 1, 1, 1, 1, 1, 1, 1, 1, ...]</td>\n",
       "      <td>However, there were people in the TV industry who thought the cast would struggle to find work once their time on the show was up. Some of the actors were warned that they wouldnt be able to shake off their sulky, angry, teen characters. But when you look at the careers of Dev Patel and Jack OConnell for example, they couldnt have been more wrong. Kaya Scodelario was one of the longest-serving members of the cast, appearing in series one to four as Effy Stonem. She went on to appear in sci-fi thriller Maze Runner and is now in Australia filming the next instalment of Pirates of The Caribbean with Johnny Depp. Nicholas Hoult was the only member of the main cast who had serious acting experience. Hed starred in About a Boy with Hugh Grant in 2002. He has since gone on to play Beast in the X-Men prequels and will soon be seen starring opposite Kristen Stewart in a film called Equals. Dev Patels first job after playing Anwar Kharral in series one and two, took him from London to India and to the Oscars with Slumdog Millionaire. He told Newsbeat, he never would have got that role without Skins. My career started off because Danny Boyles daughter was a fan of the show, that is how I got an audition for Slumdog. He has two films out in cinemas at the moment, The Second Best Exotic Marigold Hotel with Dame Judi Dench and Chappie, starring alongside Sigourney Weaver and Hugh Jackman. Jack OConnell, who played Cook in series three and four, was hand-picked by Angelina Jolie to star in her most recent movie Unbroken. The 24-year-old also picked up the Rising Star Award at this years Baftas. Fans of Game of Thrones will be familiar with Joe Dempsie and Hannah Murray who play Gendry and Gilly respectively. It is, of course, not unusual for an actor from a British television show to find success in Hollywood films. What is unusual is the amount of stars that were discovered from one single teen drama on a digital channel. So how were the makers of Skins able to spot so many talented young actors? Co-creator Bryan Elsley told Newsbeat they made a conscious decision to hold open auditions. There are really good kids working from agencies and drama schools but just on that one occasion we decided to go a different way, he explained. We felt if we had young people playing characters the same age as themselves, and those actors werent too trained, it would have a more natural feel. It sounds quite risky, but Bryan said the show was such a small project to begin with, they were able to take that approach. Jack OConnell credits the whole team for the actors future success. I think they knew if they were going to identify that genre, that era, that generation, they needed people on the ground level, he said. A writing team that understood, they got that right first and then I guess they chose to cast exciting people. I feel very fortunate to be involved in the show but I dont think it was a coincidence that we all came through there. Piers Wenger is the head of drama at Channel 4 and he thinks it was the opportunities the cast had to stretch themselves that helped nurture their talent. They had the opportunity to do properly complex [roles], rather than just two dimensional ones, he said. It is extraordinary, in the past soap operas had been the sort of places where young people had been able to do their first job. That would have been your only break, but times are changing. I think thanks to shows like Skins, unconventional approaches to casting are becoming more and more common. Follow @BBCNewsbeat on Twitter, BBCNewsbeat on Instagram and Radio1Newsbeat on YouTube</td>\n",
       "      <td>31873298</td>\n",
       "      <td>[0, 10462, 6, 89, 58, 82, 11, 5, 1012, 539, 54, 802, 5, 2471, 74, 3860, 7, 465, 173, 683, 49, 86, 15, 5, 311, 21, 62, 4, 993, 9, 5, 5552, 58, 2449, 14, 51, 74, 3999, 28, 441, 7, 8559, 160, 49, 26648, 4122, 6, 5800, 6, 6066, 3768, 4, 125, 77, 47, 356, 23, 5, 8478, 9, 7439, 12717, 8, 2722, 384, 28317, 13, 1246, 6, 51, 115, 3999, 33, 57, 55, 1593, 4, 229, 5210, 2741, 1630, 523, 7718, 21, 65, 9, 5, 6463, 12, 20017, 453, 9, 5, 2471, 6, 8165, 11, 651, 65, 7, ...]</td>\n",
       "      <td>[0, 717, 306, 18, 6066, 4149, 4058, 1344, 351, 3617, 4188, 8, 3491, 10, 12308, 511, 81, 63, 707, 651, 4, 2]</td>\n",
       "      <td>E4's teen drama Skins won numerous awards and gained a cult following over its seven series.</td>\n",
       "    </tr>\n",
       "    <tr>\n",
       "      <th>3</th>\n",
       "      <td>[1, 1, 1, 1, 1, 1, 1, 1, 1, 1, 1, 1, 1, 1, 1, 1, 1, 1, 1, 1, 1, 1, 1, 1, 1, 1, 1, 1, 1, 1, 1, 1, 1, 1, 1, 1, 1, 1, 1, 1, 1, 1, 1, 1, 1, 1, 1, 1, 1, 1, 1, 1, 1, 1, 1, 1, 1, 1, 1, 1, 1, 1, 1, 1, 1, 1, 1, 1, 1, 1, 1, 1, 1, 1, 1, 1, 1, 1, 1, 1, 1, 1, 1, 1, 1, 1, 1, 1, 1, 1, 1, 1, 1, 1, 1, 1, 1, 1, 1, 1, ...]</td>\n",
       "      <td>Lets call it Alice in Financial Wonderland. On Thursday the European Central Bank took additional steps to stimulate the eurozone economy, including a further cut in an interest rate that is already below zero. Why is this so odd? Think about what interest is. The lender gets paid interest for allowing someone else to use their money. But when the rate goes below zero the relationship is turned on its head. The lender is now paying the borrower. Why would anyone do that? Some reasons below. Of course, this situation only applies to a limited number of financial relationships. No-one will pay you to spend on your credit card. But this unusual state of affairs does exist. The ECBs deposit rate, which applies to money parked overnight by commercial banks, is now minus 0.4%. Does that make the ECB president Mario Draghi the white rabbit - the one who led Alice into Lewis Carrolls subterranean fantasy world? Or perhaps there is a whole family with fluffy tails whose warrens extend to the central banks of Japan and several European countries, which have similar policies. These negative rates are the policy decisions taken by a handful of central banks. But the phenomenon has also affected the bond market, where investors buy and sell the bonds or debts of governments and large companies. The cost of borrowing is set when the bonds are issued. It depends on how much the financial firms who buy the bonds pay for them - what they are buying is a promise to make a series of payments in the future. If the price is high enough, the borrowing cost, in effect the interest rate, can be zero or even negative. Last week the bond market took a new step down the financial rabbit hole. Japan is the first government among the G20 major economies to borrow money by issuing bonds for 10 years at an interest rate of less than zero. Its true that several other countries have done it for shorter periods and Switzerland (which is not a G20 member) has already done it for 10-year borrowing. But Japan being paid to borrow money for 10 years is nonetheless a remarkable development. Its a much bigger economy than Switzerland, with a much larger government debt - much larger even in relation to its economy. The usual pattern with borrowing costs is the longer you borrow for the more you have to pay. So a negative 10-year cost is a striking thing. Its worth emphasising the distinction between the two contexts in which we have negative rates. One is central banks making a judgement about what is best for economic growth employment and inflation. The other is private investors accepting a negative return on an asset, which is arguably much the stranger of the two. So why do they? Accepting a pitifully low positive rate is one thing: it is better than nothing. But if the rate on offer is negative, then zero, or just sitting on the cash looks preferable. With the latest government debt sale in Japan, one reason is thought to be investors buying the bonds with a view to selling them later when the central bank goes into the market as part of its quantitative easing programme, which involves buying financial assets with newly created money. In other cases, banks have been more willing to buy bonds with negative returns because they are charged by the central bank if they deposit excess funds. In some cases, foreign investors think they can make money if the currency rises enough to compensate for the negative yield. With central banks in the developed economies it is a policy choice to have kept their official interest rates very low - below zero in a few cases. One of the key reasons is something else that is also very strange - at least by the standards of the relatively recent past. Inflation, in the judgement of central banks in the main developed economies, is too low. At times it too has been below zero, but in the US, Japan, the eurozone and the UK even when above zero it has been well below the central banks targets of 2% or thereabouts. Central banks failure to get back to the target and the persistence of sluggish economic growth in the eurozone and Japan has led them to try increasingly unorthodox policies: quantitative easing and negative interest rates. The underlying idea is much the same as cutting interest rates in more normal times. The aim is to encourage more borrowing and spending by firms and households. Central bank rates do not completely determine the cost of such borrowing, but they are a major factor. Or at least they usually are. There are some concerns that when central bank rates go negative, they have less impact on lending rates in the private sector beyond the money markets. A review by economists at the Bank for International Settlements said: Questions remain as to whether negative policy rates are transmitted to the wider economy through lower lending rates for firms and households. There are also concerns that they make it harder for banks to lend profitably. The obvious alternative is fiscal policy - government spending and taxes. But governments in the west have been reluctant to use this approach, due to concerns about increasing government debt, although critics say those worries are misplaced. So how long before we emerge from Financial Wonderland? There was a period last year when there were some signs that things might be starting to return to normal. The clearest indication of that was the decision by the Federal Reserve in December to raise US interest rates from essentially zero. The expectation then was there would be several more hikes this year. However, this glimmer of financial normality - signs of Alice the banker regaining consciousness perhaps - didnt last. Now the markets think it is more likely that the Fed will raise rates again just once or twice this year. The prospect of any such action by the other major central banks has receded into the more distant future. More than seven years on from the most intense phase of the financial crisis, the aftermath is still with us. Some things clearly have improved. Unemployment is low in the US, Britain, and Germany and the eurozone is no longer in imminent danger of chaotic disintegration. But there are many weaknesses and the unusual financial conditions will not return to normal for a while. Its getting to feel like Alices tea party, with the clock stopped at tea time. She certainly hasnt come round yet.</td>\n",
       "      <td>35755100</td>\n",
       "      <td>[0, 574, 2580, 486, 24, 12085, 11, 2108, 35607, 4, 374, 296, 5, 796, 1505, 788, 362, 943, 2402, 7, 19770, 5, 24860, 866, 6, 217, 10, 617, 847, 11, 41, 773, 731, 14, 16, 416, 874, 4276, 4, 2612, 16, 42, 98, 8372, 116, 9387, 59, 99, 773, 16, 4, 20, 10007, 1516, 1199, 773, 13, 2455, 951, 1493, 7, 304, 49, 418, 4, 125, 77, 5, 731, 1411, 874, 4276, 5, 1291, 16, 1224, 15, 63, 471, 4, 20, 10007, 16, 122, 2746, 5, 31545, 4, 2612, 74, 1268, 109, 14, 116, 993, 2188, 874, 4, 1525, 768, ...]</td>\n",
       "      <td>[0, 133, 720, 613, 467, 16, 13228, 5206, 617, 88, 5, 11676, 232, 9, 2430, 773, 1162, 4, 2]</td>\n",
       "      <td>The global financial system is venturing further into the bizarre world of negative interest rates.</td>\n",
       "    </tr>\n",
       "    <tr>\n",
       "      <th>4</th>\n",
       "      <td>[1, 1, 1, 1, 1, 1, 1, 1, 1, 1, 1, 1, 1, 1, 1, 1, 1, 1, 1, 1, 1, 1, 1, 1, 1, 1, 1, 1, 1, 1, 1, 1, 1, 1, 1, 1, 1, 1, 1, 1, 1, 1, 1, 1, 1, 1, 1, 1, 1, 1, 1, 1, 1, 1, 1, 1, 1, 1, 1, 1, 1, 1, 1, 1, 1, 1, 1, 1, 1, 1, 1, 1, 1, 1, 1, 1, 1, 1, 1, 1, 1, 1, 1, 1, 1, 1, 1, 1, 1, 1, 1, 1, 1, 1, 1, 1, 1, 1, 1, 1, ...]</td>\n",
       "      <td>Media playback is unsupported on your device 18 June 2015 Last updated at 15:10 BST All the big gaming companies including Microsoft, Nintendo and Sony are showing off what theyve been working on. Virtual reality usually involves putting on some glasses that contain video screens. The specs give you the impression youre in a totally different world, that changes as you look around the room. For years, virtual reality has been tipped as the next big thing in technology - but now it looks like it might finally be ready for action. Radio 1 reporter Steffan Powell sent us this report from E3.</td>\n",
       "      <td>33189100</td>\n",
       "      <td>[0, 18801, 20083, 16, 30604, 15, 110, 2187, 504, 502, 570, 1426, 4752, 23, 379, 35, 698, 28964, 404, 5, 380, 6548, 451, 217, 3709, 6, 10396, 8, 6366, 32, 2018, 160, 99, 51, 548, 57, 447, 15, 4, 21741, 2015, 2333, 6890, 2057, 15, 103, 11121, 14, 5585, 569, 8545, 4, 20, 21634, 492, 47, 5, 8450, 47, 241, 11, 10, 4940, 430, 232, 6, 14, 1022, 25, 47, 356, 198, 5, 929, 4, 286, 107, 6, 6229, 2015, 34, 57, 13402, 25, 5, 220, 380, 631, 11, 806, 111, 53, 122, 24, 1326, 101, 24, 429, 1747, 28, ...]</td>\n",
       "      <td>[0, 45313, 2320, 32, 15924, 10, 380, 499, 13, 6229, 2015, 23, 381, 246, 111, 5, 232, 18, 934, 8825, 13, 426, 4, 2]</td>\n",
       "      <td>Gaming experts are predicting a big future for virtual reality at E3 - the world's biggest convention for games.</td>\n",
       "    </tr>\n",
       "  </tbody>\n",
       "</table>"
      ],
      "text/plain": [
       "<IPython.core.display.HTML object>"
      ]
     },
     "metadata": {},
     "output_type": "display_data"
    },
    {
     "data": {
      "text/html": [
       "<table border=\"1\" class=\"dataframe\">\n",
       "  <thead>\n",
       "    <tr style=\"text-align: right;\">\n",
       "      <th></th>\n",
       "      <th>attention_mask</th>\n",
       "      <th>document</th>\n",
       "      <th>id</th>\n",
       "      <th>input_ids</th>\n",
       "      <th>labels</th>\n",
       "      <th>summary</th>\n",
       "    </tr>\n",
       "  </thead>\n",
       "  <tbody>\n",
       "    <tr>\n",
       "      <th>0</th>\n",
       "      <td>[1, 1, 1, 1, 1, 1, 1, 1, 1, 1, 1, 1, 1, 1, 1, 1, 1, 1, 1, 1, 1, 1, 1, 1, 1, 1, 1, 1, 1, 1, 1, 1, 1, 1, 1, 1, 1, 1, 1, 1, 1, 1, 1, 1, 1, 1, 1, 1, 1, 1, 1, 1, 1, 1, 1, 1, 1, 1, 1, 1, 1, 1, 1, 1, 1, 1, 1, 1, 1, 1, 1, 1, 1, 1, 1, 1, 1, 1, 1, 1, 1, 1, 1, 1, 1, 1, 1, 1, 1, 1, 1, 1, 1, 1, 1, 1, 1, 1, 1, 1, ...]</td>\n",
       "      <td>Mark Mason, 48, of Rhyl, Denbighshire, was stabbed to death in the car park of the towns Home Bargains on 27 October. James Davies, 20, was convicted of murder, and Anthony Baines, 30, and Mark Ennis, 30 were convicted of manslaughter at Mold Crown Court. Jake Melia, 21, previously admitted the charges and the four will be sentenced in June. Davies, Baines and Ennis, all from Liverpool, denied murdering Mr Mason. They also denied maliciously wounding Justin Trickett and Sam Illidge - who were in the same vehicle as Mr Mason -  with intent to inflict grievous bodily harm. Mr Trickett and Mr Illidge were also stabbed in the attack, but their wounds were less severe. Baines was found guilty of one count of wounding, but Davies and Ennis were cleared of those charges. Mrs Justice Nicola Davies remanded all three in custody until sentencing, which she said would take place over three days. The trial heard the attack was the result of a turf war which had erupted between two rival gangs over the control of the drugs trade in Rhyl. Paul Lewis QC, prosecuting, told the trial Mr Mason, a father of two, was repeatedly and fatally stabbed by the three defendants and Melia as he sat in the passenger seat of a van in the car park. He was stabbed 22 times in less than a minute. The four killers were members of the Pensarn Crew, sometimes called Stes Crew, Mr Lewis said. Mr Mason, Mr Trickett and Mr Illidge were members of Marks Crew, or Marcos Crew - although it was not suggested Mr Mason was the leader. The fatal attack appears to have been an act of retribution on the part of the defendants and Melia, said Mr Lewis. Jurors were shown CCTV footage of a white Renault van near The Cob area of Rhyl on the afternoon of 27 October which showed the white van being stopped by a black BMW 4X4. Shouts of stab him and kill him could be heard. The prosecution said the killing was retribution for an earlier incident when Melia and Davies were said to have been chased by masked armed men while drug dealing in the area.</td>\n",
       "      <td>39998519</td>\n",
       "      <td>[0, 10006, 7332, 6, 2929, 6, 9, 8778, 4360, 6, 6743, 428, 8774, 9959, 6, 21, 9229, 7, 744, 11, 5, 512, 2221, 9, 5, 6815, 2193, 28876, 5069, 15, 974, 779, 4, 957, 12051, 6, 291, 6, 21, 3828, 9, 1900, 6, 8, 3173, 19758, 293, 6, 389, 6, 8, 1190, 2271, 10892, 6, 389, 58, 3828, 9, 14936, 23, 22013, 5748, 837, 4, 6469, 4448, 493, 6, 733, 6, 1433, 2641, 5, 1103, 8, 5, 237, 40, 28, 4018, 11, 502, 4, 12051, 6, 19758, 293, 8, 2271, 10892, 6, 70, 31, 3426, 6, 2296, 21725, 427, 7332, ...]</td>\n",
       "      <td>[0, 15622, 604, 33, 57, 303, 2181, 9, 2429, 10, 3429, 1262, 12269, 11, 10, 5188, 12, 3368, 13543, 908, 4, 2]</td>\n",
       "      <td>Three men have been found guilty of killing a rival drug dealer in a gang-related revenge attack.</td>\n",
       "    </tr>\n",
       "    <tr>\n",
       "      <th>1</th>\n",
       "      <td>[1, 1, 1, 1, 1, 1, 1, 1, 1, 1, 1, 1, 1, 1, 1, 1, 1, 1, 1, 1, 1, 1, 1, 1, 1, 1, 1, 1, 1, 1, 1, 1, 1, 1, 1, 1, 1, 1, 1, 1, 1, 1, 1, 1, 1, 1, 1, 1, 1, 1, 1, 1, 1, 1, 1, 1, 1, 1, 1, 1, 1, 1, 1, 1, 1, 1, 1, 1, 1, 1, 1, 1, 1, 1, 1, 1, 1, 1, 1, 1, 1, 1, 1, 1, 1, 1, 1, 1, 1, 1, 1, 1, 1, 1, 1, 1, 1, 1, 1, 1, ...]</td>\n",
       "      <td>The Tayside outfit lost both their games on their maiden outing at the showpiece finals in Nottingham over the weekend. But the Stars showed up well in the 4-2 semi-final defeat to Cardiff Devils and the 15-8 third-place match loss to Belfast Giants. Its been a great experience for our guys and hopefully next year we can come back here and learn from it, like Cardiff did, LeFebvre said. I had some time to reflect on Saturdays performance against Cardiff and Im so proud of my players. It was a dream start for us to go 2-0 up in the first period. It was always going to be a tough task keeping that pace up all game against a team like the Devils, who are rightfully league champions. But to be the first team from Dundee to make it to this weekend, its not to be sniffed at and Im proud of that. Dundee could hold their heads high after a great performance against the Devils in Saturdays semi-final, even if it was to end in a 4-2 defeat. Vinny Scarsella teed up Kevin Hart on the blue line and he fired his effort past Devils goalie Ben Bowns to open the scoring. Stars then went two up as Brett Switzers low diagonal shot beat Bowns at his bottom right hard corner. The Devils started to claw their way back into the game six minutes into the second period as Joey Haddad found space in front of Dundees goal to finish. The EIHL champions pulled level when Mark Louis reacted quickest to tuck in an equaliser. Devils completed the comeback with nine minutes left as Joey Martin put them 3-2 ahead before Andrew Hotham confirmed their place in Sundays final with a late empty-net goal. It meant an early start on Sunday for the Stars who had to face fellow beaten semi-finalists Belfast Giants, who had gone down 2-0 to eventual play-off winners Sheffield Steelers. The sides shared 23 goals with Justin Faryna netting two for Dundee, while Kevin Bruijsten, Joey Sides, Mikael Lidhammar, Matt White, Vinny Scarsella and Craig Moore were also on target for Stars. LeFebvre added: The third place game was a lot of fun I guess, but overall, we enjoyed the experience of being involved in this weekend. Both us and Belfast knew what we were in for in that game on Sunday and the pace of play there would be. It picked up a little bit in the latter stages. Its more an exhibition game for the fans. Lots of goals, not a lot of hits and penalties and some skills. But they have to figure something out about that game. If the league put something on the line for them, like some extra money, it might improve it as a spectacle and guys might go harder. Unfortunately, two teams have to play in that game and on this occasion, it was us and Belfast. Im sure after seeing that, the league may look at it. Sheffield Steelers took the silverware in an epic Sunday final, beating Cardiff Devils 6-5 after overtime in a game that lasted just under 95 minutes. Saturday Semi-finals Cardiff Devils 4-2 Dundee Stars Belfast Giants 0-2 Sheffield Steelers Sunday Third place play-off Belfast Giants 15-8 Dundee Stars Final Cardiff Devils 5 Sheffield Steelers 6 (OT)</td>\n",
       "      <td>39551711</td>\n",
       "      <td>[0, 133, 255, 4113, 1949, 7490, 685, 258, 49, 426, 15, 49, 17077, 9913, 23, 5, 311, 10449, 6688, 11, 17142, 81, 5, 983, 4, 125, 5, 7144, 969, 62, 157, 11, 5, 204, 12, 176, 4126, 12, 6156, 3002, 7, 12426, 9155, 8, 5, 379, 12, 398, 371, 12, 6406, 914, 872, 7, 14837, 4608, 4, 3139, 57, 10, 372, 676, 13, 84, 1669, 8, 5952, 220, 76, 52, 64, 283, 124, 259, 8, 1532, 31, 24, 6, 101, 12426, 222, 6, 1063, 20160, 29416, 26, 4, 38, 56, 103, 86, 7, 4227, 15, 18326, 819, 136, 12426, 8, ...]</td>\n",
       "      <td>[0, 495, 3194, 1942, 7144, 471, 704, 5908, 1063, 20160, 29416, 1991, 39, 526, 671, 7, 5, 310, 12, 1529, 6688, 220, 76, 25, 10, 203, 3651, 165, 4, 2]</td>\n",
       "      <td>Dundee Stars head coach Marc LeFebvre hopes his side return to the play-off finals next year as a much stronger team.</td>\n",
       "    </tr>\n",
       "    <tr>\n",
       "      <th>2</th>\n",
       "      <td>[1, 1, 1, 1, 1, 1, 1, 1, 1, 1, 1, 1, 1, 1, 1, 1, 1, 1, 1, 1, 1, 1, 1, 1, 1, 1, 1, 1, 1, 1, 1, 1, 1, 1, 1, 1, 1, 1, 1, 1, 1, 1, 1, 1, 1, 1, 1, 1, 1, 1, 1, 1, 1, 1, 1, 1, 1, 1, 1, 1, 1, 1, 1, 1, 1, 1, 1, 1, 1, 1, 1, 1, 1, 1, 1, 1, 1, 1, 1, 1, 1, 1, 1, 1, 1, 1, 1, 1, 1, 1, 1, 1, 1, 1, 1, 1, 1, 1, 1, 1, ...]</td>\n",
       "      <td>However, there were people in the TV industry who thought the cast would struggle to find work once their time on the show was up. Some of the actors were warned that they wouldnt be able to shake off their sulky, angry, teen characters. But when you look at the careers of Dev Patel and Jack OConnell for example, they couldnt have been more wrong. Kaya Scodelario was one of the longest-serving members of the cast, appearing in series one to four as Effy Stonem. She went on to appear in sci-fi thriller Maze Runner and is now in Australia filming the next instalment of Pirates of The Caribbean with Johnny Depp. Nicholas Hoult was the only member of the main cast who had serious acting experience. Hed starred in About a Boy with Hugh Grant in 2002. He has since gone on to play Beast in the X-Men prequels and will soon be seen starring opposite Kristen Stewart in a film called Equals. Dev Patels first job after playing Anwar Kharral in series one and two, took him from London to India and to the Oscars with Slumdog Millionaire. He told Newsbeat, he never would have got that role without Skins. My career started off because Danny Boyles daughter was a fan of the show, that is how I got an audition for Slumdog. He has two films out in cinemas at the moment, The Second Best Exotic Marigold Hotel with Dame Judi Dench and Chappie, starring alongside Sigourney Weaver and Hugh Jackman. Jack OConnell, who played Cook in series three and four, was hand-picked by Angelina Jolie to star in her most recent movie Unbroken. The 24-year-old also picked up the Rising Star Award at this years Baftas. Fans of Game of Thrones will be familiar with Joe Dempsie and Hannah Murray who play Gendry and Gilly respectively. It is, of course, not unusual for an actor from a British television show to find success in Hollywood films. What is unusual is the amount of stars that were discovered from one single teen drama on a digital channel. So how were the makers of Skins able to spot so many talented young actors? Co-creator Bryan Elsley told Newsbeat they made a conscious decision to hold open auditions. There are really good kids working from agencies and drama schools but just on that one occasion we decided to go a different way, he explained. We felt if we had young people playing characters the same age as themselves, and those actors werent too trained, it would have a more natural feel. It sounds quite risky, but Bryan said the show was such a small project to begin with, they were able to take that approach. Jack OConnell credits the whole team for the actors future success. I think they knew if they were going to identify that genre, that era, that generation, they needed people on the ground level, he said. A writing team that understood, they got that right first and then I guess they chose to cast exciting people. I feel very fortunate to be involved in the show but I dont think it was a coincidence that we all came through there. Piers Wenger is the head of drama at Channel 4 and he thinks it was the opportunities the cast had to stretch themselves that helped nurture their talent. They had the opportunity to do properly complex [roles], rather than just two dimensional ones, he said. It is extraordinary, in the past soap operas had been the sort of places where young people had been able to do their first job. That would have been your only break, but times are changing. I think thanks to shows like Skins, unconventional approaches to casting are becoming more and more common. Follow @BBCNewsbeat on Twitter, BBCNewsbeat on Instagram and Radio1Newsbeat on YouTube</td>\n",
       "      <td>31873298</td>\n",
       "      <td>[0, 10462, 6, 89, 58, 82, 11, 5, 1012, 539, 54, 802, 5, 2471, 74, 3860, 7, 465, 173, 683, 49, 86, 15, 5, 311, 21, 62, 4, 993, 9, 5, 5552, 58, 2449, 14, 51, 74, 3999, 28, 441, 7, 8559, 160, 49, 26648, 4122, 6, 5800, 6, 6066, 3768, 4, 125, 77, 47, 356, 23, 5, 8478, 9, 7439, 12717, 8, 2722, 384, 28317, 13, 1246, 6, 51, 115, 3999, 33, 57, 55, 1593, 4, 229, 5210, 2741, 1630, 523, 7718, 21, 65, 9, 5, 6463, 12, 20017, 453, 9, 5, 2471, 6, 8165, 11, 651, 65, 7, ...]</td>\n",
       "      <td>[0, 717, 306, 18, 6066, 4149, 4058, 1344, 351, 3617, 4188, 8, 3491, 10, 12308, 511, 81, 63, 707, 651, 4, 2]</td>\n",
       "      <td>E4's teen drama Skins won numerous awards and gained a cult following over its seven series.</td>\n",
       "    </tr>\n",
       "    <tr>\n",
       "      <th>3</th>\n",
       "      <td>[1, 1, 1, 1, 1, 1, 1, 1, 1, 1, 1, 1, 1, 1, 1, 1, 1, 1, 1, 1, 1, 1, 1, 1, 1, 1, 1, 1, 1, 1, 1, 1, 1, 1, 1, 1, 1, 1, 1, 1, 1, 1, 1, 1, 1, 1, 1, 1, 1, 1, 1, 1, 1, 1, 1, 1, 1, 1, 1, 1, 1, 1, 1, 1, 1, 1, 1, 1, 1, 1, 1, 1, 1, 1, 1, 1, 1, 1, 1, 1, 1, 1, 1, 1, 1, 1, 1, 1, 1, 1, 1, 1, 1, 1, 1, 1, 1, 1, 1, 1, ...]</td>\n",
       "      <td>Lets call it Alice in Financial Wonderland. On Thursday the European Central Bank took additional steps to stimulate the eurozone economy, including a further cut in an interest rate that is already below zero. Why is this so odd? Think about what interest is. The lender gets paid interest for allowing someone else to use their money. But when the rate goes below zero the relationship is turned on its head. The lender is now paying the borrower. Why would anyone do that? Some reasons below. Of course, this situation only applies to a limited number of financial relationships. No-one will pay you to spend on your credit card. But this unusual state of affairs does exist. The ECBs deposit rate, which applies to money parked overnight by commercial banks, is now minus 0.4%. Does that make the ECB president Mario Draghi the white rabbit - the one who led Alice into Lewis Carrolls subterranean fantasy world? Or perhaps there is a whole family with fluffy tails whose warrens extend to the central banks of Japan and several European countries, which have similar policies. These negative rates are the policy decisions taken by a handful of central banks. But the phenomenon has also affected the bond market, where investors buy and sell the bonds or debts of governments and large companies. The cost of borrowing is set when the bonds are issued. It depends on how much the financial firms who buy the bonds pay for them - what they are buying is a promise to make a series of payments in the future. If the price is high enough, the borrowing cost, in effect the interest rate, can be zero or even negative. Last week the bond market took a new step down the financial rabbit hole. Japan is the first government among the G20 major economies to borrow money by issuing bonds for 10 years at an interest rate of less than zero. Its true that several other countries have done it for shorter periods and Switzerland (which is not a G20 member) has already done it for 10-year borrowing. But Japan being paid to borrow money for 10 years is nonetheless a remarkable development. Its a much bigger economy than Switzerland, with a much larger government debt - much larger even in relation to its economy. The usual pattern with borrowing costs is the longer you borrow for the more you have to pay. So a negative 10-year cost is a striking thing. Its worth emphasising the distinction between the two contexts in which we have negative rates. One is central banks making a judgement about what is best for economic growth employment and inflation. The other is private investors accepting a negative return on an asset, which is arguably much the stranger of the two. So why do they? Accepting a pitifully low positive rate is one thing: it is better than nothing. But if the rate on offer is negative, then zero, or just sitting on the cash looks preferable. With the latest government debt sale in Japan, one reason is thought to be investors buying the bonds with a view to selling them later when the central bank goes into the market as part of its quantitative easing programme, which involves buying financial assets with newly created money. In other cases, banks have been more willing to buy bonds with negative returns because they are charged by the central bank if they deposit excess funds. In some cases, foreign investors think they can make money if the currency rises enough to compensate for the negative yield. With central banks in the developed economies it is a policy choice to have kept their official interest rates very low - below zero in a few cases. One of the key reasons is something else that is also very strange - at least by the standards of the relatively recent past. Inflation, in the judgement of central banks in the main developed economies, is too low. At times it too has been below zero, but in the US, Japan, the eurozone and the UK even when above zero it has been well below the central banks targets of 2% or thereabouts. Central banks failure to get back to the target and the persistence of sluggish economic growth in the eurozone and Japan has led them to try increasingly unorthodox policies: quantitative easing and negative interest rates. The underlying idea is much the same as cutting interest rates in more normal times. The aim is to encourage more borrowing and spending by firms and households. Central bank rates do not completely determine the cost of such borrowing, but they are a major factor. Or at least they usually are. There are some concerns that when central bank rates go negative, they have less impact on lending rates in the private sector beyond the money markets. A review by economists at the Bank for International Settlements said: Questions remain as to whether negative policy rates are transmitted to the wider economy through lower lending rates for firms and households. There are also concerns that they make it harder for banks to lend profitably. The obvious alternative is fiscal policy - government spending and taxes. But governments in the west have been reluctant to use this approach, due to concerns about increasing government debt, although critics say those worries are misplaced. So how long before we emerge from Financial Wonderland? There was a period last year when there were some signs that things might be starting to return to normal. The clearest indication of that was the decision by the Federal Reserve in December to raise US interest rates from essentially zero. The expectation then was there would be several more hikes this year. However, this glimmer of financial normality - signs of Alice the banker regaining consciousness perhaps - didnt last. Now the markets think it is more likely that the Fed will raise rates again just once or twice this year. The prospect of any such action by the other major central banks has receded into the more distant future. More than seven years on from the most intense phase of the financial crisis, the aftermath is still with us. Some things clearly have improved. Unemployment is low in the US, Britain, and Germany and the eurozone is no longer in imminent danger of chaotic disintegration. But there are many weaknesses and the unusual financial conditions will not return to normal for a while. Its getting to feel like Alices tea party, with the clock stopped at tea time. She certainly hasnt come round yet.</td>\n",
       "      <td>35755100</td>\n",
       "      <td>[0, 574, 2580, 486, 24, 12085, 11, 2108, 35607, 4, 374, 296, 5, 796, 1505, 788, 362, 943, 2402, 7, 19770, 5, 24860, 866, 6, 217, 10, 617, 847, 11, 41, 773, 731, 14, 16, 416, 874, 4276, 4, 2612, 16, 42, 98, 8372, 116, 9387, 59, 99, 773, 16, 4, 20, 10007, 1516, 1199, 773, 13, 2455, 951, 1493, 7, 304, 49, 418, 4, 125, 77, 5, 731, 1411, 874, 4276, 5, 1291, 16, 1224, 15, 63, 471, 4, 20, 10007, 16, 122, 2746, 5, 31545, 4, 2612, 74, 1268, 109, 14, 116, 993, 2188, 874, 4, 1525, 768, ...]</td>\n",
       "      <td>[0, 133, 720, 613, 467, 16, 13228, 5206, 617, 88, 5, 11676, 232, 9, 2430, 773, 1162, 4, 2]</td>\n",
       "      <td>The global financial system is venturing further into the bizarre world of negative interest rates.</td>\n",
       "    </tr>\n",
       "    <tr>\n",
       "      <th>4</th>\n",
       "      <td>[1, 1, 1, 1, 1, 1, 1, 1, 1, 1, 1, 1, 1, 1, 1, 1, 1, 1, 1, 1, 1, 1, 1, 1, 1, 1, 1, 1, 1, 1, 1, 1, 1, 1, 1, 1, 1, 1, 1, 1, 1, 1, 1, 1, 1, 1, 1, 1, 1, 1, 1, 1, 1, 1, 1, 1, 1, 1, 1, 1, 1, 1, 1, 1, 1, 1, 1, 1, 1, 1, 1, 1, 1, 1, 1, 1, 1, 1, 1, 1, 1, 1, 1, 1, 1, 1, 1, 1, 1, 1, 1, 1, 1, 1, 1, 1, 1, 1, 1, 1, ...]</td>\n",
       "      <td>Media playback is unsupported on your device 18 June 2015 Last updated at 15:10 BST All the big gaming companies including Microsoft, Nintendo and Sony are showing off what theyve been working on. Virtual reality usually involves putting on some glasses that contain video screens. The specs give you the impression youre in a totally different world, that changes as you look around the room. For years, virtual reality has been tipped as the next big thing in technology - but now it looks like it might finally be ready for action. Radio 1 reporter Steffan Powell sent us this report from E3.</td>\n",
       "      <td>33189100</td>\n",
       "      <td>[0, 18801, 20083, 16, 30604, 15, 110, 2187, 504, 502, 570, 1426, 4752, 23, 379, 35, 698, 28964, 404, 5, 380, 6548, 451, 217, 3709, 6, 10396, 8, 6366, 32, 2018, 160, 99, 51, 548, 57, 447, 15, 4, 21741, 2015, 2333, 6890, 2057, 15, 103, 11121, 14, 5585, 569, 8545, 4, 20, 21634, 492, 47, 5, 8450, 47, 241, 11, 10, 4940, 430, 232, 6, 14, 1022, 25, 47, 356, 198, 5, 929, 4, 286, 107, 6, 6229, 2015, 34, 57, 13402, 25, 5, 220, 380, 631, 11, 806, 111, 53, 122, 24, 1326, 101, 24, 429, 1747, 28, ...]</td>\n",
       "      <td>[0, 45313, 2320, 32, 15924, 10, 380, 499, 13, 6229, 2015, 23, 381, 246, 111, 5, 232, 18, 934, 8825, 13, 426, 4, 2]</td>\n",
       "      <td>Gaming experts are predicting a big future for virtual reality at E3 - the world's biggest convention for games.</td>\n",
       "    </tr>\n",
       "  </tbody>\n",
       "</table>"
      ],
      "text/plain": [
       "<IPython.core.display.HTML object>"
      ]
     },
     "metadata": {},
     "output_type": "display_data"
    },
    {
     "data": {
      "text/html": [
       "<table border=\"1\" class=\"dataframe\">\n",
       "  <thead>\n",
       "    <tr style=\"text-align: right;\">\n",
       "      <th></th>\n",
       "      <th>attention_mask</th>\n",
       "      <th>document</th>\n",
       "      <th>id</th>\n",
       "      <th>input_ids</th>\n",
       "      <th>labels</th>\n",
       "      <th>summary</th>\n",
       "    </tr>\n",
       "  </thead>\n",
       "  <tbody>\n",
       "    <tr>\n",
       "      <th>0</th>\n",
       "      <td>[1, 1, 1, 1, 1, 1, 1, 1, 1, 1, 1, 1, 1, 1, 1, 1, 1, 1, 1, 1, 1, 1, 1, 1, 1, 1, 1, 1, 1, 1, 1, 1, 1, 1, 1, 1, 1, 1, 1, 1, 1, 1, 1, 1, 1, 1, 1, 1, 1, 1, 1, 1, 1, 1, 1, 1, 1, 1, 1, 1, 1, 1, 1, 1, 1, 1, 1, 1, 1, 1, 1, 1, 1, 1, 1, 1, 1, 1, 1, 1, 1, 1, 1, 1, 1, 1, 1, 1, 1, 1, 1, 1, 1, 1, 1, 1, 1, 1, 1, 1, ...]</td>\n",
       "      <td>Mark Mason, 48, of Rhyl, Denbighshire, was stabbed to death in the car park of the towns Home Bargains on 27 October. James Davies, 20, was convicted of murder, and Anthony Baines, 30, and Mark Ennis, 30 were convicted of manslaughter at Mold Crown Court. Jake Melia, 21, previously admitted the charges and the four will be sentenced in June. Davies, Baines and Ennis, all from Liverpool, denied murdering Mr Mason. They also denied maliciously wounding Justin Trickett and Sam Illidge - who were in the same vehicle as Mr Mason -  with intent to inflict grievous bodily harm. Mr Trickett and Mr Illidge were also stabbed in the attack, but their wounds were less severe. Baines was found guilty of one count of wounding, but Davies and Ennis were cleared of those charges. Mrs Justice Nicola Davies remanded all three in custody until sentencing, which she said would take place over three days. The trial heard the attack was the result of a turf war which had erupted between two rival gangs over the control of the drugs trade in Rhyl. Paul Lewis QC, prosecuting, told the trial Mr Mason, a father of two, was repeatedly and fatally stabbed by the three defendants and Melia as he sat in the passenger seat of a van in the car park. He was stabbed 22 times in less than a minute. The four killers were members of the Pensarn Crew, sometimes called Stes Crew, Mr Lewis said. Mr Mason, Mr Trickett and Mr Illidge were members of Marks Crew, or Marcos Crew - although it was not suggested Mr Mason was the leader. The fatal attack appears to have been an act of retribution on the part of the defendants and Melia, said Mr Lewis. Jurors were shown CCTV footage of a white Renault van near The Cob area of Rhyl on the afternoon of 27 October which showed the white van being stopped by a black BMW 4X4. Shouts of stab him and kill him could be heard. The prosecution said the killing was retribution for an earlier incident when Melia and Davies were said to have been chased by masked armed men while drug dealing in the area.</td>\n",
       "      <td>39998519</td>\n",
       "      <td>[0, 10006, 7332, 6, 2929, 6, 9, 8778, 4360, 6, 6743, 428, 8774, 9959, 6, 21, 9229, 7, 744, 11, 5, 512, 2221, 9, 5, 6815, 2193, 28876, 5069, 15, 974, 779, 4, 957, 12051, 6, 291, 6, 21, 3828, 9, 1900, 6, 8, 3173, 19758, 293, 6, 389, 6, 8, 1190, 2271, 10892, 6, 389, 58, 3828, 9, 14936, 23, 22013, 5748, 837, 4, 6469, 4448, 493, 6, 733, 6, 1433, 2641, 5, 1103, 8, 5, 237, 40, 28, 4018, 11, 502, 4, 12051, 6, 19758, 293, 8, 2271, 10892, 6, 70, 31, 3426, 6, 2296, 21725, 427, 7332, ...]</td>\n",
       "      <td>[0, 15622, 604, 33, 57, 303, 2181, 9, 2429, 10, 3429, 1262, 12269, 11, 10, 5188, 12, 3368, 13543, 908, 4, 2]</td>\n",
       "      <td>Three men have been found guilty of killing a rival drug dealer in a gang-related revenge attack.</td>\n",
       "    </tr>\n",
       "    <tr>\n",
       "      <th>1</th>\n",
       "      <td>[1, 1, 1, 1, 1, 1, 1, 1, 1, 1, 1, 1, 1, 1, 1, 1, 1, 1, 1, 1, 1, 1, 1, 1, 1, 1, 1, 1, 1, 1, 1, 1, 1, 1, 1, 1, 1, 1, 1, 1, 1, 1, 1, 1, 1, 1, 1, 1, 1, 1, 1, 1, 1, 1, 1, 1, 1, 1, 1, 1, 1, 1, 1, 1, 1, 1, 1, 1, 1, 1, 1, 1, 1, 1, 1, 1, 1, 1, 1, 1, 1, 1, 1, 1, 1, 1, 1, 1, 1, 1, 1, 1, 1, 1, 1, 1, 1, 1, 1, 1, ...]</td>\n",
       "      <td>The Tayside outfit lost both their games on their maiden outing at the showpiece finals in Nottingham over the weekend. But the Stars showed up well in the 4-2 semi-final defeat to Cardiff Devils and the 15-8 third-place match loss to Belfast Giants. Its been a great experience for our guys and hopefully next year we can come back here and learn from it, like Cardiff did, LeFebvre said. I had some time to reflect on Saturdays performance against Cardiff and Im so proud of my players. It was a dream start for us to go 2-0 up in the first period. It was always going to be a tough task keeping that pace up all game against a team like the Devils, who are rightfully league champions. But to be the first team from Dundee to make it to this weekend, its not to be sniffed at and Im proud of that. Dundee could hold their heads high after a great performance against the Devils in Saturdays semi-final, even if it was to end in a 4-2 defeat. Vinny Scarsella teed up Kevin Hart on the blue line and he fired his effort past Devils goalie Ben Bowns to open the scoring. Stars then went two up as Brett Switzers low diagonal shot beat Bowns at his bottom right hard corner. The Devils started to claw their way back into the game six minutes into the second period as Joey Haddad found space in front of Dundees goal to finish. The EIHL champions pulled level when Mark Louis reacted quickest to tuck in an equaliser. Devils completed the comeback with nine minutes left as Joey Martin put them 3-2 ahead before Andrew Hotham confirmed their place in Sundays final with a late empty-net goal. It meant an early start on Sunday for the Stars who had to face fellow beaten semi-finalists Belfast Giants, who had gone down 2-0 to eventual play-off winners Sheffield Steelers. The sides shared 23 goals with Justin Faryna netting two for Dundee, while Kevin Bruijsten, Joey Sides, Mikael Lidhammar, Matt White, Vinny Scarsella and Craig Moore were also on target for Stars. LeFebvre added: The third place game was a lot of fun I guess, but overall, we enjoyed the experience of being involved in this weekend. Both us and Belfast knew what we were in for in that game on Sunday and the pace of play there would be. It picked up a little bit in the latter stages. Its more an exhibition game for the fans. Lots of goals, not a lot of hits and penalties and some skills. But they have to figure something out about that game. If the league put something on the line for them, like some extra money, it might improve it as a spectacle and guys might go harder. Unfortunately, two teams have to play in that game and on this occasion, it was us and Belfast. Im sure after seeing that, the league may look at it. Sheffield Steelers took the silverware in an epic Sunday final, beating Cardiff Devils 6-5 after overtime in a game that lasted just under 95 minutes. Saturday Semi-finals Cardiff Devils 4-2 Dundee Stars Belfast Giants 0-2 Sheffield Steelers Sunday Third place play-off Belfast Giants 15-8 Dundee Stars Final Cardiff Devils 5 Sheffield Steelers 6 (OT)</td>\n",
       "      <td>39551711</td>\n",
       "      <td>[0, 133, 255, 4113, 1949, 7490, 685, 258, 49, 426, 15, 49, 17077, 9913, 23, 5, 311, 10449, 6688, 11, 17142, 81, 5, 983, 4, 125, 5, 7144, 969, 62, 157, 11, 5, 204, 12, 176, 4126, 12, 6156, 3002, 7, 12426, 9155, 8, 5, 379, 12, 398, 371, 12, 6406, 914, 872, 7, 14837, 4608, 4, 3139, 57, 10, 372, 676, 13, 84, 1669, 8, 5952, 220, 76, 52, 64, 283, 124, 259, 8, 1532, 31, 24, 6, 101, 12426, 222, 6, 1063, 20160, 29416, 26, 4, 38, 56, 103, 86, 7, 4227, 15, 18326, 819, 136, 12426, 8, ...]</td>\n",
       "      <td>[0, 495, 3194, 1942, 7144, 471, 704, 5908, 1063, 20160, 29416, 1991, 39, 526, 671, 7, 5, 310, 12, 1529, 6688, 220, 76, 25, 10, 203, 3651, 165, 4, 2]</td>\n",
       "      <td>Dundee Stars head coach Marc LeFebvre hopes his side return to the play-off finals next year as a much stronger team.</td>\n",
       "    </tr>\n",
       "    <tr>\n",
       "      <th>2</th>\n",
       "      <td>[1, 1, 1, 1, 1, 1, 1, 1, 1, 1, 1, 1, 1, 1, 1, 1, 1, 1, 1, 1, 1, 1, 1, 1, 1, 1, 1, 1, 1, 1, 1, 1, 1, 1, 1, 1, 1, 1, 1, 1, 1, 1, 1, 1, 1, 1, 1, 1, 1, 1, 1, 1, 1, 1, 1, 1, 1, 1, 1, 1, 1, 1, 1, 1, 1, 1, 1, 1, 1, 1, 1, 1, 1, 1, 1, 1, 1, 1, 1, 1, 1, 1, 1, 1, 1, 1, 1, 1, 1, 1, 1, 1, 1, 1, 1, 1, 1, 1, 1, 1, ...]</td>\n",
       "      <td>However, there were people in the TV industry who thought the cast would struggle to find work once their time on the show was up. Some of the actors were warned that they wouldnt be able to shake off their sulky, angry, teen characters. But when you look at the careers of Dev Patel and Jack OConnell for example, they couldnt have been more wrong. Kaya Scodelario was one of the longest-serving members of the cast, appearing in series one to four as Effy Stonem. She went on to appear in sci-fi thriller Maze Runner and is now in Australia filming the next instalment of Pirates of The Caribbean with Johnny Depp. Nicholas Hoult was the only member of the main cast who had serious acting experience. Hed starred in About a Boy with Hugh Grant in 2002. He has since gone on to play Beast in the X-Men prequels and will soon be seen starring opposite Kristen Stewart in a film called Equals. Dev Patels first job after playing Anwar Kharral in series one and two, took him from London to India and to the Oscars with Slumdog Millionaire. He told Newsbeat, he never would have got that role without Skins. My career started off because Danny Boyles daughter was a fan of the show, that is how I got an audition for Slumdog. He has two films out in cinemas at the moment, The Second Best Exotic Marigold Hotel with Dame Judi Dench and Chappie, starring alongside Sigourney Weaver and Hugh Jackman. Jack OConnell, who played Cook in series three and four, was hand-picked by Angelina Jolie to star in her most recent movie Unbroken. The 24-year-old also picked up the Rising Star Award at this years Baftas. Fans of Game of Thrones will be familiar with Joe Dempsie and Hannah Murray who play Gendry and Gilly respectively. It is, of course, not unusual for an actor from a British television show to find success in Hollywood films. What is unusual is the amount of stars that were discovered from one single teen drama on a digital channel. So how were the makers of Skins able to spot so many talented young actors? Co-creator Bryan Elsley told Newsbeat they made a conscious decision to hold open auditions. There are really good kids working from agencies and drama schools but just on that one occasion we decided to go a different way, he explained. We felt if we had young people playing characters the same age as themselves, and those actors werent too trained, it would have a more natural feel. It sounds quite risky, but Bryan said the show was such a small project to begin with, they were able to take that approach. Jack OConnell credits the whole team for the actors future success. I think they knew if they were going to identify that genre, that era, that generation, they needed people on the ground level, he said. A writing team that understood, they got that right first and then I guess they chose to cast exciting people. I feel very fortunate to be involved in the show but I dont think it was a coincidence that we all came through there. Piers Wenger is the head of drama at Channel 4 and he thinks it was the opportunities the cast had to stretch themselves that helped nurture their talent. They had the opportunity to do properly complex [roles], rather than just two dimensional ones, he said. It is extraordinary, in the past soap operas had been the sort of places where young people had been able to do their first job. That would have been your only break, but times are changing. I think thanks to shows like Skins, unconventional approaches to casting are becoming more and more common. Follow @BBCNewsbeat on Twitter, BBCNewsbeat on Instagram and Radio1Newsbeat on YouTube</td>\n",
       "      <td>31873298</td>\n",
       "      <td>[0, 10462, 6, 89, 58, 82, 11, 5, 1012, 539, 54, 802, 5, 2471, 74, 3860, 7, 465, 173, 683, 49, 86, 15, 5, 311, 21, 62, 4, 993, 9, 5, 5552, 58, 2449, 14, 51, 74, 3999, 28, 441, 7, 8559, 160, 49, 26648, 4122, 6, 5800, 6, 6066, 3768, 4, 125, 77, 47, 356, 23, 5, 8478, 9, 7439, 12717, 8, 2722, 384, 28317, 13, 1246, 6, 51, 115, 3999, 33, 57, 55, 1593, 4, 229, 5210, 2741, 1630, 523, 7718, 21, 65, 9, 5, 6463, 12, 20017, 453, 9, 5, 2471, 6, 8165, 11, 651, 65, 7, ...]</td>\n",
       "      <td>[0, 717, 306, 18, 6066, 4149, 4058, 1344, 351, 3617, 4188, 8, 3491, 10, 12308, 511, 81, 63, 707, 651, 4, 2]</td>\n",
       "      <td>E4's teen drama Skins won numerous awards and gained a cult following over its seven series.</td>\n",
       "    </tr>\n",
       "    <tr>\n",
       "      <th>3</th>\n",
       "      <td>[1, 1, 1, 1, 1, 1, 1, 1, 1, 1, 1, 1, 1, 1, 1, 1, 1, 1, 1, 1, 1, 1, 1, 1, 1, 1, 1, 1, 1, 1, 1, 1, 1, 1, 1, 1, 1, 1, 1, 1, 1, 1, 1, 1, 1, 1, 1, 1, 1, 1, 1, 1, 1, 1, 1, 1, 1, 1, 1, 1, 1, 1, 1, 1, 1, 1, 1, 1, 1, 1, 1, 1, 1, 1, 1, 1, 1, 1, 1, 1, 1, 1, 1, 1, 1, 1, 1, 1, 1, 1, 1, 1, 1, 1, 1, 1, 1, 1, 1, 1, ...]</td>\n",
       "      <td>Lets call it Alice in Financial Wonderland. On Thursday the European Central Bank took additional steps to stimulate the eurozone economy, including a further cut in an interest rate that is already below zero. Why is this so odd? Think about what interest is. The lender gets paid interest for allowing someone else to use their money. But when the rate goes below zero the relationship is turned on its head. The lender is now paying the borrower. Why would anyone do that? Some reasons below. Of course, this situation only applies to a limited number of financial relationships. No-one will pay you to spend on your credit card. But this unusual state of affairs does exist. The ECBs deposit rate, which applies to money parked overnight by commercial banks, is now minus 0.4%. Does that make the ECB president Mario Draghi the white rabbit - the one who led Alice into Lewis Carrolls subterranean fantasy world? Or perhaps there is a whole family with fluffy tails whose warrens extend to the central banks of Japan and several European countries, which have similar policies. These negative rates are the policy decisions taken by a handful of central banks. But the phenomenon has also affected the bond market, where investors buy and sell the bonds or debts of governments and large companies. The cost of borrowing is set when the bonds are issued. It depends on how much the financial firms who buy the bonds pay for them - what they are buying is a promise to make a series of payments in the future. If the price is high enough, the borrowing cost, in effect the interest rate, can be zero or even negative. Last week the bond market took a new step down the financial rabbit hole. Japan is the first government among the G20 major economies to borrow money by issuing bonds for 10 years at an interest rate of less than zero. Its true that several other countries have done it for shorter periods and Switzerland (which is not a G20 member) has already done it for 10-year borrowing. But Japan being paid to borrow money for 10 years is nonetheless a remarkable development. Its a much bigger economy than Switzerland, with a much larger government debt - much larger even in relation to its economy. The usual pattern with borrowing costs is the longer you borrow for the more you have to pay. So a negative 10-year cost is a striking thing. Its worth emphasising the distinction between the two contexts in which we have negative rates. One is central banks making a judgement about what is best for economic growth employment and inflation. The other is private investors accepting a negative return on an asset, which is arguably much the stranger of the two. So why do they? Accepting a pitifully low positive rate is one thing: it is better than nothing. But if the rate on offer is negative, then zero, or just sitting on the cash looks preferable. With the latest government debt sale in Japan, one reason is thought to be investors buying the bonds with a view to selling them later when the central bank goes into the market as part of its quantitative easing programme, which involves buying financial assets with newly created money. In other cases, banks have been more willing to buy bonds with negative returns because they are charged by the central bank if they deposit excess funds. In some cases, foreign investors think they can make money if the currency rises enough to compensate for the negative yield. With central banks in the developed economies it is a policy choice to have kept their official interest rates very low - below zero in a few cases. One of the key reasons is something else that is also very strange - at least by the standards of the relatively recent past. Inflation, in the judgement of central banks in the main developed economies, is too low. At times it too has been below zero, but in the US, Japan, the eurozone and the UK even when above zero it has been well below the central banks targets of 2% or thereabouts. Central banks failure to get back to the target and the persistence of sluggish economic growth in the eurozone and Japan has led them to try increasingly unorthodox policies: quantitative easing and negative interest rates. The underlying idea is much the same as cutting interest rates in more normal times. The aim is to encourage more borrowing and spending by firms and households. Central bank rates do not completely determine the cost of such borrowing, but they are a major factor. Or at least they usually are. There are some concerns that when central bank rates go negative, they have less impact on lending rates in the private sector beyond the money markets. A review by economists at the Bank for International Settlements said: Questions remain as to whether negative policy rates are transmitted to the wider economy through lower lending rates for firms and households. There are also concerns that they make it harder for banks to lend profitably. The obvious alternative is fiscal policy - government spending and taxes. But governments in the west have been reluctant to use this approach, due to concerns about increasing government debt, although critics say those worries are misplaced. So how long before we emerge from Financial Wonderland? There was a period last year when there were some signs that things might be starting to return to normal. The clearest indication of that was the decision by the Federal Reserve in December to raise US interest rates from essentially zero. The expectation then was there would be several more hikes this year. However, this glimmer of financial normality - signs of Alice the banker regaining consciousness perhaps - didnt last. Now the markets think it is more likely that the Fed will raise rates again just once or twice this year. The prospect of any such action by the other major central banks has receded into the more distant future. More than seven years on from the most intense phase of the financial crisis, the aftermath is still with us. Some things clearly have improved. Unemployment is low in the US, Britain, and Germany and the eurozone is no longer in imminent danger of chaotic disintegration. But there are many weaknesses and the unusual financial conditions will not return to normal for a while. Its getting to feel like Alices tea party, with the clock stopped at tea time. She certainly hasnt come round yet.</td>\n",
       "      <td>35755100</td>\n",
       "      <td>[0, 574, 2580, 486, 24, 12085, 11, 2108, 35607, 4, 374, 296, 5, 796, 1505, 788, 362, 943, 2402, 7, 19770, 5, 24860, 866, 6, 217, 10, 617, 847, 11, 41, 773, 731, 14, 16, 416, 874, 4276, 4, 2612, 16, 42, 98, 8372, 116, 9387, 59, 99, 773, 16, 4, 20, 10007, 1516, 1199, 773, 13, 2455, 951, 1493, 7, 304, 49, 418, 4, 125, 77, 5, 731, 1411, 874, 4276, 5, 1291, 16, 1224, 15, 63, 471, 4, 20, 10007, 16, 122, 2746, 5, 31545, 4, 2612, 74, 1268, 109, 14, 116, 993, 2188, 874, 4, 1525, 768, ...]</td>\n",
       "      <td>[0, 133, 720, 613, 467, 16, 13228, 5206, 617, 88, 5, 11676, 232, 9, 2430, 773, 1162, 4, 2]</td>\n",
       "      <td>The global financial system is venturing further into the bizarre world of negative interest rates.</td>\n",
       "    </tr>\n",
       "    <tr>\n",
       "      <th>4</th>\n",
       "      <td>[1, 1, 1, 1, 1, 1, 1, 1, 1, 1, 1, 1, 1, 1, 1, 1, 1, 1, 1, 1, 1, 1, 1, 1, 1, 1, 1, 1, 1, 1, 1, 1, 1, 1, 1, 1, 1, 1, 1, 1, 1, 1, 1, 1, 1, 1, 1, 1, 1, 1, 1, 1, 1, 1, 1, 1, 1, 1, 1, 1, 1, 1, 1, 1, 1, 1, 1, 1, 1, 1, 1, 1, 1, 1, 1, 1, 1, 1, 1, 1, 1, 1, 1, 1, 1, 1, 1, 1, 1, 1, 1, 1, 1, 1, 1, 1, 1, 1, 1, 1, ...]</td>\n",
       "      <td>Media playback is unsupported on your device 18 June 2015 Last updated at 15:10 BST All the big gaming companies including Microsoft, Nintendo and Sony are showing off what theyve been working on. Virtual reality usually involves putting on some glasses that contain video screens. The specs give you the impression youre in a totally different world, that changes as you look around the room. For years, virtual reality has been tipped as the next big thing in technology - but now it looks like it might finally be ready for action. Radio 1 reporter Steffan Powell sent us this report from E3.</td>\n",
       "      <td>33189100</td>\n",
       "      <td>[0, 18801, 20083, 16, 30604, 15, 110, 2187, 504, 502, 570, 1426, 4752, 23, 379, 35, 698, 28964, 404, 5, 380, 6548, 451, 217, 3709, 6, 10396, 8, 6366, 32, 2018, 160, 99, 51, 548, 57, 447, 15, 4, 21741, 2015, 2333, 6890, 2057, 15, 103, 11121, 14, 5585, 569, 8545, 4, 20, 21634, 492, 47, 5, 8450, 47, 241, 11, 10, 4940, 430, 232, 6, 14, 1022, 25, 47, 356, 198, 5, 929, 4, 286, 107, 6, 6229, 2015, 34, 57, 13402, 25, 5, 220, 380, 631, 11, 806, 111, 53, 122, 24, 1326, 101, 24, 429, 1747, 28, ...]</td>\n",
       "      <td>[0, 45313, 2320, 32, 15924, 10, 380, 499, 13, 6229, 2015, 23, 381, 246, 111, 5, 232, 18, 934, 8825, 13, 426, 4, 2]</td>\n",
       "      <td>Gaming experts are predicting a big future for virtual reality at E3 - the world's biggest convention for games.</td>\n",
       "    </tr>\n",
       "  </tbody>\n",
       "</table>"
      ],
      "text/plain": [
       "<IPython.core.display.HTML object>"
      ]
     },
     "metadata": {},
     "output_type": "display_data"
    },
    {
     "data": {
      "text/html": [
       "<table border=\"1\" class=\"dataframe\">\n",
       "  <thead>\n",
       "    <tr style=\"text-align: right;\">\n",
       "      <th></th>\n",
       "      <th>attention_mask</th>\n",
       "      <th>document</th>\n",
       "      <th>id</th>\n",
       "      <th>input_ids</th>\n",
       "      <th>labels</th>\n",
       "      <th>summary</th>\n",
       "    </tr>\n",
       "  </thead>\n",
       "  <tbody>\n",
       "    <tr>\n",
       "      <th>0</th>\n",
       "      <td>[1, 1, 1, 1, 1, 1, 1, 1, 1, 1, 1, 1, 1, 1, 1, 1, 1, 1, 1, 1, 1, 1, 1, 1, 1, 1, 1, 1, 1, 1, 1, 1, 1, 1, 1, 1, 1, 1, 1, 1, 1, 1, 1, 1, 1, 1, 1, 1, 1, 1, 1, 1, 1, 1, 1, 1, 1, 1, 1, 1, 1, 1, 1, 1, 1, 1, 1, 1, 1, 1, 1, 1, 1, 1, 1, 1, 1, 1, 1, 1, 1, 1, 1, 1, 1, 1, 1, 1, 1, 1, 1, 1, 1, 1, 1, 1, 1, 1, 1, 1, ...]</td>\n",
       "      <td>Mark Mason, 48, of Rhyl, Denbighshire, was stabbed to death in the car park of the towns Home Bargains on 27 October. James Davies, 20, was convicted of murder, and Anthony Baines, 30, and Mark Ennis, 30 were convicted of manslaughter at Mold Crown Court. Jake Melia, 21, previously admitted the charges and the four will be sentenced in June. Davies, Baines and Ennis, all from Liverpool, denied murdering Mr Mason. They also denied maliciously wounding Justin Trickett and Sam Illidge - who were in the same vehicle as Mr Mason -  with intent to inflict grievous bodily harm. Mr Trickett and Mr Illidge were also stabbed in the attack, but their wounds were less severe. Baines was found guilty of one count of wounding, but Davies and Ennis were cleared of those charges. Mrs Justice Nicola Davies remanded all three in custody until sentencing, which she said would take place over three days. The trial heard the attack was the result of a turf war which had erupted between two rival gangs over the control of the drugs trade in Rhyl. Paul Lewis QC, prosecuting, told the trial Mr Mason, a father of two, was repeatedly and fatally stabbed by the three defendants and Melia as he sat in the passenger seat of a van in the car park. He was stabbed 22 times in less than a minute. The four killers were members of the Pensarn Crew, sometimes called Stes Crew, Mr Lewis said. Mr Mason, Mr Trickett and Mr Illidge were members of Marks Crew, or Marcos Crew - although it was not suggested Mr Mason was the leader. The fatal attack appears to have been an act of retribution on the part of the defendants and Melia, said Mr Lewis. Jurors were shown CCTV footage of a white Renault van near The Cob area of Rhyl on the afternoon of 27 October which showed the white van being stopped by a black BMW 4X4. Shouts of stab him and kill him could be heard. The prosecution said the killing was retribution for an earlier incident when Melia and Davies were said to have been chased by masked armed men while drug dealing in the area.</td>\n",
       "      <td>39998519</td>\n",
       "      <td>[0, 10006, 7332, 6, 2929, 6, 9, 8778, 4360, 6, 6743, 428, 8774, 9959, 6, 21, 9229, 7, 744, 11, 5, 512, 2221, 9, 5, 6815, 2193, 28876, 5069, 15, 974, 779, 4, 957, 12051, 6, 291, 6, 21, 3828, 9, 1900, 6, 8, 3173, 19758, 293, 6, 389, 6, 8, 1190, 2271, 10892, 6, 389, 58, 3828, 9, 14936, 23, 22013, 5748, 837, 4, 6469, 4448, 493, 6, 733, 6, 1433, 2641, 5, 1103, 8, 5, 237, 40, 28, 4018, 11, 502, 4, 12051, 6, 19758, 293, 8, 2271, 10892, 6, 70, 31, 3426, 6, 2296, 21725, 427, 7332, ...]</td>\n",
       "      <td>[0, 15622, 604, 33, 57, 303, 2181, 9, 2429, 10, 3429, 1262, 12269, 11, 10, 5188, 12, 3368, 13543, 908, 4, 2]</td>\n",
       "      <td>Three men have been found guilty of killing a rival drug dealer in a gang-related revenge attack.</td>\n",
       "    </tr>\n",
       "    <tr>\n",
       "      <th>1</th>\n",
       "      <td>[1, 1, 1, 1, 1, 1, 1, 1, 1, 1, 1, 1, 1, 1, 1, 1, 1, 1, 1, 1, 1, 1, 1, 1, 1, 1, 1, 1, 1, 1, 1, 1, 1, 1, 1, 1, 1, 1, 1, 1, 1, 1, 1, 1, 1, 1, 1, 1, 1, 1, 1, 1, 1, 1, 1, 1, 1, 1, 1, 1, 1, 1, 1, 1, 1, 1, 1, 1, 1, 1, 1, 1, 1, 1, 1, 1, 1, 1, 1, 1, 1, 1, 1, 1, 1, 1, 1, 1, 1, 1, 1, 1, 1, 1, 1, 1, 1, 1, 1, 1, ...]</td>\n",
       "      <td>The Tayside outfit lost both their games on their maiden outing at the showpiece finals in Nottingham over the weekend. But the Stars showed up well in the 4-2 semi-final defeat to Cardiff Devils and the 15-8 third-place match loss to Belfast Giants. Its been a great experience for our guys and hopefully next year we can come back here and learn from it, like Cardiff did, LeFebvre said. I had some time to reflect on Saturdays performance against Cardiff and Im so proud of my players. It was a dream start for us to go 2-0 up in the first period. It was always going to be a tough task keeping that pace up all game against a team like the Devils, who are rightfully league champions. But to be the first team from Dundee to make it to this weekend, its not to be sniffed at and Im proud of that. Dundee could hold their heads high after a great performance against the Devils in Saturdays semi-final, even if it was to end in a 4-2 defeat. Vinny Scarsella teed up Kevin Hart on the blue line and he fired his effort past Devils goalie Ben Bowns to open the scoring. Stars then went two up as Brett Switzers low diagonal shot beat Bowns at his bottom right hard corner. The Devils started to claw their way back into the game six minutes into the second period as Joey Haddad found space in front of Dundees goal to finish. The EIHL champions pulled level when Mark Louis reacted quickest to tuck in an equaliser. Devils completed the comeback with nine minutes left as Joey Martin put them 3-2 ahead before Andrew Hotham confirmed their place in Sundays final with a late empty-net goal. It meant an early start on Sunday for the Stars who had to face fellow beaten semi-finalists Belfast Giants, who had gone down 2-0 to eventual play-off winners Sheffield Steelers. The sides shared 23 goals with Justin Faryna netting two for Dundee, while Kevin Bruijsten, Joey Sides, Mikael Lidhammar, Matt White, Vinny Scarsella and Craig Moore were also on target for Stars. LeFebvre added: The third place game was a lot of fun I guess, but overall, we enjoyed the experience of being involved in this weekend. Both us and Belfast knew what we were in for in that game on Sunday and the pace of play there would be. It picked up a little bit in the latter stages. Its more an exhibition game for the fans. Lots of goals, not a lot of hits and penalties and some skills. But they have to figure something out about that game. If the league put something on the line for them, like some extra money, it might improve it as a spectacle and guys might go harder. Unfortunately, two teams have to play in that game and on this occasion, it was us and Belfast. Im sure after seeing that, the league may look at it. Sheffield Steelers took the silverware in an epic Sunday final, beating Cardiff Devils 6-5 after overtime in a game that lasted just under 95 minutes. Saturday Semi-finals Cardiff Devils 4-2 Dundee Stars Belfast Giants 0-2 Sheffield Steelers Sunday Third place play-off Belfast Giants 15-8 Dundee Stars Final Cardiff Devils 5 Sheffield Steelers 6 (OT)</td>\n",
       "      <td>39551711</td>\n",
       "      <td>[0, 133, 255, 4113, 1949, 7490, 685, 258, 49, 426, 15, 49, 17077, 9913, 23, 5, 311, 10449, 6688, 11, 17142, 81, 5, 983, 4, 125, 5, 7144, 969, 62, 157, 11, 5, 204, 12, 176, 4126, 12, 6156, 3002, 7, 12426, 9155, 8, 5, 379, 12, 398, 371, 12, 6406, 914, 872, 7, 14837, 4608, 4, 3139, 57, 10, 372, 676, 13, 84, 1669, 8, 5952, 220, 76, 52, 64, 283, 124, 259, 8, 1532, 31, 24, 6, 101, 12426, 222, 6, 1063, 20160, 29416, 26, 4, 38, 56, 103, 86, 7, 4227, 15, 18326, 819, 136, 12426, 8, ...]</td>\n",
       "      <td>[0, 495, 3194, 1942, 7144, 471, 704, 5908, 1063, 20160, 29416, 1991, 39, 526, 671, 7, 5, 310, 12, 1529, 6688, 220, 76, 25, 10, 203, 3651, 165, 4, 2]</td>\n",
       "      <td>Dundee Stars head coach Marc LeFebvre hopes his side return to the play-off finals next year as a much stronger team.</td>\n",
       "    </tr>\n",
       "    <tr>\n",
       "      <th>2</th>\n",
       "      <td>[1, 1, 1, 1, 1, 1, 1, 1, 1, 1, 1, 1, 1, 1, 1, 1, 1, 1, 1, 1, 1, 1, 1, 1, 1, 1, 1, 1, 1, 1, 1, 1, 1, 1, 1, 1, 1, 1, 1, 1, 1, 1, 1, 1, 1, 1, 1, 1, 1, 1, 1, 1, 1, 1, 1, 1, 1, 1, 1, 1, 1, 1, 1, 1, 1, 1, 1, 1, 1, 1, 1, 1, 1, 1, 1, 1, 1, 1, 1, 1, 1, 1, 1, 1, 1, 1, 1, 1, 1, 1, 1, 1, 1, 1, 1, 1, 1, 1, 1, 1, ...]</td>\n",
       "      <td>However, there were people in the TV industry who thought the cast would struggle to find work once their time on the show was up. Some of the actors were warned that they wouldnt be able to shake off their sulky, angry, teen characters. But when you look at the careers of Dev Patel and Jack OConnell for example, they couldnt have been more wrong. Kaya Scodelario was one of the longest-serving members of the cast, appearing in series one to four as Effy Stonem. She went on to appear in sci-fi thriller Maze Runner and is now in Australia filming the next instalment of Pirates of The Caribbean with Johnny Depp. Nicholas Hoult was the only member of the main cast who had serious acting experience. Hed starred in About a Boy with Hugh Grant in 2002. He has since gone on to play Beast in the X-Men prequels and will soon be seen starring opposite Kristen Stewart in a film called Equals. Dev Patels first job after playing Anwar Kharral in series one and two, took him from London to India and to the Oscars with Slumdog Millionaire. He told Newsbeat, he never would have got that role without Skins. My career started off because Danny Boyles daughter was a fan of the show, that is how I got an audition for Slumdog. He has two films out in cinemas at the moment, The Second Best Exotic Marigold Hotel with Dame Judi Dench and Chappie, starring alongside Sigourney Weaver and Hugh Jackman. Jack OConnell, who played Cook in series three and four, was hand-picked by Angelina Jolie to star in her most recent movie Unbroken. The 24-year-old also picked up the Rising Star Award at this years Baftas. Fans of Game of Thrones will be familiar with Joe Dempsie and Hannah Murray who play Gendry and Gilly respectively. It is, of course, not unusual for an actor from a British television show to find success in Hollywood films. What is unusual is the amount of stars that were discovered from one single teen drama on a digital channel. So how were the makers of Skins able to spot so many talented young actors? Co-creator Bryan Elsley told Newsbeat they made a conscious decision to hold open auditions. There are really good kids working from agencies and drama schools but just on that one occasion we decided to go a different way, he explained. We felt if we had young people playing characters the same age as themselves, and those actors werent too trained, it would have a more natural feel. It sounds quite risky, but Bryan said the show was such a small project to begin with, they were able to take that approach. Jack OConnell credits the whole team for the actors future success. I think they knew if they were going to identify that genre, that era, that generation, they needed people on the ground level, he said. A writing team that understood, they got that right first and then I guess they chose to cast exciting people. I feel very fortunate to be involved in the show but I dont think it was a coincidence that we all came through there. Piers Wenger is the head of drama at Channel 4 and he thinks it was the opportunities the cast had to stretch themselves that helped nurture their talent. They had the opportunity to do properly complex [roles], rather than just two dimensional ones, he said. It is extraordinary, in the past soap operas had been the sort of places where young people had been able to do their first job. That would have been your only break, but times are changing. I think thanks to shows like Skins, unconventional approaches to casting are becoming more and more common. Follow @BBCNewsbeat on Twitter, BBCNewsbeat on Instagram and Radio1Newsbeat on YouTube</td>\n",
       "      <td>31873298</td>\n",
       "      <td>[0, 10462, 6, 89, 58, 82, 11, 5, 1012, 539, 54, 802, 5, 2471, 74, 3860, 7, 465, 173, 683, 49, 86, 15, 5, 311, 21, 62, 4, 993, 9, 5, 5552, 58, 2449, 14, 51, 74, 3999, 28, 441, 7, 8559, 160, 49, 26648, 4122, 6, 5800, 6, 6066, 3768, 4, 125, 77, 47, 356, 23, 5, 8478, 9, 7439, 12717, 8, 2722, 384, 28317, 13, 1246, 6, 51, 115, 3999, 33, 57, 55, 1593, 4, 229, 5210, 2741, 1630, 523, 7718, 21, 65, 9, 5, 6463, 12, 20017, 453, 9, 5, 2471, 6, 8165, 11, 651, 65, 7, ...]</td>\n",
       "      <td>[0, 717, 306, 18, 6066, 4149, 4058, 1344, 351, 3617, 4188, 8, 3491, 10, 12308, 511, 81, 63, 707, 651, 4, 2]</td>\n",
       "      <td>E4's teen drama Skins won numerous awards and gained a cult following over its seven series.</td>\n",
       "    </tr>\n",
       "    <tr>\n",
       "      <th>3</th>\n",
       "      <td>[1, 1, 1, 1, 1, 1, 1, 1, 1, 1, 1, 1, 1, 1, 1, 1, 1, 1, 1, 1, 1, 1, 1, 1, 1, 1, 1, 1, 1, 1, 1, 1, 1, 1, 1, 1, 1, 1, 1, 1, 1, 1, 1, 1, 1, 1, 1, 1, 1, 1, 1, 1, 1, 1, 1, 1, 1, 1, 1, 1, 1, 1, 1, 1, 1, 1, 1, 1, 1, 1, 1, 1, 1, 1, 1, 1, 1, 1, 1, 1, 1, 1, 1, 1, 1, 1, 1, 1, 1, 1, 1, 1, 1, 1, 1, 1, 1, 1, 1, 1, ...]</td>\n",
       "      <td>Lets call it Alice in Financial Wonderland. On Thursday the European Central Bank took additional steps to stimulate the eurozone economy, including a further cut in an interest rate that is already below zero. Why is this so odd? Think about what interest is. The lender gets paid interest for allowing someone else to use their money. But when the rate goes below zero the relationship is turned on its head. The lender is now paying the borrower. Why would anyone do that? Some reasons below. Of course, this situation only applies to a limited number of financial relationships. No-one will pay you to spend on your credit card. But this unusual state of affairs does exist. The ECBs deposit rate, which applies to money parked overnight by commercial banks, is now minus 0.4%. Does that make the ECB president Mario Draghi the white rabbit - the one who led Alice into Lewis Carrolls subterranean fantasy world? Or perhaps there is a whole family with fluffy tails whose warrens extend to the central banks of Japan and several European countries, which have similar policies. These negative rates are the policy decisions taken by a handful of central banks. But the phenomenon has also affected the bond market, where investors buy and sell the bonds or debts of governments and large companies. The cost of borrowing is set when the bonds are issued. It depends on how much the financial firms who buy the bonds pay for them - what they are buying is a promise to make a series of payments in the future. If the price is high enough, the borrowing cost, in effect the interest rate, can be zero or even negative. Last week the bond market took a new step down the financial rabbit hole. Japan is the first government among the G20 major economies to borrow money by issuing bonds for 10 years at an interest rate of less than zero. Its true that several other countries have done it for shorter periods and Switzerland (which is not a G20 member) has already done it for 10-year borrowing. But Japan being paid to borrow money for 10 years is nonetheless a remarkable development. Its a much bigger economy than Switzerland, with a much larger government debt - much larger even in relation to its economy. The usual pattern with borrowing costs is the longer you borrow for the more you have to pay. So a negative 10-year cost is a striking thing. Its worth emphasising the distinction between the two contexts in which we have negative rates. One is central banks making a judgement about what is best for economic growth employment and inflation. The other is private investors accepting a negative return on an asset, which is arguably much the stranger of the two. So why do they? Accepting a pitifully low positive rate is one thing: it is better than nothing. But if the rate on offer is negative, then zero, or just sitting on the cash looks preferable. With the latest government debt sale in Japan, one reason is thought to be investors buying the bonds with a view to selling them later when the central bank goes into the market as part of its quantitative easing programme, which involves buying financial assets with newly created money. In other cases, banks have been more willing to buy bonds with negative returns because they are charged by the central bank if they deposit excess funds. In some cases, foreign investors think they can make money if the currency rises enough to compensate for the negative yield. With central banks in the developed economies it is a policy choice to have kept their official interest rates very low - below zero in a few cases. One of the key reasons is something else that is also very strange - at least by the standards of the relatively recent past. Inflation, in the judgement of central banks in the main developed economies, is too low. At times it too has been below zero, but in the US, Japan, the eurozone and the UK even when above zero it has been well below the central banks targets of 2% or thereabouts. Central banks failure to get back to the target and the persistence of sluggish economic growth in the eurozone and Japan has led them to try increasingly unorthodox policies: quantitative easing and negative interest rates. The underlying idea is much the same as cutting interest rates in more normal times. The aim is to encourage more borrowing and spending by firms and households. Central bank rates do not completely determine the cost of such borrowing, but they are a major factor. Or at least they usually are. There are some concerns that when central bank rates go negative, they have less impact on lending rates in the private sector beyond the money markets. A review by economists at the Bank for International Settlements said: Questions remain as to whether negative policy rates are transmitted to the wider economy through lower lending rates for firms and households. There are also concerns that they make it harder for banks to lend profitably. The obvious alternative is fiscal policy - government spending and taxes. But governments in the west have been reluctant to use this approach, due to concerns about increasing government debt, although critics say those worries are misplaced. So how long before we emerge from Financial Wonderland? There was a period last year when there were some signs that things might be starting to return to normal. The clearest indication of that was the decision by the Federal Reserve in December to raise US interest rates from essentially zero. The expectation then was there would be several more hikes this year. However, this glimmer of financial normality - signs of Alice the banker regaining consciousness perhaps - didnt last. Now the markets think it is more likely that the Fed will raise rates again just once or twice this year. The prospect of any such action by the other major central banks has receded into the more distant future. More than seven years on from the most intense phase of the financial crisis, the aftermath is still with us. Some things clearly have improved. Unemployment is low in the US, Britain, and Germany and the eurozone is no longer in imminent danger of chaotic disintegration. But there are many weaknesses and the unusual financial conditions will not return to normal for a while. Its getting to feel like Alices tea party, with the clock stopped at tea time. She certainly hasnt come round yet.</td>\n",
       "      <td>35755100</td>\n",
       "      <td>[0, 574, 2580, 486, 24, 12085, 11, 2108, 35607, 4, 374, 296, 5, 796, 1505, 788, 362, 943, 2402, 7, 19770, 5, 24860, 866, 6, 217, 10, 617, 847, 11, 41, 773, 731, 14, 16, 416, 874, 4276, 4, 2612, 16, 42, 98, 8372, 116, 9387, 59, 99, 773, 16, 4, 20, 10007, 1516, 1199, 773, 13, 2455, 951, 1493, 7, 304, 49, 418, 4, 125, 77, 5, 731, 1411, 874, 4276, 5, 1291, 16, 1224, 15, 63, 471, 4, 20, 10007, 16, 122, 2746, 5, 31545, 4, 2612, 74, 1268, 109, 14, 116, 993, 2188, 874, 4, 1525, 768, ...]</td>\n",
       "      <td>[0, 133, 720, 613, 467, 16, 13228, 5206, 617, 88, 5, 11676, 232, 9, 2430, 773, 1162, 4, 2]</td>\n",
       "      <td>The global financial system is venturing further into the bizarre world of negative interest rates.</td>\n",
       "    </tr>\n",
       "    <tr>\n",
       "      <th>4</th>\n",
       "      <td>[1, 1, 1, 1, 1, 1, 1, 1, 1, 1, 1, 1, 1, 1, 1, 1, 1, 1, 1, 1, 1, 1, 1, 1, 1, 1, 1, 1, 1, 1, 1, 1, 1, 1, 1, 1, 1, 1, 1, 1, 1, 1, 1, 1, 1, 1, 1, 1, 1, 1, 1, 1, 1, 1, 1, 1, 1, 1, 1, 1, 1, 1, 1, 1, 1, 1, 1, 1, 1, 1, 1, 1, 1, 1, 1, 1, 1, 1, 1, 1, 1, 1, 1, 1, 1, 1, 1, 1, 1, 1, 1, 1, 1, 1, 1, 1, 1, 1, 1, 1, ...]</td>\n",
       "      <td>Media playback is unsupported on your device 18 June 2015 Last updated at 15:10 BST All the big gaming companies including Microsoft, Nintendo and Sony are showing off what theyve been working on. Virtual reality usually involves putting on some glasses that contain video screens. The specs give you the impression youre in a totally different world, that changes as you look around the room. For years, virtual reality has been tipped as the next big thing in technology - but now it looks like it might finally be ready for action. Radio 1 reporter Steffan Powell sent us this report from E3.</td>\n",
       "      <td>33189100</td>\n",
       "      <td>[0, 18801, 20083, 16, 30604, 15, 110, 2187, 504, 502, 570, 1426, 4752, 23, 379, 35, 698, 28964, 404, 5, 380, 6548, 451, 217, 3709, 6, 10396, 8, 6366, 32, 2018, 160, 99, 51, 548, 57, 447, 15, 4, 21741, 2015, 2333, 6890, 2057, 15, 103, 11121, 14, 5585, 569, 8545, 4, 20, 21634, 492, 47, 5, 8450, 47, 241, 11, 10, 4940, 430, 232, 6, 14, 1022, 25, 47, 356, 198, 5, 929, 4, 286, 107, 6, 6229, 2015, 34, 57, 13402, 25, 5, 220, 380, 631, 11, 806, 111, 53, 122, 24, 1326, 101, 24, 429, 1747, 28, ...]</td>\n",
       "      <td>[0, 45313, 2320, 32, 15924, 10, 380, 499, 13, 6229, 2015, 23, 381, 246, 111, 5, 232, 18, 934, 8825, 13, 426, 4, 2]</td>\n",
       "      <td>Gaming experts are predicting a big future for virtual reality at E3 - the world's biggest convention for games.</td>\n",
       "    </tr>\n",
       "  </tbody>\n",
       "</table>"
      ],
      "text/plain": [
       "<IPython.core.display.HTML object>"
      ]
     },
     "metadata": {},
     "output_type": "display_data"
    },
    {
     "data": {
      "text/html": [
       "<table border=\"1\" class=\"dataframe\">\n",
       "  <thead>\n",
       "    <tr style=\"text-align: right;\">\n",
       "      <th></th>\n",
       "      <th>attention_mask</th>\n",
       "      <th>document</th>\n",
       "      <th>id</th>\n",
       "      <th>input_ids</th>\n",
       "      <th>labels</th>\n",
       "      <th>summary</th>\n",
       "    </tr>\n",
       "  </thead>\n",
       "  <tbody>\n",
       "    <tr>\n",
       "      <th>0</th>\n",
       "      <td>[1, 1, 1, 1, 1, 1, 1, 1, 1, 1, 1, 1, 1, 1, 1, 1, 1, 1, 1, 1, 1, 1, 1, 1, 1, 1, 1, 1, 1, 1, 1, 1, 1, 1, 1, 1, 1, 1, 1, 1, 1, 1, 1, 1, 1, 1, 1, 1, 1, 1, 1, 1, 1, 1, 1, 1, 1, 1, 1, 1, 1, 1, 1, 1, 1, 1, 1, 1, 1, 1, 1, 1, 1, 1, 1, 1, 1, 1, 1, 1, 1, 1, 1, 1, 1, 1, 1, 1, 1, 1, 1, 1, 1, 1, 1, 1, 1, 1, 1, 1, ...]</td>\n",
       "      <td>Mark Mason, 48, of Rhyl, Denbighshire, was stabbed to death in the car park of the towns Home Bargains on 27 October. James Davies, 20, was convicted of murder, and Anthony Baines, 30, and Mark Ennis, 30 were convicted of manslaughter at Mold Crown Court. Jake Melia, 21, previously admitted the charges and the four will be sentenced in June. Davies, Baines and Ennis, all from Liverpool, denied murdering Mr Mason. They also denied maliciously wounding Justin Trickett and Sam Illidge - who were in the same vehicle as Mr Mason -  with intent to inflict grievous bodily harm. Mr Trickett and Mr Illidge were also stabbed in the attack, but their wounds were less severe. Baines was found guilty of one count of wounding, but Davies and Ennis were cleared of those charges. Mrs Justice Nicola Davies remanded all three in custody until sentencing, which she said would take place over three days. The trial heard the attack was the result of a turf war which had erupted between two rival gangs over the control of the drugs trade in Rhyl. Paul Lewis QC, prosecuting, told the trial Mr Mason, a father of two, was repeatedly and fatally stabbed by the three defendants and Melia as he sat in the passenger seat of a van in the car park. He was stabbed 22 times in less than a minute. The four killers were members of the Pensarn Crew, sometimes called Stes Crew, Mr Lewis said. Mr Mason, Mr Trickett and Mr Illidge were members of Marks Crew, or Marcos Crew - although it was not suggested Mr Mason was the leader. The fatal attack appears to have been an act of retribution on the part of the defendants and Melia, said Mr Lewis. Jurors were shown CCTV footage of a white Renault van near The Cob area of Rhyl on the afternoon of 27 October which showed the white van being stopped by a black BMW 4X4. Shouts of stab him and kill him could be heard. The prosecution said the killing was retribution for an earlier incident when Melia and Davies were said to have been chased by masked armed men while drug dealing in the area.</td>\n",
       "      <td>39998519</td>\n",
       "      <td>[0, 10006, 7332, 6, 2929, 6, 9, 8778, 4360, 6, 6743, 428, 8774, 9959, 6, 21, 9229, 7, 744, 11, 5, 512, 2221, 9, 5, 6815, 2193, 28876, 5069, 15, 974, 779, 4, 957, 12051, 6, 291, 6, 21, 3828, 9, 1900, 6, 8, 3173, 19758, 293, 6, 389, 6, 8, 1190, 2271, 10892, 6, 389, 58, 3828, 9, 14936, 23, 22013, 5748, 837, 4, 6469, 4448, 493, 6, 733, 6, 1433, 2641, 5, 1103, 8, 5, 237, 40, 28, 4018, 11, 502, 4, 12051, 6, 19758, 293, 8, 2271, 10892, 6, 70, 31, 3426, 6, 2296, 21725, 427, 7332, ...]</td>\n",
       "      <td>[0, 15622, 604, 33, 57, 303, 2181, 9, 2429, 10, 3429, 1262, 12269, 11, 10, 5188, 12, 3368, 13543, 908, 4, 2]</td>\n",
       "      <td>Three men have been found guilty of killing a rival drug dealer in a gang-related revenge attack.</td>\n",
       "    </tr>\n",
       "    <tr>\n",
       "      <th>1</th>\n",
       "      <td>[1, 1, 1, 1, 1, 1, 1, 1, 1, 1, 1, 1, 1, 1, 1, 1, 1, 1, 1, 1, 1, 1, 1, 1, 1, 1, 1, 1, 1, 1, 1, 1, 1, 1, 1, 1, 1, 1, 1, 1, 1, 1, 1, 1, 1, 1, 1, 1, 1, 1, 1, 1, 1, 1, 1, 1, 1, 1, 1, 1, 1, 1, 1, 1, 1, 1, 1, 1, 1, 1, 1, 1, 1, 1, 1, 1, 1, 1, 1, 1, 1, 1, 1, 1, 1, 1, 1, 1, 1, 1, 1, 1, 1, 1, 1, 1, 1, 1, 1, 1, ...]</td>\n",
       "      <td>The Tayside outfit lost both their games on their maiden outing at the showpiece finals in Nottingham over the weekend. But the Stars showed up well in the 4-2 semi-final defeat to Cardiff Devils and the 15-8 third-place match loss to Belfast Giants. Its been a great experience for our guys and hopefully next year we can come back here and learn from it, like Cardiff did, LeFebvre said. I had some time to reflect on Saturdays performance against Cardiff and Im so proud of my players. It was a dream start for us to go 2-0 up in the first period. It was always going to be a tough task keeping that pace up all game against a team like the Devils, who are rightfully league champions. But to be the first team from Dundee to make it to this weekend, its not to be sniffed at and Im proud of that. Dundee could hold their heads high after a great performance against the Devils in Saturdays semi-final, even if it was to end in a 4-2 defeat. Vinny Scarsella teed up Kevin Hart on the blue line and he fired his effort past Devils goalie Ben Bowns to open the scoring. Stars then went two up as Brett Switzers low diagonal shot beat Bowns at his bottom right hard corner. The Devils started to claw their way back into the game six minutes into the second period as Joey Haddad found space in front of Dundees goal to finish. The EIHL champions pulled level when Mark Louis reacted quickest to tuck in an equaliser. Devils completed the comeback with nine minutes left as Joey Martin put them 3-2 ahead before Andrew Hotham confirmed their place in Sundays final with a late empty-net goal. It meant an early start on Sunday for the Stars who had to face fellow beaten semi-finalists Belfast Giants, who had gone down 2-0 to eventual play-off winners Sheffield Steelers. The sides shared 23 goals with Justin Faryna netting two for Dundee, while Kevin Bruijsten, Joey Sides, Mikael Lidhammar, Matt White, Vinny Scarsella and Craig Moore were also on target for Stars. LeFebvre added: The third place game was a lot of fun I guess, but overall, we enjoyed the experience of being involved in this weekend. Both us and Belfast knew what we were in for in that game on Sunday and the pace of play there would be. It picked up a little bit in the latter stages. Its more an exhibition game for the fans. Lots of goals, not a lot of hits and penalties and some skills. But they have to figure something out about that game. If the league put something on the line for them, like some extra money, it might improve it as a spectacle and guys might go harder. Unfortunately, two teams have to play in that game and on this occasion, it was us and Belfast. Im sure after seeing that, the league may look at it. Sheffield Steelers took the silverware in an epic Sunday final, beating Cardiff Devils 6-5 after overtime in a game that lasted just under 95 minutes. Saturday Semi-finals Cardiff Devils 4-2 Dundee Stars Belfast Giants 0-2 Sheffield Steelers Sunday Third place play-off Belfast Giants 15-8 Dundee Stars Final Cardiff Devils 5 Sheffield Steelers 6 (OT)</td>\n",
       "      <td>39551711</td>\n",
       "      <td>[0, 133, 255, 4113, 1949, 7490, 685, 258, 49, 426, 15, 49, 17077, 9913, 23, 5, 311, 10449, 6688, 11, 17142, 81, 5, 983, 4, 125, 5, 7144, 969, 62, 157, 11, 5, 204, 12, 176, 4126, 12, 6156, 3002, 7, 12426, 9155, 8, 5, 379, 12, 398, 371, 12, 6406, 914, 872, 7, 14837, 4608, 4, 3139, 57, 10, 372, 676, 13, 84, 1669, 8, 5952, 220, 76, 52, 64, 283, 124, 259, 8, 1532, 31, 24, 6, 101, 12426, 222, 6, 1063, 20160, 29416, 26, 4, 38, 56, 103, 86, 7, 4227, 15, 18326, 819, 136, 12426, 8, ...]</td>\n",
       "      <td>[0, 495, 3194, 1942, 7144, 471, 704, 5908, 1063, 20160, 29416, 1991, 39, 526, 671, 7, 5, 310, 12, 1529, 6688, 220, 76, 25, 10, 203, 3651, 165, 4, 2]</td>\n",
       "      <td>Dundee Stars head coach Marc LeFebvre hopes his side return to the play-off finals next year as a much stronger team.</td>\n",
       "    </tr>\n",
       "    <tr>\n",
       "      <th>2</th>\n",
       "      <td>[1, 1, 1, 1, 1, 1, 1, 1, 1, 1, 1, 1, 1, 1, 1, 1, 1, 1, 1, 1, 1, 1, 1, 1, 1, 1, 1, 1, 1, 1, 1, 1, 1, 1, 1, 1, 1, 1, 1, 1, 1, 1, 1, 1, 1, 1, 1, 1, 1, 1, 1, 1, 1, 1, 1, 1, 1, 1, 1, 1, 1, 1, 1, 1, 1, 1, 1, 1, 1, 1, 1, 1, 1, 1, 1, 1, 1, 1, 1, 1, 1, 1, 1, 1, 1, 1, 1, 1, 1, 1, 1, 1, 1, 1, 1, 1, 1, 1, 1, 1, ...]</td>\n",
       "      <td>However, there were people in the TV industry who thought the cast would struggle to find work once their time on the show was up. Some of the actors were warned that they wouldnt be able to shake off their sulky, angry, teen characters. But when you look at the careers of Dev Patel and Jack OConnell for example, they couldnt have been more wrong. Kaya Scodelario was one of the longest-serving members of the cast, appearing in series one to four as Effy Stonem. She went on to appear in sci-fi thriller Maze Runner and is now in Australia filming the next instalment of Pirates of The Caribbean with Johnny Depp. Nicholas Hoult was the only member of the main cast who had serious acting experience. Hed starred in About a Boy with Hugh Grant in 2002. He has since gone on to play Beast in the X-Men prequels and will soon be seen starring opposite Kristen Stewart in a film called Equals. Dev Patels first job after playing Anwar Kharral in series one and two, took him from London to India and to the Oscars with Slumdog Millionaire. He told Newsbeat, he never would have got that role without Skins. My career started off because Danny Boyles daughter was a fan of the show, that is how I got an audition for Slumdog. He has two films out in cinemas at the moment, The Second Best Exotic Marigold Hotel with Dame Judi Dench and Chappie, starring alongside Sigourney Weaver and Hugh Jackman. Jack OConnell, who played Cook in series three and four, was hand-picked by Angelina Jolie to star in her most recent movie Unbroken. The 24-year-old also picked up the Rising Star Award at this years Baftas. Fans of Game of Thrones will be familiar with Joe Dempsie and Hannah Murray who play Gendry and Gilly respectively. It is, of course, not unusual for an actor from a British television show to find success in Hollywood films. What is unusual is the amount of stars that were discovered from one single teen drama on a digital channel. So how were the makers of Skins able to spot so many talented young actors? Co-creator Bryan Elsley told Newsbeat they made a conscious decision to hold open auditions. There are really good kids working from agencies and drama schools but just on that one occasion we decided to go a different way, he explained. We felt if we had young people playing characters the same age as themselves, and those actors werent too trained, it would have a more natural feel. It sounds quite risky, but Bryan said the show was such a small project to begin with, they were able to take that approach. Jack OConnell credits the whole team for the actors future success. I think they knew if they were going to identify that genre, that era, that generation, they needed people on the ground level, he said. A writing team that understood, they got that right first and then I guess they chose to cast exciting people. I feel very fortunate to be involved in the show but I dont think it was a coincidence that we all came through there. Piers Wenger is the head of drama at Channel 4 and he thinks it was the opportunities the cast had to stretch themselves that helped nurture their talent. They had the opportunity to do properly complex [roles], rather than just two dimensional ones, he said. It is extraordinary, in the past soap operas had been the sort of places where young people had been able to do their first job. That would have been your only break, but times are changing. I think thanks to shows like Skins, unconventional approaches to casting are becoming more and more common. Follow @BBCNewsbeat on Twitter, BBCNewsbeat on Instagram and Radio1Newsbeat on YouTube</td>\n",
       "      <td>31873298</td>\n",
       "      <td>[0, 10462, 6, 89, 58, 82, 11, 5, 1012, 539, 54, 802, 5, 2471, 74, 3860, 7, 465, 173, 683, 49, 86, 15, 5, 311, 21, 62, 4, 993, 9, 5, 5552, 58, 2449, 14, 51, 74, 3999, 28, 441, 7, 8559, 160, 49, 26648, 4122, 6, 5800, 6, 6066, 3768, 4, 125, 77, 47, 356, 23, 5, 8478, 9, 7439, 12717, 8, 2722, 384, 28317, 13, 1246, 6, 51, 115, 3999, 33, 57, 55, 1593, 4, 229, 5210, 2741, 1630, 523, 7718, 21, 65, 9, 5, 6463, 12, 20017, 453, 9, 5, 2471, 6, 8165, 11, 651, 65, 7, ...]</td>\n",
       "      <td>[0, 717, 306, 18, 6066, 4149, 4058, 1344, 351, 3617, 4188, 8, 3491, 10, 12308, 511, 81, 63, 707, 651, 4, 2]</td>\n",
       "      <td>E4's teen drama Skins won numerous awards and gained a cult following over its seven series.</td>\n",
       "    </tr>\n",
       "    <tr>\n",
       "      <th>3</th>\n",
       "      <td>[1, 1, 1, 1, 1, 1, 1, 1, 1, 1, 1, 1, 1, 1, 1, 1, 1, 1, 1, 1, 1, 1, 1, 1, 1, 1, 1, 1, 1, 1, 1, 1, 1, 1, 1, 1, 1, 1, 1, 1, 1, 1, 1, 1, 1, 1, 1, 1, 1, 1, 1, 1, 1, 1, 1, 1, 1, 1, 1, 1, 1, 1, 1, 1, 1, 1, 1, 1, 1, 1, 1, 1, 1, 1, 1, 1, 1, 1, 1, 1, 1, 1, 1, 1, 1, 1, 1, 1, 1, 1, 1, 1, 1, 1, 1, 1, 1, 1, 1, 1, ...]</td>\n",
       "      <td>Lets call it Alice in Financial Wonderland. On Thursday the European Central Bank took additional steps to stimulate the eurozone economy, including a further cut in an interest rate that is already below zero. Why is this so odd? Think about what interest is. The lender gets paid interest for allowing someone else to use their money. But when the rate goes below zero the relationship is turned on its head. The lender is now paying the borrower. Why would anyone do that? Some reasons below. Of course, this situation only applies to a limited number of financial relationships. No-one will pay you to spend on your credit card. But this unusual state of affairs does exist. The ECBs deposit rate, which applies to money parked overnight by commercial banks, is now minus 0.4%. Does that make the ECB president Mario Draghi the white rabbit - the one who led Alice into Lewis Carrolls subterranean fantasy world? Or perhaps there is a whole family with fluffy tails whose warrens extend to the central banks of Japan and several European countries, which have similar policies. These negative rates are the policy decisions taken by a handful of central banks. But the phenomenon has also affected the bond market, where investors buy and sell the bonds or debts of governments and large companies. The cost of borrowing is set when the bonds are issued. It depends on how much the financial firms who buy the bonds pay for them - what they are buying is a promise to make a series of payments in the future. If the price is high enough, the borrowing cost, in effect the interest rate, can be zero or even negative. Last week the bond market took a new step down the financial rabbit hole. Japan is the first government among the G20 major economies to borrow money by issuing bonds for 10 years at an interest rate of less than zero. Its true that several other countries have done it for shorter periods and Switzerland (which is not a G20 member) has already done it for 10-year borrowing. But Japan being paid to borrow money for 10 years is nonetheless a remarkable development. Its a much bigger economy than Switzerland, with a much larger government debt - much larger even in relation to its economy. The usual pattern with borrowing costs is the longer you borrow for the more you have to pay. So a negative 10-year cost is a striking thing. Its worth emphasising the distinction between the two contexts in which we have negative rates. One is central banks making a judgement about what is best for economic growth employment and inflation. The other is private investors accepting a negative return on an asset, which is arguably much the stranger of the two. So why do they? Accepting a pitifully low positive rate is one thing: it is better than nothing. But if the rate on offer is negative, then zero, or just sitting on the cash looks preferable. With the latest government debt sale in Japan, one reason is thought to be investors buying the bonds with a view to selling them later when the central bank goes into the market as part of its quantitative easing programme, which involves buying financial assets with newly created money. In other cases, banks have been more willing to buy bonds with negative returns because they are charged by the central bank if they deposit excess funds. In some cases, foreign investors think they can make money if the currency rises enough to compensate for the negative yield. With central banks in the developed economies it is a policy choice to have kept their official interest rates very low - below zero in a few cases. One of the key reasons is something else that is also very strange - at least by the standards of the relatively recent past. Inflation, in the judgement of central banks in the main developed economies, is too low. At times it too has been below zero, but in the US, Japan, the eurozone and the UK even when above zero it has been well below the central banks targets of 2% or thereabouts. Central banks failure to get back to the target and the persistence of sluggish economic growth in the eurozone and Japan has led them to try increasingly unorthodox policies: quantitative easing and negative interest rates. The underlying idea is much the same as cutting interest rates in more normal times. The aim is to encourage more borrowing and spending by firms and households. Central bank rates do not completely determine the cost of such borrowing, but they are a major factor. Or at least they usually are. There are some concerns that when central bank rates go negative, they have less impact on lending rates in the private sector beyond the money markets. A review by economists at the Bank for International Settlements said: Questions remain as to whether negative policy rates are transmitted to the wider economy through lower lending rates for firms and households. There are also concerns that they make it harder for banks to lend profitably. The obvious alternative is fiscal policy - government spending and taxes. But governments in the west have been reluctant to use this approach, due to concerns about increasing government debt, although critics say those worries are misplaced. So how long before we emerge from Financial Wonderland? There was a period last year when there were some signs that things might be starting to return to normal. The clearest indication of that was the decision by the Federal Reserve in December to raise US interest rates from essentially zero. The expectation then was there would be several more hikes this year. However, this glimmer of financial normality - signs of Alice the banker regaining consciousness perhaps - didnt last. Now the markets think it is more likely that the Fed will raise rates again just once or twice this year. The prospect of any such action by the other major central banks has receded into the more distant future. More than seven years on from the most intense phase of the financial crisis, the aftermath is still with us. Some things clearly have improved. Unemployment is low in the US, Britain, and Germany and the eurozone is no longer in imminent danger of chaotic disintegration. But there are many weaknesses and the unusual financial conditions will not return to normal for a while. Its getting to feel like Alices tea party, with the clock stopped at tea time. She certainly hasnt come round yet.</td>\n",
       "      <td>35755100</td>\n",
       "      <td>[0, 574, 2580, 486, 24, 12085, 11, 2108, 35607, 4, 374, 296, 5, 796, 1505, 788, 362, 943, 2402, 7, 19770, 5, 24860, 866, 6, 217, 10, 617, 847, 11, 41, 773, 731, 14, 16, 416, 874, 4276, 4, 2612, 16, 42, 98, 8372, 116, 9387, 59, 99, 773, 16, 4, 20, 10007, 1516, 1199, 773, 13, 2455, 951, 1493, 7, 304, 49, 418, 4, 125, 77, 5, 731, 1411, 874, 4276, 5, 1291, 16, 1224, 15, 63, 471, 4, 20, 10007, 16, 122, 2746, 5, 31545, 4, 2612, 74, 1268, 109, 14, 116, 993, 2188, 874, 4, 1525, 768, ...]</td>\n",
       "      <td>[0, 133, 720, 613, 467, 16, 13228, 5206, 617, 88, 5, 11676, 232, 9, 2430, 773, 1162, 4, 2]</td>\n",
       "      <td>The global financial system is venturing further into the bizarre world of negative interest rates.</td>\n",
       "    </tr>\n",
       "    <tr>\n",
       "      <th>4</th>\n",
       "      <td>[1, 1, 1, 1, 1, 1, 1, 1, 1, 1, 1, 1, 1, 1, 1, 1, 1, 1, 1, 1, 1, 1, 1, 1, 1, 1, 1, 1, 1, 1, 1, 1, 1, 1, 1, 1, 1, 1, 1, 1, 1, 1, 1, 1, 1, 1, 1, 1, 1, 1, 1, 1, 1, 1, 1, 1, 1, 1, 1, 1, 1, 1, 1, 1, 1, 1, 1, 1, 1, 1, 1, 1, 1, 1, 1, 1, 1, 1, 1, 1, 1, 1, 1, 1, 1, 1, 1, 1, 1, 1, 1, 1, 1, 1, 1, 1, 1, 1, 1, 1, ...]</td>\n",
       "      <td>Media playback is unsupported on your device 18 June 2015 Last updated at 15:10 BST All the big gaming companies including Microsoft, Nintendo and Sony are showing off what theyve been working on. Virtual reality usually involves putting on some glasses that contain video screens. The specs give you the impression youre in a totally different world, that changes as you look around the room. For years, virtual reality has been tipped as the next big thing in technology - but now it looks like it might finally be ready for action. Radio 1 reporter Steffan Powell sent us this report from E3.</td>\n",
       "      <td>33189100</td>\n",
       "      <td>[0, 18801, 20083, 16, 30604, 15, 110, 2187, 504, 502, 570, 1426, 4752, 23, 379, 35, 698, 28964, 404, 5, 380, 6548, 451, 217, 3709, 6, 10396, 8, 6366, 32, 2018, 160, 99, 51, 548, 57, 447, 15, 4, 21741, 2015, 2333, 6890, 2057, 15, 103, 11121, 14, 5585, 569, 8545, 4, 20, 21634, 492, 47, 5, 8450, 47, 241, 11, 10, 4940, 430, 232, 6, 14, 1022, 25, 47, 356, 198, 5, 929, 4, 286, 107, 6, 6229, 2015, 34, 57, 13402, 25, 5, 220, 380, 631, 11, 806, 111, 53, 122, 24, 1326, 101, 24, 429, 1747, 28, ...]</td>\n",
       "      <td>[0, 45313, 2320, 32, 15924, 10, 380, 499, 13, 6229, 2015, 23, 381, 246, 111, 5, 232, 18, 934, 8825, 13, 426, 4, 2]</td>\n",
       "      <td>Gaming experts are predicting a big future for virtual reality at E3 - the world's biggest convention for games.</td>\n",
       "    </tr>\n",
       "  </tbody>\n",
       "</table>"
      ],
      "text/plain": [
       "<IPython.core.display.HTML object>"
      ]
     },
     "metadata": {},
     "output_type": "display_data"
    },
    {
     "data": {
      "text/html": [
       "<table border=\"1\" class=\"dataframe\">\n",
       "  <thead>\n",
       "    <tr style=\"text-align: right;\">\n",
       "      <th></th>\n",
       "      <th>attention_mask</th>\n",
       "      <th>document</th>\n",
       "      <th>id</th>\n",
       "      <th>input_ids</th>\n",
       "      <th>labels</th>\n",
       "      <th>summary</th>\n",
       "    </tr>\n",
       "  </thead>\n",
       "  <tbody>\n",
       "    <tr>\n",
       "      <th>0</th>\n",
       "      <td>[1, 1, 1, 1, 1, 1, 1, 1, 1, 1, 1, 1, 1, 1, 1, 1, 1, 1, 1, 1, 1, 1, 1, 1, 1, 1, 1, 1, 1, 1, 1, 1, 1, 1, 1, 1, 1, 1, 1, 1, 1, 1, 1, 1, 1, 1, 1, 1, 1, 1, 1, 1, 1, 1, 1, 1, 1, 1, 1, 1, 1, 1, 1, 1, 1, 1, 1, 1, 1, 1, 1, 1, 1, 1, 1, 1, 1, 1, 1, 1, 1, 1, 1, 1, 1, 1, 1, 1, 1, 1, 1, 1, 1, 1, 1, 1, 1, 1, 1, 1, ...]</td>\n",
       "      <td>Mark Mason, 48, of Rhyl, Denbighshire, was stabbed to death in the car park of the towns Home Bargains on 27 October. James Davies, 20, was convicted of murder, and Anthony Baines, 30, and Mark Ennis, 30 were convicted of manslaughter at Mold Crown Court. Jake Melia, 21, previously admitted the charges and the four will be sentenced in June. Davies, Baines and Ennis, all from Liverpool, denied murdering Mr Mason. They also denied maliciously wounding Justin Trickett and Sam Illidge - who were in the same vehicle as Mr Mason -  with intent to inflict grievous bodily harm. Mr Trickett and Mr Illidge were also stabbed in the attack, but their wounds were less severe. Baines was found guilty of one count of wounding, but Davies and Ennis were cleared of those charges. Mrs Justice Nicola Davies remanded all three in custody until sentencing, which she said would take place over three days. The trial heard the attack was the result of a turf war which had erupted between two rival gangs over the control of the drugs trade in Rhyl. Paul Lewis QC, prosecuting, told the trial Mr Mason, a father of two, was repeatedly and fatally stabbed by the three defendants and Melia as he sat in the passenger seat of a van in the car park. He was stabbed 22 times in less than a minute. The four killers were members of the Pensarn Crew, sometimes called Stes Crew, Mr Lewis said. Mr Mason, Mr Trickett and Mr Illidge were members of Marks Crew, or Marcos Crew - although it was not suggested Mr Mason was the leader. The fatal attack appears to have been an act of retribution on the part of the defendants and Melia, said Mr Lewis. Jurors were shown CCTV footage of a white Renault van near The Cob area of Rhyl on the afternoon of 27 October which showed the white van being stopped by a black BMW 4X4. Shouts of stab him and kill him could be heard. The prosecution said the killing was retribution for an earlier incident when Melia and Davies were said to have been chased by masked armed men while drug dealing in the area.</td>\n",
       "      <td>39998519</td>\n",
       "      <td>[0, 10006, 7332, 6, 2929, 6, 9, 8778, 4360, 6, 6743, 428, 8774, 9959, 6, 21, 9229, 7, 744, 11, 5, 512, 2221, 9, 5, 6815, 2193, 28876, 5069, 15, 974, 779, 4, 957, 12051, 6, 291, 6, 21, 3828, 9, 1900, 6, 8, 3173, 19758, 293, 6, 389, 6, 8, 1190, 2271, 10892, 6, 389, 58, 3828, 9, 14936, 23, 22013, 5748, 837, 4, 6469, 4448, 493, 6, 733, 6, 1433, 2641, 5, 1103, 8, 5, 237, 40, 28, 4018, 11, 502, 4, 12051, 6, 19758, 293, 8, 2271, 10892, 6, 70, 31, 3426, 6, 2296, 21725, 427, 7332, ...]</td>\n",
       "      <td>[0, 15622, 604, 33, 57, 303, 2181, 9, 2429, 10, 3429, 1262, 12269, 11, 10, 5188, 12, 3368, 13543, 908, 4, 2]</td>\n",
       "      <td>Three men have been found guilty of killing a rival drug dealer in a gang-related revenge attack.</td>\n",
       "    </tr>\n",
       "    <tr>\n",
       "      <th>1</th>\n",
       "      <td>[1, 1, 1, 1, 1, 1, 1, 1, 1, 1, 1, 1, 1, 1, 1, 1, 1, 1, 1, 1, 1, 1, 1, 1, 1, 1, 1, 1, 1, 1, 1, 1, 1, 1, 1, 1, 1, 1, 1, 1, 1, 1, 1, 1, 1, 1, 1, 1, 1, 1, 1, 1, 1, 1, 1, 1, 1, 1, 1, 1, 1, 1, 1, 1, 1, 1, 1, 1, 1, 1, 1, 1, 1, 1, 1, 1, 1, 1, 1, 1, 1, 1, 1, 1, 1, 1, 1, 1, 1, 1, 1, 1, 1, 1, 1, 1, 1, 1, 1, 1, ...]</td>\n",
       "      <td>The Tayside outfit lost both their games on their maiden outing at the showpiece finals in Nottingham over the weekend. But the Stars showed up well in the 4-2 semi-final defeat to Cardiff Devils and the 15-8 third-place match loss to Belfast Giants. Its been a great experience for our guys and hopefully next year we can come back here and learn from it, like Cardiff did, LeFebvre said. I had some time to reflect on Saturdays performance against Cardiff and Im so proud of my players. It was a dream start for us to go 2-0 up in the first period. It was always going to be a tough task keeping that pace up all game against a team like the Devils, who are rightfully league champions. But to be the first team from Dundee to make it to this weekend, its not to be sniffed at and Im proud of that. Dundee could hold their heads high after a great performance against the Devils in Saturdays semi-final, even if it was to end in a 4-2 defeat. Vinny Scarsella teed up Kevin Hart on the blue line and he fired his effort past Devils goalie Ben Bowns to open the scoring. Stars then went two up as Brett Switzers low diagonal shot beat Bowns at his bottom right hard corner. The Devils started to claw their way back into the game six minutes into the second period as Joey Haddad found space in front of Dundees goal to finish. The EIHL champions pulled level when Mark Louis reacted quickest to tuck in an equaliser. Devils completed the comeback with nine minutes left as Joey Martin put them 3-2 ahead before Andrew Hotham confirmed their place in Sundays final with a late empty-net goal. It meant an early start on Sunday for the Stars who had to face fellow beaten semi-finalists Belfast Giants, who had gone down 2-0 to eventual play-off winners Sheffield Steelers. The sides shared 23 goals with Justin Faryna netting two for Dundee, while Kevin Bruijsten, Joey Sides, Mikael Lidhammar, Matt White, Vinny Scarsella and Craig Moore were also on target for Stars. LeFebvre added: The third place game was a lot of fun I guess, but overall, we enjoyed the experience of being involved in this weekend. Both us and Belfast knew what we were in for in that game on Sunday and the pace of play there would be. It picked up a little bit in the latter stages. Its more an exhibition game for the fans. Lots of goals, not a lot of hits and penalties and some skills. But they have to figure something out about that game. If the league put something on the line for them, like some extra money, it might improve it as a spectacle and guys might go harder. Unfortunately, two teams have to play in that game and on this occasion, it was us and Belfast. Im sure after seeing that, the league may look at it. Sheffield Steelers took the silverware in an epic Sunday final, beating Cardiff Devils 6-5 after overtime in a game that lasted just under 95 minutes. Saturday Semi-finals Cardiff Devils 4-2 Dundee Stars Belfast Giants 0-2 Sheffield Steelers Sunday Third place play-off Belfast Giants 15-8 Dundee Stars Final Cardiff Devils 5 Sheffield Steelers 6 (OT)</td>\n",
       "      <td>39551711</td>\n",
       "      <td>[0, 133, 255, 4113, 1949, 7490, 685, 258, 49, 426, 15, 49, 17077, 9913, 23, 5, 311, 10449, 6688, 11, 17142, 81, 5, 983, 4, 125, 5, 7144, 969, 62, 157, 11, 5, 204, 12, 176, 4126, 12, 6156, 3002, 7, 12426, 9155, 8, 5, 379, 12, 398, 371, 12, 6406, 914, 872, 7, 14837, 4608, 4, 3139, 57, 10, 372, 676, 13, 84, 1669, 8, 5952, 220, 76, 52, 64, 283, 124, 259, 8, 1532, 31, 24, 6, 101, 12426, 222, 6, 1063, 20160, 29416, 26, 4, 38, 56, 103, 86, 7, 4227, 15, 18326, 819, 136, 12426, 8, ...]</td>\n",
       "      <td>[0, 495, 3194, 1942, 7144, 471, 704, 5908, 1063, 20160, 29416, 1991, 39, 526, 671, 7, 5, 310, 12, 1529, 6688, 220, 76, 25, 10, 203, 3651, 165, 4, 2]</td>\n",
       "      <td>Dundee Stars head coach Marc LeFebvre hopes his side return to the play-off finals next year as a much stronger team.</td>\n",
       "    </tr>\n",
       "    <tr>\n",
       "      <th>2</th>\n",
       "      <td>[1, 1, 1, 1, 1, 1, 1, 1, 1, 1, 1, 1, 1, 1, 1, 1, 1, 1, 1, 1, 1, 1, 1, 1, 1, 1, 1, 1, 1, 1, 1, 1, 1, 1, 1, 1, 1, 1, 1, 1, 1, 1, 1, 1, 1, 1, 1, 1, 1, 1, 1, 1, 1, 1, 1, 1, 1, 1, 1, 1, 1, 1, 1, 1, 1, 1, 1, 1, 1, 1, 1, 1, 1, 1, 1, 1, 1, 1, 1, 1, 1, 1, 1, 1, 1, 1, 1, 1, 1, 1, 1, 1, 1, 1, 1, 1, 1, 1, 1, 1, ...]</td>\n",
       "      <td>However, there were people in the TV industry who thought the cast would struggle to find work once their time on the show was up. Some of the actors were warned that they wouldnt be able to shake off their sulky, angry, teen characters. But when you look at the careers of Dev Patel and Jack OConnell for example, they couldnt have been more wrong. Kaya Scodelario was one of the longest-serving members of the cast, appearing in series one to four as Effy Stonem. She went on to appear in sci-fi thriller Maze Runner and is now in Australia filming the next instalment of Pirates of The Caribbean with Johnny Depp. Nicholas Hoult was the only member of the main cast who had serious acting experience. Hed starred in About a Boy with Hugh Grant in 2002. He has since gone on to play Beast in the X-Men prequels and will soon be seen starring opposite Kristen Stewart in a film called Equals. Dev Patels first job after playing Anwar Kharral in series one and two, took him from London to India and to the Oscars with Slumdog Millionaire. He told Newsbeat, he never would have got that role without Skins. My career started off because Danny Boyles daughter was a fan of the show, that is how I got an audition for Slumdog. He has two films out in cinemas at the moment, The Second Best Exotic Marigold Hotel with Dame Judi Dench and Chappie, starring alongside Sigourney Weaver and Hugh Jackman. Jack OConnell, who played Cook in series three and four, was hand-picked by Angelina Jolie to star in her most recent movie Unbroken. The 24-year-old also picked up the Rising Star Award at this years Baftas. Fans of Game of Thrones will be familiar with Joe Dempsie and Hannah Murray who play Gendry and Gilly respectively. It is, of course, not unusual for an actor from a British television show to find success in Hollywood films. What is unusual is the amount of stars that were discovered from one single teen drama on a digital channel. So how were the makers of Skins able to spot so many talented young actors? Co-creator Bryan Elsley told Newsbeat they made a conscious decision to hold open auditions. There are really good kids working from agencies and drama schools but just on that one occasion we decided to go a different way, he explained. We felt if we had young people playing characters the same age as themselves, and those actors werent too trained, it would have a more natural feel. It sounds quite risky, but Bryan said the show was such a small project to begin with, they were able to take that approach. Jack OConnell credits the whole team for the actors future success. I think they knew if they were going to identify that genre, that era, that generation, they needed people on the ground level, he said. A writing team that understood, they got that right first and then I guess they chose to cast exciting people. I feel very fortunate to be involved in the show but I dont think it was a coincidence that we all came through there. Piers Wenger is the head of drama at Channel 4 and he thinks it was the opportunities the cast had to stretch themselves that helped nurture their talent. They had the opportunity to do properly complex [roles], rather than just two dimensional ones, he said. It is extraordinary, in the past soap operas had been the sort of places where young people had been able to do their first job. That would have been your only break, but times are changing. I think thanks to shows like Skins, unconventional approaches to casting are becoming more and more common. Follow @BBCNewsbeat on Twitter, BBCNewsbeat on Instagram and Radio1Newsbeat on YouTube</td>\n",
       "      <td>31873298</td>\n",
       "      <td>[0, 10462, 6, 89, 58, 82, 11, 5, 1012, 539, 54, 802, 5, 2471, 74, 3860, 7, 465, 173, 683, 49, 86, 15, 5, 311, 21, 62, 4, 993, 9, 5, 5552, 58, 2449, 14, 51, 74, 3999, 28, 441, 7, 8559, 160, 49, 26648, 4122, 6, 5800, 6, 6066, 3768, 4, 125, 77, 47, 356, 23, 5, 8478, 9, 7439, 12717, 8, 2722, 384, 28317, 13, 1246, 6, 51, 115, 3999, 33, 57, 55, 1593, 4, 229, 5210, 2741, 1630, 523, 7718, 21, 65, 9, 5, 6463, 12, 20017, 453, 9, 5, 2471, 6, 8165, 11, 651, 65, 7, ...]</td>\n",
       "      <td>[0, 717, 306, 18, 6066, 4149, 4058, 1344, 351, 3617, 4188, 8, 3491, 10, 12308, 511, 81, 63, 707, 651, 4, 2]</td>\n",
       "      <td>E4's teen drama Skins won numerous awards and gained a cult following over its seven series.</td>\n",
       "    </tr>\n",
       "    <tr>\n",
       "      <th>3</th>\n",
       "      <td>[1, 1, 1, 1, 1, 1, 1, 1, 1, 1, 1, 1, 1, 1, 1, 1, 1, 1, 1, 1, 1, 1, 1, 1, 1, 1, 1, 1, 1, 1, 1, 1, 1, 1, 1, 1, 1, 1, 1, 1, 1, 1, 1, 1, 1, 1, 1, 1, 1, 1, 1, 1, 1, 1, 1, 1, 1, 1, 1, 1, 1, 1, 1, 1, 1, 1, 1, 1, 1, 1, 1, 1, 1, 1, 1, 1, 1, 1, 1, 1, 1, 1, 1, 1, 1, 1, 1, 1, 1, 1, 1, 1, 1, 1, 1, 1, 1, 1, 1, 1, ...]</td>\n",
       "      <td>Lets call it Alice in Financial Wonderland. On Thursday the European Central Bank took additional steps to stimulate the eurozone economy, including a further cut in an interest rate that is already below zero. Why is this so odd? Think about what interest is. The lender gets paid interest for allowing someone else to use their money. But when the rate goes below zero the relationship is turned on its head. The lender is now paying the borrower. Why would anyone do that? Some reasons below. Of course, this situation only applies to a limited number of financial relationships. No-one will pay you to spend on your credit card. But this unusual state of affairs does exist. The ECBs deposit rate, which applies to money parked overnight by commercial banks, is now minus 0.4%. Does that make the ECB president Mario Draghi the white rabbit - the one who led Alice into Lewis Carrolls subterranean fantasy world? Or perhaps there is a whole family with fluffy tails whose warrens extend to the central banks of Japan and several European countries, which have similar policies. These negative rates are the policy decisions taken by a handful of central banks. But the phenomenon has also affected the bond market, where investors buy and sell the bonds or debts of governments and large companies. The cost of borrowing is set when the bonds are issued. It depends on how much the financial firms who buy the bonds pay for them - what they are buying is a promise to make a series of payments in the future. If the price is high enough, the borrowing cost, in effect the interest rate, can be zero or even negative. Last week the bond market took a new step down the financial rabbit hole. Japan is the first government among the G20 major economies to borrow money by issuing bonds for 10 years at an interest rate of less than zero. Its true that several other countries have done it for shorter periods and Switzerland (which is not a G20 member) has already done it for 10-year borrowing. But Japan being paid to borrow money for 10 years is nonetheless a remarkable development. Its a much bigger economy than Switzerland, with a much larger government debt - much larger even in relation to its economy. The usual pattern with borrowing costs is the longer you borrow for the more you have to pay. So a negative 10-year cost is a striking thing. Its worth emphasising the distinction between the two contexts in which we have negative rates. One is central banks making a judgement about what is best for economic growth employment and inflation. The other is private investors accepting a negative return on an asset, which is arguably much the stranger of the two. So why do they? Accepting a pitifully low positive rate is one thing: it is better than nothing. But if the rate on offer is negative, then zero, or just sitting on the cash looks preferable. With the latest government debt sale in Japan, one reason is thought to be investors buying the bonds with a view to selling them later when the central bank goes into the market as part of its quantitative easing programme, which involves buying financial assets with newly created money. In other cases, banks have been more willing to buy bonds with negative returns because they are charged by the central bank if they deposit excess funds. In some cases, foreign investors think they can make money if the currency rises enough to compensate for the negative yield. With central banks in the developed economies it is a policy choice to have kept their official interest rates very low - below zero in a few cases. One of the key reasons is something else that is also very strange - at least by the standards of the relatively recent past. Inflation, in the judgement of central banks in the main developed economies, is too low. At times it too has been below zero, but in the US, Japan, the eurozone and the UK even when above zero it has been well below the central banks targets of 2% or thereabouts. Central banks failure to get back to the target and the persistence of sluggish economic growth in the eurozone and Japan has led them to try increasingly unorthodox policies: quantitative easing and negative interest rates. The underlying idea is much the same as cutting interest rates in more normal times. The aim is to encourage more borrowing and spending by firms and households. Central bank rates do not completely determine the cost of such borrowing, but they are a major factor. Or at least they usually are. There are some concerns that when central bank rates go negative, they have less impact on lending rates in the private sector beyond the money markets. A review by economists at the Bank for International Settlements said: Questions remain as to whether negative policy rates are transmitted to the wider economy through lower lending rates for firms and households. There are also concerns that they make it harder for banks to lend profitably. The obvious alternative is fiscal policy - government spending and taxes. But governments in the west have been reluctant to use this approach, due to concerns about increasing government debt, although critics say those worries are misplaced. So how long before we emerge from Financial Wonderland? There was a period last year when there were some signs that things might be starting to return to normal. The clearest indication of that was the decision by the Federal Reserve in December to raise US interest rates from essentially zero. The expectation then was there would be several more hikes this year. However, this glimmer of financial normality - signs of Alice the banker regaining consciousness perhaps - didnt last. Now the markets think it is more likely that the Fed will raise rates again just once or twice this year. The prospect of any such action by the other major central banks has receded into the more distant future. More than seven years on from the most intense phase of the financial crisis, the aftermath is still with us. Some things clearly have improved. Unemployment is low in the US, Britain, and Germany and the eurozone is no longer in imminent danger of chaotic disintegration. But there are many weaknesses and the unusual financial conditions will not return to normal for a while. Its getting to feel like Alices tea party, with the clock stopped at tea time. She certainly hasnt come round yet.</td>\n",
       "      <td>35755100</td>\n",
       "      <td>[0, 574, 2580, 486, 24, 12085, 11, 2108, 35607, 4, 374, 296, 5, 796, 1505, 788, 362, 943, 2402, 7, 19770, 5, 24860, 866, 6, 217, 10, 617, 847, 11, 41, 773, 731, 14, 16, 416, 874, 4276, 4, 2612, 16, 42, 98, 8372, 116, 9387, 59, 99, 773, 16, 4, 20, 10007, 1516, 1199, 773, 13, 2455, 951, 1493, 7, 304, 49, 418, 4, 125, 77, 5, 731, 1411, 874, 4276, 5, 1291, 16, 1224, 15, 63, 471, 4, 20, 10007, 16, 122, 2746, 5, 31545, 4, 2612, 74, 1268, 109, 14, 116, 993, 2188, 874, 4, 1525, 768, ...]</td>\n",
       "      <td>[0, 133, 720, 613, 467, 16, 13228, 5206, 617, 88, 5, 11676, 232, 9, 2430, 773, 1162, 4, 2]</td>\n",
       "      <td>The global financial system is venturing further into the bizarre world of negative interest rates.</td>\n",
       "    </tr>\n",
       "    <tr>\n",
       "      <th>4</th>\n",
       "      <td>[1, 1, 1, 1, 1, 1, 1, 1, 1, 1, 1, 1, 1, 1, 1, 1, 1, 1, 1, 1, 1, 1, 1, 1, 1, 1, 1, 1, 1, 1, 1, 1, 1, 1, 1, 1, 1, 1, 1, 1, 1, 1, 1, 1, 1, 1, 1, 1, 1, 1, 1, 1, 1, 1, 1, 1, 1, 1, 1, 1, 1, 1, 1, 1, 1, 1, 1, 1, 1, 1, 1, 1, 1, 1, 1, 1, 1, 1, 1, 1, 1, 1, 1, 1, 1, 1, 1, 1, 1, 1, 1, 1, 1, 1, 1, 1, 1, 1, 1, 1, ...]</td>\n",
       "      <td>Media playback is unsupported on your device 18 June 2015 Last updated at 15:10 BST All the big gaming companies including Microsoft, Nintendo and Sony are showing off what theyve been working on. Virtual reality usually involves putting on some glasses that contain video screens. The specs give you the impression youre in a totally different world, that changes as you look around the room. For years, virtual reality has been tipped as the next big thing in technology - but now it looks like it might finally be ready for action. Radio 1 reporter Steffan Powell sent us this report from E3.</td>\n",
       "      <td>33189100</td>\n",
       "      <td>[0, 18801, 20083, 16, 30604, 15, 110, 2187, 504, 502, 570, 1426, 4752, 23, 379, 35, 698, 28964, 404, 5, 380, 6548, 451, 217, 3709, 6, 10396, 8, 6366, 32, 2018, 160, 99, 51, 548, 57, 447, 15, 4, 21741, 2015, 2333, 6890, 2057, 15, 103, 11121, 14, 5585, 569, 8545, 4, 20, 21634, 492, 47, 5, 8450, 47, 241, 11, 10, 4940, 430, 232, 6, 14, 1022, 25, 47, 356, 198, 5, 929, 4, 286, 107, 6, 6229, 2015, 34, 57, 13402, 25, 5, 220, 380, 631, 11, 806, 111, 53, 122, 24, 1326, 101, 24, 429, 1747, 28, ...]</td>\n",
       "      <td>[0, 45313, 2320, 32, 15924, 10, 380, 499, 13, 6229, 2015, 23, 381, 246, 111, 5, 232, 18, 934, 8825, 13, 426, 4, 2]</td>\n",
       "      <td>Gaming experts are predicting a big future for virtual reality at E3 - the world's biggest convention for games.</td>\n",
       "    </tr>\n",
       "  </tbody>\n",
       "</table>"
      ],
      "text/plain": [
       "<IPython.core.display.HTML object>"
      ]
     },
     "metadata": {},
     "output_type": "display_data"
    }
   ],
   "source": [
    "display_function(tokenized_xsum['test'])"
   ]
  },
  {
   "cell_type": "markdown",
   "metadata": {},
   "source": [
    "# "
   ]
  },
  {
   "cell_type": "code",
   "execution_count": 19,
   "metadata": {},
   "outputs": [
    {
     "data": {
      "text/plain": [
       "{'attention_mask': Sequence(feature=Value(dtype='int8', id=None), length=-1, id=None),\n",
       " 'document': Value(dtype='string', id=None),\n",
       " 'id': Value(dtype='string', id=None),\n",
       " 'input_ids': Sequence(feature=Value(dtype='int32', id=None), length=-1, id=None),\n",
       " 'labels': Sequence(feature=Value(dtype='int64', id=None), length=-1, id=None),\n",
       " 'summary': Value(dtype='string', id=None)}"
      ]
     },
     "execution_count": 19,
     "metadata": {},
     "output_type": "execute_result"
    }
   ],
   "source": [
    "tokenized_xsum['test'].features"
   ]
  },
  {
   "cell_type": "markdown",
   "metadata": {},
   "source": [
    "# Compare Machine Summaries to Professional Human Written Summaries\n",
    "To score our machine generated summaries against professional human written ones, we compute the cosine similarities between embeddings to measure the semantic similaritiy between two texts. The comparisons we will be marking include: human summary to machine summary, human summary to original document, and machine summary to original document. The maximum length in each machine summary is contextually related to the human summary (but not by the number of words, rather characters in the summary). When words were selected the summary did not perform well and only provided the first words of every article. This makes sense because BART's pretraining likely influenced it's methodology to recognize that the start of text often contains valuable summarization inforamtion. Instead, we wanted to provide a contextual number related to the summary using the maximum length as the number of characters in the human summary rather than an arbitrary number. It is important to note that the model config for BART shows the minimum_length for tokens in a sequence is 56"
   ]
  },
  {
   "cell_type": "markdown",
   "metadata": {},
   "source": [
    "We are going to focus on 10 articles and build 10 models to inspect each pair individually"
   ]
  },
  {
   "cell_type": "code",
   "execution_count": 20,
   "metadata": {},
   "outputs": [],
   "source": [
    "def listToString(s): \n",
    "    str1 = \"\" \n",
    "    \n",
    "    for ele in s: \n",
    "        str1 += ele  \n",
    " \n",
    "    return str1 "
   ]
  },
  {
   "cell_type": "code",
   "execution_count": 21,
   "metadata": {},
   "outputs": [],
   "source": [
    "article1 = tokenized_xsum['test']['document'][0]\n",
    "article2 = tokenized_xsum['test']['document'][123]\n",
    "article3 = tokenized_xsum['test']['document'][99]\n",
    "article4 = tokenized_xsum['test']['document'][1100]\n",
    "article5 = tokenized_xsum['test']['document'][1118]\n",
    "article6 = tokenized_xsum['test']['document'][45]\n",
    "article7 = tokenized_xsum['test']['document'][13]\n",
    "article8 = tokenized_xsum['test']['document'][69]\n",
    "article9 = tokenized_xsum['test']['document'][27]\n",
    "article10 = tokenized_xsum['test']['document'][9]\n",
    "\n",
    "summary1 = tokenized_xsum['test']['summary'][0]\n",
    "summary2 = tokenized_xsum['test']['summary'][123]\n",
    "summary3 = tokenized_xsum['test']['summary'][99]\n",
    "summary4 = tokenized_xsum['test']['summary'][1100]\n",
    "summary5 = tokenized_xsum['test']['summary'][1118]\n",
    "summary6 = tokenized_xsum['test']['summary'][45]\n",
    "summary7 = tokenized_xsum['test']['summary'][13]\n",
    "summary8 = tokenized_xsum['test']['summary'][69]\n",
    "summary9 = tokenized_xsum['test']['summary'][27]\n",
    "summary10 = tokenized_xsum['test']['summary'][9]\n"
   ]
  },
  {
   "cell_type": "code",
   "execution_count": 22,
   "metadata": {},
   "outputs": [
    {
     "name": "stdout",
     "output_type": "stream",
     "text": [
      "The total number of words in these summaries is:  186\n",
      "The average words per summary is:  18.6\n"
     ]
    }
   ],
   "source": [
    "summaryList = [summary1.split(),\n",
    "summary2.split(), \n",
    "summary3.split(), \n",
    "summary4.split(),\n",
    "summary5.split(),\n",
    "summary6.split(),\n",
    "summary7.split(), \n",
    "summary8.split(),\n",
    "summary9.split(), \n",
    "summary10.split()]\n",
    "\n",
    "count = sum( [ len(listElem) for listElem in summaryList])\n",
    "\n",
    "print('The total number of words in these summaries is: ', count)\n",
    "print('The average words per summary is: ', count / len(summaryList))"
   ]
  },
  {
   "cell_type": "markdown",
   "metadata": {},
   "source": [
    "## Model 1"
   ]
  },
  {
   "cell_type": "code",
   "execution_count": 23,
   "metadata": {},
   "outputs": [],
   "source": [
    "input1 = tokenizer(article1, return_tensors='pt', truncation=True)\n",
    "summary_ids1 = model.generate(input1['input_ids'], max_length=56, early_stopping=False)\n",
    "machineSummary1 = ([tokenizer.decode(g, skip_special_tokens=True) for g in summary_ids1])"
   ]
  },
  {
   "cell_type": "code",
   "execution_count": 24,
   "metadata": {},
   "outputs": [
    {
     "name": "stdout",
     "output_type": "stream",
     "text": [
      "tensor([[0.7207]])\n",
      "tensor([[0.7645]])\n",
      "tensor([[0.9590]])\n"
     ]
    }
   ],
   "source": [
    "machineSummary1 = listToString(machineSummary1)\n",
    "original1 = listToString(article1)\n",
    "\n",
    "comparison1 = [summary1, machineSummary1, original1]\n",
    "token_model = SentenceTransformer('distilbert-base-nli-mean-tokens')\n",
    "comparison_embeddings1 = token_model.encode(comparison1)\n",
    "print(util.pytorch_cos_sim(comparison_embeddings1[0], comparison_embeddings1[1])) # human summary to machine summary similarity\n",
    "print(util.pytorch_cos_sim(comparison_embeddings1[0], comparison_embeddings1[2])) # human summary to original article\n",
    "print(util.pytorch_cos_sim(comparison_embeddings1[1], comparison_embeddings1[2])) # machine summary to original article"
   ]
  },
  {
   "cell_type": "code",
   "execution_count": 25,
   "metadata": {},
   "outputs": [
    {
     "data": {
      "text/plain": [
       "['There is a \"chronic\" need for more housing for prison leavers in Wales, according to a charity.',\n",
       " 'Prison Link Cymru had 1,099 referrals in 2015-16 and said some ex-offenders were living rough for up to a year before finding suitable accommodation. Workers at the charity claim investment in housing would be cheaper than jailing homeless repeat offenders',\n",
       " 'Prison Link Cymru had 1,099 referrals in 2015-16 and said some ex-offenders were living rough for up to a year before finding suitable accommodation. Workers at the charity claim investment in housing would be cheaper than jailing homeless repeat offenders. The Welsh Government said more people than ever were getting help to address housing problems. Changes to the Housing Act in Wales, introduced in 2015, removed the right for prison leavers to be given priority for accommodation. Prison Link Cymru, which helps people find accommodation after their release, said things were generally good for women because issues such as children or domestic violence were now considered. However, the same could not be said for men, the charity said, because issues which often affect them, such as post traumatic stress disorder or drug dependency, were often viewed as less of a priority. Andrew Stevens, who works in Welsh prisons trying to secure housing for prison leavers, said the need for accommodation was chronic. Theres a desperate need for it, finding suitable accommodation for those leaving prison there is just a lack of it everywhere, he said. It could take six months to a year, without a lot of help they could be on the streets for six months. When you think of the consequences of either being on the street, especially with the cold weather at the moment or you may have a roof over your head, sometimes there is only one choice. Mr Stevens believes building more one-bedroom flats could help ease the problem. The average price is a hundred pounds a week to keep someone in a rented flat, prison is a lot more than that so I would imagine it would save the public purse quite a few pounds, he said. Official figures show 830 one-bedroom properties were built in the year to March 2016, of an overall total of 6,900 new properties in Wales. Marc, 50, who has been in and out of prison for the past 20 years for burglary offences, said he struggled to find accommodation each time he was released. He said he would ask himself: Where am I going to stay? Where am I going to live? Have I got somewhere where I can see my daughter. Youre put out among the same sort of people doing the same sort of thing, and its difficult, its difficult to get away from it. Its like every man for himself, theres nothing. Marc has now found stable accommodation with homeless charity Emmaus and said it had been life changing. You feel safe, you got hot food, youve got company of people in similar situations to yourself but all dealing with different issues. Its a constructive, helpful atmosphere, he said. Tom Clarke, chief executive of Emmaus South Wales, agreed there was not enough support available. We do still see [people] homeless on the streets, so clearly they havent got accommodation and havent got provision, he said. I think the key is connecting people with the services they need. I dont delude myself that Emmaus can offer a one size fits all for everyone, we cant. But there must be other opportunities and given suitable encouragement I believe that can and should happen. A Welsh Government spokesman said the national pathway for homeless services to children, young people and adults in the secure estate had prevented many people from losing their home whilst serving their prison sentence. It added there were already significant demands for one-bedroom flats across the public and private sector and it was providing 20,000 new affordable homes in the next five years.']"
      ]
     },
     "execution_count": 25,
     "metadata": {},
     "output_type": "execute_result"
    }
   ],
   "source": [
    "comparison1"
   ]
  },
  {
   "cell_type": "markdown",
   "metadata": {},
   "source": [
    "# Model 2"
   ]
  },
  {
   "cell_type": "code",
   "execution_count": 26,
   "metadata": {},
   "outputs": [],
   "source": [
    "input2 = tokenizer(article2, return_tensors='pt', truncation=True)\n",
    "summary_ids2 = model.generate(input2['input_ids'], max_length=56, early_stopping=False)\n",
    "machineSummary2 = ([tokenizer.decode(g, skip_special_tokens=True) for g in summary_ids2])"
   ]
  },
  {
   "cell_type": "code",
   "execution_count": 27,
   "metadata": {},
   "outputs": [
    {
     "name": "stdout",
     "output_type": "stream",
     "text": [
      "tensor([[0.7074]])\n",
      "tensor([[0.5850]])\n",
      "tensor([[0.6182]])\n"
     ]
    }
   ],
   "source": [
    "machineSummary2 = listToString(machineSummary2)\n",
    "original2 = listToString(article2)\n",
    "\n",
    "comparison2 = [summary2, machineSummary2, original2]\n",
    "token_model = SentenceTransformer('distilbert-base-nli-mean-tokens')\n",
    "comparison_embeddings2 = token_model.encode(comparison2)\n",
    "print(util.pytorch_cos_sim(comparison_embeddings2[0], comparison_embeddings2[1])) # human summary to machine summary similarity\n",
    "print(util.pytorch_cos_sim(comparison_embeddings2[0], comparison_embeddings2[2])) # human summary to original article\n",
    "print(util.pytorch_cos_sim(comparison_embeddings2[1], comparison_embeddings2[2])) # machine summary to original article"
   ]
  },
  {
   "cell_type": "code",
   "execution_count": 28,
   "metadata": {},
   "outputs": [
    {
     "data": {
      "text/plain": [
       "[\"For a man often described as capricious, Tyson Fury's chaotic reign as world heavyweight champion was strangely predictable.\",\n",
       " 'Fury has been speaking about his mental health struggles for years. The repeated claims from Furys camp that his victory was downplayed by the British media, and that they had an agenda against him from the outset, are delusional. Fury is not the first boxer to',\n",
       " 'Media playback is not supported on this device Since dethroning Wladimir Klitschko in Dusseldorf last November, the Briton has resembled a runaway lorry - smashing through road blocks and red lights, skittling well-meaning people frantically waving warning flags, and only slowing down to shout obscenities and honk his horn, the louder the better. But that can happen when your mind is scrambled and you dont know whats what: you might be in the drivers seat but your hands arent on the wheel, your feet are up on the dashboard and theres a brick on the accelerator pedal. Another way of looking at it is that Furys crash actually came on that fateful night in Germany and he has been spewing smoke ever since. The morning after the Englishmans stunning upset of Klitschko and his acquisition of the WBA, IBF and WBO belts, he admitted he might struggle to cope. But not even those closest to him could have anticipated how true that would prove. Having beaten the various boxing authorities to the punch and relinquished the belts before being banned, stripped or both, its anyones guess as to when - if ever - hell have his keys back and his engine revving again. Fury has been speaking about his mental health struggles for years, with disarming and often alarming frankness. So his pronouncement immediately after his victory over Klitschko and the recent news that he was withdrawing from the scheduled rematch because of depression was not a shock. When I interviewed him in 2013, he described himself as an all-action man in anything I do. If Im drinking, Im drinking until I cant stand up. If Im going out for Chinese, Im going to an all-you-can-eat Chinese. If Im eating cake, Im eating the whole cake. I dont know what youd call me. An idiot, maybe? Hardly surprising, then, that having fulfilled his dream of winning the world heavyweight crown, Fury would lose focus. Most people having fallen down drunk or eaten a whole cake would steer clear of booze and Battenbergs for a while. But Fury is not most people. Fury is not the first boxer to lose motivation having reached the pinnacle of the sport, and he certainly wont be the last. Not many people climb Everest twice. The repeated claims from Furys camp that his victory was downplayed by the British media, and that they had an agenda against him from the outset, are delusional After pulling off one of the greatest shocks in sporting history by beating the seemingly invincible Mike Tyson in 1990, Buster Douglas didnt train much, got fat and lost the world heavyweight crown to Evander Holyfield in his first defence. The American promptly retired, almost doubled in weight, then nearly died after falling into a diabetic coma before being struck down by depression. Same old, same old. Jess Willards victory over the great Jack Johnson in 1915 was almost as unbelievable as Douglass upset of Tyson, and his reign even more shameful. Willard clearly didnt fancy fighting much, defending the world heavyweight crown once in four years before being bashed up by the great Jack Dempsey. Sometimes depression can be triggered by a lack of motivation for the thing that defines you, sometimes that lack of motivation is triggered by depression. Either way, Fury claims he hasnt been near a gym for months and has been drinking like a fish and hoovering up cocaine instead, in a forlorn bid to mask the pain. Media playback is not supported on this device In an interview with Rolling Stone magazine this month, Fury accused the British media of conducting a witch hunt against him and the British public of racism. It is important to separate the different links in Furys sometimes rambling trains of thought. Before and after his victory over Klitschko, sports writers openly discussed whether Fury should be saved from himself. Different journalists operate under different editorial guidelines, but the view of most was that they had been sent to Germany to report on a fight, not Furys controversial outbursts. As such, the repeated claims from Furys camp that his victory was downplayed by the British media, and that they had an agenda against him from the outset, are delusional. Almost every boxing writer proclaimed Furys performance as one of the finest ever by a British fighter, and they were right. But the problem with a siege mentality is that you forget whats happening beyond the castle walls, who your real friends are, and paranoia sets in. When Fury threatened violence against a journalist and later took aim at bisexual, transsexual and Jewish people, it was internet vloggers - to whom he had granted intimate access - who provided the platform. The so-called mainstream media (newspapers and major broadcasters) had been frozen out, ironically because they had dared to report what he had told those same vloggers. Furys camp would do well to memorise a quote attributed to George Orwell: Journalism is printing what someone else does not want printing. Everything else is public relations. How many times has Fury been saved by journalistic self-censorship? In threatening that journalist, the Mail on Sundays Oliver Holt, for reporting that he had compared homosexuality to paedophilia, Fury betrayed his sense of entitlement - not only because of his feats in the ring, but because of his religious convictions. If its in the Bible, how dare anyone question his beliefs? If you make questionable statements about gay people or Jews or women, the media will come down on you, whether you are a fine boxer, a deeply religious man, a nice bloke really, none of the above or all of them. Furys Traveller heritage doesnt come into it, as least as far as most of the media is concerned. I know Tyson personally and hes a really nice guy, says Ricky Hatton, Furys fellow Mancunian and another boxer who has struggled with depression. But sometimes he puts his mouth into gear before his brain and when someone puts a camera in front of him he feels he has to say something outrageous. Fury fans frequently claim that Anthony Joshua is given preferential treatment by the media, but this is because the IBF heavyweight champion - Fury was stripped of that belt shortly after winning it because he would not face the federations mandatory challenger - largely conducts himself like a gentleman. As for Joshuas brushes with the law, they have been covered at length in the media and he has clearly learnt from them. However, some of the racial abuse Fury receives on social media is despicable. When you are called every name under the sun on a daily basis, it is likely to have an effect on your mental wellbeing. No wonder, as Fury also stated in his interview with Rolling Stone, that he feels like everyone is out to get him. On Wednesday, the British Boxing Board of Control (BBBofC) met to discuss what should be done with Fury, and has suspended his licence, pending a meeting with him. It could hardly do otherwise. It did the same to Hatton in 2010, also following allegations of cocaine use, and, as the BBBofCs general secretary Robert Smith has pointed out, cocaine is against the law of the land. There was also Furys alleged use of performance-enhancing drugs and a subsequent ban to consider (Fury has an appeal hearing scheduled in November), as well as the allegation that he refused to take a drugs test (a misdemeanour that can lead to a four-year ban) and the argument that a man with severe mental health issues shouldnt be anywhere near a boxing ring. It should also be remembered that the BBBofC has already fined Fury twice for misconduct and that it has boxings image to think about - as mad as that sounds. Even if Fury hadnt voluntarily given up his belts, the WBA and WBO would have stripped him of them. It might seem callous, but the sanctioning bodies are businesses, the heavyweight belts are their biggest money-spinners and it is only fair that other boxers should be allowed to fight for them. It makes no difference whether a boxer has meningitis, a broken leg or mental health issues, the sport must move on. As WBO chief Jose Izquierdo put it: We cant have a belt held hostage. One can only hope that, during his absence from the ring, Fury gets the help he so desperately needs and returns fitter and more focused. Being someone who lives by the seat of his pants and for the moment, this could be the end of him, was Hattons grim assessment. He doesnt like boxing and finds the training hard. Its not looking good. But I was in a dark place, didnt care if I lived or died. I did very well in boxing but near enough everything wrong in life. The only way I got out of it was by asking for help. I fought through it and I hope Tyson can do the same. Fingers crossed that Fury will be remembered for that fine performance against Klitschko in Dusseldorf - and for many fine performances in the future - rather than as a wreck, spewing smoke on the side of the road as bright lights flash by.']"
      ]
     },
     "execution_count": 28,
     "metadata": {},
     "output_type": "execute_result"
    }
   ],
   "source": [
    "comparison2"
   ]
  },
  {
   "cell_type": "markdown",
   "metadata": {},
   "source": [
    "# Model 3"
   ]
  },
  {
   "cell_type": "code",
   "execution_count": 29,
   "metadata": {},
   "outputs": [],
   "source": [
    "input3 = tokenizer(article3, return_tensors='pt', truncation=True)\n",
    "summary_ids3 = model.generate(input3['input_ids'], max_length=56, early_stopping=False)\n",
    "machineSummary3 = ([tokenizer.decode(g, skip_special_tokens=True) for g in summary_ids3])"
   ]
  },
  {
   "cell_type": "code",
   "execution_count": 30,
   "metadata": {},
   "outputs": [
    {
     "name": "stdout",
     "output_type": "stream",
     "text": [
      "tensor([[0.5566]])\n",
      "tensor([[0.7642]])\n",
      "tensor([[0.8484]])\n"
     ]
    }
   ],
   "source": [
    "machineSummary3 = listToString(machineSummary3)\n",
    "original3 = listToString(article3)\n",
    "\n",
    "comparison3 = [summary3, machineSummary3, original3]\n",
    "token_model = SentenceTransformer('distilbert-base-nli-mean-tokens')\n",
    "comparison_embeddings3 = token_model.encode(comparison3)\n",
    "print(util.pytorch_cos_sim(comparison_embeddings3[0], comparison_embeddings3[1])) # human summary to machine summary similarity\n",
    "print(util.pytorch_cos_sim(comparison_embeddings3[0], comparison_embeddings3[2])) # human summary to original article\n",
    "print(util.pytorch_cos_sim(comparison_embeddings3[1], comparison_embeddings3[2])) # machine summary to original article"
   ]
  },
  {
   "cell_type": "code",
   "execution_count": 31,
   "metadata": {},
   "outputs": [
    {
     "data": {
      "text/plain": [
       "['A barrister who was due to move into his own chambers in Huddersfield has pleaded guilty to supplying cocaine.',\n",
       " 'Omar Khan, 31, had worked at The Johnson Partnership in Nottingham for five years. Partner Digby Johnson said he did not represent Khan, who had set up his own office and was set to leave the company. Erlin Manahasa, Albert Dib',\n",
       " 'Omar Khan, 31, had worked at The Johnson Partnership in Nottingham for five years before he was arrested. Erlin Manahasa, Albert Dibra and Nazaquat Ali joined Khan in admitting the same charge, between 1 October  and 4 December last year, at Nottingham Crown Court. They are due to be sentenced on 15 April. Updates on this story and more from Nottinghamshire The court heard the case involved the recovery of 1kg (2.2lb) of cocaine. Digby Johnson, a partner at the Johnson firm, confirmed they did not represent Khan - who had set up his own office and was set to leave the company. I still find it hard to believe he could do something as stupid as involve himself in drugs and people who were heavily involved in drugs, Mr Johnson said. Im just at a loss. You do question everything youve ever believed about anybody. Mr Johnson also described Khan, of William Street, Huddersfield, as a lovely guy who was incredibly hard-working. He would put in hour after hour, he added. He was keen to progress and impress. Khan appeared at the court via video link to admit conspiracy to supply the Class A drug. Manahasa, of no fixed address, Dibra, of Joyce Avenue, Nottingham, and Ali, of Chard Street, Nottingham, were remanded in custody following the hearing.']"
      ]
     },
     "execution_count": 31,
     "metadata": {},
     "output_type": "execute_result"
    }
   ],
   "source": [
    "comparison3"
   ]
  },
  {
   "cell_type": "markdown",
   "metadata": {},
   "source": [
    "# Model 4"
   ]
  },
  {
   "cell_type": "code",
   "execution_count": 32,
   "metadata": {},
   "outputs": [],
   "source": [
    "input4 = tokenizer(article4, return_tensors='pt', truncation=True)\n",
    "summary_ids4 = model.generate(input4['input_ids'], max_length=56, early_stopping=False)\n",
    "machineSummary4 = ([tokenizer.decode(g, skip_special_tokens=True) for g in summary_ids4])"
   ]
  },
  {
   "cell_type": "code",
   "execution_count": 33,
   "metadata": {},
   "outputs": [
    {
     "name": "stdout",
     "output_type": "stream",
     "text": [
      "tensor([[0.5360]])\n",
      "tensor([[0.6342]])\n",
      "tensor([[0.8119]])\n"
     ]
    }
   ],
   "source": [
    "machineSummary4 = listToString(machineSummary4)\n",
    "original4 = listToString(article4)\n",
    "\n",
    "comparison4 = [summary4, machineSummary4, original4]\n",
    "token_model = SentenceTransformer('distilbert-base-nli-mean-tokens')\n",
    "comparison_embeddings4 = token_model.encode(comparison4)\n",
    "print(util.pytorch_cos_sim(comparison_embeddings4[0], comparison_embeddings4[1])) # human summary to machine summary similarity\n",
    "print(util.pytorch_cos_sim(comparison_embeddings4[0], comparison_embeddings4[2])) # human summary to original article\n",
    "print(util.pytorch_cos_sim(comparison_embeddings4[1], comparison_embeddings4[2])) # machine summary to original article"
   ]
  },
  {
   "cell_type": "code",
   "execution_count": 34,
   "metadata": {},
   "outputs": [
    {
     "data": {
      "text/plain": [
       "['Star Wars fans are being given the opportunity to become Jedi Knights and learn how to wield lightsabers in combat.',\n",
       " 'The sport began eight years ago in Italy but has only just come to England with the first classes in Cheltenham. Instructor Jordan Court said people were already hooked. The lightsabers used in the sport are all hand-made and are provided for use during the',\n",
       " 'LudoSport has opened its first academy teaching seven forms of combat from the Star Wars world using flexible blades mounted on weighted hilts. The sport began eight years ago in Italy but has only just come to England with the first classes in Cheltenham. Instructor Jordan Court said people were already hooked. The classes in Cheltenham began last month. So far there are six pupils, but this number is expected to increase. Mr Court attended an international boot camp to learn the different stages of the sport which range in characteristics from defensive in stage one to aggressive and flamboyant in stage four and unpredictable in stage seven. The 34-year-old said fighting with an elegant weapon for a more civilized age was a childhood dream come true. My brother and I used to steal our Mums bamboo garden canes to fight with, he said. The lightsabers used in the sport are all hand-made and are provided for use during the classes, Mr Court said. The sport is so new to England that there have only been a handful of classes so far but Mr Court said there were plans to begin teaching in Bristol by the end of October... if the Force was with the academy. Lightsaber Combat Academy There are several ranks for those wishing to become a fully-fledged Jedi Knight:']"
      ]
     },
     "execution_count": 34,
     "metadata": {},
     "output_type": "execute_result"
    }
   ],
   "source": [
    "comparison4"
   ]
  },
  {
   "cell_type": "markdown",
   "metadata": {},
   "source": [
    "# Model 5"
   ]
  },
  {
   "cell_type": "code",
   "execution_count": 35,
   "metadata": {},
   "outputs": [],
   "source": [
    "input5 = tokenizer(article5, return_tensors='pt', truncation=True)\n",
    "summary_ids5 = model.generate(input5['input_ids'], max_length=56, early_stopping=False)\n",
    "machineSummary5 = ([tokenizer.decode(g, skip_special_tokens=True) for g in summary_ids5])"
   ]
  },
  {
   "cell_type": "code",
   "execution_count": 36,
   "metadata": {},
   "outputs": [
    {
     "name": "stdout",
     "output_type": "stream",
     "text": [
      "tensor([[0.5537]])\n",
      "tensor([[0.6152]])\n",
      "tensor([[0.9410]])\n"
     ]
    }
   ],
   "source": [
    "machineSummary5 = listToString(machineSummary5)\n",
    "original5 = listToString(article5)\n",
    "\n",
    "comparison5 = [summary5, machineSummary5, original5]\n",
    "token_model = SentenceTransformer('distilbert-base-nli-mean-tokens')\n",
    "comparison_embeddings5 = token_model.encode(comparison5)\n",
    "print(util.pytorch_cos_sim(comparison_embeddings5[0], comparison_embeddings5[1])) # human summary to machine summary similarity\n",
    "print(util.pytorch_cos_sim(comparison_embeddings5[0], comparison_embeddings5[2])) # human summary to original article\n",
    "print(util.pytorch_cos_sim(comparison_embeddings5[1], comparison_embeddings5[2])) # machine summary to original article"
   ]
  },
  {
   "cell_type": "code",
   "execution_count": 37,
   "metadata": {},
   "outputs": [
    {
     "data": {
      "text/plain": [
       "['Awareness rides are taking place to try and cut the number of people on horseback injured or killed on roads.',\n",
       " 'The Pass Wide and Slow Wales campaign has collected 1,300 signatures on the assemblys e-petition website. It wants an annual road safety awareness campaign explaining to motorists how to react around horses. The British Horse Society found that since 2010 there have been 2,',\n",
       " 'The Pass Wide and Slow Wales campaign has collected 1,300 signatures on the assemblys e-petition website. It wants an annual road safety awareness campaign explaining to motorists how to react around horses. The British Horse Society found that since 2010 there have been 2,000 road accidents in the UK, with 1,500 because of cars passing too closely. As a result of these, 180 horses and 36 riders have died. Awareness rides were planned for Penarth, Vale of Glamorgan, Swansea, Neyland in Pembrokeshire, Machynlleth, Powys, Flintshire and Porthmadog in Gwynedd. Any petition with over 50 signatures is considered by a committee to be debated in the assembly.']"
      ]
     },
     "execution_count": 37,
     "metadata": {},
     "output_type": "execute_result"
    }
   ],
   "source": [
    "comparison5"
   ]
  },
  {
   "cell_type": "markdown",
   "metadata": {},
   "source": [
    "# Model 6"
   ]
  },
  {
   "cell_type": "code",
   "execution_count": 38,
   "metadata": {},
   "outputs": [],
   "source": [
    "input6 = tokenizer(article6, return_tensors='pt', truncation=True)\n",
    "summary_ids6 = model.generate(input6['input_ids'], max_length=56, early_stopping=False)\n",
    "machineSummary6 = ([tokenizer.decode(g, skip_special_tokens=True) for g in summary_ids6])"
   ]
  },
  {
   "cell_type": "code",
   "execution_count": 39,
   "metadata": {},
   "outputs": [
    {
     "name": "stdout",
     "output_type": "stream",
     "text": [
      "tensor([[0.6985]])\n",
      "tensor([[0.7340]])\n",
      "tensor([[0.9442]])\n"
     ]
    }
   ],
   "source": [
    "machineSummary6 = listToString(machineSummary6)\n",
    "original6 = listToString(article6)\n",
    "\n",
    "comparison6 = [summary6, machineSummary6, original6]\n",
    "token_model = SentenceTransformer('distilbert-base-nli-mean-tokens')\n",
    "comparison_embeddings6 = token_model.encode(comparison6)\n",
    "print(util.pytorch_cos_sim(comparison_embeddings6[0], comparison_embeddings6[1])) # human summary to machine summary similarity\n",
    "print(util.pytorch_cos_sim(comparison_embeddings6[0], comparison_embeddings6[2])) # human summary to original article\n",
    "print(util.pytorch_cos_sim(comparison_embeddings6[1], comparison_embeddings6[2])) # machine summary to original article"
   ]
  },
  {
   "cell_type": "code",
   "execution_count": 40,
   "metadata": {},
   "outputs": [
    {
     "data": {
      "text/plain": [
       "['Two new councillors have been elected in a by-election in the City of Edinburgh.',\n",
       " 'SNP topped the vote in the Leith Walk by-election. Scottish Labour won the second seat from the Greens. Deidre Brock of the SNP and Maggie Chapman of the Scottish Greens stood down. It was the first time the Single Transferable Vote (ST',\n",
       " 'It was the first time the Single Transferable Vote (STV) system had been used to select two members in the same ward in a by-election. The SNP topped the vote in the Leith Walk by-election, while Scottish Labour won the second seat from the Greens. The by-election was called after Deidre Brock of the SNP and Maggie Chapman of the Scottish Greens stood down. The SNPs John Lewis Ritchie topped the Leith Walk poll with 2,290 votes. He was elected at stage one in the STV process with a swing in first-preference votes of 7.6% from Labour. Labours Marion Donaldson received 1,623 votes, ahead of Susan Jane Rae of the Scottish Greens on 1,381. Ms Donaldson was elected at stage 10 of the voting process after other preferences had been considered. The by-election was called after Ms Brock stood down when she was elected as the SNP MP for Edinburgh North and Leith in May. Ms Chapman, of the Scottish Greens, resigned from her post to concentrate on standing for the Scottish Parliament in next Mays election. The turnout for the by-election was 25.1%. The SNP also held the Midlothian West seat on Midlothian Council with a swing of 6.3% from Labour. The partys Kelly Parry secured 1,540 votes, ahead of Labours Ian Miller on 945 votes. The by-election was called after Owen Thompson was elected as SNP MP for the Midlothian constituency.']"
      ]
     },
     "execution_count": 40,
     "metadata": {},
     "output_type": "execute_result"
    }
   ],
   "source": [
    "comparison6"
   ]
  },
  {
   "cell_type": "markdown",
   "metadata": {},
   "source": [
    "# Model 7"
   ]
  },
  {
   "cell_type": "code",
   "execution_count": 41,
   "metadata": {},
   "outputs": [],
   "source": [
    "input7 = tokenizer(article7, return_tensors='pt', truncation=True)\n",
    "summary_ids7 = model.generate(input7['input_ids'], max_length=56, early_stopping=False)\n",
    "machineSummary7 = ([tokenizer.decode(g, skip_special_tokens=True) for g in summary_ids7])"
   ]
  },
  {
   "cell_type": "code",
   "execution_count": 42,
   "metadata": {},
   "outputs": [
    {
     "name": "stdout",
     "output_type": "stream",
     "text": [
      "tensor([[0.6876]])\n",
      "tensor([[0.6673]])\n",
      "tensor([[0.8905]])\n"
     ]
    }
   ],
   "source": [
    "machineSummary7 = listToString(machineSummary7)\n",
    "original7 = listToString(article7)\n",
    "\n",
    "comparison7 = [summary7, machineSummary7, original7]\n",
    "token_model = SentenceTransformer('distilbert-base-nli-mean-tokens')\n",
    "comparison_embeddings7 = token_model.encode(comparison7)\n",
    "print(util.pytorch_cos_sim(comparison_embeddings7[0], comparison_embeddings7[1])) # human summary to machine summary similarity\n",
    "print(util.pytorch_cos_sim(comparison_embeddings7[0], comparison_embeddings7[2])) # human summary to original article\n",
    "print(util.pytorch_cos_sim(comparison_embeddings7[1], comparison_embeddings7[2])) # machine summary to original article"
   ]
  },
  {
   "cell_type": "code",
   "execution_count": 43,
   "metadata": {},
   "outputs": [
    {
     "data": {
      "text/plain": [
       "[\"Torquay United boss Kevin Nicholson says none of the money from Eunan O'Kane's move to Leeds from Bournemouth will go to the playing squad.\",\n",
       " ' OKane moved for an undisclosed fee, but Nicholson says any money will go to help the cash-strapped club. The Gulls are still looking for new owners having been taken over by a consortium of local business people last summer. They were forced to close',\n",
       " 'The National League sold the Republic of Ireland midfielder to the Cherries for £175,000 in 2012 and had a 15% sell-on clause included in the deal. OKane moved for an undisclosed fee, but Nicholson says any money will go to help the cash-strapped club. I dont think Ill be getting anything, Nicholson told BBC Devon. Theres more important things. The Gulls are still looking for new owners having been taken over by a consortium of local business people last summer. They were forced to close down the clubs academy and drastically reduce the playing budget after millionaire former owner Thea Bristow left the club.']"
      ]
     },
     "execution_count": 43,
     "metadata": {},
     "output_type": "execute_result"
    }
   ],
   "source": [
    "comparison7"
   ]
  },
  {
   "cell_type": "markdown",
   "metadata": {},
   "source": [
    "# Model 8"
   ]
  },
  {
   "cell_type": "code",
   "execution_count": 44,
   "metadata": {},
   "outputs": [],
   "source": [
    "input8 = tokenizer(article8, return_tensors='pt', truncation=True)\n",
    "summary_ids8 = model.generate(input8['input_ids'], max_length=56, early_stopping=False)\n",
    "machineSummary8 = ([tokenizer.decode(g, skip_special_tokens=True) for g in summary_ids8])"
   ]
  },
  {
   "cell_type": "code",
   "execution_count": 45,
   "metadata": {},
   "outputs": [
    {
     "name": "stdout",
     "output_type": "stream",
     "text": [
      "tensor([[0.6043]])\n",
      "tensor([[0.6410]])\n",
      "tensor([[0.9696]])\n"
     ]
    }
   ],
   "source": [
    "machineSummary8 = listToString(machineSummary8)\n",
    "original8 = listToString(article8)\n",
    "\n",
    "comparison8 = [summary8, machineSummary8, original8]\n",
    "token_model = SentenceTransformer('distilbert-base-nli-mean-tokens')\n",
    "comparison_embeddings8 = token_model.encode(comparison8)\n",
    "print(util.pytorch_cos_sim(comparison_embeddings8[0], comparison_embeddings8[1])) # human summary to machine summary similarity\n",
    "print(util.pytorch_cos_sim(comparison_embeddings8[0], comparison_embeddings8[2])) # human summary to original article\n",
    "print(util.pytorch_cos_sim(comparison_embeddings8[1], comparison_embeddings8[2])) # machine summary to original article"
   ]
  },
  {
   "cell_type": "code",
   "execution_count": 46,
   "metadata": {},
   "outputs": [
    {
     "data": {
      "text/plain": [
       "['Manufacturers have reported positive business trends, in the latest survey from the Scottish Chambers of Commerce.',\n",
       " 'Manufacturers reported their highest growth in new orders for nearly three years. In retail, there was also a return to optimism - though only just. In tourism, firms reported improving visitor numbers in the final quarter of the year, but falling sales revenues. Construction is expecting',\n",
       " 'The end of last year saw growth across several sectors of the economy, but there are concerns about rising prices, skill shortages and falling sales. Manufacturers reported their highest growth in new orders for nearly three years, with export demand still strong. In retail, there was also a return to optimism - though only just, and despite profitability being squeezed. In tourism, firms reported improving visitor numbers in the final quarter of the year, but falling sales revenues. Responses to the survey, carried out for the Chambers of Commerce by Strathclyde University economists at the Fraser of Allander Institute, were more positive than the economic figures published on Wednesday. The Labour Force Survey and the Gross Domestic Product figures showed weakness in the Scottish economy, while covering an earlier part of 2016 than the Chambers survey. While the GDP assessment from the Scottish government has seen a sharp contraction in the past year, the Chambers found a more positive picture, with growth in private commercial contracts. However, there are warning signals survey, with tourism companies having difficulties in finding skilled recruits. Retail firms flagged up rising prices. Construction is expecting an investment dip. The weakest of the five sectors covered was finance and business services. More firms in that large part of the economy saw employment fall than saw it rise. But on balance, firms say sales revenue is expected to increase. Neil Amner, chairman of the Scottish Chambers of Commerce economic advisory group, said: Our latest economic data shows that many Scottish businesses will have a successful 2017, with business optimism remaining positive for many sectors. This is good news for the economy, particularly as we continue to deal with international uncertainty and domestic issues including a rating revaluation and a potential divergence of Income Tax between Scotland and the rest of the UK. The overall business mood remains positive but firms expect business growth to be challenged by rising prices, tightening of cash flow and profitability, higher import costs impacted by exchange rates and a likely increase of inflation as the year goes on. On the converse side, exporters are continuing to report a healthy growth in trade, though perhaps not quite matching up to their initial expectations. Optimism could hardly be more finely balanced and anything that rocks the boat could change the glass from half full to half empty. Business success in 2017 will largely depend upon the ability of firms to manage costs and for consumer demand to remain strong in the face of pressures to real incomes.']"
      ]
     },
     "execution_count": 46,
     "metadata": {},
     "output_type": "execute_result"
    }
   ],
   "source": [
    "comparison8"
   ]
  },
  {
   "cell_type": "markdown",
   "metadata": {},
   "source": [
    "# Model 9"
   ]
  },
  {
   "cell_type": "code",
   "execution_count": 47,
   "metadata": {},
   "outputs": [],
   "source": [
    "input9 = tokenizer(article9, return_tensors='pt', truncation=True)\n",
    "summary_ids9 = model.generate(input9['input_ids'], max_length=56, early_stopping=False)\n",
    "machineSummary9 = ([tokenizer.decode(g, skip_special_tokens=True) for g in summary_ids9])"
   ]
  },
  {
   "cell_type": "code",
   "execution_count": 48,
   "metadata": {},
   "outputs": [
    {
     "name": "stdout",
     "output_type": "stream",
     "text": [
      "tensor([[0.8371]])\n",
      "tensor([[0.8348]])\n",
      "tensor([[0.8967]])\n"
     ]
    }
   ],
   "source": [
    "machineSummary9 = listToString(machineSummary9)\n",
    "original9 = listToString(article9)\n",
    "\n",
    "comparison9 = [summary9, machineSummary9, original9]\n",
    "token_model = SentenceTransformer('distilbert-base-nli-mean-tokens')\n",
    "comparison_embeddings9 = token_model.encode(comparison9)\n",
    "print(util.pytorch_cos_sim(comparison_embeddings9[0], comparison_embeddings9[1])) # human summary to machine summary similarity\n",
    "print(util.pytorch_cos_sim(comparison_embeddings9[0], comparison_embeddings9[2])) # human summary to original article\n",
    "print(util.pytorch_cos_sim(comparison_embeddings9[1], comparison_embeddings9[2])) # machine summary to original article"
   ]
  },
  {
   "cell_type": "code",
   "execution_count": 49,
   "metadata": {},
   "outputs": [
    {
     "data": {
      "text/plain": [
       "['Of his last 30 matches in 2016, Andy Murray won 28 and lost just two.',\n",
       " 'The world number one has won 21 of his first 30 matches in 2017. Murray has had shingles and an elbow problem, and now his left hip is proving cause for concern. Murray is virtually 5,000 points behind Rafael Nadal in the season-long',\n",
       " 'Media playback is not supported on this device Of his first 30 matches in 2017, the world number one has won 21 and lost nine. Winning his last five tournaments of 2016 to pip Novak Djokovic to the year-end number one position in the final match of the season at Londons O2 Arena was astonishing, dramatic and unforgettable. And yet it appears that relentless run of success, and the 87 matches he played over a season, has come at a price. Murrays straight-set defeat by world number 90 Jordan Thompson in the first round at Queens Club was the sixth time he has lost to a player outside the top 20 this year. He has had shingles and an elbow problem, and now his left hip is proving cause for concern. Opting out of two scheduled exhibition matches at the Hurlingham Club in London may not be too much of a blow, as Murrays aptitude for grass is likely to allow him some margin for error during the opening week at Wimbledon. But will he be in pain, and will his movement suffer? Although it was reassuring to see him return to the practice courts on Friday, Murray was walking with a limp and neither moving, nor hitting his backhand, anywhere near as well as he will need to. Only time will tell. Media playback is not supported on this device Murray has looked especially vulnerable this season over three sets. As well as the defeat by Thompson at Queens, he has also lost in straight sets to Fabio Fognini in Rome (no disgrace), to Borna Coric in Madrid, and to world number 129 Vasek Pospisil at Indian Wells. Though he was bamboozled by Mischa Zverev in the fourth round of the Australian Open, his Grand Slam record remains formidable. He is aiming this fortnight for a 10th consecutive Wimbledon quarter-final, and the last time he failed to reach the second week of a Slam was when he fell to Stan Wawrinka in the third round of the 2010 US Open. So, assuming Murrays hip does not leave him underpowered, the French Open provides the best indication as to how he might fare at Wimbledon. Murray often started slowly in matches at Roland Garros, but put in a dominant third-round performance against Juan Martin del Potro as he won in straight sets. He never looked a realistic champion, but ultimately was just a tie-break away from a second consecutive final. He then ran out of steam, a legacy of insufficient matches, in a Stan Wawrinka-dominated final set of their semi-final. It would be foolish to try to come to a firm conclusion about Murrays chances at the All England Club this year. Twice a champion, and a gold-medal winner on Centre Court at the 2012 Olympics, not even Novak Djokovic has outperformed him at Wimbledon over the past five years. Yet on 2017 results alone, Murray is only the seventh best player in the field. He has too frequently struggled to impose himself on his opponent, and hindered at times by injury, has not been able to trust his serve in the same way. This year he has won 72% of points on first serve, down from 76% last year; and while last year he saved 66% of the break points he faced, that number has fallen this year to 54%. He claims his indifferent form is nothing to do with the pressure associated with his status as world number one, and he does not cut the figure of a man weighed down by an unwelcome burden. But perhaps Murray has lost his cause: he is now the hunted, rather than the hunter. That may not be a concern much longer. Murray is virtually 5,000 points behind Rafael Nadal in the season-long race and is therefore very likely to be replaced at the top of the rankings by the autumn at the latest. In fact, he could be overtaken after Wimbledon by Wawrinka or Djokovic if they win the title, but more probably by Nadal, who assuming both reach the second week would only have to go one round further. Nadals knees, Djokovics blues and Wawrinkas unexceptional Wimbledon record muddy the waters still further. And then theres Roger Federer: the seven-time champion, who is free of injuries, and last Sunday in Halle won his fourth title of the year having skipped the clay-court season. Media playback is not supported on this device']"
      ]
     },
     "execution_count": 49,
     "metadata": {},
     "output_type": "execute_result"
    }
   ],
   "source": [
    "comparison9"
   ]
  },
  {
   "cell_type": "markdown",
   "metadata": {},
   "source": [
    "# Model 10"
   ]
  },
  {
   "cell_type": "code",
   "execution_count": 50,
   "metadata": {},
   "outputs": [],
   "source": [
    "input10 = tokenizer(article10, return_tensors='pt', truncation=True)\n",
    "summary_ids10 = model.generate(input10['input_ids'], max_length=56, early_stopping=False)\n",
    "machineSummary10 = ([tokenizer.decode(g, skip_special_tokens=True) for g in summary_ids10])"
   ]
  },
  {
   "cell_type": "code",
   "execution_count": 51,
   "metadata": {},
   "outputs": [
    {
     "name": "stdout",
     "output_type": "stream",
     "text": [
      "tensor([[0.7728]])\n",
      "tensor([[0.7987]])\n",
      "tensor([[0.7236]])\n"
     ]
    }
   ],
   "source": [
    "machineSummary10 = listToString(machineSummary10)\n",
    "summary10 = listToString(summary10)\n",
    "original10 = listToString(article10)\n",
    "\n",
    "comparison10 = [summary10, machineSummary10, original10]\n",
    "token_model = SentenceTransformer('distilbert-base-nli-mean-tokens')\n",
    "comparison_embeddings10 = token_model.encode(comparison10)\n",
    "print(util.pytorch_cos_sim(comparison_embeddings10[0], comparison_embeddings10[1])) # human summary to machine summary similarity\n",
    "print(util.pytorch_cos_sim(comparison_embeddings10[0], comparison_embeddings10[2])) # human summary to original article\n",
    "print(util.pytorch_cos_sim(comparison_embeddings10[1], comparison_embeddings10[2])) # machine summary to original article"
   ]
  },
  {
   "cell_type": "code",
   "execution_count": 52,
   "metadata": {},
   "outputs": [
    {
     "data": {
      "text/plain": [
       "[\"Manager Brendan Rodgers is sure Celtic can exploit the wide open spaces of Hampden when they meet Rangers in Sunday's League Cup semi-final.\",\n",
       " \"Celtic face Rangers in the Scottish Cup semi-final at Hampden Park. Brendan Rodgers' side beat Rangers 5-1 at Celtic Park last month. Rodgers lost two semi-finals in his time at Liverpool and is aiming to make it third time lucky at\",\n",
       " 'Im really looking forward to it - the home of Scottish football, said Rodgers ahead of his maiden visit. I hear the pitch is good, a nice big pitch suits the speed in our team and our intensity. The technical area goes right out to the end of the pitch, but you might need a taxi to get back to your staff. This will be Rodgers second taste of the Old Firm derby and his experience of the fixture got off to a great start with a 5-1 league victory at Celtic Park last month. It was a brilliant performance by the players in every aspect, he recalled. Obviously this one is on a neutral ground, but well be looking to have a similar performance. Well be prepared and focused. We know its going to be a tough game. We anticipated that the last time. Rodgers is also aware Celtics visit to Hampden last season in the Scottish Cup semi-final against Rangers ended in defeat. The last experience there wasnt so good for Celtic, he said. But its a different team with a different mentality and well look to take that mentality into the game. Rodgers lost two semi-finals in his time at Liverpool and is aiming to make it third time lucky at the club he joined in the summer. You have to perform - thats whats important and if you get little bit of luck along the way then hopefully youll get the result that you want. said the Northern Irishman. So, for us, its really looking at our performance level, which in the main has been at a really high level. My focus is always on my own team and, if we impose our style of play, it can give a lot of problems to opponents. Unlike predecessor Ronny Deila, Rodgers would not be drawn on this semi-final being a step on the way to a potential domestic treble. Its very, very difficult to achieve, he said. Theres been great managers here in the past that havent achieved that. But its the first competition where weve a chance to win a trophy and Ive always said that its a priority for us because its the first one. Our idea was to qualify for the Champions League, which we did, to make a good start in the league, which weve done, and then look to get to the League Cup final. Unless you can do that then you dont have the chance to win the trophies.']"
      ]
     },
     "execution_count": 52,
     "metadata": {},
     "output_type": "execute_result"
    }
   ],
   "source": [
    "comparison10"
   ]
  }
 ],
 "metadata": {
  "interpreter": {
   "hash": "0eebd8ec8ee1e3b0ea056353a4df6208bb651af5156ee9734311d083be2b2cbb"
  },
  "kernelspec": {
   "display_name": "Python 3.9.9 64-bit (windows store)",
   "language": "python",
   "name": "python3"
  },
  "language_info": {
   "codemirror_mode": {
    "name": "ipython",
    "version": 3
   },
   "file_extension": ".py",
   "mimetype": "text/x-python",
   "name": "python",
   "nbconvert_exporter": "python",
   "pygments_lexer": "ipython3",
   "version": "3.9.9"
  },
  "orig_nbformat": 4
 },
 "nbformat": 4,
 "nbformat_minor": 2
}
