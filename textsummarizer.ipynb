{
 "cells": [
  {
   "cell_type": "markdown",
   "metadata": {},
   "source": [
    "# Text Summary & Scoring Project\n",
    "##### Michael Creegan, Yungfeng Dai, Hong Gyu Ji, Ziling Zeng\n",
    "##### Python for Data Analysis\n",
    "##### Columbia University"
   ]
  },
  {
   "cell_type": "markdown",
   "metadata": {},
   "source": [
    "# Abstract\n",
    "\n",
    "Summarization is a common problem as we all have mountains of data in datalakes and on the web. Summarization of data can be very useful to see whether or not something is what you are loooking for or whether it's worth reading. Another use case could could be to store summaries of articles and store it in the backend and run downstream tasks on that data. It could also be useful to understand whether or not that summary is \"good\" or not that indicates the quality of the summary. \n",
    "\n",
    "To explore this topic, we will leverage the extreme summarization dataset from which consists of BBC articles accompanying single sentence summaries. Each article is prefaced with an introductory sentence (which is a summary) that is professionally written, typically by the author of the article.\n",
    "\n",
    "To summarize articles, we will use an encoder-decoder transformer (sequence-to-sequence) which combines  decodes and encoders because we need to perform both input and output tasks (taking in text and then generating a summary). We selected this type of transformer because the encoder accepts inputs (text) and computes a high level representation of those inputs  which are then passed to the decoder to generate a prediction output (summary). This has advantages over using a standalone encoder like BERT/ALBERT/ELECTRA/RoBERTA/DistilBERT to name a few because  encoders are pre-trained by filling randomly masked words in sentences and therefore are better suited for output tasks. Using a standalone decoder like gpt2 would also not be optimal because decoders are trained to guess the next word in a sequence (left or right context aka does not have context on one side of the sequence) and therefore are better suited at generating text but not necessarily taking in text because of the hidden context limitations. \n",
    "\n",
    "Our scoring will compare the output of the BART encoder-decoder model to the professionally written summaries in the XSUM dataset to see how similar a machine generated summary is to a professional one."
   ]
  },
  {
   "cell_type": "markdown",
   "metadata": {},
   "source": [
    "# Importing Transformers & Dependencies"
   ]
  },
  {
   "cell_type": "code",
   "execution_count": 1,
   "metadata": {},
   "outputs": [],
   "source": [
    "import pandas as pd\n",
    "import numpy as np\n",
    "from transformers import BartTokenizer, BartForConditionalGeneration, BartConfig\n",
    "from datasets import load_dataset, load_metric\n",
    "import random\n",
    "from IPython.display import display, HTML"
   ]
  },
  {
   "cell_type": "markdown",
   "metadata": {},
   "source": [
    "# Load XSUM Dataset"
   ]
  },
  {
   "cell_type": "code",
   "execution_count": 2,
   "metadata": {},
   "outputs": [
    {
     "name": "stderr",
     "output_type": "stream",
     "text": [
      "Using custom data configuration default\n",
      "Reusing dataset xsum (C:\\Users\\creeg\\.cache\\huggingface\\datasets\\xsum\\default\\1.2.0\\32c23220eadddb1149b16ed2e9430a05293768cfffbdfd151058697d4c11f934)\n",
      "100%|██████████| 3/3 [00:00<00:00, 52.67it/s]\n"
     ]
    }
   ],
   "source": [
    "xsum = load_dataset('xsum')"
   ]
  },
  {
   "cell_type": "markdown",
   "metadata": {},
   "source": [
    "### We can see that the dataset is a \"DatasetDict\" where the keys are strings that correspond to the split and the values are the dataset object. In the XSUM dataset, the the keys are \"training\", \"validation\", and \"test\" with values corresponding to \"document\", \"summary\", and \"id\" (columns)"
   ]
  },
  {
   "cell_type": "code",
   "execution_count": 3,
   "metadata": {},
   "outputs": [
    {
     "data": {
      "text/plain": [
       "DatasetDict({\n",
       "    train: Dataset({\n",
       "        features: ['document', 'summary', 'id'],\n",
       "        num_rows: 204045\n",
       "    })\n",
       "    validation: Dataset({\n",
       "        features: ['document', 'summary', 'id'],\n",
       "        num_rows: 11332\n",
       "    })\n",
       "    test: Dataset({\n",
       "        features: ['document', 'summary', 'id'],\n",
       "        num_rows: 11334\n",
       "    })\n",
       "})"
      ]
     },
     "execution_count": 3,
     "metadata": {},
     "output_type": "execute_result"
    }
   ],
   "source": [
    "xsum"
   ]
  },
  {
   "cell_type": "markdown",
   "metadata": {},
   "source": [
    "### View a record of the underlying data"
   ]
  },
  {
   "cell_type": "code",
   "execution_count": 4,
   "metadata": {},
   "outputs": [
    {
     "data": {
      "text/plain": [
       "{'document': 'Prison Link Cymru had 1,099 referrals in 2015-16 and said some ex-offenders were living rough for up to a year before finding suitable accommodation.\\nWorkers at the charity claim investment in housing would be cheaper than jailing homeless repeat offenders.\\nThe Welsh Government said more people than ever were getting help to address housing problems.\\nChanges to the Housing Act in Wales, introduced in 2015, removed the right for prison leavers to be given priority for accommodation.\\nPrison Link Cymru, which helps people find accommodation after their release, said things were generally good for women because issues such as children or domestic violence were now considered.\\nHowever, the same could not be said for men, the charity said, because issues which often affect them, such as post traumatic stress disorder or drug dependency, were often viewed as less of a priority.\\nAndrew Stevens, who works in Welsh prisons trying to secure housing for prison leavers, said the need for accommodation was \"chronic\".\\n\"There\\'s a desperate need for it, finding suitable accommodation for those leaving prison there is just a lack of it everywhere,\" he said.\\n\"It could take six months to a year, without a lot of help they could be on the streets for six months.\\n\"When you think of the consequences of either being on the street, especially with the cold weather at the moment or you may have a roof over your head, sometimes there is only one choice.\"\\nMr Stevens believes building more one-bedroom flats could help ease the problem.\\n\"The average price is a hundred pounds a week to keep someone in a rented flat, prison is a lot more than that so I would imagine it would save the public purse quite a few pounds,\" he said.\\nOfficial figures show 830 one-bedroom properties were built in the year to March 2016, of an overall total of 6,900 new properties in Wales.\\nMarc, 50, who has been in and out of prison for the past 20 years for burglary offences, said he struggled to find accommodation each time he was released.\\nHe said he would ask himself: \"Where am I going to stay? Where am I going to live? Have I got somewhere where I can see my daughter.\"\\n\"You\\'re put out among the same sort of people doing the same sort of thing, and it\\'s difficult, it\\'s difficult to get away from it. It\\'s like every man for himself, there\\'s nothing.\"\\nMarc has now found stable accommodation with homeless charity Emmaus and said it had been life changing.\\n\"You feel safe, you got hot food, you\\'ve got company of people in similar situations to yourself but all dealing with different issues. It\\'s a constructive, helpful atmosphere,\" he said.\\nTom Clarke, chief executive of Emmaus South Wales, agreed there was not enough support available.\\n\"We do still see [people] homeless on the streets, so clearly they haven\\'t got accommodation and haven\\'t got provision,\" he said.\\n\"I think the key is connecting people with the services they need. I don\\'t delude myself that Emmaus can offer a one size fits all for everyone, we can\\'t.\\n\"But there must be other opportunities and given suitable encouragement I believe that can and should happen.\"\\nA Welsh Government spokesman said the national pathway for homeless services to children, young people and adults in the secure estate had prevented many people from losing their home whilst serving their prison sentence.\\nIt added there were already significant demands for one-bedroom flats across the public and private sector and it was providing 20,000 new affordable homes in the next five years.',\n",
       " 'summary': 'There is a \"chronic\" need for more housing for prison leavers in Wales, according to a charity.',\n",
       " 'id': '38264402'}"
      ]
     },
     "execution_count": 4,
     "metadata": {},
     "output_type": "execute_result"
    }
   ],
   "source": [
    "xsum['test'][0]"
   ]
  },
  {
   "cell_type": "markdown",
   "metadata": {},
   "source": [
    "### We can use a function to view a random selection of articles and summaries in the training section (largest section) to get a more accurate depiction of what the data looks like in an easier to read format"
   ]
  },
  {
   "cell_type": "code",
   "execution_count": 5,
   "metadata": {},
   "outputs": [],
   "source": [
    "def display_function(xsum, num_examples=5):\n",
    "    assert num_examples <= len(xsum)                # limit to number of records in the xsum\n",
    "    \n",
    "    selections = []                                      # create empty list to put the records into \n",
    "    \n",
    "    for _ in range(num_examples):                   # we can use _ here in place of a variable name because we don't care how many time sthe loop is run\n",
    "        selection = random.randint(0, len(xsum) - 1)\n",
    "        while selection in selections:\n",
    "            selection = random.randint(0, len(xsum) - 1)\n",
    "        selections.append(selection)\n",
    "\n",
    "    xsumPd = pd.DataFrame(xsum[selections])\n",
    "    for column, typ in xsum.features.items():\n",
    "        display(HTML(xsumPd.to_html()))"
   ]
  },
  {
   "cell_type": "markdown",
   "metadata": {},
   "source": [
    "### Our end goal is to create accurate summaries using this model so we need to remove the text characters that do not provide any contextual value. We can also see that there are characters in the document that are not present in the summary which could cause discrepencies between our machine generated summary vs the professional human generated one. We need to remove new line characters that are present in the document column but not the summary column"
   ]
  },
  {
   "cell_type": "code",
   "execution_count": 6,
   "metadata": {},
   "outputs": [
    {
     "data": {
      "text/html": [
       "<table border=\"1\" class=\"dataframe\">\n",
       "  <thead>\n",
       "    <tr style=\"text-align: right;\">\n",
       "      <th></th>\n",
       "      <th>document</th>\n",
       "      <th>summary</th>\n",
       "      <th>id</th>\n",
       "    </tr>\n",
       "  </thead>\n",
       "  <tbody>\n",
       "    <tr>\n",
       "      <th>0</th>\n",
       "      <td>Andrew Sleat, 43, of Blackfold Road, Crawley, was also fined Â£300 at Crawley Magistrates' Court after he was convicted of drinking and driving.\\nAbout 20 people were evacuated from their homes after the crash in Ardingly High Street on 14 November.\\nSleat's Ford Mondeo also damaged three cars in the village.</td>\n",
       "      <td>A man has been disqualified from driving for 22 months after he crashed his car into a house in West Sussex and caused a gas leak.</td>\n",
       "      <td>30437661</td>\n",
       "    </tr>\n",
       "    <tr>\n",
       "      <th>1</th>\n",
       "      <td>The ex-Bury and Sheffield United player was abused while at Crewe Alexandra from the age of 11 to 15.\\nHis abuser, Barry Bennell, was jailed for nine years in 1998 after admitting sexual offences against six boys.\\nWarnock said Mr Woodward gave other alleged victims the courage to speak.\\nMr Woodward, was the first to go public last week, and has since been followed by several others who have made allegations about being sexually abused by coaches as children.\\nCheshire Police said 11 people had come forward after Mr Woodward waived his anonymity, including his fellow ex-Crewe player Steve Walters, 44, who said he had been abused by Bennell, when he was 13 or 14, during a trip to Anglesey.\\nA dedicated NSPCC hotline - 0800 023 2642 - set up after the abuse claims came to light, received more than 50 calls within its first two hours.\\nAbuse claims: Who has spoken out?\\nFootball abused 'could number hundreds'\\nWe must protect next generation - FA chief\\nWarnock said he had spoken to Mr Woodward before he went public.\\n''I had an hour with him on the phone and in that conversation he broke down in tears because it's horrific,'' the Cardiff manager said.\\n''It's alright saying it's a long time ago but to actually confront it in the media takes so much guts.\\n''I've told him how proud I am of him and I think by his bravery it will open up everything now and it will be a relief for so many ex-players that have been through the same situation.''\\nHe added: ''I wasn't aware how bad it was at the time when I helped him. He was at Bury and I thought he was outstanding so I'd promised to take him with me when I went to Sheffield United.\\n''But then he just lost his form overnight with no real reason, until he spoke to me. I felt I had to carry on and take him because I'd given him my word.\\n''When you listen to his story and when I look back now, I couldn't understand it at the time and I don't think any of us could ever envisage what Andy and the other lads have had to go through.\\n''I think it becomes easier now. Now it's out in the open I think they can get on with their lives and I think Andy will help a lot of people. He's that type of person who will talk to those who want privacy and help them.\\n''It's a good thing he's set in motion because I think what Andy brought out is the tip of the iceberg and we'll see that in the coming months.''\\nWarnock said measures had been put in place in recent years regarding checks on young players' coaches and there was now support for those who need it.\\nHe said: ''I think there has to be changes but we have everything in place, financially and everything, we have no excuse to let young lads down now.\\n''The helplines they are setting up at every level, if a parent's worried, there's help there. It has to be, not just the professionals, but the Sunday Leagues.\"</td>\n",
       "      <td>Cardiff City manager Neil Warnock has praised the bravery of his former player Andy Woodward for speaking out about being sexually abused by a coach as a child.</td>\n",
       "      <td>38105791</td>\n",
       "    </tr>\n",
       "    <tr>\n",
       "      <th>2</th>\n",
       "      <td>There had been cases of \"verbal abuse hurled\" at ethnic minorities, and \"despicable graffiti daubed on a Polish community centre\", he told the Commons.\\nSuch attacks must be stamped out, he said, urging people to remember \"these people have come here and made a wonderful contribution to our county\".\\nPolice are probing some incidents.\\nDo Europeans still feel welcome?\\nBristol resident challenges racism with roses\\nMr Cameron said \"we have a fundamental responsibility to bring our country together\" after the vote.\\n\"And we will not stand for hate crime or these kinds of attacks. They must be stamped out,\" he said.\\nHe said there would be \"no immediate change\" in the rights of EU nationals living in the UK, or UK citizens living in EU countries.\\nSince the vote, there have been reports of racism on social media, and a number of groups have reported a rise in incidents of racism and hate crime.\\nTrue Vision, a police-funded online reporting facility for hate crime, said it had received 85 reports between Thursday 23 and Sunday 26 June compared with 54 reports during the same period last month.\\nIn London, the Metropolitan Police are investigating graffiti at a Polish community building in Hammersmith which they are treating as a hate crime \"because of the racially-aggravated nature of the criminal damage\".\\nCambridgeshire Police are also investigating reports that laminated cards reading \"Leave the EU - no more Polish vermin\" were delivered to members of the Polish community in Huntingdon on Saturday.\\nPoland's ambassador to the UK Witold Sobkow said he was \"shocked and deeply concerned by the recent incidents of xenophobic abuse directed against the Polish community and other UK residents of migrant heritage\".\\nThe full picture regarding hate crime after a Brexit vote could take months to emerge. And the national trend in recent years has been quite complicated.\\nPolice-recorded hate crimes have been rising - but that could be more victims coming forward because they have confidence police will take them seriously.\\nThe Crime Survey for England and Wales, an internationally-recognised rolling study of the bigger picture, suggests racism is slowly being pushed to the margins.\\nBut there's no doubt that genuine moments of extreme national or global tension - such as major terrorist incidents or the conflict in the Middle East - are followed by spikes.\\nExtremists appear to take the opportunity to act because they think they can get away with it.\\nSo the question is this: are the latest statistics a blip or a sign of a more worrying long-term trend?\\nIman Etta, of Tell Mama UK, which collates reports of anti-Muslim abuse, said: \"We've seen a spike in anti-Muslim hatred incidents and racist incidents reported in to us that are related to the result of the referendum, where perpetrators have been using words like 'we voted you out', 'you should be kicked out', and 'we no longer want you here'.\"\\nMuslim Remain campaigner Shazia Awan, a former Conservative parliamentary candidate, told the BBC's Victoria Derbyshire she had received several abusive tweets and emails.\\nOne email read: \"You are not now, nor will you ever be, Welsh. Being born in Wales has nothing to do with being Welsh.\\n\"I cannot wait to send you and the anti-white garbage that you stand for back to the Third World dumps that you came from.\"\\nThe Muslim Council of Britain said it had compiled more than 100 incidents of reported hate crimes since the result.\\nDr Shuja Shafi, the body's secretary general, said: \"Now we are witnessing the shocking extent of this with reports around the country of hate speech and minorities being targeted.\\n\"Our country is experiencing a political crisis which, I fear threatens the social peace.\"\\nHe said he would be writing to the home secretary to ask what measures were being taken to step up security and policing in areas where such incidences have been reported.\\nMayor of London Sadiq Khan said he had asked the capital's Metropolitan Police to be on heightened alert for any rise in hate crime.\\n\"I take seriously my responsibility to defend London's fantastic mix of diversity and tolerance,\" he said.\\n\"So it's really important we stand guard against any rise in hate crimes or abuse by those who might use last week's referendum as cover to seek to divide us.\"\\nHe added it was important not to demonise the 1.5 million people in London who voted for Brexit, and they should not be accused \"of being xenophobic or racist\".\\nMetropolitan Police Commissioner Sir Bernard Hogan-Howe said officers would \"investigate vigorously any reports of crime motivated by hatred\".\\nKaren Bradley, the minister for preventing abuse, exploitation and crime, said \"nobody in this country should live in fear because of who they are\".\\n\"The government is working closely with communities to increase reporting and increase confidence that their concerns about hate crime will be taken seriously by the police and courts,\" she said.\\nNo official statistics for reported incidents or racism or hate crime across the UK have yet been published. They are compiled by individual police forces.\\nThe MP for Birmingham Yardley, Jess Phillips, has tweeted that she will ask a Parliamentary question on the issue.\\nHowever, numerous people have posted accounts of personal experiences on Twitter alongside the hashtag #PostRefRacism.\\nSky News presenter Adam Boulton tweeted: \"This weekend I and my family have witnessed 3 \"when are you going home?\" Racist incidents aimed at EU citizens here.\"\\nBBC journalist Sima Kotecha tweeted: \"In utter shock: just been called p**i in my home town! Haven't heard that word here since the 80s..!\"\\nAnother user, James Titcombe, tweeted: \"Daughter tells me someone wrote '[Child's name] go back to Romania' on the wall in the girls toilets at School today.\"</td>\n",
       "      <td>David Cameron has condemned \"despicable\" incidents of hate crime reported in the wake of the UK's referendum vote to leave the EU.</td>\n",
       "      <td>36643213</td>\n",
       "    </tr>\n",
       "    <tr>\n",
       "      <th>3</th>\n",
       "      <td>Media playback is not supported on this device\\nIn a tough breeze, 22-year-old Spieth carded a one-over 73 to lead for a record seventh consecutive round.\\nSmylie Kaufman will play with his fellow American on Sunday, with former champion Bernhard Langer and Japan's Hideki Matsuyama a further shot behind.\\nMcIlroy, 26, started the day one behind Spieth, but ended five back after a 77.\\nThe Northern Irishman started his third round with genuine hopes of winning the Green Jacket after a late rally on Friday.\\nBut his bid to become only the sixth man to win all four majors suffered following a birdie-free round featuring three bogeys and one double bogey which left him in a tie for 11th place.\\nMcIlroy will tee off at 18:55 BST on Sunday, with the final pairing of Spieth and Kaufman going out at 19:45.\\nSunday's tee-off times\\nRelive Saturday's third round at Augusta\\nMedia playback is not supported on this device\\nSaturday was billed as a showdown between the final pairing of Spieth and McIlroy, but the expected battle between golf's youthful poster boys failed to materialise.\\nWorld number three McIlroy struggled to find his rhythm throughout, allowing Spieth to take control without the defending champion being at his fluent best.\\nBut while McIlroy was unable to pick up any shots, blowing a decent chance at the last by pushing wide a nine-foot putt, his rival still managed to grind out five birdies.\\nHowever, Spieth's card suffered considerably with two rare double bogeys.\\nThe Texan three-putted on the 505-yard, par-four 11th, offering hope to his nearest challengers who, at this stage, were Matsuyama and Langer.\\nHe rectified that sloppy mistake with three birdies in the next four holes, opening up another four-stroke lead over 24-year-old Kaufman, who had emerged from the pack with three birdies of his own in the final six holes.\\nBut Spieth's poor final hole - driving right into the trees before falling 50 foot short of the pin with an undercooked third shot - gave renewed belief to the rest of the leaderboard.\\n\"Two under with three to go and the wind at your side, I just got really wayward from there,\" said Spieth.\\n\"I just have to absolutely throw away the finish to this round, pretend it's a new round, everyone is tied and you have to shoot the best score to win.\\n\"I have to understand it's the position I wanted to be in after 54 holes and not think about the finish to this round.\"\\nMedia playback is not supported on this device\\nSpieth had earlier extended his lead with a two-putt birdie on the par-five second, where McIlroy had to settle for a par after missing from nine feet.\\nMcIlroy dropped his first shot on the par-four third, whereas Spieth recovered from a wayward drive to save par and extend his lead to three.\\nBy the turn, the world number two was four shots ahead, before McIlroy's challenge faded when he pulled tee-shots at 10 and 11 on his way to dropping three shots.\\nThat may have all but ended his Masters quest for another year, despite the four-time major winner arresting his decline with seven straight pars on his way back to the clubhouse.\\n\"I couldn't get anything going really,\" McIlroy said. \"I am disappointed. I felt like I righted the ship a little on the back nine but couldn't take the few opportunities I gave myself.\\n\"If I am to take heart from anything then it's the fact Jordan has just let a lot of people in after his finish.\"\\nWhile Spieth and McIlroy struggled to impress, it was a player at the other end of his career who threatened to steal the show.\\nFormer world number one Langer, who won the Green Jacket in 1985 and 1993, was five shots adrift of overnight leader Spieth at the start of Saturday's third round.\\nBut the veteran German carded three birdies in a front-nine 35 to make the biggest progress on 'Moving Day' - the penultimate day of a major where contenders on the fringes know they must perform well.\\nLanger dropped a shot on the iconic par-three 12th, but bounced back with three straight birdies to take a share of second place with Matsuyama.\\nA loose tee-shot out right on the 18th left him scrambling, but he managed to limit the damage by holing a tricky seven-foot putt for bogey.\\nThe Augusta galleries showed their appreciation for the unlikely challenger, now ranked 1,080 in the world, with a standing ovation.\\n\"I believe I can win. Obviously it depends how the others do,\" said Langer.\\n\"If I play my best, I can shoot four or five under tomorrow, I think, if the conditions are a little bit better.\"\\nMedia playback is not supported on this device\\nThe world's best golfers struggled to tame Augusta in a testing third round caused by winds gusting up to 30mph.\\nOnly five of the 57-man field managed to finish under par, Kaufman carding the best round of the day with a three-under 69.\\nBut the course was described as \"brutal\" by another American, Kevin Kisner, who shot a 76.\\n\"Every shot is just guessing and hitting and praying. I never felt comfortable even on wedge shots all day and putts are just brutal,\" he said.\\n\"I watched [playing partner] Justin Thomas hit a four-footer that went 55 feet. I mean you don't see that stuff. It's not supposed to happen.\"\\nAsked what he could learn from the experience, he joked: \"Yeah, you go home and have a beer and sit on the couch and laugh at everybody else.\"\\nNever want to miss the latest golf news? You can now add this sport and all the other sports and teams you follow to your personalised My Sport home.</td>\n",
       "      <td>Jordan Spieth will begin the final day at the Masters with a one-shot lead but playing partner Rory McIlroy's bid faltered on day three at Augusta.</td>\n",
       "      <td>36007122</td>\n",
       "    </tr>\n",
       "    <tr>\n",
       "      <th>4</th>\n",
       "      <td>Researchers found that four out of five children in England who ate school lunches had tried food at school that they had not tried at home.\\nHalf of parents questioned said their children had asked for foods they had eaten at school to be cooked at home.\\nThe survey, of about 1,000 parents, found the most popular vegetables were carrots, sweetcorn and peas.\\nAubergine, chickpeas and spinach were among the least popular.\\nOf the parents questioned, 628 had children who ate school lunches.\\n(% denotes proportion of parents who said their child would eat each vegetable)\\nEngland's School Food Trust commissioned the research after a survey by the Mumsnet website suggested some parents gave their children packed lunches because they thought they were too fussy to eat anything else.\\nTrust chairman, Rob Rees, said: \"Every parent knows it's a nightmare watching their child push food around the plate.\\n\"School meals can be a great way to help parents encourage their children to try new foods and to increase the variety of foods in their diet.\"\\nMumsnet co-founder, Carrie Longton, said: \"Getting children to eat healthily is every parent's dream, but meal times at home can often be a battle ground and emotionally charged.\\n\"From Mumsnetters' experience it seems that once at school there's a desire to fit in with everyone else and even some positive peer pressure to boast about the variety of what foods you can eat.\\n\"School meals have also moved on quite a bit from when Mumsnetters were at school, with healthier options and more variety.\"\\nSchool meals in England now have to comply with strict nutritional guidelines.\\nAbout four in 10 primary school children in England now eat school lunches, slightly more than in secondary schools.\\nMore children in Scotland eat school lunches - about 46%.\\nThe survey was conducted online between 26 February and 5th March among a panel of parents who had at least one child in school aged 4-17 years old.</td>\n",
       "      <td>School lunches can tempt fussy eaters to try new foods, a survey for the School Food Trust has suggested.</td>\n",
       "      <td>11154244</td>\n",
       "    </tr>\n",
       "  </tbody>\n",
       "</table>"
      ],
      "text/plain": [
       "<IPython.core.display.HTML object>"
      ]
     },
     "metadata": {},
     "output_type": "display_data"
    },
    {
     "data": {
      "text/html": [
       "<table border=\"1\" class=\"dataframe\">\n",
       "  <thead>\n",
       "    <tr style=\"text-align: right;\">\n",
       "      <th></th>\n",
       "      <th>document</th>\n",
       "      <th>summary</th>\n",
       "      <th>id</th>\n",
       "    </tr>\n",
       "  </thead>\n",
       "  <tbody>\n",
       "    <tr>\n",
       "      <th>0</th>\n",
       "      <td>Andrew Sleat, 43, of Blackfold Road, Crawley, was also fined Â£300 at Crawley Magistrates' Court after he was convicted of drinking and driving.\\nAbout 20 people were evacuated from their homes after the crash in Ardingly High Street on 14 November.\\nSleat's Ford Mondeo also damaged three cars in the village.</td>\n",
       "      <td>A man has been disqualified from driving for 22 months after he crashed his car into a house in West Sussex and caused a gas leak.</td>\n",
       "      <td>30437661</td>\n",
       "    </tr>\n",
       "    <tr>\n",
       "      <th>1</th>\n",
       "      <td>The ex-Bury and Sheffield United player was abused while at Crewe Alexandra from the age of 11 to 15.\\nHis abuser, Barry Bennell, was jailed for nine years in 1998 after admitting sexual offences against six boys.\\nWarnock said Mr Woodward gave other alleged victims the courage to speak.\\nMr Woodward, was the first to go public last week, and has since been followed by several others who have made allegations about being sexually abused by coaches as children.\\nCheshire Police said 11 people had come forward after Mr Woodward waived his anonymity, including his fellow ex-Crewe player Steve Walters, 44, who said he had been abused by Bennell, when he was 13 or 14, during a trip to Anglesey.\\nA dedicated NSPCC hotline - 0800 023 2642 - set up after the abuse claims came to light, received more than 50 calls within its first two hours.\\nAbuse claims: Who has spoken out?\\nFootball abused 'could number hundreds'\\nWe must protect next generation - FA chief\\nWarnock said he had spoken to Mr Woodward before he went public.\\n''I had an hour with him on the phone and in that conversation he broke down in tears because it's horrific,'' the Cardiff manager said.\\n''It's alright saying it's a long time ago but to actually confront it in the media takes so much guts.\\n''I've told him how proud I am of him and I think by his bravery it will open up everything now and it will be a relief for so many ex-players that have been through the same situation.''\\nHe added: ''I wasn't aware how bad it was at the time when I helped him. He was at Bury and I thought he was outstanding so I'd promised to take him with me when I went to Sheffield United.\\n''But then he just lost his form overnight with no real reason, until he spoke to me. I felt I had to carry on and take him because I'd given him my word.\\n''When you listen to his story and when I look back now, I couldn't understand it at the time and I don't think any of us could ever envisage what Andy and the other lads have had to go through.\\n''I think it becomes easier now. Now it's out in the open I think they can get on with their lives and I think Andy will help a lot of people. He's that type of person who will talk to those who want privacy and help them.\\n''It's a good thing he's set in motion because I think what Andy brought out is the tip of the iceberg and we'll see that in the coming months.''\\nWarnock said measures had been put in place in recent years regarding checks on young players' coaches and there was now support for those who need it.\\nHe said: ''I think there has to be changes but we have everything in place, financially and everything, we have no excuse to let young lads down now.\\n''The helplines they are setting up at every level, if a parent's worried, there's help there. It has to be, not just the professionals, but the Sunday Leagues.\"</td>\n",
       "      <td>Cardiff City manager Neil Warnock has praised the bravery of his former player Andy Woodward for speaking out about being sexually abused by a coach as a child.</td>\n",
       "      <td>38105791</td>\n",
       "    </tr>\n",
       "    <tr>\n",
       "      <th>2</th>\n",
       "      <td>There had been cases of \"verbal abuse hurled\" at ethnic minorities, and \"despicable graffiti daubed on a Polish community centre\", he told the Commons.\\nSuch attacks must be stamped out, he said, urging people to remember \"these people have come here and made a wonderful contribution to our county\".\\nPolice are probing some incidents.\\nDo Europeans still feel welcome?\\nBristol resident challenges racism with roses\\nMr Cameron said \"we have a fundamental responsibility to bring our country together\" after the vote.\\n\"And we will not stand for hate crime or these kinds of attacks. They must be stamped out,\" he said.\\nHe said there would be \"no immediate change\" in the rights of EU nationals living in the UK, or UK citizens living in EU countries.\\nSince the vote, there have been reports of racism on social media, and a number of groups have reported a rise in incidents of racism and hate crime.\\nTrue Vision, a police-funded online reporting facility for hate crime, said it had received 85 reports between Thursday 23 and Sunday 26 June compared with 54 reports during the same period last month.\\nIn London, the Metropolitan Police are investigating graffiti at a Polish community building in Hammersmith which they are treating as a hate crime \"because of the racially-aggravated nature of the criminal damage\".\\nCambridgeshire Police are also investigating reports that laminated cards reading \"Leave the EU - no more Polish vermin\" were delivered to members of the Polish community in Huntingdon on Saturday.\\nPoland's ambassador to the UK Witold Sobkow said he was \"shocked and deeply concerned by the recent incidents of xenophobic abuse directed against the Polish community and other UK residents of migrant heritage\".\\nThe full picture regarding hate crime after a Brexit vote could take months to emerge. And the national trend in recent years has been quite complicated.\\nPolice-recorded hate crimes have been rising - but that could be more victims coming forward because they have confidence police will take them seriously.\\nThe Crime Survey for England and Wales, an internationally-recognised rolling study of the bigger picture, suggests racism is slowly being pushed to the margins.\\nBut there's no doubt that genuine moments of extreme national or global tension - such as major terrorist incidents or the conflict in the Middle East - are followed by spikes.\\nExtremists appear to take the opportunity to act because they think they can get away with it.\\nSo the question is this: are the latest statistics a blip or a sign of a more worrying long-term trend?\\nIman Etta, of Tell Mama UK, which collates reports of anti-Muslim abuse, said: \"We've seen a spike in anti-Muslim hatred incidents and racist incidents reported in to us that are related to the result of the referendum, where perpetrators have been using words like 'we voted you out', 'you should be kicked out', and 'we no longer want you here'.\"\\nMuslim Remain campaigner Shazia Awan, a former Conservative parliamentary candidate, told the BBC's Victoria Derbyshire she had received several abusive tweets and emails.\\nOne email read: \"You are not now, nor will you ever be, Welsh. Being born in Wales has nothing to do with being Welsh.\\n\"I cannot wait to send you and the anti-white garbage that you stand for back to the Third World dumps that you came from.\"\\nThe Muslim Council of Britain said it had compiled more than 100 incidents of reported hate crimes since the result.\\nDr Shuja Shafi, the body's secretary general, said: \"Now we are witnessing the shocking extent of this with reports around the country of hate speech and minorities being targeted.\\n\"Our country is experiencing a political crisis which, I fear threatens the social peace.\"\\nHe said he would be writing to the home secretary to ask what measures were being taken to step up security and policing in areas where such incidences have been reported.\\nMayor of London Sadiq Khan said he had asked the capital's Metropolitan Police to be on heightened alert for any rise in hate crime.\\n\"I take seriously my responsibility to defend London's fantastic mix of diversity and tolerance,\" he said.\\n\"So it's really important we stand guard against any rise in hate crimes or abuse by those who might use last week's referendum as cover to seek to divide us.\"\\nHe added it was important not to demonise the 1.5 million people in London who voted for Brexit, and they should not be accused \"of being xenophobic or racist\".\\nMetropolitan Police Commissioner Sir Bernard Hogan-Howe said officers would \"investigate vigorously any reports of crime motivated by hatred\".\\nKaren Bradley, the minister for preventing abuse, exploitation and crime, said \"nobody in this country should live in fear because of who they are\".\\n\"The government is working closely with communities to increase reporting and increase confidence that their concerns about hate crime will be taken seriously by the police and courts,\" she said.\\nNo official statistics for reported incidents or racism or hate crime across the UK have yet been published. They are compiled by individual police forces.\\nThe MP for Birmingham Yardley, Jess Phillips, has tweeted that she will ask a Parliamentary question on the issue.\\nHowever, numerous people have posted accounts of personal experiences on Twitter alongside the hashtag #PostRefRacism.\\nSky News presenter Adam Boulton tweeted: \"This weekend I and my family have witnessed 3 \"when are you going home?\" Racist incidents aimed at EU citizens here.\"\\nBBC journalist Sima Kotecha tweeted: \"In utter shock: just been called p**i in my home town! Haven't heard that word here since the 80s..!\"\\nAnother user, James Titcombe, tweeted: \"Daughter tells me someone wrote '[Child's name] go back to Romania' on the wall in the girls toilets at School today.\"</td>\n",
       "      <td>David Cameron has condemned \"despicable\" incidents of hate crime reported in the wake of the UK's referendum vote to leave the EU.</td>\n",
       "      <td>36643213</td>\n",
       "    </tr>\n",
       "    <tr>\n",
       "      <th>3</th>\n",
       "      <td>Media playback is not supported on this device\\nIn a tough breeze, 22-year-old Spieth carded a one-over 73 to lead for a record seventh consecutive round.\\nSmylie Kaufman will play with his fellow American on Sunday, with former champion Bernhard Langer and Japan's Hideki Matsuyama a further shot behind.\\nMcIlroy, 26, started the day one behind Spieth, but ended five back after a 77.\\nThe Northern Irishman started his third round with genuine hopes of winning the Green Jacket after a late rally on Friday.\\nBut his bid to become only the sixth man to win all four majors suffered following a birdie-free round featuring three bogeys and one double bogey which left him in a tie for 11th place.\\nMcIlroy will tee off at 18:55 BST on Sunday, with the final pairing of Spieth and Kaufman going out at 19:45.\\nSunday's tee-off times\\nRelive Saturday's third round at Augusta\\nMedia playback is not supported on this device\\nSaturday was billed as a showdown between the final pairing of Spieth and McIlroy, but the expected battle between golf's youthful poster boys failed to materialise.\\nWorld number three McIlroy struggled to find his rhythm throughout, allowing Spieth to take control without the defending champion being at his fluent best.\\nBut while McIlroy was unable to pick up any shots, blowing a decent chance at the last by pushing wide a nine-foot putt, his rival still managed to grind out five birdies.\\nHowever, Spieth's card suffered considerably with two rare double bogeys.\\nThe Texan three-putted on the 505-yard, par-four 11th, offering hope to his nearest challengers who, at this stage, were Matsuyama and Langer.\\nHe rectified that sloppy mistake with three birdies in the next four holes, opening up another four-stroke lead over 24-year-old Kaufman, who had emerged from the pack with three birdies of his own in the final six holes.\\nBut Spieth's poor final hole - driving right into the trees before falling 50 foot short of the pin with an undercooked third shot - gave renewed belief to the rest of the leaderboard.\\n\"Two under with three to go and the wind at your side, I just got really wayward from there,\" said Spieth.\\n\"I just have to absolutely throw away the finish to this round, pretend it's a new round, everyone is tied and you have to shoot the best score to win.\\n\"I have to understand it's the position I wanted to be in after 54 holes and not think about the finish to this round.\"\\nMedia playback is not supported on this device\\nSpieth had earlier extended his lead with a two-putt birdie on the par-five second, where McIlroy had to settle for a par after missing from nine feet.\\nMcIlroy dropped his first shot on the par-four third, whereas Spieth recovered from a wayward drive to save par and extend his lead to three.\\nBy the turn, the world number two was four shots ahead, before McIlroy's challenge faded when he pulled tee-shots at 10 and 11 on his way to dropping three shots.\\nThat may have all but ended his Masters quest for another year, despite the four-time major winner arresting his decline with seven straight pars on his way back to the clubhouse.\\n\"I couldn't get anything going really,\" McIlroy said. \"I am disappointed. I felt like I righted the ship a little on the back nine but couldn't take the few opportunities I gave myself.\\n\"If I am to take heart from anything then it's the fact Jordan has just let a lot of people in after his finish.\"\\nWhile Spieth and McIlroy struggled to impress, it was a player at the other end of his career who threatened to steal the show.\\nFormer world number one Langer, who won the Green Jacket in 1985 and 1993, was five shots adrift of overnight leader Spieth at the start of Saturday's third round.\\nBut the veteran German carded three birdies in a front-nine 35 to make the biggest progress on 'Moving Day' - the penultimate day of a major where contenders on the fringes know they must perform well.\\nLanger dropped a shot on the iconic par-three 12th, but bounced back with three straight birdies to take a share of second place with Matsuyama.\\nA loose tee-shot out right on the 18th left him scrambling, but he managed to limit the damage by holing a tricky seven-foot putt for bogey.\\nThe Augusta galleries showed their appreciation for the unlikely challenger, now ranked 1,080 in the world, with a standing ovation.\\n\"I believe I can win. Obviously it depends how the others do,\" said Langer.\\n\"If I play my best, I can shoot four or five under tomorrow, I think, if the conditions are a little bit better.\"\\nMedia playback is not supported on this device\\nThe world's best golfers struggled to tame Augusta in a testing third round caused by winds gusting up to 30mph.\\nOnly five of the 57-man field managed to finish under par, Kaufman carding the best round of the day with a three-under 69.\\nBut the course was described as \"brutal\" by another American, Kevin Kisner, who shot a 76.\\n\"Every shot is just guessing and hitting and praying. I never felt comfortable even on wedge shots all day and putts are just brutal,\" he said.\\n\"I watched [playing partner] Justin Thomas hit a four-footer that went 55 feet. I mean you don't see that stuff. It's not supposed to happen.\"\\nAsked what he could learn from the experience, he joked: \"Yeah, you go home and have a beer and sit on the couch and laugh at everybody else.\"\\nNever want to miss the latest golf news? You can now add this sport and all the other sports and teams you follow to your personalised My Sport home.</td>\n",
       "      <td>Jordan Spieth will begin the final day at the Masters with a one-shot lead but playing partner Rory McIlroy's bid faltered on day three at Augusta.</td>\n",
       "      <td>36007122</td>\n",
       "    </tr>\n",
       "    <tr>\n",
       "      <th>4</th>\n",
       "      <td>Researchers found that four out of five children in England who ate school lunches had tried food at school that they had not tried at home.\\nHalf of parents questioned said their children had asked for foods they had eaten at school to be cooked at home.\\nThe survey, of about 1,000 parents, found the most popular vegetables were carrots, sweetcorn and peas.\\nAubergine, chickpeas and spinach were among the least popular.\\nOf the parents questioned, 628 had children who ate school lunches.\\n(% denotes proportion of parents who said their child would eat each vegetable)\\nEngland's School Food Trust commissioned the research after a survey by the Mumsnet website suggested some parents gave their children packed lunches because they thought they were too fussy to eat anything else.\\nTrust chairman, Rob Rees, said: \"Every parent knows it's a nightmare watching their child push food around the plate.\\n\"School meals can be a great way to help parents encourage their children to try new foods and to increase the variety of foods in their diet.\"\\nMumsnet co-founder, Carrie Longton, said: \"Getting children to eat healthily is every parent's dream, but meal times at home can often be a battle ground and emotionally charged.\\n\"From Mumsnetters' experience it seems that once at school there's a desire to fit in with everyone else and even some positive peer pressure to boast about the variety of what foods you can eat.\\n\"School meals have also moved on quite a bit from when Mumsnetters were at school, with healthier options and more variety.\"\\nSchool meals in England now have to comply with strict nutritional guidelines.\\nAbout four in 10 primary school children in England now eat school lunches, slightly more than in secondary schools.\\nMore children in Scotland eat school lunches - about 46%.\\nThe survey was conducted online between 26 February and 5th March among a panel of parents who had at least one child in school aged 4-17 years old.</td>\n",
       "      <td>School lunches can tempt fussy eaters to try new foods, a survey for the School Food Trust has suggested.</td>\n",
       "      <td>11154244</td>\n",
       "    </tr>\n",
       "  </tbody>\n",
       "</table>"
      ],
      "text/plain": [
       "<IPython.core.display.HTML object>"
      ]
     },
     "metadata": {},
     "output_type": "display_data"
    },
    {
     "data": {
      "text/html": [
       "<table border=\"1\" class=\"dataframe\">\n",
       "  <thead>\n",
       "    <tr style=\"text-align: right;\">\n",
       "      <th></th>\n",
       "      <th>document</th>\n",
       "      <th>summary</th>\n",
       "      <th>id</th>\n",
       "    </tr>\n",
       "  </thead>\n",
       "  <tbody>\n",
       "    <tr>\n",
       "      <th>0</th>\n",
       "      <td>Andrew Sleat, 43, of Blackfold Road, Crawley, was also fined Â£300 at Crawley Magistrates' Court after he was convicted of drinking and driving.\\nAbout 20 people were evacuated from their homes after the crash in Ardingly High Street on 14 November.\\nSleat's Ford Mondeo also damaged three cars in the village.</td>\n",
       "      <td>A man has been disqualified from driving for 22 months after he crashed his car into a house in West Sussex and caused a gas leak.</td>\n",
       "      <td>30437661</td>\n",
       "    </tr>\n",
       "    <tr>\n",
       "      <th>1</th>\n",
       "      <td>The ex-Bury and Sheffield United player was abused while at Crewe Alexandra from the age of 11 to 15.\\nHis abuser, Barry Bennell, was jailed for nine years in 1998 after admitting sexual offences against six boys.\\nWarnock said Mr Woodward gave other alleged victims the courage to speak.\\nMr Woodward, was the first to go public last week, and has since been followed by several others who have made allegations about being sexually abused by coaches as children.\\nCheshire Police said 11 people had come forward after Mr Woodward waived his anonymity, including his fellow ex-Crewe player Steve Walters, 44, who said he had been abused by Bennell, when he was 13 or 14, during a trip to Anglesey.\\nA dedicated NSPCC hotline - 0800 023 2642 - set up after the abuse claims came to light, received more than 50 calls within its first two hours.\\nAbuse claims: Who has spoken out?\\nFootball abused 'could number hundreds'\\nWe must protect next generation - FA chief\\nWarnock said he had spoken to Mr Woodward before he went public.\\n''I had an hour with him on the phone and in that conversation he broke down in tears because it's horrific,'' the Cardiff manager said.\\n''It's alright saying it's a long time ago but to actually confront it in the media takes so much guts.\\n''I've told him how proud I am of him and I think by his bravery it will open up everything now and it will be a relief for so many ex-players that have been through the same situation.''\\nHe added: ''I wasn't aware how bad it was at the time when I helped him. He was at Bury and I thought he was outstanding so I'd promised to take him with me when I went to Sheffield United.\\n''But then he just lost his form overnight with no real reason, until he spoke to me. I felt I had to carry on and take him because I'd given him my word.\\n''When you listen to his story and when I look back now, I couldn't understand it at the time and I don't think any of us could ever envisage what Andy and the other lads have had to go through.\\n''I think it becomes easier now. Now it's out in the open I think they can get on with their lives and I think Andy will help a lot of people. He's that type of person who will talk to those who want privacy and help them.\\n''It's a good thing he's set in motion because I think what Andy brought out is the tip of the iceberg and we'll see that in the coming months.''\\nWarnock said measures had been put in place in recent years regarding checks on young players' coaches and there was now support for those who need it.\\nHe said: ''I think there has to be changes but we have everything in place, financially and everything, we have no excuse to let young lads down now.\\n''The helplines they are setting up at every level, if a parent's worried, there's help there. It has to be, not just the professionals, but the Sunday Leagues.\"</td>\n",
       "      <td>Cardiff City manager Neil Warnock has praised the bravery of his former player Andy Woodward for speaking out about being sexually abused by a coach as a child.</td>\n",
       "      <td>38105791</td>\n",
       "    </tr>\n",
       "    <tr>\n",
       "      <th>2</th>\n",
       "      <td>There had been cases of \"verbal abuse hurled\" at ethnic minorities, and \"despicable graffiti daubed on a Polish community centre\", he told the Commons.\\nSuch attacks must be stamped out, he said, urging people to remember \"these people have come here and made a wonderful contribution to our county\".\\nPolice are probing some incidents.\\nDo Europeans still feel welcome?\\nBristol resident challenges racism with roses\\nMr Cameron said \"we have a fundamental responsibility to bring our country together\" after the vote.\\n\"And we will not stand for hate crime or these kinds of attacks. They must be stamped out,\" he said.\\nHe said there would be \"no immediate change\" in the rights of EU nationals living in the UK, or UK citizens living in EU countries.\\nSince the vote, there have been reports of racism on social media, and a number of groups have reported a rise in incidents of racism and hate crime.\\nTrue Vision, a police-funded online reporting facility for hate crime, said it had received 85 reports between Thursday 23 and Sunday 26 June compared with 54 reports during the same period last month.\\nIn London, the Metropolitan Police are investigating graffiti at a Polish community building in Hammersmith which they are treating as a hate crime \"because of the racially-aggravated nature of the criminal damage\".\\nCambridgeshire Police are also investigating reports that laminated cards reading \"Leave the EU - no more Polish vermin\" were delivered to members of the Polish community in Huntingdon on Saturday.\\nPoland's ambassador to the UK Witold Sobkow said he was \"shocked and deeply concerned by the recent incidents of xenophobic abuse directed against the Polish community and other UK residents of migrant heritage\".\\nThe full picture regarding hate crime after a Brexit vote could take months to emerge. And the national trend in recent years has been quite complicated.\\nPolice-recorded hate crimes have been rising - but that could be more victims coming forward because they have confidence police will take them seriously.\\nThe Crime Survey for England and Wales, an internationally-recognised rolling study of the bigger picture, suggests racism is slowly being pushed to the margins.\\nBut there's no doubt that genuine moments of extreme national or global tension - such as major terrorist incidents or the conflict in the Middle East - are followed by spikes.\\nExtremists appear to take the opportunity to act because they think they can get away with it.\\nSo the question is this: are the latest statistics a blip or a sign of a more worrying long-term trend?\\nIman Etta, of Tell Mama UK, which collates reports of anti-Muslim abuse, said: \"We've seen a spike in anti-Muslim hatred incidents and racist incidents reported in to us that are related to the result of the referendum, where perpetrators have been using words like 'we voted you out', 'you should be kicked out', and 'we no longer want you here'.\"\\nMuslim Remain campaigner Shazia Awan, a former Conservative parliamentary candidate, told the BBC's Victoria Derbyshire she had received several abusive tweets and emails.\\nOne email read: \"You are not now, nor will you ever be, Welsh. Being born in Wales has nothing to do with being Welsh.\\n\"I cannot wait to send you and the anti-white garbage that you stand for back to the Third World dumps that you came from.\"\\nThe Muslim Council of Britain said it had compiled more than 100 incidents of reported hate crimes since the result.\\nDr Shuja Shafi, the body's secretary general, said: \"Now we are witnessing the shocking extent of this with reports around the country of hate speech and minorities being targeted.\\n\"Our country is experiencing a political crisis which, I fear threatens the social peace.\"\\nHe said he would be writing to the home secretary to ask what measures were being taken to step up security and policing in areas where such incidences have been reported.\\nMayor of London Sadiq Khan said he had asked the capital's Metropolitan Police to be on heightened alert for any rise in hate crime.\\n\"I take seriously my responsibility to defend London's fantastic mix of diversity and tolerance,\" he said.\\n\"So it's really important we stand guard against any rise in hate crimes or abuse by those who might use last week's referendum as cover to seek to divide us.\"\\nHe added it was important not to demonise the 1.5 million people in London who voted for Brexit, and they should not be accused \"of being xenophobic or racist\".\\nMetropolitan Police Commissioner Sir Bernard Hogan-Howe said officers would \"investigate vigorously any reports of crime motivated by hatred\".\\nKaren Bradley, the minister for preventing abuse, exploitation and crime, said \"nobody in this country should live in fear because of who they are\".\\n\"The government is working closely with communities to increase reporting and increase confidence that their concerns about hate crime will be taken seriously by the police and courts,\" she said.\\nNo official statistics for reported incidents or racism or hate crime across the UK have yet been published. They are compiled by individual police forces.\\nThe MP for Birmingham Yardley, Jess Phillips, has tweeted that she will ask a Parliamentary question on the issue.\\nHowever, numerous people have posted accounts of personal experiences on Twitter alongside the hashtag #PostRefRacism.\\nSky News presenter Adam Boulton tweeted: \"This weekend I and my family have witnessed 3 \"when are you going home?\" Racist incidents aimed at EU citizens here.\"\\nBBC journalist Sima Kotecha tweeted: \"In utter shock: just been called p**i in my home town! Haven't heard that word here since the 80s..!\"\\nAnother user, James Titcombe, tweeted: \"Daughter tells me someone wrote '[Child's name] go back to Romania' on the wall in the girls toilets at School today.\"</td>\n",
       "      <td>David Cameron has condemned \"despicable\" incidents of hate crime reported in the wake of the UK's referendum vote to leave the EU.</td>\n",
       "      <td>36643213</td>\n",
       "    </tr>\n",
       "    <tr>\n",
       "      <th>3</th>\n",
       "      <td>Media playback is not supported on this device\\nIn a tough breeze, 22-year-old Spieth carded a one-over 73 to lead for a record seventh consecutive round.\\nSmylie Kaufman will play with his fellow American on Sunday, with former champion Bernhard Langer and Japan's Hideki Matsuyama a further shot behind.\\nMcIlroy, 26, started the day one behind Spieth, but ended five back after a 77.\\nThe Northern Irishman started his third round with genuine hopes of winning the Green Jacket after a late rally on Friday.\\nBut his bid to become only the sixth man to win all four majors suffered following a birdie-free round featuring three bogeys and one double bogey which left him in a tie for 11th place.\\nMcIlroy will tee off at 18:55 BST on Sunday, with the final pairing of Spieth and Kaufman going out at 19:45.\\nSunday's tee-off times\\nRelive Saturday's third round at Augusta\\nMedia playback is not supported on this device\\nSaturday was billed as a showdown between the final pairing of Spieth and McIlroy, but the expected battle between golf's youthful poster boys failed to materialise.\\nWorld number three McIlroy struggled to find his rhythm throughout, allowing Spieth to take control without the defending champion being at his fluent best.\\nBut while McIlroy was unable to pick up any shots, blowing a decent chance at the last by pushing wide a nine-foot putt, his rival still managed to grind out five birdies.\\nHowever, Spieth's card suffered considerably with two rare double bogeys.\\nThe Texan three-putted on the 505-yard, par-four 11th, offering hope to his nearest challengers who, at this stage, were Matsuyama and Langer.\\nHe rectified that sloppy mistake with three birdies in the next four holes, opening up another four-stroke lead over 24-year-old Kaufman, who had emerged from the pack with three birdies of his own in the final six holes.\\nBut Spieth's poor final hole - driving right into the trees before falling 50 foot short of the pin with an undercooked third shot - gave renewed belief to the rest of the leaderboard.\\n\"Two under with three to go and the wind at your side, I just got really wayward from there,\" said Spieth.\\n\"I just have to absolutely throw away the finish to this round, pretend it's a new round, everyone is tied and you have to shoot the best score to win.\\n\"I have to understand it's the position I wanted to be in after 54 holes and not think about the finish to this round.\"\\nMedia playback is not supported on this device\\nSpieth had earlier extended his lead with a two-putt birdie on the par-five second, where McIlroy had to settle for a par after missing from nine feet.\\nMcIlroy dropped his first shot on the par-four third, whereas Spieth recovered from a wayward drive to save par and extend his lead to three.\\nBy the turn, the world number two was four shots ahead, before McIlroy's challenge faded when he pulled tee-shots at 10 and 11 on his way to dropping three shots.\\nThat may have all but ended his Masters quest for another year, despite the four-time major winner arresting his decline with seven straight pars on his way back to the clubhouse.\\n\"I couldn't get anything going really,\" McIlroy said. \"I am disappointed. I felt like I righted the ship a little on the back nine but couldn't take the few opportunities I gave myself.\\n\"If I am to take heart from anything then it's the fact Jordan has just let a lot of people in after his finish.\"\\nWhile Spieth and McIlroy struggled to impress, it was a player at the other end of his career who threatened to steal the show.\\nFormer world number one Langer, who won the Green Jacket in 1985 and 1993, was five shots adrift of overnight leader Spieth at the start of Saturday's third round.\\nBut the veteran German carded three birdies in a front-nine 35 to make the biggest progress on 'Moving Day' - the penultimate day of a major where contenders on the fringes know they must perform well.\\nLanger dropped a shot on the iconic par-three 12th, but bounced back with three straight birdies to take a share of second place with Matsuyama.\\nA loose tee-shot out right on the 18th left him scrambling, but he managed to limit the damage by holing a tricky seven-foot putt for bogey.\\nThe Augusta galleries showed their appreciation for the unlikely challenger, now ranked 1,080 in the world, with a standing ovation.\\n\"I believe I can win. Obviously it depends how the others do,\" said Langer.\\n\"If I play my best, I can shoot four or five under tomorrow, I think, if the conditions are a little bit better.\"\\nMedia playback is not supported on this device\\nThe world's best golfers struggled to tame Augusta in a testing third round caused by winds gusting up to 30mph.\\nOnly five of the 57-man field managed to finish under par, Kaufman carding the best round of the day with a three-under 69.\\nBut the course was described as \"brutal\" by another American, Kevin Kisner, who shot a 76.\\n\"Every shot is just guessing and hitting and praying. I never felt comfortable even on wedge shots all day and putts are just brutal,\" he said.\\n\"I watched [playing partner] Justin Thomas hit a four-footer that went 55 feet. I mean you don't see that stuff. It's not supposed to happen.\"\\nAsked what he could learn from the experience, he joked: \"Yeah, you go home and have a beer and sit on the couch and laugh at everybody else.\"\\nNever want to miss the latest golf news? You can now add this sport and all the other sports and teams you follow to your personalised My Sport home.</td>\n",
       "      <td>Jordan Spieth will begin the final day at the Masters with a one-shot lead but playing partner Rory McIlroy's bid faltered on day three at Augusta.</td>\n",
       "      <td>36007122</td>\n",
       "    </tr>\n",
       "    <tr>\n",
       "      <th>4</th>\n",
       "      <td>Researchers found that four out of five children in England who ate school lunches had tried food at school that they had not tried at home.\\nHalf of parents questioned said their children had asked for foods they had eaten at school to be cooked at home.\\nThe survey, of about 1,000 parents, found the most popular vegetables were carrots, sweetcorn and peas.\\nAubergine, chickpeas and spinach were among the least popular.\\nOf the parents questioned, 628 had children who ate school lunches.\\n(% denotes proportion of parents who said their child would eat each vegetable)\\nEngland's School Food Trust commissioned the research after a survey by the Mumsnet website suggested some parents gave their children packed lunches because they thought they were too fussy to eat anything else.\\nTrust chairman, Rob Rees, said: \"Every parent knows it's a nightmare watching their child push food around the plate.\\n\"School meals can be a great way to help parents encourage their children to try new foods and to increase the variety of foods in their diet.\"\\nMumsnet co-founder, Carrie Longton, said: \"Getting children to eat healthily is every parent's dream, but meal times at home can often be a battle ground and emotionally charged.\\n\"From Mumsnetters' experience it seems that once at school there's a desire to fit in with everyone else and even some positive peer pressure to boast about the variety of what foods you can eat.\\n\"School meals have also moved on quite a bit from when Mumsnetters were at school, with healthier options and more variety.\"\\nSchool meals in England now have to comply with strict nutritional guidelines.\\nAbout four in 10 primary school children in England now eat school lunches, slightly more than in secondary schools.\\nMore children in Scotland eat school lunches - about 46%.\\nThe survey was conducted online between 26 February and 5th March among a panel of parents who had at least one child in school aged 4-17 years old.</td>\n",
       "      <td>School lunches can tempt fussy eaters to try new foods, a survey for the School Food Trust has suggested.</td>\n",
       "      <td>11154244</td>\n",
       "    </tr>\n",
       "  </tbody>\n",
       "</table>"
      ],
      "text/plain": [
       "<IPython.core.display.HTML object>"
      ]
     },
     "metadata": {},
     "output_type": "display_data"
    }
   ],
   "source": [
    "display_function(xsum[\"test\"])"
   ]
  },
  {
   "cell_type": "markdown",
   "metadata": {},
   "source": [
    "### We can address the problem we mentioned above by define a cleaning function that replaces new lines with white space."
   ]
  },
  {
   "cell_type": "code",
   "execution_count": 7,
   "metadata": {},
   "outputs": [],
   "source": [
    "def clean(row):\n",
    "    row['document'] = row['document'].replace('\\n', ' ')\n",
    "    return row"
   ]
  },
  {
   "cell_type": "markdown",
   "metadata": {},
   "source": [
    "### We can now apply the cleaning function we created and map it onto our data (it loads for train, test, and validation)"
   ]
  },
  {
   "cell_type": "code",
   "execution_count": 8,
   "metadata": {},
   "outputs": [
    {
     "name": "stderr",
     "output_type": "stream",
     "text": [
      "Loading cached processed dataset at C:\\Users\\creeg\\.cache\\huggingface\\datasets\\xsum\\default\\1.2.0\\32c23220eadddb1149b16ed2e9430a05293768cfffbdfd151058697d4c11f934\\cache-ec5b3ab440c9df82.arrow\n",
      "Loading cached processed dataset at C:\\Users\\creeg\\.cache\\huggingface\\datasets\\xsum\\default\\1.2.0\\32c23220eadddb1149b16ed2e9430a05293768cfffbdfd151058697d4c11f934\\cache-a176a692461cda61.arrow\n",
      "Loading cached processed dataset at C:\\Users\\creeg\\.cache\\huggingface\\datasets\\xsum\\default\\1.2.0\\32c23220eadddb1149b16ed2e9430a05293768cfffbdfd151058697d4c11f934\\cache-bc530be4c3ab51ba.arrow\n"
     ]
    }
   ],
   "source": [
    "xsum = xsum.map(clean)"
   ]
  },
  {
   "cell_type": "markdown",
   "metadata": {},
   "source": [
    "### Voila!"
   ]
  },
  {
   "cell_type": "code",
   "execution_count": 9,
   "metadata": {},
   "outputs": [
    {
     "data": {
      "text/html": [
       "<table border=\"1\" class=\"dataframe\">\n",
       "  <thead>\n",
       "    <tr style=\"text-align: right;\">\n",
       "      <th></th>\n",
       "      <th>document</th>\n",
       "      <th>summary</th>\n",
       "      <th>id</th>\n",
       "    </tr>\n",
       "  </thead>\n",
       "  <tbody>\n",
       "    <tr>\n",
       "      <th>0</th>\n",
       "      <td>He was taken to the Royal Sussex County Hospital following the incident just before 06:00 BST on Saturday. He is reported to be in a stable condition. Sussex Police said the incident in Preston Street appeared to be linked to the collapse of a section of railing surrounding the balcony. The one-way street had to be closed to allow for investigations.</td>\n",
       "      <td>A 20-year old man is in hospital with serious injuries after he fell from a first floor balcony in Brighton.</td>\n",
       "      <td>33952455</td>\n",
       "    </tr>\n",
       "    <tr>\n",
       "      <th>1</th>\n",
       "      <td>Research carried out by the Fostering Network suggests almost half of fostered young people are already living with their third foster family since going into care. The group has warned that 750 more foster carers are \"urgently\" needed to meet the demands of the care system. It urged people to \"open their hearts and homes\" to vulnerable youngsters. Currently, more than 5,500 children are in foster care in Scotland, living with 4,400 families and carers. The Fostering Network surveyed 250 children, teenagers and foster carers across Scotland and discovered that many young people had failed to find stability. Almost half were already living with their third family, a quarter were with their fourth family and about 20 were living with their 10th family since going into care. There was a particular need for homes to be found for vulnerable teenagers, siblings and disabled children, the study found. Carla, 23, was taken into care at the age of 12 and had eight foster homes before moving in with the Randalls. \"Looking back now I realised that the Randalls saved my life,\" she said. \"I never understood the extent of the neglect and abuse I had endured until I came to live with a 'normal' loving family. \"They were just always themselves, the smallest details meant so much to me. \"They nurtured a young, angry, untrusting teenager to become a positive, empathetic and successful young woman.\" The Fostering Network said instability had a detrimental effect on the child's education and wellbeing, while finding a stable foster carer from the outset could lead to improved relationships and a happier childhood. Sara Lurie, director of the Fostering Network Scotland, said: \"As each year passes, we see more and more children coming into care. \"We need people who can open their heart, and their homes, to vulnerable children and young people and use their skills to help support them to reach their full potential. \"In particular we need people who have the skills, patience and passion to look after teenagers who may have had a really tough time and be facing some real challenges, and to offer them love, stability and security. \"A good foster carer will believe in the ambition of the children in their care in the same way they'd believe in the ambition of their biological family members.\" Apologies for the delay, see below as requested. A Scottish government spokeswoman said: \"Giving young people security is paramount and we have done a great deal of work with our partners across local government and the third sector to improve how we intervene early when there is a problem within families to find appropriate solutions quickly. \"We have also expanded the age at which young people can remain in foster care as part of the continuing care provisions and the support available when they transition into independent living.\"</td>\n",
       "      <td>Teenagers in foster care in Scotland are being moved too often, according to a campaign group.</td>\n",
       "      <td>32952046</td>\n",
       "    </tr>\n",
       "    <tr>\n",
       "      <th>2</th>\n",
       "      <td>The advert for its invisible deodorant range said \"white is purity\" across an image of a woman. It was posted on the firm's Facebook page, geographically aimed at its followers in the Middle East. Nivea accepted the post was \"misleading\". Many on social media complained the post was racist, but it was also widely-shared among alt-right users. The advert on the Nivea Facebook page (since deleted) was posted alongside the caption: \"Keep it clean, keep it bright. Don't let anything ruin it.\" The post was directed at its audience in the Middle East, although the company has 19 million fans globally on its page. Many on social media complained about the post's racist connotations. But it was also picked up by alt-right social media accounts who trolled the Nivea account with comments, including of Hitler and Pepe the frog, who was branded a hate symbol last year. One alt-right account said: \"#Nivea: the official moisturizer/anti-perspirant of the #AltRight.\" A spokesperson for Nivea's owners Beiersdorf said: \"There have been concerns risen about ethnic discrimination due to a post about NIVEA Deodorant Invisible for Black &amp; White on our NIVEA Middle East Facebook page. \"We are deeply sorry to anyone who may take offense to this specific post. After realizing that the post is misleading, it was immediately withdrawn. \"Diversity and equal opportunity are crucial values of NIVEA: The brand represents diversity, tolerance, and equal opportunity. \"We value difference. Direct or indirect discrimination must be ruled out in all decisions by, and in all areas of our activities.\"</td>\n",
       "      <td>German skincare brand Nivea has apologised and removed an advert that was deemed discriminatory.</td>\n",
       "      <td>39489967</td>\n",
       "    </tr>\n",
       "    <tr>\n",
       "      <th>3</th>\n",
       "      <td>SNP leader Nicola Sturgeon said voters had \"48 hours to get the Tories out\". Former Labour leader Gordon Brown, who was campaigning with Scottish Labour leader Jim Murphy, said the SNP stood for \"divide and rule\". The Lib Dems said voters should stick with them and the Scottish Tories said a vote for them was a vote for the UK. During a visit to a nursery in Livingston, West Lothian, Ms Sturgeon criticised Prime Minister David Cameron who had warned the public they risked \"five long years\" of a minority Labour government reliant on \"bribes\" to smaller parties like the SNP. She hit back saying: \"[There are] 48 hours to get the Tories out, to get an alternative to austerity and to make Scotland's voice heard. \"The fact of the matter is, if there's an anti-Tory majority on Friday morning, I want to see that anti-Tory majority come together to get the Tories out, but then make sure that it's replaced with something better. Ms Sturgeon added: \"The SNP will be a positive, constructive and progressive force in the House of Commons but will stand up very firmly for the things we believe really matter.\" In Glasgow, Mr Brown urged voters to reject the SNP and join what he called Labour's fight to reach the \"the mountaintop of social justice\". And he warned that the election was \"not just about the future of the UK but about the very existence of the UK\". In an impassioned address, he said: \"While the SNP will talk only about deals and pacts and coalitions and bargains and hung parliaments, we will talk day after day, hour after hour, in this late stage of the campaign about only one thing - to end poverty, to end unemployment, to end injustice. \"Within days and hours of getting into government, Jim Murphy could be providing money for our foodbanks and we could be ending foodbank poverty. Delivered under a Labour government, with Labour MPs - undeliverable under a Conservative government, even with 59 SNP MPs. \"And within weeks, we could be providing the resources that the health service needs: 500 doctors, 1,000 more nurses - deliverable under a Labour government with Labour MPs - undeliverable under a Conservative government with 59 SNP MPs.\" Scottish Liberal Democrat leader Willie Rennie said he wanted his party to continue to have influence on government at Westminster. He said: \"Liberal Democrats have been at the heart of government over the last five years with 11 members of parliament in Scotland - many at the cabinet table giving a really powerful voice. \"Danny Alexander, right at the heart of the government, making it tick - delivering tax cuts, pension rise childcare expansion. \"I want that to continue, because Liberal Democrats can hold others back when they travel too fast.\" While on a visit to Aviemore, Scottish Conservative leader Ruth Davidson discussed the possible deals that could be done between parties after polls close and votes are counted. She said: \"We have said from the very start that each and every MP elected across all parts of these islands has the same rights and voting as everybody else. But it is up to individual political parties who they do a deal with. \"The Scottish Conservatives will not do deals with any nationalist parties in Scotland, Wales or Northern Ireland who want to break up our United Kingdom. \"Each vote for the Scottish Conservatives is a vote to keep the UK intact.\"</td>\n",
       "      <td>With just two days until the polling stations open, all the Scottish party leaders are warning of the risks of backing their opponents.</td>\n",
       "      <td>32582528</td>\n",
       "    </tr>\n",
       "    <tr>\n",
       "      <th>4</th>\n",
       "      <td>The pair have signed two-year deals with Carlton Fairweather's WSL 1 side. Staniforth, 23, made her Lady Black Cats debut aged 16 and helped the club to the FA Womens' Premier League North title and 2009 Womens' FA Cup final. Canada international Sjoman, 28, has played in America, Germany and England prior to her last move to Glasgow. \"They are two players with fantastic experience at the very top level of the game and will bring so much to our squad in terms of competition and quality,\" Fairweather told the club website.</td>\n",
       "      <td>Sunderland Ladies have re-signed midfielder Lucy Staniforth from Liverpool and added defender Kylla Sjoman from Scottish side Celtic.</td>\n",
       "      <td>35375741</td>\n",
       "    </tr>\n",
       "  </tbody>\n",
       "</table>"
      ],
      "text/plain": [
       "<IPython.core.display.HTML object>"
      ]
     },
     "metadata": {},
     "output_type": "display_data"
    },
    {
     "data": {
      "text/html": [
       "<table border=\"1\" class=\"dataframe\">\n",
       "  <thead>\n",
       "    <tr style=\"text-align: right;\">\n",
       "      <th></th>\n",
       "      <th>document</th>\n",
       "      <th>summary</th>\n",
       "      <th>id</th>\n",
       "    </tr>\n",
       "  </thead>\n",
       "  <tbody>\n",
       "    <tr>\n",
       "      <th>0</th>\n",
       "      <td>He was taken to the Royal Sussex County Hospital following the incident just before 06:00 BST on Saturday. He is reported to be in a stable condition. Sussex Police said the incident in Preston Street appeared to be linked to the collapse of a section of railing surrounding the balcony. The one-way street had to be closed to allow for investigations.</td>\n",
       "      <td>A 20-year old man is in hospital with serious injuries after he fell from a first floor balcony in Brighton.</td>\n",
       "      <td>33952455</td>\n",
       "    </tr>\n",
       "    <tr>\n",
       "      <th>1</th>\n",
       "      <td>Research carried out by the Fostering Network suggests almost half of fostered young people are already living with their third foster family since going into care. The group has warned that 750 more foster carers are \"urgently\" needed to meet the demands of the care system. It urged people to \"open their hearts and homes\" to vulnerable youngsters. Currently, more than 5,500 children are in foster care in Scotland, living with 4,400 families and carers. The Fostering Network surveyed 250 children, teenagers and foster carers across Scotland and discovered that many young people had failed to find stability. Almost half were already living with their third family, a quarter were with their fourth family and about 20 were living with their 10th family since going into care. There was a particular need for homes to be found for vulnerable teenagers, siblings and disabled children, the study found. Carla, 23, was taken into care at the age of 12 and had eight foster homes before moving in with the Randalls. \"Looking back now I realised that the Randalls saved my life,\" she said. \"I never understood the extent of the neglect and abuse I had endured until I came to live with a 'normal' loving family. \"They were just always themselves, the smallest details meant so much to me. \"They nurtured a young, angry, untrusting teenager to become a positive, empathetic and successful young woman.\" The Fostering Network said instability had a detrimental effect on the child's education and wellbeing, while finding a stable foster carer from the outset could lead to improved relationships and a happier childhood. Sara Lurie, director of the Fostering Network Scotland, said: \"As each year passes, we see more and more children coming into care. \"We need people who can open their heart, and their homes, to vulnerable children and young people and use their skills to help support them to reach their full potential. \"In particular we need people who have the skills, patience and passion to look after teenagers who may have had a really tough time and be facing some real challenges, and to offer them love, stability and security. \"A good foster carer will believe in the ambition of the children in their care in the same way they'd believe in the ambition of their biological family members.\" Apologies for the delay, see below as requested. A Scottish government spokeswoman said: \"Giving young people security is paramount and we have done a great deal of work with our partners across local government and the third sector to improve how we intervene early when there is a problem within families to find appropriate solutions quickly. \"We have also expanded the age at which young people can remain in foster care as part of the continuing care provisions and the support available when they transition into independent living.\"</td>\n",
       "      <td>Teenagers in foster care in Scotland are being moved too often, according to a campaign group.</td>\n",
       "      <td>32952046</td>\n",
       "    </tr>\n",
       "    <tr>\n",
       "      <th>2</th>\n",
       "      <td>The advert for its invisible deodorant range said \"white is purity\" across an image of a woman. It was posted on the firm's Facebook page, geographically aimed at its followers in the Middle East. Nivea accepted the post was \"misleading\". Many on social media complained the post was racist, but it was also widely-shared among alt-right users. The advert on the Nivea Facebook page (since deleted) was posted alongside the caption: \"Keep it clean, keep it bright. Don't let anything ruin it.\" The post was directed at its audience in the Middle East, although the company has 19 million fans globally on its page. Many on social media complained about the post's racist connotations. But it was also picked up by alt-right social media accounts who trolled the Nivea account with comments, including of Hitler and Pepe the frog, who was branded a hate symbol last year. One alt-right account said: \"#Nivea: the official moisturizer/anti-perspirant of the #AltRight.\" A spokesperson for Nivea's owners Beiersdorf said: \"There have been concerns risen about ethnic discrimination due to a post about NIVEA Deodorant Invisible for Black &amp; White on our NIVEA Middle East Facebook page. \"We are deeply sorry to anyone who may take offense to this specific post. After realizing that the post is misleading, it was immediately withdrawn. \"Diversity and equal opportunity are crucial values of NIVEA: The brand represents diversity, tolerance, and equal opportunity. \"We value difference. Direct or indirect discrimination must be ruled out in all decisions by, and in all areas of our activities.\"</td>\n",
       "      <td>German skincare brand Nivea has apologised and removed an advert that was deemed discriminatory.</td>\n",
       "      <td>39489967</td>\n",
       "    </tr>\n",
       "    <tr>\n",
       "      <th>3</th>\n",
       "      <td>SNP leader Nicola Sturgeon said voters had \"48 hours to get the Tories out\". Former Labour leader Gordon Brown, who was campaigning with Scottish Labour leader Jim Murphy, said the SNP stood for \"divide and rule\". The Lib Dems said voters should stick with them and the Scottish Tories said a vote for them was a vote for the UK. During a visit to a nursery in Livingston, West Lothian, Ms Sturgeon criticised Prime Minister David Cameron who had warned the public they risked \"five long years\" of a minority Labour government reliant on \"bribes\" to smaller parties like the SNP. She hit back saying: \"[There are] 48 hours to get the Tories out, to get an alternative to austerity and to make Scotland's voice heard. \"The fact of the matter is, if there's an anti-Tory majority on Friday morning, I want to see that anti-Tory majority come together to get the Tories out, but then make sure that it's replaced with something better. Ms Sturgeon added: \"The SNP will be a positive, constructive and progressive force in the House of Commons but will stand up very firmly for the things we believe really matter.\" In Glasgow, Mr Brown urged voters to reject the SNP and join what he called Labour's fight to reach the \"the mountaintop of social justice\". And he warned that the election was \"not just about the future of the UK but about the very existence of the UK\". In an impassioned address, he said: \"While the SNP will talk only about deals and pacts and coalitions and bargains and hung parliaments, we will talk day after day, hour after hour, in this late stage of the campaign about only one thing - to end poverty, to end unemployment, to end injustice. \"Within days and hours of getting into government, Jim Murphy could be providing money for our foodbanks and we could be ending foodbank poverty. Delivered under a Labour government, with Labour MPs - undeliverable under a Conservative government, even with 59 SNP MPs. \"And within weeks, we could be providing the resources that the health service needs: 500 doctors, 1,000 more nurses - deliverable under a Labour government with Labour MPs - undeliverable under a Conservative government with 59 SNP MPs.\" Scottish Liberal Democrat leader Willie Rennie said he wanted his party to continue to have influence on government at Westminster. He said: \"Liberal Democrats have been at the heart of government over the last five years with 11 members of parliament in Scotland - many at the cabinet table giving a really powerful voice. \"Danny Alexander, right at the heart of the government, making it tick - delivering tax cuts, pension rise childcare expansion. \"I want that to continue, because Liberal Democrats can hold others back when they travel too fast.\" While on a visit to Aviemore, Scottish Conservative leader Ruth Davidson discussed the possible deals that could be done between parties after polls close and votes are counted. She said: \"We have said from the very start that each and every MP elected across all parts of these islands has the same rights and voting as everybody else. But it is up to individual political parties who they do a deal with. \"The Scottish Conservatives will not do deals with any nationalist parties in Scotland, Wales or Northern Ireland who want to break up our United Kingdom. \"Each vote for the Scottish Conservatives is a vote to keep the UK intact.\"</td>\n",
       "      <td>With just two days until the polling stations open, all the Scottish party leaders are warning of the risks of backing their opponents.</td>\n",
       "      <td>32582528</td>\n",
       "    </tr>\n",
       "    <tr>\n",
       "      <th>4</th>\n",
       "      <td>The pair have signed two-year deals with Carlton Fairweather's WSL 1 side. Staniforth, 23, made her Lady Black Cats debut aged 16 and helped the club to the FA Womens' Premier League North title and 2009 Womens' FA Cup final. Canada international Sjoman, 28, has played in America, Germany and England prior to her last move to Glasgow. \"They are two players with fantastic experience at the very top level of the game and will bring so much to our squad in terms of competition and quality,\" Fairweather told the club website.</td>\n",
       "      <td>Sunderland Ladies have re-signed midfielder Lucy Staniforth from Liverpool and added defender Kylla Sjoman from Scottish side Celtic.</td>\n",
       "      <td>35375741</td>\n",
       "    </tr>\n",
       "  </tbody>\n",
       "</table>"
      ],
      "text/plain": [
       "<IPython.core.display.HTML object>"
      ]
     },
     "metadata": {},
     "output_type": "display_data"
    },
    {
     "data": {
      "text/html": [
       "<table border=\"1\" class=\"dataframe\">\n",
       "  <thead>\n",
       "    <tr style=\"text-align: right;\">\n",
       "      <th></th>\n",
       "      <th>document</th>\n",
       "      <th>summary</th>\n",
       "      <th>id</th>\n",
       "    </tr>\n",
       "  </thead>\n",
       "  <tbody>\n",
       "    <tr>\n",
       "      <th>0</th>\n",
       "      <td>He was taken to the Royal Sussex County Hospital following the incident just before 06:00 BST on Saturday. He is reported to be in a stable condition. Sussex Police said the incident in Preston Street appeared to be linked to the collapse of a section of railing surrounding the balcony. The one-way street had to be closed to allow for investigations.</td>\n",
       "      <td>A 20-year old man is in hospital with serious injuries after he fell from a first floor balcony in Brighton.</td>\n",
       "      <td>33952455</td>\n",
       "    </tr>\n",
       "    <tr>\n",
       "      <th>1</th>\n",
       "      <td>Research carried out by the Fostering Network suggests almost half of fostered young people are already living with their third foster family since going into care. The group has warned that 750 more foster carers are \"urgently\" needed to meet the demands of the care system. It urged people to \"open their hearts and homes\" to vulnerable youngsters. Currently, more than 5,500 children are in foster care in Scotland, living with 4,400 families and carers. The Fostering Network surveyed 250 children, teenagers and foster carers across Scotland and discovered that many young people had failed to find stability. Almost half were already living with their third family, a quarter were with their fourth family and about 20 were living with their 10th family since going into care. There was a particular need for homes to be found for vulnerable teenagers, siblings and disabled children, the study found. Carla, 23, was taken into care at the age of 12 and had eight foster homes before moving in with the Randalls. \"Looking back now I realised that the Randalls saved my life,\" she said. \"I never understood the extent of the neglect and abuse I had endured until I came to live with a 'normal' loving family. \"They were just always themselves, the smallest details meant so much to me. \"They nurtured a young, angry, untrusting teenager to become a positive, empathetic and successful young woman.\" The Fostering Network said instability had a detrimental effect on the child's education and wellbeing, while finding a stable foster carer from the outset could lead to improved relationships and a happier childhood. Sara Lurie, director of the Fostering Network Scotland, said: \"As each year passes, we see more and more children coming into care. \"We need people who can open their heart, and their homes, to vulnerable children and young people and use their skills to help support them to reach their full potential. \"In particular we need people who have the skills, patience and passion to look after teenagers who may have had a really tough time and be facing some real challenges, and to offer them love, stability and security. \"A good foster carer will believe in the ambition of the children in their care in the same way they'd believe in the ambition of their biological family members.\" Apologies for the delay, see below as requested. A Scottish government spokeswoman said: \"Giving young people security is paramount and we have done a great deal of work with our partners across local government and the third sector to improve how we intervene early when there is a problem within families to find appropriate solutions quickly. \"We have also expanded the age at which young people can remain in foster care as part of the continuing care provisions and the support available when they transition into independent living.\"</td>\n",
       "      <td>Teenagers in foster care in Scotland are being moved too often, according to a campaign group.</td>\n",
       "      <td>32952046</td>\n",
       "    </tr>\n",
       "    <tr>\n",
       "      <th>2</th>\n",
       "      <td>The advert for its invisible deodorant range said \"white is purity\" across an image of a woman. It was posted on the firm's Facebook page, geographically aimed at its followers in the Middle East. Nivea accepted the post was \"misleading\". Many on social media complained the post was racist, but it was also widely-shared among alt-right users. The advert on the Nivea Facebook page (since deleted) was posted alongside the caption: \"Keep it clean, keep it bright. Don't let anything ruin it.\" The post was directed at its audience in the Middle East, although the company has 19 million fans globally on its page. Many on social media complained about the post's racist connotations. But it was also picked up by alt-right social media accounts who trolled the Nivea account with comments, including of Hitler and Pepe the frog, who was branded a hate symbol last year. One alt-right account said: \"#Nivea: the official moisturizer/anti-perspirant of the #AltRight.\" A spokesperson for Nivea's owners Beiersdorf said: \"There have been concerns risen about ethnic discrimination due to a post about NIVEA Deodorant Invisible for Black &amp; White on our NIVEA Middle East Facebook page. \"We are deeply sorry to anyone who may take offense to this specific post. After realizing that the post is misleading, it was immediately withdrawn. \"Diversity and equal opportunity are crucial values of NIVEA: The brand represents diversity, tolerance, and equal opportunity. \"We value difference. Direct or indirect discrimination must be ruled out in all decisions by, and in all areas of our activities.\"</td>\n",
       "      <td>German skincare brand Nivea has apologised and removed an advert that was deemed discriminatory.</td>\n",
       "      <td>39489967</td>\n",
       "    </tr>\n",
       "    <tr>\n",
       "      <th>3</th>\n",
       "      <td>SNP leader Nicola Sturgeon said voters had \"48 hours to get the Tories out\". Former Labour leader Gordon Brown, who was campaigning with Scottish Labour leader Jim Murphy, said the SNP stood for \"divide and rule\". The Lib Dems said voters should stick with them and the Scottish Tories said a vote for them was a vote for the UK. During a visit to a nursery in Livingston, West Lothian, Ms Sturgeon criticised Prime Minister David Cameron who had warned the public they risked \"five long years\" of a minority Labour government reliant on \"bribes\" to smaller parties like the SNP. She hit back saying: \"[There are] 48 hours to get the Tories out, to get an alternative to austerity and to make Scotland's voice heard. \"The fact of the matter is, if there's an anti-Tory majority on Friday morning, I want to see that anti-Tory majority come together to get the Tories out, but then make sure that it's replaced with something better. Ms Sturgeon added: \"The SNP will be a positive, constructive and progressive force in the House of Commons but will stand up very firmly for the things we believe really matter.\" In Glasgow, Mr Brown urged voters to reject the SNP and join what he called Labour's fight to reach the \"the mountaintop of social justice\". And he warned that the election was \"not just about the future of the UK but about the very existence of the UK\". In an impassioned address, he said: \"While the SNP will talk only about deals and pacts and coalitions and bargains and hung parliaments, we will talk day after day, hour after hour, in this late stage of the campaign about only one thing - to end poverty, to end unemployment, to end injustice. \"Within days and hours of getting into government, Jim Murphy could be providing money for our foodbanks and we could be ending foodbank poverty. Delivered under a Labour government, with Labour MPs - undeliverable under a Conservative government, even with 59 SNP MPs. \"And within weeks, we could be providing the resources that the health service needs: 500 doctors, 1,000 more nurses - deliverable under a Labour government with Labour MPs - undeliverable under a Conservative government with 59 SNP MPs.\" Scottish Liberal Democrat leader Willie Rennie said he wanted his party to continue to have influence on government at Westminster. He said: \"Liberal Democrats have been at the heart of government over the last five years with 11 members of parliament in Scotland - many at the cabinet table giving a really powerful voice. \"Danny Alexander, right at the heart of the government, making it tick - delivering tax cuts, pension rise childcare expansion. \"I want that to continue, because Liberal Democrats can hold others back when they travel too fast.\" While on a visit to Aviemore, Scottish Conservative leader Ruth Davidson discussed the possible deals that could be done between parties after polls close and votes are counted. She said: \"We have said from the very start that each and every MP elected across all parts of these islands has the same rights and voting as everybody else. But it is up to individual political parties who they do a deal with. \"The Scottish Conservatives will not do deals with any nationalist parties in Scotland, Wales or Northern Ireland who want to break up our United Kingdom. \"Each vote for the Scottish Conservatives is a vote to keep the UK intact.\"</td>\n",
       "      <td>With just two days until the polling stations open, all the Scottish party leaders are warning of the risks of backing their opponents.</td>\n",
       "      <td>32582528</td>\n",
       "    </tr>\n",
       "    <tr>\n",
       "      <th>4</th>\n",
       "      <td>The pair have signed two-year deals with Carlton Fairweather's WSL 1 side. Staniforth, 23, made her Lady Black Cats debut aged 16 and helped the club to the FA Womens' Premier League North title and 2009 Womens' FA Cup final. Canada international Sjoman, 28, has played in America, Germany and England prior to her last move to Glasgow. \"They are two players with fantastic experience at the very top level of the game and will bring so much to our squad in terms of competition and quality,\" Fairweather told the club website.</td>\n",
       "      <td>Sunderland Ladies have re-signed midfielder Lucy Staniforth from Liverpool and added defender Kylla Sjoman from Scottish side Celtic.</td>\n",
       "      <td>35375741</td>\n",
       "    </tr>\n",
       "  </tbody>\n",
       "</table>"
      ],
      "text/plain": [
       "<IPython.core.display.HTML object>"
      ]
     },
     "metadata": {},
     "output_type": "display_data"
    }
   ],
   "source": [
    "display_function(xsum[\"test\"])"
   ]
  },
  {
   "cell_type": "markdown",
   "metadata": {},
   "source": [
    "### We can view the column names and data types without our dataset using .features"
   ]
  },
  {
   "cell_type": "code",
   "execution_count": 10,
   "metadata": {},
   "outputs": [
    {
     "data": {
      "text/plain": [
       "{'document': Value(dtype='string', id=None),\n",
       " 'summary': Value(dtype='string', id=None),\n",
       " 'id': Value(dtype='string', id=None)}"
      ]
     },
     "execution_count": 10,
     "metadata": {},
     "output_type": "execute_result"
    }
   ],
   "source": [
    "xsum['test'].features"
   ]
  },
  {
   "cell_type": "code",
   "execution_count": 11,
   "metadata": {},
   "outputs": [
    {
     "name": "stdout",
     "output_type": "stream",
     "text": [
      "DatasetInfo(description='\\nExtreme Summarization (XSum) Dataset.\\n\\nThere are three features:\\n  - document: Input news article.\\n  - summary: One sentence summary of the article.\\n  - id: BBC ID of the article.\\n\\n', citation=\"\\n@article{Narayan2018DontGM,\\n  title={Don't Give Me the Details, Just the Summary! Topic-Aware Convolutional Neural Networks for Extreme Summarization},\\n  author={Shashi Narayan and Shay B. Cohen and Mirella Lapata},\\n  journal={ArXiv},\\n  year={2018},\\n  volume={abs/1808.08745}\\n}\\n\", homepage='https://github.com/EdinburghNLP/XSum/tree/master/XSum-Dataset', license='', features={'document': Value(dtype='string', id=None), 'summary': Value(dtype='string', id=None), 'id': Value(dtype='string', id=None)}, post_processed=None, supervised_keys=SupervisedKeysData(input='document', output='summary'), task_templates=None, builder_name='xsum', config_name='default', version=1.2.0, splits={'train': SplitInfo(name='train', num_bytes=479206615, num_examples=204045, dataset_name='xsum'), 'validation': SplitInfo(name='validation', num_bytes=26292901, num_examples=11332, dataset_name='xsum'), 'test': SplitInfo(name='test', num_bytes=26756165, num_examples=11334, dataset_name='xsum')}, download_checksums={'http://bollin.inf.ed.ac.uk/public/direct/XSUM-EMNLP18-Summary-Data-Original.tar.gz': {'num_bytes': 254582292, 'checksum': '10b48aa187fc9c904b30f76ca97e2da0de8d3a1238acc26acadef93e2001af90'}, 'https://raw.githubusercontent.com/EdinburghNLP/XSum/master/XSum-Dataset/XSum-TRAINING-DEV-TEST-SPLIT-90-5-5.json': {'num_bytes': 2720574, 'checksum': '9c0c5d8f048a90bd68b19a34e4c30577ed270d3247b2119fa06a04ef46292068'}}, download_size=257302866, post_processing_size=None, dataset_size=532255681, size_in_bytes=789558547)\n"
     ]
    }
   ],
   "source": [
    "print(xsum['test'].info)"
   ]
  },
  {
   "cell_type": "markdown",
   "metadata": {},
   "source": [
    "# Preparing XSUM Data\n",
    "Before we can put the text into a model need to transform the text into a format that the transformer can understand. Encoders and decoders understand numerical values not strings so we need to tokenize each of the words and then convert them into numerical values the model can understand. The tokenization transformer splits text into tokens and then adds special tokens if it expects them to classify. The tokenizer then matches each token to unique id in vocabulary of tokenizer which has a corresponding vector of numerical values. These vectors contain the value of a word but contextualized. For example, the vector representation of the word \"to\" isnt just \"to\", it also takes iinto account the words around it which are called context (right and left context). To continue this example, \"Welcome to NYC\" is a sentence that has the word \"to\". For the word \"to\" the left context is \"Welcome\" and the right context is \"NYC\". The output is based on these contexts; this is how the value is a contextualized vector thanks to self-attention mechanism. We can do all of this using the AutoTokenizer.from_pretarined method to ensure that we get a tokenizer that corresponds to the model architecture we want to use (facebook/bart-large-cnn); however, we will specifically reference the BartTokenizer in our checkpoint, tokenizer, and model to ensure all aspects of our model were trained using the same methodologies so we can avoid unexpected summaries"
   ]
  },
  {
   "cell_type": "code",
   "execution_count": 12,
   "metadata": {},
   "outputs": [],
   "source": [
    "checkpoint = \"facebook/bart-large-cnn\"\n",
    "tokenizer = BartTokenizer.from_pretrained(checkpoint)\n",
    "model = BartForConditionalGeneration.from_pretrained(checkpoint)"
   ]
  },
  {
   "cell_type": "markdown",
   "metadata": {},
   "source": [
    "### We now write a function that preprocesses the test data by passing it to the tokenizer. We need to use the argument truncation=True to ensure that any input longer than the model can handle will be truncated to the maximum length alowed. We can view this information in the model config. BART has a maximum length of 1024 which we can see in max_position_embeddings"
   ]
  },
  {
   "cell_type": "code",
   "execution_count": 13,
   "metadata": {},
   "outputs": [
    {
     "data": {
      "text/plain": [
       "BartConfig {\n",
       "  \"_name_or_path\": \"facebook/bart-large-cnn\",\n",
       "  \"_num_labels\": 3,\n",
       "  \"activation_dropout\": 0.0,\n",
       "  \"activation_function\": \"gelu\",\n",
       "  \"add_final_layer_norm\": false,\n",
       "  \"architectures\": [\n",
       "    \"BartForConditionalGeneration\"\n",
       "  ],\n",
       "  \"attention_dropout\": 0.0,\n",
       "  \"bos_token_id\": 0,\n",
       "  \"classif_dropout\": 0.0,\n",
       "  \"classifier_dropout\": 0.0,\n",
       "  \"d_model\": 1024,\n",
       "  \"decoder_attention_heads\": 16,\n",
       "  \"decoder_ffn_dim\": 4096,\n",
       "  \"decoder_layerdrop\": 0.0,\n",
       "  \"decoder_layers\": 12,\n",
       "  \"decoder_start_token_id\": 2,\n",
       "  \"dropout\": 0.1,\n",
       "  \"early_stopping\": true,\n",
       "  \"encoder_attention_heads\": 16,\n",
       "  \"encoder_ffn_dim\": 4096,\n",
       "  \"encoder_layerdrop\": 0.0,\n",
       "  \"encoder_layers\": 12,\n",
       "  \"eos_token_id\": 2,\n",
       "  \"force_bos_token_to_be_generated\": true,\n",
       "  \"forced_bos_token_id\": 0,\n",
       "  \"forced_eos_token_id\": 2,\n",
       "  \"gradient_checkpointing\": false,\n",
       "  \"id2label\": {\n",
       "    \"0\": \"LABEL_0\",\n",
       "    \"1\": \"LABEL_1\",\n",
       "    \"2\": \"LABEL_2\"\n",
       "  },\n",
       "  \"init_std\": 0.02,\n",
       "  \"is_encoder_decoder\": true,\n",
       "  \"label2id\": {\n",
       "    \"LABEL_0\": 0,\n",
       "    \"LABEL_1\": 1,\n",
       "    \"LABEL_2\": 2\n",
       "  },\n",
       "  \"length_penalty\": 2.0,\n",
       "  \"max_length\": 142,\n",
       "  \"max_position_embeddings\": 1024,\n",
       "  \"min_length\": 56,\n",
       "  \"model_type\": \"bart\",\n",
       "  \"no_repeat_ngram_size\": 3,\n",
       "  \"normalize_before\": false,\n",
       "  \"num_beams\": 4,\n",
       "  \"num_hidden_layers\": 12,\n",
       "  \"output_past\": true,\n",
       "  \"pad_token_id\": 1,\n",
       "  \"prefix\": \" \",\n",
       "  \"scale_embedding\": false,\n",
       "  \"task_specific_params\": {\n",
       "    \"summarization\": {\n",
       "      \"early_stopping\": true,\n",
       "      \"length_penalty\": 2.0,\n",
       "      \"max_length\": 142,\n",
       "      \"min_length\": 56,\n",
       "      \"no_repeat_ngram_size\": 3,\n",
       "      \"num_beams\": 4\n",
       "    }\n",
       "  },\n",
       "  \"transformers_version\": \"4.12.5\",\n",
       "  \"use_cache\": true,\n",
       "  \"vocab_size\": 50264\n",
       "}"
      ]
     },
     "execution_count": 13,
     "metadata": {},
     "output_type": "execute_result"
    }
   ],
   "source": [
    "model.config"
   ]
  },
  {
   "cell_type": "markdown",
   "metadata": {},
   "source": [
    "### We can now create the function with the maximum length allowed as per the config and an arbitrary minimum length. "
   ]
  },
  {
   "cell_type": "code",
   "execution_count": 14,
   "metadata": {},
   "outputs": [],
   "source": [
    "max_input_length = 1024\n",
    "max_target_length = 100\n",
    "\n",
    "\n",
    "def preperation_function(examples):\n",
    "    inputs = [doc for doc in examples[\"document\"]]\n",
    "    model_inputs = tokenizer(inputs, max_length=max_input_length, truncation=True, padding=True)\n",
    "\n",
    "    \n",
    "    with tokenizer.as_target_tokenizer(): # Setup the tokenizer for summaries where \"as_target_tokenizer\" is what provides passes along the context for each vector\n",
    "        labels = tokenizer(\n",
    "            examples[\"summary\"], max_length=max_target_length, truncation=True\n",
    "        )\n",
    "\n",
    "    model_inputs[\"labels\"] = labels[\"input_ids\"]\n",
    "    return model_inputs"
   ]
  },
  {
   "cell_type": "markdown",
   "metadata": {},
   "source": [
    "### We can apply this function to our dataset using map"
   ]
  },
  {
   "cell_type": "code",
   "execution_count": 15,
   "metadata": {},
   "outputs": [
    {
     "name": "stderr",
     "output_type": "stream",
     "text": [
      "100%|██████████| 205/205 [06:07<00:00,  1.79s/ba]\n",
      "100%|██████████| 12/12 [00:19<00:00,  1.65s/ba]\n",
      "100%|██████████| 12/12 [00:19<00:00,  1.60s/ba]\n"
     ]
    }
   ],
   "source": [
    "tokenized_xsum = xsum.map(preperation_function, batched=True)"
   ]
  },
  {
   "cell_type": "code",
   "execution_count": 16,
   "metadata": {},
   "outputs": [
    {
     "data": {
      "text/plain": [
       "DatasetDict({\n",
       "    train: Dataset({\n",
       "        features: ['attention_mask', 'document', 'id', 'input_ids', 'labels', 'summary'],\n",
       "        num_rows: 204045\n",
       "    })\n",
       "    validation: Dataset({\n",
       "        features: ['attention_mask', 'document', 'id', 'input_ids', 'labels', 'summary'],\n",
       "        num_rows: 11332\n",
       "    })\n",
       "    test: Dataset({\n",
       "        features: ['attention_mask', 'document', 'id', 'input_ids', 'labels', 'summary'],\n",
       "        num_rows: 11334\n",
       "    })\n",
       "})"
      ]
     },
     "execution_count": 16,
     "metadata": {},
     "output_type": "execute_result"
    }
   ],
   "source": [
    "tokenized_xsum"
   ]
  },
  {
   "cell_type": "code",
   "execution_count": 17,
   "metadata": {},
   "outputs": [
    {
     "data": {
      "text/plain": [
       "{'attention_mask': Sequence(feature=Value(dtype='int8', id=None), length=-1, id=None),\n",
       " 'document': Value(dtype='string', id=None),\n",
       " 'id': Value(dtype='string', id=None),\n",
       " 'input_ids': Sequence(feature=Value(dtype='int32', id=None), length=-1, id=None),\n",
       " 'labels': Sequence(feature=Value(dtype='int64', id=None), length=-1, id=None),\n",
       " 'summary': Value(dtype='string', id=None)}"
      ]
     },
     "execution_count": 17,
     "metadata": {},
     "output_type": "execute_result"
    }
   ],
   "source": [
    "tokenized_xsum['test'].features"
   ]
  },
  {
   "cell_type": "markdown",
   "metadata": {},
   "source": [
    "### The attention mask tells the model what to pay attention to by passing values of 1 for tokens to consider and values of 0 for tokens to ignore. The input ids are the numerical mapping of tokens to BART's vocabulary; each word in BART's vocabulary is assigned a numerical value."
   ]
  },
  {
   "cell_type": "code",
   "execution_count": 18,
   "metadata": {},
   "outputs": [
    {
     "data": {
      "text/html": [
       "<table border=\"1\" class=\"dataframe\">\n",
       "  <thead>\n",
       "    <tr style=\"text-align: right;\">\n",
       "      <th></th>\n",
       "      <th>attention_mask</th>\n",
       "      <th>document</th>\n",
       "      <th>id</th>\n",
       "      <th>input_ids</th>\n",
       "      <th>labels</th>\n",
       "      <th>summary</th>\n",
       "    </tr>\n",
       "  </thead>\n",
       "  <tbody>\n",
       "    <tr>\n",
       "      <th>0</th>\n",
       "      <td>[1, 1, 1, 1, 1, 1, 1, 1, 1, 1, 1, 1, 1, 1, 1, 1, 1, 1, 1, 1, 1, 1, 1, 1, 1, 1, 1, 1, 1, 1, 1, 1, 1, 1, 1, 1, 1, 1, 1, 1, 1, 1, 1, 1, 1, 1, 1, 1, 1, 1, 1, 1, 1, 1, 1, 1, 1, 1, 1, 1, 1, 1, 1, 1, 1, 1, 1, 1, 1, 1, 1, 1, 1, 1, 1, 1, 1, 1, 1, 1, 1, 1, 1, 1, 1, 1, 1, 1, 1, 1, 1, 1, 1, 1, 1, 1, 1, 1, 1, 1, ...]</td>\n",
       "      <td>The 28-year-old centre-back spent a spell on the sidelines with a similar problem last season. He also missed the start of the season after surgery on a back injury before returning at the end of October. \"It is not a recurrence of the injury which required surgery so that is a positive,\" said Stoke boss Mark Hughes. \"Unfortunately, the negative is that he has soft muscle damage and at the moment it is looking like it will probably be three to four weeks I would think.\" Shawcross will now miss the second leg of the Capital One Cup semi-final at Liverpool on Tuesday. The Reds beat Stoke 1-0 in the first leg. The Potters also face an FA Cup fourth-round tie at Crystal Palace as well as Premier League games against Manchester United, Everton and Bournemouth in the next month.</td>\n",
       "      <td>35400770</td>\n",
       "      <td>[0, 133, 971, 12, 180, 12, 279, 2100, 12, 1644, 1240, 10, 8921, 15, 5, 10151, 19, 10, 1122, 936, 94, 191, 4, 91, 67, 2039, 5, 386, 9, 5, 191, 71, 3012, 15, 10, 124, 1356, 137, 3357, 23, 5, 253, 9, 779, 4, 22, 243, 16, 45, 10, 3872, 30904, 9, 5, 1356, 61, 1552, 3012, 98, 14, 16, 10, 1313, 60, 26, 15607, 3504, 1190, 7799, 4, 22, 16861, 6, 5, 2430, 16, 14, 37, 34, 3793, 8698, 1880, 8, 23, 5, 1151, 24, 16, 546, 101, 24, 40, 1153, 28, 130, 7, 237, 688, 38, 74, ...]</td>\n",
       "      <td>[0, 5320, 5361, 412, 3449, 1774, 8390, 15329, 115, 28, 66, 13, 62, 7, 10, 353, 19, 5, 124, 1356, 14, 1654, 123, 160, 11, 378, 18, 3002, 23, 9035, 4, 2]</td>\n",
       "      <td>Stoke City captain Ryan Shawcross could be out for up to a month with the back injury that forced him off in Saturday's defeat at Leicester.</td>\n",
       "    </tr>\n",
       "    <tr>\n",
       "      <th>1</th>\n",
       "      <td>[1, 1, 1, 1, 1, 1, 1, 1, 1, 1, 1, 1, 1, 1, 1, 1, 1, 1, 1, 1, 1, 1, 1, 1, 1, 1, 1, 1, 1, 1, 1, 1, 1, 1, 1, 1, 1, 1, 1, 1, 1, 1, 1, 1, 1, 1, 1, 1, 1, 1, 1, 1, 1, 1, 1, 1, 1, 1, 1, 1, 1, 1, 1, 1, 1, 1, 1, 1, 1, 1, 1, 1, 1, 1, 1, 1, 1, 1, 1, 1, 1, 1, 1, 1, 1, 1, 1, 1, 1, 1, 1, 1, 1, 1, 1, 1, 1, 1, 1, 1, ...]</td>\n",
       "      <td>Alsop has admitted being \"quite shocked that it can be 2013 and there can still be firsts for women\". The music director of Baltimore Symphony Orchestra since 2007, and principal conductor of Brazil's Sao Paulo Symphony Orchestra, she has been hailed for her bold attempts to make classical music more inclusive, defying boundaries of class, age and gender. The day after conducting Britain's best-loved musical extravaganza in front of a crowd of more than 6,000, Alsop spoke to the BBC about the Proms, patriotism, and those pink balloons. You appeared visibly moved at last night's performance, was it what you expected? It exceeded my expectations. It was a great evening. It was really emotional and very moving to be involved in such a big celebration. What makes the Proms such a unique event in the world of classical music? I think it's the number of people that gather and watch, from the parks and that. Everyone comes with the expectation that it's going to be great evening and it's so nice to have everyone coming from such a positive vantage point. Speaking at the Proms last night, you alluded to opposition you faced to becoming a conductor, tell me more about that. When I was a kid my violin teacher told me girls couldn't do that. She simply didn't see it. To a certain degree I have met opposition, spoken or unspoken, all the way through. I think every woman in a position of authority will tell you that opposition exists somewhere in the mix, whether it's conscious or unconscious, because we're not accustomed as a society [to having a female in charge]. Does gender make any difference to the role of conductor? I have no idea if being female makes any difference. I have no perspective on it, I have only been me. Could it affect the relationship between conductor and orchestra? Not at all.  I think the orchestra just wants someone knowledgeable and committed. They don't really care, as long as you're good. How much time did you have to rehearse with the BBC symphony orchestra? We didn't have that much time. We started rehearsing Thursday afternoon - just two days. It makes it very exciting. The Proms finale is traditionally very patriotic. As an American, how did it feel to be at the centre of it? I feel very much at home here, I like all the tradition and that kind of hoopla. So you don't think we are a bunch of flag-waving loons? I didn't say that...! But I enjoy it. I think there is something very dear about it all. What about the pink balloons which were tied around the hall, were they for your benefit? I assume so - they said 'it's a girl!' Nigel Kennedy burst one with his bow right in front of you. How was your first experience of working with him? The balloon was a little bit alarming. It was fun to work together, we really enjoyed it. I thought we had a great rapport, a great connection. Would you consider replicating the Proms in Baltimore or Sao Paulo? This is a uniquely British experience. Imitating things doesn't necessarily bring out the best. It's the morning after the night before and you are en route back to the States. Where do you find the energy? I don't have much of it this morning. I am hoping to regroup on the plane. What do you do to relax? I love to run, work out a little bit, read, I'm studying Portugueseâ€¦ I've got a full plate. Do you listen to music, or is that too much like work? Absolutely not. What do you see as your legacy? I don't care much about legacies. To me it's all about trying to maximise whatever you are doing in the moment, and make a difference wherever you are.</td>\n",
       "      <td>24008355</td>\n",
       "      <td>[0, 7083, 29, 1517, 34, 2641, 145, 22, 24638, 6649, 14, 24, 64, 28, 1014, 8, 89, 64, 202, 28, 78, 29, 13, 390, 845, 20, 930, 736, 9, 4766, 18972, 18200, 187, 3010, 6, 8, 5402, 24856, 9, 2910, 18, 20960, 15333, 18972, 18200, 6, 79, 34, 57, 12395, 13, 69, 7457, 3881, 7, 146, 15855, 930, 55, 10510, 6, 3816, 4048, 10156, 9, 1380, 6, 1046, 8, 3959, 4, 20, 183, 71, 7909, 1444, 18, 275, 12, 462, 12677, 4388, 1823, 705, 7060, 2478, 11, 760, 9, 10, 2180, 9, 55, 87, 231, 6, 151, 6, 726, 29, ...]</td>\n",
       "      <td>[0, 713, 983, 794, 188, 18325, 17700, 726, 29, 1517, 555, 5, 78, 693, 7, 483, 5, 1426, 4172, 9, 5, 10772, 29, 11, 63, 16970, 12, 180, 750, 4, 2]</td>\n",
       "      <td>This weekend saw New Yorker Marin Alsop become the first woman to lead the Last Night of the Proms in its 118-year history.</td>\n",
       "    </tr>\n",
       "    <tr>\n",
       "      <th>2</th>\n",
       "      <td>[1, 1, 1, 1, 1, 1, 1, 1, 1, 1, 1, 1, 1, 1, 1, 1, 1, 1, 1, 1, 1, 1, 1, 1, 1, 1, 1, 1, 1, 1, 1, 1, 1, 1, 1, 1, 1, 1, 1, 1, 1, 1, 1, 1, 1, 1, 1, 1, 1, 1, 1, 1, 1, 1, 1, 1, 1, 1, 1, 1, 1, 1, 1, 1, 1, 1, 1, 1, 1, 1, 1, 1, 1, 1, 1, 1, 1, 1, 1, 1, 1, 1, 1, 1, 1, 1, 1, 1, 1, 1, 1, 1, 1, 1, 1, 1, 1, 1, 1, 1, ...]</td>\n",
       "      <td>The Tyco BMW rider, who was injured in a 130mph crash at Ireland's Corner last August, also sat out this year's North West 200 and Isle of Man TT. Gary Dunlop will make his debut with his father's famous number three plate. \"I've never let anyone since Joey ride as number three but who better to use it than Gary,\" said clerk of the course Noel Johnston. \"I think it'll be pretty special to see it on the grid after all these years.\" Joey Dunlop won a record 26 Isle of Man TTs and 24 Ulster GPs before he was killed in a crash while racing in Estonia in July 2000. Michael Dunlop and Ian Hutchinson both return to Dundrod gunning for the top step of the podium with Dean Harrison, Ivan Lintin, Lee Johnston, William Dunlop, Peter Hickman, Bruce Anstey, Dan Kneen, Conor Cummins and Christian Elkin among the 173 entries. Johnston said the absence of Martin, who will be in Utah filming a land speed record attempt, is \"a shame, but in no way will there be any less of a spectacle for the fans\". He added: \"I'm very pleased with the final entry list and think it says a lot about the popularity of the event that the total number of entries are growing year on year, as is the number of newcomers [54] coming to Dundrod.\" Martin has presented a number of TV programmes in recent years, most notably Channel 4's Speed with Guy Martin. The 2016 Ulster Grand Prix will run between August 8 and 13.</td>\n",
       "      <td>36892925</td>\n",
       "      <td>[0, 133, 5957, 876, 8588, 11578, 6, 54, 21, 1710, 11, 10, 8325, 17055, 2058, 23, 2487, 18, 15211, 94, 830, 6, 67, 4005, 66, 42, 76, 18, 369, 580, 1878, 8, 18930, 9, 1554, 23529, 4, 4587, 6367, 462, 1517, 40, 146, 39, 2453, 19, 39, 1150, 18, 3395, 346, 130, 5299, 4, 22, 100, 348, 393, 905, 1268, 187, 12972, 3068, 25, 346, 130, 53, 54, 357, 7, 304, 24, 87, 4587, 60, 26, 14174, 9, 5, 768, 16958, 13870, 4, 22, 100, 206, 24, 581, 28, 1256, 780, 7, 192, 24, 15, 5, 7961, 71, 70, 209, ...]</td>\n",
       "      <td>[0, 38624, 1896, 40, 45, 28, 4930, 23, 220, 353, 18, 21544, 2374, 11761, 142, 9, 1012, 9116, 11, 730, 4, 2]</td>\n",
       "      <td>Guy Martin will not be racing at next month's Ulster Grand Prix because of TV commitments in America.</td>\n",
       "    </tr>\n",
       "    <tr>\n",
       "      <th>3</th>\n",
       "      <td>[1, 1, 1, 1, 1, 1, 1, 1, 1, 1, 1, 1, 1, 1, 1, 1, 1, 1, 1, 1, 1, 1, 1, 1, 1, 1, 1, 1, 1, 1, 1, 1, 1, 1, 1, 1, 1, 1, 1, 1, 1, 1, 1, 1, 1, 1, 1, 1, 1, 1, 1, 1, 1, 1, 1, 1, 1, 1, 1, 1, 1, 1, 1, 1, 1, 1, 1, 1, 1, 1, 1, 1, 1, 1, 1, 1, 1, 1, 1, 1, 1, 1, 1, 1, 1, 1, 1, 1, 1, 1, 1, 1, 1, 1, 1, 1, 1, 1, 1, 1, ...]</td>\n",
       "      <td>It says the current TV deals saw Premier League clubs generate £3.3bn record revenues in 2014-15, up by 3%. Top flight clubs also recorded a second straight year of pre-tax profits in 2014-15, for the first time since 1999. With more lucrative TV deals from 2016, Deloitte says clubs are \"looking at at least three more years of big growth\". Launching its 25th Annual Review of Football Finance, Dan Jones from the business consultancy's Sport Business Group said: \"What we are seeing is a continuation of club profitability, it is certainly not a one-off. \"We feel Premier League clubs have turned the corner, and are entering a new era of sustained profitability. Clubs are now attractive propositions to investors, and not merely as vanity projects.\" He said increased profitability meant that top flight English clubs could compete with overseas teams in order to buy up the best players in the world, and still have money left in reserve. From 2016-17 clubs will receive even more cash from broadcasters, with Sky and BT Sport paying a record £5.136bn (up from £3.018bn in 2013-16) for live Premier League TV rights for three seasons. \"When the enhanced new broadcast deals commence in the 2016-17 season, operating profits could rise as high as £1bn,\" Mr Jones said. He also said that it was encouraging to see that much of this new-found TV wealth was being spent by clubs not only on players, but also on improving stadia and infrastructure. \"The pace of football's financial growth in two and a half decades is staggering,\" said Mr Jones, referring to the foundation of the Premier League in 1992. \"By half-time of the second televised Premier League game next year, more broadcast revenue will have been generated than during the whole of the First Division season 25 years ago.\" He added: \"The impact of the Premier League's broadcast deal is clear to see. For the first time, the Premier League leads the football world in all three key revenue categories - commercial, match day and broadcast - and this is driving sustainable profitability. Although the wages/revenue ratio has increased for the Premier League clubs, Mr Jones does not see this as cause for concern. \"Wage costs grew at a faster rate than revenues in 2014-15 and as a result the division's wages/revenue ratio rose from 58% to 61%,\" he said. \"However, this represents the second lowest level since 2004-05 and is 10 percentage points lower than in 2012-13. \"In fact, in the last two years, only 30% of revenue increases have been consumed by wage growth, whereas in the five years to 2012-13 this figure was 99%.\" Premier League highlights 2014-15 The 92 clubs in the English Premier League and Football League generated more than £4bn in revenues for the first time in 2014-15, a new record. Meanwhile,  the UK government's tax take from the top 92 professional football clubs in 2014-15 was roughly £1.5bn, up from £1.4bn the previous season. Deloitte's review of football finance also found that combined revenue for the \"big five\" European leagues (England, Germany, Spain, Italy, and France) rose 6% to a record €12bn (£9.2bn) in 2014-15. While the Premier League, Bundesliga and Spain's La Liga were profitable, Italy's Serie A and France's Ligue 1 generated combined operating losses. In England's second tier, the Championship, combined revenues grew 12% to £548m in 2014-15, exceeding £500m for the first time. \"Wage costs rose by 4% to £541m which, despite a reduction in the wages/revenue ratio from 106% in 2013-14 to 99%, means clubs spent almost as much on wages as they generated in revenue,\" said Deloitte. \"This remains an unsustainable level of spending without the support of owner funding. This resulted in operating losses of £225m and a combined pre-tax loss of £191m.\" In Scotland, Celtic's failure to qualify for the group stages of the Champions League contributed to a fall in Premiership clubs' aggregate revenues of 9%, or some £13m. However, the Glasgow club still accounted for 50% of all revenues in the division, as they lifted the title for a fourth successive year. Deloitte said a new deal to market the international (non EEA - European Economic Area) TV rights  meant Scottish football was now being shown in more than 100 countries.</td>\n",
       "      <td>36412394</td>\n",
       "      <td>[0, 243, 161, 5, 595, 1012, 2656, 794, 2275, 815, 4207, 5368, 984, 246, 4, 246, 6316, 638, 3883, 11, 777, 12, 996, 6, 62, 30, 155, 2153, 3107, 2524, 4207, 67, 2673, 10, 200, 1359, 76, 9, 1198, 12, 11755, 4632, 11, 777, 12, 996, 6, 13, 5, 78, 86, 187, 6193, 4, 590, 55, 11874, 1012, 2656, 31, 336, 6, 3011, 139, 13537, 161, 4207, 32, 22, 3690, 23, 23, 513, 130, 55, 107, 9, 380, 434, 845, 21208, 7968, 63, 564, 212, 7453, 5872, 9, 3910, 4090, 6, 2503, 1454, 31, 5, 265, 16394, 18, 5413, 2090, ...]</td>\n",
       "      <td>[0, 41084, 7913, 352, 739, 1012, 2656, 32, 1903, 2370, 2275, 815, 4207, 7, 2914, 22, 102, 92, 3567, 9, 5232, 613, 819, 1297, 309, 7, 3011, 139, 13537, 4, 2]</td>\n",
       "      <td>Increasingly large TV deals are helping English Premier League clubs to enter \"a new era of sustained financial performance\", according to Deloitte.</td>\n",
       "    </tr>\n",
       "    <tr>\n",
       "      <th>4</th>\n",
       "      <td>[1, 1, 1, 1, 1, 1, 1, 1, 1, 1, 1, 1, 1, 1, 1, 1, 1, 1, 1, 1, 1, 1, 1, 1, 1, 1, 1, 1, 1, 1, 1, 1, 1, 1, 1, 1, 1, 1, 1, 1, 1, 1, 1, 1, 1, 1, 1, 1, 1, 1, 1, 1, 1, 1, 1, 1, 1, 1, 1, 1, 1, 1, 1, 1, 1, 1, 1, 1, 1, 1, 1, 1, 1, 1, 1, 1, 1, 1, 1, 1, 1, 1, 1, 1, 1, 1, 1, 1, 1, 1, 1, 1, 1, 1, 1, 1, 1, 1, 1, 1, ...]</td>\n",
       "      <td>Media playback is not supported on this device Ellis and Langridge beat the world number five pair 21-18 19-21 21-10. The pair performed above their world ranking of 22nd to reach Tuesday's semi-final, losing to fourth seeds Fu Haifeng and Zhang Nan of China. Langridge said: \"When we got to 14-7 in the last game, I thought: 'We might win this! We are going to win this!'\" He added: \"Luckily Marcus was quite calm, which helped a lot.\" In a dramatic finale, a review on the final point was required to seal the victory. \"I can't even describe how I felt after we saw that,\" said Ellis. \"This is an incredible feeling. After how we performed in our very first match, we knew we could compete with anybody.\" Team GB have now won 52 medals in Rio. Olympic silver medallist Gail Emms immediately tweeted her congratulations to the pair. Find out how to get into badminton with our special guide. Subscribe to the BBC Sport newsletter to get our pick of news, features and video sent to your inbox.</td>\n",
       "      <td>36690916</td>\n",
       "      <td>[0, 18801, 20083, 16, 45, 2800, 15, 42, 2187, 10503, 8, 7883, 8614, 1451, 5, 232, 346, 292, 1763, 733, 12, 1366, 753, 12, 2146, 733, 12, 698, 4, 20, 1763, 3744, 1065, 49, 232, 7141, 9, 820, 1187, 7, 1338, 294, 18, 4126, 12, 6156, 6, 2086, 7, 887, 9775, 13890, 4936, 1594, 3314, 8, 16087, 13690, 9, 436, 4, 7883, 8614, 26, 35, 22, 1779, 52, 300, 7, 501, 12, 406, 11, 5, 94, 177, 6, 38, 802, 35, 128, 170, 429, 339, 42, 328, 166, 32, 164, 7, 339, 42, 35347, 91, 355, 35, 22, 42498, 7380, ...]</td>\n",
       "      <td>[0, 23952, 10503, 8, 1573, 7883, 8614, 351, 2860, 1444, 18, 78, 3336, 1099, 119, 10528, 604, 18, 8862, 5279, 6, 4108, 436, 18, 3523, 27080, 8, 732, 1439, 163, 17530, 7, 185, 9768, 4, 2]</td>\n",
       "      <td>Marcus Ellis and Chris Langridge won Great Britain's first Olympic badminton men's doubles medal, beating China's Hong Wei and Chai Biao to take bronze.</td>\n",
       "    </tr>\n",
       "  </tbody>\n",
       "</table>"
      ],
      "text/plain": [
       "<IPython.core.display.HTML object>"
      ]
     },
     "metadata": {},
     "output_type": "display_data"
    },
    {
     "data": {
      "text/html": [
       "<table border=\"1\" class=\"dataframe\">\n",
       "  <thead>\n",
       "    <tr style=\"text-align: right;\">\n",
       "      <th></th>\n",
       "      <th>attention_mask</th>\n",
       "      <th>document</th>\n",
       "      <th>id</th>\n",
       "      <th>input_ids</th>\n",
       "      <th>labels</th>\n",
       "      <th>summary</th>\n",
       "    </tr>\n",
       "  </thead>\n",
       "  <tbody>\n",
       "    <tr>\n",
       "      <th>0</th>\n",
       "      <td>[1, 1, 1, 1, 1, 1, 1, 1, 1, 1, 1, 1, 1, 1, 1, 1, 1, 1, 1, 1, 1, 1, 1, 1, 1, 1, 1, 1, 1, 1, 1, 1, 1, 1, 1, 1, 1, 1, 1, 1, 1, 1, 1, 1, 1, 1, 1, 1, 1, 1, 1, 1, 1, 1, 1, 1, 1, 1, 1, 1, 1, 1, 1, 1, 1, 1, 1, 1, 1, 1, 1, 1, 1, 1, 1, 1, 1, 1, 1, 1, 1, 1, 1, 1, 1, 1, 1, 1, 1, 1, 1, 1, 1, 1, 1, 1, 1, 1, 1, 1, ...]</td>\n",
       "      <td>The 28-year-old centre-back spent a spell on the sidelines with a similar problem last season. He also missed the start of the season after surgery on a back injury before returning at the end of October. \"It is not a recurrence of the injury which required surgery so that is a positive,\" said Stoke boss Mark Hughes. \"Unfortunately, the negative is that he has soft muscle damage and at the moment it is looking like it will probably be three to four weeks I would think.\" Shawcross will now miss the second leg of the Capital One Cup semi-final at Liverpool on Tuesday. The Reds beat Stoke 1-0 in the first leg. The Potters also face an FA Cup fourth-round tie at Crystal Palace as well as Premier League games against Manchester United, Everton and Bournemouth in the next month.</td>\n",
       "      <td>35400770</td>\n",
       "      <td>[0, 133, 971, 12, 180, 12, 279, 2100, 12, 1644, 1240, 10, 8921, 15, 5, 10151, 19, 10, 1122, 936, 94, 191, 4, 91, 67, 2039, 5, 386, 9, 5, 191, 71, 3012, 15, 10, 124, 1356, 137, 3357, 23, 5, 253, 9, 779, 4, 22, 243, 16, 45, 10, 3872, 30904, 9, 5, 1356, 61, 1552, 3012, 98, 14, 16, 10, 1313, 60, 26, 15607, 3504, 1190, 7799, 4, 22, 16861, 6, 5, 2430, 16, 14, 37, 34, 3793, 8698, 1880, 8, 23, 5, 1151, 24, 16, 546, 101, 24, 40, 1153, 28, 130, 7, 237, 688, 38, 74, ...]</td>\n",
       "      <td>[0, 5320, 5361, 412, 3449, 1774, 8390, 15329, 115, 28, 66, 13, 62, 7, 10, 353, 19, 5, 124, 1356, 14, 1654, 123, 160, 11, 378, 18, 3002, 23, 9035, 4, 2]</td>\n",
       "      <td>Stoke City captain Ryan Shawcross could be out for up to a month with the back injury that forced him off in Saturday's defeat at Leicester.</td>\n",
       "    </tr>\n",
       "    <tr>\n",
       "      <th>1</th>\n",
       "      <td>[1, 1, 1, 1, 1, 1, 1, 1, 1, 1, 1, 1, 1, 1, 1, 1, 1, 1, 1, 1, 1, 1, 1, 1, 1, 1, 1, 1, 1, 1, 1, 1, 1, 1, 1, 1, 1, 1, 1, 1, 1, 1, 1, 1, 1, 1, 1, 1, 1, 1, 1, 1, 1, 1, 1, 1, 1, 1, 1, 1, 1, 1, 1, 1, 1, 1, 1, 1, 1, 1, 1, 1, 1, 1, 1, 1, 1, 1, 1, 1, 1, 1, 1, 1, 1, 1, 1, 1, 1, 1, 1, 1, 1, 1, 1, 1, 1, 1, 1, 1, ...]</td>\n",
       "      <td>Alsop has admitted being \"quite shocked that it can be 2013 and there can still be firsts for women\". The music director of Baltimore Symphony Orchestra since 2007, and principal conductor of Brazil's Sao Paulo Symphony Orchestra, she has been hailed for her bold attempts to make classical music more inclusive, defying boundaries of class, age and gender. The day after conducting Britain's best-loved musical extravaganza in front of a crowd of more than 6,000, Alsop spoke to the BBC about the Proms, patriotism, and those pink balloons. You appeared visibly moved at last night's performance, was it what you expected? It exceeded my expectations. It was a great evening. It was really emotional and very moving to be involved in such a big celebration. What makes the Proms such a unique event in the world of classical music? I think it's the number of people that gather and watch, from the parks and that. Everyone comes with the expectation that it's going to be great evening and it's so nice to have everyone coming from such a positive vantage point. Speaking at the Proms last night, you alluded to opposition you faced to becoming a conductor, tell me more about that. When I was a kid my violin teacher told me girls couldn't do that. She simply didn't see it. To a certain degree I have met opposition, spoken or unspoken, all the way through. I think every woman in a position of authority will tell you that opposition exists somewhere in the mix, whether it's conscious or unconscious, because we're not accustomed as a society [to having a female in charge]. Does gender make any difference to the role of conductor? I have no idea if being female makes any difference. I have no perspective on it, I have only been me. Could it affect the relationship between conductor and orchestra? Not at all.  I think the orchestra just wants someone knowledgeable and committed. They don't really care, as long as you're good. How much time did you have to rehearse with the BBC symphony orchestra? We didn't have that much time. We started rehearsing Thursday afternoon - just two days. It makes it very exciting. The Proms finale is traditionally very patriotic. As an American, how did it feel to be at the centre of it? I feel very much at home here, I like all the tradition and that kind of hoopla. So you don't think we are a bunch of flag-waving loons? I didn't say that...! But I enjoy it. I think there is something very dear about it all. What about the pink balloons which were tied around the hall, were they for your benefit? I assume so - they said 'it's a girl!' Nigel Kennedy burst one with his bow right in front of you. How was your first experience of working with him? The balloon was a little bit alarming. It was fun to work together, we really enjoyed it. I thought we had a great rapport, a great connection. Would you consider replicating the Proms in Baltimore or Sao Paulo? This is a uniquely British experience. Imitating things doesn't necessarily bring out the best. It's the morning after the night before and you are en route back to the States. Where do you find the energy? I don't have much of it this morning. I am hoping to regroup on the plane. What do you do to relax? I love to run, work out a little bit, read, I'm studying Portugueseâ€¦ I've got a full plate. Do you listen to music, or is that too much like work? Absolutely not. What do you see as your legacy? I don't care much about legacies. To me it's all about trying to maximise whatever you are doing in the moment, and make a difference wherever you are.</td>\n",
       "      <td>24008355</td>\n",
       "      <td>[0, 7083, 29, 1517, 34, 2641, 145, 22, 24638, 6649, 14, 24, 64, 28, 1014, 8, 89, 64, 202, 28, 78, 29, 13, 390, 845, 20, 930, 736, 9, 4766, 18972, 18200, 187, 3010, 6, 8, 5402, 24856, 9, 2910, 18, 20960, 15333, 18972, 18200, 6, 79, 34, 57, 12395, 13, 69, 7457, 3881, 7, 146, 15855, 930, 55, 10510, 6, 3816, 4048, 10156, 9, 1380, 6, 1046, 8, 3959, 4, 20, 183, 71, 7909, 1444, 18, 275, 12, 462, 12677, 4388, 1823, 705, 7060, 2478, 11, 760, 9, 10, 2180, 9, 55, 87, 231, 6, 151, 6, 726, 29, ...]</td>\n",
       "      <td>[0, 713, 983, 794, 188, 18325, 17700, 726, 29, 1517, 555, 5, 78, 693, 7, 483, 5, 1426, 4172, 9, 5, 10772, 29, 11, 63, 16970, 12, 180, 750, 4, 2]</td>\n",
       "      <td>This weekend saw New Yorker Marin Alsop become the first woman to lead the Last Night of the Proms in its 118-year history.</td>\n",
       "    </tr>\n",
       "    <tr>\n",
       "      <th>2</th>\n",
       "      <td>[1, 1, 1, 1, 1, 1, 1, 1, 1, 1, 1, 1, 1, 1, 1, 1, 1, 1, 1, 1, 1, 1, 1, 1, 1, 1, 1, 1, 1, 1, 1, 1, 1, 1, 1, 1, 1, 1, 1, 1, 1, 1, 1, 1, 1, 1, 1, 1, 1, 1, 1, 1, 1, 1, 1, 1, 1, 1, 1, 1, 1, 1, 1, 1, 1, 1, 1, 1, 1, 1, 1, 1, 1, 1, 1, 1, 1, 1, 1, 1, 1, 1, 1, 1, 1, 1, 1, 1, 1, 1, 1, 1, 1, 1, 1, 1, 1, 1, 1, 1, ...]</td>\n",
       "      <td>The Tyco BMW rider, who was injured in a 130mph crash at Ireland's Corner last August, also sat out this year's North West 200 and Isle of Man TT. Gary Dunlop will make his debut with his father's famous number three plate. \"I've never let anyone since Joey ride as number three but who better to use it than Gary,\" said clerk of the course Noel Johnston. \"I think it'll be pretty special to see it on the grid after all these years.\" Joey Dunlop won a record 26 Isle of Man TTs and 24 Ulster GPs before he was killed in a crash while racing in Estonia in July 2000. Michael Dunlop and Ian Hutchinson both return to Dundrod gunning for the top step of the podium with Dean Harrison, Ivan Lintin, Lee Johnston, William Dunlop, Peter Hickman, Bruce Anstey, Dan Kneen, Conor Cummins and Christian Elkin among the 173 entries. Johnston said the absence of Martin, who will be in Utah filming a land speed record attempt, is \"a shame, but in no way will there be any less of a spectacle for the fans\". He added: \"I'm very pleased with the final entry list and think it says a lot about the popularity of the event that the total number of entries are growing year on year, as is the number of newcomers [54] coming to Dundrod.\" Martin has presented a number of TV programmes in recent years, most notably Channel 4's Speed with Guy Martin. The 2016 Ulster Grand Prix will run between August 8 and 13.</td>\n",
       "      <td>36892925</td>\n",
       "      <td>[0, 133, 5957, 876, 8588, 11578, 6, 54, 21, 1710, 11, 10, 8325, 17055, 2058, 23, 2487, 18, 15211, 94, 830, 6, 67, 4005, 66, 42, 76, 18, 369, 580, 1878, 8, 18930, 9, 1554, 23529, 4, 4587, 6367, 462, 1517, 40, 146, 39, 2453, 19, 39, 1150, 18, 3395, 346, 130, 5299, 4, 22, 100, 348, 393, 905, 1268, 187, 12972, 3068, 25, 346, 130, 53, 54, 357, 7, 304, 24, 87, 4587, 60, 26, 14174, 9, 5, 768, 16958, 13870, 4, 22, 100, 206, 24, 581, 28, 1256, 780, 7, 192, 24, 15, 5, 7961, 71, 70, 209, ...]</td>\n",
       "      <td>[0, 38624, 1896, 40, 45, 28, 4930, 23, 220, 353, 18, 21544, 2374, 11761, 142, 9, 1012, 9116, 11, 730, 4, 2]</td>\n",
       "      <td>Guy Martin will not be racing at next month's Ulster Grand Prix because of TV commitments in America.</td>\n",
       "    </tr>\n",
       "    <tr>\n",
       "      <th>3</th>\n",
       "      <td>[1, 1, 1, 1, 1, 1, 1, 1, 1, 1, 1, 1, 1, 1, 1, 1, 1, 1, 1, 1, 1, 1, 1, 1, 1, 1, 1, 1, 1, 1, 1, 1, 1, 1, 1, 1, 1, 1, 1, 1, 1, 1, 1, 1, 1, 1, 1, 1, 1, 1, 1, 1, 1, 1, 1, 1, 1, 1, 1, 1, 1, 1, 1, 1, 1, 1, 1, 1, 1, 1, 1, 1, 1, 1, 1, 1, 1, 1, 1, 1, 1, 1, 1, 1, 1, 1, 1, 1, 1, 1, 1, 1, 1, 1, 1, 1, 1, 1, 1, 1, ...]</td>\n",
       "      <td>It says the current TV deals saw Premier League clubs generate £3.3bn record revenues in 2014-15, up by 3%. Top flight clubs also recorded a second straight year of pre-tax profits in 2014-15, for the first time since 1999. With more lucrative TV deals from 2016, Deloitte says clubs are \"looking at at least three more years of big growth\". Launching its 25th Annual Review of Football Finance, Dan Jones from the business consultancy's Sport Business Group said: \"What we are seeing is a continuation of club profitability, it is certainly not a one-off. \"We feel Premier League clubs have turned the corner, and are entering a new era of sustained profitability. Clubs are now attractive propositions to investors, and not merely as vanity projects.\" He said increased profitability meant that top flight English clubs could compete with overseas teams in order to buy up the best players in the world, and still have money left in reserve. From 2016-17 clubs will receive even more cash from broadcasters, with Sky and BT Sport paying a record £5.136bn (up from £3.018bn in 2013-16) for live Premier League TV rights for three seasons. \"When the enhanced new broadcast deals commence in the 2016-17 season, operating profits could rise as high as £1bn,\" Mr Jones said. He also said that it was encouraging to see that much of this new-found TV wealth was being spent by clubs not only on players, but also on improving stadia and infrastructure. \"The pace of football's financial growth in two and a half decades is staggering,\" said Mr Jones, referring to the foundation of the Premier League in 1992. \"By half-time of the second televised Premier League game next year, more broadcast revenue will have been generated than during the whole of the First Division season 25 years ago.\" He added: \"The impact of the Premier League's broadcast deal is clear to see. For the first time, the Premier League leads the football world in all three key revenue categories - commercial, match day and broadcast - and this is driving sustainable profitability. Although the wages/revenue ratio has increased for the Premier League clubs, Mr Jones does not see this as cause for concern. \"Wage costs grew at a faster rate than revenues in 2014-15 and as a result the division's wages/revenue ratio rose from 58% to 61%,\" he said. \"However, this represents the second lowest level since 2004-05 and is 10 percentage points lower than in 2012-13. \"In fact, in the last two years, only 30% of revenue increases have been consumed by wage growth, whereas in the five years to 2012-13 this figure was 99%.\" Premier League highlights 2014-15 The 92 clubs in the English Premier League and Football League generated more than £4bn in revenues for the first time in 2014-15, a new record. Meanwhile,  the UK government's tax take from the top 92 professional football clubs in 2014-15 was roughly £1.5bn, up from £1.4bn the previous season. Deloitte's review of football finance also found that combined revenue for the \"big five\" European leagues (England, Germany, Spain, Italy, and France) rose 6% to a record €12bn (£9.2bn) in 2014-15. While the Premier League, Bundesliga and Spain's La Liga were profitable, Italy's Serie A and France's Ligue 1 generated combined operating losses. In England's second tier, the Championship, combined revenues grew 12% to £548m in 2014-15, exceeding £500m for the first time. \"Wage costs rose by 4% to £541m which, despite a reduction in the wages/revenue ratio from 106% in 2013-14 to 99%, means clubs spent almost as much on wages as they generated in revenue,\" said Deloitte. \"This remains an unsustainable level of spending without the support of owner funding. This resulted in operating losses of £225m and a combined pre-tax loss of £191m.\" In Scotland, Celtic's failure to qualify for the group stages of the Champions League contributed to a fall in Premiership clubs' aggregate revenues of 9%, or some £13m. However, the Glasgow club still accounted for 50% of all revenues in the division, as they lifted the title for a fourth successive year. Deloitte said a new deal to market the international (non EEA - European Economic Area) TV rights  meant Scottish football was now being shown in more than 100 countries.</td>\n",
       "      <td>36412394</td>\n",
       "      <td>[0, 243, 161, 5, 595, 1012, 2656, 794, 2275, 815, 4207, 5368, 984, 246, 4, 246, 6316, 638, 3883, 11, 777, 12, 996, 6, 62, 30, 155, 2153, 3107, 2524, 4207, 67, 2673, 10, 200, 1359, 76, 9, 1198, 12, 11755, 4632, 11, 777, 12, 996, 6, 13, 5, 78, 86, 187, 6193, 4, 590, 55, 11874, 1012, 2656, 31, 336, 6, 3011, 139, 13537, 161, 4207, 32, 22, 3690, 23, 23, 513, 130, 55, 107, 9, 380, 434, 845, 21208, 7968, 63, 564, 212, 7453, 5872, 9, 3910, 4090, 6, 2503, 1454, 31, 5, 265, 16394, 18, 5413, 2090, ...]</td>\n",
       "      <td>[0, 41084, 7913, 352, 739, 1012, 2656, 32, 1903, 2370, 2275, 815, 4207, 7, 2914, 22, 102, 92, 3567, 9, 5232, 613, 819, 1297, 309, 7, 3011, 139, 13537, 4, 2]</td>\n",
       "      <td>Increasingly large TV deals are helping English Premier League clubs to enter \"a new era of sustained financial performance\", according to Deloitte.</td>\n",
       "    </tr>\n",
       "    <tr>\n",
       "      <th>4</th>\n",
       "      <td>[1, 1, 1, 1, 1, 1, 1, 1, 1, 1, 1, 1, 1, 1, 1, 1, 1, 1, 1, 1, 1, 1, 1, 1, 1, 1, 1, 1, 1, 1, 1, 1, 1, 1, 1, 1, 1, 1, 1, 1, 1, 1, 1, 1, 1, 1, 1, 1, 1, 1, 1, 1, 1, 1, 1, 1, 1, 1, 1, 1, 1, 1, 1, 1, 1, 1, 1, 1, 1, 1, 1, 1, 1, 1, 1, 1, 1, 1, 1, 1, 1, 1, 1, 1, 1, 1, 1, 1, 1, 1, 1, 1, 1, 1, 1, 1, 1, 1, 1, 1, ...]</td>\n",
       "      <td>Media playback is not supported on this device Ellis and Langridge beat the world number five pair 21-18 19-21 21-10. The pair performed above their world ranking of 22nd to reach Tuesday's semi-final, losing to fourth seeds Fu Haifeng and Zhang Nan of China. Langridge said: \"When we got to 14-7 in the last game, I thought: 'We might win this! We are going to win this!'\" He added: \"Luckily Marcus was quite calm, which helped a lot.\" In a dramatic finale, a review on the final point was required to seal the victory. \"I can't even describe how I felt after we saw that,\" said Ellis. \"This is an incredible feeling. After how we performed in our very first match, we knew we could compete with anybody.\" Team GB have now won 52 medals in Rio. Olympic silver medallist Gail Emms immediately tweeted her congratulations to the pair. Find out how to get into badminton with our special guide. Subscribe to the BBC Sport newsletter to get our pick of news, features and video sent to your inbox.</td>\n",
       "      <td>36690916</td>\n",
       "      <td>[0, 18801, 20083, 16, 45, 2800, 15, 42, 2187, 10503, 8, 7883, 8614, 1451, 5, 232, 346, 292, 1763, 733, 12, 1366, 753, 12, 2146, 733, 12, 698, 4, 20, 1763, 3744, 1065, 49, 232, 7141, 9, 820, 1187, 7, 1338, 294, 18, 4126, 12, 6156, 6, 2086, 7, 887, 9775, 13890, 4936, 1594, 3314, 8, 16087, 13690, 9, 436, 4, 7883, 8614, 26, 35, 22, 1779, 52, 300, 7, 501, 12, 406, 11, 5, 94, 177, 6, 38, 802, 35, 128, 170, 429, 339, 42, 328, 166, 32, 164, 7, 339, 42, 35347, 91, 355, 35, 22, 42498, 7380, ...]</td>\n",
       "      <td>[0, 23952, 10503, 8, 1573, 7883, 8614, 351, 2860, 1444, 18, 78, 3336, 1099, 119, 10528, 604, 18, 8862, 5279, 6, 4108, 436, 18, 3523, 27080, 8, 732, 1439, 163, 17530, 7, 185, 9768, 4, 2]</td>\n",
       "      <td>Marcus Ellis and Chris Langridge won Great Britain's first Olympic badminton men's doubles medal, beating China's Hong Wei and Chai Biao to take bronze.</td>\n",
       "    </tr>\n",
       "  </tbody>\n",
       "</table>"
      ],
      "text/plain": [
       "<IPython.core.display.HTML object>"
      ]
     },
     "metadata": {},
     "output_type": "display_data"
    },
    {
     "data": {
      "text/html": [
       "<table border=\"1\" class=\"dataframe\">\n",
       "  <thead>\n",
       "    <tr style=\"text-align: right;\">\n",
       "      <th></th>\n",
       "      <th>attention_mask</th>\n",
       "      <th>document</th>\n",
       "      <th>id</th>\n",
       "      <th>input_ids</th>\n",
       "      <th>labels</th>\n",
       "      <th>summary</th>\n",
       "    </tr>\n",
       "  </thead>\n",
       "  <tbody>\n",
       "    <tr>\n",
       "      <th>0</th>\n",
       "      <td>[1, 1, 1, 1, 1, 1, 1, 1, 1, 1, 1, 1, 1, 1, 1, 1, 1, 1, 1, 1, 1, 1, 1, 1, 1, 1, 1, 1, 1, 1, 1, 1, 1, 1, 1, 1, 1, 1, 1, 1, 1, 1, 1, 1, 1, 1, 1, 1, 1, 1, 1, 1, 1, 1, 1, 1, 1, 1, 1, 1, 1, 1, 1, 1, 1, 1, 1, 1, 1, 1, 1, 1, 1, 1, 1, 1, 1, 1, 1, 1, 1, 1, 1, 1, 1, 1, 1, 1, 1, 1, 1, 1, 1, 1, 1, 1, 1, 1, 1, 1, ...]</td>\n",
       "      <td>The 28-year-old centre-back spent a spell on the sidelines with a similar problem last season. He also missed the start of the season after surgery on a back injury before returning at the end of October. \"It is not a recurrence of the injury which required surgery so that is a positive,\" said Stoke boss Mark Hughes. \"Unfortunately, the negative is that he has soft muscle damage and at the moment it is looking like it will probably be three to four weeks I would think.\" Shawcross will now miss the second leg of the Capital One Cup semi-final at Liverpool on Tuesday. The Reds beat Stoke 1-0 in the first leg. The Potters also face an FA Cup fourth-round tie at Crystal Palace as well as Premier League games against Manchester United, Everton and Bournemouth in the next month.</td>\n",
       "      <td>35400770</td>\n",
       "      <td>[0, 133, 971, 12, 180, 12, 279, 2100, 12, 1644, 1240, 10, 8921, 15, 5, 10151, 19, 10, 1122, 936, 94, 191, 4, 91, 67, 2039, 5, 386, 9, 5, 191, 71, 3012, 15, 10, 124, 1356, 137, 3357, 23, 5, 253, 9, 779, 4, 22, 243, 16, 45, 10, 3872, 30904, 9, 5, 1356, 61, 1552, 3012, 98, 14, 16, 10, 1313, 60, 26, 15607, 3504, 1190, 7799, 4, 22, 16861, 6, 5, 2430, 16, 14, 37, 34, 3793, 8698, 1880, 8, 23, 5, 1151, 24, 16, 546, 101, 24, 40, 1153, 28, 130, 7, 237, 688, 38, 74, ...]</td>\n",
       "      <td>[0, 5320, 5361, 412, 3449, 1774, 8390, 15329, 115, 28, 66, 13, 62, 7, 10, 353, 19, 5, 124, 1356, 14, 1654, 123, 160, 11, 378, 18, 3002, 23, 9035, 4, 2]</td>\n",
       "      <td>Stoke City captain Ryan Shawcross could be out for up to a month with the back injury that forced him off in Saturday's defeat at Leicester.</td>\n",
       "    </tr>\n",
       "    <tr>\n",
       "      <th>1</th>\n",
       "      <td>[1, 1, 1, 1, 1, 1, 1, 1, 1, 1, 1, 1, 1, 1, 1, 1, 1, 1, 1, 1, 1, 1, 1, 1, 1, 1, 1, 1, 1, 1, 1, 1, 1, 1, 1, 1, 1, 1, 1, 1, 1, 1, 1, 1, 1, 1, 1, 1, 1, 1, 1, 1, 1, 1, 1, 1, 1, 1, 1, 1, 1, 1, 1, 1, 1, 1, 1, 1, 1, 1, 1, 1, 1, 1, 1, 1, 1, 1, 1, 1, 1, 1, 1, 1, 1, 1, 1, 1, 1, 1, 1, 1, 1, 1, 1, 1, 1, 1, 1, 1, ...]</td>\n",
       "      <td>Alsop has admitted being \"quite shocked that it can be 2013 and there can still be firsts for women\". The music director of Baltimore Symphony Orchestra since 2007, and principal conductor of Brazil's Sao Paulo Symphony Orchestra, she has been hailed for her bold attempts to make classical music more inclusive, defying boundaries of class, age and gender. The day after conducting Britain's best-loved musical extravaganza in front of a crowd of more than 6,000, Alsop spoke to the BBC about the Proms, patriotism, and those pink balloons. You appeared visibly moved at last night's performance, was it what you expected? It exceeded my expectations. It was a great evening. It was really emotional and very moving to be involved in such a big celebration. What makes the Proms such a unique event in the world of classical music? I think it's the number of people that gather and watch, from the parks and that. Everyone comes with the expectation that it's going to be great evening and it's so nice to have everyone coming from such a positive vantage point. Speaking at the Proms last night, you alluded to opposition you faced to becoming a conductor, tell me more about that. When I was a kid my violin teacher told me girls couldn't do that. She simply didn't see it. To a certain degree I have met opposition, spoken or unspoken, all the way through. I think every woman in a position of authority will tell you that opposition exists somewhere in the mix, whether it's conscious or unconscious, because we're not accustomed as a society [to having a female in charge]. Does gender make any difference to the role of conductor? I have no idea if being female makes any difference. I have no perspective on it, I have only been me. Could it affect the relationship between conductor and orchestra? Not at all.  I think the orchestra just wants someone knowledgeable and committed. They don't really care, as long as you're good. How much time did you have to rehearse with the BBC symphony orchestra? We didn't have that much time. We started rehearsing Thursday afternoon - just two days. It makes it very exciting. The Proms finale is traditionally very patriotic. As an American, how did it feel to be at the centre of it? I feel very much at home here, I like all the tradition and that kind of hoopla. So you don't think we are a bunch of flag-waving loons? I didn't say that...! But I enjoy it. I think there is something very dear about it all. What about the pink balloons which were tied around the hall, were they for your benefit? I assume so - they said 'it's a girl!' Nigel Kennedy burst one with his bow right in front of you. How was your first experience of working with him? The balloon was a little bit alarming. It was fun to work together, we really enjoyed it. I thought we had a great rapport, a great connection. Would you consider replicating the Proms in Baltimore or Sao Paulo? This is a uniquely British experience. Imitating things doesn't necessarily bring out the best. It's the morning after the night before and you are en route back to the States. Where do you find the energy? I don't have much of it this morning. I am hoping to regroup on the plane. What do you do to relax? I love to run, work out a little bit, read, I'm studying Portugueseâ€¦ I've got a full plate. Do you listen to music, or is that too much like work? Absolutely not. What do you see as your legacy? I don't care much about legacies. To me it's all about trying to maximise whatever you are doing in the moment, and make a difference wherever you are.</td>\n",
       "      <td>24008355</td>\n",
       "      <td>[0, 7083, 29, 1517, 34, 2641, 145, 22, 24638, 6649, 14, 24, 64, 28, 1014, 8, 89, 64, 202, 28, 78, 29, 13, 390, 845, 20, 930, 736, 9, 4766, 18972, 18200, 187, 3010, 6, 8, 5402, 24856, 9, 2910, 18, 20960, 15333, 18972, 18200, 6, 79, 34, 57, 12395, 13, 69, 7457, 3881, 7, 146, 15855, 930, 55, 10510, 6, 3816, 4048, 10156, 9, 1380, 6, 1046, 8, 3959, 4, 20, 183, 71, 7909, 1444, 18, 275, 12, 462, 12677, 4388, 1823, 705, 7060, 2478, 11, 760, 9, 10, 2180, 9, 55, 87, 231, 6, 151, 6, 726, 29, ...]</td>\n",
       "      <td>[0, 713, 983, 794, 188, 18325, 17700, 726, 29, 1517, 555, 5, 78, 693, 7, 483, 5, 1426, 4172, 9, 5, 10772, 29, 11, 63, 16970, 12, 180, 750, 4, 2]</td>\n",
       "      <td>This weekend saw New Yorker Marin Alsop become the first woman to lead the Last Night of the Proms in its 118-year history.</td>\n",
       "    </tr>\n",
       "    <tr>\n",
       "      <th>2</th>\n",
       "      <td>[1, 1, 1, 1, 1, 1, 1, 1, 1, 1, 1, 1, 1, 1, 1, 1, 1, 1, 1, 1, 1, 1, 1, 1, 1, 1, 1, 1, 1, 1, 1, 1, 1, 1, 1, 1, 1, 1, 1, 1, 1, 1, 1, 1, 1, 1, 1, 1, 1, 1, 1, 1, 1, 1, 1, 1, 1, 1, 1, 1, 1, 1, 1, 1, 1, 1, 1, 1, 1, 1, 1, 1, 1, 1, 1, 1, 1, 1, 1, 1, 1, 1, 1, 1, 1, 1, 1, 1, 1, 1, 1, 1, 1, 1, 1, 1, 1, 1, 1, 1, ...]</td>\n",
       "      <td>The Tyco BMW rider, who was injured in a 130mph crash at Ireland's Corner last August, also sat out this year's North West 200 and Isle of Man TT. Gary Dunlop will make his debut with his father's famous number three plate. \"I've never let anyone since Joey ride as number three but who better to use it than Gary,\" said clerk of the course Noel Johnston. \"I think it'll be pretty special to see it on the grid after all these years.\" Joey Dunlop won a record 26 Isle of Man TTs and 24 Ulster GPs before he was killed in a crash while racing in Estonia in July 2000. Michael Dunlop and Ian Hutchinson both return to Dundrod gunning for the top step of the podium with Dean Harrison, Ivan Lintin, Lee Johnston, William Dunlop, Peter Hickman, Bruce Anstey, Dan Kneen, Conor Cummins and Christian Elkin among the 173 entries. Johnston said the absence of Martin, who will be in Utah filming a land speed record attempt, is \"a shame, but in no way will there be any less of a spectacle for the fans\". He added: \"I'm very pleased with the final entry list and think it says a lot about the popularity of the event that the total number of entries are growing year on year, as is the number of newcomers [54] coming to Dundrod.\" Martin has presented a number of TV programmes in recent years, most notably Channel 4's Speed with Guy Martin. The 2016 Ulster Grand Prix will run between August 8 and 13.</td>\n",
       "      <td>36892925</td>\n",
       "      <td>[0, 133, 5957, 876, 8588, 11578, 6, 54, 21, 1710, 11, 10, 8325, 17055, 2058, 23, 2487, 18, 15211, 94, 830, 6, 67, 4005, 66, 42, 76, 18, 369, 580, 1878, 8, 18930, 9, 1554, 23529, 4, 4587, 6367, 462, 1517, 40, 146, 39, 2453, 19, 39, 1150, 18, 3395, 346, 130, 5299, 4, 22, 100, 348, 393, 905, 1268, 187, 12972, 3068, 25, 346, 130, 53, 54, 357, 7, 304, 24, 87, 4587, 60, 26, 14174, 9, 5, 768, 16958, 13870, 4, 22, 100, 206, 24, 581, 28, 1256, 780, 7, 192, 24, 15, 5, 7961, 71, 70, 209, ...]</td>\n",
       "      <td>[0, 38624, 1896, 40, 45, 28, 4930, 23, 220, 353, 18, 21544, 2374, 11761, 142, 9, 1012, 9116, 11, 730, 4, 2]</td>\n",
       "      <td>Guy Martin will not be racing at next month's Ulster Grand Prix because of TV commitments in America.</td>\n",
       "    </tr>\n",
       "    <tr>\n",
       "      <th>3</th>\n",
       "      <td>[1, 1, 1, 1, 1, 1, 1, 1, 1, 1, 1, 1, 1, 1, 1, 1, 1, 1, 1, 1, 1, 1, 1, 1, 1, 1, 1, 1, 1, 1, 1, 1, 1, 1, 1, 1, 1, 1, 1, 1, 1, 1, 1, 1, 1, 1, 1, 1, 1, 1, 1, 1, 1, 1, 1, 1, 1, 1, 1, 1, 1, 1, 1, 1, 1, 1, 1, 1, 1, 1, 1, 1, 1, 1, 1, 1, 1, 1, 1, 1, 1, 1, 1, 1, 1, 1, 1, 1, 1, 1, 1, 1, 1, 1, 1, 1, 1, 1, 1, 1, ...]</td>\n",
       "      <td>It says the current TV deals saw Premier League clubs generate £3.3bn record revenues in 2014-15, up by 3%. Top flight clubs also recorded a second straight year of pre-tax profits in 2014-15, for the first time since 1999. With more lucrative TV deals from 2016, Deloitte says clubs are \"looking at at least three more years of big growth\". Launching its 25th Annual Review of Football Finance, Dan Jones from the business consultancy's Sport Business Group said: \"What we are seeing is a continuation of club profitability, it is certainly not a one-off. \"We feel Premier League clubs have turned the corner, and are entering a new era of sustained profitability. Clubs are now attractive propositions to investors, and not merely as vanity projects.\" He said increased profitability meant that top flight English clubs could compete with overseas teams in order to buy up the best players in the world, and still have money left in reserve. From 2016-17 clubs will receive even more cash from broadcasters, with Sky and BT Sport paying a record £5.136bn (up from £3.018bn in 2013-16) for live Premier League TV rights for three seasons. \"When the enhanced new broadcast deals commence in the 2016-17 season, operating profits could rise as high as £1bn,\" Mr Jones said. He also said that it was encouraging to see that much of this new-found TV wealth was being spent by clubs not only on players, but also on improving stadia and infrastructure. \"The pace of football's financial growth in two and a half decades is staggering,\" said Mr Jones, referring to the foundation of the Premier League in 1992. \"By half-time of the second televised Premier League game next year, more broadcast revenue will have been generated than during the whole of the First Division season 25 years ago.\" He added: \"The impact of the Premier League's broadcast deal is clear to see. For the first time, the Premier League leads the football world in all three key revenue categories - commercial, match day and broadcast - and this is driving sustainable profitability. Although the wages/revenue ratio has increased for the Premier League clubs, Mr Jones does not see this as cause for concern. \"Wage costs grew at a faster rate than revenues in 2014-15 and as a result the division's wages/revenue ratio rose from 58% to 61%,\" he said. \"However, this represents the second lowest level since 2004-05 and is 10 percentage points lower than in 2012-13. \"In fact, in the last two years, only 30% of revenue increases have been consumed by wage growth, whereas in the five years to 2012-13 this figure was 99%.\" Premier League highlights 2014-15 The 92 clubs in the English Premier League and Football League generated more than £4bn in revenues for the first time in 2014-15, a new record. Meanwhile,  the UK government's tax take from the top 92 professional football clubs in 2014-15 was roughly £1.5bn, up from £1.4bn the previous season. Deloitte's review of football finance also found that combined revenue for the \"big five\" European leagues (England, Germany, Spain, Italy, and France) rose 6% to a record €12bn (£9.2bn) in 2014-15. While the Premier League, Bundesliga and Spain's La Liga were profitable, Italy's Serie A and France's Ligue 1 generated combined operating losses. In England's second tier, the Championship, combined revenues grew 12% to £548m in 2014-15, exceeding £500m for the first time. \"Wage costs rose by 4% to £541m which, despite a reduction in the wages/revenue ratio from 106% in 2013-14 to 99%, means clubs spent almost as much on wages as they generated in revenue,\" said Deloitte. \"This remains an unsustainable level of spending without the support of owner funding. This resulted in operating losses of £225m and a combined pre-tax loss of £191m.\" In Scotland, Celtic's failure to qualify for the group stages of the Champions League contributed to a fall in Premiership clubs' aggregate revenues of 9%, or some £13m. However, the Glasgow club still accounted for 50% of all revenues in the division, as they lifted the title for a fourth successive year. Deloitte said a new deal to market the international (non EEA - European Economic Area) TV rights  meant Scottish football was now being shown in more than 100 countries.</td>\n",
       "      <td>36412394</td>\n",
       "      <td>[0, 243, 161, 5, 595, 1012, 2656, 794, 2275, 815, 4207, 5368, 984, 246, 4, 246, 6316, 638, 3883, 11, 777, 12, 996, 6, 62, 30, 155, 2153, 3107, 2524, 4207, 67, 2673, 10, 200, 1359, 76, 9, 1198, 12, 11755, 4632, 11, 777, 12, 996, 6, 13, 5, 78, 86, 187, 6193, 4, 590, 55, 11874, 1012, 2656, 31, 336, 6, 3011, 139, 13537, 161, 4207, 32, 22, 3690, 23, 23, 513, 130, 55, 107, 9, 380, 434, 845, 21208, 7968, 63, 564, 212, 7453, 5872, 9, 3910, 4090, 6, 2503, 1454, 31, 5, 265, 16394, 18, 5413, 2090, ...]</td>\n",
       "      <td>[0, 41084, 7913, 352, 739, 1012, 2656, 32, 1903, 2370, 2275, 815, 4207, 7, 2914, 22, 102, 92, 3567, 9, 5232, 613, 819, 1297, 309, 7, 3011, 139, 13537, 4, 2]</td>\n",
       "      <td>Increasingly large TV deals are helping English Premier League clubs to enter \"a new era of sustained financial performance\", according to Deloitte.</td>\n",
       "    </tr>\n",
       "    <tr>\n",
       "      <th>4</th>\n",
       "      <td>[1, 1, 1, 1, 1, 1, 1, 1, 1, 1, 1, 1, 1, 1, 1, 1, 1, 1, 1, 1, 1, 1, 1, 1, 1, 1, 1, 1, 1, 1, 1, 1, 1, 1, 1, 1, 1, 1, 1, 1, 1, 1, 1, 1, 1, 1, 1, 1, 1, 1, 1, 1, 1, 1, 1, 1, 1, 1, 1, 1, 1, 1, 1, 1, 1, 1, 1, 1, 1, 1, 1, 1, 1, 1, 1, 1, 1, 1, 1, 1, 1, 1, 1, 1, 1, 1, 1, 1, 1, 1, 1, 1, 1, 1, 1, 1, 1, 1, 1, 1, ...]</td>\n",
       "      <td>Media playback is not supported on this device Ellis and Langridge beat the world number five pair 21-18 19-21 21-10. The pair performed above their world ranking of 22nd to reach Tuesday's semi-final, losing to fourth seeds Fu Haifeng and Zhang Nan of China. Langridge said: \"When we got to 14-7 in the last game, I thought: 'We might win this! We are going to win this!'\" He added: \"Luckily Marcus was quite calm, which helped a lot.\" In a dramatic finale, a review on the final point was required to seal the victory. \"I can't even describe how I felt after we saw that,\" said Ellis. \"This is an incredible feeling. After how we performed in our very first match, we knew we could compete with anybody.\" Team GB have now won 52 medals in Rio. Olympic silver medallist Gail Emms immediately tweeted her congratulations to the pair. Find out how to get into badminton with our special guide. Subscribe to the BBC Sport newsletter to get our pick of news, features and video sent to your inbox.</td>\n",
       "      <td>36690916</td>\n",
       "      <td>[0, 18801, 20083, 16, 45, 2800, 15, 42, 2187, 10503, 8, 7883, 8614, 1451, 5, 232, 346, 292, 1763, 733, 12, 1366, 753, 12, 2146, 733, 12, 698, 4, 20, 1763, 3744, 1065, 49, 232, 7141, 9, 820, 1187, 7, 1338, 294, 18, 4126, 12, 6156, 6, 2086, 7, 887, 9775, 13890, 4936, 1594, 3314, 8, 16087, 13690, 9, 436, 4, 7883, 8614, 26, 35, 22, 1779, 52, 300, 7, 501, 12, 406, 11, 5, 94, 177, 6, 38, 802, 35, 128, 170, 429, 339, 42, 328, 166, 32, 164, 7, 339, 42, 35347, 91, 355, 35, 22, 42498, 7380, ...]</td>\n",
       "      <td>[0, 23952, 10503, 8, 1573, 7883, 8614, 351, 2860, 1444, 18, 78, 3336, 1099, 119, 10528, 604, 18, 8862, 5279, 6, 4108, 436, 18, 3523, 27080, 8, 732, 1439, 163, 17530, 7, 185, 9768, 4, 2]</td>\n",
       "      <td>Marcus Ellis and Chris Langridge won Great Britain's first Olympic badminton men's doubles medal, beating China's Hong Wei and Chai Biao to take bronze.</td>\n",
       "    </tr>\n",
       "  </tbody>\n",
       "</table>"
      ],
      "text/plain": [
       "<IPython.core.display.HTML object>"
      ]
     },
     "metadata": {},
     "output_type": "display_data"
    },
    {
     "data": {
      "text/html": [
       "<table border=\"1\" class=\"dataframe\">\n",
       "  <thead>\n",
       "    <tr style=\"text-align: right;\">\n",
       "      <th></th>\n",
       "      <th>attention_mask</th>\n",
       "      <th>document</th>\n",
       "      <th>id</th>\n",
       "      <th>input_ids</th>\n",
       "      <th>labels</th>\n",
       "      <th>summary</th>\n",
       "    </tr>\n",
       "  </thead>\n",
       "  <tbody>\n",
       "    <tr>\n",
       "      <th>0</th>\n",
       "      <td>[1, 1, 1, 1, 1, 1, 1, 1, 1, 1, 1, 1, 1, 1, 1, 1, 1, 1, 1, 1, 1, 1, 1, 1, 1, 1, 1, 1, 1, 1, 1, 1, 1, 1, 1, 1, 1, 1, 1, 1, 1, 1, 1, 1, 1, 1, 1, 1, 1, 1, 1, 1, 1, 1, 1, 1, 1, 1, 1, 1, 1, 1, 1, 1, 1, 1, 1, 1, 1, 1, 1, 1, 1, 1, 1, 1, 1, 1, 1, 1, 1, 1, 1, 1, 1, 1, 1, 1, 1, 1, 1, 1, 1, 1, 1, 1, 1, 1, 1, 1, ...]</td>\n",
       "      <td>The 28-year-old centre-back spent a spell on the sidelines with a similar problem last season. He also missed the start of the season after surgery on a back injury before returning at the end of October. \"It is not a recurrence of the injury which required surgery so that is a positive,\" said Stoke boss Mark Hughes. \"Unfortunately, the negative is that he has soft muscle damage and at the moment it is looking like it will probably be three to four weeks I would think.\" Shawcross will now miss the second leg of the Capital One Cup semi-final at Liverpool on Tuesday. The Reds beat Stoke 1-0 in the first leg. The Potters also face an FA Cup fourth-round tie at Crystal Palace as well as Premier League games against Manchester United, Everton and Bournemouth in the next month.</td>\n",
       "      <td>35400770</td>\n",
       "      <td>[0, 133, 971, 12, 180, 12, 279, 2100, 12, 1644, 1240, 10, 8921, 15, 5, 10151, 19, 10, 1122, 936, 94, 191, 4, 91, 67, 2039, 5, 386, 9, 5, 191, 71, 3012, 15, 10, 124, 1356, 137, 3357, 23, 5, 253, 9, 779, 4, 22, 243, 16, 45, 10, 3872, 30904, 9, 5, 1356, 61, 1552, 3012, 98, 14, 16, 10, 1313, 60, 26, 15607, 3504, 1190, 7799, 4, 22, 16861, 6, 5, 2430, 16, 14, 37, 34, 3793, 8698, 1880, 8, 23, 5, 1151, 24, 16, 546, 101, 24, 40, 1153, 28, 130, 7, 237, 688, 38, 74, ...]</td>\n",
       "      <td>[0, 5320, 5361, 412, 3449, 1774, 8390, 15329, 115, 28, 66, 13, 62, 7, 10, 353, 19, 5, 124, 1356, 14, 1654, 123, 160, 11, 378, 18, 3002, 23, 9035, 4, 2]</td>\n",
       "      <td>Stoke City captain Ryan Shawcross could be out for up to a month with the back injury that forced him off in Saturday's defeat at Leicester.</td>\n",
       "    </tr>\n",
       "    <tr>\n",
       "      <th>1</th>\n",
       "      <td>[1, 1, 1, 1, 1, 1, 1, 1, 1, 1, 1, 1, 1, 1, 1, 1, 1, 1, 1, 1, 1, 1, 1, 1, 1, 1, 1, 1, 1, 1, 1, 1, 1, 1, 1, 1, 1, 1, 1, 1, 1, 1, 1, 1, 1, 1, 1, 1, 1, 1, 1, 1, 1, 1, 1, 1, 1, 1, 1, 1, 1, 1, 1, 1, 1, 1, 1, 1, 1, 1, 1, 1, 1, 1, 1, 1, 1, 1, 1, 1, 1, 1, 1, 1, 1, 1, 1, 1, 1, 1, 1, 1, 1, 1, 1, 1, 1, 1, 1, 1, ...]</td>\n",
       "      <td>Alsop has admitted being \"quite shocked that it can be 2013 and there can still be firsts for women\". The music director of Baltimore Symphony Orchestra since 2007, and principal conductor of Brazil's Sao Paulo Symphony Orchestra, she has been hailed for her bold attempts to make classical music more inclusive, defying boundaries of class, age and gender. The day after conducting Britain's best-loved musical extravaganza in front of a crowd of more than 6,000, Alsop spoke to the BBC about the Proms, patriotism, and those pink balloons. You appeared visibly moved at last night's performance, was it what you expected? It exceeded my expectations. It was a great evening. It was really emotional and very moving to be involved in such a big celebration. What makes the Proms such a unique event in the world of classical music? I think it's the number of people that gather and watch, from the parks and that. Everyone comes with the expectation that it's going to be great evening and it's so nice to have everyone coming from such a positive vantage point. Speaking at the Proms last night, you alluded to opposition you faced to becoming a conductor, tell me more about that. When I was a kid my violin teacher told me girls couldn't do that. She simply didn't see it. To a certain degree I have met opposition, spoken or unspoken, all the way through. I think every woman in a position of authority will tell you that opposition exists somewhere in the mix, whether it's conscious or unconscious, because we're not accustomed as a society [to having a female in charge]. Does gender make any difference to the role of conductor? I have no idea if being female makes any difference. I have no perspective on it, I have only been me. Could it affect the relationship between conductor and orchestra? Not at all.  I think the orchestra just wants someone knowledgeable and committed. They don't really care, as long as you're good. How much time did you have to rehearse with the BBC symphony orchestra? We didn't have that much time. We started rehearsing Thursday afternoon - just two days. It makes it very exciting. The Proms finale is traditionally very patriotic. As an American, how did it feel to be at the centre of it? I feel very much at home here, I like all the tradition and that kind of hoopla. So you don't think we are a bunch of flag-waving loons? I didn't say that...! But I enjoy it. I think there is something very dear about it all. What about the pink balloons which were tied around the hall, were they for your benefit? I assume so - they said 'it's a girl!' Nigel Kennedy burst one with his bow right in front of you. How was your first experience of working with him? The balloon was a little bit alarming. It was fun to work together, we really enjoyed it. I thought we had a great rapport, a great connection. Would you consider replicating the Proms in Baltimore or Sao Paulo? This is a uniquely British experience. Imitating things doesn't necessarily bring out the best. It's the morning after the night before and you are en route back to the States. Where do you find the energy? I don't have much of it this morning. I am hoping to regroup on the plane. What do you do to relax? I love to run, work out a little bit, read, I'm studying Portugueseâ€¦ I've got a full plate. Do you listen to music, or is that too much like work? Absolutely not. What do you see as your legacy? I don't care much about legacies. To me it's all about trying to maximise whatever you are doing in the moment, and make a difference wherever you are.</td>\n",
       "      <td>24008355</td>\n",
       "      <td>[0, 7083, 29, 1517, 34, 2641, 145, 22, 24638, 6649, 14, 24, 64, 28, 1014, 8, 89, 64, 202, 28, 78, 29, 13, 390, 845, 20, 930, 736, 9, 4766, 18972, 18200, 187, 3010, 6, 8, 5402, 24856, 9, 2910, 18, 20960, 15333, 18972, 18200, 6, 79, 34, 57, 12395, 13, 69, 7457, 3881, 7, 146, 15855, 930, 55, 10510, 6, 3816, 4048, 10156, 9, 1380, 6, 1046, 8, 3959, 4, 20, 183, 71, 7909, 1444, 18, 275, 12, 462, 12677, 4388, 1823, 705, 7060, 2478, 11, 760, 9, 10, 2180, 9, 55, 87, 231, 6, 151, 6, 726, 29, ...]</td>\n",
       "      <td>[0, 713, 983, 794, 188, 18325, 17700, 726, 29, 1517, 555, 5, 78, 693, 7, 483, 5, 1426, 4172, 9, 5, 10772, 29, 11, 63, 16970, 12, 180, 750, 4, 2]</td>\n",
       "      <td>This weekend saw New Yorker Marin Alsop become the first woman to lead the Last Night of the Proms in its 118-year history.</td>\n",
       "    </tr>\n",
       "    <tr>\n",
       "      <th>2</th>\n",
       "      <td>[1, 1, 1, 1, 1, 1, 1, 1, 1, 1, 1, 1, 1, 1, 1, 1, 1, 1, 1, 1, 1, 1, 1, 1, 1, 1, 1, 1, 1, 1, 1, 1, 1, 1, 1, 1, 1, 1, 1, 1, 1, 1, 1, 1, 1, 1, 1, 1, 1, 1, 1, 1, 1, 1, 1, 1, 1, 1, 1, 1, 1, 1, 1, 1, 1, 1, 1, 1, 1, 1, 1, 1, 1, 1, 1, 1, 1, 1, 1, 1, 1, 1, 1, 1, 1, 1, 1, 1, 1, 1, 1, 1, 1, 1, 1, 1, 1, 1, 1, 1, ...]</td>\n",
       "      <td>The Tyco BMW rider, who was injured in a 130mph crash at Ireland's Corner last August, also sat out this year's North West 200 and Isle of Man TT. Gary Dunlop will make his debut with his father's famous number three plate. \"I've never let anyone since Joey ride as number three but who better to use it than Gary,\" said clerk of the course Noel Johnston. \"I think it'll be pretty special to see it on the grid after all these years.\" Joey Dunlop won a record 26 Isle of Man TTs and 24 Ulster GPs before he was killed in a crash while racing in Estonia in July 2000. Michael Dunlop and Ian Hutchinson both return to Dundrod gunning for the top step of the podium with Dean Harrison, Ivan Lintin, Lee Johnston, William Dunlop, Peter Hickman, Bruce Anstey, Dan Kneen, Conor Cummins and Christian Elkin among the 173 entries. Johnston said the absence of Martin, who will be in Utah filming a land speed record attempt, is \"a shame, but in no way will there be any less of a spectacle for the fans\". He added: \"I'm very pleased with the final entry list and think it says a lot about the popularity of the event that the total number of entries are growing year on year, as is the number of newcomers [54] coming to Dundrod.\" Martin has presented a number of TV programmes in recent years, most notably Channel 4's Speed with Guy Martin. The 2016 Ulster Grand Prix will run between August 8 and 13.</td>\n",
       "      <td>36892925</td>\n",
       "      <td>[0, 133, 5957, 876, 8588, 11578, 6, 54, 21, 1710, 11, 10, 8325, 17055, 2058, 23, 2487, 18, 15211, 94, 830, 6, 67, 4005, 66, 42, 76, 18, 369, 580, 1878, 8, 18930, 9, 1554, 23529, 4, 4587, 6367, 462, 1517, 40, 146, 39, 2453, 19, 39, 1150, 18, 3395, 346, 130, 5299, 4, 22, 100, 348, 393, 905, 1268, 187, 12972, 3068, 25, 346, 130, 53, 54, 357, 7, 304, 24, 87, 4587, 60, 26, 14174, 9, 5, 768, 16958, 13870, 4, 22, 100, 206, 24, 581, 28, 1256, 780, 7, 192, 24, 15, 5, 7961, 71, 70, 209, ...]</td>\n",
       "      <td>[0, 38624, 1896, 40, 45, 28, 4930, 23, 220, 353, 18, 21544, 2374, 11761, 142, 9, 1012, 9116, 11, 730, 4, 2]</td>\n",
       "      <td>Guy Martin will not be racing at next month's Ulster Grand Prix because of TV commitments in America.</td>\n",
       "    </tr>\n",
       "    <tr>\n",
       "      <th>3</th>\n",
       "      <td>[1, 1, 1, 1, 1, 1, 1, 1, 1, 1, 1, 1, 1, 1, 1, 1, 1, 1, 1, 1, 1, 1, 1, 1, 1, 1, 1, 1, 1, 1, 1, 1, 1, 1, 1, 1, 1, 1, 1, 1, 1, 1, 1, 1, 1, 1, 1, 1, 1, 1, 1, 1, 1, 1, 1, 1, 1, 1, 1, 1, 1, 1, 1, 1, 1, 1, 1, 1, 1, 1, 1, 1, 1, 1, 1, 1, 1, 1, 1, 1, 1, 1, 1, 1, 1, 1, 1, 1, 1, 1, 1, 1, 1, 1, 1, 1, 1, 1, 1, 1, ...]</td>\n",
       "      <td>It says the current TV deals saw Premier League clubs generate £3.3bn record revenues in 2014-15, up by 3%. Top flight clubs also recorded a second straight year of pre-tax profits in 2014-15, for the first time since 1999. With more lucrative TV deals from 2016, Deloitte says clubs are \"looking at at least three more years of big growth\". Launching its 25th Annual Review of Football Finance, Dan Jones from the business consultancy's Sport Business Group said: \"What we are seeing is a continuation of club profitability, it is certainly not a one-off. \"We feel Premier League clubs have turned the corner, and are entering a new era of sustained profitability. Clubs are now attractive propositions to investors, and not merely as vanity projects.\" He said increased profitability meant that top flight English clubs could compete with overseas teams in order to buy up the best players in the world, and still have money left in reserve. From 2016-17 clubs will receive even more cash from broadcasters, with Sky and BT Sport paying a record £5.136bn (up from £3.018bn in 2013-16) for live Premier League TV rights for three seasons. \"When the enhanced new broadcast deals commence in the 2016-17 season, operating profits could rise as high as £1bn,\" Mr Jones said. He also said that it was encouraging to see that much of this new-found TV wealth was being spent by clubs not only on players, but also on improving stadia and infrastructure. \"The pace of football's financial growth in two and a half decades is staggering,\" said Mr Jones, referring to the foundation of the Premier League in 1992. \"By half-time of the second televised Premier League game next year, more broadcast revenue will have been generated than during the whole of the First Division season 25 years ago.\" He added: \"The impact of the Premier League's broadcast deal is clear to see. For the first time, the Premier League leads the football world in all three key revenue categories - commercial, match day and broadcast - and this is driving sustainable profitability. Although the wages/revenue ratio has increased for the Premier League clubs, Mr Jones does not see this as cause for concern. \"Wage costs grew at a faster rate than revenues in 2014-15 and as a result the division's wages/revenue ratio rose from 58% to 61%,\" he said. \"However, this represents the second lowest level since 2004-05 and is 10 percentage points lower than in 2012-13. \"In fact, in the last two years, only 30% of revenue increases have been consumed by wage growth, whereas in the five years to 2012-13 this figure was 99%.\" Premier League highlights 2014-15 The 92 clubs in the English Premier League and Football League generated more than £4bn in revenues for the first time in 2014-15, a new record. Meanwhile,  the UK government's tax take from the top 92 professional football clubs in 2014-15 was roughly £1.5bn, up from £1.4bn the previous season. Deloitte's review of football finance also found that combined revenue for the \"big five\" European leagues (England, Germany, Spain, Italy, and France) rose 6% to a record €12bn (£9.2bn) in 2014-15. While the Premier League, Bundesliga and Spain's La Liga were profitable, Italy's Serie A and France's Ligue 1 generated combined operating losses. In England's second tier, the Championship, combined revenues grew 12% to £548m in 2014-15, exceeding £500m for the first time. \"Wage costs rose by 4% to £541m which, despite a reduction in the wages/revenue ratio from 106% in 2013-14 to 99%, means clubs spent almost as much on wages as they generated in revenue,\" said Deloitte. \"This remains an unsustainable level of spending without the support of owner funding. This resulted in operating losses of £225m and a combined pre-tax loss of £191m.\" In Scotland, Celtic's failure to qualify for the group stages of the Champions League contributed to a fall in Premiership clubs' aggregate revenues of 9%, or some £13m. However, the Glasgow club still accounted for 50% of all revenues in the division, as they lifted the title for a fourth successive year. Deloitte said a new deal to market the international (non EEA - European Economic Area) TV rights  meant Scottish football was now being shown in more than 100 countries.</td>\n",
       "      <td>36412394</td>\n",
       "      <td>[0, 243, 161, 5, 595, 1012, 2656, 794, 2275, 815, 4207, 5368, 984, 246, 4, 246, 6316, 638, 3883, 11, 777, 12, 996, 6, 62, 30, 155, 2153, 3107, 2524, 4207, 67, 2673, 10, 200, 1359, 76, 9, 1198, 12, 11755, 4632, 11, 777, 12, 996, 6, 13, 5, 78, 86, 187, 6193, 4, 590, 55, 11874, 1012, 2656, 31, 336, 6, 3011, 139, 13537, 161, 4207, 32, 22, 3690, 23, 23, 513, 130, 55, 107, 9, 380, 434, 845, 21208, 7968, 63, 564, 212, 7453, 5872, 9, 3910, 4090, 6, 2503, 1454, 31, 5, 265, 16394, 18, 5413, 2090, ...]</td>\n",
       "      <td>[0, 41084, 7913, 352, 739, 1012, 2656, 32, 1903, 2370, 2275, 815, 4207, 7, 2914, 22, 102, 92, 3567, 9, 5232, 613, 819, 1297, 309, 7, 3011, 139, 13537, 4, 2]</td>\n",
       "      <td>Increasingly large TV deals are helping English Premier League clubs to enter \"a new era of sustained financial performance\", according to Deloitte.</td>\n",
       "    </tr>\n",
       "    <tr>\n",
       "      <th>4</th>\n",
       "      <td>[1, 1, 1, 1, 1, 1, 1, 1, 1, 1, 1, 1, 1, 1, 1, 1, 1, 1, 1, 1, 1, 1, 1, 1, 1, 1, 1, 1, 1, 1, 1, 1, 1, 1, 1, 1, 1, 1, 1, 1, 1, 1, 1, 1, 1, 1, 1, 1, 1, 1, 1, 1, 1, 1, 1, 1, 1, 1, 1, 1, 1, 1, 1, 1, 1, 1, 1, 1, 1, 1, 1, 1, 1, 1, 1, 1, 1, 1, 1, 1, 1, 1, 1, 1, 1, 1, 1, 1, 1, 1, 1, 1, 1, 1, 1, 1, 1, 1, 1, 1, ...]</td>\n",
       "      <td>Media playback is not supported on this device Ellis and Langridge beat the world number five pair 21-18 19-21 21-10. The pair performed above their world ranking of 22nd to reach Tuesday's semi-final, losing to fourth seeds Fu Haifeng and Zhang Nan of China. Langridge said: \"When we got to 14-7 in the last game, I thought: 'We might win this! We are going to win this!'\" He added: \"Luckily Marcus was quite calm, which helped a lot.\" In a dramatic finale, a review on the final point was required to seal the victory. \"I can't even describe how I felt after we saw that,\" said Ellis. \"This is an incredible feeling. After how we performed in our very first match, we knew we could compete with anybody.\" Team GB have now won 52 medals in Rio. Olympic silver medallist Gail Emms immediately tweeted her congratulations to the pair. Find out how to get into badminton with our special guide. Subscribe to the BBC Sport newsletter to get our pick of news, features and video sent to your inbox.</td>\n",
       "      <td>36690916</td>\n",
       "      <td>[0, 18801, 20083, 16, 45, 2800, 15, 42, 2187, 10503, 8, 7883, 8614, 1451, 5, 232, 346, 292, 1763, 733, 12, 1366, 753, 12, 2146, 733, 12, 698, 4, 20, 1763, 3744, 1065, 49, 232, 7141, 9, 820, 1187, 7, 1338, 294, 18, 4126, 12, 6156, 6, 2086, 7, 887, 9775, 13890, 4936, 1594, 3314, 8, 16087, 13690, 9, 436, 4, 7883, 8614, 26, 35, 22, 1779, 52, 300, 7, 501, 12, 406, 11, 5, 94, 177, 6, 38, 802, 35, 128, 170, 429, 339, 42, 328, 166, 32, 164, 7, 339, 42, 35347, 91, 355, 35, 22, 42498, 7380, ...]</td>\n",
       "      <td>[0, 23952, 10503, 8, 1573, 7883, 8614, 351, 2860, 1444, 18, 78, 3336, 1099, 119, 10528, 604, 18, 8862, 5279, 6, 4108, 436, 18, 3523, 27080, 8, 732, 1439, 163, 17530, 7, 185, 9768, 4, 2]</td>\n",
       "      <td>Marcus Ellis and Chris Langridge won Great Britain's first Olympic badminton men's doubles medal, beating China's Hong Wei and Chai Biao to take bronze.</td>\n",
       "    </tr>\n",
       "  </tbody>\n",
       "</table>"
      ],
      "text/plain": [
       "<IPython.core.display.HTML object>"
      ]
     },
     "metadata": {},
     "output_type": "display_data"
    },
    {
     "data": {
      "text/html": [
       "<table border=\"1\" class=\"dataframe\">\n",
       "  <thead>\n",
       "    <tr style=\"text-align: right;\">\n",
       "      <th></th>\n",
       "      <th>attention_mask</th>\n",
       "      <th>document</th>\n",
       "      <th>id</th>\n",
       "      <th>input_ids</th>\n",
       "      <th>labels</th>\n",
       "      <th>summary</th>\n",
       "    </tr>\n",
       "  </thead>\n",
       "  <tbody>\n",
       "    <tr>\n",
       "      <th>0</th>\n",
       "      <td>[1, 1, 1, 1, 1, 1, 1, 1, 1, 1, 1, 1, 1, 1, 1, 1, 1, 1, 1, 1, 1, 1, 1, 1, 1, 1, 1, 1, 1, 1, 1, 1, 1, 1, 1, 1, 1, 1, 1, 1, 1, 1, 1, 1, 1, 1, 1, 1, 1, 1, 1, 1, 1, 1, 1, 1, 1, 1, 1, 1, 1, 1, 1, 1, 1, 1, 1, 1, 1, 1, 1, 1, 1, 1, 1, 1, 1, 1, 1, 1, 1, 1, 1, 1, 1, 1, 1, 1, 1, 1, 1, 1, 1, 1, 1, 1, 1, 1, 1, 1, ...]</td>\n",
       "      <td>The 28-year-old centre-back spent a spell on the sidelines with a similar problem last season. He also missed the start of the season after surgery on a back injury before returning at the end of October. \"It is not a recurrence of the injury which required surgery so that is a positive,\" said Stoke boss Mark Hughes. \"Unfortunately, the negative is that he has soft muscle damage and at the moment it is looking like it will probably be three to four weeks I would think.\" Shawcross will now miss the second leg of the Capital One Cup semi-final at Liverpool on Tuesday. The Reds beat Stoke 1-0 in the first leg. The Potters also face an FA Cup fourth-round tie at Crystal Palace as well as Premier League games against Manchester United, Everton and Bournemouth in the next month.</td>\n",
       "      <td>35400770</td>\n",
       "      <td>[0, 133, 971, 12, 180, 12, 279, 2100, 12, 1644, 1240, 10, 8921, 15, 5, 10151, 19, 10, 1122, 936, 94, 191, 4, 91, 67, 2039, 5, 386, 9, 5, 191, 71, 3012, 15, 10, 124, 1356, 137, 3357, 23, 5, 253, 9, 779, 4, 22, 243, 16, 45, 10, 3872, 30904, 9, 5, 1356, 61, 1552, 3012, 98, 14, 16, 10, 1313, 60, 26, 15607, 3504, 1190, 7799, 4, 22, 16861, 6, 5, 2430, 16, 14, 37, 34, 3793, 8698, 1880, 8, 23, 5, 1151, 24, 16, 546, 101, 24, 40, 1153, 28, 130, 7, 237, 688, 38, 74, ...]</td>\n",
       "      <td>[0, 5320, 5361, 412, 3449, 1774, 8390, 15329, 115, 28, 66, 13, 62, 7, 10, 353, 19, 5, 124, 1356, 14, 1654, 123, 160, 11, 378, 18, 3002, 23, 9035, 4, 2]</td>\n",
       "      <td>Stoke City captain Ryan Shawcross could be out for up to a month with the back injury that forced him off in Saturday's defeat at Leicester.</td>\n",
       "    </tr>\n",
       "    <tr>\n",
       "      <th>1</th>\n",
       "      <td>[1, 1, 1, 1, 1, 1, 1, 1, 1, 1, 1, 1, 1, 1, 1, 1, 1, 1, 1, 1, 1, 1, 1, 1, 1, 1, 1, 1, 1, 1, 1, 1, 1, 1, 1, 1, 1, 1, 1, 1, 1, 1, 1, 1, 1, 1, 1, 1, 1, 1, 1, 1, 1, 1, 1, 1, 1, 1, 1, 1, 1, 1, 1, 1, 1, 1, 1, 1, 1, 1, 1, 1, 1, 1, 1, 1, 1, 1, 1, 1, 1, 1, 1, 1, 1, 1, 1, 1, 1, 1, 1, 1, 1, 1, 1, 1, 1, 1, 1, 1, ...]</td>\n",
       "      <td>Alsop has admitted being \"quite shocked that it can be 2013 and there can still be firsts for women\". The music director of Baltimore Symphony Orchestra since 2007, and principal conductor of Brazil's Sao Paulo Symphony Orchestra, she has been hailed for her bold attempts to make classical music more inclusive, defying boundaries of class, age and gender. The day after conducting Britain's best-loved musical extravaganza in front of a crowd of more than 6,000, Alsop spoke to the BBC about the Proms, patriotism, and those pink balloons. You appeared visibly moved at last night's performance, was it what you expected? It exceeded my expectations. It was a great evening. It was really emotional and very moving to be involved in such a big celebration. What makes the Proms such a unique event in the world of classical music? I think it's the number of people that gather and watch, from the parks and that. Everyone comes with the expectation that it's going to be great evening and it's so nice to have everyone coming from such a positive vantage point. Speaking at the Proms last night, you alluded to opposition you faced to becoming a conductor, tell me more about that. When I was a kid my violin teacher told me girls couldn't do that. She simply didn't see it. To a certain degree I have met opposition, spoken or unspoken, all the way through. I think every woman in a position of authority will tell you that opposition exists somewhere in the mix, whether it's conscious or unconscious, because we're not accustomed as a society [to having a female in charge]. Does gender make any difference to the role of conductor? I have no idea if being female makes any difference. I have no perspective on it, I have only been me. Could it affect the relationship between conductor and orchestra? Not at all.  I think the orchestra just wants someone knowledgeable and committed. They don't really care, as long as you're good. How much time did you have to rehearse with the BBC symphony orchestra? We didn't have that much time. We started rehearsing Thursday afternoon - just two days. It makes it very exciting. The Proms finale is traditionally very patriotic. As an American, how did it feel to be at the centre of it? I feel very much at home here, I like all the tradition and that kind of hoopla. So you don't think we are a bunch of flag-waving loons? I didn't say that...! But I enjoy it. I think there is something very dear about it all. What about the pink balloons which were tied around the hall, were they for your benefit? I assume so - they said 'it's a girl!' Nigel Kennedy burst one with his bow right in front of you. How was your first experience of working with him? The balloon was a little bit alarming. It was fun to work together, we really enjoyed it. I thought we had a great rapport, a great connection. Would you consider replicating the Proms in Baltimore or Sao Paulo? This is a uniquely British experience. Imitating things doesn't necessarily bring out the best. It's the morning after the night before and you are en route back to the States. Where do you find the energy? I don't have much of it this morning. I am hoping to regroup on the plane. What do you do to relax? I love to run, work out a little bit, read, I'm studying Portugueseâ€¦ I've got a full plate. Do you listen to music, or is that too much like work? Absolutely not. What do you see as your legacy? I don't care much about legacies. To me it's all about trying to maximise whatever you are doing in the moment, and make a difference wherever you are.</td>\n",
       "      <td>24008355</td>\n",
       "      <td>[0, 7083, 29, 1517, 34, 2641, 145, 22, 24638, 6649, 14, 24, 64, 28, 1014, 8, 89, 64, 202, 28, 78, 29, 13, 390, 845, 20, 930, 736, 9, 4766, 18972, 18200, 187, 3010, 6, 8, 5402, 24856, 9, 2910, 18, 20960, 15333, 18972, 18200, 6, 79, 34, 57, 12395, 13, 69, 7457, 3881, 7, 146, 15855, 930, 55, 10510, 6, 3816, 4048, 10156, 9, 1380, 6, 1046, 8, 3959, 4, 20, 183, 71, 7909, 1444, 18, 275, 12, 462, 12677, 4388, 1823, 705, 7060, 2478, 11, 760, 9, 10, 2180, 9, 55, 87, 231, 6, 151, 6, 726, 29, ...]</td>\n",
       "      <td>[0, 713, 983, 794, 188, 18325, 17700, 726, 29, 1517, 555, 5, 78, 693, 7, 483, 5, 1426, 4172, 9, 5, 10772, 29, 11, 63, 16970, 12, 180, 750, 4, 2]</td>\n",
       "      <td>This weekend saw New Yorker Marin Alsop become the first woman to lead the Last Night of the Proms in its 118-year history.</td>\n",
       "    </tr>\n",
       "    <tr>\n",
       "      <th>2</th>\n",
       "      <td>[1, 1, 1, 1, 1, 1, 1, 1, 1, 1, 1, 1, 1, 1, 1, 1, 1, 1, 1, 1, 1, 1, 1, 1, 1, 1, 1, 1, 1, 1, 1, 1, 1, 1, 1, 1, 1, 1, 1, 1, 1, 1, 1, 1, 1, 1, 1, 1, 1, 1, 1, 1, 1, 1, 1, 1, 1, 1, 1, 1, 1, 1, 1, 1, 1, 1, 1, 1, 1, 1, 1, 1, 1, 1, 1, 1, 1, 1, 1, 1, 1, 1, 1, 1, 1, 1, 1, 1, 1, 1, 1, 1, 1, 1, 1, 1, 1, 1, 1, 1, ...]</td>\n",
       "      <td>The Tyco BMW rider, who was injured in a 130mph crash at Ireland's Corner last August, also sat out this year's North West 200 and Isle of Man TT. Gary Dunlop will make his debut with his father's famous number three plate. \"I've never let anyone since Joey ride as number three but who better to use it than Gary,\" said clerk of the course Noel Johnston. \"I think it'll be pretty special to see it on the grid after all these years.\" Joey Dunlop won a record 26 Isle of Man TTs and 24 Ulster GPs before he was killed in a crash while racing in Estonia in July 2000. Michael Dunlop and Ian Hutchinson both return to Dundrod gunning for the top step of the podium with Dean Harrison, Ivan Lintin, Lee Johnston, William Dunlop, Peter Hickman, Bruce Anstey, Dan Kneen, Conor Cummins and Christian Elkin among the 173 entries. Johnston said the absence of Martin, who will be in Utah filming a land speed record attempt, is \"a shame, but in no way will there be any less of a spectacle for the fans\". He added: \"I'm very pleased with the final entry list and think it says a lot about the popularity of the event that the total number of entries are growing year on year, as is the number of newcomers [54] coming to Dundrod.\" Martin has presented a number of TV programmes in recent years, most notably Channel 4's Speed with Guy Martin. The 2016 Ulster Grand Prix will run between August 8 and 13.</td>\n",
       "      <td>36892925</td>\n",
       "      <td>[0, 133, 5957, 876, 8588, 11578, 6, 54, 21, 1710, 11, 10, 8325, 17055, 2058, 23, 2487, 18, 15211, 94, 830, 6, 67, 4005, 66, 42, 76, 18, 369, 580, 1878, 8, 18930, 9, 1554, 23529, 4, 4587, 6367, 462, 1517, 40, 146, 39, 2453, 19, 39, 1150, 18, 3395, 346, 130, 5299, 4, 22, 100, 348, 393, 905, 1268, 187, 12972, 3068, 25, 346, 130, 53, 54, 357, 7, 304, 24, 87, 4587, 60, 26, 14174, 9, 5, 768, 16958, 13870, 4, 22, 100, 206, 24, 581, 28, 1256, 780, 7, 192, 24, 15, 5, 7961, 71, 70, 209, ...]</td>\n",
       "      <td>[0, 38624, 1896, 40, 45, 28, 4930, 23, 220, 353, 18, 21544, 2374, 11761, 142, 9, 1012, 9116, 11, 730, 4, 2]</td>\n",
       "      <td>Guy Martin will not be racing at next month's Ulster Grand Prix because of TV commitments in America.</td>\n",
       "    </tr>\n",
       "    <tr>\n",
       "      <th>3</th>\n",
       "      <td>[1, 1, 1, 1, 1, 1, 1, 1, 1, 1, 1, 1, 1, 1, 1, 1, 1, 1, 1, 1, 1, 1, 1, 1, 1, 1, 1, 1, 1, 1, 1, 1, 1, 1, 1, 1, 1, 1, 1, 1, 1, 1, 1, 1, 1, 1, 1, 1, 1, 1, 1, 1, 1, 1, 1, 1, 1, 1, 1, 1, 1, 1, 1, 1, 1, 1, 1, 1, 1, 1, 1, 1, 1, 1, 1, 1, 1, 1, 1, 1, 1, 1, 1, 1, 1, 1, 1, 1, 1, 1, 1, 1, 1, 1, 1, 1, 1, 1, 1, 1, ...]</td>\n",
       "      <td>It says the current TV deals saw Premier League clubs generate £3.3bn record revenues in 2014-15, up by 3%. Top flight clubs also recorded a second straight year of pre-tax profits in 2014-15, for the first time since 1999. With more lucrative TV deals from 2016, Deloitte says clubs are \"looking at at least three more years of big growth\". Launching its 25th Annual Review of Football Finance, Dan Jones from the business consultancy's Sport Business Group said: \"What we are seeing is a continuation of club profitability, it is certainly not a one-off. \"We feel Premier League clubs have turned the corner, and are entering a new era of sustained profitability. Clubs are now attractive propositions to investors, and not merely as vanity projects.\" He said increased profitability meant that top flight English clubs could compete with overseas teams in order to buy up the best players in the world, and still have money left in reserve. From 2016-17 clubs will receive even more cash from broadcasters, with Sky and BT Sport paying a record £5.136bn (up from £3.018bn in 2013-16) for live Premier League TV rights for three seasons. \"When the enhanced new broadcast deals commence in the 2016-17 season, operating profits could rise as high as £1bn,\" Mr Jones said. He also said that it was encouraging to see that much of this new-found TV wealth was being spent by clubs not only on players, but also on improving stadia and infrastructure. \"The pace of football's financial growth in two and a half decades is staggering,\" said Mr Jones, referring to the foundation of the Premier League in 1992. \"By half-time of the second televised Premier League game next year, more broadcast revenue will have been generated than during the whole of the First Division season 25 years ago.\" He added: \"The impact of the Premier League's broadcast deal is clear to see. For the first time, the Premier League leads the football world in all three key revenue categories - commercial, match day and broadcast - and this is driving sustainable profitability. Although the wages/revenue ratio has increased for the Premier League clubs, Mr Jones does not see this as cause for concern. \"Wage costs grew at a faster rate than revenues in 2014-15 and as a result the division's wages/revenue ratio rose from 58% to 61%,\" he said. \"However, this represents the second lowest level since 2004-05 and is 10 percentage points lower than in 2012-13. \"In fact, in the last two years, only 30% of revenue increases have been consumed by wage growth, whereas in the five years to 2012-13 this figure was 99%.\" Premier League highlights 2014-15 The 92 clubs in the English Premier League and Football League generated more than £4bn in revenues for the first time in 2014-15, a new record. Meanwhile,  the UK government's tax take from the top 92 professional football clubs in 2014-15 was roughly £1.5bn, up from £1.4bn the previous season. Deloitte's review of football finance also found that combined revenue for the \"big five\" European leagues (England, Germany, Spain, Italy, and France) rose 6% to a record €12bn (£9.2bn) in 2014-15. While the Premier League, Bundesliga and Spain's La Liga were profitable, Italy's Serie A and France's Ligue 1 generated combined operating losses. In England's second tier, the Championship, combined revenues grew 12% to £548m in 2014-15, exceeding £500m for the first time. \"Wage costs rose by 4% to £541m which, despite a reduction in the wages/revenue ratio from 106% in 2013-14 to 99%, means clubs spent almost as much on wages as they generated in revenue,\" said Deloitte. \"This remains an unsustainable level of spending without the support of owner funding. This resulted in operating losses of £225m and a combined pre-tax loss of £191m.\" In Scotland, Celtic's failure to qualify for the group stages of the Champions League contributed to a fall in Premiership clubs' aggregate revenues of 9%, or some £13m. However, the Glasgow club still accounted for 50% of all revenues in the division, as they lifted the title for a fourth successive year. Deloitte said a new deal to market the international (non EEA - European Economic Area) TV rights  meant Scottish football was now being shown in more than 100 countries.</td>\n",
       "      <td>36412394</td>\n",
       "      <td>[0, 243, 161, 5, 595, 1012, 2656, 794, 2275, 815, 4207, 5368, 984, 246, 4, 246, 6316, 638, 3883, 11, 777, 12, 996, 6, 62, 30, 155, 2153, 3107, 2524, 4207, 67, 2673, 10, 200, 1359, 76, 9, 1198, 12, 11755, 4632, 11, 777, 12, 996, 6, 13, 5, 78, 86, 187, 6193, 4, 590, 55, 11874, 1012, 2656, 31, 336, 6, 3011, 139, 13537, 161, 4207, 32, 22, 3690, 23, 23, 513, 130, 55, 107, 9, 380, 434, 845, 21208, 7968, 63, 564, 212, 7453, 5872, 9, 3910, 4090, 6, 2503, 1454, 31, 5, 265, 16394, 18, 5413, 2090, ...]</td>\n",
       "      <td>[0, 41084, 7913, 352, 739, 1012, 2656, 32, 1903, 2370, 2275, 815, 4207, 7, 2914, 22, 102, 92, 3567, 9, 5232, 613, 819, 1297, 309, 7, 3011, 139, 13537, 4, 2]</td>\n",
       "      <td>Increasingly large TV deals are helping English Premier League clubs to enter \"a new era of sustained financial performance\", according to Deloitte.</td>\n",
       "    </tr>\n",
       "    <tr>\n",
       "      <th>4</th>\n",
       "      <td>[1, 1, 1, 1, 1, 1, 1, 1, 1, 1, 1, 1, 1, 1, 1, 1, 1, 1, 1, 1, 1, 1, 1, 1, 1, 1, 1, 1, 1, 1, 1, 1, 1, 1, 1, 1, 1, 1, 1, 1, 1, 1, 1, 1, 1, 1, 1, 1, 1, 1, 1, 1, 1, 1, 1, 1, 1, 1, 1, 1, 1, 1, 1, 1, 1, 1, 1, 1, 1, 1, 1, 1, 1, 1, 1, 1, 1, 1, 1, 1, 1, 1, 1, 1, 1, 1, 1, 1, 1, 1, 1, 1, 1, 1, 1, 1, 1, 1, 1, 1, ...]</td>\n",
       "      <td>Media playback is not supported on this device Ellis and Langridge beat the world number five pair 21-18 19-21 21-10. The pair performed above their world ranking of 22nd to reach Tuesday's semi-final, losing to fourth seeds Fu Haifeng and Zhang Nan of China. Langridge said: \"When we got to 14-7 in the last game, I thought: 'We might win this! We are going to win this!'\" He added: \"Luckily Marcus was quite calm, which helped a lot.\" In a dramatic finale, a review on the final point was required to seal the victory. \"I can't even describe how I felt after we saw that,\" said Ellis. \"This is an incredible feeling. After how we performed in our very first match, we knew we could compete with anybody.\" Team GB have now won 52 medals in Rio. Olympic silver medallist Gail Emms immediately tweeted her congratulations to the pair. Find out how to get into badminton with our special guide. Subscribe to the BBC Sport newsletter to get our pick of news, features and video sent to your inbox.</td>\n",
       "      <td>36690916</td>\n",
       "      <td>[0, 18801, 20083, 16, 45, 2800, 15, 42, 2187, 10503, 8, 7883, 8614, 1451, 5, 232, 346, 292, 1763, 733, 12, 1366, 753, 12, 2146, 733, 12, 698, 4, 20, 1763, 3744, 1065, 49, 232, 7141, 9, 820, 1187, 7, 1338, 294, 18, 4126, 12, 6156, 6, 2086, 7, 887, 9775, 13890, 4936, 1594, 3314, 8, 16087, 13690, 9, 436, 4, 7883, 8614, 26, 35, 22, 1779, 52, 300, 7, 501, 12, 406, 11, 5, 94, 177, 6, 38, 802, 35, 128, 170, 429, 339, 42, 328, 166, 32, 164, 7, 339, 42, 35347, 91, 355, 35, 22, 42498, 7380, ...]</td>\n",
       "      <td>[0, 23952, 10503, 8, 1573, 7883, 8614, 351, 2860, 1444, 18, 78, 3336, 1099, 119, 10528, 604, 18, 8862, 5279, 6, 4108, 436, 18, 3523, 27080, 8, 732, 1439, 163, 17530, 7, 185, 9768, 4, 2]</td>\n",
       "      <td>Marcus Ellis and Chris Langridge won Great Britain's first Olympic badminton men's doubles medal, beating China's Hong Wei and Chai Biao to take bronze.</td>\n",
       "    </tr>\n",
       "  </tbody>\n",
       "</table>"
      ],
      "text/plain": [
       "<IPython.core.display.HTML object>"
      ]
     },
     "metadata": {},
     "output_type": "display_data"
    },
    {
     "data": {
      "text/html": [
       "<table border=\"1\" class=\"dataframe\">\n",
       "  <thead>\n",
       "    <tr style=\"text-align: right;\">\n",
       "      <th></th>\n",
       "      <th>attention_mask</th>\n",
       "      <th>document</th>\n",
       "      <th>id</th>\n",
       "      <th>input_ids</th>\n",
       "      <th>labels</th>\n",
       "      <th>summary</th>\n",
       "    </tr>\n",
       "  </thead>\n",
       "  <tbody>\n",
       "    <tr>\n",
       "      <th>0</th>\n",
       "      <td>[1, 1, 1, 1, 1, 1, 1, 1, 1, 1, 1, 1, 1, 1, 1, 1, 1, 1, 1, 1, 1, 1, 1, 1, 1, 1, 1, 1, 1, 1, 1, 1, 1, 1, 1, 1, 1, 1, 1, 1, 1, 1, 1, 1, 1, 1, 1, 1, 1, 1, 1, 1, 1, 1, 1, 1, 1, 1, 1, 1, 1, 1, 1, 1, 1, 1, 1, 1, 1, 1, 1, 1, 1, 1, 1, 1, 1, 1, 1, 1, 1, 1, 1, 1, 1, 1, 1, 1, 1, 1, 1, 1, 1, 1, 1, 1, 1, 1, 1, 1, ...]</td>\n",
       "      <td>The 28-year-old centre-back spent a spell on the sidelines with a similar problem last season. He also missed the start of the season after surgery on a back injury before returning at the end of October. \"It is not a recurrence of the injury which required surgery so that is a positive,\" said Stoke boss Mark Hughes. \"Unfortunately, the negative is that he has soft muscle damage and at the moment it is looking like it will probably be three to four weeks I would think.\" Shawcross will now miss the second leg of the Capital One Cup semi-final at Liverpool on Tuesday. The Reds beat Stoke 1-0 in the first leg. The Potters also face an FA Cup fourth-round tie at Crystal Palace as well as Premier League games against Manchester United, Everton and Bournemouth in the next month.</td>\n",
       "      <td>35400770</td>\n",
       "      <td>[0, 133, 971, 12, 180, 12, 279, 2100, 12, 1644, 1240, 10, 8921, 15, 5, 10151, 19, 10, 1122, 936, 94, 191, 4, 91, 67, 2039, 5, 386, 9, 5, 191, 71, 3012, 15, 10, 124, 1356, 137, 3357, 23, 5, 253, 9, 779, 4, 22, 243, 16, 45, 10, 3872, 30904, 9, 5, 1356, 61, 1552, 3012, 98, 14, 16, 10, 1313, 60, 26, 15607, 3504, 1190, 7799, 4, 22, 16861, 6, 5, 2430, 16, 14, 37, 34, 3793, 8698, 1880, 8, 23, 5, 1151, 24, 16, 546, 101, 24, 40, 1153, 28, 130, 7, 237, 688, 38, 74, ...]</td>\n",
       "      <td>[0, 5320, 5361, 412, 3449, 1774, 8390, 15329, 115, 28, 66, 13, 62, 7, 10, 353, 19, 5, 124, 1356, 14, 1654, 123, 160, 11, 378, 18, 3002, 23, 9035, 4, 2]</td>\n",
       "      <td>Stoke City captain Ryan Shawcross could be out for up to a month with the back injury that forced him off in Saturday's defeat at Leicester.</td>\n",
       "    </tr>\n",
       "    <tr>\n",
       "      <th>1</th>\n",
       "      <td>[1, 1, 1, 1, 1, 1, 1, 1, 1, 1, 1, 1, 1, 1, 1, 1, 1, 1, 1, 1, 1, 1, 1, 1, 1, 1, 1, 1, 1, 1, 1, 1, 1, 1, 1, 1, 1, 1, 1, 1, 1, 1, 1, 1, 1, 1, 1, 1, 1, 1, 1, 1, 1, 1, 1, 1, 1, 1, 1, 1, 1, 1, 1, 1, 1, 1, 1, 1, 1, 1, 1, 1, 1, 1, 1, 1, 1, 1, 1, 1, 1, 1, 1, 1, 1, 1, 1, 1, 1, 1, 1, 1, 1, 1, 1, 1, 1, 1, 1, 1, ...]</td>\n",
       "      <td>Alsop has admitted being \"quite shocked that it can be 2013 and there can still be firsts for women\". The music director of Baltimore Symphony Orchestra since 2007, and principal conductor of Brazil's Sao Paulo Symphony Orchestra, she has been hailed for her bold attempts to make classical music more inclusive, defying boundaries of class, age and gender. The day after conducting Britain's best-loved musical extravaganza in front of a crowd of more than 6,000, Alsop spoke to the BBC about the Proms, patriotism, and those pink balloons. You appeared visibly moved at last night's performance, was it what you expected? It exceeded my expectations. It was a great evening. It was really emotional and very moving to be involved in such a big celebration. What makes the Proms such a unique event in the world of classical music? I think it's the number of people that gather and watch, from the parks and that. Everyone comes with the expectation that it's going to be great evening and it's so nice to have everyone coming from such a positive vantage point. Speaking at the Proms last night, you alluded to opposition you faced to becoming a conductor, tell me more about that. When I was a kid my violin teacher told me girls couldn't do that. She simply didn't see it. To a certain degree I have met opposition, spoken or unspoken, all the way through. I think every woman in a position of authority will tell you that opposition exists somewhere in the mix, whether it's conscious or unconscious, because we're not accustomed as a society [to having a female in charge]. Does gender make any difference to the role of conductor? I have no idea if being female makes any difference. I have no perspective on it, I have only been me. Could it affect the relationship between conductor and orchestra? Not at all.  I think the orchestra just wants someone knowledgeable and committed. They don't really care, as long as you're good. How much time did you have to rehearse with the BBC symphony orchestra? We didn't have that much time. We started rehearsing Thursday afternoon - just two days. It makes it very exciting. The Proms finale is traditionally very patriotic. As an American, how did it feel to be at the centre of it? I feel very much at home here, I like all the tradition and that kind of hoopla. So you don't think we are a bunch of flag-waving loons? I didn't say that...! But I enjoy it. I think there is something very dear about it all. What about the pink balloons which were tied around the hall, were they for your benefit? I assume so - they said 'it's a girl!' Nigel Kennedy burst one with his bow right in front of you. How was your first experience of working with him? The balloon was a little bit alarming. It was fun to work together, we really enjoyed it. I thought we had a great rapport, a great connection. Would you consider replicating the Proms in Baltimore or Sao Paulo? This is a uniquely British experience. Imitating things doesn't necessarily bring out the best. It's the morning after the night before and you are en route back to the States. Where do you find the energy? I don't have much of it this morning. I am hoping to regroup on the plane. What do you do to relax? I love to run, work out a little bit, read, I'm studying Portugueseâ€¦ I've got a full plate. Do you listen to music, or is that too much like work? Absolutely not. What do you see as your legacy? I don't care much about legacies. To me it's all about trying to maximise whatever you are doing in the moment, and make a difference wherever you are.</td>\n",
       "      <td>24008355</td>\n",
       "      <td>[0, 7083, 29, 1517, 34, 2641, 145, 22, 24638, 6649, 14, 24, 64, 28, 1014, 8, 89, 64, 202, 28, 78, 29, 13, 390, 845, 20, 930, 736, 9, 4766, 18972, 18200, 187, 3010, 6, 8, 5402, 24856, 9, 2910, 18, 20960, 15333, 18972, 18200, 6, 79, 34, 57, 12395, 13, 69, 7457, 3881, 7, 146, 15855, 930, 55, 10510, 6, 3816, 4048, 10156, 9, 1380, 6, 1046, 8, 3959, 4, 20, 183, 71, 7909, 1444, 18, 275, 12, 462, 12677, 4388, 1823, 705, 7060, 2478, 11, 760, 9, 10, 2180, 9, 55, 87, 231, 6, 151, 6, 726, 29, ...]</td>\n",
       "      <td>[0, 713, 983, 794, 188, 18325, 17700, 726, 29, 1517, 555, 5, 78, 693, 7, 483, 5, 1426, 4172, 9, 5, 10772, 29, 11, 63, 16970, 12, 180, 750, 4, 2]</td>\n",
       "      <td>This weekend saw New Yorker Marin Alsop become the first woman to lead the Last Night of the Proms in its 118-year history.</td>\n",
       "    </tr>\n",
       "    <tr>\n",
       "      <th>2</th>\n",
       "      <td>[1, 1, 1, 1, 1, 1, 1, 1, 1, 1, 1, 1, 1, 1, 1, 1, 1, 1, 1, 1, 1, 1, 1, 1, 1, 1, 1, 1, 1, 1, 1, 1, 1, 1, 1, 1, 1, 1, 1, 1, 1, 1, 1, 1, 1, 1, 1, 1, 1, 1, 1, 1, 1, 1, 1, 1, 1, 1, 1, 1, 1, 1, 1, 1, 1, 1, 1, 1, 1, 1, 1, 1, 1, 1, 1, 1, 1, 1, 1, 1, 1, 1, 1, 1, 1, 1, 1, 1, 1, 1, 1, 1, 1, 1, 1, 1, 1, 1, 1, 1, ...]</td>\n",
       "      <td>The Tyco BMW rider, who was injured in a 130mph crash at Ireland's Corner last August, also sat out this year's North West 200 and Isle of Man TT. Gary Dunlop will make his debut with his father's famous number three plate. \"I've never let anyone since Joey ride as number three but who better to use it than Gary,\" said clerk of the course Noel Johnston. \"I think it'll be pretty special to see it on the grid after all these years.\" Joey Dunlop won a record 26 Isle of Man TTs and 24 Ulster GPs before he was killed in a crash while racing in Estonia in July 2000. Michael Dunlop and Ian Hutchinson both return to Dundrod gunning for the top step of the podium with Dean Harrison, Ivan Lintin, Lee Johnston, William Dunlop, Peter Hickman, Bruce Anstey, Dan Kneen, Conor Cummins and Christian Elkin among the 173 entries. Johnston said the absence of Martin, who will be in Utah filming a land speed record attempt, is \"a shame, but in no way will there be any less of a spectacle for the fans\". He added: \"I'm very pleased with the final entry list and think it says a lot about the popularity of the event that the total number of entries are growing year on year, as is the number of newcomers [54] coming to Dundrod.\" Martin has presented a number of TV programmes in recent years, most notably Channel 4's Speed with Guy Martin. The 2016 Ulster Grand Prix will run between August 8 and 13.</td>\n",
       "      <td>36892925</td>\n",
       "      <td>[0, 133, 5957, 876, 8588, 11578, 6, 54, 21, 1710, 11, 10, 8325, 17055, 2058, 23, 2487, 18, 15211, 94, 830, 6, 67, 4005, 66, 42, 76, 18, 369, 580, 1878, 8, 18930, 9, 1554, 23529, 4, 4587, 6367, 462, 1517, 40, 146, 39, 2453, 19, 39, 1150, 18, 3395, 346, 130, 5299, 4, 22, 100, 348, 393, 905, 1268, 187, 12972, 3068, 25, 346, 130, 53, 54, 357, 7, 304, 24, 87, 4587, 60, 26, 14174, 9, 5, 768, 16958, 13870, 4, 22, 100, 206, 24, 581, 28, 1256, 780, 7, 192, 24, 15, 5, 7961, 71, 70, 209, ...]</td>\n",
       "      <td>[0, 38624, 1896, 40, 45, 28, 4930, 23, 220, 353, 18, 21544, 2374, 11761, 142, 9, 1012, 9116, 11, 730, 4, 2]</td>\n",
       "      <td>Guy Martin will not be racing at next month's Ulster Grand Prix because of TV commitments in America.</td>\n",
       "    </tr>\n",
       "    <tr>\n",
       "      <th>3</th>\n",
       "      <td>[1, 1, 1, 1, 1, 1, 1, 1, 1, 1, 1, 1, 1, 1, 1, 1, 1, 1, 1, 1, 1, 1, 1, 1, 1, 1, 1, 1, 1, 1, 1, 1, 1, 1, 1, 1, 1, 1, 1, 1, 1, 1, 1, 1, 1, 1, 1, 1, 1, 1, 1, 1, 1, 1, 1, 1, 1, 1, 1, 1, 1, 1, 1, 1, 1, 1, 1, 1, 1, 1, 1, 1, 1, 1, 1, 1, 1, 1, 1, 1, 1, 1, 1, 1, 1, 1, 1, 1, 1, 1, 1, 1, 1, 1, 1, 1, 1, 1, 1, 1, ...]</td>\n",
       "      <td>It says the current TV deals saw Premier League clubs generate £3.3bn record revenues in 2014-15, up by 3%. Top flight clubs also recorded a second straight year of pre-tax profits in 2014-15, for the first time since 1999. With more lucrative TV deals from 2016, Deloitte says clubs are \"looking at at least three more years of big growth\". Launching its 25th Annual Review of Football Finance, Dan Jones from the business consultancy's Sport Business Group said: \"What we are seeing is a continuation of club profitability, it is certainly not a one-off. \"We feel Premier League clubs have turned the corner, and are entering a new era of sustained profitability. Clubs are now attractive propositions to investors, and not merely as vanity projects.\" He said increased profitability meant that top flight English clubs could compete with overseas teams in order to buy up the best players in the world, and still have money left in reserve. From 2016-17 clubs will receive even more cash from broadcasters, with Sky and BT Sport paying a record £5.136bn (up from £3.018bn in 2013-16) for live Premier League TV rights for three seasons. \"When the enhanced new broadcast deals commence in the 2016-17 season, operating profits could rise as high as £1bn,\" Mr Jones said. He also said that it was encouraging to see that much of this new-found TV wealth was being spent by clubs not only on players, but also on improving stadia and infrastructure. \"The pace of football's financial growth in two and a half decades is staggering,\" said Mr Jones, referring to the foundation of the Premier League in 1992. \"By half-time of the second televised Premier League game next year, more broadcast revenue will have been generated than during the whole of the First Division season 25 years ago.\" He added: \"The impact of the Premier League's broadcast deal is clear to see. For the first time, the Premier League leads the football world in all three key revenue categories - commercial, match day and broadcast - and this is driving sustainable profitability. Although the wages/revenue ratio has increased for the Premier League clubs, Mr Jones does not see this as cause for concern. \"Wage costs grew at a faster rate than revenues in 2014-15 and as a result the division's wages/revenue ratio rose from 58% to 61%,\" he said. \"However, this represents the second lowest level since 2004-05 and is 10 percentage points lower than in 2012-13. \"In fact, in the last two years, only 30% of revenue increases have been consumed by wage growth, whereas in the five years to 2012-13 this figure was 99%.\" Premier League highlights 2014-15 The 92 clubs in the English Premier League and Football League generated more than £4bn in revenues for the first time in 2014-15, a new record. Meanwhile,  the UK government's tax take from the top 92 professional football clubs in 2014-15 was roughly £1.5bn, up from £1.4bn the previous season. Deloitte's review of football finance also found that combined revenue for the \"big five\" European leagues (England, Germany, Spain, Italy, and France) rose 6% to a record €12bn (£9.2bn) in 2014-15. While the Premier League, Bundesliga and Spain's La Liga were profitable, Italy's Serie A and France's Ligue 1 generated combined operating losses. In England's second tier, the Championship, combined revenues grew 12% to £548m in 2014-15, exceeding £500m for the first time. \"Wage costs rose by 4% to £541m which, despite a reduction in the wages/revenue ratio from 106% in 2013-14 to 99%, means clubs spent almost as much on wages as they generated in revenue,\" said Deloitte. \"This remains an unsustainable level of spending without the support of owner funding. This resulted in operating losses of £225m and a combined pre-tax loss of £191m.\" In Scotland, Celtic's failure to qualify for the group stages of the Champions League contributed to a fall in Premiership clubs' aggregate revenues of 9%, or some £13m. However, the Glasgow club still accounted for 50% of all revenues in the division, as they lifted the title for a fourth successive year. Deloitte said a new deal to market the international (non EEA - European Economic Area) TV rights  meant Scottish football was now being shown in more than 100 countries.</td>\n",
       "      <td>36412394</td>\n",
       "      <td>[0, 243, 161, 5, 595, 1012, 2656, 794, 2275, 815, 4207, 5368, 984, 246, 4, 246, 6316, 638, 3883, 11, 777, 12, 996, 6, 62, 30, 155, 2153, 3107, 2524, 4207, 67, 2673, 10, 200, 1359, 76, 9, 1198, 12, 11755, 4632, 11, 777, 12, 996, 6, 13, 5, 78, 86, 187, 6193, 4, 590, 55, 11874, 1012, 2656, 31, 336, 6, 3011, 139, 13537, 161, 4207, 32, 22, 3690, 23, 23, 513, 130, 55, 107, 9, 380, 434, 845, 21208, 7968, 63, 564, 212, 7453, 5872, 9, 3910, 4090, 6, 2503, 1454, 31, 5, 265, 16394, 18, 5413, 2090, ...]</td>\n",
       "      <td>[0, 41084, 7913, 352, 739, 1012, 2656, 32, 1903, 2370, 2275, 815, 4207, 7, 2914, 22, 102, 92, 3567, 9, 5232, 613, 819, 1297, 309, 7, 3011, 139, 13537, 4, 2]</td>\n",
       "      <td>Increasingly large TV deals are helping English Premier League clubs to enter \"a new era of sustained financial performance\", according to Deloitte.</td>\n",
       "    </tr>\n",
       "    <tr>\n",
       "      <th>4</th>\n",
       "      <td>[1, 1, 1, 1, 1, 1, 1, 1, 1, 1, 1, 1, 1, 1, 1, 1, 1, 1, 1, 1, 1, 1, 1, 1, 1, 1, 1, 1, 1, 1, 1, 1, 1, 1, 1, 1, 1, 1, 1, 1, 1, 1, 1, 1, 1, 1, 1, 1, 1, 1, 1, 1, 1, 1, 1, 1, 1, 1, 1, 1, 1, 1, 1, 1, 1, 1, 1, 1, 1, 1, 1, 1, 1, 1, 1, 1, 1, 1, 1, 1, 1, 1, 1, 1, 1, 1, 1, 1, 1, 1, 1, 1, 1, 1, 1, 1, 1, 1, 1, 1, ...]</td>\n",
       "      <td>Media playback is not supported on this device Ellis and Langridge beat the world number five pair 21-18 19-21 21-10. The pair performed above their world ranking of 22nd to reach Tuesday's semi-final, losing to fourth seeds Fu Haifeng and Zhang Nan of China. Langridge said: \"When we got to 14-7 in the last game, I thought: 'We might win this! We are going to win this!'\" He added: \"Luckily Marcus was quite calm, which helped a lot.\" In a dramatic finale, a review on the final point was required to seal the victory. \"I can't even describe how I felt after we saw that,\" said Ellis. \"This is an incredible feeling. After how we performed in our very first match, we knew we could compete with anybody.\" Team GB have now won 52 medals in Rio. Olympic silver medallist Gail Emms immediately tweeted her congratulations to the pair. Find out how to get into badminton with our special guide. Subscribe to the BBC Sport newsletter to get our pick of news, features and video sent to your inbox.</td>\n",
       "      <td>36690916</td>\n",
       "      <td>[0, 18801, 20083, 16, 45, 2800, 15, 42, 2187, 10503, 8, 7883, 8614, 1451, 5, 232, 346, 292, 1763, 733, 12, 1366, 753, 12, 2146, 733, 12, 698, 4, 20, 1763, 3744, 1065, 49, 232, 7141, 9, 820, 1187, 7, 1338, 294, 18, 4126, 12, 6156, 6, 2086, 7, 887, 9775, 13890, 4936, 1594, 3314, 8, 16087, 13690, 9, 436, 4, 7883, 8614, 26, 35, 22, 1779, 52, 300, 7, 501, 12, 406, 11, 5, 94, 177, 6, 38, 802, 35, 128, 170, 429, 339, 42, 328, 166, 32, 164, 7, 339, 42, 35347, 91, 355, 35, 22, 42498, 7380, ...]</td>\n",
       "      <td>[0, 23952, 10503, 8, 1573, 7883, 8614, 351, 2860, 1444, 18, 78, 3336, 1099, 119, 10528, 604, 18, 8862, 5279, 6, 4108, 436, 18, 3523, 27080, 8, 732, 1439, 163, 17530, 7, 185, 9768, 4, 2]</td>\n",
       "      <td>Marcus Ellis and Chris Langridge won Great Britain's first Olympic badminton men's doubles medal, beating China's Hong Wei and Chai Biao to take bronze.</td>\n",
       "    </tr>\n",
       "  </tbody>\n",
       "</table>"
      ],
      "text/plain": [
       "<IPython.core.display.HTML object>"
      ]
     },
     "metadata": {},
     "output_type": "display_data"
    }
   ],
   "source": [
    "display_function(tokenized_xsum['test'])"
   ]
  },
  {
   "cell_type": "markdown",
   "metadata": {},
   "source": [
    "# "
   ]
  },
  {
   "cell_type": "code",
   "execution_count": 19,
   "metadata": {},
   "outputs": [],
   "source": [
    "# def bartSummary(row):\n",
    "#     # has to return a dictionary where key is name of column and key is value you want in that row\n",
    "#     tokenizer.convert_ids_to_tokens(tokenized_xsum[\"input_ids\"])\n",
    "#     return {\"bartSummary\": \"hello!\"}"
   ]
  },
  {
   "cell_type": "code",
   "execution_count": 20,
   "metadata": {},
   "outputs": [
    {
     "data": {
      "text/plain": [
       "{'attention_mask': Sequence(feature=Value(dtype='int8', id=None), length=-1, id=None),\n",
       " 'document': Value(dtype='string', id=None),\n",
       " 'id': Value(dtype='string', id=None),\n",
       " 'input_ids': Sequence(feature=Value(dtype='int32', id=None), length=-1, id=None),\n",
       " 'labels': Sequence(feature=Value(dtype='int64', id=None), length=-1, id=None),\n",
       " 'summary': Value(dtype='string', id=None)}"
      ]
     },
     "execution_count": 20,
     "metadata": {},
     "output_type": "execute_result"
    }
   ],
   "source": [
    "tokenized_xsum['test'].features"
   ]
  },
  {
   "cell_type": "code",
   "execution_count": 21,
   "metadata": {},
   "outputs": [],
   "source": [
    "article1 = tokenized_xsum['test']['input_ids'][0]\n",
    "article2 = tokenized_xsum['test']['input_ids'][1]\n",
    "article3 = tokenized_xsum['test']['input_ids'][2]\n",
    "article4 = tokenized_xsum['test']['input_ids'][3]\n",
    "article5 = tokenized_xsum['test']['input_ids'][4]\n",
    "article6 = tokenized_xsum['test']['input_ids'][5]\n",
    "article7 = tokenized_xsum['test']['input_ids'][7]\n",
    "article8 = tokenized_xsum['test']['input_ids'][8]\n",
    "article9 = tokenized_xsum['test']['input_ids'][9]\n",
    "article10 = tokenized_xsum['test']['input_ids'][10]\n"
   ]
  },
  {
   "cell_type": "code",
   "execution_count": 22,
   "metadata": {},
   "outputs": [
    {
     "data": {
      "text/plain": [
       "tensor([    0, 21077,  4060,  ...,     1,     1,     1])"
      ]
     },
     "execution_count": 22,
     "metadata": {},
     "output_type": "execute_result"
    }
   ],
   "source": [
    "import torch\n",
    "input = torch.tensor(article1)\n",
    "input"
   ]
  },
  {
   "cell_type": "code",
   "execution_count": 23,
   "metadata": {},
   "outputs": [
    {
     "name": "stdout",
     "output_type": "stream",
     "text": [
      "['<s>', 'Pr', 'ison', ' Link', ' C', 'ym', 'ru', ' had', ' 1', ',', '0', '99', ' referrals', ' in', ' 2015', '-', '16', ' and', ' said', ' some', ' ex', '-', 'off', 'enders', ' were', ' living', ' rough', ' for', ' up', ' to', ' a', ' year', ' before', ' finding', ' suitable', ' accommodation', '.', ' Workers', ' at', ' the', ' charity', ' claim', ' investment', ' in', ' housing', ' would', ' be', ' cheaper', ' than', ' jail', 'ing', ' homeless', ' repeat', ' offenders', '.', ' The', ' Welsh', ' Government', ' said', ' more', ' people', ' than', ' ever', ' were', ' getting', ' help', ' to', ' address', ' housing', ' problems', '.', ' Changes', ' to', ' the', ' Housing', ' Act', ' in', ' Wales', ',', ' introduced', ' in', ' 2015', ',', ' removed', ' the', ' right', ' for', ' prison', ' le', 'avers', ' to', ' be', ' given', ' priority', ' for', ' accommodation', '.', ' Prison', ' Link', ' C', 'ym', 'ru', ',', ' which', ' helps', ' people', ' find', ' accommodation', ' after', ' their', ' release', ',', ' said', ' things', ' were', ' generally', ' good', ' for', ' women', ' because', ' issues', ' such', ' as', ' children', ' or', ' domestic', ' violence', ' were', ' now', ' considered', '.', ' However', ',', ' the', ' same', ' could', ' not', ' be', ' said', ' for', ' men', ',', ' the', ' charity', ' said', ',', ' because', ' issues', ' which', ' often', ' affect', ' them', ',', ' such', ' as', ' post', ' traumatic', ' stress', ' disorder', ' or', ' drug', ' dependency', ',', ' were', ' often', ' viewed', ' as', ' less', ' of', ' a', ' priority', '.', ' Andrew', ' Stevens', ',', ' who', ' works', ' in', ' Welsh', ' prisons', ' trying', ' to', ' secure', ' housing', ' for', ' prison', ' le', 'avers', ',', ' said', ' the', ' need', ' for', ' accommodation', ' was', ' \"', 'ch', 'ronic', '\".', ' \"', 'There', \"'s\", ' a', ' desperate', ' need', ' for', ' it', ',', ' finding', ' suitable', ' accommodation', ' for', ' those', ' leaving', ' prison', ' there', ' is', ' just', ' a', ' lack', ' of', ' it', ' everywhere', ',\"', ' he', ' said', '.', ' \"', 'It', ' could', ' take', ' six', ' months', ' to', ' a', ' year', ',', ' without', ' a', ' lot', ' of', ' help', ' they', ' could', ' be', ' on', ' the', ' streets', ' for', ' six', ' months', '.', ' \"', 'When', ' you', ' think', ' of', ' the', ' consequences', ' of', ' either', ' being', ' on', ' the', ' street', ',', ' especially', ' with', ' the', ' cold', ' weather', ' at', ' the', ' moment', ' or', ' you', ' may', ' have', ' a', ' roof', ' over', ' your', ' head', ',', ' sometimes', ' there', ' is', ' only', ' one', ' choice', '.\"', ' Mr', ' Stevens', ' believes', ' building', ' more', ' one', '-', 'bedroom', ' flats', ' could', ' help', ' ease', ' the', ' problem', '.', ' \"', 'The', ' average', ' price', ' is', ' a', ' hundred', ' pounds', ' a', ' week', ' to', ' keep', ' someone', ' in', ' a', ' rented', ' flat', ',', ' prison', ' is', ' a', ' lot', ' more', ' than', ' that', ' so', ' I', ' would', ' imagine', ' it', ' would', ' save', ' the', ' public', ' purse', ' quite', ' a', ' few', ' pounds', ',\"', ' he', ' said', '.', ' Official', ' figures', ' show', ' 8', '30', ' one', '-', 'bedroom', ' properties', ' were', ' built', ' in', ' the', ' year', ' to', ' March', ' 2016', ',', ' of', ' an', ' overall', ' total', ' of', ' 6', ',', '900', ' new', ' properties', ' in', ' Wales', '.', ' Marc', ',', ' 50', ',', ' who', ' has', ' been', ' in', ' and', ' out', ' of', ' prison', ' for', ' the', ' past', ' 20', ' years', ' for', ' burglary', ' offences', ',', ' said', ' he', ' struggled', ' to', ' find', ' accommodation', ' each', ' time', ' he', ' was', ' released', '.', ' He', ' said', ' he', ' would', ' ask', ' himself', ':', ' \"', 'Where', ' am', ' I', ' going', ' to', ' stay', '?', ' Where', ' am', ' I', ' going', ' to', ' live', '?', ' Have', ' I', ' got', ' somewhere', ' where', ' I', ' can', ' see', ' my', ' daughter', '.\"', ' \"', 'You', \"'re\", ' put', ' out', ' among', ' the', ' same', ' sort', ' of', ' people', ' doing', ' the', ' same', ' sort', ' of', ' thing', ',', ' and', ' it', \"'s\", ' difficult', ',', ' it', \"'s\", ' difficult', ' to', ' get', ' away', ' from', ' it', '.', ' It', \"'s\", ' like', ' every', ' man', ' for', ' himself', ',', ' there', \"'s\", ' nothing', '.\"', ' Marc', ' has', ' now', ' found', ' stable', ' accommodation', ' with', ' homeless', ' charity', ' Emma', 'us', ' and', ' said', ' it', ' had', ' been', ' life', ' changing', '.', ' \"', 'You', ' feel', ' safe', ',', ' you', ' got', ' hot', ' food', ',', ' you', \"'ve\", ' got', ' company', ' of', ' people', ' in', ' similar', ' situations', ' to', ' yourself', ' but', ' all', ' dealing', ' with', ' different', ' issues', '.', ' It', \"'s\", ' a', ' constructive', ',', ' helpful', ' atmosphere', ',\"', ' he', ' said', '.', ' Tom', ' Clarke', ',', ' chief', ' executive', ' of', ' Emma', 'us', ' South', ' Wales', ',', ' agreed', ' there', ' was', ' not', ' enough', ' support', ' available', '.', ' \"', 'We', ' do', ' still', ' see', ' [', 'people', ']', ' homeless', ' on', ' the', ' streets', ',', ' so', ' clearly', ' they', ' haven', \"'t\", ' got', ' accommodation', ' and', ' haven', \"'t\", ' got', ' provision', ',\"', ' he', ' said', '.', ' \"', 'I', ' think', ' the', ' key', ' is', ' connecting', ' people', ' with', ' the', ' services', ' they', ' need', '.', ' I', ' don', \"'t\", ' del', 'ude', ' myself', ' that', ' Emma', 'us', ' can', ' offer', ' a', ' one', ' size', ' fits', ' all', ' for', ' everyone', ',', ' we', ' can', \"'t\", '.', ' \"', 'But', ' there', ' must', ' be', ' other', ' opportunities', ' and', ' given', ' suitable', ' encouragement', ' I', ' believe', ' that', ' can', ' and', ' should', ' happen', '.\"', ' A', ' Welsh', ' Government', ' spokesman', ' said', ' the', ' national', ' pathway', ' for', ' homeless', ' services', ' to', ' children', ',', ' young', ' people', ' and', ' adults', ' in', ' the', ' secure', ' estate', ' had', ' prevented', ' many', ' people', ' from', ' losing', ' their', ' home', ' whilst', ' serving', ' their', ' prison', ' sentence', '.', ' It', ' added', ' there', ' were', ' already', ' significant', ' demands', ' for', ' one', '-', 'bedroom', ' flats', ' across', ' the', ' public', ' and', ' private', ' sector', ' and', ' it', ' was', ' providing', ' 20', ',', '000', ' new', ' affordable', ' homes', ' in', ' the', ' next', ' five', ' years', '.', '</s>', '<pad>', '<pad>', '<pad>', '<pad>', '<pad>', '<pad>', '<pad>', '<pad>', '<pad>', '<pad>', '<pad>', '<pad>', '<pad>', '<pad>', '<pad>', '<pad>', '<pad>', '<pad>', '<pad>', '<pad>', '<pad>', '<pad>', '<pad>', '<pad>', '<pad>', '<pad>', '<pad>', '<pad>', '<pad>', '<pad>', '<pad>', '<pad>', '<pad>', '<pad>', '<pad>', '<pad>', '<pad>', '<pad>', '<pad>', '<pad>', '<pad>', '<pad>', '<pad>', '<pad>', '<pad>', '<pad>', '<pad>', '<pad>', '<pad>', '<pad>', '<pad>', '<pad>', '<pad>', '<pad>', '<pad>', '<pad>', '<pad>', '<pad>', '<pad>', '<pad>', '<pad>', '<pad>', '<pad>', '<pad>', '<pad>', '<pad>', '<pad>', '<pad>', '<pad>', '<pad>', '<pad>', '<pad>', '<pad>', '<pad>', '<pad>', '<pad>', '<pad>', '<pad>', '<pad>', '<pad>', '<pad>', '<pad>', '<pad>', '<pad>', '<pad>', '<pad>', '<pad>', '<pad>', '<pad>', '<pad>', '<pad>', '<pad>', '<pad>', '<pad>', '<pad>', '<pad>', '<pad>', '<pad>', '<pad>', '<pad>', '<pad>', '<pad>', '<pad>', '<pad>', '<pad>', '<pad>', '<pad>', '<pad>', '<pad>', '<pad>', '<pad>', '<pad>', '<pad>', '<pad>', '<pad>', '<pad>', '<pad>', '<pad>', '<pad>', '<pad>', '<pad>', '<pad>', '<pad>', '<pad>', '<pad>', '<pad>', '<pad>', '<pad>', '<pad>', '<pad>', '<pad>', '<pad>', '<pad>', '<pad>', '<pad>', '<pad>', '<pad>', '<pad>', '<pad>', '<pad>', '<pad>', '<pad>', '<pad>', '<pad>', '<pad>', '<pad>', '<pad>', '<pad>', '<pad>', '<pad>', '<pad>', '<pad>', '<pad>', '<pad>', '<pad>', '<pad>', '<pad>', '<pad>', '<pad>', '<pad>', '<pad>', '<pad>', '<pad>', '<pad>', '<pad>', '<pad>', '<pad>', '<pad>', '<pad>', '<pad>', '<pad>', '<pad>', '<pad>', '<pad>', '<pad>', '<pad>', '<pad>', '<pad>', '<pad>', '<pad>', '<pad>', '<pad>', '<pad>', '<pad>', '<pad>', '<pad>', '<pad>', '<pad>', '<pad>', '<pad>', '<pad>', '<pad>', '<pad>', '<pad>', '<pad>', '<pad>', '<pad>', '<pad>', '<pad>', '<pad>', '<pad>', '<pad>', '<pad>', '<pad>', '<pad>', '<pad>', '<pad>', '<pad>', '<pad>', '<pad>', '<pad>', '<pad>', '<pad>', '<pad>', '<pad>', '<pad>', '<pad>', '<pad>', '<pad>', '<pad>', '<pad>', '<pad>', '<pad>', '<pad>', '<pad>', '<pad>', '<pad>', '<pad>', '<pad>', '<pad>', '<pad>', '<pad>', '<pad>', '<pad>', '<pad>', '<pad>', '<pad>', '<pad>', '<pad>', '<pad>', '<pad>', '<pad>', '<pad>', '<pad>', '<pad>', '<pad>', '<pad>', '<pad>', '<pad>', '<pad>', '<pad>', '<pad>', '<pad>', '<pad>', '<pad>', '<pad>', '<pad>', '<pad>', '<pad>', '<pad>', '<pad>', '<pad>', '<pad>', '<pad>', '<pad>', '<pad>', '<pad>', '<pad>', '<pad>', '<pad>', '<pad>', '<pad>', '<pad>', '<pad>', '<pad>', '<pad>', '<pad>', '<pad>', '<pad>', '<pad>', '<pad>', '<pad>', '<pad>', '<pad>', '<pad>', '<pad>', '<pad>', '<pad>', '<pad>', '<pad>', '<pad>', '<pad>', '<pad>', '<pad>', '<pad>', '<pad>', '<pad>', '<pad>', '<pad>', '<pad>', '<pad>']\n"
     ]
    }
   ],
   "source": [
    "print([tokenizer.decode(g, skip_special_tokens=True) for g in article1])"
   ]
  },
  {
   "cell_type": "code",
   "execution_count": null,
   "metadata": {},
   "outputs": [],
   "source": []
  }
 ],
 "metadata": {
  "interpreter": {
   "hash": "0eebd8ec8ee1e3b0ea056353a4df6208bb651af5156ee9734311d083be2b2cbb"
  },
  "kernelspec": {
   "display_name": "Python 3.9.9 64-bit (windows store)",
   "language": "python",
   "name": "python3"
  },
  "language_info": {
   "codemirror_mode": {
    "name": "ipython",
    "version": 3
   },
   "file_extension": ".py",
   "mimetype": "text/x-python",
   "name": "python",
   "nbconvert_exporter": "python",
   "pygments_lexer": "ipython3",
   "version": "3.9.9"
  },
  "orig_nbformat": 4
 },
 "nbformat": 4,
 "nbformat_minor": 2
}
