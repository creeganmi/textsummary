{
 "cells": [
  {
   "cell_type": "code",
   "execution_count": 11,
   "metadata": {},
   "outputs": [],
   "source": [
    "#from transformers import pipeline"
   ]
  },
  {
   "cell_type": "code",
   "execution_count": 17,
   "metadata": {},
   "outputs": [
    {
     "name": "stderr",
     "output_type": "stream",
     "text": [
      "Downloading: 100%|██████████| 1.55k/1.55k [00:00<00:00, 2.94MB/s]\n",
      "Downloading: 100%|██████████| 1.51G/1.51G [01:16<00:00, 21.2MB/s]\n"
     ]
    }
   ],
   "source": [
    "from transformers import BartTokenizer, BartForConditionalGeneration, BartConfig\n",
    "model = BartForConditionalGeneration.from_pretrained('facebook/bart-large-cnn')"
   ]
  },
  {
   "cell_type": "code",
   "execution_count": 18,
   "metadata": {},
   "outputs": [
    {
     "name": "stderr",
     "output_type": "stream",
     "text": [
      "Downloading: 100%|██████████| 878k/878k [00:00<00:00, 9.04MB/s]\n",
      "Downloading: 100%|██████████| 446k/446k [00:00<00:00, 4.47MB/s]\n",
      "Downloading: 100%|██████████| 1.29M/1.29M [00:00<00:00, 8.59MB/s]\n"
     ]
    }
   ],
   "source": [
    "tokenizer = BartTokenizer.from_pretrained('facebook/bart-large-cnn')"
   ]
  },
  {
   "cell_type": "code",
   "execution_count": 21,
   "metadata": {},
   "outputs": [],
   "source": [
    "f = open(\"article.txt\", \"r\", encoding=\"utf8\")\n",
    "ARTICLE_TO_SUMMARIZE = f.read()"
   ]
  },
  {
   "cell_type": "code",
   "execution_count": 26,
   "metadata": {},
   "outputs": [],
   "source": [
    "inputs = tokenizer([ARTICLE_TO_SUMMARIZE], return_tensors='pt', truncation=True)"
   ]
  },
  {
   "cell_type": "code",
   "execution_count": 27,
   "metadata": {},
   "outputs": [
    {
     "data": {
      "text/plain": [
       "tensor([[    2,     0, 27004,   924,    14,  4356, 22257,   951,    17,    27,\n",
       "            29,  4358,  2496,    64,    67,   146,    47,    55, 38245,     4,\n",
       "            20,  2242,  1001,  2577,  9205,    16,   373,    44,   711,  1527,\n",
       "           257,  5580,  9807,   154,    17,    27,     8,   414,   924,    14,\n",
       "          9704,     5,  1860,    64,  2501,     5, 22081,     9,   110,  1579,\n",
       "             4,   598,  4296,  5731, 39608,  9807,   154,     6,   582,  1503,\n",
       "             7,   141,    82,  1394,    49,  1142,     6,     8, 14095,    99,\n",
       "          3745,     9, 16288,    51,   465,    55,    50,   540,  9669,     4,\n",
       "             2]])"
      ]
     },
     "execution_count": 27,
     "metadata": {},
     "output_type": "execute_result"
    }
   ],
   "source": [
    "summary_ids = model.generate(inputs['input_ids'], max_length=500, early_stopping=False)\n",
    "\n",
    "summary_ids"
   ]
  },
  {
   "cell_type": "code",
   "execution_count": 28,
   "metadata": {},
   "outputs": [
    {
     "name": "stdout",
     "output_type": "stream",
     "text": [
      "['Research shows that imitating someone’s communication style can also make you more persuasive. The parroting technique is called ‘linguistic mirroring’ and data shows that implementing the strategy can boost the efficacy of your message. To effectively implement linguistic mirroring, pay attention to how people ask their questions, and observe what pieces of presentations they find more or less compelling.']\n"
     ]
    }
   ],
   "source": [
    "print([tokenizer.decode(g, skip_special_tokens=True) for g in summary_ids])"
   ]
  },
  {
   "cell_type": "code",
   "execution_count": null,
   "metadata": {},
   "outputs": [],
   "source": []
  }
 ],
 "metadata": {
  "interpreter": {
   "hash": "0eebd8ec8ee1e3b0ea056353a4df6208bb651af5156ee9734311d083be2b2cbb"
  },
  "kernelspec": {
   "display_name": "Python 3.9.9 64-bit (windows store)",
   "language": "python",
   "name": "python3"
  },
  "language_info": {
   "codemirror_mode": {
    "name": "ipython",
    "version": 3
   },
   "file_extension": ".py",
   "mimetype": "text/x-python",
   "name": "python",
   "nbconvert_exporter": "python",
   "pygments_lexer": "ipython3",
   "version": "3.9.9"
  },
  "orig_nbformat": 4
 },
 "nbformat": 4,
 "nbformat_minor": 2
}
